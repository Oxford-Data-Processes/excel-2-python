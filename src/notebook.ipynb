{
 "cells": [
  {
   "cell_type": "code",
   "execution_count": 1,
   "metadata": {},
   "outputs": [],
   "source": [
    "import os\n",
    "\n",
    "from series_extraction.excel_loader import ExcelLoader\n",
    "from series_extraction.excel_cleaner import ExcelCleaner\n",
    "from series_extraction.table_extractor import TableExtractor\n",
    "from series_extraction.series_extractor import SeriesExtractor\n",
    "from series_extraction.excel_compatibility_checker import ExcelCompatibilityChecker\n",
    "from series_extraction.series_iterator import SeriesIterator\n",
    "from series_extraction.series_mapper import SeriesMapper\n",
    "from series_extraction.excel_validator import ExcelValidator\n",
    "\n",
    "from ast_transformation.formula_generator import FormulaGenerator\n",
    "\n",
    "from ast_building.formula_parser import FormulaParser\n",
    "\n",
    "from excel_builder import ExcelBuilder\n"
   ]
  },
  {
   "cell_type": "code",
   "execution_count": 2,
   "metadata": {},
   "outputs": [],
   "source": [
    "data_directory = \"/Users/chrislittle/GitHub/speedsheet/excel-2-python/data\"\n",
    "\n",
    "project_name = 'test_excel_2'\n",
    "\n",
    "excel_raw_file_path = os.path.join(data_directory, \"excel_files_raw\", f\"{project_name}_raw.xlsx\")\n",
    "excel_reduced_filepath = os.path.join(data_directory, \"excel_files_reduced\", f\"{project_name}_reduced.xlsx\")\n",
    "excel_reduced_clean_filepath = os.path.join(data_directory, \"excel_files_reduced_clean\", f\"{project_name}_reduced_clean.xlsx\")\n",
    "excel_raw_clean_filepath = os.path.join(data_directory, \"excel_files_raw_clean\", f\"{project_name}_raw_clean.xlsx\")\n",
    "excel_reduced_clean_series_filepath = os.path.join(data_directory, \"excel_files_reduced_clean_series\", f\"{project_name}_reduced_clean_series.xlsx\")\n",
    "excel_reduced_clean_series_python_filepath = os.path.join(data_directory, \"excel_files_reduced_clean_series_python\", f\"{project_name}_reduced_clean_series_python.xlsx\")\n",
    "excel_raw_clean_series_python_filepath = os.path.join(data_directory, \"excel_files_raw_clean_series_python\", f\"{project_name}_raw_clean_series_python.xlsx\")"
   ]
  },
  {
   "cell_type": "code",
   "execution_count": 3,
   "metadata": {},
   "outputs": [
    {
     "name": "stdout",
     "output_type": "stream",
     "text": [
      "formula_1: =A2\n",
      "formula_2: =A3\n",
      "generic_formula: {0: (0, 1, 0, 1)}\n",
      "formula_1: =H2-(H2/1.2)\n",
      "formula_2: =H3-(H3/1.2)\n",
      "generic_formula: {0: (0, 1, 0, 1), 3: (0, 1, 0, 1)}\n",
      "formula_1: =-SUMIF(cleaning!A:A,F2,cleaning!F:F)\n",
      "formula_2: =-SUMIF(cleaning!A:A,F3,cleaning!F:F)\n",
      "generic_formula: {3: (0, 0, 0, 0), 5: (0, 1, 0, 1), 7: (0, 0, 0, 0)}\n",
      "formula_1: =A2\n",
      "formula_2: =A3\n",
      "generic_formula: {0: (0, 1, 0, 1)}\n",
      "formula_1: =-SUMIF(parking!A:A,C2,parking!C:C)\n",
      "formula_2: =-SUMIF(parking!A:A,C3,parking!C:C)\n",
      "generic_formula: {3: (0, 0, 0, 0), 5: (0, 1, 0, 1), 7: (0, 0, 0, 0)}\n",
      "formula_1: =CONCATENATE(summary!A2,\" Parking Recharge\")\n",
      "formula_2: =CONCATENATE(summary!A3,\" Parking Recharge\")\n",
      "generic_formula: {2: (0, 1, 0, 1)}\n",
      "formula_1: =-ROUND(summary!D2*1.2,2)\n",
      "formula_2: =-ROUND(summary!D3*1.2,2)\n",
      "generic_formula: {3: (0, 1, 0, 1)}\n",
      "formula_1: =ROUND(D2/6,2)\n",
      "formula_2: =ROUND(D3/6,2)\n",
      "generic_formula: {2: (0, 1, 0, 1)}\n",
      "formula_1: =D2>0\n",
      "formula_2: =D3>0\n",
      "generic_formula: {0: (0, 1, 0, 1)}\n",
      "formula_1: =B2/2\n",
      "formula_2: =B3/2\n",
      "generic_formula: {0: (0, 1, 0, 1)}\n",
      "formula_1: =D2*1.2\n",
      "formula_2: =D3*1.2\n",
      "generic_formula: {0: (0, 1, 0, 1)}\n",
      "formula_1: =E2*B2\n",
      "formula_2: =E3*B3\n",
      "generic_formula: {0: (0, 1, 0, 1), 2: (0, 1, 0, 1)}\n"
     ]
    }
   ],
   "source": [
    "excel_raw= ExcelLoader.load_file(excel_raw_file_path)\n",
    "excel_reduced = ExcelLoader.load_file(excel_reduced_filepath)\n",
    "is_valid = ExcelValidator.validate_excel(excel_reduced)\n",
    "if not is_valid:\n",
    "    raise Exception(\"Excel file is not valid\")\n",
    "\n",
    "excel_reduced_clean = ExcelCleaner.clean_excel(excel_reduced)\n",
    "excel_raw_clean = ExcelCleaner.clean_excel(excel_raw)\n",
    "ExcelBuilder.create_excel_from_workbook(excel_reduced_clean.workbook_with_formulas, excel_reduced_clean_filepath)\n",
    "ExcelBuilder.create_excel_from_workbook(excel_raw_clean.workbook_with_formulas,  excel_raw_clean_filepath)\n",
    "\n",
    "extracted_tables, workbook_data = TableExtractor.extract_tables(excel_reduced_clean)\n",
    "is_compatible = ExcelCompatibilityChecker.check_file(excel_raw, excel_reduced, extracted_tables)\n",
    "if not is_compatible:\n",
    "    raise Exception(\"Excel file is not compatible\")\n",
    "\n",
    "series_dict = SeriesExtractor.extract_series(extracted_tables=extracted_tables, workbook_data=workbook_data)\n",
    "series_mapping = SeriesMapper.map_series(series_dict)\n",
    "series_iterator = SeriesIterator.iterate_series(series_dict)\n",
    "\n",
    "series_list = [series for series in series_iterator]\n",
    "\n",
    "series_list_with_formulas = [\n",
    "    series for series in series_list if series.formulas != [None, None]\n",
    "]\n",
    "series_list_with_values = [\n",
    "    series for series in series_list if series.formulas == [None, None]\n",
    "]\n",
    "\n",
    "generic_formula_dictionary = {}\n",
    "\n",
    "for series in series_list_with_formulas:\n",
    "    formula_1, formula_2 = series.formulas\n",
    "    \n",
    "    if formula_1 is not None and formula_2 is not None:\n",
    "\n",
    "        print(f\"formula_1: {formula_1}\")\n",
    "        print(f\"formula_2: {formula_2}\")\n",
    "\n",
    "        formula_1_ast = FormulaParser.parse_formula(formula_1)\n",
    "        formula_2_ast = FormulaParser.parse_formula(formula_2)\n",
    "\n",
    "        generic_formula = FormulaGenerator.generate_generic_formula(formula_1_ast[0], formula_2_ast[0])\n",
    "\n",
    "        print(f\"generic_formula: {generic_formula}\")\n",
    "\n",
    "        generic_formula_dictionary[series.series_id] = generic_formula"
   ]
  },
  {
   "cell_type": "code",
   "execution_count": 4,
   "metadata": {},
   "outputs": [
    {
     "data": {
      "text/plain": [
       "{SeriesId(sheet_name='summary', series_header='Vehicle Reg', series_header_cell_row=1, series_header_cell_column=6): {0: (0,\n",
       "   1,\n",
       "   0,\n",
       "   1)},\n",
       " SeriesId(sheet_name='summary', series_header='VAT', series_header_cell_row=1, series_header_cell_column=7): {0: (0,\n",
       "   1,\n",
       "   0,\n",
       "   1),\n",
       "  3: (0, 1, 0, 1)},\n",
       " SeriesId(sheet_name='summary', series_header='TGB Cost (Inc VAT) ', series_header_cell_row=1, series_header_cell_column=8): {3: (0,\n",
       "   0,\n",
       "   0,\n",
       "   0),\n",
       "  5: (0, 1, 0, 1),\n",
       "  7: (0, 0, 0, 0)},\n",
       " SeriesId(sheet_name='summary', series_header='Vehicle Reg', series_header_cell_row=1, series_header_cell_column=3): {0: (0,\n",
       "   1,\n",
       "   0,\n",
       "   1)},\n",
       " SeriesId(sheet_name='summary', series_header='TGB Cost (No VAT) ', series_header_cell_row=1, series_header_cell_column=4): {3: (0,\n",
       "   0,\n",
       "   0,\n",
       "   0),\n",
       "  5: (0, 1, 0, 1),\n",
       "  7: (0, 0, 0, 0)},\n",
       " SeriesId(sheet_name='xero', series_header='Description', series_header_cell_row=1, series_header_cell_column=2): {2: (0,\n",
       "   1,\n",
       "   0,\n",
       "   1)},\n",
       " SeriesId(sheet_name='xero', series_header='UnitAmount', series_header_cell_row=1, series_header_cell_column=4): {3: (0,\n",
       "   1,\n",
       "   0,\n",
       "   1)},\n",
       " SeriesId(sheet_name='xero', series_header='TaxAmount', series_header_cell_row=1, series_header_cell_column=5): {2: (0,\n",
       "   1,\n",
       "   0,\n",
       "   1)},\n",
       " SeriesId(sheet_name='xero', series_header='Invoice', series_header_cell_row=1, series_header_cell_column=7): {0: (0,\n",
       "   1,\n",
       "   0,\n",
       "   1)},\n",
       " SeriesId(sheet_name='parking', series_header='TGB parking cost', series_header_cell_row=1, series_header_cell_column=3): {0: (0,\n",
       "   1,\n",
       "   0,\n",
       "   1)},\n",
       " SeriesId(sheet_name='cleaning', series_header='Total Cost (inc VAT)', series_header_cell_row=1, series_header_cell_column=5): {0: (0,\n",
       "   1,\n",
       "   0,\n",
       "   1)},\n",
       " SeriesId(sheet_name='cleaning', series_header='TGB Cost (Inc VAT)', series_header_cell_row=1, series_header_cell_column=6): {0: (0,\n",
       "   1,\n",
       "   0,\n",
       "   1),\n",
       "  2: (0, 1, 0, 1)}}"
      ]
     },
     "execution_count": 4,
     "metadata": {},
     "output_type": "execute_result"
    }
   ],
   "source": [
    "generic_formula_dictionary"
   ]
  },
  {
   "cell_type": "code",
   "execution_count": 5,
   "metadata": {},
   "outputs": [
    {
     "data": {
      "text/plain": [
       "([E2 <Range>, * <Operator>, B2 <Range>],\n",
       " <formulas.builder.AstBuilder at 0x145f5a290>)"
      ]
     },
     "execution_count": 5,
     "metadata": {},
     "output_type": "execute_result"
    }
   ],
   "source": [
    "formula_1_ast"
   ]
  },
  {
   "cell_type": "code",
   "execution_count": 6,
   "metadata": {},
   "outputs": [],
   "source": [
    "series_values_dict = {str(series.series_id): series.values for series in series_list}"
   ]
  },
  {
   "cell_type": "code",
   "execution_count": null,
   "metadata": {},
   "outputs": [],
   "source": []
  }
 ],
 "metadata": {
  "kernelspec": {
   "display_name": "venv",
   "language": "python",
   "name": "python3"
  },
  "language_info": {
   "codemirror_mode": {
    "name": "ipython",
    "version": 3
   },
   "file_extension": ".py",
   "mimetype": "text/x-python",
   "name": "python",
   "nbconvert_exporter": "python",
   "pygments_lexer": "ipython3",
   "version": "3.11.5"
  }
 },
 "nbformat": 4,
 "nbformat_minor": 2
}
