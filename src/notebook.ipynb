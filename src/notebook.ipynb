{
 "cells": [
  {
   "cell_type": "code",
   "execution_count": 1,
   "metadata": {},
   "outputs": [],
   "source": [
    "import os\n",
    "import xlcalculator\n",
    "\n",
    "\n",
    "from series_extraction.excel_loader import ExcelLoader\n",
    "from series_extraction.excel_validator import ExcelValidator\n",
    "from series_extraction.excel_cleaner import ExcelCleaner\n",
    "from series_extraction.table_finder import TableFinder\n",
    "from series_extraction.series_extractor import SeriesExtractor\n",
    "from series_extraction.excel_compatibility_checker import ExcelCompatibilityChecker\n",
    "from series_extraction.series_iterator import SeriesIterator\n",
    "from series_extraction.series_mapper import SeriesMapper\n",
    "\n",
    "from ast_building.formula_parser import FormulaParser\n"
   ]
  },
  {
   "cell_type": "code",
   "execution_count": 2,
   "metadata": {},
   "outputs": [],
   "source": [
    "current_directory = os.getcwd()\n",
    "\n",
    "parent_directory = os.path.abspath(os.path.join(current_directory, os.pardir))\n",
    "data_directory = os.path.join(parent_directory, 'data')\n",
    "\n",
    "project_name = 'test_excel_8'\n",
    "\n",
    "excel_raw_file_path = os.path.join(data_directory, \"excel_files_raw\", f\"{project_name}_raw.xlsx\")\n",
    "excel_reduced_filepath = os.path.join(data_directory, \"excel_files_reduced\", f\"{project_name}_reduced.xlsx\")"
   ]
  },
  {
   "cell_type": "code",
   "execution_count": 3,
   "metadata": {},
   "outputs": [],
   "source": [
    "excel_raw= ExcelLoader.load_file(excel_raw_file_path)\n",
    "excel_reduced = ExcelLoader.load_file(excel_reduced_filepath)"
   ]
  },
  {
   "cell_type": "code",
   "execution_count": 4,
   "metadata": {},
   "outputs": [],
   "source": [
    "is_valid = ExcelValidator.validate_excel(excel_reduced)"
   ]
  },
  {
   "cell_type": "code",
   "execution_count": 5,
   "metadata": {},
   "outputs": [],
   "source": [
    "if not is_valid:\n",
    "    raise Exception(\"Excel file is not valid\")"
   ]
  },
  {
   "cell_type": "code",
   "execution_count": 6,
   "metadata": {},
   "outputs": [],
   "source": [
    "excel_reduced_clean = ExcelCleaner.clean_excel(excel_reduced)"
   ]
  },
  {
   "cell_type": "code",
   "execution_count": 7,
   "metadata": {},
   "outputs": [],
   "source": [
    "extracted_tables, data = TableFinder.find_tables(excel_reduced_clean)"
   ]
  },
  {
   "cell_type": "code",
   "execution_count": 8,
   "metadata": {},
   "outputs": [],
   "source": [
    "series_data = SeriesExtractor.extract_table_details(extracted_tables, data)"
   ]
  },
  {
   "cell_type": "code",
   "execution_count": 9,
   "metadata": {},
   "outputs": [],
   "source": [
    "is_compatible = ExcelCompatibilityChecker.check_file(excel_raw, excel_reduced, extracted_tables)"
   ]
  },
  {
   "cell_type": "code",
   "execution_count": 10,
   "metadata": {},
   "outputs": [],
   "source": [
    "if not is_compatible:\n",
    "    raise Exception(\"Excel file is not compatible\")"
   ]
  },
  {
   "cell_type": "code",
   "execution_count": 11,
   "metadata": {},
   "outputs": [],
   "source": [
    "series_dict = SeriesExtractor.extract_series(extracted_tables=extracted_tables, data=data)"
   ]
  },
  {
   "cell_type": "code",
   "execution_count": 12,
   "metadata": {},
   "outputs": [],
   "source": [
    "series_iterator = SeriesIterator.iterate_series(series_dict)"
   ]
  },
  {
   "cell_type": "code",
   "execution_count": 13,
   "metadata": {},
   "outputs": [],
   "source": [
    "series = None\n",
    "for item in series_iterator:\n",
    "    if item.formulas != [None, None]:\n",
    "        series = item\n",
    "        break\n"
   ]
  },
  {
   "cell_type": "code",
   "execution_count": 14,
   "metadata": {},
   "outputs": [
    {
     "data": {
      "text/plain": [
       "Series(series_id=UUID('65bac496-d906-409f-aa93-9b6ca3a6685b'), worksheet=Worksheet(sheet_name='Sheet1', workbook_file_path=None, worksheet=None), series_header='Index_Match_Size', formulas=['=INDEX(B:B,MATCH(A2,A:A,0))', '=INDEX(B:B,MATCH(A3,A:A,0))'], values=['male', 'female'], header_location=<HeaderLocation.TOP: 'top'>, series_starting_cell=Cell(column=13, row=2, coordinate='M2', value=None, value_type=None), series_length=2, series_data_type=<SeriesDataType.STR: 'str'>)"
      ]
     },
     "execution_count": 14,
     "metadata": {},
     "output_type": "execute_result"
    }
   ],
   "source": [
    "series"
   ]
  },
  {
   "cell_type": "code",
   "execution_count": 15,
   "metadata": {},
   "outputs": [],
   "source": [
    "series_mapping = SeriesMapper.map_series(series_dict)"
   ]
  },
  {
   "cell_type": "code",
   "execution_count": 16,
   "metadata": {},
   "outputs": [],
   "source": [
    "formula_1 = \"=SUM(A2:A4)+AVERAGE(A7:A8)\"\n",
    "formula_1_ast = FormulaParser.parse_formula(formula_1)\n",
    "\n"
   ]
  },
  {
   "cell_type": "code",
   "execution_count": 17,
   "metadata": {},
   "outputs": [],
   "source": [
    "from formula_visualiser import FormulaVisualiser\n",
    "\n",
    "visualizer = FormulaVisualiser()\n",
    "ast_graph = visualizer.visualise(formula_1_ast)\n",
    "file_name = ast_graph.render('formula_1_ast')\n"
   ]
  },
  {
   "cell_type": "code",
   "execution_count": 18,
   "metadata": {},
   "outputs": [
    {
     "data": {
      "text/plain": [
       "{Worksheet(sheet_name='Sheet1', workbook_file_path=None, worksheet=None): {Cell(column=1, row=2, coordinate=None, value=None, value_type=None): (0,\n",
       "   Series(series_id=UUID('ba71f99e-d91f-469b-b5c8-cef131015288'), worksheet=Worksheet(sheet_name='Sheet1', workbook_file_path=None, worksheet=None), series_header='age', formulas=[None, None], values=[56, 46], header_location=<HeaderLocation.TOP: 'top'>, series_starting_cell=Cell(column=1, row=2, coordinate='A2', value=None, value_type=None), series_length=2, series_data_type=<SeriesDataType.INT: 'int'>)),\n",
       "  Cell(column=1, row=3, coordinate=None, value=None, value_type=None): (1,\n",
       "   Series(series_id=UUID('ba71f99e-d91f-469b-b5c8-cef131015288'), worksheet=Worksheet(sheet_name='Sheet1', workbook_file_path=None, worksheet=None), series_header='age', formulas=[None, None], values=[56, 46], header_location=<HeaderLocation.TOP: 'top'>, series_starting_cell=Cell(column=1, row=2, coordinate='A2', value=None, value_type=None), series_length=2, series_data_type=<SeriesDataType.INT: 'int'>)),\n",
       "  Cell(column=2, row=2, coordinate=None, value=None, value_type=None): (0,\n",
       "   Series(series_id=UUID('74520194-7701-4f27-a35a-95d9ac340ebb'), worksheet=Worksheet(sheet_name='Sheet1', workbook_file_path=None, worksheet=None), series_header='gender', formulas=[None, None], values=['male', 'female'], header_location=<HeaderLocation.TOP: 'top'>, series_starting_cell=Cell(column=2, row=2, coordinate='B2', value=None, value_type=None), series_length=2, series_data_type=<SeriesDataType.STR: 'str'>)),\n",
       "  Cell(column=2, row=3, coordinate=None, value=None, value_type=None): (1,\n",
       "   Series(series_id=UUID('74520194-7701-4f27-a35a-95d9ac340ebb'), worksheet=Worksheet(sheet_name='Sheet1', workbook_file_path=None, worksheet=None), series_header='gender', formulas=[None, None], values=['male', 'female'], header_location=<HeaderLocation.TOP: 'top'>, series_starting_cell=Cell(column=2, row=2, coordinate='B2', value=None, value_type=None), series_length=2, series_data_type=<SeriesDataType.STR: 'str'>)),\n",
       "  Cell(column=3, row=2, coordinate=None, value=None, value_type=None): (0,\n",
       "   Series(series_id=UUID('20669eeb-59da-4c29-bba6-737068fa72c8'), worksheet=Worksheet(sheet_name='Sheet1', workbook_file_path=None, worksheet=None), series_header='time_spent', formulas=[None, None], values=[3, 2], header_location=<HeaderLocation.TOP: 'top'>, series_starting_cell=Cell(column=3, row=2, coordinate='C2', value=None, value_type=None), series_length=2, series_data_type=<SeriesDataType.INT: 'int'>)),\n",
       "  Cell(column=3, row=3, coordinate=None, value=None, value_type=None): (1,\n",
       "   Series(series_id=UUID('20669eeb-59da-4c29-bba6-737068fa72c8'), worksheet=Worksheet(sheet_name='Sheet1', workbook_file_path=None, worksheet=None), series_header='time_spent', formulas=[None, None], values=[3, 2], header_location=<HeaderLocation.TOP: 'top'>, series_starting_cell=Cell(column=3, row=2, coordinate='C2', value=None, value_type=None), series_length=2, series_data_type=<SeriesDataType.INT: 'int'>)),\n",
       "  Cell(column=4, row=2, coordinate=None, value=None, value_type=None): (0,\n",
       "   Series(series_id=UUID('ecae9426-31aa-44b4-8990-c0b970dc3ea5'), worksheet=Worksheet(sheet_name='Sheet1', workbook_file_path=None, worksheet=None), series_header='platform', formulas=[None, None], values=['Instagram', 'Facebook'], header_location=<HeaderLocation.TOP: 'top'>, series_starting_cell=Cell(column=4, row=2, coordinate='D2', value=None, value_type=None), series_length=2, series_data_type=<SeriesDataType.STR: 'str'>)),\n",
       "  Cell(column=4, row=3, coordinate=None, value=None, value_type=None): (1,\n",
       "   Series(series_id=UUID('ecae9426-31aa-44b4-8990-c0b970dc3ea5'), worksheet=Worksheet(sheet_name='Sheet1', workbook_file_path=None, worksheet=None), series_header='platform', formulas=[None, None], values=['Instagram', 'Facebook'], header_location=<HeaderLocation.TOP: 'top'>, series_starting_cell=Cell(column=4, row=2, coordinate='D2', value=None, value_type=None), series_length=2, series_data_type=<SeriesDataType.STR: 'str'>)),\n",
       "  Cell(column=5, row=2, coordinate=None, value=None, value_type=None): (0,\n",
       "   Series(series_id=UUID('555b1fb5-4d05-48b0-9fbd-aabed9119cad'), worksheet=Worksheet(sheet_name='Sheet1', workbook_file_path=None, worksheet=None), series_header='interests', formulas=[None, None], values=['Sports', 'Travel'], header_location=<HeaderLocation.TOP: 'top'>, series_starting_cell=Cell(column=5, row=2, coordinate='E2', value=None, value_type=None), series_length=2, series_data_type=<SeriesDataType.STR: 'str'>)),\n",
       "  Cell(column=5, row=3, coordinate=None, value=None, value_type=None): (1,\n",
       "   Series(series_id=UUID('555b1fb5-4d05-48b0-9fbd-aabed9119cad'), worksheet=Worksheet(sheet_name='Sheet1', workbook_file_path=None, worksheet=None), series_header='interests', formulas=[None, None], values=['Sports', 'Travel'], header_location=<HeaderLocation.TOP: 'top'>, series_starting_cell=Cell(column=5, row=2, coordinate='E2', value=None, value_type=None), series_length=2, series_data_type=<SeriesDataType.STR: 'str'>)),\n",
       "  Cell(column=6, row=2, coordinate=None, value=None, value_type=None): (0,\n",
       "   Series(series_id=UUID('c5db111d-f366-4d93-a210-144004aa7da7'), worksheet=Worksheet(sheet_name='Sheet1', workbook_file_path=None, worksheet=None), series_header='location', formulas=[None, None], values=['United Kingdom', 'United Kingdom'], header_location=<HeaderLocation.TOP: 'top'>, series_starting_cell=Cell(column=6, row=2, coordinate='F2', value=None, value_type=None), series_length=2, series_data_type=<SeriesDataType.STR: 'str'>)),\n",
       "  Cell(column=6, row=3, coordinate=None, value=None, value_type=None): (1,\n",
       "   Series(series_id=UUID('c5db111d-f366-4d93-a210-144004aa7da7'), worksheet=Worksheet(sheet_name='Sheet1', workbook_file_path=None, worksheet=None), series_header='location', formulas=[None, None], values=['United Kingdom', 'United Kingdom'], header_location=<HeaderLocation.TOP: 'top'>, series_starting_cell=Cell(column=6, row=2, coordinate='F2', value=None, value_type=None), series_length=2, series_data_type=<SeriesDataType.STR: 'str'>)),\n",
       "  Cell(column=7, row=2, coordinate=None, value=None, value_type=None): (0,\n",
       "   Series(series_id=UUID('6af9ea4c-2488-492c-b6b3-da0a1fc94b23'), worksheet=Worksheet(sheet_name='Sheet1', workbook_file_path=None, worksheet=None), series_header='demographics', formulas=[None, None], values=['Urban', 'Urban'], header_location=<HeaderLocation.TOP: 'top'>, series_starting_cell=Cell(column=7, row=2, coordinate='G2', value=None, value_type=None), series_length=2, series_data_type=<SeriesDataType.STR: 'str'>)),\n",
       "  Cell(column=7, row=3, coordinate=None, value=None, value_type=None): (1,\n",
       "   Series(series_id=UUID('6af9ea4c-2488-492c-b6b3-da0a1fc94b23'), worksheet=Worksheet(sheet_name='Sheet1', workbook_file_path=None, worksheet=None), series_header='demographics', formulas=[None, None], values=['Urban', 'Urban'], header_location=<HeaderLocation.TOP: 'top'>, series_starting_cell=Cell(column=7, row=2, coordinate='G2', value=None, value_type=None), series_length=2, series_data_type=<SeriesDataType.STR: 'str'>)),\n",
       "  Cell(column=8, row=2, coordinate=None, value=None, value_type=None): (0,\n",
       "   Series(series_id=UUID('55f3147f-38ae-4add-ac27-a24307068bb0'), worksheet=Worksheet(sheet_name='Sheet1', workbook_file_path=None, worksheet=None), series_header='profession', formulas=[None, None], values=['Software Engineer', 'Student'], header_location=<HeaderLocation.TOP: 'top'>, series_starting_cell=Cell(column=8, row=2, coordinate='H2', value=None, value_type=None), series_length=2, series_data_type=<SeriesDataType.STR: 'str'>)),\n",
       "  Cell(column=8, row=3, coordinate=None, value=None, value_type=None): (1,\n",
       "   Series(series_id=UUID('55f3147f-38ae-4add-ac27-a24307068bb0'), worksheet=Worksheet(sheet_name='Sheet1', workbook_file_path=None, worksheet=None), series_header='profession', formulas=[None, None], values=['Software Engineer', 'Student'], header_location=<HeaderLocation.TOP: 'top'>, series_starting_cell=Cell(column=8, row=2, coordinate='H2', value=None, value_type=None), series_length=2, series_data_type=<SeriesDataType.STR: 'str'>)),\n",
       "  Cell(column=9, row=2, coordinate=None, value=None, value_type=None): (0,\n",
       "   Series(series_id=UUID('57813163-fb54-46ae-b143-bd2938c24b73'), worksheet=Worksheet(sheet_name='Sheet1', workbook_file_path=None, worksheet=None), series_header='income', formulas=[None, None], values=[19774, 10564], header_location=<HeaderLocation.TOP: 'top'>, series_starting_cell=Cell(column=9, row=2, coordinate='I2', value=None, value_type=None), series_length=2, series_data_type=<SeriesDataType.INT: 'int'>)),\n",
       "  Cell(column=9, row=3, coordinate=None, value=None, value_type=None): (1,\n",
       "   Series(series_id=UUID('57813163-fb54-46ae-b143-bd2938c24b73'), worksheet=Worksheet(sheet_name='Sheet1', workbook_file_path=None, worksheet=None), series_header='income', formulas=[None, None], values=[19774, 10564], header_location=<HeaderLocation.TOP: 'top'>, series_starting_cell=Cell(column=9, row=2, coordinate='I2', value=None, value_type=None), series_length=2, series_data_type=<SeriesDataType.INT: 'int'>)),\n",
       "  Cell(column=10, row=2, coordinate=None, value=None, value_type=None): (0,\n",
       "   Series(series_id=UUID('6d50a9f2-9e77-41b1-80b3-26e647a60402'), worksheet=Worksheet(sheet_name='Sheet1', workbook_file_path=None, worksheet=None), series_header='indebt', formulas=[None, None], values=[True, True], header_location=<HeaderLocation.TOP: 'top'>, series_starting_cell=Cell(column=10, row=2, coordinate='J2', value=None, value_type=None), series_length=2, series_data_type=<SeriesDataType.BOOL: 'bool'>)),\n",
       "  Cell(column=10, row=3, coordinate=None, value=None, value_type=None): (1,\n",
       "   Series(series_id=UUID('6d50a9f2-9e77-41b1-80b3-26e647a60402'), worksheet=Worksheet(sheet_name='Sheet1', workbook_file_path=None, worksheet=None), series_header='indebt', formulas=[None, None], values=[True, True], header_location=<HeaderLocation.TOP: 'top'>, series_starting_cell=Cell(column=10, row=2, coordinate='J2', value=None, value_type=None), series_length=2, series_data_type=<SeriesDataType.BOOL: 'bool'>)),\n",
       "  Cell(column=11, row=2, coordinate=None, value=None, value_type=None): (0,\n",
       "   Series(series_id=UUID('d7ab0700-1c06-4589-aa2d-80cea62a0171'), worksheet=Worksheet(sheet_name='Sheet1', workbook_file_path=None, worksheet=None), series_header='isHomeOwner', formulas=[None, None], values=[False, True], header_location=<HeaderLocation.TOP: 'top'>, series_starting_cell=Cell(column=11, row=2, coordinate='K2', value=None, value_type=None), series_length=2, series_data_type=<SeriesDataType.BOOL: 'bool'>)),\n",
       "  Cell(column=11, row=3, coordinate=None, value=None, value_type=None): (1,\n",
       "   Series(series_id=UUID('d7ab0700-1c06-4589-aa2d-80cea62a0171'), worksheet=Worksheet(sheet_name='Sheet1', workbook_file_path=None, worksheet=None), series_header='isHomeOwner', formulas=[None, None], values=[False, True], header_location=<HeaderLocation.TOP: 'top'>, series_starting_cell=Cell(column=11, row=2, coordinate='K2', value=None, value_type=None), series_length=2, series_data_type=<SeriesDataType.BOOL: 'bool'>)),\n",
       "  Cell(column=12, row=2, coordinate=None, value=None, value_type=None): (0,\n",
       "   Series(series_id=UUID('48ec5e43-6afc-41b5-b220-4a1344496615'), worksheet=Worksheet(sheet_name='Sheet1', workbook_file_path=None, worksheet=None), series_header='Owns_Car', formulas=[None, None], values=[False, True], header_location=<HeaderLocation.TOP: 'top'>, series_starting_cell=Cell(column=12, row=2, coordinate='L2', value=None, value_type=None), series_length=2, series_data_type=<SeriesDataType.BOOL: 'bool'>)),\n",
       "  Cell(column=12, row=3, coordinate=None, value=None, value_type=None): (1,\n",
       "   Series(series_id=UUID('48ec5e43-6afc-41b5-b220-4a1344496615'), worksheet=Worksheet(sheet_name='Sheet1', workbook_file_path=None, worksheet=None), series_header='Owns_Car', formulas=[None, None], values=[False, True], header_location=<HeaderLocation.TOP: 'top'>, series_starting_cell=Cell(column=12, row=2, coordinate='L2', value=None, value_type=None), series_length=2, series_data_type=<SeriesDataType.BOOL: 'bool'>)),\n",
       "  Cell(column=13, row=2, coordinate=None, value=None, value_type=None): (0,\n",
       "   Series(series_id=UUID('65bac496-d906-409f-aa93-9b6ca3a6685b'), worksheet=Worksheet(sheet_name='Sheet1', workbook_file_path=None, worksheet=None), series_header='Index_Match_Size', formulas=['=INDEX(B:B,MATCH(A2,A:A,0))', '=INDEX(B:B,MATCH(A3,A:A,0))'], values=['male', 'female'], header_location=<HeaderLocation.TOP: 'top'>, series_starting_cell=Cell(column=13, row=2, coordinate='M2', value=None, value_type=None), series_length=2, series_data_type=<SeriesDataType.STR: 'str'>)),\n",
       "  Cell(column=13, row=3, coordinate=None, value=None, value_type=None): (1,\n",
       "   Series(series_id=UUID('65bac496-d906-409f-aa93-9b6ca3a6685b'), worksheet=Worksheet(sheet_name='Sheet1', workbook_file_path=None, worksheet=None), series_header='Index_Match_Size', formulas=['=INDEX(B:B,MATCH(A2,A:A,0))', '=INDEX(B:B,MATCH(A3,A:A,0))'], values=['male', 'female'], header_location=<HeaderLocation.TOP: 'top'>, series_starting_cell=Cell(column=13, row=2, coordinate='M2', value=None, value_type=None), series_length=2, series_data_type=<SeriesDataType.STR: 'str'>)),\n",
       "  Cell(column=14, row=2, coordinate=None, value=None, value_type=None): (0,\n",
       "   Series(series_id=UUID('ed8421e6-78aa-4484-9bb8-5345bb1bdea4'), worksheet=Worksheet(sheet_name='Sheet1', workbook_file_path=None, worksheet=None), series_header='If_Weight_Or_Size', formulas=['=IF(OR(B2>0,C2>0),\"Acceptable\",\"Check\")', '=IF(OR(B3>0,C3>0),\"Acceptable\",\"Check\")'], values=['Acceptable', 'Acceptable'], header_location=<HeaderLocation.TOP: 'top'>, series_starting_cell=Cell(column=14, row=2, coordinate='N2', value=None, value_type=None), series_length=2, series_data_type=<SeriesDataType.STR: 'str'>)),\n",
       "  Cell(column=14, row=3, coordinate=None, value=None, value_type=None): (1,\n",
       "   Series(series_id=UUID('ed8421e6-78aa-4484-9bb8-5345bb1bdea4'), worksheet=Worksheet(sheet_name='Sheet1', workbook_file_path=None, worksheet=None), series_header='If_Weight_Or_Size', formulas=['=IF(OR(B2>0,C2>0),\"Acceptable\",\"Check\")', '=IF(OR(B3>0,C3>0),\"Acceptable\",\"Check\")'], values=['Acceptable', 'Acceptable'], header_location=<HeaderLocation.TOP: 'top'>, series_starting_cell=Cell(column=14, row=2, coordinate='N2', value=None, value_type=None), series_length=2, series_data_type=<SeriesDataType.STR: 'str'>)),\n",
       "  Cell(column=15, row=2, coordinate=None, value=None, value_type=None): (0,\n",
       "   Series(series_id=UUID('855f395e-69ca-47fe-8e3e-896a8abb91c7'), worksheet=Worksheet(sheet_name='Sheet1', workbook_file_path=None, worksheet=None), series_header='Age Category', formulas=['=IF(A2<35,\"Young\",IF(AND(A2>=35,A2<50),\"Middle-Aged\",\"Older\"))', '=IF(A3<35,\"Young\",IF(AND(A3>=35,A3<50),\"Middle-Aged\",\"Older\"))'], values=['Older', 'Middle-Aged'], header_location=<HeaderLocation.TOP: 'top'>, series_starting_cell=Cell(column=15, row=2, coordinate='O2', value=None, value_type=None), series_length=2, series_data_type=<SeriesDataType.STR: 'str'>)),\n",
       "  Cell(column=15, row=3, coordinate=None, value=None, value_type=None): (1,\n",
       "   Series(series_id=UUID('855f395e-69ca-47fe-8e3e-896a8abb91c7'), worksheet=Worksheet(sheet_name='Sheet1', workbook_file_path=None, worksheet=None), series_header='Age Category', formulas=['=IF(A2<35,\"Young\",IF(AND(A2>=35,A2<50),\"Middle-Aged\",\"Older\"))', '=IF(A3<35,\"Young\",IF(AND(A3>=35,A3<50),\"Middle-Aged\",\"Older\"))'], values=['Older', 'Middle-Aged'], header_location=<HeaderLocation.TOP: 'top'>, series_starting_cell=Cell(column=15, row=2, coordinate='O2', value=None, value_type=None), series_length=2, series_data_type=<SeriesDataType.STR: 'str'>)),\n",
       "  Cell(column=16, row=2, coordinate=None, value=None, value_type=None): (0,\n",
       "   Series(series_id=UUID('9bc5b641-9e52-4bfd-8b68-164448ae98bc'), worksheet=Worksheet(sheet_name='Sheet1', workbook_file_path=None, worksheet=None), series_header='Average Time Spent for Gender', formulas=['=AVERAGEIF(B2:B100, B2, C2:C100)', '=AVERAGEIF(B2:B100, B3, C2:C100)'], values=[3, 2], header_location=<HeaderLocation.TOP: 'top'>, series_starting_cell=Cell(column=16, row=2, coordinate='P2', value=None, value_type=None), series_length=2, series_data_type=<SeriesDataType.INT: 'int'>)),\n",
       "  Cell(column=16, row=3, coordinate=None, value=None, value_type=None): (1,\n",
       "   Series(series_id=UUID('9bc5b641-9e52-4bfd-8b68-164448ae98bc'), worksheet=Worksheet(sheet_name='Sheet1', workbook_file_path=None, worksheet=None), series_header='Average Time Spent for Gender', formulas=['=AVERAGEIF(B2:B100, B2, C2:C100)', '=AVERAGEIF(B2:B100, B3, C2:C100)'], values=[3, 2], header_location=<HeaderLocation.TOP: 'top'>, series_starting_cell=Cell(column=16, row=2, coordinate='P2', value=None, value_type=None), series_length=2, series_data_type=<SeriesDataType.INT: 'int'>)),\n",
       "  Cell(column=17, row=2, coordinate=None, value=None, value_type=None): (0,\n",
       "   Series(series_id=UUID('8a5aacf1-9676-404e-b208-325a67c3470c'), worksheet=Worksheet(sheet_name='Sheet1', workbook_file_path=None, worksheet=None), series_header='Interest Count', formulas=['=COUNTIF(E2:E100, E2)', '=COUNTIF(E2:E100, E3)'], values=[1, 1], header_location=<HeaderLocation.TOP: 'top'>, series_starting_cell=Cell(column=17, row=2, coordinate='Q2', value=None, value_type=None), series_length=2, series_data_type=<SeriesDataType.INT: 'int'>)),\n",
       "  Cell(column=17, row=3, coordinate=None, value=None, value_type=None): (1,\n",
       "   Series(series_id=UUID('8a5aacf1-9676-404e-b208-325a67c3470c'), worksheet=Worksheet(sheet_name='Sheet1', workbook_file_path=None, worksheet=None), series_header='Interest Count', formulas=['=COUNTIF(E2:E100, E2)', '=COUNTIF(E2:E100, E3)'], values=[1, 1], header_location=<HeaderLocation.TOP: 'top'>, series_starting_cell=Cell(column=17, row=2, coordinate='Q2', value=None, value_type=None), series_length=2, series_data_type=<SeriesDataType.INT: 'int'>)),\n",
       "  Cell(column=18, row=2, coordinate=None, value=None, value_type=None): (0,\n",
       "   Series(series_id=UUID('9198e5dc-14e4-44a7-90ad-98db3c3bf567'), worksheet=Worksheet(sheet_name='Sheet1', workbook_file_path=None, worksheet=None), series_header='Platform Popularity', formulas=['=COUNTIFS(B2:B100, \"male\", D2:D100, \"Instagram\")', '=COUNTIFS(B2:B100, \"male\", D2:D100, \"Instagram\")'], values=[1, 1], header_location=<HeaderLocation.TOP: 'top'>, series_starting_cell=Cell(column=18, row=2, coordinate='R2', value=None, value_type=None), series_length=2, series_data_type=<SeriesDataType.INT: 'int'>)),\n",
       "  Cell(column=18, row=3, coordinate=None, value=None, value_type=None): (1,\n",
       "   Series(series_id=UUID('9198e5dc-14e4-44a7-90ad-98db3c3bf567'), worksheet=Worksheet(sheet_name='Sheet1', workbook_file_path=None, worksheet=None), series_header='Platform Popularity', formulas=['=COUNTIFS(B2:B100, \"male\", D2:D100, \"Instagram\")', '=COUNTIFS(B2:B100, \"male\", D2:D100, \"Instagram\")'], values=[1, 1], header_location=<HeaderLocation.TOP: 'top'>, series_starting_cell=Cell(column=18, row=2, coordinate='R2', value=None, value_type=None), series_length=2, series_data_type=<SeriesDataType.INT: 'int'>)),\n",
       "  Cell(column=19, row=2, coordinate=None, value=None, value_type=None): (0,\n",
       "   Series(series_id=UUID('a5b105e2-56f1-43ae-98a1-e735c76a1f50'), worksheet=Worksheet(sheet_name='Sheet1', workbook_file_path=None, worksheet=None), series_header='Gender code', formulas=['=UPPER(IF(B2=\"non-binary\", \"NB\", LEFT(B2, 1)))', '=UPPER(IF(B3=\"non-binary\", \"NB\", LEFT(B3, 1)))'], values=['M', 'F'], header_location=<HeaderLocation.TOP: 'top'>, series_starting_cell=Cell(column=19, row=2, coordinate='S2', value=None, value_type=None), series_length=2, series_data_type=<SeriesDataType.STR: 'str'>)),\n",
       "  Cell(column=19, row=3, coordinate=None, value=None, value_type=None): (1,\n",
       "   Series(series_id=UUID('a5b105e2-56f1-43ae-98a1-e735c76a1f50'), worksheet=Worksheet(sheet_name='Sheet1', workbook_file_path=None, worksheet=None), series_header='Gender code', formulas=['=UPPER(IF(B2=\"non-binary\", \"NB\", LEFT(B2, 1)))', '=UPPER(IF(B3=\"non-binary\", \"NB\", LEFT(B3, 1)))'], values=['M', 'F'], header_location=<HeaderLocation.TOP: 'top'>, series_starting_cell=Cell(column=19, row=2, coordinate='S2', value=None, value_type=None), series_length=2, series_data_type=<SeriesDataType.STR: 'str'>)),\n",
       "  Cell(column=20, row=2, coordinate=None, value=None, value_type=None): (0,\n",
       "   Series(series_id=UUID('a73e178e-b183-4911-bcb9-4b1a984d0593'), worksheet=Worksheet(sheet_name='Sheet1', workbook_file_path=None, worksheet=None), series_header='Sumifs', formulas=['=SUMIFS(C2:C100, D2:D100, \"Instagram\")', '=SUMIFS(C2:C100, D2:D100, \"Instagram\")'], values=[3, 3], header_location=<HeaderLocation.TOP: 'top'>, series_starting_cell=Cell(column=20, row=2, coordinate='T2', value=None, value_type=None), series_length=2, series_data_type=<SeriesDataType.INT: 'int'>)),\n",
       "  Cell(column=20, row=3, coordinate=None, value=None, value_type=None): (1,\n",
       "   Series(series_id=UUID('a73e178e-b183-4911-bcb9-4b1a984d0593'), worksheet=Worksheet(sheet_name='Sheet1', workbook_file_path=None, worksheet=None), series_header='Sumifs', formulas=['=SUMIFS(C2:C100, D2:D100, \"Instagram\")', '=SUMIFS(C2:C100, D2:D100, \"Instagram\")'], values=[3, 3], header_location=<HeaderLocation.TOP: 'top'>, series_starting_cell=Cell(column=20, row=2, coordinate='T2', value=None, value_type=None), series_length=2, series_data_type=<SeriesDataType.INT: 'int'>))},\n",
       " Worksheet(sheet_name='Sheet2', workbook_file_path=None, worksheet=None): {Cell(column=1, row=2, coordinate=None, value=None, value_type=None): (0,\n",
       "   Series(series_id=UUID('9e4d562f-f7ed-4355-b60e-2feab26f0104'), worksheet=Worksheet(sheet_name='Sheet2', workbook_file_path=None, worksheet=None), series_header='Unnamed: 0', formulas=[None, None], values=[0, 1], header_location=<HeaderLocation.TOP: 'top'>, series_starting_cell=Cell(column=1, row=2, coordinate='A2', value=None, value_type=None), series_length=2, series_data_type=<SeriesDataType.INT: 'int'>)),\n",
       "  Cell(column=1, row=3, coordinate=None, value=None, value_type=None): (1,\n",
       "   Series(series_id=UUID('9e4d562f-f7ed-4355-b60e-2feab26f0104'), worksheet=Worksheet(sheet_name='Sheet2', workbook_file_path=None, worksheet=None), series_header='Unnamed: 0', formulas=[None, None], values=[0, 1], header_location=<HeaderLocation.TOP: 'top'>, series_starting_cell=Cell(column=1, row=2, coordinate='A2', value=None, value_type=None), series_length=2, series_data_type=<SeriesDataType.INT: 'int'>)),\n",
       "  Cell(column=2, row=2, coordinate=None, value=None, value_type=None): (0,\n",
       "   Series(series_id=UUID('56736770-de7c-4c7c-9c64-53c94ed534cc'), worksheet=Worksheet(sheet_name='Sheet2', workbook_file_path=None, worksheet=None), series_header='Movie Name', formulas=[None, None], values=['Jai Bhim', 'Soorarai Pottru'], header_location=<HeaderLocation.TOP: 'top'>, series_starting_cell=Cell(column=2, row=2, coordinate='B2', value=None, value_type=None), series_length=2, series_data_type=<SeriesDataType.STR: 'str'>)),\n",
       "  Cell(column=2, row=3, coordinate=None, value=None, value_type=None): (1,\n",
       "   Series(series_id=UUID('56736770-de7c-4c7c-9c64-53c94ed534cc'), worksheet=Worksheet(sheet_name='Sheet2', workbook_file_path=None, worksheet=None), series_header='Movie Name', formulas=[None, None], values=['Jai Bhim', 'Soorarai Pottru'], header_location=<HeaderLocation.TOP: 'top'>, series_starting_cell=Cell(column=2, row=2, coordinate='B2', value=None, value_type=None), series_length=2, series_data_type=<SeriesDataType.STR: 'str'>)),\n",
       "  Cell(column=3, row=2, coordinate=None, value=None, value_type=None): (0,\n",
       "   Series(series_id=UUID('951c98ae-9ae2-433d-bfa7-a805a2beb176'), worksheet=Worksheet(sheet_name='Sheet2', workbook_file_path=None, worksheet=None), series_header='Year of Release', formulas=[None, None], values=[2021, 2020], header_location=<HeaderLocation.TOP: 'top'>, series_starting_cell=Cell(column=3, row=2, coordinate='C2', value=None, value_type=None), series_length=2, series_data_type=<SeriesDataType.INT: 'int'>)),\n",
       "  Cell(column=3, row=3, coordinate=None, value=None, value_type=None): (1,\n",
       "   Series(series_id=UUID('951c98ae-9ae2-433d-bfa7-a805a2beb176'), worksheet=Worksheet(sheet_name='Sheet2', workbook_file_path=None, worksheet=None), series_header='Year of Release', formulas=[None, None], values=[2021, 2020], header_location=<HeaderLocation.TOP: 'top'>, series_starting_cell=Cell(column=3, row=2, coordinate='C2', value=None, value_type=None), series_length=2, series_data_type=<SeriesDataType.INT: 'int'>)),\n",
       "  Cell(column=4, row=2, coordinate=None, value=None, value_type=None): (0,\n",
       "   Series(series_id=UUID('aa445503-13ee-4e00-bd3f-6f3b00cb6bc5'), worksheet=Worksheet(sheet_name='Sheet2', workbook_file_path=None, worksheet=None), series_header='Watch Time', formulas=[None, None], values=[164, 153], header_location=<HeaderLocation.TOP: 'top'>, series_starting_cell=Cell(column=4, row=2, coordinate='D2', value=None, value_type=None), series_length=2, series_data_type=<SeriesDataType.INT: 'int'>)),\n",
       "  Cell(column=4, row=3, coordinate=None, value=None, value_type=None): (1,\n",
       "   Series(series_id=UUID('aa445503-13ee-4e00-bd3f-6f3b00cb6bc5'), worksheet=Worksheet(sheet_name='Sheet2', workbook_file_path=None, worksheet=None), series_header='Watch Time', formulas=[None, None], values=[164, 153], header_location=<HeaderLocation.TOP: 'top'>, series_starting_cell=Cell(column=4, row=2, coordinate='D2', value=None, value_type=None), series_length=2, series_data_type=<SeriesDataType.INT: 'int'>)),\n",
       "  Cell(column=5, row=2, coordinate=None, value=None, value_type=None): (0,\n",
       "   Series(series_id=UUID('1915f441-bb17-4e8c-8ea1-d3ee988d4ab9'), worksheet=Worksheet(sheet_name='Sheet2', workbook_file_path=None, worksheet=None), series_header='Movie Rating', formulas=[None, None], values=[9.4, 9.3], header_location=<HeaderLocation.TOP: 'top'>, series_starting_cell=Cell(column=5, row=2, coordinate='E2', value=None, value_type=None), series_length=2, series_data_type=<SeriesDataType.FLOAT: 'float'>)),\n",
       "  Cell(column=5, row=3, coordinate=None, value=None, value_type=None): (1,\n",
       "   Series(series_id=UUID('1915f441-bb17-4e8c-8ea1-d3ee988d4ab9'), worksheet=Worksheet(sheet_name='Sheet2', workbook_file_path=None, worksheet=None), series_header='Movie Rating', formulas=[None, None], values=[9.4, 9.3], header_location=<HeaderLocation.TOP: 'top'>, series_starting_cell=Cell(column=5, row=2, coordinate='E2', value=None, value_type=None), series_length=2, series_data_type=<SeriesDataType.FLOAT: 'float'>)),\n",
       "  Cell(column=6, row=2, coordinate=None, value=None, value_type=None): (0,\n",
       "   Series(series_id=UUID('442badc0-c807-4520-894a-14471482a682'), worksheet=Worksheet(sheet_name='Sheet2', workbook_file_path=None, worksheet=None), series_header='Meatscore of movie', formulas=[None, None], values=[81, 100], header_location=<HeaderLocation.TOP: 'top'>, series_starting_cell=Cell(column=6, row=2, coordinate='F2', value=None, value_type=None), series_length=2, series_data_type=<SeriesDataType.INT: 'int'>)),\n",
       "  Cell(column=6, row=3, coordinate=None, value=None, value_type=None): (1,\n",
       "   Series(series_id=UUID('442badc0-c807-4520-894a-14471482a682'), worksheet=Worksheet(sheet_name='Sheet2', workbook_file_path=None, worksheet=None), series_header='Meatscore of movie', formulas=[None, None], values=[81, 100], header_location=<HeaderLocation.TOP: 'top'>, series_starting_cell=Cell(column=6, row=2, coordinate='F2', value=None, value_type=None), series_length=2, series_data_type=<SeriesDataType.INT: 'int'>)),\n",
       "  Cell(column=7, row=2, coordinate=None, value=None, value_type=None): (0,\n",
       "   Series(series_id=UUID('6bc303d3-8fcf-41ac-9888-9443c6701378'), worksheet=Worksheet(sheet_name='Sheet2', workbook_file_path=None, worksheet=None), series_header='Votes', formulas=[None, None], values=[180702, 108490], header_location=<HeaderLocation.TOP: 'top'>, series_starting_cell=Cell(column=7, row=2, coordinate='G2', value=None, value_type=None), series_length=2, series_data_type=<SeriesDataType.INT: 'int'>)),\n",
       "  Cell(column=7, row=3, coordinate=None, value=None, value_type=None): (1,\n",
       "   Series(series_id=UUID('6bc303d3-8fcf-41ac-9888-9443c6701378'), worksheet=Worksheet(sheet_name='Sheet2', workbook_file_path=None, worksheet=None), series_header='Votes', formulas=[None, None], values=[180702, 108490], header_location=<HeaderLocation.TOP: 'top'>, series_starting_cell=Cell(column=7, row=2, coordinate='G2', value=None, value_type=None), series_length=2, series_data_type=<SeriesDataType.INT: 'int'>)),\n",
       "  Cell(column=8, row=2, coordinate=None, value=None, value_type=None): (0,\n",
       "   Series(series_id=UUID('038186c2-6d82-443d-b38f-1f07002d1ae6'), worksheet=Worksheet(sheet_name='Sheet2', workbook_file_path=None, worksheet=None), series_header='Gross', formulas=[None, None], values=[28.3, 144.5], header_location=<HeaderLocation.TOP: 'top'>, series_starting_cell=Cell(column=8, row=2, coordinate='H2', value=None, value_type=None), series_length=2, series_data_type=<SeriesDataType.FLOAT: 'float'>)),\n",
       "  Cell(column=8, row=3, coordinate=None, value=None, value_type=None): (1,\n",
       "   Series(series_id=UUID('038186c2-6d82-443d-b38f-1f07002d1ae6'), worksheet=Worksheet(sheet_name='Sheet2', workbook_file_path=None, worksheet=None), series_header='Gross', formulas=[None, None], values=[28.3, 144.5], header_location=<HeaderLocation.TOP: 'top'>, series_starting_cell=Cell(column=8, row=2, coordinate='H2', value=None, value_type=None), series_length=2, series_data_type=<SeriesDataType.FLOAT: 'float'>)),\n",
       "  Cell(column=9, row=2, coordinate=None, value=None, value_type=None): (0,\n",
       "   Series(series_id=UUID('dfdb8b69-1d0c-485b-af1e-9bf852561d5e'), worksheet=Worksheet(sheet_name='Sheet2', workbook_file_path=None, worksheet=None), series_header='Description', formulas=[None, None], values=['When a tribal man is arrested for a case of alleged theft, his wife turns to a human-rights lawyer to help bring justice.', 'Nedumaaran Rajangam \"Maara\" sets out to make the common man fly and in the process takes on the world\\'s most capital intensive industry and several enemies who stand in his way.'], header_location=<HeaderLocation.TOP: 'top'>, series_starting_cell=Cell(column=9, row=2, coordinate='I2', value=None, value_type=None), series_length=2, series_data_type=<SeriesDataType.STR: 'str'>)),\n",
       "  Cell(column=9, row=3, coordinate=None, value=None, value_type=None): (1,\n",
       "   Series(series_id=UUID('dfdb8b69-1d0c-485b-af1e-9bf852561d5e'), worksheet=Worksheet(sheet_name='Sheet2', workbook_file_path=None, worksheet=None), series_header='Description', formulas=[None, None], values=['When a tribal man is arrested for a case of alleged theft, his wife turns to a human-rights lawyer to help bring justice.', 'Nedumaaran Rajangam \"Maara\" sets out to make the common man fly and in the process takes on the world\\'s most capital intensive industry and several enemies who stand in his way.'], header_location=<HeaderLocation.TOP: 'top'>, series_starting_cell=Cell(column=9, row=2, coordinate='I2', value=None, value_type=None), series_length=2, series_data_type=<SeriesDataType.STR: 'str'>)),\n",
       "  Cell(column=10, row=2, coordinate=None, value=None, value_type=None): (0,\n",
       "   Series(series_id=UUID('4c5e663e-cdb4-45e6-bb32-9d2c4c8f706e'), worksheet=Worksheet(sheet_name='Sheet2', workbook_file_path=None, worksheet=None), series_header='Lookup from Sheet1', formulas=['=IF(VALUE(G2)>100000,Sheet1!B2,Sheet1!B3)', '=IF(VALUE(G3)>100000,Sheet1!B2,Sheet1!B3)'], values=['male', 'male'], header_location=<HeaderLocation.TOP: 'top'>, series_starting_cell=Cell(column=10, row=2, coordinate='J2', value=None, value_type=None), series_length=2, series_data_type=<SeriesDataType.STR: 'str'>)),\n",
       "  Cell(column=10, row=3, coordinate=None, value=None, value_type=None): (1,\n",
       "   Series(series_id=UUID('4c5e663e-cdb4-45e6-bb32-9d2c4c8f706e'), worksheet=Worksheet(sheet_name='Sheet2', workbook_file_path=None, worksheet=None), series_header='Lookup from Sheet1', formulas=['=IF(VALUE(G2)>100000,Sheet1!B2,Sheet1!B3)', '=IF(VALUE(G3)>100000,Sheet1!B2,Sheet1!B3)'], values=['male', 'male'], header_location=<HeaderLocation.TOP: 'top'>, series_starting_cell=Cell(column=10, row=2, coordinate='J2', value=None, value_type=None), series_length=2, series_data_type=<SeriesDataType.STR: 'str'>))}}"
      ]
     },
     "execution_count": 18,
     "metadata": {},
     "output_type": "execute_result"
    }
   ],
   "source": [
    "series_mapping"
   ]
  },
  {
   "cell_type": "code",
   "execution_count": 19,
   "metadata": {},
   "outputs": [],
   "source": [
    "from objects import Cell, Worksheet\n",
    "\n",
    "worksheet = Worksheet(sheet_name='Sheet1', workbook_file_path=None, worksheet=None)\n",
    "cell = Cell(column=10, row=3, coordinate=None, value=None, value_type=None)\n",
    "\n",
    "def get_series_from_cell_and_sheet_name(series_mapping, worksheet, cell):\n",
    "    return series_mapping[worksheet][cell]"
   ]
  },
  {
   "cell_type": "code",
   "execution_count": 20,
   "metadata": {},
   "outputs": [],
   "source": [
    "series_from_cell_and_sheet_name = get_series_from_cell_and_sheet_name(series_mapping,worksheet, cell)"
   ]
  },
  {
   "cell_type": "code",
   "execution_count": 21,
   "metadata": {},
   "outputs": [
    {
     "data": {
      "text/plain": [
       "(1,\n",
       " Series(series_id=UUID('6d50a9f2-9e77-41b1-80b3-26e647a60402'), worksheet=Worksheet(sheet_name='Sheet1', workbook_file_path=None, worksheet=None), series_header='indebt', formulas=[None, None], values=[True, True], header_location=<HeaderLocation.TOP: 'top'>, series_starting_cell=Cell(column=10, row=2, coordinate='J2', value=None, value_type=None), series_length=2, series_data_type=<SeriesDataType.BOOL: 'bool'>))"
      ]
     },
     "execution_count": 21,
     "metadata": {},
     "output_type": "execute_result"
    }
   ],
   "source": [
    "series_from_cell_and_sheet_name"
   ]
  },
  {
   "cell_type": "code",
   "execution_count": 22,
   "metadata": {},
   "outputs": [],
   "source": [
    "def get_cells_between(cell_start: Cell, cell_end: Cell):\n",
    "    \"\"\"cell_start and cell_end as inputs. Get a list of all cells between these two cells.\"\"\"\n",
    "    cells = []\n",
    "    for row in range(cell_start.row, cell_end.row + 1):\n",
    "        for column in range(cell_start.column, cell_end.column + 1):\n",
    "            cells.append(Cell(row=row, column=column, coordinate=None, value=None, value_type=None))\n",
    "    return cells\n"
   ]
  },
  {
   "cell_type": "code",
   "execution_count": 23,
   "metadata": {},
   "outputs": [],
   "source": [
    "cell_start = Cell(column=4, row=2, coordinate=None, value=None, value_type=None)\n",
    "cell_end = Cell(column=4, row=3, coordinate=None, value=None, value_type=None)"
   ]
  },
  {
   "cell_type": "code",
   "execution_count": 24,
   "metadata": {},
   "outputs": [],
   "source": [
    "cells = get_cells_between(cell_start, cell_end)"
   ]
  },
  {
   "cell_type": "code",
   "execution_count": 25,
   "metadata": {},
   "outputs": [
    {
     "data": {
      "text/plain": [
       "[Cell(column=4, row=2, coordinate=None, value=None, value_type=None),\n",
       " Cell(column=4, row=3, coordinate=None, value=None, value_type=None)]"
      ]
     },
     "execution_count": 25,
     "metadata": {},
     "output_type": "execute_result"
    }
   ],
   "source": [
    "cells"
   ]
  },
  {
   "cell_type": "code",
   "execution_count": 26,
   "metadata": {},
   "outputs": [],
   "source": [
    "series_example = get_series_from_cell_and_sheet_name(series_mapping, worksheet, cells[0])"
   ]
  },
  {
   "cell_type": "code",
   "execution_count": 27,
   "metadata": {},
   "outputs": [
    {
     "data": {
      "text/plain": [
       "Series(series_id=UUID('ecae9426-31aa-44b4-8990-c0b970dc3ea5'), worksheet=Worksheet(sheet_name='Sheet1', workbook_file_path=None, worksheet=None), series_header='platform', formulas=[None, None], values=['Instagram', 'Facebook'], header_location=<HeaderLocation.TOP: 'top'>, series_starting_cell=Cell(column=4, row=2, coordinate='D2', value=None, value_type=None), series_length=2, series_data_type=<SeriesDataType.STR: 'str'>)"
      ]
     },
     "execution_count": 27,
     "metadata": {},
     "output_type": "execute_result"
    }
   ],
   "source": [
    "series_example[1]"
   ]
  },
  {
   "cell_type": "code",
   "execution_count": 28,
   "metadata": {},
   "outputs": [],
   "source": [
    "def coordinate_from_string(cell_coordinate: str):\n",
    "    \"\"\"Convert Excel-style cell reference to numerical row and column indices.\"\"\"\n",
    "    column_str = ''.join(filter(str.isalpha, cell_coordinate))\n",
    "    row_str = ''.join(filter(str.isdigit, cell_coordinate))\n",
    "\n",
    "    # Convert column letters to number (A=1, B=2, ..., Z=26, AA=27, ...)\n",
    "    column = 0\n",
    "    for char in column_str:\n",
    "        column = column * 26 + (ord(char.upper()) - ord('A') + 1)\n",
    "    \n",
    "    # Convert row string to number\n",
    "    row = int(row_str)\n",
    "\n",
    "    return (column, row)\n",
    "\n",
    "def get_series_from_range(series_mapping: dict, sheet_name: str, cell_range: str):\n",
    "    \"\"\"cell_range is an Excel cell range as a string, eg. 'A1:B2'\"\"\"\n",
    "\n",
    "    # Get the start and end cell coordinates from the cell range\n",
    "    cell_start_coordinate, cell_end_coordinate = cell_range.split(':')\n",
    "\n",
    "    # Convert cell coordinates to row and column\n",
    "    cell_start_column, cell_start_row = coordinate_from_string(cell_start_coordinate)\n",
    "    cell_end_column, cell_end_row = coordinate_from_string(cell_end_coordinate)\n",
    "\n",
    "    cell_start = Cell(column=cell_start_column, row=cell_start_row, coordinate=None, value=None, value_type=None)\n",
    "    cell_end = Cell(column=cell_end_column, row=cell_end_row, coordinate=None, value=None, value_type=None)\n",
    "\n",
    "    cells_in_range = get_cells_between(cell_start, cell_end)\n",
    "    worksheet = Worksheet(sheet_name=sheet_name, workbook_file_path=None, worksheet=None)\n",
    "    series_range = [get_series_from_cell_and_sheet_name(series_mapping=series_mapping, worksheet=worksheet, cell=cell) for cell in cells_in_range]\n",
    "    return series_range"
   ]
  },
  {
   "cell_type": "code",
   "execution_count": 29,
   "metadata": {},
   "outputs": [],
   "source": [
    "series_range = get_series_from_range(series_mapping, 'Sheet1', cell_range=\"A2:A3\")"
   ]
  },
  {
   "cell_type": "code",
   "execution_count": 30,
   "metadata": {},
   "outputs": [
    {
     "data": {
      "text/plain": [
       "[(0,\n",
       "  Series(series_id=UUID('ba71f99e-d91f-469b-b5c8-cef131015288'), worksheet=Worksheet(sheet_name='Sheet1', workbook_file_path=None, worksheet=None), series_header='age', formulas=[None, None], values=[56, 46], header_location=<HeaderLocation.TOP: 'top'>, series_starting_cell=Cell(column=1, row=2, coordinate='A2', value=None, value_type=None), series_length=2, series_data_type=<SeriesDataType.INT: 'int'>)),\n",
       " (1,\n",
       "  Series(series_id=UUID('ba71f99e-d91f-469b-b5c8-cef131015288'), worksheet=Worksheet(sheet_name='Sheet1', workbook_file_path=None, worksheet=None), series_header='age', formulas=[None, None], values=[56, 46], header_location=<HeaderLocation.TOP: 'top'>, series_starting_cell=Cell(column=1, row=2, coordinate='A2', value=None, value_type=None), series_length=2, series_data_type=<SeriesDataType.INT: 'int'>))]"
      ]
     },
     "execution_count": 30,
     "metadata": {},
     "output_type": "execute_result"
    }
   ],
   "source": [
    "series_range"
   ]
  },
  {
   "cell_type": "code",
   "execution_count": 31,
   "metadata": {},
   "outputs": [],
   "source": [
    "from objects import Series, SeriesRange\n",
    "import xlcalculator\n",
    "\n",
    "class SeriesImplementer:\n",
    "\n",
    "    @staticmethod\n",
    "    def serialise_ast_to_formula(ast):\n",
    "        if isinstance(ast, xlcalculator.ast_nodes.RangeNode): \n",
    "            value = ast.tvalue.strip('[]')\n",
    "            return f\"{value}\"\n",
    "        elif isinstance(ast, xlcalculator.ast_nodes.FunctionNode):\n",
    "            args = ', '.join(SeriesImplementer.serialise_ast_to_formula(arg) for arg in ast.args)\n",
    "            return f\"{ast.tvalue}({args})\"\n",
    "        elif isinstance(ast, xlcalculator.ast_nodes.OperatorNode):\n",
    "            left = SeriesImplementer.serialise_ast_to_formula(ast.left) if ast.left else ''\n",
    "            right = SeriesImplementer.serialise_ast_to_formula(ast.right) if ast.right else ''\n",
    "            return f\"({left} {ast.tvalue} {right})\".strip()\n",
    "        elif isinstance(ast, xlcalculator.ast_nodes.OperandNode) and ast.tsubtype == 'text':\n",
    "            return f'\"{ast.tvalue}\"'\n",
    "        else:\n",
    "            return str(ast.tvalue)\n",
    "        \n",
    "    @staticmethod\n",
    "    def get_series_uuids_from_series_range(series_range: SeriesRange):\n",
    "        series_ids = [str(series.series_id).replace(\"-\",\"\") for series in series_range.series]\n",
    "        return f'{\"+\".join(series_ids)}_{series_range.start_index}_{series_range.end_index}'\n",
    "        \n",
    "\n",
    "    @staticmethod\n",
    "    def replace_range_nodes(ast):\n",
    "        if isinstance(ast, xlcalculator.ast_nodes.RangeNode):\n",
    "            print(ast.tvalue)\n",
    "            series_range = SeriesRange(series = [series_example[1]], start_index=0, end_index=1)\n",
    "            series_uuids = SeriesImplementer.get_series_uuids_from_series_range(series_range)\n",
    "            return xlcalculator.ast_nodes.RangeNode(xlcalculator.tokenizer.f_token(tvalue=series_uuids, ttype='operand', tsubtype='range'))\n",
    "        elif isinstance(ast, xlcalculator.ast_nodes.FunctionNode):\n",
    "            modified_args = [SeriesImplementer.replace_range_nodes(arg) for arg in ast.args]\n",
    "            modified_function_node = xlcalculator.ast_nodes.FunctionNode(ast.token)\n",
    "            modified_function_node.args = modified_args\n",
    "            return modified_function_node\n",
    "        elif isinstance(ast, xlcalculator.ast_nodes.OperatorNode):\n",
    "            modified_left = SeriesImplementer.replace_range_nodes(ast.left) if ast.left else None\n",
    "            modified_right = SeriesImplementer.replace_range_nodes(ast.right) if ast.right else None\n",
    "            modified_operator_node = xlcalculator.ast_nodes.OperatorNode(ast.token)\n",
    "            modified_operator_node.left = modified_left\n",
    "            modified_operator_node.right = modified_right\n",
    "            return modified_operator_node\n",
    "        else:\n",
    "            return ast\n"
   ]
  },
  {
   "cell_type": "code",
   "execution_count": 32,
   "metadata": {},
   "outputs": [],
   "source": [
    "series_range = SeriesRange(series = [series_example[1]], start_index=0, end_index=1)"
   ]
  },
  {
   "cell_type": "code",
   "execution_count": 33,
   "metadata": {},
   "outputs": [],
   "source": [
    "formula_1 = \"=SUM(A5:A6)+SUM(A6:A7)\"\n",
    "formula_1_ast = FormulaParser.parse_formula(formula_1)"
   ]
  },
  {
   "cell_type": "code",
   "execution_count": 34,
   "metadata": {},
   "outputs": [
    {
     "name": "stdout",
     "output_type": "stream",
     "text": [
      "A5:A6\n",
      "A6:A7\n"
     ]
    }
   ],
   "source": [
    "formula_1_ast_new = SeriesImplementer.replace_range_nodes(formula_1_ast)"
   ]
  },
  {
   "cell_type": "code",
   "execution_count": 35,
   "metadata": {},
   "outputs": [],
   "source": [
    "formula_1_new = SeriesImplementer.serialise_ast_to_formula(formula_1_ast_new)"
   ]
  },
  {
   "cell_type": "code",
   "execution_count": 36,
   "metadata": {},
   "outputs": [
    {
     "data": {
      "text/plain": [
       "'(SUM(ecae942631aa44b48990c0b970dc3ea5_0_1) + SUM(ecae942631aa44b48990c0b970dc3ea5_0_1))'"
      ]
     },
     "execution_count": 36,
     "metadata": {},
     "output_type": "execute_result"
    }
   ],
   "source": [
    "formula_1_new"
   ]
  },
  {
   "cell_type": "code",
   "execution_count": 37,
   "metadata": {},
   "outputs": [],
   "source": [
    "formula_1_ast_new = FormulaParser.parse_formula(f'={formula_1_new}')"
   ]
  },
  {
   "cell_type": "code",
   "execution_count": 38,
   "metadata": {},
   "outputs": [
    {
     "data": {
      "text/plain": [
       "'formula_1_ast_new.png'"
      ]
     },
     "execution_count": 38,
     "metadata": {},
     "output_type": "execute_result"
    }
   ],
   "source": [
    "formula_visualiser = FormulaVisualiser()\n",
    "ast_graph = formula_visualiser.visualise(formula_1_ast_new)\n",
    "ast_graph.render('formula_1_ast_new')"
   ]
  },
  {
   "cell_type": "code",
   "execution_count": null,
   "metadata": {},
   "outputs": [],
   "source": []
  }
 ],
 "metadata": {
  "kernelspec": {
   "display_name": "venv",
   "language": "python",
   "name": "python3"
  },
  "language_info": {
   "codemirror_mode": {
    "name": "ipython",
    "version": 3
   },
   "file_extension": ".py",
   "mimetype": "text/x-python",
   "name": "python",
   "nbconvert_exporter": "python",
   "pygments_lexer": "ipython3",
   "version": "3.11.5"
  }
 },
 "nbformat": 4,
 "nbformat_minor": 2
}
