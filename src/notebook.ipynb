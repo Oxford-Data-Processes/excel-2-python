{
 "cells": [
  {
   "cell_type": "code",
   "execution_count": 1,
   "metadata": {},
   "outputs": [],
   "source": [
    "import os\n",
    "\n",
    "from series_extraction.excel_loader import ExcelLoader\n",
    "from series_extraction.excel_validator import ExcelValidator\n",
    "from series_extraction.excel_cleaner import ExcelCleaner\n",
    "from series_extraction.table_finder import TableFinder\n",
    "from series_extraction.series_extractor import SeriesExtractor\n",
    "from series_extraction.excel_compatibility_checker import ExcelCompatibilityChecker\n",
    "from series_extraction.series_iterator import SeriesIterator\n",
    "from series_extraction.series_mapper import SeriesMapper\n",
    "\n",
    "from ast_building.formula_parser import FormulaParser\n",
    "from ast_building.series_implementer import SeriesImplementer\n",
    "\n",
    "from ast_transformation.formula_generator import FormulaGenerator"
   ]
  },
  {
   "cell_type": "code",
   "execution_count": 2,
   "metadata": {},
   "outputs": [],
   "source": [
    "current_directory = os.getcwd()\n",
    "\n",
    "parent_directory = os.path.abspath(os.path.join(current_directory, os.pardir))\n",
    "data_directory = os.path.join(parent_directory, 'data')\n",
    "\n",
    "project_name = 'test_excel_3'\n",
    "\n",
    "excel_raw_file_path = os.path.join(data_directory, \"excel_files_raw\", f\"{project_name}_raw.xlsx\")\n",
    "excel_reduced_filepath = os.path.join(data_directory, \"excel_files_reduced\", f\"{project_name}_reduced.xlsx\")"
   ]
  },
  {
   "cell_type": "code",
   "execution_count": 3,
   "metadata": {},
   "outputs": [],
   "source": [
    "excel_raw= ExcelLoader.load_file(excel_raw_file_path)\n",
    "excel_reduced = ExcelLoader.load_file(excel_reduced_filepath)"
   ]
  },
  {
   "cell_type": "code",
   "execution_count": 4,
   "metadata": {},
   "outputs": [],
   "source": [
    "is_valid = ExcelValidator.validate_excel(excel_reduced)"
   ]
  },
  {
   "cell_type": "code",
   "execution_count": 5,
   "metadata": {},
   "outputs": [],
   "source": [
    "if not is_valid:\n",
    "    raise Exception(\"Excel file is not valid\")"
   ]
  },
  {
   "cell_type": "code",
   "execution_count": 6,
   "metadata": {},
   "outputs": [],
   "source": [
    "excel_reduced_clean = ExcelCleaner.clean_excel(excel_reduced)"
   ]
  },
  {
   "cell_type": "code",
   "execution_count": 7,
   "metadata": {},
   "outputs": [],
   "source": [
    "extracted_tables, data = TableFinder.find_tables(excel_reduced_clean)"
   ]
  },
  {
   "cell_type": "code",
   "execution_count": 8,
   "metadata": {},
   "outputs": [],
   "source": [
    "series_data = SeriesExtractor.extract_table_details(extracted_tables, data)"
   ]
  },
  {
   "cell_type": "code",
   "execution_count": 9,
   "metadata": {},
   "outputs": [],
   "source": [
    "is_compatible = ExcelCompatibilityChecker.check_file(excel_raw, excel_reduced, extracted_tables)"
   ]
  },
  {
   "cell_type": "code",
   "execution_count": 10,
   "metadata": {},
   "outputs": [],
   "source": [
    "if not is_compatible:\n",
    "    raise Exception(\"Excel file is not compatible\")"
   ]
  },
  {
   "cell_type": "code",
   "execution_count": 11,
   "metadata": {},
   "outputs": [],
   "source": [
    "series_dict = SeriesExtractor.extract_series(extracted_tables=extracted_tables, data=data)"
   ]
  },
  {
   "cell_type": "code",
   "execution_count": 12,
   "metadata": {},
   "outputs": [
    {
     "data": {
      "text/plain": [
       "{'toyota_21_analysis': [Series(series_id='toyota_21_analysis|Created Month|1|1', worksheet=Worksheet(sheet_name='toyota_21_analysis', workbook_file_path=None, worksheet=None), series_header='Created Month', formulas=[None, None], values=[44531, 44501], header_location=<HeaderLocation.TOP: 'top'>, series_starting_cell=Cell(column=1, row=2, coordinate='A2', value=None, value_type=None), series_length=2, series_data_type=<SeriesDataType.INT: 'int'>),\n",
       "  Series(series_id='toyota_21_analysis|Revenue after insurance & CDW|1|2', worksheet=Worksheet(sheet_name='toyota_21_analysis', workbook_file_path=None, worksheet=None), series_header='Revenue after insurance & CDW', formulas=[None, None], values=[18820.579999999998, 9567.82], header_location=<HeaderLocation.TOP: 'top'>, series_starting_cell=Cell(column=2, row=2, coordinate='B2', value=None, value_type=None), series_length=2, series_data_type=<SeriesDataType.FLOAT: 'float'>),\n",
       "  Series(series_id='toyota_21_analysis|Toyota Revenue|1|3', worksheet=Worksheet(sheet_name='toyota_21_analysis', workbook_file_path=None, worksheet=None), series_header='Toyota Revenue', formulas=[None, None], values=[11714.5, 12837.68], header_location=<HeaderLocation.TOP: 'top'>, series_starting_cell=Cell(column=3, row=2, coordinate='C2', value=None, value_type=None), series_length=2, series_data_type=<SeriesDataType.FLOAT: 'float'>),\n",
       "  Series(series_id='toyota_21_analysis|Payment to TGB minus costs|1|4', worksheet=Worksheet(sheet_name='toyota_21_analysis', workbook_file_path=None, worksheet=None), series_header='Payment to TGB minus costs', formulas=['=SUM(C2,E2,F2)', '=SUM(C3,E3,F3)'], values=[8968.16, 9935.26], header_location=<HeaderLocation.TOP: 'top'>, series_starting_cell=Cell(column=4, row=2, coordinate='D2', value=None, value_type=None), series_length=2, series_data_type=<SeriesDataType.FLOAT: 'float'>),\n",
       "  Series(series_id='toyota_21_analysis|50% of Parking Costs|1|5', worksheet=Worksheet(sheet_name='toyota_21_analysis', workbook_file_path=None, worksheet=None), series_header='50% of Parking Costs', formulas=[None, None], values=[-1681.94, -1681.94], header_location=<HeaderLocation.TOP: 'top'>, series_starting_cell=Cell(column=5, row=2, coordinate='E2', value=None, value_type=None), series_length=2, series_data_type=<SeriesDataType.FLOAT: 'float'>),\n",
       "  Series(series_id='toyota_21_analysis|50% of Ad-hoc|1|6', worksheet=Worksheet(sheet_name='toyota_21_analysis', workbook_file_path=None, worksheet=None), series_header='50% of Ad-hoc', formulas=[None, None], values=[-1064.4, -1220.48], header_location=<HeaderLocation.TOP: 'top'>, series_starting_cell=Cell(column=6, row=2, coordinate='F2', value=None, value_type=None), series_length=2, series_data_type=<SeriesDataType.FLOAT: 'float'>),\n",
       "  Series(series_id='toyota_21_analysis|Total Costs (50%)|1|7', worksheet=Worksheet(sheet_name='toyota_21_analysis', workbook_file_path=None, worksheet=None), series_header='Total Costs (50%)', formulas=['=-F2+-E2', '=-F3+-E3'], values=[2746.34, 2902.42], header_location=<HeaderLocation.TOP: 'top'>, series_starting_cell=Cell(column=7, row=2, coordinate='G2', value=None, value_type=None), series_length=2, series_data_type=<SeriesDataType.FLOAT: 'float'>),\n",
       "  Series(series_id='toyota_21_analysis|Hiyacar Net|1|8', worksheet=Worksheet(sheet_name='toyota_21_analysis', workbook_file_path=None, worksheet=None), series_header='Hiyacar Net', formulas=['=B2-D2-G2', '=B3-D3-G3'], values=[7106.079999999998, -3269.8600000000006], header_location=<HeaderLocation.TOP: 'top'>, series_starting_cell=Cell(column=8, row=2, coordinate='H2', value=None, value_type=None), series_length=2, series_data_type=<SeriesDataType.FLOAT: 'float'>),\n",
       "  Series(series_id='toyota_21_analysis|net per car|1|9', worksheet=Worksheet(sheet_name='toyota_21_analysis', workbook_file_path=None, worksheet=None), series_header='net per car', formulas=['=H2/51', '=H3/51'], values=[139.33490196078426, -64.11490196078432], header_location=<HeaderLocation.TOP: 'top'>, series_starting_cell=Cell(column=9, row=2, coordinate='I2', value=None, value_type=None), series_length=2, series_data_type=<SeriesDataType.FLOAT: 'float'>)],\n",
       " 'analysis_by_vrm': [Series(series_id='analysis_by_vrm|Vehicles Vrm|1|1', worksheet=Worksheet(sheet_name='analysis_by_vrm', workbook_file_path=None, worksheet=None), series_header='Vehicles Vrm', formulas=[None, None], values=['WV69OLN', 'WM19KFZ'], header_location=<HeaderLocation.TOP: 'top'>, series_starting_cell=Cell(column=1, row=2, coordinate='A2', value=None, value_type=None), series_length=2, series_data_type=<SeriesDataType.STR: 'str'>),\n",
       "  Series(series_id='analysis_by_vrm|Net Revenue|1|2', worksheet=Worksheet(sheet_name='analysis_by_vrm', workbook_file_path=None, worksheet=None), series_header='Net Revenue', formulas=[None, None], values=[3544.51, 3489.6], header_location=<HeaderLocation.TOP: 'top'>, series_starting_cell=Cell(column=2, row=2, coordinate='B2', value=None, value_type=None), series_length=2, series_data_type=<SeriesDataType.FLOAT: 'float'>),\n",
       "  Series(series_id='analysis_by_vrm|Vehicles MRG|1|3', worksheet=Worksheet(sheet_name='analysis_by_vrm', workbook_file_path=None, worksheet=None), series_header='Vehicles MRG', formulas=[None, None], values=[211.2, 211.2], header_location=<HeaderLocation.TOP: 'top'>, series_starting_cell=Cell(column=3, row=2, coordinate='C2', value=None, value_type=None), series_length=2, series_data_type=<SeriesDataType.FLOAT: 'float'>),\n",
       "  Series(series_id='analysis_by_vrm|Vehicles Model|1|4', worksheet=Worksheet(sheet_name='analysis_by_vrm', workbook_file_path=None, worksheet=None), series_header='Vehicles Model', formulas=[None, None], values=['C-Hr Excel Hev Cvt', 'C-Hr Dynamic Hev Cvt'], header_location=<HeaderLocation.TOP: 'top'>, series_starting_cell=Cell(column=4, row=2, coordinate='D2', value=None, value_type=None), series_length=2, series_data_type=<SeriesDataType.STR: 'str'>),\n",
       "  Series(series_id='analysis_by_vrm|Bookings Driver Spend|1|5', worksheet=Worksheet(sheet_name='analysis_by_vrm', workbook_file_path=None, worksheet=None), series_header='Bookings Driver Spend', formulas=[None, None], values=[5812.91, 5655.61], header_location=<HeaderLocation.TOP: 'top'>, series_starting_cell=Cell(column=5, row=2, coordinate='E2', value=None, value_type=None), series_length=2, series_data_type=<SeriesDataType.FLOAT: 'float'>),\n",
       "  Series(series_id='analysis_by_vrm|Bookings Insurance spend|1|6', worksheet=Worksheet(sheet_name='analysis_by_vrm', workbook_file_path=None, worksheet=None), series_header='Bookings Insurance spend', formulas=[None, None], values=[2134.45, 2071.39], header_location=<HeaderLocation.TOP: 'top'>, series_starting_cell=Cell(column=6, row=2, coordinate='F2', value=None, value_type=None), series_length=2, series_data_type=<SeriesDataType.FLOAT: 'float'>),\n",
       "  Series(series_id='analysis_by_vrm|Bookings CDW Paid|1|7', worksheet=Worksheet(sheet_name='analysis_by_vrm', workbook_file_path=None, worksheet=None), series_header='Bookings CDW Paid', formulas=[None, None], values=[235, 166], header_location=<HeaderLocation.TOP: 'top'>, series_starting_cell=Cell(column=7, row=2, coordinate='G2', value=None, value_type=None), series_length=2, series_data_type=<SeriesDataType.INT: 'int'>),\n",
       "  Series(series_id='analysis_by_vrm|Hiyacar Net |1|8', worksheet=Worksheet(sheet_name='analysis_by_vrm', workbook_file_path=None, worksheet=None), series_header='Hiyacar Net ', formulas=['=IF((B2*Q2)>(C2*6),(B2-(B2*Q2)),(B2-(C2*6)))', '=IF((B3*Q2)>(C3*6),(B3-(B3*Q2)),(B3-(C3*6)))'], values=[1772.255, 1744.8], header_location=<HeaderLocation.TOP: 'top'>, series_starting_cell=Cell(column=8, row=2, coordinate='H2', value=None, value_type=None), series_length=2, series_data_type=<SeriesDataType.FLOAT: 'float'>),\n",
       "  Series(series_id='analysis_by_vrm|New MRG|1|9', worksheet=Worksheet(sheet_name='analysis_by_vrm', workbook_file_path=None, worksheet=None), series_header='New MRG', formulas=['=(VLOOKUP(D2,updated_mrgs!B:G,3,FALSE))', '=(VLOOKUP(D3,updated_mrgs!B:G,3,FALSE))'], values=['#N/A', 428.75], header_location=<HeaderLocation.TOP: 'top'>, series_starting_cell=Cell(column=9, row=2, coordinate='I2', value=None, value_type=None), series_length=2, series_data_type=<SeriesDataType.STR: 'str'>),\n",
       "  Series(series_id='analysis_by_vrm|Hiyacar Net|1|10', worksheet=Worksheet(sheet_name='analysis_by_vrm', workbook_file_path=None, worksheet=None), series_header='Hiyacar Net', formulas=['=IF((B2*Q2)>(I2*6),(B2-(B2*Q2)),(B2-(I2*6)))', '=IF((B3*Q2)>(I3*6),(B3-(B3*Q2)),(B3-(I3*6)))'], values=['#N/A', 917.0999999999999], header_location=<HeaderLocation.TOP: 'top'>, series_starting_cell=Cell(column=10, row=2, coordinate='J2', value=None, value_type=None), series_length=2, series_data_type=<SeriesDataType.STR: 'str'>),\n",
       "  Series(series_id='analysis_by_vrm|Col1|1|11', worksheet=Worksheet(sheet_name='analysis_by_vrm', workbook_file_path=None, worksheet=None), series_header='Col1', formulas=['=VLOOKUP(D2,updated_mrgs!B:AB,5,FALSE)', '=VLOOKUP(D3,updated_mrgs!B:AB,5,FALSE)'], values=['#N/A', 357.2916666666667], header_location=<HeaderLocation.TOP: 'top'>, series_starting_cell=Cell(column=11, row=2, coordinate='K2', value=None, value_type=None), series_length=2, series_data_type=<SeriesDataType.STR: 'str'>),\n",
       "  Series(series_id='analysis_by_vrm|Col2|1|12', worksheet=Worksheet(sheet_name='analysis_by_vrm', workbook_file_path=None, worksheet=None), series_header='Col2', formulas=['=IF((B2*Q2)>(K2*6),(B2-(B2*Q2)),(B2-(K2*6)))', '=IF((B3*Q2)>(K3*6),(B3-(B3*Q2)),(B3-(K3*6)))'], values=['#N/A', 1345.85], header_location=<HeaderLocation.TOP: 'top'>, series_starting_cell=Cell(column=12, row=2, coordinate='L2', value=None, value_type=None), series_length=2, series_data_type=<SeriesDataType.STR: 'str'>),\n",
       "  Series(series_id='analysis_by_vrm|Col3|1|13', worksheet=Worksheet(sheet_name='analysis_by_vrm', workbook_file_path=None, worksheet=None), series_header='Col3', formulas=[None, None], values=[0, 0], header_location=<HeaderLocation.TOP: 'top'>, series_starting_cell=Cell(column=13, row=2, coordinate='M2', value=None, value_type=None), series_length=2, series_data_type=<SeriesDataType.INT: 'int'>),\n",
       "  Series(series_id='analysis_by_vrm|Col4|1|14', worksheet=Worksheet(sheet_name='analysis_by_vrm', workbook_file_path=None, worksheet=None), series_header='Col4', formulas=['=B2-(M2*6)', '=B3-(M3*6)'], values=[3544.51, 3489.6], header_location=<HeaderLocation.TOP: 'top'>, series_starting_cell=Cell(column=14, row=2, coordinate='N2', value=None, value_type=None), series_length=2, series_data_type=<SeriesDataType.FLOAT: 'float'>),\n",
       "  Series(series_id='analysis_by_vrm|Percentage|1|17', worksheet=Worksheet(sheet_name='analysis_by_vrm', workbook_file_path=None, worksheet=None), series_header='Percentage', formulas=[None, None], values=[0.5, None], header_location=<HeaderLocation.TOP: 'top'>, series_starting_cell=Cell(column=17, row=2, coordinate='Q2', value=None, value_type=None), series_length=1, series_data_type=<SeriesDataType.FLOAT: 'float'>)],\n",
       " 'updated_mrgs': [Series(series_id='updated_mrgs|Model|1|1', worksheet=Worksheet(sheet_name='updated_mrgs', workbook_file_path=None, worksheet=None), series_header='Model', formulas=[None, None], values=['C-HR Hybrid', 'C-HR Hybrid'], header_location=<HeaderLocation.TOP: 'top'>, series_starting_cell=Cell(column=1, row=2, coordinate='A2', value=None, value_type=None), series_length=2, series_data_type=<SeriesDataType.STR: 'str'>),\n",
       "  Series(series_id='updated_mrgs|Derivative|1|2', worksheet=Worksheet(sheet_name='updated_mrgs', workbook_file_path=None, worksheet=None), series_header='Derivative', formulas=[None, None], values=['C-Hr Design Hev Cvt', 'C-Hr Dynamic Hev Cvt'], header_location=<HeaderLocation.TOP: 'top'>, series_starting_cell=Cell(column=2, row=2, coordinate='B2', value=None, value_type=None), series_length=2, series_data_type=<SeriesDataType.STR: 'str'>),\n",
       "  Series(series_id='updated_mrgs|Current|1|3', worksheet=Worksheet(sheet_name='updated_mrgs', workbook_file_path=None, worksheet=None), series_header='Current', formulas=[None, None], values=[264, 264], header_location=<HeaderLocation.TOP: 'top'>, series_starting_cell=Cell(column=3, row=2, coordinate='C2', value=None, value_type=None), series_length=2, series_data_type=<SeriesDataType.INT: 'int'>),\n",
       "  Series(series_id='updated_mrgs|Proposed (Scenario 1: Updated MRGs)|1|4', worksheet=Worksheet(sheet_name='updated_mrgs', workbook_file_path=None, worksheet=None), series_header='Proposed (Scenario 1: Updated MRGs)', formulas=[None, None], values=[476.75, 428.75], header_location=<HeaderLocation.TOP: 'top'>, series_starting_cell=Cell(column=4, row=2, coordinate='D2', value=None, value_type=None), series_length=2, series_data_type=<SeriesDataType.FLOAT: 'float'>),\n",
       "  Series(series_id='updated_mrgs|Equivelant MRG on AAM Contract|1|5', worksheet=Worksheet(sheet_name='updated_mrgs', workbook_file_path=None, worksheet=None), series_header='Equivelant MRG on AAM Contract', formulas=['=D2', '=D3'], values=[476.75, 428.75], header_location=<HeaderLocation.TOP: 'top'>, series_starting_cell=Cell(column=5, row=2, coordinate='E2', value=None, value_type=None), series_length=2, series_data_type=<SeriesDataType.FLOAT: 'float'>),\n",
       "  Series(series_id='updated_mrgs|Proposed (Scenario 1: Updated MRGs ex VAT)|1|6', worksheet=Worksheet(sheet_name='updated_mrgs', workbook_file_path=None, worksheet=None), series_header='Proposed (Scenario 1: Updated MRGs ex VAT)', formulas=['=(D2/1.2)', '=(D3/1.2)'], values=[397.2916666666667, 357.2916666666667], header_location=<HeaderLocation.TOP: 'top'>, series_starting_cell=Cell(column=6, row=2, coordinate='F2', value=None, value_type=None), series_length=2, series_data_type=<SeriesDataType.FLOAT: 'float'>),\n",
       "  Series(series_id='updated_mrgs|Difference (Scenario 1: Updated MRGs)|1|7', worksheet=Worksheet(sheet_name='updated_mrgs', workbook_file_path=None, worksheet=None), series_header='Difference (Scenario 1: Updated MRGs)', formulas=[None, None], values=[212.75, 164.75], header_location=<HeaderLocation.TOP: 'top'>, series_starting_cell=Cell(column=7, row=2, coordinate='G2', value=None, value_type=None), series_length=2, series_data_type=<SeriesDataType.FLOAT: 'float'>),\n",
       "  Series(series_id='updated_mrgs|Proposed (Scenario 2: MRG+£50)|1|8', worksheet=Worksheet(sheet_name='updated_mrgs', workbook_file_path=None, worksheet=None), series_header='Proposed (Scenario 2: MRG+£50)', formulas=[None, None], values=[314, 314], header_location=<HeaderLocation.TOP: 'top'>, series_starting_cell=Cell(column=8, row=2, coordinate='H2', value=None, value_type=None), series_length=2, series_data_type=<SeriesDataType.INT: 'int'>),\n",
       "  Series(series_id='updated_mrgs|Difference (Scenario 2: MRG+£50)|1|9', worksheet=Worksheet(sheet_name='updated_mrgs', workbook_file_path=None, worksheet=None), series_header='Difference (Scenario 2: MRG+£50)', formulas=[None, None], values=[50, 50], header_location=<HeaderLocation.TOP: 'top'>, series_starting_cell=Cell(column=9, row=2, coordinate='I2', value=None, value_type=None), series_length=2, series_data_type=<SeriesDataType.INT: 'int'>),\n",
       "  Series(series_id='updated_mrgs|Vehicle Count|1|10', worksheet=Worksheet(sheet_name='updated_mrgs', workbook_file_path=None, worksheet=None), series_header='Vehicle Count', formulas=[None, None], values=[1, 1], header_location=<HeaderLocation.TOP: 'top'>, series_starting_cell=Cell(column=10, row=2, coordinate='J2', value=None, value_type=None), series_length=2, series_data_type=<SeriesDataType.INT: 'int'>),\n",
       "  Series(series_id='updated_mrgs|Calculation|1|11', worksheet=Worksheet(sheet_name='updated_mrgs', workbook_file_path=None, worksheet=None), series_header='Calculation', formulas=['=D2*J2', '=D3*J3'], values=[476.75, 428.75], header_location=<HeaderLocation.TOP: 'top'>, series_starting_cell=Cell(column=11, row=2, coordinate='K2', value=None, value_type=None), series_length=2, series_data_type=<SeriesDataType.FLOAT: 'float'>)]}"
      ]
     },
     "execution_count": 12,
     "metadata": {},
     "output_type": "execute_result"
    }
   ],
   "source": [
    "series_dict"
   ]
  },
  {
   "cell_type": "code",
   "execution_count": 13,
   "metadata": {},
   "outputs": [],
   "source": [
    "series_mapping = SeriesMapper.map_series(series_dict)"
   ]
  },
  {
   "cell_type": "code",
   "execution_count": 14,
   "metadata": {},
   "outputs": [
    {
     "data": {
      "text/plain": [
       "{Worksheet(sheet_name='toyota_21_analysis', workbook_file_path=None, worksheet=None): {Cell(column=1, row=2, coordinate=None, value=None, value_type=None): (0,\n",
       "   Series(series_id='toyota_21_analysis|Created Month|1|1', worksheet=Worksheet(sheet_name='toyota_21_analysis', workbook_file_path=None, worksheet=None), series_header='Created Month', formulas=[None, None], values=[44531, 44501], header_location=<HeaderLocation.TOP: 'top'>, series_starting_cell=Cell(column=1, row=2, coordinate='A2', value=None, value_type=None), series_length=2, series_data_type=<SeriesDataType.INT: 'int'>)),\n",
       "  Cell(column=1, row=3, coordinate=None, value=None, value_type=None): (1,\n",
       "   Series(series_id='toyota_21_analysis|Created Month|1|1', worksheet=Worksheet(sheet_name='toyota_21_analysis', workbook_file_path=None, worksheet=None), series_header='Created Month', formulas=[None, None], values=[44531, 44501], header_location=<HeaderLocation.TOP: 'top'>, series_starting_cell=Cell(column=1, row=2, coordinate='A2', value=None, value_type=None), series_length=2, series_data_type=<SeriesDataType.INT: 'int'>)),\n",
       "  Cell(column=2, row=2, coordinate=None, value=None, value_type=None): (0,\n",
       "   Series(series_id='toyota_21_analysis|Revenue after insurance & CDW|1|2', worksheet=Worksheet(sheet_name='toyota_21_analysis', workbook_file_path=None, worksheet=None), series_header='Revenue after insurance & CDW', formulas=[None, None], values=[18820.579999999998, 9567.82], header_location=<HeaderLocation.TOP: 'top'>, series_starting_cell=Cell(column=2, row=2, coordinate='B2', value=None, value_type=None), series_length=2, series_data_type=<SeriesDataType.FLOAT: 'float'>)),\n",
       "  Cell(column=2, row=3, coordinate=None, value=None, value_type=None): (1,\n",
       "   Series(series_id='toyota_21_analysis|Revenue after insurance & CDW|1|2', worksheet=Worksheet(sheet_name='toyota_21_analysis', workbook_file_path=None, worksheet=None), series_header='Revenue after insurance & CDW', formulas=[None, None], values=[18820.579999999998, 9567.82], header_location=<HeaderLocation.TOP: 'top'>, series_starting_cell=Cell(column=2, row=2, coordinate='B2', value=None, value_type=None), series_length=2, series_data_type=<SeriesDataType.FLOAT: 'float'>)),\n",
       "  Cell(column=3, row=2, coordinate=None, value=None, value_type=None): (0,\n",
       "   Series(series_id='toyota_21_analysis|Toyota Revenue|1|3', worksheet=Worksheet(sheet_name='toyota_21_analysis', workbook_file_path=None, worksheet=None), series_header='Toyota Revenue', formulas=[None, None], values=[11714.5, 12837.68], header_location=<HeaderLocation.TOP: 'top'>, series_starting_cell=Cell(column=3, row=2, coordinate='C2', value=None, value_type=None), series_length=2, series_data_type=<SeriesDataType.FLOAT: 'float'>)),\n",
       "  Cell(column=3, row=3, coordinate=None, value=None, value_type=None): (1,\n",
       "   Series(series_id='toyota_21_analysis|Toyota Revenue|1|3', worksheet=Worksheet(sheet_name='toyota_21_analysis', workbook_file_path=None, worksheet=None), series_header='Toyota Revenue', formulas=[None, None], values=[11714.5, 12837.68], header_location=<HeaderLocation.TOP: 'top'>, series_starting_cell=Cell(column=3, row=2, coordinate='C2', value=None, value_type=None), series_length=2, series_data_type=<SeriesDataType.FLOAT: 'float'>)),\n",
       "  Cell(column=4, row=2, coordinate=None, value=None, value_type=None): (0,\n",
       "   Series(series_id='toyota_21_analysis|Payment to TGB minus costs|1|4', worksheet=Worksheet(sheet_name='toyota_21_analysis', workbook_file_path=None, worksheet=None), series_header='Payment to TGB minus costs', formulas=['=SUM(C2,E2,F2)', '=SUM(C3,E3,F3)'], values=[8968.16, 9935.26], header_location=<HeaderLocation.TOP: 'top'>, series_starting_cell=Cell(column=4, row=2, coordinate='D2', value=None, value_type=None), series_length=2, series_data_type=<SeriesDataType.FLOAT: 'float'>)),\n",
       "  Cell(column=4, row=3, coordinate=None, value=None, value_type=None): (1,\n",
       "   Series(series_id='toyota_21_analysis|Payment to TGB minus costs|1|4', worksheet=Worksheet(sheet_name='toyota_21_analysis', workbook_file_path=None, worksheet=None), series_header='Payment to TGB minus costs', formulas=['=SUM(C2,E2,F2)', '=SUM(C3,E3,F3)'], values=[8968.16, 9935.26], header_location=<HeaderLocation.TOP: 'top'>, series_starting_cell=Cell(column=4, row=2, coordinate='D2', value=None, value_type=None), series_length=2, series_data_type=<SeriesDataType.FLOAT: 'float'>)),\n",
       "  Cell(column=5, row=2, coordinate=None, value=None, value_type=None): (0,\n",
       "   Series(series_id='toyota_21_analysis|50% of Parking Costs|1|5', worksheet=Worksheet(sheet_name='toyota_21_analysis', workbook_file_path=None, worksheet=None), series_header='50% of Parking Costs', formulas=[None, None], values=[-1681.94, -1681.94], header_location=<HeaderLocation.TOP: 'top'>, series_starting_cell=Cell(column=5, row=2, coordinate='E2', value=None, value_type=None), series_length=2, series_data_type=<SeriesDataType.FLOAT: 'float'>)),\n",
       "  Cell(column=5, row=3, coordinate=None, value=None, value_type=None): (1,\n",
       "   Series(series_id='toyota_21_analysis|50% of Parking Costs|1|5', worksheet=Worksheet(sheet_name='toyota_21_analysis', workbook_file_path=None, worksheet=None), series_header='50% of Parking Costs', formulas=[None, None], values=[-1681.94, -1681.94], header_location=<HeaderLocation.TOP: 'top'>, series_starting_cell=Cell(column=5, row=2, coordinate='E2', value=None, value_type=None), series_length=2, series_data_type=<SeriesDataType.FLOAT: 'float'>)),\n",
       "  Cell(column=6, row=2, coordinate=None, value=None, value_type=None): (0,\n",
       "   Series(series_id='toyota_21_analysis|50% of Ad-hoc|1|6', worksheet=Worksheet(sheet_name='toyota_21_analysis', workbook_file_path=None, worksheet=None), series_header='50% of Ad-hoc', formulas=[None, None], values=[-1064.4, -1220.48], header_location=<HeaderLocation.TOP: 'top'>, series_starting_cell=Cell(column=6, row=2, coordinate='F2', value=None, value_type=None), series_length=2, series_data_type=<SeriesDataType.FLOAT: 'float'>)),\n",
       "  Cell(column=6, row=3, coordinate=None, value=None, value_type=None): (1,\n",
       "   Series(series_id='toyota_21_analysis|50% of Ad-hoc|1|6', worksheet=Worksheet(sheet_name='toyota_21_analysis', workbook_file_path=None, worksheet=None), series_header='50% of Ad-hoc', formulas=[None, None], values=[-1064.4, -1220.48], header_location=<HeaderLocation.TOP: 'top'>, series_starting_cell=Cell(column=6, row=2, coordinate='F2', value=None, value_type=None), series_length=2, series_data_type=<SeriesDataType.FLOAT: 'float'>)),\n",
       "  Cell(column=7, row=2, coordinate=None, value=None, value_type=None): (0,\n",
       "   Series(series_id='toyota_21_analysis|Total Costs (50%)|1|7', worksheet=Worksheet(sheet_name='toyota_21_analysis', workbook_file_path=None, worksheet=None), series_header='Total Costs (50%)', formulas=['=-F2+-E2', '=-F3+-E3'], values=[2746.34, 2902.42], header_location=<HeaderLocation.TOP: 'top'>, series_starting_cell=Cell(column=7, row=2, coordinate='G2', value=None, value_type=None), series_length=2, series_data_type=<SeriesDataType.FLOAT: 'float'>)),\n",
       "  Cell(column=7, row=3, coordinate=None, value=None, value_type=None): (1,\n",
       "   Series(series_id='toyota_21_analysis|Total Costs (50%)|1|7', worksheet=Worksheet(sheet_name='toyota_21_analysis', workbook_file_path=None, worksheet=None), series_header='Total Costs (50%)', formulas=['=-F2+-E2', '=-F3+-E3'], values=[2746.34, 2902.42], header_location=<HeaderLocation.TOP: 'top'>, series_starting_cell=Cell(column=7, row=2, coordinate='G2', value=None, value_type=None), series_length=2, series_data_type=<SeriesDataType.FLOAT: 'float'>)),\n",
       "  Cell(column=8, row=2, coordinate=None, value=None, value_type=None): (0,\n",
       "   Series(series_id='toyota_21_analysis|Hiyacar Net|1|8', worksheet=Worksheet(sheet_name='toyota_21_analysis', workbook_file_path=None, worksheet=None), series_header='Hiyacar Net', formulas=['=B2-D2-G2', '=B3-D3-G3'], values=[7106.079999999998, -3269.8600000000006], header_location=<HeaderLocation.TOP: 'top'>, series_starting_cell=Cell(column=8, row=2, coordinate='H2', value=None, value_type=None), series_length=2, series_data_type=<SeriesDataType.FLOAT: 'float'>)),\n",
       "  Cell(column=8, row=3, coordinate=None, value=None, value_type=None): (1,\n",
       "   Series(series_id='toyota_21_analysis|Hiyacar Net|1|8', worksheet=Worksheet(sheet_name='toyota_21_analysis', workbook_file_path=None, worksheet=None), series_header='Hiyacar Net', formulas=['=B2-D2-G2', '=B3-D3-G3'], values=[7106.079999999998, -3269.8600000000006], header_location=<HeaderLocation.TOP: 'top'>, series_starting_cell=Cell(column=8, row=2, coordinate='H2', value=None, value_type=None), series_length=2, series_data_type=<SeriesDataType.FLOAT: 'float'>)),\n",
       "  Cell(column=9, row=2, coordinate=None, value=None, value_type=None): (0,\n",
       "   Series(series_id='toyota_21_analysis|net per car|1|9', worksheet=Worksheet(sheet_name='toyota_21_analysis', workbook_file_path=None, worksheet=None), series_header='net per car', formulas=['=H2/51', '=H3/51'], values=[139.33490196078426, -64.11490196078432], header_location=<HeaderLocation.TOP: 'top'>, series_starting_cell=Cell(column=9, row=2, coordinate='I2', value=None, value_type=None), series_length=2, series_data_type=<SeriesDataType.FLOAT: 'float'>)),\n",
       "  Cell(column=9, row=3, coordinate=None, value=None, value_type=None): (1,\n",
       "   Series(series_id='toyota_21_analysis|net per car|1|9', worksheet=Worksheet(sheet_name='toyota_21_analysis', workbook_file_path=None, worksheet=None), series_header='net per car', formulas=['=H2/51', '=H3/51'], values=[139.33490196078426, -64.11490196078432], header_location=<HeaderLocation.TOP: 'top'>, series_starting_cell=Cell(column=9, row=2, coordinate='I2', value=None, value_type=None), series_length=2, series_data_type=<SeriesDataType.FLOAT: 'float'>))},\n",
       " Worksheet(sheet_name='analysis_by_vrm', workbook_file_path=None, worksheet=None): {Cell(column=1, row=2, coordinate=None, value=None, value_type=None): (0,\n",
       "   Series(series_id='analysis_by_vrm|Vehicles Vrm|1|1', worksheet=Worksheet(sheet_name='analysis_by_vrm', workbook_file_path=None, worksheet=None), series_header='Vehicles Vrm', formulas=[None, None], values=['WV69OLN', 'WM19KFZ'], header_location=<HeaderLocation.TOP: 'top'>, series_starting_cell=Cell(column=1, row=2, coordinate='A2', value=None, value_type=None), series_length=2, series_data_type=<SeriesDataType.STR: 'str'>)),\n",
       "  Cell(column=1, row=3, coordinate=None, value=None, value_type=None): (1,\n",
       "   Series(series_id='analysis_by_vrm|Vehicles Vrm|1|1', worksheet=Worksheet(sheet_name='analysis_by_vrm', workbook_file_path=None, worksheet=None), series_header='Vehicles Vrm', formulas=[None, None], values=['WV69OLN', 'WM19KFZ'], header_location=<HeaderLocation.TOP: 'top'>, series_starting_cell=Cell(column=1, row=2, coordinate='A2', value=None, value_type=None), series_length=2, series_data_type=<SeriesDataType.STR: 'str'>)),\n",
       "  Cell(column=2, row=2, coordinate=None, value=None, value_type=None): (0,\n",
       "   Series(series_id='analysis_by_vrm|Net Revenue|1|2', worksheet=Worksheet(sheet_name='analysis_by_vrm', workbook_file_path=None, worksheet=None), series_header='Net Revenue', formulas=[None, None], values=[3544.51, 3489.6], header_location=<HeaderLocation.TOP: 'top'>, series_starting_cell=Cell(column=2, row=2, coordinate='B2', value=None, value_type=None), series_length=2, series_data_type=<SeriesDataType.FLOAT: 'float'>)),\n",
       "  Cell(column=2, row=3, coordinate=None, value=None, value_type=None): (1,\n",
       "   Series(series_id='analysis_by_vrm|Net Revenue|1|2', worksheet=Worksheet(sheet_name='analysis_by_vrm', workbook_file_path=None, worksheet=None), series_header='Net Revenue', formulas=[None, None], values=[3544.51, 3489.6], header_location=<HeaderLocation.TOP: 'top'>, series_starting_cell=Cell(column=2, row=2, coordinate='B2', value=None, value_type=None), series_length=2, series_data_type=<SeriesDataType.FLOAT: 'float'>)),\n",
       "  Cell(column=3, row=2, coordinate=None, value=None, value_type=None): (0,\n",
       "   Series(series_id='analysis_by_vrm|Vehicles MRG|1|3', worksheet=Worksheet(sheet_name='analysis_by_vrm', workbook_file_path=None, worksheet=None), series_header='Vehicles MRG', formulas=[None, None], values=[211.2, 211.2], header_location=<HeaderLocation.TOP: 'top'>, series_starting_cell=Cell(column=3, row=2, coordinate='C2', value=None, value_type=None), series_length=2, series_data_type=<SeriesDataType.FLOAT: 'float'>)),\n",
       "  Cell(column=3, row=3, coordinate=None, value=None, value_type=None): (1,\n",
       "   Series(series_id='analysis_by_vrm|Vehicles MRG|1|3', worksheet=Worksheet(sheet_name='analysis_by_vrm', workbook_file_path=None, worksheet=None), series_header='Vehicles MRG', formulas=[None, None], values=[211.2, 211.2], header_location=<HeaderLocation.TOP: 'top'>, series_starting_cell=Cell(column=3, row=2, coordinate='C2', value=None, value_type=None), series_length=2, series_data_type=<SeriesDataType.FLOAT: 'float'>)),\n",
       "  Cell(column=4, row=2, coordinate=None, value=None, value_type=None): (0,\n",
       "   Series(series_id='analysis_by_vrm|Vehicles Model|1|4', worksheet=Worksheet(sheet_name='analysis_by_vrm', workbook_file_path=None, worksheet=None), series_header='Vehicles Model', formulas=[None, None], values=['C-Hr Excel Hev Cvt', 'C-Hr Dynamic Hev Cvt'], header_location=<HeaderLocation.TOP: 'top'>, series_starting_cell=Cell(column=4, row=2, coordinate='D2', value=None, value_type=None), series_length=2, series_data_type=<SeriesDataType.STR: 'str'>)),\n",
       "  Cell(column=4, row=3, coordinate=None, value=None, value_type=None): (1,\n",
       "   Series(series_id='analysis_by_vrm|Vehicles Model|1|4', worksheet=Worksheet(sheet_name='analysis_by_vrm', workbook_file_path=None, worksheet=None), series_header='Vehicles Model', formulas=[None, None], values=['C-Hr Excel Hev Cvt', 'C-Hr Dynamic Hev Cvt'], header_location=<HeaderLocation.TOP: 'top'>, series_starting_cell=Cell(column=4, row=2, coordinate='D2', value=None, value_type=None), series_length=2, series_data_type=<SeriesDataType.STR: 'str'>)),\n",
       "  Cell(column=5, row=2, coordinate=None, value=None, value_type=None): (0,\n",
       "   Series(series_id='analysis_by_vrm|Bookings Driver Spend|1|5', worksheet=Worksheet(sheet_name='analysis_by_vrm', workbook_file_path=None, worksheet=None), series_header='Bookings Driver Spend', formulas=[None, None], values=[5812.91, 5655.61], header_location=<HeaderLocation.TOP: 'top'>, series_starting_cell=Cell(column=5, row=2, coordinate='E2', value=None, value_type=None), series_length=2, series_data_type=<SeriesDataType.FLOAT: 'float'>)),\n",
       "  Cell(column=5, row=3, coordinate=None, value=None, value_type=None): (1,\n",
       "   Series(series_id='analysis_by_vrm|Bookings Driver Spend|1|5', worksheet=Worksheet(sheet_name='analysis_by_vrm', workbook_file_path=None, worksheet=None), series_header='Bookings Driver Spend', formulas=[None, None], values=[5812.91, 5655.61], header_location=<HeaderLocation.TOP: 'top'>, series_starting_cell=Cell(column=5, row=2, coordinate='E2', value=None, value_type=None), series_length=2, series_data_type=<SeriesDataType.FLOAT: 'float'>)),\n",
       "  Cell(column=6, row=2, coordinate=None, value=None, value_type=None): (0,\n",
       "   Series(series_id='analysis_by_vrm|Bookings Insurance spend|1|6', worksheet=Worksheet(sheet_name='analysis_by_vrm', workbook_file_path=None, worksheet=None), series_header='Bookings Insurance spend', formulas=[None, None], values=[2134.45, 2071.39], header_location=<HeaderLocation.TOP: 'top'>, series_starting_cell=Cell(column=6, row=2, coordinate='F2', value=None, value_type=None), series_length=2, series_data_type=<SeriesDataType.FLOAT: 'float'>)),\n",
       "  Cell(column=6, row=3, coordinate=None, value=None, value_type=None): (1,\n",
       "   Series(series_id='analysis_by_vrm|Bookings Insurance spend|1|6', worksheet=Worksheet(sheet_name='analysis_by_vrm', workbook_file_path=None, worksheet=None), series_header='Bookings Insurance spend', formulas=[None, None], values=[2134.45, 2071.39], header_location=<HeaderLocation.TOP: 'top'>, series_starting_cell=Cell(column=6, row=2, coordinate='F2', value=None, value_type=None), series_length=2, series_data_type=<SeriesDataType.FLOAT: 'float'>)),\n",
       "  Cell(column=7, row=2, coordinate=None, value=None, value_type=None): (0,\n",
       "   Series(series_id='analysis_by_vrm|Bookings CDW Paid|1|7', worksheet=Worksheet(sheet_name='analysis_by_vrm', workbook_file_path=None, worksheet=None), series_header='Bookings CDW Paid', formulas=[None, None], values=[235, 166], header_location=<HeaderLocation.TOP: 'top'>, series_starting_cell=Cell(column=7, row=2, coordinate='G2', value=None, value_type=None), series_length=2, series_data_type=<SeriesDataType.INT: 'int'>)),\n",
       "  Cell(column=7, row=3, coordinate=None, value=None, value_type=None): (1,\n",
       "   Series(series_id='analysis_by_vrm|Bookings CDW Paid|1|7', worksheet=Worksheet(sheet_name='analysis_by_vrm', workbook_file_path=None, worksheet=None), series_header='Bookings CDW Paid', formulas=[None, None], values=[235, 166], header_location=<HeaderLocation.TOP: 'top'>, series_starting_cell=Cell(column=7, row=2, coordinate='G2', value=None, value_type=None), series_length=2, series_data_type=<SeriesDataType.INT: 'int'>)),\n",
       "  Cell(column=8, row=2, coordinate=None, value=None, value_type=None): (0,\n",
       "   Series(series_id='analysis_by_vrm|Hiyacar Net |1|8', worksheet=Worksheet(sheet_name='analysis_by_vrm', workbook_file_path=None, worksheet=None), series_header='Hiyacar Net ', formulas=['=IF((B2*Q2)>(C2*6),(B2-(B2*Q2)),(B2-(C2*6)))', '=IF((B3*Q2)>(C3*6),(B3-(B3*Q2)),(B3-(C3*6)))'], values=[1772.255, 1744.8], header_location=<HeaderLocation.TOP: 'top'>, series_starting_cell=Cell(column=8, row=2, coordinate='H2', value=None, value_type=None), series_length=2, series_data_type=<SeriesDataType.FLOAT: 'float'>)),\n",
       "  Cell(column=8, row=3, coordinate=None, value=None, value_type=None): (1,\n",
       "   Series(series_id='analysis_by_vrm|Hiyacar Net |1|8', worksheet=Worksheet(sheet_name='analysis_by_vrm', workbook_file_path=None, worksheet=None), series_header='Hiyacar Net ', formulas=['=IF((B2*Q2)>(C2*6),(B2-(B2*Q2)),(B2-(C2*6)))', '=IF((B3*Q2)>(C3*6),(B3-(B3*Q2)),(B3-(C3*6)))'], values=[1772.255, 1744.8], header_location=<HeaderLocation.TOP: 'top'>, series_starting_cell=Cell(column=8, row=2, coordinate='H2', value=None, value_type=None), series_length=2, series_data_type=<SeriesDataType.FLOAT: 'float'>)),\n",
       "  Cell(column=9, row=2, coordinate=None, value=None, value_type=None): (0,\n",
       "   Series(series_id='analysis_by_vrm|New MRG|1|9', worksheet=Worksheet(sheet_name='analysis_by_vrm', workbook_file_path=None, worksheet=None), series_header='New MRG', formulas=['=(VLOOKUP(D2,updated_mrgs!B:G,3,FALSE))', '=(VLOOKUP(D3,updated_mrgs!B:G,3,FALSE))'], values=['#N/A', 428.75], header_location=<HeaderLocation.TOP: 'top'>, series_starting_cell=Cell(column=9, row=2, coordinate='I2', value=None, value_type=None), series_length=2, series_data_type=<SeriesDataType.STR: 'str'>)),\n",
       "  Cell(column=9, row=3, coordinate=None, value=None, value_type=None): (1,\n",
       "   Series(series_id='analysis_by_vrm|New MRG|1|9', worksheet=Worksheet(sheet_name='analysis_by_vrm', workbook_file_path=None, worksheet=None), series_header='New MRG', formulas=['=(VLOOKUP(D2,updated_mrgs!B:G,3,FALSE))', '=(VLOOKUP(D3,updated_mrgs!B:G,3,FALSE))'], values=['#N/A', 428.75], header_location=<HeaderLocation.TOP: 'top'>, series_starting_cell=Cell(column=9, row=2, coordinate='I2', value=None, value_type=None), series_length=2, series_data_type=<SeriesDataType.STR: 'str'>)),\n",
       "  Cell(column=10, row=2, coordinate=None, value=None, value_type=None): (0,\n",
       "   Series(series_id='analysis_by_vrm|Hiyacar Net|1|10', worksheet=Worksheet(sheet_name='analysis_by_vrm', workbook_file_path=None, worksheet=None), series_header='Hiyacar Net', formulas=['=IF((B2*Q2)>(I2*6),(B2-(B2*Q2)),(B2-(I2*6)))', '=IF((B3*Q2)>(I3*6),(B3-(B3*Q2)),(B3-(I3*6)))'], values=['#N/A', 917.0999999999999], header_location=<HeaderLocation.TOP: 'top'>, series_starting_cell=Cell(column=10, row=2, coordinate='J2', value=None, value_type=None), series_length=2, series_data_type=<SeriesDataType.STR: 'str'>)),\n",
       "  Cell(column=10, row=3, coordinate=None, value=None, value_type=None): (1,\n",
       "   Series(series_id='analysis_by_vrm|Hiyacar Net|1|10', worksheet=Worksheet(sheet_name='analysis_by_vrm', workbook_file_path=None, worksheet=None), series_header='Hiyacar Net', formulas=['=IF((B2*Q2)>(I2*6),(B2-(B2*Q2)),(B2-(I2*6)))', '=IF((B3*Q2)>(I3*6),(B3-(B3*Q2)),(B3-(I3*6)))'], values=['#N/A', 917.0999999999999], header_location=<HeaderLocation.TOP: 'top'>, series_starting_cell=Cell(column=10, row=2, coordinate='J2', value=None, value_type=None), series_length=2, series_data_type=<SeriesDataType.STR: 'str'>)),\n",
       "  Cell(column=11, row=2, coordinate=None, value=None, value_type=None): (0,\n",
       "   Series(series_id='analysis_by_vrm|Col1|1|11', worksheet=Worksheet(sheet_name='analysis_by_vrm', workbook_file_path=None, worksheet=None), series_header='Col1', formulas=['=VLOOKUP(D2,updated_mrgs!B:AB,5,FALSE)', '=VLOOKUP(D3,updated_mrgs!B:AB,5,FALSE)'], values=['#N/A', 357.2916666666667], header_location=<HeaderLocation.TOP: 'top'>, series_starting_cell=Cell(column=11, row=2, coordinate='K2', value=None, value_type=None), series_length=2, series_data_type=<SeriesDataType.STR: 'str'>)),\n",
       "  Cell(column=11, row=3, coordinate=None, value=None, value_type=None): (1,\n",
       "   Series(series_id='analysis_by_vrm|Col1|1|11', worksheet=Worksheet(sheet_name='analysis_by_vrm', workbook_file_path=None, worksheet=None), series_header='Col1', formulas=['=VLOOKUP(D2,updated_mrgs!B:AB,5,FALSE)', '=VLOOKUP(D3,updated_mrgs!B:AB,5,FALSE)'], values=['#N/A', 357.2916666666667], header_location=<HeaderLocation.TOP: 'top'>, series_starting_cell=Cell(column=11, row=2, coordinate='K2', value=None, value_type=None), series_length=2, series_data_type=<SeriesDataType.STR: 'str'>)),\n",
       "  Cell(column=12, row=2, coordinate=None, value=None, value_type=None): (0,\n",
       "   Series(series_id='analysis_by_vrm|Col2|1|12', worksheet=Worksheet(sheet_name='analysis_by_vrm', workbook_file_path=None, worksheet=None), series_header='Col2', formulas=['=IF((B2*Q2)>(K2*6),(B2-(B2*Q2)),(B2-(K2*6)))', '=IF((B3*Q2)>(K3*6),(B3-(B3*Q2)),(B3-(K3*6)))'], values=['#N/A', 1345.85], header_location=<HeaderLocation.TOP: 'top'>, series_starting_cell=Cell(column=12, row=2, coordinate='L2', value=None, value_type=None), series_length=2, series_data_type=<SeriesDataType.STR: 'str'>)),\n",
       "  Cell(column=12, row=3, coordinate=None, value=None, value_type=None): (1,\n",
       "   Series(series_id='analysis_by_vrm|Col2|1|12', worksheet=Worksheet(sheet_name='analysis_by_vrm', workbook_file_path=None, worksheet=None), series_header='Col2', formulas=['=IF((B2*Q2)>(K2*6),(B2-(B2*Q2)),(B2-(K2*6)))', '=IF((B3*Q2)>(K3*6),(B3-(B3*Q2)),(B3-(K3*6)))'], values=['#N/A', 1345.85], header_location=<HeaderLocation.TOP: 'top'>, series_starting_cell=Cell(column=12, row=2, coordinate='L2', value=None, value_type=None), series_length=2, series_data_type=<SeriesDataType.STR: 'str'>)),\n",
       "  Cell(column=13, row=2, coordinate=None, value=None, value_type=None): (0,\n",
       "   Series(series_id='analysis_by_vrm|Col3|1|13', worksheet=Worksheet(sheet_name='analysis_by_vrm', workbook_file_path=None, worksheet=None), series_header='Col3', formulas=[None, None], values=[0, 0], header_location=<HeaderLocation.TOP: 'top'>, series_starting_cell=Cell(column=13, row=2, coordinate='M2', value=None, value_type=None), series_length=2, series_data_type=<SeriesDataType.INT: 'int'>)),\n",
       "  Cell(column=13, row=3, coordinate=None, value=None, value_type=None): (1,\n",
       "   Series(series_id='analysis_by_vrm|Col3|1|13', worksheet=Worksheet(sheet_name='analysis_by_vrm', workbook_file_path=None, worksheet=None), series_header='Col3', formulas=[None, None], values=[0, 0], header_location=<HeaderLocation.TOP: 'top'>, series_starting_cell=Cell(column=13, row=2, coordinate='M2', value=None, value_type=None), series_length=2, series_data_type=<SeriesDataType.INT: 'int'>)),\n",
       "  Cell(column=14, row=2, coordinate=None, value=None, value_type=None): (0,\n",
       "   Series(series_id='analysis_by_vrm|Col4|1|14', worksheet=Worksheet(sheet_name='analysis_by_vrm', workbook_file_path=None, worksheet=None), series_header='Col4', formulas=['=B2-(M2*6)', '=B3-(M3*6)'], values=[3544.51, 3489.6], header_location=<HeaderLocation.TOP: 'top'>, series_starting_cell=Cell(column=14, row=2, coordinate='N2', value=None, value_type=None), series_length=2, series_data_type=<SeriesDataType.FLOAT: 'float'>)),\n",
       "  Cell(column=14, row=3, coordinate=None, value=None, value_type=None): (1,\n",
       "   Series(series_id='analysis_by_vrm|Col4|1|14', worksheet=Worksheet(sheet_name='analysis_by_vrm', workbook_file_path=None, worksheet=None), series_header='Col4', formulas=['=B2-(M2*6)', '=B3-(M3*6)'], values=[3544.51, 3489.6], header_location=<HeaderLocation.TOP: 'top'>, series_starting_cell=Cell(column=14, row=2, coordinate='N2', value=None, value_type=None), series_length=2, series_data_type=<SeriesDataType.FLOAT: 'float'>)),\n",
       "  Cell(column=17, row=2, coordinate=None, value=None, value_type=None): (0,\n",
       "   Series(series_id='analysis_by_vrm|Percentage|1|17', worksheet=Worksheet(sheet_name='analysis_by_vrm', workbook_file_path=None, worksheet=None), series_header='Percentage', formulas=[None, None], values=[0.5, None], header_location=<HeaderLocation.TOP: 'top'>, series_starting_cell=Cell(column=17, row=2, coordinate='Q2', value=None, value_type=None), series_length=1, series_data_type=<SeriesDataType.FLOAT: 'float'>))},\n",
       " Worksheet(sheet_name='updated_mrgs', workbook_file_path=None, worksheet=None): {Cell(column=1, row=2, coordinate=None, value=None, value_type=None): (0,\n",
       "   Series(series_id='updated_mrgs|Model|1|1', worksheet=Worksheet(sheet_name='updated_mrgs', workbook_file_path=None, worksheet=None), series_header='Model', formulas=[None, None], values=['C-HR Hybrid', 'C-HR Hybrid'], header_location=<HeaderLocation.TOP: 'top'>, series_starting_cell=Cell(column=1, row=2, coordinate='A2', value=None, value_type=None), series_length=2, series_data_type=<SeriesDataType.STR: 'str'>)),\n",
       "  Cell(column=1, row=3, coordinate=None, value=None, value_type=None): (1,\n",
       "   Series(series_id='updated_mrgs|Model|1|1', worksheet=Worksheet(sheet_name='updated_mrgs', workbook_file_path=None, worksheet=None), series_header='Model', formulas=[None, None], values=['C-HR Hybrid', 'C-HR Hybrid'], header_location=<HeaderLocation.TOP: 'top'>, series_starting_cell=Cell(column=1, row=2, coordinate='A2', value=None, value_type=None), series_length=2, series_data_type=<SeriesDataType.STR: 'str'>)),\n",
       "  Cell(column=2, row=2, coordinate=None, value=None, value_type=None): (0,\n",
       "   Series(series_id='updated_mrgs|Derivative|1|2', worksheet=Worksheet(sheet_name='updated_mrgs', workbook_file_path=None, worksheet=None), series_header='Derivative', formulas=[None, None], values=['C-Hr Design Hev Cvt', 'C-Hr Dynamic Hev Cvt'], header_location=<HeaderLocation.TOP: 'top'>, series_starting_cell=Cell(column=2, row=2, coordinate='B2', value=None, value_type=None), series_length=2, series_data_type=<SeriesDataType.STR: 'str'>)),\n",
       "  Cell(column=2, row=3, coordinate=None, value=None, value_type=None): (1,\n",
       "   Series(series_id='updated_mrgs|Derivative|1|2', worksheet=Worksheet(sheet_name='updated_mrgs', workbook_file_path=None, worksheet=None), series_header='Derivative', formulas=[None, None], values=['C-Hr Design Hev Cvt', 'C-Hr Dynamic Hev Cvt'], header_location=<HeaderLocation.TOP: 'top'>, series_starting_cell=Cell(column=2, row=2, coordinate='B2', value=None, value_type=None), series_length=2, series_data_type=<SeriesDataType.STR: 'str'>)),\n",
       "  Cell(column=3, row=2, coordinate=None, value=None, value_type=None): (0,\n",
       "   Series(series_id='updated_mrgs|Current|1|3', worksheet=Worksheet(sheet_name='updated_mrgs', workbook_file_path=None, worksheet=None), series_header='Current', formulas=[None, None], values=[264, 264], header_location=<HeaderLocation.TOP: 'top'>, series_starting_cell=Cell(column=3, row=2, coordinate='C2', value=None, value_type=None), series_length=2, series_data_type=<SeriesDataType.INT: 'int'>)),\n",
       "  Cell(column=3, row=3, coordinate=None, value=None, value_type=None): (1,\n",
       "   Series(series_id='updated_mrgs|Current|1|3', worksheet=Worksheet(sheet_name='updated_mrgs', workbook_file_path=None, worksheet=None), series_header='Current', formulas=[None, None], values=[264, 264], header_location=<HeaderLocation.TOP: 'top'>, series_starting_cell=Cell(column=3, row=2, coordinate='C2', value=None, value_type=None), series_length=2, series_data_type=<SeriesDataType.INT: 'int'>)),\n",
       "  Cell(column=4, row=2, coordinate=None, value=None, value_type=None): (0,\n",
       "   Series(series_id='updated_mrgs|Proposed (Scenario 1: Updated MRGs)|1|4', worksheet=Worksheet(sheet_name='updated_mrgs', workbook_file_path=None, worksheet=None), series_header='Proposed (Scenario 1: Updated MRGs)', formulas=[None, None], values=[476.75, 428.75], header_location=<HeaderLocation.TOP: 'top'>, series_starting_cell=Cell(column=4, row=2, coordinate='D2', value=None, value_type=None), series_length=2, series_data_type=<SeriesDataType.FLOAT: 'float'>)),\n",
       "  Cell(column=4, row=3, coordinate=None, value=None, value_type=None): (1,\n",
       "   Series(series_id='updated_mrgs|Proposed (Scenario 1: Updated MRGs)|1|4', worksheet=Worksheet(sheet_name='updated_mrgs', workbook_file_path=None, worksheet=None), series_header='Proposed (Scenario 1: Updated MRGs)', formulas=[None, None], values=[476.75, 428.75], header_location=<HeaderLocation.TOP: 'top'>, series_starting_cell=Cell(column=4, row=2, coordinate='D2', value=None, value_type=None), series_length=2, series_data_type=<SeriesDataType.FLOAT: 'float'>)),\n",
       "  Cell(column=5, row=2, coordinate=None, value=None, value_type=None): (0,\n",
       "   Series(series_id='updated_mrgs|Equivelant MRG on AAM Contract|1|5', worksheet=Worksheet(sheet_name='updated_mrgs', workbook_file_path=None, worksheet=None), series_header='Equivelant MRG on AAM Contract', formulas=['=D2', '=D3'], values=[476.75, 428.75], header_location=<HeaderLocation.TOP: 'top'>, series_starting_cell=Cell(column=5, row=2, coordinate='E2', value=None, value_type=None), series_length=2, series_data_type=<SeriesDataType.FLOAT: 'float'>)),\n",
       "  Cell(column=5, row=3, coordinate=None, value=None, value_type=None): (1,\n",
       "   Series(series_id='updated_mrgs|Equivelant MRG on AAM Contract|1|5', worksheet=Worksheet(sheet_name='updated_mrgs', workbook_file_path=None, worksheet=None), series_header='Equivelant MRG on AAM Contract', formulas=['=D2', '=D3'], values=[476.75, 428.75], header_location=<HeaderLocation.TOP: 'top'>, series_starting_cell=Cell(column=5, row=2, coordinate='E2', value=None, value_type=None), series_length=2, series_data_type=<SeriesDataType.FLOAT: 'float'>)),\n",
       "  Cell(column=6, row=2, coordinate=None, value=None, value_type=None): (0,\n",
       "   Series(series_id='updated_mrgs|Proposed (Scenario 1: Updated MRGs ex VAT)|1|6', worksheet=Worksheet(sheet_name='updated_mrgs', workbook_file_path=None, worksheet=None), series_header='Proposed (Scenario 1: Updated MRGs ex VAT)', formulas=['=(D2/1.2)', '=(D3/1.2)'], values=[397.2916666666667, 357.2916666666667], header_location=<HeaderLocation.TOP: 'top'>, series_starting_cell=Cell(column=6, row=2, coordinate='F2', value=None, value_type=None), series_length=2, series_data_type=<SeriesDataType.FLOAT: 'float'>)),\n",
       "  Cell(column=6, row=3, coordinate=None, value=None, value_type=None): (1,\n",
       "   Series(series_id='updated_mrgs|Proposed (Scenario 1: Updated MRGs ex VAT)|1|6', worksheet=Worksheet(sheet_name='updated_mrgs', workbook_file_path=None, worksheet=None), series_header='Proposed (Scenario 1: Updated MRGs ex VAT)', formulas=['=(D2/1.2)', '=(D3/1.2)'], values=[397.2916666666667, 357.2916666666667], header_location=<HeaderLocation.TOP: 'top'>, series_starting_cell=Cell(column=6, row=2, coordinate='F2', value=None, value_type=None), series_length=2, series_data_type=<SeriesDataType.FLOAT: 'float'>)),\n",
       "  Cell(column=7, row=2, coordinate=None, value=None, value_type=None): (0,\n",
       "   Series(series_id='updated_mrgs|Difference (Scenario 1: Updated MRGs)|1|7', worksheet=Worksheet(sheet_name='updated_mrgs', workbook_file_path=None, worksheet=None), series_header='Difference (Scenario 1: Updated MRGs)', formulas=[None, None], values=[212.75, 164.75], header_location=<HeaderLocation.TOP: 'top'>, series_starting_cell=Cell(column=7, row=2, coordinate='G2', value=None, value_type=None), series_length=2, series_data_type=<SeriesDataType.FLOAT: 'float'>)),\n",
       "  Cell(column=7, row=3, coordinate=None, value=None, value_type=None): (1,\n",
       "   Series(series_id='updated_mrgs|Difference (Scenario 1: Updated MRGs)|1|7', worksheet=Worksheet(sheet_name='updated_mrgs', workbook_file_path=None, worksheet=None), series_header='Difference (Scenario 1: Updated MRGs)', formulas=[None, None], values=[212.75, 164.75], header_location=<HeaderLocation.TOP: 'top'>, series_starting_cell=Cell(column=7, row=2, coordinate='G2', value=None, value_type=None), series_length=2, series_data_type=<SeriesDataType.FLOAT: 'float'>)),\n",
       "  Cell(column=8, row=2, coordinate=None, value=None, value_type=None): (0,\n",
       "   Series(series_id='updated_mrgs|Proposed (Scenario 2: MRG+£50)|1|8', worksheet=Worksheet(sheet_name='updated_mrgs', workbook_file_path=None, worksheet=None), series_header='Proposed (Scenario 2: MRG+£50)', formulas=[None, None], values=[314, 314], header_location=<HeaderLocation.TOP: 'top'>, series_starting_cell=Cell(column=8, row=2, coordinate='H2', value=None, value_type=None), series_length=2, series_data_type=<SeriesDataType.INT: 'int'>)),\n",
       "  Cell(column=8, row=3, coordinate=None, value=None, value_type=None): (1,\n",
       "   Series(series_id='updated_mrgs|Proposed (Scenario 2: MRG+£50)|1|8', worksheet=Worksheet(sheet_name='updated_mrgs', workbook_file_path=None, worksheet=None), series_header='Proposed (Scenario 2: MRG+£50)', formulas=[None, None], values=[314, 314], header_location=<HeaderLocation.TOP: 'top'>, series_starting_cell=Cell(column=8, row=2, coordinate='H2', value=None, value_type=None), series_length=2, series_data_type=<SeriesDataType.INT: 'int'>)),\n",
       "  Cell(column=9, row=2, coordinate=None, value=None, value_type=None): (0,\n",
       "   Series(series_id='updated_mrgs|Difference (Scenario 2: MRG+£50)|1|9', worksheet=Worksheet(sheet_name='updated_mrgs', workbook_file_path=None, worksheet=None), series_header='Difference (Scenario 2: MRG+£50)', formulas=[None, None], values=[50, 50], header_location=<HeaderLocation.TOP: 'top'>, series_starting_cell=Cell(column=9, row=2, coordinate='I2', value=None, value_type=None), series_length=2, series_data_type=<SeriesDataType.INT: 'int'>)),\n",
       "  Cell(column=9, row=3, coordinate=None, value=None, value_type=None): (1,\n",
       "   Series(series_id='updated_mrgs|Difference (Scenario 2: MRG+£50)|1|9', worksheet=Worksheet(sheet_name='updated_mrgs', workbook_file_path=None, worksheet=None), series_header='Difference (Scenario 2: MRG+£50)', formulas=[None, None], values=[50, 50], header_location=<HeaderLocation.TOP: 'top'>, series_starting_cell=Cell(column=9, row=2, coordinate='I2', value=None, value_type=None), series_length=2, series_data_type=<SeriesDataType.INT: 'int'>)),\n",
       "  Cell(column=10, row=2, coordinate=None, value=None, value_type=None): (0,\n",
       "   Series(series_id='updated_mrgs|Vehicle Count|1|10', worksheet=Worksheet(sheet_name='updated_mrgs', workbook_file_path=None, worksheet=None), series_header='Vehicle Count', formulas=[None, None], values=[1, 1], header_location=<HeaderLocation.TOP: 'top'>, series_starting_cell=Cell(column=10, row=2, coordinate='J2', value=None, value_type=None), series_length=2, series_data_type=<SeriesDataType.INT: 'int'>)),\n",
       "  Cell(column=10, row=3, coordinate=None, value=None, value_type=None): (1,\n",
       "   Series(series_id='updated_mrgs|Vehicle Count|1|10', worksheet=Worksheet(sheet_name='updated_mrgs', workbook_file_path=None, worksheet=None), series_header='Vehicle Count', formulas=[None, None], values=[1, 1], header_location=<HeaderLocation.TOP: 'top'>, series_starting_cell=Cell(column=10, row=2, coordinate='J2', value=None, value_type=None), series_length=2, series_data_type=<SeriesDataType.INT: 'int'>)),\n",
       "  Cell(column=11, row=2, coordinate=None, value=None, value_type=None): (0,\n",
       "   Series(series_id='updated_mrgs|Calculation|1|11', worksheet=Worksheet(sheet_name='updated_mrgs', workbook_file_path=None, worksheet=None), series_header='Calculation', formulas=['=D2*J2', '=D3*J3'], values=[476.75, 428.75], header_location=<HeaderLocation.TOP: 'top'>, series_starting_cell=Cell(column=11, row=2, coordinate='K2', value=None, value_type=None), series_length=2, series_data_type=<SeriesDataType.FLOAT: 'float'>)),\n",
       "  Cell(column=11, row=3, coordinate=None, value=None, value_type=None): (1,\n",
       "   Series(series_id='updated_mrgs|Calculation|1|11', worksheet=Worksheet(sheet_name='updated_mrgs', workbook_file_path=None, worksheet=None), series_header='Calculation', formulas=['=D2*J2', '=D3*J3'], values=[476.75, 428.75], header_location=<HeaderLocation.TOP: 'top'>, series_starting_cell=Cell(column=11, row=2, coordinate='K2', value=None, value_type=None), series_length=2, series_data_type=<SeriesDataType.FLOAT: 'float'>))}}"
      ]
     },
     "execution_count": 14,
     "metadata": {},
     "output_type": "execute_result"
    }
   ],
   "source": [
    "series_mapping"
   ]
  },
  {
   "cell_type": "code",
   "execution_count": 15,
   "metadata": {},
   "outputs": [],
   "source": [
    "series_iterator = SeriesIterator.iterate_series(series_dict)"
   ]
  },
  {
   "cell_type": "code",
   "execution_count": 16,
   "metadata": {},
   "outputs": [],
   "source": [
    "series_list = [series for series in series_iterator if series.formulas != [None, None]]"
   ]
  },
  {
   "cell_type": "markdown",
   "metadata": {},
   "source": [
    "Series Id can be concatenation of sheet_name, header_name, header_column_index, header_row_index"
   ]
  },
  {
   "cell_type": "code",
   "execution_count": 17,
   "metadata": {},
   "outputs": [
    {
     "name": "stdout",
     "output_type": "stream",
     "text": [
      "=SUM(C2,E2,F2)\n",
      "=SUM(C3,E3,F3)\n",
      "node and length\n",
      "(('toyota_21_analysis|Toyota Revenue|1|3',), (0, 0))\n",
      "2\n",
      "node and length\n",
      "(('toyota_21_analysis|50% of Parking Costs|1|5',), (0, 0))\n",
      "2\n",
      "node and length\n",
      "(('toyota_21_analysis|50% of Adhoc|1|6',), (0, 0))\n",
      "2\n",
      "SUM(('toyota_21_analysis|Toyota Revenue|1|3',), (1, 1, 0, 0), 0, ('toyota_21_analysis|50% of Parking Costs|1|5',), (1, 1, 0, 0), 0, ('toyota_21_analysis|50% of Adhoc|1|6',), (1, 1, 0, 0), 0)\n",
      "=-F2+-E2\n",
      "=-F3+-E3\n",
      "node and length\n",
      "(('toyota_21_analysis|50% of Adhoc|1|6',), (0, 0))\n",
      "2\n",
      "node and length\n",
      "(('toyota_21_analysis|50% of Parking Costs|1|5',), (0, 0))\n",
      "2\n",
      "(( - ('toyota_21_analysis|50% of Adhoc|1|6',), (1, 1, 0, 0), 0) + ( - ('toyota_21_analysis|50% of Parking Costs|1|5',), (1, 1, 0, 0), 0))\n",
      "=B2-D2-G2\n",
      "=B3-D3-G3\n",
      "node and length\n",
      "(('toyota_21_analysis|Revenue after insurance & CDW|1|2',), (0, 0))\n",
      "2\n",
      "node and length\n",
      "(('toyota_21_analysis|Payment to TGB minus costs|1|4',), (0, 0))\n",
      "2\n",
      "node and length\n",
      "(('toyota_21_analysis|Total Costs (50%)|1|7',), (0, 0))\n",
      "2\n",
      "((('toyota_21_analysis|Revenue after insurance & CDW|1|2',), (1, 1, 0, 0), 0 - ('toyota_21_analysis|Payment to TGB minus costs|1|4',), (1, 1, 0, 0), 0) - ('toyota_21_analysis|Total Costs (50%)|1|7',), (1, 1, 0, 0), 0)\n",
      "=H2/51\n",
      "=H3/51\n",
      "node and length\n",
      "(('toyota_21_analysis|Hiyacar Net|1|8',), (0, 0))\n",
      "2\n",
      "(('toyota_21_analysis|Hiyacar Net|1|8',), (1, 1, 0, 0), 0 / 51)\n",
      "=IF((B2*Q2)>(C2*6),(B2-(B2*Q2)),(B2-(C2*6)))\n",
      "=IF((B3*Q2)>(C3*6),(B3-(B3*Q2)),(B3-(C3*6)))\n",
      "node and length\n",
      "(('analysis_by_vrm|Net Revenue|1|2',), (0, 0))\n",
      "2\n",
      "node and length\n",
      "(('analysis_by_vrm|Percentage|1|17',), (0, 0))\n",
      "2\n",
      "node and length\n",
      "(('analysis_by_vrm|Vehicles MRG|1|3',), (0, 0))\n",
      "2\n",
      "node and length\n",
      "(('analysis_by_vrm|Net Revenue|1|2',), (0, 0))\n",
      "2\n",
      "node and length\n",
      "(('analysis_by_vrm|Net Revenue|1|2',), (0, 0))\n",
      "2\n",
      "node and length\n",
      "(('analysis_by_vrm|Percentage|1|17',), (0, 0))\n",
      "2\n",
      "node and length\n",
      "(('analysis_by_vrm|Net Revenue|1|2',), (0, 0))\n",
      "2\n",
      "node and length\n",
      "(('analysis_by_vrm|Vehicles MRG|1|3',), (0, 0))\n",
      "2\n",
      "IF(((('analysis_by_vrm|Net Revenue|1|2',), (1, 1, 0, 0), 0 * ('analysis_by_vrm|Percentage|1|17',), (0, 0, 0, 0), 0) > (('analysis_by_vrm|Vehicles MRG|1|3',), (1, 1, 0, 0), 0 * 6)), (('analysis_by_vrm|Net Revenue|1|2',), (1, 1, 0, 0), 0 - (('analysis_by_vrm|Net Revenue|1|2',), (1, 1, 0, 0), 0 * ('analysis_by_vrm|Percentage|1|17',), (0, 0, 0, 0), 0)), (('analysis_by_vrm|Net Revenue|1|2',), (1, 1, 0, 0), 0 - (('analysis_by_vrm|Vehicles MRG|1|3',), (1, 1, 0, 0), 0 * 6)))\n",
      "=(VLOOKUP(D2,updated_mrgs!B:G,3,FALSE))\n",
      "=(VLOOKUP(D3,updated_mrgs!B:G,3,FALSE))\n",
      "node and length\n",
      "(('analysis_by_vrm|Vehicles Model|1|4',), (0, 0))\n",
      "2\n",
      "node and length\n",
      "(('analysis_by_vrm|Net Revenue|1|2', 'analysis_by_vrm|Vehicles MRG|1|3', 'analysis_by_vrm|Vehicles Model|1|4', 'analysis_by_vrm|Bookings Driver Spend|1|5', 'analysis_by_vrm|Bookings Insurance spend|1|6', 'analysis_by_vrm|Bookings CDW Paid|1|7'), (None, None))\n",
      "2\n"
     ]
    },
    {
     "ename": "TypeError",
     "evalue": "unsupported operand type(s) for -: 'NoneType' and 'NoneType'",
     "output_type": "error",
     "traceback": [
      "\u001b[0;31m---------------------------------------------------------------------------\u001b[0m",
      "\u001b[0;31mTypeError\u001b[0m                                 Traceback (most recent call last)",
      "Cell \u001b[0;32mIn[17], line 17\u001b[0m\n\u001b[1;32m     13\u001b[0m \u001b[38;5;28mprint\u001b[39m(formula_2)\n\u001b[1;32m     15\u001b[0m ast_generator \u001b[38;5;241m=\u001b[39m FormulaGenerator\u001b[38;5;241m.\u001b[39mget_ast_generator(formula_1_ast_series, formula_2_ast_series)\n\u001b[0;32m---> 17\u001b[0m ast_delta \u001b[38;5;241m=\u001b[39m \u001b[43mast_generator\u001b[49m\u001b[38;5;241;43m.\u001b[39;49m\u001b[43mget_ast_with_deltas\u001b[49m\u001b[43m(\u001b[49m\u001b[43m)\u001b[49m\n\u001b[1;32m     18\u001b[0m ast_delta_serialised \u001b[38;5;241m=\u001b[39m SeriesImplementer\u001b[38;5;241m.\u001b[39mserialise_ast_to_formula(ast_delta)\n\u001b[1;32m     19\u001b[0m \u001b[38;5;28mprint\u001b[39m(ast_delta_serialised)\n",
      "File \u001b[0;32m~/GitHub/speedsheet/excel-2-python/src/ast_transformation/formula_generator.py:130\u001b[0m, in \u001b[0;36mASTGenerator.get_ast_with_deltas\u001b[0;34m(self)\u001b[0m\n\u001b[1;32m    129\u001b[0m \u001b[38;5;28;01mdef\u001b[39;00m \u001b[38;5;21mget_ast_with_deltas\u001b[39m(\u001b[38;5;28mself\u001b[39m) \u001b[38;5;241m-\u001b[39m\u001b[38;5;241m>\u001b[39m xlcalculator\u001b[38;5;241m.\u001b[39mast_nodes\u001b[38;5;241m.\u001b[39mASTNode:\n\u001b[0;32m--> 130\u001b[0m     \u001b[38;5;28;01mreturn\u001b[39;00m \u001b[38;5;28;43mself\u001b[39;49m\u001b[38;5;241;43m.\u001b[39;49m\u001b[43mapply_deltas_to_range_nodes\u001b[49m\u001b[43m(\u001b[49m\n\u001b[1;32m    131\u001b[0m \u001b[43m        \u001b[49m\u001b[38;5;28;43mself\u001b[39;49m\u001b[38;5;241;43m.\u001b[39;49m\u001b[43mformula_1_ast_series\u001b[49m\u001b[43m,\u001b[49m\u001b[43m \u001b[49m\u001b[38;5;28;43mself\u001b[39;49m\u001b[38;5;241;43m.\u001b[39;49m\u001b[43mformula_2_ast_series\u001b[49m\n\u001b[1;32m    132\u001b[0m \u001b[43m    \u001b[49m\u001b[43m)\u001b[49m\n",
      "File \u001b[0;32m~/GitHub/speedsheet/excel-2-python/src/ast_transformation/formula_generator.py:100\u001b[0m, in \u001b[0;36mASTGenerator.apply_deltas_to_range_nodes\u001b[0;34m(self, node1, node2)\u001b[0m\n\u001b[1;32m     95\u001b[0m         \u001b[38;5;28;01mreturn\u001b[39;00m node1\n\u001b[1;32m     97\u001b[0m \u001b[38;5;28;01melif\u001b[39;00m \u001b[38;5;28mhasattr\u001b[39m(node1, \u001b[38;5;124m\"\u001b[39m\u001b[38;5;124margs\u001b[39m\u001b[38;5;124m\"\u001b[39m) \u001b[38;5;129;01mand\u001b[39;00m \u001b[38;5;28misinstance\u001b[39m(\n\u001b[1;32m     98\u001b[0m     node1, xlcalculator\u001b[38;5;241m.\u001b[39mast_nodes\u001b[38;5;241m.\u001b[39mFunctionNode\n\u001b[1;32m     99\u001b[0m ):\n\u001b[0;32m--> 100\u001b[0m     modified_args \u001b[38;5;241m=\u001b[39m \u001b[43m[\u001b[49m\n\u001b[1;32m    101\u001b[0m \u001b[43m        \u001b[49m\u001b[38;5;28;43mself\u001b[39;49m\u001b[38;5;241;43m.\u001b[39;49m\u001b[43mapply_deltas_to_range_nodes\u001b[49m\u001b[43m(\u001b[49m\u001b[43marg\u001b[49m\u001b[43m,\u001b[49m\u001b[43m \u001b[49m\u001b[43mnode2\u001b[49m\u001b[38;5;241;43m.\u001b[39;49m\u001b[43margs\u001b[49m\u001b[43m[\u001b[49m\u001b[43mi\u001b[49m\u001b[43m]\u001b[49m\u001b[43m)\u001b[49m\n\u001b[1;32m    102\u001b[0m \u001b[43m        \u001b[49m\u001b[38;5;28;43;01mfor\u001b[39;49;00m\u001b[43m \u001b[49m\u001b[43mi\u001b[49m\u001b[43m,\u001b[49m\u001b[43m \u001b[49m\u001b[43marg\u001b[49m\u001b[43m \u001b[49m\u001b[38;5;129;43;01min\u001b[39;49;00m\u001b[43m \u001b[49m\u001b[38;5;28;43menumerate\u001b[39;49m\u001b[43m(\u001b[49m\u001b[43mnode1\u001b[49m\u001b[38;5;241;43m.\u001b[39;49m\u001b[43margs\u001b[49m\u001b[43m)\u001b[49m\n\u001b[1;32m    103\u001b[0m \u001b[43m    \u001b[49m\u001b[43m]\u001b[49m\n\u001b[1;32m    104\u001b[0m     modified_node \u001b[38;5;241m=\u001b[39m xlcalculator\u001b[38;5;241m.\u001b[39mast_nodes\u001b[38;5;241m.\u001b[39mFunctionNode(node1\u001b[38;5;241m.\u001b[39mtoken)\n\u001b[1;32m    105\u001b[0m     modified_node\u001b[38;5;241m.\u001b[39margs \u001b[38;5;241m=\u001b[39m modified_args\n",
      "File \u001b[0;32m~/GitHub/speedsheet/excel-2-python/src/ast_transformation/formula_generator.py:101\u001b[0m, in \u001b[0;36m<listcomp>\u001b[0;34m(.0)\u001b[0m\n\u001b[1;32m     95\u001b[0m         \u001b[38;5;28;01mreturn\u001b[39;00m node1\n\u001b[1;32m     97\u001b[0m \u001b[38;5;28;01melif\u001b[39;00m \u001b[38;5;28mhasattr\u001b[39m(node1, \u001b[38;5;124m\"\u001b[39m\u001b[38;5;124margs\u001b[39m\u001b[38;5;124m\"\u001b[39m) \u001b[38;5;129;01mand\u001b[39;00m \u001b[38;5;28misinstance\u001b[39m(\n\u001b[1;32m     98\u001b[0m     node1, xlcalculator\u001b[38;5;241m.\u001b[39mast_nodes\u001b[38;5;241m.\u001b[39mFunctionNode\n\u001b[1;32m     99\u001b[0m ):\n\u001b[1;32m    100\u001b[0m     modified_args \u001b[38;5;241m=\u001b[39m [\n\u001b[0;32m--> 101\u001b[0m         \u001b[38;5;28;43mself\u001b[39;49m\u001b[38;5;241;43m.\u001b[39;49m\u001b[43mapply_deltas_to_range_nodes\u001b[49m\u001b[43m(\u001b[49m\u001b[43marg\u001b[49m\u001b[43m,\u001b[49m\u001b[43m \u001b[49m\u001b[43mnode2\u001b[49m\u001b[38;5;241;43m.\u001b[39;49m\u001b[43margs\u001b[49m\u001b[43m[\u001b[49m\u001b[43mi\u001b[49m\u001b[43m]\u001b[49m\u001b[43m)\u001b[49m\n\u001b[1;32m    102\u001b[0m         \u001b[38;5;28;01mfor\u001b[39;00m i, arg \u001b[38;5;129;01min\u001b[39;00m \u001b[38;5;28menumerate\u001b[39m(node1\u001b[38;5;241m.\u001b[39margs)\n\u001b[1;32m    103\u001b[0m     ]\n\u001b[1;32m    104\u001b[0m     modified_node \u001b[38;5;241m=\u001b[39m xlcalculator\u001b[38;5;241m.\u001b[39mast_nodes\u001b[38;5;241m.\u001b[39mFunctionNode(node1\u001b[38;5;241m.\u001b[39mtoken)\n\u001b[1;32m    105\u001b[0m     modified_node\u001b[38;5;241m.\u001b[39margs \u001b[38;5;241m=\u001b[39m modified_args\n",
      "File \u001b[0;32m~/GitHub/speedsheet/excel-2-python/src/ast_transformation/formula_generator.py:64\u001b[0m, in \u001b[0;36mASTGenerator.apply_deltas_to_range_nodes\u001b[0;34m(self, node1, node2)\u001b[0m\n\u001b[1;32m     56\u001b[0m \u001b[38;5;28;01mdef\u001b[39;00m \u001b[38;5;21mapply_deltas_to_range_nodes\u001b[39m(\n\u001b[1;32m     57\u001b[0m     \u001b[38;5;28mself\u001b[39m,\n\u001b[1;32m     58\u001b[0m     node1: xlcalculator\u001b[38;5;241m.\u001b[39mast_nodes\u001b[38;5;241m.\u001b[39mASTNode,\n\u001b[1;32m     59\u001b[0m     node2: xlcalculator\u001b[38;5;241m.\u001b[39mast_nodes\u001b[38;5;241m.\u001b[39mASTNode,\n\u001b[1;32m     60\u001b[0m ):\n\u001b[1;32m     61\u001b[0m     \u001b[38;5;28;01mif\u001b[39;00m \u001b[38;5;28misinstance\u001b[39m(node1, xlcalculator\u001b[38;5;241m.\u001b[39mast_nodes\u001b[38;5;241m.\u001b[39mRangeNode) \u001b[38;5;129;01mand\u001b[39;00m \u001b[38;5;28misinstance\u001b[39m(\n\u001b[1;32m     62\u001b[0m         node2, xlcalculator\u001b[38;5;241m.\u001b[39mast_nodes\u001b[38;5;241m.\u001b[39mRangeNode\n\u001b[1;32m     63\u001b[0m     ):\n\u001b[0;32m---> 64\u001b[0m         deltas \u001b[38;5;241m=\u001b[39m \u001b[38;5;28;43mself\u001b[39;49m\u001b[38;5;241;43m.\u001b[39;49m\u001b[43mget_delta_between_nodes\u001b[49m\u001b[43m(\u001b[49m\u001b[43mnode1\u001b[49m\u001b[38;5;241;43m.\u001b[39;49m\u001b[43mtvalue\u001b[49m\u001b[43m,\u001b[49m\u001b[43m \u001b[49m\u001b[43mnode2\u001b[49m\u001b[38;5;241;43m.\u001b[39;49m\u001b[43mtvalue\u001b[49m\u001b[43m)\u001b[49m\n\u001b[1;32m     65\u001b[0m         \u001b[38;5;28;01mif\u001b[39;00m deltas:\n\u001b[1;32m     66\u001b[0m             (\n\u001b[1;32m     67\u001b[0m                 start_row_index_delta,\n\u001b[1;32m     68\u001b[0m                 end_row_index_delta,\n\u001b[1;32m     69\u001b[0m                 start_column_index_delta,\n\u001b[1;32m     70\u001b[0m                 end_column_index_delta,\n\u001b[1;32m     71\u001b[0m             ), start_index \u001b[38;5;241m=\u001b[39m deltas\n",
      "File \u001b[0;32m~/GitHub/speedsheet/excel-2-python/src/ast_transformation/formula_generator.py:36\u001b[0m, in \u001b[0;36mASTGenerator.get_delta_between_nodes\u001b[0;34m(node1_value, node2_value)\u001b[0m\n\u001b[1;32m     33\u001b[0m     node2_series_ids, node2_row_indexes \u001b[38;5;241m=\u001b[39m node2_tuple\n\u001b[1;32m     34\u001b[0m     node2_start_row_index, node2_end_row_index \u001b[38;5;241m=\u001b[39m node2_row_indexes\n\u001b[0;32m---> 36\u001b[0m start_row_index_delta \u001b[38;5;241m=\u001b[39m \u001b[43mnode2_start_row_index\u001b[49m\u001b[43m \u001b[49m\u001b[38;5;241;43m-\u001b[39;49m\u001b[43m \u001b[49m\u001b[43mnode1_start_row_index\u001b[49m\n\u001b[1;32m     37\u001b[0m end_row_index_delta \u001b[38;5;241m=\u001b[39m node2_end_row_index \u001b[38;5;241m-\u001b[39m node1_end_row_index\n\u001b[1;32m     39\u001b[0m \u001b[38;5;66;03m# Extract the column indexes from the series ids\u001b[39;00m\n",
      "\u001b[0;31mTypeError\u001b[0m: unsupported operand type(s) for -: 'NoneType' and 'NoneType'"
     ]
    }
   ],
   "source": [
    "for series in series_list:\n",
    "    formula_1 = series.formulas[0]\n",
    "    formula_1_ast = FormulaParser.parse_formula(formula_1)\n",
    "    series_implementer = SeriesImplementer(series_mapping, sheet_name = series.worksheet.sheet_name)\n",
    "    formula_1_ast_series = series_implementer.replace_range_nodes(formula_1_ast)\n",
    "\n",
    "    formula_2 = series.formulas[1]\n",
    "    formula_2_ast = FormulaParser.parse_formula(formula_2)\n",
    "    formula_2_ast_series = series_implementer.replace_range_nodes(formula_2_ast)\n",
    "\n",
    "\n",
    "    print(formula_1)\n",
    "    print(formula_2)\n",
    "\n",
    "    ast_generator = FormulaGenerator.get_ast_generator(formula_1_ast_series, formula_2_ast_series)\n",
    "    \n",
    "    ast_delta = ast_generator.get_ast_with_deltas()\n",
    "    ast_delta_serialised = SeriesImplementer.serialise_ast_to_formula(ast_delta)\n",
    "    print(ast_delta_serialised)\n",
    "    "
   ]
  },
  {
   "cell_type": "code",
   "execution_count": null,
   "metadata": {},
   "outputs": [],
   "source": []
  }
 ],
 "metadata": {
  "kernelspec": {
   "display_name": "venv",
   "language": "python",
   "name": "python3"
  },
  "language_info": {
   "codemirror_mode": {
    "name": "ipython",
    "version": 3
   },
   "file_extension": ".py",
   "mimetype": "text/x-python",
   "name": "python",
   "nbconvert_exporter": "python",
   "pygments_lexer": "ipython3",
   "version": "3.11.5"
  }
 },
 "nbformat": 4,
 "nbformat_minor": 2
}
