{
 "cells": [
  {
   "cell_type": "code",
   "execution_count": 14,
   "metadata": {},
   "outputs": [
    {
     "name": "stdout",
     "output_type": "stream",
     "text": [
      "Class: ASTGenerator\n",
      "Methods:\n",
      "Inputs: ['index']\n",
      "Outputs: ['ast']\n",
      "Class: ASTGeneratorPython\n",
      "Methods:\n",
      "Inputs: ['index', 'ast']\n",
      "Outputs: ['ast_python']\n",
      "Class: ExcelLoader\n",
      "Methods:\n",
      "Inputs: ['file_path']\n",
      "Outputs: ['excel_file']\n",
      "Class: ExcelCompatibilityChecker\n",
      "Methods:\n",
      "Inputs: ['excel_raw', 'excel_reduced', 'extracted_tables']\n",
      "Outputs: ['is_compatible']\n",
      "Class: ExcelValidator\n",
      "Methods:\n",
      "Inputs: ['excel_reduced']\n",
      "Outputs: ['is_valid']\n",
      "Class: SeriesExtractor\n",
      "Methods:\n",
      "Inputs: ['excel_reduced_clean', 'extracted_tables']\n",
      "Outputs: ['series_data']\n",
      "Class: ExcelCleaner\n",
      "Methods:\n",
      "Inputs: ['excel_reduced']\n",
      "Outputs: ['excel_reduced_clean']\n",
      "Class: TableFinder\n",
      "Methods:\n",
      "Inputs: ['excel_reduced_clean']\n",
      "Outputs: ['extracted_tables']\n",
      "Class: FormulaParser\n",
      "Methods:\n",
      "Inputs: ['formula']\n",
      "Outputs: ['formula_ast']\n",
      "Class: SeriesImplementer\n",
      "Methods:\n",
      "Inputs: ['formula_ast']\n",
      "Outputs: ['formula_ast_series']\n",
      "Class: FormulaGenerator\n",
      "Methods:\n",
      "Inputs: ['formula_1_ast_series', 'formula_2_ast_series']\n",
      "Outputs: ['ast_generator']\n",
      "Class: FunctionReplacer\n",
      "Methods:\n",
      "Inputs: ['ast_generator']\n",
      "Outputs: ['ast_generator_python']\n",
      "Class: FunctionTranslator\n",
      "Methods:\n",
      "Inputs: ['excel_function']\n",
      "Outputs: ['python_function']\n",
      "Class: DAGSorter\n",
      "Methods:\n",
      "Inputs: ['series_dependencies']\n",
      "Outputs: ['sorted_dag']\n",
      "Class: PythonPipelineBuilder\n",
      "Methods:\n",
      "Inputs: ['series_data', 'sorted_dag', 'ast_generator_collection']\n",
      "Outputs: ['python_pipeline']\n"
     ]
    }
   ],
   "source": [
    "import yaml\n",
    "\n",
    "# Define the path to your YAML file\n",
    "yaml_file_path = 'classes.yml'\n",
    "\n",
    "# Open the YAML file and load its contents\n",
    "with open(yaml_file_path, 'r') as file:\n",
    "    config = yaml.safe_load(file)\n",
    "\n",
    "\n"
   ]
  },
  {
   "cell_type": "code",
   "execution_count": 15,
   "metadata": {},
   "outputs": [
    {
     "data": {
      "text/plain": [
       "{'name': 'PythonPipelineBuilder',\n",
       " 'type': 'regular',\n",
       " 'description': 'Builds a Python pipeline',\n",
       " 'methods': [{'name': 'build_pipeline',\n",
       "   'type': 'static',\n",
       "   'inputs': [{'name': 'series_data', 'type': 'dict[UUID, list[Series]]'},\n",
       "    {'name': 'sorted_dag', 'type': 'list[UUID]'},\n",
       "    {'name': 'ast_generator_collection',\n",
       "     'type': 'dict[UUID, ASTGeneratorPython]'}],\n",
       "   'outputs': [{'name': 'python_pipeline', 'type': 'str'}]}]}"
      ]
     },
     "execution_count": 15,
     "metadata": {},
     "output_type": "execute_result"
    }
   ],
   "source": [
    "classes[-1]"
   ]
  },
  {
   "cell_type": "code",
   "execution_count": null,
   "metadata": {},
   "outputs": [],
   "source": []
  }
 ],
 "metadata": {
  "kernelspec": {
   "display_name": "venv",
   "language": "python",
   "name": "python3"
  },
  "language_info": {
   "codemirror_mode": {
    "name": "ipython",
    "version": 3
   },
   "file_extension": ".py",
   "mimetype": "text/x-python",
   "name": "python",
   "nbconvert_exporter": "python",
   "pygments_lexer": "ipython3",
   "version": "3.11.5"
  }
 },
 "nbformat": 4,
 "nbformat_minor": 2
}
