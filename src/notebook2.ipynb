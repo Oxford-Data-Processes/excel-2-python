{
 "cells": [
  {
   "cell_type": "code",
   "execution_count": 20,
   "metadata": {},
   "outputs": [],
   "source": [
    "# Build a formula evaluator"
   ]
  },
  {
   "cell_type": "code",
   "execution_count": 21,
   "metadata": {},
   "outputs": [],
   "source": [
    "import pickle\n",
    "\n",
    "def load_pickled_object(file_path):\n",
    "    with open(file_path, 'rb') as file:\n",
    "        obj = pickle.load(file)\n",
    "    return obj"
   ]
  },
  {
   "cell_type": "code",
   "execution_count": 22,
   "metadata": {},
   "outputs": [],
   "source": [
    "generic_formula_dictionary = load_pickled_object('generic_formula_dictionary.pkl')\n",
    "series_dict = load_pickled_object('series_dict.pkl')"
   ]
  },
  {
   "cell_type": "code",
   "execution_count": 27,
   "metadata": {},
   "outputs": [
    {
     "data": {
      "text/plain": [
       "[Series(series_id=SeriesId(sheet_name='Sheet1', series_header='col_1', series_header_cell_row=2, series_header_cell_column=2), worksheet=Worksheet(sheet_name='Sheet1', workbook_file_path=None, worksheet=None), series_header='col_1', formulas=[None, None], values=[1, 3], header_location=<HeaderLocation.TOP: 'top'>, series_starting_cell=Cell(column=2, row=3, coordinate='B3', sheet_name=None, value=None, value_type=None, formula=None), series_length=2, series_data_type=<SeriesDataType.INT: 'int'>),\n",
       " Series(series_id=SeriesId(sheet_name='Sheet1', series_header='col_2', series_header_cell_row=2, series_header_cell_column=3), worksheet=Worksheet(sheet_name='Sheet1', workbook_file_path=None, worksheet=None), series_header='col_2', formulas=[None, None], values=[2, 4], header_location=<HeaderLocation.TOP: 'top'>, series_starting_cell=Cell(column=3, row=3, coordinate='C3', sheet_name=None, value=None, value_type=None, formula=None), series_length=2, series_data_type=<SeriesDataType.INT: 'int'>),\n",
       " Series(series_id=SeriesId(sheet_name='Sheet1', series_header='col_3', series_header_cell_row=2, series_header_cell_column=4), worksheet=Worksheet(sheet_name='Sheet1', workbook_file_path=None, worksheet=None), series_header='col_3', formulas=['=Sheet1!B3+Sheet1!C3', '=Sheet1!B4+Sheet1!C4'], values=[3, 7], header_location=<HeaderLocation.TOP: 'top'>, series_starting_cell=Cell(column=4, row=3, coordinate='D3', sheet_name=None, value=None, value_type=None, formula=None), series_length=2, series_data_type=<SeriesDataType.INT: 'int'>),\n",
       " Series(series_id=SeriesId(sheet_name='Sheet1', series_header='col_4', series_header_cell_row=2, series_header_cell_column=5), worksheet=Worksheet(sheet_name='Sheet1', workbook_file_path=None, worksheet=None), series_header='col_4', formulas=['=SUM(Sheet1!B3:D3)', '=SUM(Sheet1!B4:D4)'], values=[6, 14], header_location=<HeaderLocation.TOP: 'top'>, series_starting_cell=Cell(column=5, row=3, coordinate='E3', sheet_name=None, value=None, value_type=None, formula=None), series_length=2, series_data_type=<SeriesDataType.INT: 'int'>),\n",
       " Series(series_id=SeriesId(sheet_name='Sheet1', series_header='col_1', series_header_cell_row=13, series_header_cell_column=7), worksheet=Worksheet(sheet_name='Sheet1', workbook_file_path=None, worksheet=None), series_header='col_1', formulas=[None, None], values=[1, 3], header_location=<HeaderLocation.TOP: 'top'>, series_starting_cell=Cell(column=7, row=14, coordinate='G14', sheet_name=None, value=None, value_type=None, formula=None), series_length=2, series_data_type=<SeriesDataType.INT: 'int'>),\n",
       " Series(series_id=SeriesId(sheet_name='Sheet1', series_header='col_2', series_header_cell_row=13, series_header_cell_column=8), worksheet=Worksheet(sheet_name='Sheet1', workbook_file_path=None, worksheet=None), series_header='col_2', formulas=[None, None], values=[2, 4], header_location=<HeaderLocation.TOP: 'top'>, series_starting_cell=Cell(column=8, row=14, coordinate='H14', sheet_name=None, value=None, value_type=None, formula=None), series_length=2, series_data_type=<SeriesDataType.INT: 'int'>),\n",
       " Series(series_id=SeriesId(sheet_name='Sheet1', series_header='col_3', series_header_cell_row=13, series_header_cell_column=9), worksheet=Worksheet(sheet_name='Sheet1', workbook_file_path=None, worksheet=None), series_header='col_3', formulas=['=Sheet1!G14+Sheet1!H14', '=Sheet1!G15+Sheet1!H15'], values=[3, 7], header_location=<HeaderLocation.TOP: 'top'>, series_starting_cell=Cell(column=9, row=14, coordinate='I14', sheet_name=None, value=None, value_type=None, formula=None), series_length=2, series_data_type=<SeriesDataType.INT: 'int'>),\n",
       " Series(series_id=SeriesId(sheet_name='Sheet1', series_header='col_4', series_header_cell_row=13, series_header_cell_column=10), worksheet=Worksheet(sheet_name='Sheet1', workbook_file_path=None, worksheet=None), series_header='col_4', formulas=['=SUM(Sheet1!G14:Sheet1!I14)', '=SUM(Sheet1!G15:Sheet1!I15)'], values=[6, 14], header_location=<HeaderLocation.TOP: 'top'>, series_starting_cell=Cell(column=10, row=14, coordinate='J14', sheet_name=None, value=None, value_type=None, formula=None), series_length=2, series_data_type=<SeriesDataType.INT: 'int'>),\n",
       " Series(series_id=SeriesId(sheet_name='Sheet1', series_header='horizontal_column_1', series_header_cell_row=12, series_header_cell_column=2), worksheet=Worksheet(sheet_name='Sheet1', workbook_file_path=None, worksheet=None), series_header='horizontal_column_1', formulas=['=B3', '=C3'], values=[1, 2], header_location=<HeaderLocation.LEFT: 'left'>, series_starting_cell=Cell(column=3, row=12, coordinate='C12', sheet_name=None, value=None, value_type=None, formula=None), series_length=2, series_data_type=<SeriesDataType.INT: 'int'>),\n",
       " Series(series_id=SeriesId(sheet_name='Sheet1', series_header='horizontal_column_2', series_header_cell_row=13, series_header_cell_column=2), worksheet=Worksheet(sheet_name='Sheet1', workbook_file_path=None, worksheet=None), series_header='horizontal_column_2', formulas=['=B4', '=C4'], values=[3, 4], header_location=<HeaderLocation.LEFT: 'left'>, series_starting_cell=Cell(column=3, row=13, coordinate='C13', sheet_name=None, value=None, value_type=None, formula=None), series_length=2, series_data_type=<SeriesDataType.INT: 'int'>)]"
      ]
     },
     "execution_count": 27,
     "metadata": {},
     "output_type": "execute_result"
    }
   ],
   "source": [
    "series_dict[\"Sheet1\"]"
   ]
  },
  {
   "cell_type": "code",
   "execution_count": 23,
   "metadata": {},
   "outputs": [],
   "source": [
    "example_ast = list(generic_formula_dictionary.values())[0]"
   ]
  },
  {
   "cell_type": "code",
   "execution_count": null,
   "metadata": {},
   "outputs": [],
   "source": [
    "# What do I need: a dictionary with Series Ids as keys and pandas Series as values (accounting for the orientation)\n",
    "\n",
    "import pandas as pd\n",
    "\n",
    "series_dictionary_simple = {\"Sheet1|col_1|2|2\": pd.Series([1, 2, 3, 4, 5]), \"Sheet1|col_2|2|3\": pd.Series([6, 7, 8, 9, 10])}"
   ]
  },
  {
   "cell_type": "code",
   "execution_count": 24,
   "metadata": {},
   "outputs": [
    {
     "name": "stdout",
     "output_type": "stream",
     "text": [
      "((('Sheet1|col_1|2|2',), (0, 0), (1, 1), (0, 0))) + ((('Sheet1|col_2|2|3',), (0, 0), (1, 1), (0, 0)))\n"
     ]
    }
   ],
   "source": [
    "print(example_ast)"
   ]
  },
  {
   "cell_type": "code",
   "execution_count": null,
   "metadata": {},
   "outputs": [],
   "source": []
  }
 ],
 "metadata": {
  "kernelspec": {
   "display_name": "venv",
   "language": "python",
   "name": "python3"
  },
  "language_info": {
   "codemirror_mode": {
    "name": "ipython",
    "version": 3
   },
   "file_extension": ".py",
   "mimetype": "text/x-python",
   "name": "python",
   "nbconvert_exporter": "python",
   "pygments_lexer": "ipython3",
   "version": "3.11.5"
  }
 },
 "nbformat": 4,
 "nbformat_minor": 2
}
