{
 "cells": [
  {
   "cell_type": "code",
   "execution_count": 1,
   "metadata": {},
   "outputs": [],
   "source": [
    "import os\n",
    "\n",
    "from series_extraction.excel_loader import ExcelLoader\n",
    "from series_extraction.excel_cleaner import ExcelCleaner\n",
    "from series_extraction.table_extractor import TableExtractor\n",
    "from series_extraction.series_extractor import SeriesExtractor\n",
    "from series_extraction.excel_compatibility_checker import ExcelCompatibilityChecker\n",
    "from series_extraction.series_iterator import SeriesIterator\n",
    "from series_extraction.series_mapper import SeriesMapper\n",
    "from series_extraction.excel_validator import ExcelValidator\n",
    "\n",
    "from ast_transformation.formula_generator import FormulaGenerator\n",
    "\n",
    "from ast_building.formula_parser import FormulaParser\n",
    "\n",
    "from excel_builder import ExcelBuilder"
   ]
  },
  {
   "cell_type": "code",
   "execution_count": 2,
   "metadata": {},
   "outputs": [],
   "source": [
    "data_directory = \"/Users/chrislittle/GitHub/speedsheet/excel-2-python/data\"\n",
    "\n",
    "project_name = 'test_excel_2'\n",
    "\n",
    "excel_raw_file_path = os.path.join(data_directory, \"excel_files_raw\", f\"{project_name}_raw.xlsx\")\n",
    "excel_reduced_filepath = os.path.join(data_directory, \"excel_files_reduced\", f\"{project_name}_reduced.xlsx\")\n",
    "excel_reduced_clean_filepath = os.path.join(data_directory, \"excel_files_reduced_clean\", f\"{project_name}_reduced_clean.xlsx\")\n",
    "excel_raw_clean_filepath = os.path.join(data_directory, \"excel_files_raw_clean\", f\"{project_name}_raw_clean.xlsx\")\n",
    "excel_reduced_clean_series_filepath = os.path.join(data_directory, \"excel_files_reduced_clean_series\", f\"{project_name}_reduced_clean_series.xlsx\")\n",
    "excel_reduced_clean_series_python_filepath = os.path.join(data_directory, \"excel_files_reduced_clean_series_python\", f\"{project_name}_reduced_clean_series_python.xlsx\")\n",
    "excel_raw_clean_series_python_filepath = os.path.join(data_directory, \"excel_files_raw_clean_series_python\", f\"{project_name}_raw_clean_series_python.xlsx\")"
   ]
  },
  {
   "cell_type": "code",
   "execution_count": 3,
   "metadata": {},
   "outputs": [],
   "source": [
    "excel_raw= ExcelLoader.load_file(excel_raw_file_path)\n",
    "excel_reduced = ExcelLoader.load_file(excel_reduced_filepath)\n",
    "is_valid = ExcelValidator.validate_excel(excel_reduced)\n",
    "if not is_valid:\n",
    "    raise Exception(\"Excel file is not valid\")\n",
    "\n",
    "excel_reduced_clean = ExcelCleaner.clean_excel(excel_reduced)\n",
    "excel_raw_clean = ExcelCleaner.clean_excel(excel_raw)\n",
    "ExcelBuilder.create_excel_from_workbook(excel_reduced_clean.workbook_with_formulas, excel_reduced_clean_filepath)\n",
    "ExcelBuilder.create_excel_from_workbook(excel_raw_clean.workbook_with_formulas,  excel_raw_clean_filepath)\n",
    "\n",
    "extracted_tables, workbook_data = TableExtractor.extract_tables(excel_reduced_clean)\n",
    "is_compatible = ExcelCompatibilityChecker.check_file(excel_raw, excel_reduced, extracted_tables)\n",
    "if not is_compatible:\n",
    "    raise Exception(\"Excel file is not compatible\")\n",
    "\n",
    "series_dict = SeriesExtractor.extract_series(extracted_tables=extracted_tables, workbook_data=workbook_data)\n",
    "series_mapping = SeriesMapper.map_series(series_dict)\n",
    "series_iterator = SeriesIterator.iterate_series(series_dict)\n",
    "\n",
    "series_list = [series for series in series_iterator]\n",
    "\n",
    "series_list_with_formulas = [\n",
    "    series for series in series_list if series.formulas != [None, None]\n",
    "]\n",
    "series_list_with_values = [\n",
    "    series for series in series_list if series.formulas == [None, None]\n",
    "]\n",
    "\n",
    "generic_formula_dictionary = {}\n",
    "\n",
    "for series in series_list_with_formulas:\n",
    "    formula_1, formula_2 = series.formulas\n",
    "    \n",
    "    if formula_1 is not None and formula_2 is not None:\n",
    "\n",
    "        formula_1_ast_elements, _ = FormulaParser.parse_formula(formula_1)\n",
    "        formula_2_ast_elements, _ = FormulaParser.parse_formula(formula_2)\n",
    "\n",
    "        generic_formula = FormulaGenerator.generate_generic_formula(formula_1_ast_elements, formula_2_ast_elements)\n",
    "\n",
    "        sheet_name = series.series_id.sheet_name\n",
    "\n",
    "        generic_formula_dictionary[series.series_id] = (formula_1_ast_elements, generic_formula)"
   ]
  },
  {
   "cell_type": "code",
   "execution_count": 4,
   "metadata": {},
   "outputs": [],
   "source": [
    "# formula_1_ast_elements, generic_formula = list(generic_formula_dictionary.values())[5]"
   ]
  },
  {
   "cell_type": "code",
   "execution_count": 5,
   "metadata": {},
   "outputs": [],
   "source": [
    "# formula_1_ast_elements"
   ]
  },
  {
   "cell_type": "code",
   "execution_count": 6,
   "metadata": {},
   "outputs": [],
   "source": [
    "from excel_utils import ExcelUtils\n",
    "from formulas.tokens.operand import Range"
   ]
  },
  {
   "cell_type": "code",
   "execution_count": 7,
   "metadata": {},
   "outputs": [],
   "source": [
    "def get_sheet_name_from_range(range: Range):\n",
    "    \"\"\"Get sheet name from range\"\"\"\n",
    "    if \"!\" in range.name:\n",
    "        return range.name.split(\"!\")[0], range.name.split(\"!\")[1]\n",
    "    return None, range.name\n",
    "\n",
    "def apply_delta_to_range(range: Range, delta):\n",
    "    \"\"\"Apply delta to range\"\"\"\n",
    "\n",
    "    print(f\"range: {range}\")\n",
    "\n",
    "    sheet_name, range_string = get_sheet_name_from_range(range)\n",
    "\n",
    "    cell_start_column_delta, cell_start_row_delta, cell_end_column_delta, cell_end_row_delta = delta\n",
    "\n",
    "    cell_start_column, cell_start_row, cell_end_column, cell_end_row, is_column_range = ExcelUtils.get_coordinates_from_range(range_string)\n",
    "\n",
    "    if not is_column_range:\n",
    "        cell_start_column += cell_start_column_delta\n",
    "        cell_start_row += cell_start_row_delta\n",
    "        cell_end_column += cell_end_column_delta\n",
    "        cell_end_row += cell_end_row_delta\n",
    "\n",
    "        new_range_string = ExcelUtils.get_range_from_coordinates(cell_start_column, cell_start_row, cell_end_column, cell_end_row, is_column_range)\n",
    "        print(f\"new_range_string: {new_range_string}\")\n",
    "        if sheet_name:\n",
    "            return Range(f\"{sheet_name}!{new_range_string}\")\n",
    "        return Range(new_range_string)\n",
    "    return range\n"
   ]
  },
  {
   "cell_type": "code",
   "execution_count": 8,
   "metadata": {},
   "outputs": [],
   "source": [
    "# generic_formula"
   ]
  },
  {
   "cell_type": "code",
   "execution_count": 9,
   "metadata": {},
   "outputs": [],
   "source": [
    "# formula_1_ast_elements\n",
    "\n",
    "\n",
    "def join_elements(formula_1_ast_elements):\n",
    "    return \"\".join(element.name for element in formula_1_ast_elements)\n"
   ]
  },
  {
   "cell_type": "code",
   "execution_count": 10,
   "metadata": {},
   "outputs": [],
   "source": [
    "def generate_formula_list(formula_1_ast_elements, generic_formula):\n",
    "\n",
    "    list_length = 2\n",
    "\n",
    "    formula_list = [join_elements(formula_1_ast_elements)]\n",
    "\n",
    "    for _ in range(1, list_length):\n",
    "        for index, element in enumerate(formula_1_ast_elements):\n",
    "            if isinstance(element, Range):\n",
    "                delta = generic_formula[index]\n",
    "                print(f\"delta: {delta}\")\n",
    "                new_element = apply_delta_to_range(element, delta)\n",
    "                print(f\"new_element: {new_element}\")\n",
    "                formula_1_ast_elements[index] = new_element\n",
    "                print(f\"formula_1_ast_elements: {formula_1_ast_elements}\")\n",
    "                formula_list.append(join_elements(formula_1_ast_elements))\n",
    "\n",
    "    return formula_list\n",
    "\n"
   ]
  },
  {
   "cell_type": "code",
   "execution_count": 11,
   "metadata": {},
   "outputs": [
    {
     "name": "stdout",
     "output_type": "stream",
     "text": [
      "delta: (0, 1, 0, 1)\n",
      "range: E2 <Range>\n",
      "new_range_string: E3:E3\n",
      "new_element: E3 <Range>\n",
      "formula_1_ast_elements: [E3 <Range>, * <Operator>, B2 <Range>]\n",
      "delta: (0, 1, 0, 1)\n",
      "range: B2 <Range>\n",
      "new_range_string: B3:B3\n",
      "new_element: B3 <Range>\n",
      "formula_1_ast_elements: [E3 <Range>, * <Operator>, B3 <Range>]\n"
     ]
    }
   ],
   "source": [
    "formula_list = generate_formula_list(formula_1_ast_elements, generic_formula)"
   ]
  },
  {
   "cell_type": "code",
   "execution_count": 12,
   "metadata": {},
   "outputs": [
    {
     "data": {
      "text/plain": [
       "['E2*B2', 'E3*B2', 'E3*B3']"
      ]
     },
     "execution_count": 12,
     "metadata": {},
     "output_type": "execute_result"
    }
   ],
   "source": [
    "formula_list"
   ]
  },
  {
   "cell_type": "code",
   "execution_count": 13,
   "metadata": {},
   "outputs": [
    {
     "data": {
      "text/plain": [
       "Array([6.0], dtype=object)"
      ]
     },
     "execution_count": 13,
     "metadata": {},
     "output_type": "execute_result"
    }
   ],
   "source": [
    "import formulas\n",
    "\n",
    "formula = '=B2+SUM(A:A)'\n",
    "ast = formulas.Parser().ast(formula)\n",
    "pipe = ast[1].compile()\n",
    "ranges = [item[0] for item in list(pipe.inputs.items())]\n",
    "\n",
    "cell_value_mapping = {\"B2\": [1], \"A:A\": [2,3]}\n",
    "inputs = [cell_value_mapping[range] for range in ranges]\n",
    "result = pipe(*inputs)\n",
    "\n",
    "result"
   ]
  },
  {
   "cell_type": "code",
   "execution_count": 14,
   "metadata": {},
   "outputs": [],
   "source": [
    "import formulas\n",
    "\n",
    "def evaluate_formula(formula: str, cell_value_mapping: dict):\n",
    "    if \"=\" not in formula:\n",
    "        formula = f\"={formula}\"\n",
    "    ast = formulas.Parser().ast(formula)\n",
    "    pipe = ast[1].compile()\n",
    "    ranges = [item[0] for item in list(pipe.inputs.items())]\n",
    "    inputs = [cell_value_mapping[range] for range in ranges]\n",
    "    result = pipe(*inputs)\n",
    "    return result"
   ]
  },
  {
   "cell_type": "code",
   "execution_count": 15,
   "metadata": {},
   "outputs": [
    {
     "data": {
      "text/plain": [
       "Array([6.0], dtype=object)"
      ]
     },
     "execution_count": 15,
     "metadata": {},
     "output_type": "execute_result"
    }
   ],
   "source": [
    "cell_value_mapping = {\"B2\": [1], \"A:A\": [2,3]}\n",
    "evaluate_formula('=B2+SUM(A:A)', cell_value_mapping)\n",
    "\n"
   ]
  },
  {
   "cell_type": "code",
   "execution_count": 16,
   "metadata": {},
   "outputs": [
    {
     "data": {
      "text/plain": [
       "'E2*B2'"
      ]
     },
     "execution_count": 16,
     "metadata": {},
     "output_type": "execute_result"
    }
   ],
   "source": [
    "formula_list[0]"
   ]
  },
  {
   "cell_type": "code",
   "execution_count": 17,
   "metadata": {},
   "outputs": [
    {
     "ename": "KeyError",
     "evalue": "'E2'",
     "output_type": "error",
     "traceback": [
      "\u001b[0;31m---------------------------------------------------------------------------\u001b[0m",
      "\u001b[0;31mKeyError\u001b[0m                                  Traceback (most recent call last)",
      "Cell \u001b[0;32mIn[17], line 1\u001b[0m\n\u001b[0;32m----> 1\u001b[0m \u001b[43mevaluate_formula\u001b[49m\u001b[43m(\u001b[49m\u001b[43mformula_list\u001b[49m\u001b[43m[\u001b[49m\u001b[38;5;241;43m0\u001b[39;49m\u001b[43m]\u001b[49m\u001b[43m,\u001b[49m\u001b[43m \u001b[49m\u001b[43mcell_value_mapping\u001b[49m\u001b[43m)\u001b[49m\n",
      "Cell \u001b[0;32mIn[14], line 9\u001b[0m, in \u001b[0;36mevaluate_formula\u001b[0;34m(formula, cell_value_mapping)\u001b[0m\n\u001b[1;32m      7\u001b[0m pipe \u001b[38;5;241m=\u001b[39m ast[\u001b[38;5;241m1\u001b[39m]\u001b[38;5;241m.\u001b[39mcompile()\n\u001b[1;32m      8\u001b[0m ranges \u001b[38;5;241m=\u001b[39m [item[\u001b[38;5;241m0\u001b[39m] \u001b[38;5;28;01mfor\u001b[39;00m item \u001b[38;5;129;01min\u001b[39;00m \u001b[38;5;28mlist\u001b[39m(pipe\u001b[38;5;241m.\u001b[39minputs\u001b[38;5;241m.\u001b[39mitems())]\n\u001b[0;32m----> 9\u001b[0m inputs \u001b[38;5;241m=\u001b[39m \u001b[43m[\u001b[49m\u001b[43mcell_value_mapping\u001b[49m\u001b[43m[\u001b[49m\u001b[38;5;28;43mrange\u001b[39;49m\u001b[43m]\u001b[49m\u001b[43m \u001b[49m\u001b[38;5;28;43;01mfor\u001b[39;49;00m\u001b[43m \u001b[49m\u001b[38;5;28;43mrange\u001b[39;49m\u001b[43m \u001b[49m\u001b[38;5;129;43;01min\u001b[39;49;00m\u001b[43m \u001b[49m\u001b[43mranges\u001b[49m\u001b[43m]\u001b[49m\n\u001b[1;32m     10\u001b[0m result \u001b[38;5;241m=\u001b[39m pipe(\u001b[38;5;241m*\u001b[39minputs)\n\u001b[1;32m     11\u001b[0m \u001b[38;5;28;01mreturn\u001b[39;00m result\n",
      "Cell \u001b[0;32mIn[14], line 9\u001b[0m, in \u001b[0;36m<listcomp>\u001b[0;34m(.0)\u001b[0m\n\u001b[1;32m      7\u001b[0m pipe \u001b[38;5;241m=\u001b[39m ast[\u001b[38;5;241m1\u001b[39m]\u001b[38;5;241m.\u001b[39mcompile()\n\u001b[1;32m      8\u001b[0m ranges \u001b[38;5;241m=\u001b[39m [item[\u001b[38;5;241m0\u001b[39m] \u001b[38;5;28;01mfor\u001b[39;00m item \u001b[38;5;129;01min\u001b[39;00m \u001b[38;5;28mlist\u001b[39m(pipe\u001b[38;5;241m.\u001b[39minputs\u001b[38;5;241m.\u001b[39mitems())]\n\u001b[0;32m----> 9\u001b[0m inputs \u001b[38;5;241m=\u001b[39m [\u001b[43mcell_value_mapping\u001b[49m\u001b[43m[\u001b[49m\u001b[38;5;28;43mrange\u001b[39;49m\u001b[43m]\u001b[49m \u001b[38;5;28;01mfor\u001b[39;00m \u001b[38;5;28mrange\u001b[39m \u001b[38;5;129;01min\u001b[39;00m ranges]\n\u001b[1;32m     10\u001b[0m result \u001b[38;5;241m=\u001b[39m pipe(\u001b[38;5;241m*\u001b[39minputs)\n\u001b[1;32m     11\u001b[0m \u001b[38;5;28;01mreturn\u001b[39;00m result\n",
      "\u001b[0;31mKeyError\u001b[0m: 'E2'"
     ]
    }
   ],
   "source": [
    "evaluate_formula(formula_list[0], cell_value_mapping)"
   ]
  },
  {
   "cell_type": "code",
   "execution_count": null,
   "metadata": {},
   "outputs": [],
   "source": []
  }
 ],
 "metadata": {
  "kernelspec": {
   "display_name": "venv",
   "language": "python",
   "name": "python3"
  },
  "language_info": {
   "codemirror_mode": {
    "name": "ipython",
    "version": 3
   },
   "file_extension": ".py",
   "mimetype": "text/x-python",
   "name": "python",
   "nbconvert_exporter": "python",
   "pygments_lexer": "ipython3",
   "version": "3.11.5"
  }
 },
 "nbformat": 4,
 "nbformat_minor": 2
}
