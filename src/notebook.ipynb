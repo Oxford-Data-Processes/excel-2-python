{
 "cells": [
  {
   "cell_type": "code",
   "execution_count": 1,
   "metadata": {},
   "outputs": [],
   "source": [
    "import os\n",
    "\n",
    "from series_extraction.excel_loader import ExcelLoader\n",
    "from series_extraction.excel_cleaner import ExcelCleaner\n",
    "from series_extraction.table_finder import TableFinder\n",
    "from series_extraction.series_extractor import SeriesExtractor\n",
    "from series_extraction.excel_compatibility_checker import ExcelCompatibilityChecker\n",
    "from series_extraction.series_iterator import SeriesIterator\n",
    "from series_extraction.series_mapper import SeriesMapper\n",
    "from series_extraction.excel_validator import ExcelValidator\n",
    "\n",
    "from ast_transformation.series_formula_generator import SeriesFormulaGenerator\n",
    "from ast_transformation.formula_generator import FormulaGenerator\n",
    "from ast_transformation.formula_evaluator import FormulaEvaluator\n",
    "\n",
    "from ast_building.formula_parser import FormulaParser\n",
    "from ast_building.series_implementer import SeriesImplementer\n",
    "\n",
    "from pipeline_building.series_dependencies_builder import SeriesDependenciesBuilder\n",
    "from pipeline_building.dag_sorter import DAGSorter\n",
    "\n",
    "from excel_builder import ExcelBuilder\n",
    "\n",
    "from excel_checker import ExcelChecker\n"
   ]
  },
  {
   "cell_type": "code",
   "execution_count": 2,
   "metadata": {},
   "outputs": [],
   "source": [
    "data_directory = \"/Users/chrislittle/GitHub/speedsheet/excel-2-python/data\"\n",
    "\n",
    "project_name = 'test_excel_3'\n",
    "\n",
    "excel_raw_file_path = os.path.join(data_directory, \"excel_files_raw\", f\"{project_name}_raw.xlsx\")\n",
    "excel_reduced_filepath = os.path.join(data_directory, \"excel_files_reduced\", f\"{project_name}_reduced.xlsx\")\n",
    "excel_reduced_clean_filepath = os.path.join(data_directory, \"excel_files_reduced_clean\", f\"{project_name}_reduced_clean.xlsx\")\n",
    "excel_reduced_clean_series_filepath = os.path.join(data_directory, \"excel_files_reduced_clean_series\", f\"{project_name}_reduced_clean_series.xlsx\")\n",
    "excel_reduced_clean_series_python_filepath = os.path.join(data_directory, \"excel_files_reduced_clean_series_python\", f\"{project_name}_reduced_clean_series_python.xlsx\")"
   ]
  },
  {
   "cell_type": "code",
   "execution_count": 3,
   "metadata": {},
   "outputs": [
    {
     "data": {
      "text/plain": [
       "True"
      ]
     },
     "execution_count": 3,
     "metadata": {},
     "output_type": "execute_result"
    }
   ],
   "source": [
    "excel_raw= ExcelLoader.load_file(excel_raw_file_path)\n",
    "excel_reduced = ExcelLoader.load_file(excel_reduced_filepath)\n",
    "is_valid = ExcelValidator.validate_excel(excel_reduced)\n",
    "if not is_valid:\n",
    "    raise Exception(\"Excel file is not valid\")\n",
    "\n",
    "excel_reduced_clean = ExcelCleaner.clean_excel(excel_reduced)\n",
    "ExcelBuilder.create_excel_from_workbook(excel_reduced_clean.workbook_with_formulas, excel_reduced_clean_filepath)\n",
    "\n",
    "extracted_tables, data = TableFinder.find_tables(excel_reduced_clean)\n",
    "is_compatible = ExcelCompatibilityChecker.check_file(excel_raw, excel_reduced, extracted_tables)\n",
    "if not is_compatible:\n",
    "    print(extracted_tables)\n",
    "    raise Exception(\"Excel file is not compatible\")\n",
    "\n",
    "series_dict = SeriesExtractor.extract_series(extracted_tables=extracted_tables, data=data)\n",
    "series_mapping = SeriesMapper.map_series(series_dict)\n",
    "series_iterator = SeriesIterator.iterate_series(series_dict)\n",
    "\n",
    "series_list = [series for series in series_iterator]\n",
    "\n",
    "series_list_with_formulas = [\n",
    "    series for series in series_list if series.formulas != [None, None]\n",
    "]\n",
    "series_list_with_values = [\n",
    "    series for series in series_list if series.formulas == [None, None]\n",
    "]\n",
    "\n",
    "series_list_new = []\n",
    "formula_1_ast_series_list = []\n",
    "ast_generator_dict = {}\n",
    "\n",
    "for series in series_list_with_formulas:\n",
    "    formula_1, formula_2 = SeriesFormulaGenerator.adjust_formulas(\n",
    "        series.formulas\n",
    "    )\n",
    "    if formula_1 is not None and formula_2 is not None:\n",
    "\n",
    "        series_implementer = SeriesImplementer(\n",
    "            series_mapping, sheet_name=series.worksheet.sheet_name\n",
    "        )\n",
    "\n",
    "        formula_1_ast = FormulaParser.parse_formula(formula_1)\n",
    "        formula_1_ast_series = series_implementer.update_ast(formula_1_ast)\n",
    "        formula_1_ast_series_list.append((series.series_id, formula_1_ast_series))\n",
    "\n",
    "        formula_2_ast = FormulaParser.parse_formula(formula_2)\n",
    "        formula_2_ast_series = series_implementer.update_ast(formula_2_ast)\n",
    "\n",
    "        SeriesFormulaGenerator.process_series_formulas(\n",
    "            series,\n",
    "            formula_1_ast_series,\n",
    "            formula_2_ast_series,\n",
    "            series_mapping,\n",
    "            series_dict,\n",
    "            series_list_new,\n",
    "        )\n",
    "\n",
    "        sheet_name = series.worksheet.sheet_name\n",
    "        series_list_within_sheet = series_dict.get(sheet_name)\n",
    "        ast_generator = FormulaGenerator.get_ast_generator(\n",
    "            formula_1_ast_series, formula_2_ast_series, series_list_within_sheet\n",
    "        )\n",
    "        ast_generator_dict[series.series_id] = ast_generator\n",
    "        \n",
    "\n",
    "series_list_updated = series_list_new + series_list_with_values\n",
    "\n",
    "ExcelBuilder.create_excel_from_series(series_list_updated, excel_reduced_clean_series_filepath)\n",
    "ExcelChecker.excels_are_equivalent(excel_reduced_clean_filepath, excel_reduced_clean_series_filepath)"
   ]
  },
  {
   "cell_type": "code",
   "execution_count": 4,
   "metadata": {},
   "outputs": [],
   "source": [
    "series_dependencies = SeriesDependenciesBuilder.build_dependencies(formula_1_ast_series_list)\n",
    "sorted_dag = DAGSorter.sort_dag(series_dependencies)"
   ]
  },
  {
   "cell_type": "code",
   "execution_count": 5,
   "metadata": {},
   "outputs": [],
   "source": [
    "def build_excel_with_python_formulas(series_list_with_values, ast_generator_dict, evaluator, excel_reduced_clean_series_python_filepath):\n",
    "\n",
    "    series_list_new_python = []\n",
    "    for series_id in ast_generator_dict.keys():\n",
    "        ast_generator = ast_generator_dict[series_id]  \n",
    "        series = evaluator.get_series_from_id(series_id)  \n",
    "        values = evaluator.calculate_series_values(ast_generator, 1, 2) \n",
    "        series.values = values\n",
    "        series_list_new_python.append(series)\n",
    "\n",
    "    series_list_updated_python = series_list_new_python + series_list_with_values\n",
    "    ExcelBuilder.create_excel_from_series(series_list_updated_python, excel_reduced_clean_series_python_filepath, values_only=True)\n",
    "    "
   ]
  },
  {
   "cell_type": "code",
   "execution_count": 6,
   "metadata": {},
   "outputs": [],
   "source": [
    "evaluator = FormulaEvaluator(formula_ast=None, series_dict=series_dict)\n"
   ]
  },
  {
   "cell_type": "code",
   "execution_count": 7,
   "metadata": {},
   "outputs": [
    {
     "ename": "TypeError",
     "evalue": "bad operand type for unary -: 'tuple'",
     "output_type": "error",
     "traceback": [
      "\u001b[0;31m---------------------------------------------------------------------------\u001b[0m",
      "\u001b[0;31mTypeError\u001b[0m                                 Traceback (most recent call last)",
      "Cell \u001b[0;32mIn[7], line 1\u001b[0m\n\u001b[0;32m----> 1\u001b[0m \u001b[43mbuild_excel_with_python_formulas\u001b[49m\u001b[43m(\u001b[49m\u001b[43mseries_list_with_values\u001b[49m\u001b[43m,\u001b[49m\u001b[43m \u001b[49m\u001b[43mast_generator_dict\u001b[49m\u001b[43m,\u001b[49m\u001b[43m \u001b[49m\u001b[43mevaluator\u001b[49m\u001b[43m,\u001b[49m\u001b[43m \u001b[49m\u001b[43mexcel_reduced_clean_series_python_filepath\u001b[49m\u001b[43m)\u001b[49m\n",
      "Cell \u001b[0;32mIn[5], line 7\u001b[0m, in \u001b[0;36mbuild_excel_with_python_formulas\u001b[0;34m(series_list_with_values, ast_generator_dict, evaluator, excel_reduced_clean_series_python_filepath)\u001b[0m\n\u001b[1;32m      5\u001b[0m ast_generator \u001b[38;5;241m=\u001b[39m ast_generator_dict[series_id]  \n\u001b[1;32m      6\u001b[0m series \u001b[38;5;241m=\u001b[39m evaluator\u001b[38;5;241m.\u001b[39mget_series_from_id(series_id)  \n\u001b[0;32m----> 7\u001b[0m values \u001b[38;5;241m=\u001b[39m \u001b[43mevaluator\u001b[49m\u001b[38;5;241;43m.\u001b[39;49m\u001b[43mcalculate_series_values\u001b[49m\u001b[43m(\u001b[49m\u001b[43mast_generator\u001b[49m\u001b[43m,\u001b[49m\u001b[43m \u001b[49m\u001b[38;5;241;43m1\u001b[39;49m\u001b[43m,\u001b[49m\u001b[43m \u001b[49m\u001b[38;5;241;43m2\u001b[39;49m\u001b[43m)\u001b[49m \n\u001b[1;32m      8\u001b[0m series\u001b[38;5;241m.\u001b[39mvalues \u001b[38;5;241m=\u001b[39m values\n\u001b[1;32m      9\u001b[0m series_list_new_python\u001b[38;5;241m.\u001b[39mappend(series)\n",
      "File \u001b[0;32m~/GitHub/speedsheet/excel-2-python/src/ast_transformation/formula_evaluator.py:211\u001b[0m, in \u001b[0;36mFormulaEvaluator.calculate_series_values\u001b[0;34m(self, ast_generator, index_start, index_end)\u001b[0m\n\u001b[1;32m    209\u001b[0m     formula \u001b[38;5;241m=\u001b[39m ast_generator\u001b[38;5;241m.\u001b[39mget_nth_formula(n\u001b[38;5;241m=\u001b[39mindex)\n\u001b[1;32m    210\u001b[0m     formula_evaluator \u001b[38;5;241m=\u001b[39m FormulaEvaluator(formula, \u001b[38;5;28mself\u001b[39m\u001b[38;5;241m.\u001b[39mseries_dict)\n\u001b[0;32m--> 211\u001b[0m     value \u001b[38;5;241m=\u001b[39m \u001b[43mformula_evaluator\u001b[49m\u001b[38;5;241;43m.\u001b[39;49m\u001b[43mevaluate_formula\u001b[49m\u001b[43m(\u001b[49m\u001b[43mformula\u001b[49m\u001b[43m)\u001b[49m\n\u001b[1;32m    212\u001b[0m     values\u001b[38;5;241m.\u001b[39mappend(value)\n\u001b[1;32m    213\u001b[0m \u001b[38;5;28;01mreturn\u001b[39;00m values\n",
      "File \u001b[0;32m~/GitHub/speedsheet/excel-2-python/src/ast_transformation/formula_evaluator.py:182\u001b[0m, in \u001b[0;36mFormulaEvaluator.evaluate_formula\u001b[0;34m(self, formula)\u001b[0m\n\u001b[1;32m    172\u001b[0m local_env \u001b[38;5;241m=\u001b[39m {\n\u001b[1;32m    173\u001b[0m     \u001b[38;5;124m\"\u001b[39m\u001b[38;5;124mAVERAGE\u001b[39m\u001b[38;5;124m\"\u001b[39m: \u001b[38;5;28mself\u001b[39m\u001b[38;5;241m.\u001b[39mAVERAGE,\n\u001b[1;32m    174\u001b[0m     \u001b[38;5;124m\"\u001b[39m\u001b[38;5;124mVLOOKUP\u001b[39m\u001b[38;5;124m\"\u001b[39m: \u001b[38;5;28mself\u001b[39m\u001b[38;5;241m.\u001b[39mVLOOKUP,\n\u001b[0;32m   (...)\u001b[0m\n\u001b[1;32m    179\u001b[0m     \u001b[38;5;124m\"\u001b[39m\u001b[38;5;124mSUM\u001b[39m\u001b[38;5;124m\"\u001b[39m: \u001b[38;5;28mself\u001b[39m\u001b[38;5;241m.\u001b[39mSUM,\n\u001b[1;32m    180\u001b[0m }\n\u001b[1;32m    181\u001b[0m compiled \u001b[38;5;241m=\u001b[39m \u001b[38;5;28mcompile\u001b[39m(tree, filename\u001b[38;5;241m=\u001b[39m\u001b[38;5;124m\"\u001b[39m\u001b[38;5;124m<ast>\u001b[39m\u001b[38;5;124m\"\u001b[39m, mode\u001b[38;5;241m=\u001b[39m\u001b[38;5;124m\"\u001b[39m\u001b[38;5;124meval\u001b[39m\u001b[38;5;124m\"\u001b[39m)\n\u001b[0;32m--> 182\u001b[0m result \u001b[38;5;241m=\u001b[39m \u001b[38;5;28;43meval\u001b[39;49m\u001b[43m(\u001b[49m\u001b[43mcompiled\u001b[49m\u001b[43m,\u001b[49m\u001b[43m \u001b[49m\u001b[43m{\u001b[49m\u001b[38;5;124;43m\"\u001b[39;49m\u001b[38;5;124;43m__builtins__\u001b[39;49m\u001b[38;5;124;43m\"\u001b[39;49m\u001b[43m:\u001b[49m\u001b[43m \u001b[49m\u001b[43m{\u001b[49m\u001b[43m}\u001b[49m\u001b[43m}\u001b[49m\u001b[43m,\u001b[49m\u001b[43m \u001b[49m\u001b[43mlocal_env\u001b[49m\u001b[43m)\u001b[49m\n\u001b[1;32m    183\u001b[0m \u001b[38;5;28;01mif\u001b[39;00m \u001b[38;5;28misinstance\u001b[39m(result, xlcalculator\u001b[38;5;241m.\u001b[39mxlfunctions\u001b[38;5;241m.\u001b[39mfunc_xltypes\u001b[38;5;241m.\u001b[39mNumber):\n\u001b[1;32m    184\u001b[0m     \u001b[38;5;28;01mreturn\u001b[39;00m \u001b[38;5;28mfloat\u001b[39m(result)\n",
      "File \u001b[0;32m<ast>:1\u001b[0m\n",
      "\u001b[0;31mTypeError\u001b[0m: bad operand type for unary -: 'tuple'"
     ]
    }
   ],
   "source": [
    "build_excel_with_python_formulas(series_list_with_values, ast_generator_dict, evaluator, excel_reduced_clean_series_python_filepath)"
   ]
  },
  {
   "cell_type": "code",
   "execution_count": null,
   "metadata": {},
   "outputs": [
    {
     "name": "stdout",
     "output_type": "stream",
     "text": [
      "Values in sheet 'VehicleData' are different\n",
      "wb1: [('vrm', 'make', 'value', 'model', 'transmission', 'fuel_string', 'mileage', 'colour', 'tax_&_mot_status', 'type_string', 'vehicle_age_years', 'mot_expires_date', 'insurance_group', 'description', 'body_type', 'engine_cc', 'mpg', 'seats', 'co2', 'year', 'Transmission Mapped', 'Value Rounded to Nearest 5000', 'Mileage Rounded to Nearest 50,000', 'Engine Size Rounded', 'Price Filter', 'Mileage Filter', 'Engine Size Filter', 'MPG Filter', 'Master Filter'), ('YY70KTT', 'Kia', 14945, 'Niro 2 S-A', 2, 'Hybrid', 2552, 'Red', 'OK', 'Estate', 4, 45576, 12, 'Reliable and spacious hybrid five seater car. Great boot space.\\nDog-friendly.', 'Estate', 1580, 74.3, 5, 110, 2020, None, None, None, None, None, None, None, None, None), ('YY15UUW', 'Vauxhall', 4836, 'Corsa Excite AC Ecoflex S/s', 1, 'Petrol', 39166, 'Black', 'OK', 'City / Hatchback', 9, 45663, 12, 'Economical with Turbo.\\n\\n10 minutes walk from Park Royal station.\\n\\nBluetooth.\\nUSB.\\nAir Conditioning.\\nHeated steering wheel. \\nHeated seats. \\n65 MPG', '3 Door Hatchback', 999, 57.7, 5, 114, 2015, None, None, None, None, None, None, None, None, None)]\n",
      "wb2: [('vrm', 'make', 'value', 'model', 'transmission', 'fuel_string', 'mileage', 'colour', 'tax_&_mot_status', 'type_string', 'vehicle_age_years', 'mot_expires_date', 'insurance_group', 'description', 'body_type', 'engine_cc', 'mpg', 'seats', 'co2', 'year', 'Transmission Mapped', 'Value Rounded to Nearest 5000', 'Mileage Rounded to Nearest 50,000', 'Engine Size Rounded', 'Price Filter', 'Mileage Filter', 'Engine Size Filter', 'MPG Filter', 'Master Filter'), ('YY70KTT', 'Kia', 14945, 'Niro 2 S-A', 2, 'Hybrid', 2552, 'Red', 'OK', 'Estate', 4, 45576, 12, 'Reliable and spacious hybrid five seater car. Great boot space.\\nDog-friendly.', 'Estate', 1580, 74.3, 5, 110, 2020, 'Automatic', 10000, 0, 1.6, 1, 1, 1, 1, 1), ('YY15UUW', 'Vauxhall', 4836, 'Corsa Excite AC Ecoflex S/s', 1, 'Petrol', 39166, 'Black', 'OK', 'City / Hatchback', 9, 45663, 12, 'Economical with Turbo.\\n\\n10 minutes walk from Park Royal station.\\n\\nBluetooth.\\nUSB.\\nAir Conditioning.\\nHeated steering wheel. \\nHeated seats. \\n65 MPG', '3 Door Hatchback', 999, 57.7, 5, 114, 2015, 'Manual', 0, 0, 1, 1, 1, 1, 1, 1)]\n"
     ]
    },
    {
     "data": {
      "text/plain": [
       "False"
      ]
     },
     "execution_count": 8,
     "metadata": {},
     "output_type": "execute_result"
    }
   ],
   "source": [
    "ExcelChecker.excels_are_equivalent(excel_reduced_clean_filepath, excel_reduced_clean_series_python_filepath)"
   ]
  }
 ],
 "metadata": {
  "kernelspec": {
   "display_name": "venv",
   "language": "python",
   "name": "python3"
  },
  "language_info": {
   "codemirror_mode": {
    "name": "ipython",
    "version": 3
   },
   "file_extension": ".py",
   "mimetype": "text/x-python",
   "name": "python",
   "nbconvert_exporter": "python",
   "pygments_lexer": "ipython3",
   "version": "3.11.5"
  }
 },
 "nbformat": 4,
 "nbformat_minor": 2
}
