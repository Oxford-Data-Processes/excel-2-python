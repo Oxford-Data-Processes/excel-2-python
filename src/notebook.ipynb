{
 "cells": [
  {
   "cell_type": "code",
   "execution_count": 61,
   "metadata": {},
   "outputs": [],
   "source": [
    "import os\n",
    "import xlcalculator\n",
    "\n",
    "\n",
    "from series_extraction.excel_loader import ExcelLoader\n",
    "from series_extraction.excel_validator import ExcelValidator\n",
    "from series_extraction.excel_cleaner import ExcelCleaner\n",
    "from series_extraction.table_finder import TableFinder\n",
    "from series_extraction.series_extractor import SeriesExtractor\n",
    "from series_extraction.excel_compatibility_checker import ExcelCompatibilityChecker\n",
    "from series_extraction.series_iterator import SeriesIterator\n",
    "from series_extraction.series_mapper import SeriesMapper\n",
    "\n",
    "from ast_building.formula_parser import FormulaParser\n",
    "from ast_building.series_implementer import SeriesImplementer\n",
    "\n",
    "from formula_visualiser import FormulaVisualiser\n"
   ]
  },
  {
   "cell_type": "code",
   "execution_count": 62,
   "metadata": {},
   "outputs": [],
   "source": [
    "current_directory = os.getcwd()\n",
    "\n",
    "parent_directory = os.path.abspath(os.path.join(current_directory, os.pardir))\n",
    "data_directory = os.path.join(parent_directory, 'data')\n",
    "\n",
    "project_name = 'test_excel_7'\n",
    "\n",
    "excel_raw_file_path = os.path.join(data_directory, \"excel_files_raw\", f\"{project_name}_raw.xlsx\")\n",
    "excel_reduced_filepath = os.path.join(data_directory, \"excel_files_reduced\", f\"{project_name}_reduced.xlsx\")"
   ]
  },
  {
   "cell_type": "code",
   "execution_count": 63,
   "metadata": {},
   "outputs": [],
   "source": [
    "excel_raw= ExcelLoader.load_file(excel_raw_file_path)\n",
    "excel_reduced = ExcelLoader.load_file(excel_reduced_filepath)"
   ]
  },
  {
   "cell_type": "code",
   "execution_count": 64,
   "metadata": {},
   "outputs": [],
   "source": [
    "is_valid = ExcelValidator.validate_excel(excel_reduced)"
   ]
  },
  {
   "cell_type": "code",
   "execution_count": 65,
   "metadata": {},
   "outputs": [],
   "source": [
    "if not is_valid:\n",
    "    raise Exception(\"Excel file is not valid\")"
   ]
  },
  {
   "cell_type": "code",
   "execution_count": 66,
   "metadata": {},
   "outputs": [],
   "source": [
    "excel_reduced_clean = ExcelCleaner.clean_excel(excel_reduced)"
   ]
  },
  {
   "cell_type": "code",
   "execution_count": 67,
   "metadata": {},
   "outputs": [],
   "source": [
    "extracted_tables, data = TableFinder.find_tables(excel_reduced_clean)"
   ]
  },
  {
   "cell_type": "code",
   "execution_count": 68,
   "metadata": {},
   "outputs": [],
   "source": [
    "series_data = SeriesExtractor.extract_table_details(extracted_tables, data)"
   ]
  },
  {
   "cell_type": "code",
   "execution_count": 69,
   "metadata": {},
   "outputs": [],
   "source": [
    "is_compatible = ExcelCompatibilityChecker.check_file(excel_raw, excel_reduced, extracted_tables)"
   ]
  },
  {
   "cell_type": "code",
   "execution_count": 70,
   "metadata": {},
   "outputs": [],
   "source": [
    "if not is_compatible:\n",
    "    raise Exception(\"Excel file is not compatible\")"
   ]
  },
  {
   "cell_type": "code",
   "execution_count": 71,
   "metadata": {},
   "outputs": [],
   "source": [
    "series_dict = SeriesExtractor.extract_series(extracted_tables=extracted_tables, data=data)"
   ]
  },
  {
   "cell_type": "code",
   "execution_count": 72,
   "metadata": {},
   "outputs": [],
   "source": [
    "series_mapping = SeriesMapper.map_series(series_dict)"
   ]
  },
  {
   "cell_type": "code",
   "execution_count": 73,
   "metadata": {},
   "outputs": [],
   "source": [
    "series_iterator = SeriesIterator.iterate_series(series_dict)"
   ]
  },
  {
   "cell_type": "code",
   "execution_count": 74,
   "metadata": {},
   "outputs": [],
   "source": [
    "series_list = [series for series in series_iterator if series.formulas != [None, None]]"
   ]
  },
  {
   "cell_type": "code",
   "execution_count": 75,
   "metadata": {},
   "outputs": [
    {
     "name": "stdout",
     "output_type": "stream",
     "text": [
      "=SUM(A2,B2)\n",
      "cell_range: A2\n",
      "worksheet: Worksheet(sheet_name='Sheet1', workbook_file_path=None, worksheet=None)\n",
      "cell: [Cell(column=1, row=2, coordinate=None, value=None, value_type=None)]\n",
      "cell_range: B2\n",
      "worksheet: Worksheet(sheet_name='Sheet1', workbook_file_path=None, worksheet=None)\n",
      "cell: [Cell(column=2, row=2, coordinate=None, value=None, value_type=None)]\n",
      "=IF(E2=\"good\",\"Yes\",\"No\")\n",
      "cell_range: E2\n",
      "worksheet: Worksheet(sheet_name='Sheet1', workbook_file_path=None, worksheet=None)\n",
      "cell: [Cell(column=5, row=2, coordinate=None, value=None, value_type=None)]\n",
      "=COUNTIF(B:B,\"<0\")\n",
      "cell_range: B:B\n",
      "worksheet: Worksheet(sheet_name='Sheet1', workbook_file_path=None, worksheet=None)\n",
      "cell: [Cell(column=2, row=1, coordinate=None, value=None, value_type=None), Cell(column=2, row=2, coordinate=None, value=None, value_type=None), Cell(column=2, row=3, coordinate=None, value=None, value_type=None)]\n",
      "=SUMIF(D:D,\">1000\")\n",
      "cell_range: D:D\n",
      "worksheet: Worksheet(sheet_name='Sheet1', workbook_file_path=None, worksheet=None)\n",
      "cell: [Cell(column=4, row=1, coordinate=None, value=None, value_type=None), Cell(column=4, row=2, coordinate=None, value=None, value_type=None), Cell(column=4, row=3, coordinate=None, value=None, value_type=None)]\n",
      "=AVERAGEIF(C:C,\">0\")\n",
      "cell_range: C:C\n",
      "worksheet: Worksheet(sheet_name='Sheet1', workbook_file_path=None, worksheet=None)\n",
      "cell: [Cell(column=3, row=1, coordinate=None, value=None, value_type=None), Cell(column=3, row=2, coordinate=None, value=None, value_type=None), Cell(column=3, row=3, coordinate=None, value=None, value_type=None)]\n",
      "=IF(OR(A2>0,B2>0),\"Acceptable\",\"Check\")\n",
      "cell_range: A2\n",
      "worksheet: Worksheet(sheet_name='Sheet1', workbook_file_path=None, worksheet=None)\n",
      "cell: [Cell(column=1, row=2, coordinate=None, value=None, value_type=None)]\n",
      "cell_range: B2\n",
      "worksheet: Worksheet(sheet_name='Sheet1', workbook_file_path=None, worksheet=None)\n",
      "cell: [Cell(column=2, row=2, coordinate=None, value=None, value_type=None)]\n",
      "=_xlfn._xlws.SORT(C2:C3)\n",
      "cell_range: C2:C3\n",
      "worksheet: Worksheet(sheet_name='Sheet1', workbook_file_path=None, worksheet=None)\n",
      "cell: [Cell(column=3, row=2, coordinate=None, value=None, value_type=None), Cell(column=3, row=3, coordinate=None, value=None, value_type=None)]\n",
      "=ROUNDUP(C2,0)\n",
      "cell_range: C2\n",
      "worksheet: Worksheet(sheet_name='Sheet1', workbook_file_path=None, worksheet=None)\n",
      "cell: [Cell(column=3, row=2, coordinate=None, value=None, value_type=None)]\n",
      "=ROUNDDOWN(C2,0)\n",
      "cell_range: C2\n",
      "worksheet: Worksheet(sheet_name='Sheet1', workbook_file_path=None, worksheet=None)\n",
      "cell: [Cell(column=3, row=2, coordinate=None, value=None, value_type=None)]\n",
      "=RIGHT(K2,2)+2000\n",
      "cell_range: K2\n",
      "worksheet: Worksheet(sheet_name='Sheet1', workbook_file_path=None, worksheet=None)\n",
      "cell: [Cell(column=11, row=2, coordinate=None, value=None, value_type=None)]\n",
      "=INDEX(_xlfn.TEXTSPLIT(K2,\"-\"),1,2)\n",
      "cell_range: K2\n",
      "worksheet: Worksheet(sheet_name='Sheet1', workbook_file_path=None, worksheet=None)\n",
      "cell: [Cell(column=11, row=2, coordinate=None, value=None, value_type=None)]\n",
      "=INDEX(_xlfn.TEXTSPLIT(K2,\"-\"),1,1)\n",
      "cell_range: K2\n",
      "worksheet: Worksheet(sheet_name='Sheet1', workbook_file_path=None, worksheet=None)\n",
      "cell: [Cell(column=11, row=2, coordinate=None, value=None, value_type=None)]\n",
      "=INDEX(months!B:B,MATCH(Sheet1!X2,months!A:A,0))\n",
      "months!B:B\n",
      "cell_range: B:B\n",
      "worksheet: Worksheet(sheet_name='Sheet1', workbook_file_path=None, worksheet=None)\n",
      "cell: [Cell(column=2, row=1, coordinate=None, value=None, value_type=None), Cell(column=2, row=2, coordinate=None, value=None, value_type=None), Cell(column=2, row=3, coordinate=None, value=None, value_type=None)]\n",
      "Sheet1!X2\n",
      "cell_range: X2:X2\n",
      "worksheet: Worksheet(sheet_name='Sheet1', workbook_file_path=None, worksheet=None)\n",
      "cell: [Cell(column=24, row=2, coordinate=None, value=None, value_type=None)]\n",
      "months!A:A\n",
      "cell_range: A:A\n",
      "worksheet: Worksheet(sheet_name='Sheet1', workbook_file_path=None, worksheet=None)\n",
      "cell: [Cell(column=1, row=1, coordinate=None, value=None, value_type=None), Cell(column=1, row=2, coordinate=None, value=None, value_type=None), Cell(column=1, row=3, coordinate=None, value=None, value_type=None)]\n",
      "=DATE(W2,Z2,Y2)\n",
      "cell_range: W2\n",
      "worksheet: Worksheet(sheet_name='Sheet1', workbook_file_path=None, worksheet=None)\n",
      "cell: [Cell(column=23, row=2, coordinate=None, value=None, value_type=None)]\n",
      "cell_range: Z2\n",
      "worksheet: Worksheet(sheet_name='Sheet1', workbook_file_path=None, worksheet=None)\n",
      "cell: [Cell(column=26, row=2, coordinate=None, value=None, value_type=None)]\n",
      "cell_range: Y2\n",
      "worksheet: Worksheet(sheet_name='Sheet1', workbook_file_path=None, worksheet=None)\n",
      "cell: [Cell(column=25, row=2, coordinate=None, value=None, value_type=None)]\n",
      "None\n"
     ]
    },
    {
     "ename": "AttributeError",
     "evalue": "'NoneType' object has no attribute 'startswith'",
     "output_type": "error",
     "traceback": [
      "\u001b[0;31m---------------------------------------------------------------------------\u001b[0m",
      "\u001b[0;31mAttributeError\u001b[0m                            Traceback (most recent call last)",
      "Cell \u001b[0;32mIn[75], line 4\u001b[0m\n\u001b[1;32m      2\u001b[0m formula_1 \u001b[38;5;241m=\u001b[39m series\u001b[38;5;241m.\u001b[39mformulas[\u001b[38;5;241m0\u001b[39m]\n\u001b[1;32m      3\u001b[0m \u001b[38;5;28mprint\u001b[39m(formula_1)\n\u001b[0;32m----> 4\u001b[0m formula_1_ast \u001b[38;5;241m=\u001b[39m \u001b[43mFormulaParser\u001b[49m\u001b[38;5;241;43m.\u001b[39;49m\u001b[43mparse_formula\u001b[49m\u001b[43m(\u001b[49m\u001b[43mformula_1\u001b[49m\u001b[43m)\u001b[49m\n\u001b[1;32m      5\u001b[0m series_implementer \u001b[38;5;241m=\u001b[39m SeriesImplementer(series_mapping, sheet_name \u001b[38;5;241m=\u001b[39m series\u001b[38;5;241m.\u001b[39mworksheet\u001b[38;5;241m.\u001b[39msheet_name)\n\u001b[1;32m      6\u001b[0m formula_1_ast_new \u001b[38;5;241m=\u001b[39m series_implementer\u001b[38;5;241m.\u001b[39mreplace_range_nodes(formula_1_ast)\n",
      "File \u001b[0;32m~/GitHub/speedsheet/excel-2-python/src/ast_building/formula_parser.py:9\u001b[0m, in \u001b[0;36mFormulaParser.parse_formula\u001b[0;34m(formula)\u001b[0m\n\u001b[1;32m      6\u001b[0m \u001b[38;5;129m@staticmethod\u001b[39m\n\u001b[1;32m      7\u001b[0m \u001b[38;5;28;01mdef\u001b[39;00m \u001b[38;5;21mparse_formula\u001b[39m(formula: \u001b[38;5;28mstr\u001b[39m) \u001b[38;5;241m-\u001b[39m\u001b[38;5;241m>\u001b[39m xlcalculator\u001b[38;5;241m.\u001b[39mast_nodes\u001b[38;5;241m.\u001b[39mASTNode:\n\u001b[1;32m      8\u001b[0m     parser \u001b[38;5;241m=\u001b[39m xlcalculator\u001b[38;5;241m.\u001b[39mparser\u001b[38;5;241m.\u001b[39mFormulaParser()\n\u001b[0;32m----> 9\u001b[0m     ast \u001b[38;5;241m=\u001b[39m \u001b[43mparser\u001b[49m\u001b[38;5;241;43m.\u001b[39;49m\u001b[43mparse\u001b[49m\u001b[43m(\u001b[49m\u001b[43mformula\u001b[49m\u001b[38;5;241;43m=\u001b[39;49m\u001b[43mformula\u001b[49m\u001b[43m,\u001b[49m\u001b[43m \u001b[49m\u001b[43mnamed_ranges\u001b[49m\u001b[38;5;241;43m=\u001b[39;49m\u001b[43m{\u001b[49m\u001b[43m}\u001b[49m\u001b[43m)\u001b[49m\n\u001b[1;32m     10\u001b[0m     \u001b[38;5;28;01mreturn\u001b[39;00m ast\n",
      "File \u001b[0;32m~/GitHub/speedsheet/excel-2-python/venv/lib/python3.11/site-packages/xlcalculator/parser.py:43\u001b[0m, in \u001b[0;36mFormulaParser.parse\u001b[0;34m(self, formula, named_ranges, tokenize_range)\u001b[0m\n\u001b[1;32m     40\u001b[0m \u001b[38;5;250m\u001b[39m\u001b[38;5;124;03m\"\"\"Parse formula into evaluable AST.\u001b[39;00m\n\u001b[1;32m     41\u001b[0m \u001b[38;5;124;03m\"\"\"\u001b[39;00m\n\u001b[1;32m     42\u001b[0m \u001b[38;5;66;03m# 1. Parse the formula into syntactic tokens.\u001b[39;00m\n\u001b[0;32m---> 43\u001b[0m tokens \u001b[38;5;241m=\u001b[39m \u001b[38;5;28;43mself\u001b[39;49m\u001b[38;5;241;43m.\u001b[39;49m\u001b[43mtokenize\u001b[49m\u001b[43m(\u001b[49m\u001b[43mformula\u001b[49m\u001b[43m)\u001b[49m\n\u001b[1;32m     44\u001b[0m \u001b[38;5;66;03m# 2. Organize tokens into reverse polish notation.\u001b[39;00m\n\u001b[1;32m     45\u001b[0m nodes \u001b[38;5;241m=\u001b[39m \u001b[38;5;28mself\u001b[39m\u001b[38;5;241m.\u001b[39mshunting_yard(tokens, named_ranges)\n",
      "File \u001b[0;32m~/GitHub/speedsheet/excel-2-python/venv/lib/python3.11/site-packages/xlcalculator/parser.py:52\u001b[0m, in \u001b[0;36mFormulaParser.tokenize\u001b[0;34m(self, formula, tokenize_range)\u001b[0m\n\u001b[1;32m     50\u001b[0m \u001b[38;5;28;01mdef\u001b[39;00m \u001b[38;5;21mtokenize\u001b[39m(\u001b[38;5;28mself\u001b[39m, formula, tokenize_range\u001b[38;5;241m=\u001b[39m\u001b[38;5;28;01mFalse\u001b[39;00m):\n\u001b[1;32m     51\u001b[0m     \u001b[38;5;66;03m# Remove leading \"=\" sign.\u001b[39;00m\n\u001b[0;32m---> 52\u001b[0m     \u001b[38;5;28;01mif\u001b[39;00m \u001b[43mformula\u001b[49m\u001b[38;5;241;43m.\u001b[39;49m\u001b[43mstartswith\u001b[49m(\u001b[38;5;124m'\u001b[39m\u001b[38;5;124m=\u001b[39m\u001b[38;5;124m'\u001b[39m):\n\u001b[1;32m     53\u001b[0m         formula \u001b[38;5;241m=\u001b[39m formula[\u001b[38;5;241m1\u001b[39m:]\n\u001b[1;32m     55\u001b[0m     excel_parser \u001b[38;5;241m=\u001b[39m tokenizer\u001b[38;5;241m.\u001b[39mExcelParser(tokenize_range\u001b[38;5;241m=\u001b[39mtokenize_range)\n",
      "\u001b[0;31mAttributeError\u001b[0m: 'NoneType' object has no attribute 'startswith'"
     ]
    }
   ],
   "source": [
    "for series in series_list:\n",
    "    formula_1 = series.formulas[0]\n",
    "    print(formula_1)\n",
    "    formula_1_ast = FormulaParser.parse_formula(formula_1)\n",
    "    series_implementer = SeriesImplementer(series_mapping, sheet_name = series.worksheet.sheet_name)\n",
    "    formula_1_ast_new = series_implementer.replace_range_nodes(formula_1_ast)"
   ]
  },
  {
   "cell_type": "code",
   "execution_count": null,
   "metadata": {},
   "outputs": [],
   "source": []
  }
 ],
 "metadata": {
  "kernelspec": {
   "display_name": "venv",
   "language": "python",
   "name": "python3"
  },
  "language_info": {
   "codemirror_mode": {
    "name": "ipython",
    "version": 3
   },
   "file_extension": ".py",
   "mimetype": "text/x-python",
   "name": "python",
   "nbconvert_exporter": "python",
   "pygments_lexer": "ipython3",
   "version": "3.11.5"
  }
 },
 "nbformat": 4,
 "nbformat_minor": 2
}
