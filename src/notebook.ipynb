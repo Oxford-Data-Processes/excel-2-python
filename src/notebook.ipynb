{
 "cells": [
  {
   "cell_type": "code",
   "execution_count": 1,
   "metadata": {},
   "outputs": [],
   "source": [
    "import os\n",
    "\n",
    "from series_extraction.excel_loader import ExcelLoader\n",
    "from series_extraction.excel_cleaner import ExcelCleaner\n",
    "from series_extraction.table_finder import TableFinder\n",
    "from series_extraction.series_extractor import SeriesExtractor\n",
    "from series_extraction.excel_compatibility_checker import ExcelCompatibilityChecker\n",
    "from series_extraction.series_iterator import SeriesIterator\n",
    "from series_extraction.series_mapper import SeriesMapper\n",
    "from series_extraction.excel_validator import ExcelValidator\n",
    "\n",
    "from ast_transformation.series_formula_generator import SeriesFormulaGenerator\n",
    "from ast_transformation.formula_generator import SeriesIdLoader\n",
    "\n",
    "from ast_building.formula_parser import FormulaParser\n",
    "from ast_building.series_implementer import SeriesImplementer\n",
    "\n",
    "from pipeline_building.series_dependencies_builder import SeriesDependenciesBuilder\n",
    "from pipeline_building.dag_sorter import DAGSorter\n",
    "\n",
    "from excel_builder import ExcelBuilder\n",
    "\n",
    "from excel_checker import ExcelChecker\n"
   ]
  },
  {
   "cell_type": "code",
   "execution_count": 2,
   "metadata": {},
   "outputs": [],
   "source": [
    "current_directory = os.getcwd()\n",
    "\n",
    "parent_directory = os.path.abspath(os.path.join(current_directory, os.pardir))\n",
    "data_directory = os.path.join(parent_directory, 'data')\n",
    "\n",
    "project_name = 'average'\n",
    "\n",
    "excel_raw_file_path = os.path.join(data_directory, \"excel_files_raw\", f\"{project_name}_raw.xlsx\")\n",
    "excel_reduced_filepath = os.path.join(data_directory, \"excel_files_reduced\", f\"{project_name}_reduced.xlsx\")\n",
    "excel_reduced_clean_filepath = os.path.join(data_directory, \"excel_files_reduced_clean\", f\"{project_name}_reduced_clean.xlsx\")\n",
    "excel_reduced_clean_series_filepath = os.path.join(data_directory, \"excel_files_reduced_clean_series\", f\"{project_name}_reduced_clean_series.xlsx\")"
   ]
  },
  {
   "cell_type": "code",
   "execution_count": 3,
   "metadata": {},
   "outputs": [
    {
     "data": {
      "text/plain": [
       "True"
      ]
     },
     "execution_count": 3,
     "metadata": {},
     "output_type": "execute_result"
    }
   ],
   "source": [
    "excel_raw= ExcelLoader.load_file(excel_raw_file_path)\n",
    "excel_reduced = ExcelLoader.load_file(excel_reduced_filepath)\n",
    "is_valid = ExcelValidator.validate_excel(excel_reduced)\n",
    "if not is_valid:\n",
    "    raise Exception(\"Excel file is not valid\")\n",
    "\n",
    "excel_reduced_clean = ExcelCleaner.clean_excel(excel_reduced)\n",
    "ExcelBuilder.create_excel_from_workbook(excel_reduced_clean.workbook_with_formulas, excel_reduced_clean_filepath)\n",
    "\n",
    "extracted_tables, data = TableFinder.find_tables(excel_reduced_clean)\n",
    "is_compatible = ExcelCompatibilityChecker.check_file(excel_raw, excel_reduced, extracted_tables)\n",
    "if not is_compatible:\n",
    "    print(extracted_tables)\n",
    "    raise Exception(\"Excel file is not compatible\")\n",
    "\n",
    "series_dict = SeriesExtractor.extract_series(extracted_tables=extracted_tables, data=data)\n",
    "series_mapping = SeriesMapper.map_series(series_dict)\n",
    "series_iterator = SeriesIterator.iterate_series(series_dict)\n",
    "\n",
    "series_list = [series for series in series_iterator]\n",
    "\n",
    "series_list_with_formulas = [\n",
    "    series for series in series_list if series.formulas != [None, None]\n",
    "]\n",
    "series_list_with_values = [\n",
    "    series for series in series_list if series.formulas == [None, None]\n",
    "]\n",
    "\n",
    "series_list_new = []\n",
    "formula_1_ast_series_list = []\n",
    "\n",
    "for series in series_list_with_formulas:\n",
    "    formula_1, formula_2 = SeriesFormulaGenerator.adjust_formulas(\n",
    "        series.formulas\n",
    "    )\n",
    "    if formula_1 is not None and formula_2 is not None:\n",
    "\n",
    "        series_implementer = SeriesImplementer(\n",
    "            series_mapping, sheet_name=series.worksheet.sheet_name\n",
    "        )\n",
    "\n",
    "        formula_1_ast = FormulaParser.parse_formula(formula_1)\n",
    "        formula_1_ast_series = series_implementer.update_ast(formula_1_ast)\n",
    "        formula_1_ast_series_list.append((series.series_id, formula_1_ast_series))\n",
    "\n",
    "        formula_2_ast = FormulaParser.parse_formula(formula_2)\n",
    "        formula_2_ast_series = series_implementer.update_ast(formula_2_ast)\n",
    "\n",
    "        SeriesFormulaGenerator.process_series_formulas(\n",
    "            series,\n",
    "            formula_1_ast_series,\n",
    "            formula_2_ast_series,\n",
    "            series_mapping,\n",
    "            series_dict,\n",
    "            series_list_new,\n",
    "        )\n",
    "\n",
    "series_list_updated = series_list_new + series_list_with_values\n",
    "\n",
    "ExcelBuilder.create_excel_from_series(series_list_updated, excel_reduced_clean_series_filepath)\n",
    "ExcelChecker.excels_are_equivalent(excel_reduced_clean_filepath, excel_reduced_clean_series_filepath)"
   ]
  },
  {
   "cell_type": "code",
   "execution_count": 9,
   "metadata": {},
   "outputs": [
    {
     "name": "stdout",
     "output_type": "stream",
     "text": [
      "AVERAGE((('Sheet1|col_1|1|1', 'Sheet1|col_2|1|2'), (0, 0)))\n"
     ]
    }
   ],
   "source": [
    "print(formula_1_ast_series)"
   ]
  },
  {
   "cell_type": "code",
   "execution_count": 4,
   "metadata": {},
   "outputs": [],
   "source": [
    "series_dependencies = SeriesDependenciesBuilder.build_dependencies(formula_1_ast_series_list)\n",
    "sorted_dag = DAGSorter.sort_dag(series_dependencies)"
   ]
  },
  {
   "cell_type": "code",
   "execution_count": 5,
   "metadata": {},
   "outputs": [
    {
     "data": {
      "text/plain": [
       "[SeriesId(sheet_name='Sheet1', series_header='col_2', series_header_cell_row=1, series_header_cell_column=2),\n",
       " SeriesId(sheet_name='Sheet1', series_header='col_1', series_header_cell_row=1, series_header_cell_column=1),\n",
       " SeriesId(sheet_name='Sheet1', series_header='average', series_header_cell_row=1, series_header_cell_column=3)]"
      ]
     },
     "execution_count": 5,
     "metadata": {},
     "output_type": "execute_result"
    }
   ],
   "source": [
    "sorted_dag"
   ]
  },
  {
   "cell_type": "code",
   "execution_count": 6,
   "metadata": {},
   "outputs": [
    {
     "ename": "IndexError",
     "evalue": "list index out of range",
     "output_type": "error",
     "traceback": [
      "\u001b[0;31m---------------------------------------------------------------------------\u001b[0m",
      "\u001b[0;31mIndexError\u001b[0m                                Traceback (most recent call last)",
      "Cell \u001b[0;32mIn[6], line 37\u001b[0m\n\u001b[1;32m     34\u001b[0m         \u001b[38;5;28;01mif\u001b[39;00m result:\n\u001b[1;32m     35\u001b[0m             \u001b[38;5;28;01mreturn\u001b[39;00m result  \u001b[38;5;66;03m# Return the first found FunctionNode up the call stack\u001b[39;00m\n\u001b[0;32m---> 37\u001b[0m function_node \u001b[38;5;241m=\u001b[39m get_function_node(\u001b[43mformula_1_ast_series_list\u001b[49m\u001b[43m[\u001b[49m\u001b[38;5;241;43m1\u001b[39;49m\u001b[43m]\u001b[49m[\u001b[38;5;241m1\u001b[39m])\n",
      "\u001b[0;31mIndexError\u001b[0m: list index out of range"
     ]
    }
   ],
   "source": [
    "import xlcalculator\n",
    "\n",
    "def get_function_node(ast):\n",
    "    \"\"\"Recursively search for the first FunctionNode in the AST.\"\"\"\n",
    "    if isinstance(ast, xlcalculator.ast_nodes.FunctionNode):\n",
    "        return ast  # Return the function node immediately when found\n",
    "    else:\n",
    "        return process_node(ast)  # Handle other node types and capture return\n",
    "\n",
    "def process_node(node):\n",
    "    \"\"\"Recursively process each node based on its type.\"\"\"\n",
    "    if isinstance(node, xlcalculator.ast_nodes.RangeNode):\n",
    "        pass  # No action needed for RangeNode in this context\n",
    "    elif isinstance(node, xlcalculator.ast_nodes.FunctionNode):\n",
    "        return get_function_node(node)  # Directly return any found FunctionNode\n",
    "    elif isinstance(node, xlcalculator.ast_nodes.OperatorNode):\n",
    "        return handle_operator_node(node)  # Capture return from operator node handling\n",
    "\n",
    "def handle_function_node(node):\n",
    "    \"\"\"Process a FunctionNode by iterating over its arguments.\"\"\"\n",
    "    for arg in node.args:\n",
    "        result = get_function_node(arg)  # Look for FunctionNodes within the arguments\n",
    "        if result:\n",
    "            return result  # Return the first found FunctionNode up the call stack\n",
    "\n",
    "def handle_operator_node(node):\n",
    "    \"\"\"Process an OperatorNode by processing its left and right children.\"\"\"\n",
    "    if node.left:\n",
    "        result = get_function_node(node.left)\n",
    "        if result:\n",
    "            return result  # Return the first found FunctionNode up the call stack\n",
    "    if node.right:\n",
    "        result = get_function_node(node.right)\n",
    "        if result:\n",
    "            return result  # Return the first found FunctionNode up the call stack\n",
    "\n",
    "function_node = get_function_node(formula_1_ast_series_list[1][1])\n"
   ]
  },
  {
   "cell_type": "code",
   "execution_count": 7,
   "metadata": {},
   "outputs": [
    {
     "ename": "IndexError",
     "evalue": "list index out of range",
     "output_type": "error",
     "traceback": [
      "\u001b[0;31m---------------------------------------------------------------------------\u001b[0m",
      "\u001b[0;31mIndexError\u001b[0m                                Traceback (most recent call last)",
      "Cell \u001b[0;32mIn[7], line 1\u001b[0m\n\u001b[0;32m----> 1\u001b[0m \u001b[38;5;28mprint\u001b[39m(\u001b[43mformula_1_ast_series_list\u001b[49m\u001b[43m[\u001b[49m\u001b[38;5;241;43m1\u001b[39;49m\u001b[43m]\u001b[49m[\u001b[38;5;241m1\u001b[39m])\n",
      "\u001b[0;31mIndexError\u001b[0m: list index out of range"
     ]
    }
   ],
   "source": [
    "print(formula_1_ast_series_list[1][1])"
   ]
  },
  {
   "cell_type": "code",
   "execution_count": null,
   "metadata": {},
   "outputs": [
    {
     "data": {
      "text/plain": [
       "'ROUNDDOWN'"
      ]
     },
     "execution_count": 7,
     "metadata": {},
     "output_type": "execute_result"
    }
   ],
   "source": [
    "function_node.tvalue"
   ]
  },
  {
   "cell_type": "code",
   "execution_count": null,
   "metadata": {},
   "outputs": [],
   "source": [
    "import pandas as pd\n",
    "\n",
    "def get_dataframe_from_series_id_string_list(series_id_string_list):\n",
    "\n",
    "    df_list = []\n",
    "    for series_id_string in series_id_string_list:\n",
    "        series_id = SeriesIdLoader.load_series_id_from_string(series_id_string)\n",
    "        sheet_name = series_id.sheet_name\n",
    "        for series in series_dict[sheet_name]:\n",
    "            if series.series_id == series_id:\n",
    "                print(series)\n",
    "                df_list.append(pd.DataFrame(data=series.values, columns=[series.series_id.series_header]))\n",
    "            \n",
    "    return pd.concat(df_list, axis=1)\n",
    "        "
   ]
  },
  {
   "cell_type": "code",
   "execution_count": null,
   "metadata": {},
   "outputs": [
    {
     "ename": "KeyError",
     "evalue": "'parking'",
     "output_type": "error",
     "traceback": [
      "\u001b[0;31m---------------------------------------------------------------------------\u001b[0m",
      "\u001b[0;31mKeyError\u001b[0m                                  Traceback (most recent call last)",
      "Cell \u001b[0;32mIn[9], line 2\u001b[0m\n\u001b[1;32m      1\u001b[0m series_id_string_list \u001b[38;5;241m=\u001b[39m (\u001b[38;5;124m'\u001b[39m\u001b[38;5;124mparking|Vehicle Reg|1|1\u001b[39m\u001b[38;5;124m'\u001b[39m,\u001b[38;5;124m'\u001b[39m\u001b[38;5;124msummary|Vehicle Reg|1|3\u001b[39m\u001b[38;5;124m'\u001b[39m)\n\u001b[0;32m----> 2\u001b[0m df \u001b[38;5;241m=\u001b[39m \u001b[43mget_dataframe_from_series_id_string_list\u001b[49m\u001b[43m(\u001b[49m\u001b[43mseries_id_string_list\u001b[49m\u001b[43m)\u001b[49m\n",
      "Cell \u001b[0;32mIn[8], line 9\u001b[0m, in \u001b[0;36mget_dataframe_from_series_id_string_list\u001b[0;34m(series_id_string_list)\u001b[0m\n\u001b[1;32m      7\u001b[0m series_id \u001b[38;5;241m=\u001b[39m SeriesIdLoader\u001b[38;5;241m.\u001b[39mload_series_id_from_string(series_id_string)\n\u001b[1;32m      8\u001b[0m sheet_name \u001b[38;5;241m=\u001b[39m series_id\u001b[38;5;241m.\u001b[39msheet_name\n\u001b[0;32m----> 9\u001b[0m \u001b[38;5;28;01mfor\u001b[39;00m series \u001b[38;5;129;01min\u001b[39;00m \u001b[43mseries_dict\u001b[49m\u001b[43m[\u001b[49m\u001b[43msheet_name\u001b[49m\u001b[43m]\u001b[49m:\n\u001b[1;32m     10\u001b[0m     \u001b[38;5;28;01mif\u001b[39;00m series\u001b[38;5;241m.\u001b[39mseries_id \u001b[38;5;241m==\u001b[39m series_id:\n\u001b[1;32m     11\u001b[0m         \u001b[38;5;28mprint\u001b[39m(series)\n",
      "\u001b[0;31mKeyError\u001b[0m: 'parking'"
     ]
    }
   ],
   "source": [
    "series_id_string_list = ('parking|Vehicle Reg|1|1','summary|Vehicle Reg|1|3')\n",
    "df = get_dataframe_from_series_id_string_list(series_id_string_list)"
   ]
  },
  {
   "cell_type": "code",
   "execution_count": null,
   "metadata": {},
   "outputs": [
    {
     "data": {
      "text/html": [
       "<div>\n",
       "<style scoped>\n",
       "    .dataframe tbody tr th:only-of-type {\n",
       "        vertical-align: middle;\n",
       "    }\n",
       "\n",
       "    .dataframe tbody tr th {\n",
       "        vertical-align: top;\n",
       "    }\n",
       "\n",
       "    .dataframe thead th {\n",
       "        text-align: right;\n",
       "    }\n",
       "</style>\n",
       "<table border=\"1\" class=\"dataframe\">\n",
       "  <thead>\n",
       "    <tr style=\"text-align: right;\">\n",
       "      <th></th>\n",
       "      <th>Vehicle Reg</th>\n",
       "      <th>Vehicle Reg</th>\n",
       "    </tr>\n",
       "  </thead>\n",
       "  <tbody>\n",
       "    <tr>\n",
       "      <th>0</th>\n",
       "      <td>FG20UGP</td>\n",
       "      <td>FG20VLN</td>\n",
       "    </tr>\n",
       "    <tr>\n",
       "      <th>1</th>\n",
       "      <td>WV69OLC</td>\n",
       "      <td>FH19VRE</td>\n",
       "    </tr>\n",
       "  </tbody>\n",
       "</table>\n",
       "</div>"
      ],
      "text/plain": [
       "  Vehicle Reg Vehicle Reg\n",
       "0     FG20UGP     FG20VLN\n",
       "1     WV69OLC     FH19VRE"
      ]
     },
     "execution_count": 40,
     "metadata": {},
     "output_type": "execute_result"
    }
   ],
   "source": [
    "df"
   ]
  },
  {
   "cell_type": "code",
   "execution_count": null,
   "metadata": {},
   "outputs": [],
   "source": [
    "# Create a python function that takes an AST and replaces RangeNodes with pandas dataframes, and FunctionNodes with Python functions"
   ]
  },
  {
   "cell_type": "code",
   "execution_count": null,
   "metadata": {},
   "outputs": [],
   "source": [
    "# Build a xlcalculator Function Node\n",
    "\n",
    "import xlcalculator\n",
    "\n",
    "\n",
    "token = xlcalculator.tokenizer.f_token(tvalue=\"SUMIF\", ttype=\"function\", tsubtype=\"\")\n",
    "\n",
    "function_node = xlcalculator.ast_nodes.FunctionNode(token)"
   ]
  },
  {
   "cell_type": "code",
   "execution_count": null,
   "metadata": {},
   "outputs": [
    {
     "data": {
      "text/plain": [
       "<FunctionNode tvalue: 'SUMIF', ttype: function, tsubtype: >"
      ]
     },
     "execution_count": 13,
     "metadata": {},
     "output_type": "execute_result"
    }
   ],
   "source": [
    "function_node"
   ]
  },
  {
   "cell_type": "code",
   "execution_count": null,
   "metadata": {},
   "outputs": [],
   "source": [
    "ast = formula_1_ast_series_list[1][1]"
   ]
  },
  {
   "cell_type": "code",
   "execution_count": null,
   "metadata": {},
   "outputs": [
    {
     "name": "stdout",
     "output_type": "stream",
     "text": [
      "- (SUMIF((('parking|Vehicle Reg|1|1',), (None, None)), (('summary|Vehicle Reg|1|3',), (0, 0)), (('parking|TGB parking cost|1|3',), (None, None))))\n"
     ]
    }
   ],
   "source": [
    "print(ast)"
   ]
  },
  {
   "cell_type": "code",
   "execution_count": null,
   "metadata": {},
   "outputs": [],
   "source": []
  }
 ],
 "metadata": {
  "kernelspec": {
   "display_name": "venv",
   "language": "python",
   "name": "python3"
  },
  "language_info": {
   "codemirror_mode": {
    "name": "ipython",
    "version": 3
   },
   "file_extension": ".py",
   "mimetype": "text/x-python",
   "name": "python",
   "nbconvert_exporter": "python",
   "pygments_lexer": "ipython3",
   "version": "3.11.5"
  }
 },
 "nbformat": 4,
 "nbformat_minor": 2
}
