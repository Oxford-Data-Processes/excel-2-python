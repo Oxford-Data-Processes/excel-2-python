{
 "cells": [
  {
   "cell_type": "code",
   "execution_count": 1,
   "metadata": {},
   "outputs": [],
   "source": [
    "import os\n",
    "\n",
    "from series_extraction.excel_loader import ExcelLoader\n",
    "from series_extraction.excel_cleaner import ExcelCleaner\n",
    "from series_extraction.table_extractor import TableExtractor\n",
    "from series_extraction.series_extractor import SeriesExtractor\n",
    "from series_extraction.excel_compatibility_checker import ExcelCompatibilityChecker\n",
    "from series_extraction.series_iterator import SeriesIterator\n",
    "from series_extraction.series_mapper import SeriesMapper\n",
    "from series_extraction.excel_validator import ExcelValidator\n",
    "\n",
    "from ast_transformation.series_formula_generator_old import SeriesFormulaGenerator\n",
    "from ast_transformation.formula_generator import FormulaGenerator\n",
    "\n",
    "from ast_building.formula_parser import FormulaParser\n",
    "\n",
    "from pipeline_building.series_dependencies_builder import SeriesDependenciesBuilder\n",
    "from pipeline_building.dag_sorter import DAGSorter\n",
    "from pipeline_building.pipeline_builder import PipelineBuilder\n",
    "\n",
    "from excel_builder import ExcelBuilder\n",
    "\n",
    "from excel_checker import ExcelChecker\n",
    "\n",
    "from excel_data_extractor import ExcelDataExtractor\n"
   ]
  },
  {
   "cell_type": "code",
   "execution_count": 2,
   "metadata": {},
   "outputs": [],
   "source": [
    "data_directory = \"/Users/chrislittle/GitHub/speedsheet/excel-2-python/data\"\n",
    "\n",
    "project_name = 'test_excel_2'\n",
    "\n",
    "excel_raw_file_path = os.path.join(data_directory, \"excel_files_raw\", f\"{project_name}_raw.xlsx\")\n",
    "excel_reduced_filepath = os.path.join(data_directory, \"excel_files_reduced\", f\"{project_name}_reduced.xlsx\")\n",
    "excel_reduced_clean_filepath = os.path.join(data_directory, \"excel_files_reduced_clean\", f\"{project_name}_reduced_clean.xlsx\")\n",
    "excel_raw_clean_filepath = os.path.join(data_directory, \"excel_files_raw_clean\", f\"{project_name}_raw_clean.xlsx\")\n",
    "excel_reduced_clean_series_filepath = os.path.join(data_directory, \"excel_files_reduced_clean_series\", f\"{project_name}_reduced_clean_series.xlsx\")\n",
    "excel_reduced_clean_series_python_filepath = os.path.join(data_directory, \"excel_files_reduced_clean_series_python\", f\"{project_name}_reduced_clean_series_python.xlsx\")\n",
    "excel_raw_clean_series_python_filepath = os.path.join(data_directory, \"excel_files_raw_clean_series_python\", f\"{project_name}_raw_clean_series_python.xlsx\")"
   ]
  },
  {
   "cell_type": "code",
   "execution_count": 3,
   "metadata": {},
   "outputs": [
    {
     "name": "stdout",
     "output_type": "stream",
     "text": [
      "formula_1: =A2\n",
      "formula_2: =A3\n",
      "generic_formula: {0: (0, 1, 0, 1)}\n",
      "formula_1: =-SUMIF(parking!A:A,C2,parking!C:C)\n",
      "formula_2: =-SUMIF(parking!A:A,C3,parking!C:C)\n",
      "generic_formula: {3: (0, 0, 0, 0), 5: (0, 1, 0, 1), 7: (0, 0, 0, 0)}\n",
      "formula_1: =A2\n",
      "formula_2: =A3\n",
      "generic_formula: {0: (0, 1, 0, 1)}\n",
      "formula_1: =H2-(H2/1.2)\n",
      "formula_2: =H3-(H3/1.2)\n",
      "generic_formula: {0: (0, 1, 0, 1), 3: (0, 1, 0, 1)}\n",
      "formula_1: =-SUMIF(cleaning!A:A,F2,cleaning!F:F)\n",
      "formula_2: =-SUMIF(cleaning!A:A,F3,cleaning!F:F)\n",
      "generic_formula: {3: (0, 0, 0, 0), 5: (0, 1, 0, 1), 7: (0, 0, 0, 0)}\n",
      "formula_1: =CONCATENATE(summary!A2,\" Parking Recharge\")\n",
      "formula_2: =CONCATENATE(summary!A3,\" Parking Recharge\")\n",
      "generic_formula: {2: (0, 1, 0, 1)}\n",
      "formula_1: =-ROUND(summary!D2*1.2,2)\n",
      "formula_2: =-ROUND(summary!D3*1.2,2)\n",
      "generic_formula: {3: (0, 1, 0, 1)}\n",
      "formula_1: =ROUND(D2/6,2)\n",
      "formula_2: =ROUND(D3/6,2)\n",
      "generic_formula: {2: (0, 1, 0, 1)}\n",
      "formula_1: =D2>0\n",
      "formula_2: =D3>0\n",
      "generic_formula: {0: (0, 1, 0, 1)}\n",
      "formula_1: =B2/2\n",
      "formula_2: =B3/2\n",
      "generic_formula: {0: (0, 1, 0, 1)}\n",
      "formula_1: =D2*1.2\n",
      "formula_2: =D3*1.2\n",
      "generic_formula: {0: (0, 1, 0, 1)}\n",
      "formula_1: =E2*B2\n",
      "formula_2: =E3*B3\n",
      "generic_formula: {0: (0, 1, 0, 1), 2: (0, 1, 0, 1)}\n"
     ]
    }
   ],
   "source": [
    "excel_raw= ExcelLoader.load_file(excel_raw_file_path)\n",
    "excel_reduced = ExcelLoader.load_file(excel_reduced_filepath)\n",
    "is_valid = ExcelValidator.validate_excel(excel_reduced)\n",
    "if not is_valid:\n",
    "    raise Exception(\"Excel file is not valid\")\n",
    "\n",
    "excel_reduced_clean = ExcelCleaner.clean_excel(excel_reduced)\n",
    "excel_raw_clean = ExcelCleaner.clean_excel(excel_raw)\n",
    "ExcelBuilder.create_excel_from_workbook(excel_reduced_clean.workbook_with_formulas, excel_reduced_clean_filepath)\n",
    "ExcelBuilder.create_excel_from_workbook(excel_raw_clean.workbook_with_formulas,  excel_raw_clean_filepath)\n",
    "\n",
    "extracted_tables, workbook_data = TableExtractor.extract_tables(excel_reduced_clean)\n",
    "is_compatible = ExcelCompatibilityChecker.check_file(excel_raw, excel_reduced, extracted_tables)\n",
    "if not is_compatible:\n",
    "    raise Exception(\"Excel file is not compatible\")\n",
    "\n",
    "series_dict = SeriesExtractor.extract_series(extracted_tables=extracted_tables, workbook_data=workbook_data)\n",
    "series_mapping = SeriesMapper.map_series(series_dict)\n",
    "series_iterator = SeriesIterator.iterate_series(series_dict)\n",
    "\n",
    "series_list = [series for series in series_iterator]\n",
    "\n",
    "series_list_with_formulas = [\n",
    "    series for series in series_list if series.formulas != [None, None]\n",
    "]\n",
    "series_list_with_values = [\n",
    "    series for series in series_list if series.formulas == [None, None]\n",
    "]\n",
    "\n",
    "generic_formula_dictionary = {}\n",
    "\n",
    "for series in series_list_with_formulas:\n",
    "    formula_1, formula_2 = SeriesFormulaGenerator.adjust_formulas(\n",
    "        series.formulas\n",
    "    )\n",
    "    if formula_1 is not None and formula_2 is not None:\n",
    "\n",
    "        print(f\"formula_1: {formula_1}\")\n",
    "        print(f\"formula_2: {formula_2}\")\n",
    "\n",
    "        formula_1_ast = FormulaParser.parse_formula(formula_1)\n",
    "        formula_2_ast = FormulaParser.parse_formula(formula_2)\n",
    "\n",
    "        generic_formula = FormulaGenerator.generate_generic_formula(formula_1_ast[0], formula_2_ast[0])\n",
    "\n",
    "        print(f\"generic_formula: {generic_formula}\")\n",
    "\n",
    "        generic_formula_dictionary[series.series_id] = generic_formula"
   ]
  },
  {
   "cell_type": "code",
   "execution_count": 4,
   "metadata": {},
   "outputs": [
    {
     "data": {
      "text/plain": [
       "{SeriesId(sheet_name='summary', series_header='Vehicle Reg', series_header_cell_row=1, series_header_cell_column=3): {0: (0,\n",
       "   1,\n",
       "   0,\n",
       "   1)},\n",
       " SeriesId(sheet_name='summary', series_header='TGB Cost (No VAT) ', series_header_cell_row=1, series_header_cell_column=4): {3: (0,\n",
       "   0,\n",
       "   0,\n",
       "   0),\n",
       "  5: (0, 1, 0, 1),\n",
       "  7: (0, 0, 0, 0)},\n",
       " SeriesId(sheet_name='summary', series_header='Vehicle Reg', series_header_cell_row=1, series_header_cell_column=6): {0: (0,\n",
       "   1,\n",
       "   0,\n",
       "   1)},\n",
       " SeriesId(sheet_name='summary', series_header='VAT', series_header_cell_row=1, series_header_cell_column=7): {0: (0,\n",
       "   1,\n",
       "   0,\n",
       "   1),\n",
       "  3: (0, 1, 0, 1)},\n",
       " SeriesId(sheet_name='summary', series_header='TGB Cost (Inc VAT) ', series_header_cell_row=1, series_header_cell_column=8): {3: (0,\n",
       "   0,\n",
       "   0,\n",
       "   0),\n",
       "  5: (0, 1, 0, 1),\n",
       "  7: (0, 0, 0, 0)},\n",
       " SeriesId(sheet_name='xero', series_header='Description', series_header_cell_row=1, series_header_cell_column=2): {2: (0,\n",
       "   1,\n",
       "   0,\n",
       "   1)},\n",
       " SeriesId(sheet_name='xero', series_header='UnitAmount', series_header_cell_row=1, series_header_cell_column=4): {3: (0,\n",
       "   1,\n",
       "   0,\n",
       "   1)},\n",
       " SeriesId(sheet_name='xero', series_header='TaxAmount', series_header_cell_row=1, series_header_cell_column=5): {2: (0,\n",
       "   1,\n",
       "   0,\n",
       "   1)},\n",
       " SeriesId(sheet_name='xero', series_header='Invoice', series_header_cell_row=1, series_header_cell_column=7): {0: (0,\n",
       "   1,\n",
       "   0,\n",
       "   1)},\n",
       " SeriesId(sheet_name='parking', series_header='TGB parking cost', series_header_cell_row=1, series_header_cell_column=3): {0: (0,\n",
       "   1,\n",
       "   0,\n",
       "   1)},\n",
       " SeriesId(sheet_name='cleaning', series_header='Total Cost (inc VAT)', series_header_cell_row=1, series_header_cell_column=5): {0: (0,\n",
       "   1,\n",
       "   0,\n",
       "   1)},\n",
       " SeriesId(sheet_name='cleaning', series_header='TGB Cost (Inc VAT)', series_header_cell_row=1, series_header_cell_column=6): {0: (0,\n",
       "   1,\n",
       "   0,\n",
       "   1),\n",
       "  2: (0, 1, 0, 1)}}"
      ]
     },
     "execution_count": 4,
     "metadata": {},
     "output_type": "execute_result"
    }
   ],
   "source": [
    "generic_formula_dictionary"
   ]
  },
  {
   "cell_type": "code",
   "execution_count": 5,
   "metadata": {},
   "outputs": [
    {
     "data": {
      "text/plain": [
       "([E2 <Range>, * <Operator>, B2 <Range>],\n",
       " <formulas.builder.AstBuilder at 0x15891dd90>)"
      ]
     },
     "execution_count": 5,
     "metadata": {},
     "output_type": "execute_result"
    }
   ],
   "source": [
    "formula_1_ast"
   ]
  },
  {
   "cell_type": "code",
   "execution_count": 6,
   "metadata": {},
   "outputs": [],
   "source": [
    "series_values_dict = {str(series.series_id): series.values for series in series_list}"
   ]
  },
  {
   "cell_type": "code",
   "execution_count": 7,
   "metadata": {},
   "outputs": [],
   "source": [
    "# series_values_dict_raw = ExcelDataExtractor.extract_series_data_from_excel(excel_raw.workbook_with_values, series_list)"
   ]
  },
  {
   "cell_type": "code",
   "execution_count": 8,
   "metadata": {},
   "outputs": [],
   "source": [
    "series_dependencies = SeriesDependenciesBuilder.build_dependencies(generic_formula_dictionary)"
   ]
  },
  {
   "cell_type": "code",
   "execution_count": 9,
   "metadata": {},
   "outputs": [],
   "source": [
    "sorted_dag = DAGSorter.sort_dag(series_dependencies)"
   ]
  },
  {
   "cell_type": "code",
   "execution_count": 10,
   "metadata": {},
   "outputs": [],
   "source": [
    "# series_list_updated_raw = PipelineBuilder.create_series_list(sorted_dag, generic_formula_dictionary, series_dict, series_values_dict_raw, series_list_with_values)"
   ]
  },
  {
   "cell_type": "code",
   "execution_count": 11,
   "metadata": {},
   "outputs": [
    {
     "ename": "FormulaError",
     "evalue": "('Not a valid formula:\\n%s', '={0: (0, 1, 0, 1)}')",
     "output_type": "error",
     "traceback": [
      "\u001b[0;31m---------------------------------------------------------------------------\u001b[0m",
      "\u001b[0;31mFormulaError\u001b[0m                              Traceback (most recent call last)",
      "Cell \u001b[0;32mIn[11], line 1\u001b[0m\n\u001b[0;32m----> 1\u001b[0m series_list_updated_reduced \u001b[38;5;241m=\u001b[39m \u001b[43mPipelineBuilder\u001b[49m\u001b[38;5;241;43m.\u001b[39;49m\u001b[43mcreate_series_list\u001b[49m\u001b[43m(\u001b[49m\u001b[43msorted_dag\u001b[49m\u001b[43m,\u001b[49m\u001b[43m \u001b[49m\u001b[43mgeneric_formula_dictionary\u001b[49m\u001b[43m,\u001b[49m\u001b[43m \u001b[49m\u001b[43mseries_dict\u001b[49m\u001b[43m,\u001b[49m\u001b[43m \u001b[49m\u001b[43mseries_values_dict\u001b[49m\u001b[43m,\u001b[49m\u001b[43m \u001b[49m\u001b[43mseries_list_with_values\u001b[49m\u001b[43m)\u001b[49m\n",
      "File \u001b[0;32m~/GitHub/speedsheet/excel-2-python/src/pipeline_building/pipeline_builder.py:59\u001b[0m, in \u001b[0;36mPipelineBuilder.create_series_list\u001b[0;34m(sorted_dag, generic_formula_dictionary, series_dict, series_values_dict_raw, series_list_with_values)\u001b[0m\n\u001b[1;32m     57\u001b[0m series \u001b[38;5;241m=\u001b[39m SeriesMapper\u001b[38;5;241m.\u001b[39mget_series_from_series_id(series_id, series_dict)\n\u001b[1;32m     58\u001b[0m \u001b[38;5;28;01mif\u001b[39;00m formula_ast:\n\u001b[0;32m---> 59\u001b[0m     values \u001b[38;5;241m=\u001b[39m \u001b[43mPipelineBuilder\u001b[49m\u001b[38;5;241;43m.\u001b[39;49m\u001b[43mget_evaluated_results_from_formula_ast\u001b[49m\u001b[43m(\u001b[49m\n\u001b[1;32m     60\u001b[0m \u001b[43m        \u001b[49m\u001b[43mseries_id\u001b[49m\u001b[43m,\u001b[49m\u001b[43m \u001b[49m\u001b[43mformula_ast\u001b[49m\u001b[43m,\u001b[49m\u001b[43m \u001b[49m\u001b[43mseries_values_dict_raw\u001b[49m\n\u001b[1;32m     61\u001b[0m \u001b[43m    \u001b[49m\u001b[43m)\u001b[49m\n\u001b[1;32m     62\u001b[0m     series\u001b[38;5;241m.\u001b[39mvalues \u001b[38;5;241m=\u001b[39m values\n\u001b[1;32m     63\u001b[0m     series\u001b[38;5;241m.\u001b[39mseries_length \u001b[38;5;241m=\u001b[39m \u001b[38;5;28mlen\u001b[39m(values)\n",
      "File \u001b[0;32m~/GitHub/speedsheet/excel-2-python/src/pipeline_building/pipeline_builder.py:31\u001b[0m, in \u001b[0;36mPipelineBuilder.get_evaluated_results_from_formula_ast\u001b[0;34m(series_id, formula_ast, series_values_dict)\u001b[0m\n\u001b[1;32m     27\u001b[0m formula_strings \u001b[38;5;241m=\u001b[39m [\u001b[38;5;28mstr\u001b[39m(formula) \u001b[38;5;28;01mfor\u001b[39;00m formula \u001b[38;5;129;01min\u001b[39;00m formula_list]\n\u001b[1;32m     29\u001b[0m formula_evaluator \u001b[38;5;241m=\u001b[39m FormulaEvaluator()\n\u001b[0;32m---> 31\u001b[0m results \u001b[38;5;241m=\u001b[39m \u001b[43m[\u001b[49m\n\u001b[1;32m     32\u001b[0m \u001b[43m    \u001b[49m\u001b[43mformula_evaluator\u001b[49m\u001b[38;5;241;43m.\u001b[39;49m\u001b[43mevaluate_formula\u001b[49m\u001b[43m(\u001b[49m\u001b[38;5;124;43mf\u001b[39;49m\u001b[38;5;124;43m\"\u001b[39;49m\u001b[38;5;124;43m=\u001b[39;49m\u001b[38;5;132;43;01m{\u001b[39;49;00m\u001b[43mformula_string\u001b[49m\u001b[38;5;132;43;01m}\u001b[39;49;00m\u001b[38;5;124;43m\"\u001b[39;49m\u001b[43m)\u001b[49m\n\u001b[1;32m     33\u001b[0m \u001b[43m    \u001b[49m\u001b[38;5;28;43;01mfor\u001b[39;49;00m\u001b[43m \u001b[49m\u001b[43mformula_string\u001b[49m\u001b[43m \u001b[49m\u001b[38;5;129;43;01min\u001b[39;49;00m\u001b[43m \u001b[49m\u001b[43mformula_strings\u001b[49m\n\u001b[1;32m     34\u001b[0m \u001b[43m\u001b[49m\u001b[43m]\u001b[49m\n\u001b[1;32m     36\u001b[0m \u001b[38;5;28;01mreturn\u001b[39;00m results\n",
      "File \u001b[0;32m~/GitHub/speedsheet/excel-2-python/src/pipeline_building/pipeline_builder.py:32\u001b[0m, in \u001b[0;36m<listcomp>\u001b[0;34m(.0)\u001b[0m\n\u001b[1;32m     27\u001b[0m formula_strings \u001b[38;5;241m=\u001b[39m [\u001b[38;5;28mstr\u001b[39m(formula) \u001b[38;5;28;01mfor\u001b[39;00m formula \u001b[38;5;129;01min\u001b[39;00m formula_list]\n\u001b[1;32m     29\u001b[0m formula_evaluator \u001b[38;5;241m=\u001b[39m FormulaEvaluator()\n\u001b[1;32m     31\u001b[0m results \u001b[38;5;241m=\u001b[39m [\n\u001b[0;32m---> 32\u001b[0m     \u001b[43mformula_evaluator\u001b[49m\u001b[38;5;241;43m.\u001b[39;49m\u001b[43mevaluate_formula\u001b[49m\u001b[43m(\u001b[49m\u001b[38;5;124;43mf\u001b[39;49m\u001b[38;5;124;43m\"\u001b[39;49m\u001b[38;5;124;43m=\u001b[39;49m\u001b[38;5;132;43;01m{\u001b[39;49;00m\u001b[43mformula_string\u001b[49m\u001b[38;5;132;43;01m}\u001b[39;49;00m\u001b[38;5;124;43m\"\u001b[39;49m\u001b[43m)\u001b[49m\n\u001b[1;32m     33\u001b[0m     \u001b[38;5;28;01mfor\u001b[39;00m formula_string \u001b[38;5;129;01min\u001b[39;00m formula_strings\n\u001b[1;32m     34\u001b[0m ]\n\u001b[1;32m     36\u001b[0m \u001b[38;5;28;01mreturn\u001b[39;00m results\n",
      "File \u001b[0;32m~/GitHub/speedsheet/excel-2-python/src/ast_transformation/formula_evaluator.py:15\u001b[0m, in \u001b[0;36mFormulaEvaluator.evaluate_formula\u001b[0;34m(self, formula_string)\u001b[0m\n\u001b[1;32m     12\u001b[0m     formula_string \u001b[38;5;241m=\u001b[39m \u001b[38;5;124m\"\u001b[39m\u001b[38;5;124m=\u001b[39m\u001b[38;5;124m\"\u001b[39m \u001b[38;5;241m+\u001b[39m formula_string\n\u001b[1;32m     14\u001b[0m \u001b[38;5;66;03m# Compile and evaluate the formula\u001b[39;00m\n\u001b[0;32m---> 15\u001b[0m function \u001b[38;5;241m=\u001b[39m \u001b[38;5;28;43mself\u001b[39;49m\u001b[38;5;241;43m.\u001b[39;49m\u001b[43mformula_parser\u001b[49m\u001b[38;5;241;43m.\u001b[39;49m\u001b[43mast\u001b[49m\u001b[43m(\u001b[49m\u001b[43mformula_string\u001b[49m\u001b[43m)\u001b[49m[\u001b[38;5;241m1\u001b[39m]\u001b[38;5;241m.\u001b[39mcompile()\n\u001b[1;32m     16\u001b[0m result \u001b[38;5;241m=\u001b[39m function()\n\u001b[1;32m     18\u001b[0m \u001b[38;5;28;01mif\u001b[39;00m \u001b[38;5;28misinstance\u001b[39m(result, formulas\u001b[38;5;241m.\u001b[39mfunctions\u001b[38;5;241m.\u001b[39mArray):\n",
      "File \u001b[0;32m~/GitHub/speedsheet/excel-2-python/venv/lib/python3.11/site-packages/formulas/parser.py:61\u001b[0m, in \u001b[0;36mParser.ast\u001b[0;34m(self, expression, context)\u001b[0m\n\u001b[1;32m     59\u001b[0m             \u001b[38;5;28;01mraise\u001b[39;00m FormulaError(expression)\n\u001b[1;32m     60\u001b[0m     \u001b[38;5;28;01melse\u001b[39;00m:\n\u001b[0;32m---> 61\u001b[0m         \u001b[38;5;28;01mraise\u001b[39;00m FormulaError(expression)\n\u001b[1;32m     62\u001b[0m Parenthesis(\u001b[38;5;124m'\u001b[39m\u001b[38;5;124m)\u001b[39m\u001b[38;5;124m'\u001b[39m)\u001b[38;5;241m.\u001b[39mast(tokens, stack, builder)\n\u001b[1;32m     63\u001b[0m tokens \u001b[38;5;241m=\u001b[39m tokens[\u001b[38;5;241m1\u001b[39m:\u001b[38;5;241m-\u001b[39m\u001b[38;5;241m1\u001b[39m]\n",
      "\u001b[0;31mFormulaError\u001b[0m: ('Not a valid formula:\\n%s', '={0: (0, 1, 0, 1)}')"
     ]
    }
   ],
   "source": [
    "series_list_updated_reduced = PipelineBuilder.create_series_list(sorted_dag, generic_formula_dictionary, series_dict, series_values_dict, series_list_with_values)"
   ]
  },
  {
   "cell_type": "code",
   "execution_count": null,
   "metadata": {},
   "outputs": [
    {
     "data": {
      "text/plain": [
       "[Series(series_id=SeriesId(sheet_name='VehicleData', series_header='vrm', series_header_cell_row=1, series_header_cell_column=1), worksheet=Worksheet(sheet_name='VehicleData', workbook_file_path=None, worksheet=None), series_header='vrm', formulas=[None, None], values=['YY70KTT', 'YY15UUW'], series_starting_cell=Cell(column=1, row=2, coordinate='A2', sheet_name=None, value=None, value_type=None, formula=None), series_length=2, series_data_type=<SeriesDataType.STR: 'str'>),\n",
       " Series(series_id=SeriesId(sheet_name='VehicleData', series_header='make', series_header_cell_row=1, series_header_cell_column=2), worksheet=Worksheet(sheet_name='VehicleData', workbook_file_path=None, worksheet=None), series_header='make', formulas=[None, None], values=['Kia', 'Vauxhall'], series_starting_cell=Cell(column=2, row=2, coordinate='B2', sheet_name=None, value=None, value_type=None, formula=None), series_length=2, series_data_type=<SeriesDataType.STR: 'str'>),\n",
       " Series(series_id=SeriesId(sheet_name='VehicleData', series_header='value', series_header_cell_row=1, series_header_cell_column=3), worksheet=Worksheet(sheet_name='VehicleData', workbook_file_path=None, worksheet=None), series_header='value', formulas=[None, None], values=[14945, 4836], series_starting_cell=Cell(column=3, row=2, coordinate='C2', sheet_name=None, value=None, value_type=None, formula=None), series_length=2, series_data_type=<SeriesDataType.INT: 'int'>),\n",
       " Series(series_id=SeriesId(sheet_name='VehicleData', series_header='model', series_header_cell_row=1, series_header_cell_column=4), worksheet=Worksheet(sheet_name='VehicleData', workbook_file_path=None, worksheet=None), series_header='model', formulas=[None, None], values=['Niro 2 S-A', 'Corsa Excite AC Ecoflex S/s'], series_starting_cell=Cell(column=4, row=2, coordinate='D2', sheet_name=None, value=None, value_type=None, formula=None), series_length=2, series_data_type=<SeriesDataType.STR: 'str'>),\n",
       " Series(series_id=SeriesId(sheet_name='VehicleData', series_header='transmission', series_header_cell_row=1, series_header_cell_column=5), worksheet=Worksheet(sheet_name='VehicleData', workbook_file_path=None, worksheet=None), series_header='transmission', formulas=[None, None], values=[2, 1], series_starting_cell=Cell(column=5, row=2, coordinate='E2', sheet_name=None, value=None, value_type=None, formula=None), series_length=2, series_data_type=<SeriesDataType.INT: 'int'>),\n",
       " Series(series_id=SeriesId(sheet_name='VehicleData', series_header='fuel_string', series_header_cell_row=1, series_header_cell_column=6), worksheet=Worksheet(sheet_name='VehicleData', workbook_file_path=None, worksheet=None), series_header='fuel_string', formulas=[None, None], values=['Hybrid', 'Petrol'], series_starting_cell=Cell(column=6, row=2, coordinate='F2', sheet_name=None, value=None, value_type=None, formula=None), series_length=2, series_data_type=<SeriesDataType.STR: 'str'>),\n",
       " Series(series_id=SeriesId(sheet_name='VehicleData', series_header='mileage', series_header_cell_row=1, series_header_cell_column=7), worksheet=Worksheet(sheet_name='VehicleData', workbook_file_path=None, worksheet=None), series_header='mileage', formulas=[None, None], values=[2552, 39166], series_starting_cell=Cell(column=7, row=2, coordinate='G2', sheet_name=None, value=None, value_type=None, formula=None), series_length=2, series_data_type=<SeriesDataType.INT: 'int'>),\n",
       " Series(series_id=SeriesId(sheet_name='VehicleData', series_header='colour', series_header_cell_row=1, series_header_cell_column=8), worksheet=Worksheet(sheet_name='VehicleData', workbook_file_path=None, worksheet=None), series_header='colour', formulas=[None, None], values=['Red', 'Black'], series_starting_cell=Cell(column=8, row=2, coordinate='H2', sheet_name=None, value=None, value_type=None, formula=None), series_length=2, series_data_type=<SeriesDataType.STR: 'str'>),\n",
       " Series(series_id=SeriesId(sheet_name='VehicleData', series_header='tax_&_mot_status', series_header_cell_row=1, series_header_cell_column=9), worksheet=Worksheet(sheet_name='VehicleData', workbook_file_path=None, worksheet=None), series_header='tax_&_mot_status', formulas=[None, None], values=['OK', 'OK'], series_starting_cell=Cell(column=9, row=2, coordinate='I2', sheet_name=None, value=None, value_type=None, formula=None), series_length=2, series_data_type=<SeriesDataType.STR: 'str'>),\n",
       " Series(series_id=SeriesId(sheet_name='VehicleData', series_header='type_string', series_header_cell_row=1, series_header_cell_column=10), worksheet=Worksheet(sheet_name='VehicleData', workbook_file_path=None, worksheet=None), series_header='type_string', formulas=[None, None], values=['Estate', 'City / Hatchback'], series_starting_cell=Cell(column=10, row=2, coordinate='J2', sheet_name=None, value=None, value_type=None, formula=None), series_length=2, series_data_type=<SeriesDataType.STR: 'str'>),\n",
       " Series(series_id=SeriesId(sheet_name='VehicleData', series_header='vehicle_age_years', series_header_cell_row=1, series_header_cell_column=11), worksheet=Worksheet(sheet_name='VehicleData', workbook_file_path=None, worksheet=None), series_header='vehicle_age_years', formulas=[None, None], values=[4, 9], series_starting_cell=Cell(column=11, row=2, coordinate='K2', sheet_name=None, value=None, value_type=None, formula=None), series_length=2, series_data_type=<SeriesDataType.INT: 'int'>),\n",
       " Series(series_id=SeriesId(sheet_name='VehicleData', series_header='mot_expires_date', series_header_cell_row=1, series_header_cell_column=12), worksheet=Worksheet(sheet_name='VehicleData', workbook_file_path=None, worksheet=None), series_header='mot_expires_date', formulas=[None, None], values=[45576, 45663], series_starting_cell=Cell(column=12, row=2, coordinate='L2', sheet_name=None, value=None, value_type=None, formula=None), series_length=2, series_data_type=<SeriesDataType.INT: 'int'>),\n",
       " Series(series_id=SeriesId(sheet_name='VehicleData', series_header='insurance_group', series_header_cell_row=1, series_header_cell_column=13), worksheet=Worksheet(sheet_name='VehicleData', workbook_file_path=None, worksheet=None), series_header='insurance_group', formulas=[None, None], values=[12, 12], series_starting_cell=Cell(column=13, row=2, coordinate='M2', sheet_name=None, value=None, value_type=None, formula=None), series_length=2, series_data_type=<SeriesDataType.INT: 'int'>),\n",
       " Series(series_id=SeriesId(sheet_name='VehicleData', series_header='description', series_header_cell_row=1, series_header_cell_column=14), worksheet=Worksheet(sheet_name='VehicleData', workbook_file_path=None, worksheet=None), series_header='description', formulas=[None, None], values=['Reliable and spacious hybrid five seater car. Great boot space.\\nDog-friendly.', 'Economical with Turbo.\\n\\n10 minutes walk from Park Royal station.\\n\\nBluetooth.\\nUSB.\\nAir Conditioning.\\nHeated steering wheel. \\nHeated seats. \\n65 MPG'], series_starting_cell=Cell(column=14, row=2, coordinate='N2', sheet_name=None, value=None, value_type=None, formula=None), series_length=2, series_data_type=<SeriesDataType.STR: 'str'>),\n",
       " Series(series_id=SeriesId(sheet_name='VehicleData', series_header='body_type', series_header_cell_row=1, series_header_cell_column=15), worksheet=Worksheet(sheet_name='VehicleData', workbook_file_path=None, worksheet=None), series_header='body_type', formulas=[None, None], values=['Estate', '3 Door Hatchback'], series_starting_cell=Cell(column=15, row=2, coordinate='O2', sheet_name=None, value=None, value_type=None, formula=None), series_length=2, series_data_type=<SeriesDataType.STR: 'str'>),\n",
       " Series(series_id=SeriesId(sheet_name='VehicleData', series_header='engine_cc', series_header_cell_row=1, series_header_cell_column=16), worksheet=Worksheet(sheet_name='VehicleData', workbook_file_path=None, worksheet=None), series_header='engine_cc', formulas=[None, None], values=[1580, 999], series_starting_cell=Cell(column=16, row=2, coordinate='P2', sheet_name=None, value=None, value_type=None, formula=None), series_length=2, series_data_type=<SeriesDataType.INT: 'int'>),\n",
       " Series(series_id=SeriesId(sheet_name='VehicleData', series_header='mpg', series_header_cell_row=1, series_header_cell_column=17), worksheet=Worksheet(sheet_name='VehicleData', workbook_file_path=None, worksheet=None), series_header='mpg', formulas=[None, None], values=[74.3, 57.7], series_starting_cell=Cell(column=17, row=2, coordinate='Q2', sheet_name=None, value=None, value_type=None, formula=None), series_length=2, series_data_type=<SeriesDataType.FLOAT: 'float'>),\n",
       " Series(series_id=SeriesId(sheet_name='VehicleData', series_header='seats', series_header_cell_row=1, series_header_cell_column=18), worksheet=Worksheet(sheet_name='VehicleData', workbook_file_path=None, worksheet=None), series_header='seats', formulas=[None, None], values=[5, 5], series_starting_cell=Cell(column=18, row=2, coordinate='R2', sheet_name=None, value=None, value_type=None, formula=None), series_length=2, series_data_type=<SeriesDataType.INT: 'int'>),\n",
       " Series(series_id=SeriesId(sheet_name='VehicleData', series_header='co2', series_header_cell_row=1, series_header_cell_column=19), worksheet=Worksheet(sheet_name='VehicleData', workbook_file_path=None, worksheet=None), series_header='co2', formulas=[None, None], values=[110, 114], series_starting_cell=Cell(column=19, row=2, coordinate='S2', sheet_name=None, value=None, value_type=None, formula=None), series_length=2, series_data_type=<SeriesDataType.INT: 'int'>),\n",
       " Series(series_id=SeriesId(sheet_name='VehicleData', series_header='year', series_header_cell_row=1, series_header_cell_column=20), worksheet=Worksheet(sheet_name='VehicleData', workbook_file_path=None, worksheet=None), series_header='year', formulas=[None, None], values=[2020, 2015], series_starting_cell=Cell(column=20, row=2, coordinate='T2', sheet_name=None, value=None, value_type=None, formula=None), series_length=2, series_data_type=<SeriesDataType.INT: 'int'>)]"
      ]
     },
     "execution_count": 13,
     "metadata": {},
     "output_type": "execute_result"
    }
   ],
   "source": [
    "series_list_updated_reduced"
   ]
  },
  {
   "cell_type": "code",
   "execution_count": null,
   "metadata": {},
   "outputs": [],
   "source": [
    "ExcelBuilder.create_excel_from_series(series_list_updated_reduced, excel_reduced_clean_series_python_filepath, values_only=True)"
   ]
  },
  {
   "cell_type": "code",
   "execution_count": null,
   "metadata": {},
   "outputs": [],
   "source": [
    "# ExcelBuilder.create_excel_from_series(series_list_updated_raw, excel_raw_clean_series_python_filepath, values_only=True)"
   ]
  },
  {
   "cell_type": "code",
   "execution_count": null,
   "metadata": {},
   "outputs": [
    {
     "data": {
      "text/plain": [
       "True"
      ]
     },
     "execution_count": 16,
     "metadata": {},
     "output_type": "execute_result"
    }
   ],
   "source": [
    "ExcelChecker.excels_are_equivalent(excel_reduced_clean_series_python_filepath, excel_reduced_clean_filepath)"
   ]
  },
  {
   "cell_type": "code",
   "execution_count": null,
   "metadata": {},
   "outputs": [
    {
     "data": {
      "text/plain": [
       "True"
      ]
     },
     "execution_count": 17,
     "metadata": {},
     "output_type": "execute_result"
    }
   ],
   "source": [
    "# ExcelChecker.excels_are_equivalent(excel_raw_clean_series_python_filepath, excel_raw_clean_filepath)"
   ]
  },
  {
   "cell_type": "code",
   "execution_count": null,
   "metadata": {},
   "outputs": [],
   "source": []
  }
 ],
 "metadata": {
  "kernelspec": {
   "display_name": "venv",
   "language": "python",
   "name": "python3"
  },
  "language_info": {
   "codemirror_mode": {
    "name": "ipython",
    "version": 3
   },
   "file_extension": ".py",
   "mimetype": "text/x-python",
   "name": "python",
   "nbconvert_exporter": "python",
   "pygments_lexer": "ipython3",
   "version": "3.11.5"
  }
 },
 "nbformat": 4,
 "nbformat_minor": 2
}
