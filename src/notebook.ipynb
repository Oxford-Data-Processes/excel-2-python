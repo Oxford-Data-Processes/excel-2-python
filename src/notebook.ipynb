{
 "cells": [
  {
   "cell_type": "code",
   "execution_count": 1,
   "metadata": {},
   "outputs": [],
   "source": [
    "import os\n",
    "\n",
    "from series_extraction.excel_loader import ExcelLoader\n",
    "from series_extraction.excel_cleaner import ExcelCleaner\n",
    "from series_extraction.table_extractor import TableExtractor\n",
    "from series_extraction.series_extractor import SeriesExtractor\n",
    "from series_extraction.excel_compatibility_checker import ExcelCompatibilityChecker\n",
    "from series_extraction.series_iterator import SeriesIterator\n",
    "from series_extraction.series_mapper import SeriesMapper\n",
    "from series_extraction.excel_validator import ExcelValidator\n",
    "\n",
    "from ast_transformation.series_formula_generator_old import SeriesFormulaGenerator\n",
    "from ast_transformation.formula_generator import FormulaGenerator\n",
    "from ast_transformation.formula_list_generator import FormulaListGenerator\n",
    "from ast_transformation.formula_evaluator import FormulaEvaluator\n",
    "\n",
    "from ast_building.formula_parser import FormulaParser\n",
    "from ast_building.series_implementer import SeriesImplementer\n",
    "\n",
    "from pipeline_building.series_dependencies_builder import SeriesDependenciesBuilder\n",
    "from pipeline_building.dag_sorter import DAGSorter\n",
    "\n",
    "from excel_builder import ExcelBuilder\n",
    "\n",
    "from excel_checker import ExcelChecker\n"
   ]
  },
  {
   "cell_type": "code",
   "execution_count": 2,
   "metadata": {},
   "outputs": [],
   "source": [
    "data_directory = \"/Users/chrislittle/GitHub/speedsheet/excel-2-python/data\"\n",
    "\n",
    "project_name = 'test_excel_4'\n",
    "\n",
    "excel_raw_file_path = os.path.join(data_directory, \"excel_files_raw\", f\"{project_name}_raw.xlsx\")\n",
    "excel_reduced_filepath = os.path.join(data_directory, \"excel_files_reduced\", f\"{project_name}_reduced.xlsx\")\n",
    "excel_reduced_clean_filepath = os.path.join(data_directory, \"excel_files_reduced_clean\", f\"{project_name}_reduced_clean.xlsx\")\n",
    "excel_reduced_clean_series_filepath = os.path.join(data_directory, \"excel_files_reduced_clean_series\", f\"{project_name}_reduced_clean_series.xlsx\")\n",
    "excel_reduced_clean_series_python_filepath = os.path.join(data_directory, \"excel_files_reduced_clean_series_python\", f\"{project_name}_reduced_clean_series_python.xlsx\")"
   ]
  },
  {
   "cell_type": "code",
   "execution_count": 3,
   "metadata": {},
   "outputs": [],
   "source": [
    "def get_evaluated_results_from_formula_ast(formula_ast, series_values_dict, values_length):\n",
    "    formula_list_generator = FormulaListGenerator(formula_ast, series_values_dict)\n",
    "    formula_list = formula_list_generator.generate_formula_list(0, values_length-1)\n",
    "    formula_strings = [str(formula) for formula in formula_list]\n",
    "\n",
    "    print(\"formula_strings: \", formula_strings)\n",
    "\n",
    "    formula_evaluator = FormulaEvaluator()\n",
    "\n",
    "    results = [formula_evaluator.evaluate_formula(f\"={formula_string}\") for formula_string in formula_strings]\n",
    "\n",
    "    return results"
   ]
  },
  {
   "cell_type": "code",
   "execution_count": 4,
   "metadata": {},
   "outputs": [],
   "source": [
    "excel_raw= ExcelLoader.load_file(excel_raw_file_path)\n",
    "excel_reduced = ExcelLoader.load_file(excel_reduced_filepath)\n",
    "is_valid = ExcelValidator.validate_excel(excel_reduced)\n",
    "if not is_valid:\n",
    "    raise Exception(\"Excel file is not valid\")\n",
    "\n",
    "excel_reduced_clean = ExcelCleaner.clean_excel(excel_reduced)\n",
    "ExcelBuilder.create_excel_from_workbook(excel_reduced_clean.workbook_with_formulas, excel_reduced_clean_filepath)\n",
    "\n",
    "extracted_tables, workbook_data = TableExtractor.extract_tables(excel_reduced_clean)\n",
    "is_compatible = ExcelCompatibilityChecker.check_file(excel_raw, excel_reduced, extracted_tables)\n",
    "if not is_compatible:\n",
    "    raise Exception(\"Excel file is not compatible\")\n",
    "\n",
    "series_dict = SeriesExtractor.extract_series(extracted_tables=extracted_tables, workbook_data=workbook_data)\n",
    "series_mapping = SeriesMapper.map_series(series_dict)\n",
    "series_iterator = SeriesIterator.iterate_series(series_dict)\n",
    "\n",
    "series_list = [series for series in series_iterator]\n",
    "\n",
    "series_list_with_formulas = [\n",
    "    series for series in series_list if series.formulas != [None, None]\n",
    "]\n",
    "series_list_with_values = [\n",
    "    series for series in series_list if series.formulas == [None, None]\n",
    "]\n",
    "\n",
    "series_list_new = []\n",
    "formula_1_ast_series_list = []\n",
    "generic_formula_dictionary = {}\n",
    "\n",
    "for series in series_list_with_formulas:\n",
    "    formula_1, formula_2 = SeriesFormulaGenerator.adjust_formulas(\n",
    "        series.formulas\n",
    "    )\n",
    "    if formula_1 is not None and formula_2 is not None:\n",
    "\n",
    "        series_implementer = SeriesImplementer(\n",
    "            series_mapping, sheet_name=series.worksheet.sheet_name\n",
    "        )\n",
    "\n",
    "        formula_1_ast = FormulaParser.parse_formula(formula_1)\n",
    "        formula_1_ast_series = series_implementer.update_ast(formula_1_ast)\n",
    "        formula_1_ast_series_list.append((series.series_id, formula_1_ast_series))\n",
    "\n",
    "        formula_2_ast = FormulaParser.parse_formula(formula_2)\n",
    "        formula_2_ast_series = series_implementer.update_ast(formula_2_ast)\n",
    "\n",
    "        generic_formula_ast = FormulaGenerator.traverse_and_replace(formula_1_ast_series, formula_2_ast_series)\n",
    "\n",
    "        generic_formula_dictionary[series.series_id] = generic_formula_ast\n",
    "\n"
   ]
  },
  {
   "cell_type": "code",
   "execution_count": 5,
   "metadata": {},
   "outputs": [],
   "source": [
    "series_values_dict = {str(series.series_id): series.values for series in series_list}"
   ]
  },
  {
   "cell_type": "code",
   "execution_count": 6,
   "metadata": {},
   "outputs": [
    {
     "data": {
      "text/plain": [
       "[(SeriesId(sheet_name='sheet_1', series_header='If_Column', series_header_cell_row=1, series_header_cell_column=12),\n",
       "  'IF((((\\'sheet_1|A_id|1|1\\',), (0, 0), (1, 1))) > (1), \"Above\", \"Below\")'),\n",
       " (SeriesId(sheet_name='sheet_1', series_header='Count_Column', series_header_cell_row=1, series_header_cell_column=13),\n",
       "  \"COUNT((('sheet_1|A_id|1|1',), (None, None), (None, None)))\"),\n",
       " (SeriesId(sheet_name='sheet_1', series_header='Countif_Column', series_header_cell_row=1, series_header_cell_column=14),\n",
       "  'COUNTIF(((\\'sheet_1|A_id|1|1\\',), (None, None), (None, None)), \">1\")'),\n",
       " (SeriesId(sheet_name='sheet_1', series_header='Sumif_Column', series_header_cell_row=1, series_header_cell_column=15),\n",
       "  'SUMIF(((\\'sheet_1|Size|1|2\\',), (None, None), (None, None)), \">1\")'),\n",
       " (SeriesId(sheet_name='sheet_1', series_header='Concatenate_Column', series_header_cell_row=1, series_header_cell_column=16),\n",
       "  \"CONCATENATE((('sheet_1|A_id|1|1',), (0, 0), (1, 1)), (('sheet_1|Size|1|2',), (0, 0), (1, 1)))\"),\n",
       " (SeriesId(sheet_name='sheet_1', series_header='Left_Column', series_header_cell_row=1, series_header_cell_column=17),\n",
       "  \"LEFT((('sheet_1|A_id|1|1',), (0, 0), (1, 1)), 2)\"),\n",
       " (SeriesId(sheet_name='sheet_1', series_header='Right_Column', series_header_cell_row=1, series_header_cell_column=18),\n",
       "  \"RIGHT((('sheet_1|Size|1|2',), (0, 0), (1, 1)), 2)\"),\n",
       " (SeriesId(sheet_name='sheet_1', series_header='Concatenate string', series_header_cell_row=1, series_header_cell_column=19),\n",
       "  \"CONCATENATE(LEFT((('sheet_1|Quality|1|9',), (0, 0), (1, 1)), 2), RIGHT((('sheet_1|Quality|1|9',), (0, 0), (1, 1)), 2))\"),\n",
       " (SeriesId(sheet_name='sheet_1', series_header='Conditional count', series_header_cell_row=1, series_header_cell_column=20),\n",
       "  'COUNTIFS(((\\'sheet_1|Acidity|1|8\\',), (None, None), (None, None)), \"<0\", ((\\'sheet_1|Quality|1|9\\',), (None, None), (None, None)), \"good\")'),\n",
       " (SeriesId(sheet_name='sheet_1', series_header='Trim quality', series_header_cell_row=1, series_header_cell_column=21),\n",
       "  \"TRIM((('sheet_1|Quality|1|9',), (0, 0), (1, 1)))\"),\n",
       " (SeriesId(sheet_name='sheet_1', series_header='Rounded Ripeness', series_header_cell_row=1, series_header_cell_column=22),\n",
       "  \"ROUND((('sheet_1|Ripeness|1|7',), (0, 0), (1, 1)), 6)\"),\n",
       " (SeriesId(sheet_name='sheet_1', series_header='Fun Substitute', series_header_cell_row=1, series_header_cell_column=23),\n",
       "  'SUBSTITUTE(((\\'sheet_1|Concatenate string|1|19\\',), (0, 0), (1, 1)), \"g\", \"fun\")'),\n",
       " (SeriesId(sheet_name='sheet_1', series_header='Count', series_header_cell_row=1, series_header_cell_column=26),\n",
       "  \"COUNTIF((('sheet_1|Quality|1|9',), (None, None), (None, None)), (('sheet_1|Quality|1|25',), (0, 0), (1, 1)))\"),\n",
       " (SeriesId(sheet_name='sheet_1', series_header='Index value', series_header_cell_row=1, series_header_cell_column=27),\n",
       "  \"INDEX((('sheet_1|Count|1|26',), (None, None), (None, None)), 2, 0)\")]"
      ]
     },
     "execution_count": 6,
     "metadata": {},
     "output_type": "execute_result"
    }
   ],
   "source": [
    "[(key, str(value)) for key,value in generic_formula_dictionary.items()]"
   ]
  },
  {
   "cell_type": "code",
   "execution_count": 7,
   "metadata": {},
   "outputs": [],
   "source": [
    "series_dependencies = SeriesDependenciesBuilder.build_dependencies(generic_formula_dictionary)"
   ]
  },
  {
   "cell_type": "code",
   "execution_count": 8,
   "metadata": {},
   "outputs": [
    {
     "data": {
      "text/plain": [
       "{SeriesId(sheet_name='sheet_1', series_header='If_Column', series_header_cell_row=1, series_header_cell_column=12): [SeriesId(sheet_name='sheet_1', series_header='A_id', series_header_cell_row=1, series_header_cell_column=1)],\n",
       " SeriesId(sheet_name='sheet_1', series_header='Count_Column', series_header_cell_row=1, series_header_cell_column=13): [SeriesId(sheet_name='sheet_1', series_header='A_id', series_header_cell_row=1, series_header_cell_column=1)],\n",
       " SeriesId(sheet_name='sheet_1', series_header='Countif_Column', series_header_cell_row=1, series_header_cell_column=14): [SeriesId(sheet_name='sheet_1', series_header='A_id', series_header_cell_row=1, series_header_cell_column=1)],\n",
       " SeriesId(sheet_name='sheet_1', series_header='Sumif_Column', series_header_cell_row=1, series_header_cell_column=15): [SeriesId(sheet_name='sheet_1', series_header='Size', series_header_cell_row=1, series_header_cell_column=2)],\n",
       " SeriesId(sheet_name='sheet_1', series_header='Concatenate_Column', series_header_cell_row=1, series_header_cell_column=16): [SeriesId(sheet_name='sheet_1', series_header='Size', series_header_cell_row=1, series_header_cell_column=2),\n",
       "  SeriesId(sheet_name='sheet_1', series_header='A_id', series_header_cell_row=1, series_header_cell_column=1)],\n",
       " SeriesId(sheet_name='sheet_1', series_header='Left_Column', series_header_cell_row=1, series_header_cell_column=17): [SeriesId(sheet_name='sheet_1', series_header='A_id', series_header_cell_row=1, series_header_cell_column=1)],\n",
       " SeriesId(sheet_name='sheet_1', series_header='Right_Column', series_header_cell_row=1, series_header_cell_column=18): [SeriesId(sheet_name='sheet_1', series_header='Size', series_header_cell_row=1, series_header_cell_column=2)],\n",
       " SeriesId(sheet_name='sheet_1', series_header='Concatenate string', series_header_cell_row=1, series_header_cell_column=19): [SeriesId(sheet_name='sheet_1', series_header='Quality', series_header_cell_row=1, series_header_cell_column=9)],\n",
       " SeriesId(sheet_name='sheet_1', series_header='Conditional count', series_header_cell_row=1, series_header_cell_column=20): [SeriesId(sheet_name='sheet_1', series_header='Quality', series_header_cell_row=1, series_header_cell_column=9),\n",
       "  SeriesId(sheet_name='sheet_1', series_header='Acidity', series_header_cell_row=1, series_header_cell_column=8)],\n",
       " SeriesId(sheet_name='sheet_1', series_header='Trim quality', series_header_cell_row=1, series_header_cell_column=21): [SeriesId(sheet_name='sheet_1', series_header='Quality', series_header_cell_row=1, series_header_cell_column=9)],\n",
       " SeriesId(sheet_name='sheet_1', series_header='Rounded Ripeness', series_header_cell_row=1, series_header_cell_column=22): [SeriesId(sheet_name='sheet_1', series_header='Ripeness', series_header_cell_row=1, series_header_cell_column=7)],\n",
       " SeriesId(sheet_name='sheet_1', series_header='Fun Substitute', series_header_cell_row=1, series_header_cell_column=23): [SeriesId(sheet_name='sheet_1', series_header='Concatenate string', series_header_cell_row=1, series_header_cell_column=19)],\n",
       " SeriesId(sheet_name='sheet_1', series_header='Count', series_header_cell_row=1, series_header_cell_column=26): [SeriesId(sheet_name='sheet_1', series_header='Quality', series_header_cell_row=1, series_header_cell_column=25),\n",
       "  SeriesId(sheet_name='sheet_1', series_header='Quality', series_header_cell_row=1, series_header_cell_column=9)],\n",
       " SeriesId(sheet_name='sheet_1', series_header='Index value', series_header_cell_row=1, series_header_cell_column=27): [SeriesId(sheet_name='sheet_1', series_header='Count', series_header_cell_row=1, series_header_cell_column=26)]}"
      ]
     },
     "execution_count": 8,
     "metadata": {},
     "output_type": "execute_result"
    }
   ],
   "source": [
    "series_dependencies"
   ]
  },
  {
   "cell_type": "code",
   "execution_count": 9,
   "metadata": {},
   "outputs": [],
   "source": [
    "sorted_dag = DAGSorter.sort_dag(series_dependencies)"
   ]
  },
  {
   "cell_type": "code",
   "execution_count": 10,
   "metadata": {},
   "outputs": [
    {
     "data": {
      "text/plain": [
       "[SeriesId(sheet_name='sheet_1', series_header='A_id', series_header_cell_row=1, series_header_cell_column=1),\n",
       " SeriesId(sheet_name='sheet_1', series_header='If_Column', series_header_cell_row=1, series_header_cell_column=12),\n",
       " SeriesId(sheet_name='sheet_1', series_header='Count_Column', series_header_cell_row=1, series_header_cell_column=13),\n",
       " SeriesId(sheet_name='sheet_1', series_header='Countif_Column', series_header_cell_row=1, series_header_cell_column=14),\n",
       " SeriesId(sheet_name='sheet_1', series_header='Size', series_header_cell_row=1, series_header_cell_column=2),\n",
       " SeriesId(sheet_name='sheet_1', series_header='Sumif_Column', series_header_cell_row=1, series_header_cell_column=15),\n",
       " SeriesId(sheet_name='sheet_1', series_header='Concatenate_Column', series_header_cell_row=1, series_header_cell_column=16),\n",
       " SeriesId(sheet_name='sheet_1', series_header='Left_Column', series_header_cell_row=1, series_header_cell_column=17),\n",
       " SeriesId(sheet_name='sheet_1', series_header='Right_Column', series_header_cell_row=1, series_header_cell_column=18),\n",
       " SeriesId(sheet_name='sheet_1', series_header='Quality', series_header_cell_row=1, series_header_cell_column=9),\n",
       " SeriesId(sheet_name='sheet_1', series_header='Concatenate string', series_header_cell_row=1, series_header_cell_column=19),\n",
       " SeriesId(sheet_name='sheet_1', series_header='Acidity', series_header_cell_row=1, series_header_cell_column=8),\n",
       " SeriesId(sheet_name='sheet_1', series_header='Conditional count', series_header_cell_row=1, series_header_cell_column=20),\n",
       " SeriesId(sheet_name='sheet_1', series_header='Trim quality', series_header_cell_row=1, series_header_cell_column=21),\n",
       " SeriesId(sheet_name='sheet_1', series_header='Ripeness', series_header_cell_row=1, series_header_cell_column=7),\n",
       " SeriesId(sheet_name='sheet_1', series_header='Rounded Ripeness', series_header_cell_row=1, series_header_cell_column=22),\n",
       " SeriesId(sheet_name='sheet_1', series_header='Fun Substitute', series_header_cell_row=1, series_header_cell_column=23),\n",
       " SeriesId(sheet_name='sheet_1', series_header='Quality', series_header_cell_row=1, series_header_cell_column=25),\n",
       " SeriesId(sheet_name='sheet_1', series_header='Count', series_header_cell_row=1, series_header_cell_column=26),\n",
       " SeriesId(sheet_name='sheet_1', series_header='Index value', series_header_cell_row=1, series_header_cell_column=27)]"
      ]
     },
     "execution_count": 10,
     "metadata": {},
     "output_type": "execute_result"
    }
   ],
   "source": [
    "sorted_dag"
   ]
  },
  {
   "cell_type": "code",
   "execution_count": 11,
   "metadata": {},
   "outputs": [
    {
     "name": "stderr",
     "output_type": "stream",
     "text": [
      "Failed DISPATCHING 'COUNTIFS' due to:\n",
      "  NotImplementedError()\n",
      "Traceback (most recent call last):\n",
      "  File \"/Users/chrislittle/GitHub/speedsheet/excel-2-python/venv/lib/python3.11/site-packages/schedula/utils/sol.py\", line 548, in _evaluate_node\n",
      "    value = self._evaluate_function(args, node_id, node_attr, attr,\n",
      "            ^^^^^^^^^^^^^^^^^^^^^^^^^^^^^^^^^^^^^^^^^^^^^^^^^^^^^^^\n",
      "  File \"/Users/chrislittle/GitHub/speedsheet/excel-2-python/venv/lib/python3.11/site-packages/schedula/utils/sol.py\", line 520, in _evaluate_function\n",
      "    res = async_process(\n",
      "          ^^^^^^^^^^^^^^\n",
      "  File \"/Users/chrislittle/GitHub/speedsheet/excel-2-python/venv/lib/python3.11/site-packages/schedula/utils/asy/__init__.py\", line 211, in async_process\n",
      "    res = (exe and exe.process_funcs or _process_funcs)(\n",
      "          ^^^^^^^^^^^^^^^^^^^^^^^^^^^^^^^^^^^^^^^^^^^^^^\n",
      "  File \"/Users/chrislittle/GitHub/speedsheet/excel-2-python/venv/lib/python3.11/site-packages/schedula/utils/asy/__init__.py\", line 169, in _process_funcs\n",
      "    r['res'] = e.process(sid, fn, *args, **kw) if e else fn(*args, **kw)\n",
      "                                                         ^^^^^^^^^^^^^^^\n",
      "  File \"/Users/chrislittle/GitHub/speedsheet/excel-2-python/venv/lib/python3.11/site-packages/formulas/functions/__init__.py\", line 106, in not_implemented\n",
      "    raise NotImplementedError\n",
      "NotImplementedError\n"
     ]
    },
    {
     "name": "stdout",
     "output_type": "stream",
     "text": [
      "Series ID: sheet_1|If_Column|1|12\n",
      "Formula Ast:  IF(((('sheet_1|A_id|1|1',), (0, 0), (1, 1))) > (1), \"Above\", \"Below\")\n",
      "Values Length:  2\n",
      "Start new index 0\n",
      "End new index 0\n",
      "ARRAY VALUES:  [[0]]\n",
      "Start new index 1\n",
      "End new index 1\n",
      "ARRAY VALUES:  [[1]]\n",
      "formula_strings:  ['IF((ARRAY(ARRAYROW(0))) > (1), \"Above\", \"Below\")', 'IF((ARRAY(ARRAYROW(1))) > (1), \"Above\", \"Below\")']\n",
      "Series ID: sheet_1|Count_Column|1|13\n",
      "Formula Ast:  COUNT((('sheet_1|A_id|1|1',), (None, None), (None, None)))\n",
      "Values Length:  2\n",
      "formula_strings:  ['COUNT(ARRAY(ARRAYROW(0, 1)))', 'COUNT(ARRAY(ARRAYROW(0, 1)))']\n",
      "Series ID: sheet_1|Countif_Column|1|14\n",
      "Formula Ast:  COUNTIF((('sheet_1|A_id|1|1',), (None, None), (None, None)), \">1\")\n",
      "Values Length:  2\n",
      "formula_strings:  ['COUNTIF(ARRAY(ARRAYROW(0, 1)), \">1\")', 'COUNTIF(ARRAY(ARRAYROW(0, 1)), \">1\")']\n",
      "Series ID: sheet_1|Sumif_Column|1|15\n",
      "Formula Ast:  SUMIF((('sheet_1|Size|1|2',), (None, None), (None, None)), \">1\")\n",
      "Values Length:  2\n",
      "formula_strings:  ['SUMIF(ARRAY(ARRAYROW(-3.970048523, -1.195217191)), \">1\")', 'SUMIF(ARRAY(ARRAYROW(-3.970048523, -1.195217191)), \">1\")']\n",
      "Series ID: sheet_1|Concatenate_Column|1|16\n",
      "Formula Ast:  CONCATENATE((('sheet_1|A_id|1|1',), (0, 0), (1, 1)), (('sheet_1|Size|1|2',), (0, 0), (1, 1)))\n",
      "Values Length:  2\n",
      "Start new index 0\n",
      "End new index 0\n",
      "ARRAY VALUES:  [[0]]\n",
      "Start new index 0\n",
      "End new index 0\n",
      "ARRAY VALUES:  [[-3.970048523]]\n",
      "Start new index 1\n",
      "End new index 1\n",
      "ARRAY VALUES:  [[1]]\n",
      "Start new index 1\n",
      "End new index 1\n",
      "ARRAY VALUES:  [[-1.195217191]]\n",
      "formula_strings:  ['CONCATENATE(ARRAY(ARRAYROW(0)), ARRAY(ARRAYROW(-3.970048523)))', 'CONCATENATE(ARRAY(ARRAYROW(1)), ARRAY(ARRAYROW(-1.195217191)))']\n",
      "Series ID: sheet_1|Left_Column|1|17\n",
      "Formula Ast:  LEFT((('sheet_1|A_id|1|1',), (0, 0), (1, 1)), 2)\n",
      "Values Length:  2\n",
      "Start new index 0\n",
      "End new index 0\n",
      "ARRAY VALUES:  [[0]]\n",
      "Start new index 1\n",
      "End new index 1\n",
      "ARRAY VALUES:  [[1]]\n",
      "formula_strings:  ['LEFT(ARRAY(ARRAYROW(0)), 2)', 'LEFT(ARRAY(ARRAYROW(1)), 2)']\n",
      "Series ID: sheet_1|Right_Column|1|18\n",
      "Formula Ast:  RIGHT((('sheet_1|Size|1|2',), (0, 0), (1, 1)), 2)\n",
      "Values Length:  2\n",
      "Start new index 0\n",
      "End new index 0\n",
      "ARRAY VALUES:  [[-3.970048523]]\n",
      "Start new index 1\n",
      "End new index 1\n",
      "ARRAY VALUES:  [[-1.195217191]]\n",
      "formula_strings:  ['RIGHT(ARRAY(ARRAYROW(-3.970048523)), 2)', 'RIGHT(ARRAY(ARRAYROW(-1.195217191)), 2)']\n",
      "Series ID: sheet_1|Concatenate string|1|19\n",
      "Formula Ast:  CONCATENATE(LEFT((('sheet_1|Quality|1|9',), (0, 0), (1, 1)), 2), RIGHT((('sheet_1|Quality|1|9',), (0, 0), (1, 1)), 2))\n",
      "Values Length:  2\n",
      "Start new index 0\n",
      "End new index 0\n",
      "ARRAY VALUES:  [['good']]\n",
      "Start new index 0\n",
      "End new index 0\n",
      "ARRAY VALUES:  [['good']]\n",
      "Start new index 1\n",
      "End new index 1\n",
      "ARRAY VALUES:  [['good']]\n",
      "Start new index 1\n",
      "End new index 1\n",
      "ARRAY VALUES:  [['good']]\n",
      "formula_strings:  ['CONCATENATE(LEFT(ARRAY(ARRAYROW(\"good\")), 2), RIGHT(ARRAY(ARRAYROW(\"good\")), 2))', 'CONCATENATE(LEFT(ARRAY(ARRAYROW(\"good\")), 2), RIGHT(ARRAY(ARRAYROW(\"good\")), 2))']\n",
      "Series ID: sheet_1|Conditional count|1|20\n",
      "Formula Ast:  COUNTIFS((('sheet_1|Acidity|1|8',), (None, None), (None, None)), \"<0\", (('sheet_1|Quality|1|9',), (None, None), (None, None)), \"good\")\n",
      "Values Length:  2\n",
      "formula_strings:  ['COUNTIFS(ARRAY(ARRAYROW(-0.491590483, -0.722809367)), \"<0\", ARRAY(ARRAYROW(\"good\", \"good\")), \"good\")', 'COUNTIFS(ARRAY(ARRAYROW(-0.491590483, -0.722809367)), \"<0\", ARRAY(ARRAYROW(\"good\", \"good\")), \"good\")']\n"
     ]
    },
    {
     "ename": "DispatcherError",
     "evalue": "(\"Failed DISPATCHING '%s' due to:\\n  %r\", 'COUNTIFS', NotImplementedError())",
     "output_type": "error",
     "traceback": [
      "\u001b[0;31m---------------------------------------------------------------------------\u001b[0m",
      "\u001b[0;31mNotImplementedError\u001b[0m                       Traceback (most recent call last)",
      "File \u001b[0;32m~/GitHub/speedsheet/excel-2-python/venv/lib/python3.11/site-packages/schedula/utils/sol.py:548\u001b[0m, in \u001b[0;36mSolution._evaluate_node\u001b[0;34m(self, args, node_attr, node_id, skip_func, **kw)\u001b[0m\n\u001b[1;32m    547\u001b[0m     args \u001b[38;5;241m=\u001b[39m [v \u001b[38;5;28;01mfor\u001b[39;00m v \u001b[38;5;129;01min\u001b[39;00m args \u001b[38;5;28;01mif\u001b[39;00m v \u001b[38;5;129;01mis\u001b[39;00m \u001b[38;5;129;01mnot\u001b[39;00m NONE]\n\u001b[0;32m--> 548\u001b[0m     value \u001b[38;5;241m=\u001b[39m \u001b[38;5;28;43mself\u001b[39;49m\u001b[38;5;241;43m.\u001b[39;49m\u001b[43m_evaluate_function\u001b[49m\u001b[43m(\u001b[49m\u001b[43margs\u001b[49m\u001b[43m,\u001b[49m\u001b[43m \u001b[49m\u001b[43mnode_id\u001b[49m\u001b[43m,\u001b[49m\u001b[43m \u001b[49m\u001b[43mnode_attr\u001b[49m\u001b[43m,\u001b[49m\u001b[43m \u001b[49m\u001b[43mattr\u001b[49m\u001b[43m,\u001b[49m\n\u001b[1;32m    549\u001b[0m \u001b[43m                                    \u001b[49m\u001b[38;5;241;43m*\u001b[39;49m\u001b[38;5;241;43m*\u001b[39;49m\u001b[43mkw\u001b[49m\u001b[43m)\u001b[49m\n\u001b[1;32m    550\u001b[0m value \u001b[38;5;241m=\u001b[39m \u001b[38;5;28mself\u001b[39m\u001b[38;5;241m.\u001b[39m_apply_filters(value, node_id, node_attr, attr, \u001b[38;5;241m*\u001b[39m\u001b[38;5;241m*\u001b[39mkw)\n",
      "File \u001b[0;32m~/GitHub/speedsheet/excel-2-python/venv/lib/python3.11/site-packages/schedula/utils/sol.py:520\u001b[0m, in \u001b[0;36mSolution._evaluate_function\u001b[0;34m(self, args, node_id, node_attr, attr, stopper, executor)\u001b[0m\n\u001b[1;32m    518\u001b[0m         attr[\u001b[38;5;124m'\u001b[39m\u001b[38;5;124msolution\u001b[39m\u001b[38;5;124m'\u001b[39m] \u001b[38;5;241m=\u001b[39m sol\n\u001b[0;32m--> 520\u001b[0m res \u001b[38;5;241m=\u001b[39m \u001b[43masync_process\u001b[49m\u001b[43m(\u001b[49m\n\u001b[1;32m    521\u001b[0m \u001b[43m    \u001b[49m\u001b[43m[\u001b[49m\u001b[43mnode_attr\u001b[49m\u001b[43m[\u001b[49m\u001b[38;5;124;43m'\u001b[39;49m\u001b[38;5;124;43mfunction\u001b[39;49m\u001b[38;5;124;43m'\u001b[39;49m\u001b[43m]\u001b[49m\u001b[43m]\u001b[49m\u001b[43m,\u001b[49m\u001b[43m \u001b[49m\u001b[38;5;241;43m*\u001b[39;49m\u001b[43margs\u001b[49m\u001b[43m,\u001b[49m\u001b[43m \u001b[49m\u001b[43mstopper\u001b[49m\u001b[38;5;241;43m=\u001b[39;49m\u001b[43mstopper\u001b[49m\u001b[43m,\u001b[49m\u001b[43m \u001b[49m\u001b[43mexecutor\u001b[49m\u001b[38;5;241;43m=\u001b[39;49m\u001b[43mexecutor\u001b[49m\u001b[43m,\u001b[49m\n\u001b[1;32m    522\u001b[0m \u001b[43m    \u001b[49m\u001b[43msol\u001b[49m\u001b[38;5;241;43m=\u001b[39;49m\u001b[38;5;28;43mself\u001b[39;49m\u001b[43m,\u001b[49m\u001b[43m \u001b[49m\u001b[43mcallback\u001b[49m\u001b[38;5;241;43m=\u001b[39;49m\u001b[43m_callback\u001b[49m\u001b[43m,\u001b[49m\u001b[43m \u001b[49m\u001b[43msol_name\u001b[49m\u001b[38;5;241;43m=\u001b[39;49m\u001b[38;5;28;43mself\u001b[39;49m\u001b[38;5;241;43m.\u001b[39;49m\u001b[43mfull_name\u001b[49m\u001b[43m \u001b[49m\u001b[38;5;241;43m+\u001b[39;49m\u001b[43m \u001b[49m\u001b[43m(\u001b[49m\u001b[43mnode_id\u001b[49m\u001b[43m,\u001b[49m\u001b[43m)\u001b[49m\u001b[43m,\u001b[49m\n\u001b[1;32m    523\u001b[0m \u001b[43m    \u001b[49m\u001b[43mverbose\u001b[49m\u001b[38;5;241;43m=\u001b[39;49m\u001b[38;5;28;43mself\u001b[39;49m\u001b[38;5;241;43m.\u001b[39;49m\u001b[43mverbose\u001b[49m\n\u001b[1;32m    524\u001b[0m \u001b[43m\u001b[49m\u001b[43m)\u001b[49m\n\u001b[1;32m    526\u001b[0m \u001b[38;5;28;01mreturn\u001b[39;00m res\n",
      "File \u001b[0;32m~/GitHub/speedsheet/excel-2-python/venv/lib/python3.11/site-packages/schedula/utils/asy/__init__.py:211\u001b[0m, in \u001b[0;36masync_process\u001b[0;34m(funcs, executor, sol, callback, *args, **kw)\u001b[0m\n\u001b[1;32m    210\u001b[0m exe \u001b[38;5;241m=\u001b[39m EXECUTORS\u001b[38;5;241m.\u001b[39mget_executor(exe_id)\n\u001b[0;32m--> 211\u001b[0m res \u001b[38;5;241m=\u001b[39m \u001b[43m(\u001b[49m\u001b[43mexe\u001b[49m\u001b[43m \u001b[49m\u001b[38;5;129;43;01mand\u001b[39;49;00m\u001b[43m \u001b[49m\u001b[43mexe\u001b[49m\u001b[38;5;241;43m.\u001b[39;49m\u001b[43mprocess_funcs\u001b[49m\u001b[43m \u001b[49m\u001b[38;5;129;43;01mor\u001b[39;49;00m\u001b[43m \u001b[49m\u001b[43m_process_funcs\u001b[49m\u001b[43m)\u001b[49m\u001b[43m(\u001b[49m\n\u001b[1;32m    212\u001b[0m \u001b[43m    \u001b[49m\u001b[43mexe_id\u001b[49m\u001b[43m,\u001b[49m\u001b[43m \u001b[49m\u001b[43mfuncs\u001b[49m\u001b[43m,\u001b[49m\u001b[43m \u001b[49m\u001b[43mexecutor\u001b[49m\u001b[43m,\u001b[49m\u001b[43m \u001b[49m\u001b[38;5;241;43m*\u001b[39;49m\u001b[43margs\u001b[49m\u001b[43m,\u001b[49m\u001b[43m \u001b[49m\u001b[38;5;241;43m*\u001b[39;49m\u001b[38;5;241;43m*\u001b[39;49m\u001b[43mkw\u001b[49m\n\u001b[1;32m    213\u001b[0m \u001b[43m\u001b[49m\u001b[43m)\u001b[49m\n\u001b[1;32m    215\u001b[0m \u001b[38;5;28;01mfor\u001b[39;00m r \u001b[38;5;129;01min\u001b[39;00m res:\n",
      "File \u001b[0;32m~/GitHub/speedsheet/excel-2-python/venv/lib/python3.11/site-packages/schedula/utils/asy/__init__.py:169\u001b[0m, in \u001b[0;36m_process_funcs\u001b[0;34m(exe_id, funcs, executor, stopper, sol_name, verbose, *args, **kw)\u001b[0m\n\u001b[1;32m    168\u001b[0m     e \u001b[38;5;241m=\u001b[39m EXECUTORS\u001b[38;5;241m.\u001b[39mget_executor(exe_id)\n\u001b[0;32m--> 169\u001b[0m     r[\u001b[38;5;124m'\u001b[39m\u001b[38;5;124mres\u001b[39m\u001b[38;5;124m'\u001b[39m] \u001b[38;5;241m=\u001b[39m e\u001b[38;5;241m.\u001b[39mprocess(sid, fn, \u001b[38;5;241m*\u001b[39margs, \u001b[38;5;241m*\u001b[39m\u001b[38;5;241m*\u001b[39mkw) \u001b[38;5;28;01mif\u001b[39;00m e \u001b[38;5;28;01melse\u001b[39;00m \u001b[43mfn\u001b[49m\u001b[43m(\u001b[49m\u001b[38;5;241;43m*\u001b[39;49m\u001b[43margs\u001b[49m\u001b[43m,\u001b[49m\u001b[43m \u001b[49m\u001b[38;5;241;43m*\u001b[39;49m\u001b[38;5;241;43m*\u001b[39;49m\u001b[43mkw\u001b[49m\u001b[43m)\u001b[49m\n\u001b[1;32m    170\u001b[0m res\u001b[38;5;241m.\u001b[39mappend(r)\n",
      "File \u001b[0;32m~/GitHub/speedsheet/excel-2-python/venv/lib/python3.11/site-packages/formulas/functions/__init__.py:106\u001b[0m, in \u001b[0;36mnot_implemented\u001b[0;34m(*args, **kwargs)\u001b[0m\n\u001b[1;32m    105\u001b[0m \u001b[38;5;28;01mdef\u001b[39;00m \u001b[38;5;21mnot_implemented\u001b[39m(\u001b[38;5;241m*\u001b[39margs, \u001b[38;5;241m*\u001b[39m\u001b[38;5;241m*\u001b[39mkwargs):\n\u001b[0;32m--> 106\u001b[0m     \u001b[38;5;28;01mraise\u001b[39;00m \u001b[38;5;167;01mNotImplementedError\u001b[39;00m\n",
      "\u001b[0;31mNotImplementedError\u001b[0m: ",
      "\nDuring handling of the above exception, another exception occurred:\n",
      "\u001b[0;31mDispatcherError\u001b[0m                           Traceback (most recent call last)",
      "Cell \u001b[0;32mIn[11], line 10\u001b[0m\n\u001b[1;32m      8\u001b[0m \u001b[38;5;28mprint\u001b[39m(\u001b[38;5;124m\"\u001b[39m\u001b[38;5;124mFormula Ast: \u001b[39m\u001b[38;5;124m\"\u001b[39m, formula_ast)\n\u001b[1;32m      9\u001b[0m \u001b[38;5;28mprint\u001b[39m(\u001b[38;5;124m\"\u001b[39m\u001b[38;5;124mValues Length: \u001b[39m\u001b[38;5;124m\"\u001b[39m, values_length)\n\u001b[0;32m---> 10\u001b[0m values \u001b[38;5;241m=\u001b[39m \u001b[43mget_evaluated_results_from_formula_ast\u001b[49m\u001b[43m(\u001b[49m\u001b[43mformula_ast\u001b[49m\u001b[43m,\u001b[49m\u001b[43m \u001b[49m\u001b[43mseries_values_dict\u001b[49m\u001b[43m,\u001b[49m\u001b[43m \u001b[49m\u001b[43mvalues_length\u001b[49m\u001b[43m)\u001b[49m\n\u001b[1;32m     11\u001b[0m series\u001b[38;5;241m.\u001b[39mvalues \u001b[38;5;241m=\u001b[39m values\n\u001b[1;32m     12\u001b[0m series_list_new\u001b[38;5;241m.\u001b[39mappend(series)\n",
      "Cell \u001b[0;32mIn[3], line 10\u001b[0m, in \u001b[0;36mget_evaluated_results_from_formula_ast\u001b[0;34m(formula_ast, series_values_dict, values_length)\u001b[0m\n\u001b[1;32m      6\u001b[0m \u001b[38;5;28mprint\u001b[39m(\u001b[38;5;124m\"\u001b[39m\u001b[38;5;124mformula_strings: \u001b[39m\u001b[38;5;124m\"\u001b[39m, formula_strings)\n\u001b[1;32m      8\u001b[0m formula_evaluator \u001b[38;5;241m=\u001b[39m FormulaEvaluator()\n\u001b[0;32m---> 10\u001b[0m results \u001b[38;5;241m=\u001b[39m \u001b[43m[\u001b[49m\u001b[43mformula_evaluator\u001b[49m\u001b[38;5;241;43m.\u001b[39;49m\u001b[43mevaluate_formula\u001b[49m\u001b[43m(\u001b[49m\u001b[38;5;124;43mf\u001b[39;49m\u001b[38;5;124;43m\"\u001b[39;49m\u001b[38;5;124;43m=\u001b[39;49m\u001b[38;5;132;43;01m{\u001b[39;49;00m\u001b[43mformula_string\u001b[49m\u001b[38;5;132;43;01m}\u001b[39;49;00m\u001b[38;5;124;43m\"\u001b[39;49m\u001b[43m)\u001b[49m\u001b[43m \u001b[49m\u001b[38;5;28;43;01mfor\u001b[39;49;00m\u001b[43m \u001b[49m\u001b[43mformula_string\u001b[49m\u001b[43m \u001b[49m\u001b[38;5;129;43;01min\u001b[39;49;00m\u001b[43m \u001b[49m\u001b[43mformula_strings\u001b[49m\u001b[43m]\u001b[49m\n\u001b[1;32m     12\u001b[0m \u001b[38;5;28;01mreturn\u001b[39;00m results\n",
      "Cell \u001b[0;32mIn[3], line 10\u001b[0m, in \u001b[0;36m<listcomp>\u001b[0;34m(.0)\u001b[0m\n\u001b[1;32m      6\u001b[0m \u001b[38;5;28mprint\u001b[39m(\u001b[38;5;124m\"\u001b[39m\u001b[38;5;124mformula_strings: \u001b[39m\u001b[38;5;124m\"\u001b[39m, formula_strings)\n\u001b[1;32m      8\u001b[0m formula_evaluator \u001b[38;5;241m=\u001b[39m FormulaEvaluator()\n\u001b[0;32m---> 10\u001b[0m results \u001b[38;5;241m=\u001b[39m [\u001b[43mformula_evaluator\u001b[49m\u001b[38;5;241;43m.\u001b[39;49m\u001b[43mevaluate_formula\u001b[49m\u001b[43m(\u001b[49m\u001b[38;5;124;43mf\u001b[39;49m\u001b[38;5;124;43m\"\u001b[39;49m\u001b[38;5;124;43m=\u001b[39;49m\u001b[38;5;132;43;01m{\u001b[39;49;00m\u001b[43mformula_string\u001b[49m\u001b[38;5;132;43;01m}\u001b[39;49;00m\u001b[38;5;124;43m\"\u001b[39;49m\u001b[43m)\u001b[49m \u001b[38;5;28;01mfor\u001b[39;00m formula_string \u001b[38;5;129;01min\u001b[39;00m formula_strings]\n\u001b[1;32m     12\u001b[0m \u001b[38;5;28;01mreturn\u001b[39;00m results\n",
      "File \u001b[0;32m~/GitHub/speedsheet/excel-2-python/src/ast_transformation/formula_evaluator.py:16\u001b[0m, in \u001b[0;36mFormulaEvaluator.evaluate_formula\u001b[0;34m(self, formula_string)\u001b[0m\n\u001b[1;32m     14\u001b[0m \u001b[38;5;66;03m# Compile and evaluate the formula\u001b[39;00m\n\u001b[1;32m     15\u001b[0m function \u001b[38;5;241m=\u001b[39m \u001b[38;5;28mself\u001b[39m\u001b[38;5;241m.\u001b[39mformula_parser\u001b[38;5;241m.\u001b[39mast(formula_string)[\u001b[38;5;241m1\u001b[39m]\u001b[38;5;241m.\u001b[39mcompile()\n\u001b[0;32m---> 16\u001b[0m result \u001b[38;5;241m=\u001b[39m \u001b[43mfunction\u001b[49m\u001b[43m(\u001b[49m\u001b[43m)\u001b[49m\n\u001b[1;32m     18\u001b[0m \u001b[38;5;28;01mif\u001b[39;00m \u001b[38;5;28misinstance\u001b[39m(result, formulas\u001b[38;5;241m.\u001b[39mfunctions\u001b[38;5;241m.\u001b[39mArray):\n\u001b[1;32m     19\u001b[0m     \u001b[38;5;28;01mif\u001b[39;00m result\u001b[38;5;241m.\u001b[39mshape \u001b[38;5;241m==\u001b[39m ():\n",
      "File \u001b[0;32m~/GitHub/speedsheet/excel-2-python/venv/lib/python3.11/site-packages/schedula/utils/dsp.py:1524\u001b[0m, in \u001b[0;36mSubDispatchPipe.__call__\u001b[0;34m(self, _stopper, _executor, _sol_name, _verbose, *args, **kw)\u001b[0m\n\u001b[1;32m   1521\u001b[0m s \u001b[38;5;241m=\u001b[39m key_map(s)\n\u001b[1;32m   1522\u001b[0m pipe_append(x[:\u001b[38;5;241m2\u001b[39m] \u001b[38;5;241m+\u001b[39m ((v, s),))\n\u001b[0;32m-> 1524\u001b[0m \u001b[38;5;28;01mif\u001b[39;00m \u001b[38;5;129;01mnot\u001b[39;00m \u001b[43ms\u001b[49m\u001b[38;5;241;43m.\u001b[39;49m\u001b[43m_set_node_output\u001b[49m\u001b[43m(\u001b[49m\n\u001b[1;32m   1525\u001b[0m \u001b[43m        \u001b[49m\u001b[43mv\u001b[49m\u001b[43m,\u001b[49m\u001b[43m \u001b[49m\u001b[38;5;28;43;01mFalse\u001b[39;49;00m\u001b[43m,\u001b[49m\u001b[43m \u001b[49m\u001b[43mnext_nds\u001b[49m\u001b[38;5;241;43m=\u001b[39;49m\u001b[43mnxt_nds\u001b[49m\u001b[43m,\u001b[49m\u001b[43m \u001b[49m\u001b[43mstopper\u001b[49m\u001b[38;5;241;43m=\u001b[39;49m\u001b[43m_stopper\u001b[49m\u001b[43m,\u001b[49m\n\u001b[1;32m   1526\u001b[0m \u001b[43m        \u001b[49m\u001b[43mexecutor\u001b[49m\u001b[38;5;241;43m=\u001b[39;49m\u001b[43m_executor\u001b[49m\u001b[43m)\u001b[49m:\n\u001b[1;32m   1527\u001b[0m     \u001b[38;5;28mself\u001b[39m\u001b[38;5;241m.\u001b[39m_callback_pipe_failure()\n\u001b[1;32m   1528\u001b[0m     \u001b[38;5;28;01mbreak\u001b[39;00m\n",
      "File \u001b[0;32m~/GitHub/speedsheet/excel-2-python/venv/lib/python3.11/site-packages/schedula/utils/sol.py:508\u001b[0m, in \u001b[0;36mSolution._set_node_output\u001b[0;34m(self, node_id, no_call, next_nds, **kw)\u001b[0m\n\u001b[1;32m    503\u001b[0m     \u001b[38;5;28;01mreturn\u001b[39;00m \u001b[38;5;28mself\u001b[39m\u001b[38;5;241m.\u001b[39m_set_data_node_output(\n\u001b[1;32m    504\u001b[0m         node_id, node_attr, no_call, next_nds, \u001b[38;5;241m*\u001b[39m\u001b[38;5;241m*\u001b[39mkw\n\u001b[1;32m    505\u001b[0m     )\n\u001b[1;32m    507\u001b[0m \u001b[38;5;28;01melif\u001b[39;00m node_type \u001b[38;5;241m==\u001b[39m \u001b[38;5;124m'\u001b[39m\u001b[38;5;124mfunction\u001b[39m\u001b[38;5;124m'\u001b[39m:  \u001b[38;5;66;03m# Set function node.\u001b[39;00m\n\u001b[0;32m--> 508\u001b[0m     \u001b[38;5;28;01mreturn\u001b[39;00m \u001b[38;5;28;43mself\u001b[39;49m\u001b[38;5;241;43m.\u001b[39;49m\u001b[43m_set_function_node_output\u001b[49m\u001b[43m(\u001b[49m\n\u001b[1;32m    509\u001b[0m \u001b[43m        \u001b[49m\u001b[43mnode_id\u001b[49m\u001b[43m,\u001b[49m\u001b[43m \u001b[49m\u001b[43mnode_attr\u001b[49m\u001b[43m,\u001b[49m\u001b[43m \u001b[49m\u001b[43mno_call\u001b[49m\u001b[43m,\u001b[49m\u001b[43m \u001b[49m\u001b[43mnext_nds\u001b[49m\u001b[43m,\u001b[49m\u001b[43m \u001b[49m\u001b[38;5;241;43m*\u001b[39;49m\u001b[38;5;241;43m*\u001b[39;49m\u001b[43mkw\u001b[49m\n\u001b[1;32m    510\u001b[0m \u001b[43m    \u001b[49m\u001b[43m)\u001b[49m\n",
      "File \u001b[0;32m~/GitHub/speedsheet/excel-2-python/venv/lib/python3.11/site-packages/schedula/utils/sol.py:737\u001b[0m, in \u001b[0;36mSolution._set_function_node_output\u001b[0;34m(self, node_id, node_attr, no_call, next_nds, **kw)\u001b[0m\n\u001b[1;32m    735\u001b[0m \u001b[38;5;28;01mtry\u001b[39;00m:\n\u001b[1;32m    736\u001b[0m     \u001b[38;5;28mself\u001b[39m\u001b[38;5;241m.\u001b[39m_check_function_domain(args, node_attr, node_id)\n\u001b[0;32m--> 737\u001b[0m     res \u001b[38;5;241m=\u001b[39m \u001b[43masync_thread\u001b[49m\u001b[43m(\u001b[49m\u001b[38;5;28;43mself\u001b[39;49m\u001b[43m,\u001b[49m\u001b[43m \u001b[49m\u001b[43margs\u001b[49m\u001b[43m,\u001b[49m\u001b[43m \u001b[49m\u001b[43mnode_attr\u001b[49m\u001b[43m,\u001b[49m\u001b[43m \u001b[49m\u001b[43mnode_id\u001b[49m\u001b[43m,\u001b[49m\u001b[43m \u001b[49m\u001b[38;5;241;43m*\u001b[39;49m\u001b[38;5;241;43m*\u001b[39;49m\u001b[43mkw\u001b[49m\u001b[43m)\u001b[49m\n\u001b[1;32m    738\u001b[0m     \u001b[38;5;66;03m# noinspection PyUnresolvedReferences\u001b[39;00m\n\u001b[1;32m    739\u001b[0m     \u001b[38;5;28mself\u001b[39m\u001b[38;5;241m.\u001b[39mworkflow\u001b[38;5;241m.\u001b[39mnodes[node_id][\u001b[38;5;124m'\u001b[39m\u001b[38;5;124mresults\u001b[39m\u001b[38;5;124m'\u001b[39m] \u001b[38;5;241m=\u001b[39m res\n",
      "File \u001b[0;32m~/GitHub/speedsheet/excel-2-python/venv/lib/python3.11/site-packages/schedula/utils/asy/__init__.py:285\u001b[0m, in \u001b[0;36masync_thread\u001b[0;34m(sol, args, node_attr, node_id, *a, **kw)\u001b[0m\n\u001b[1;32m    283\u001b[0m executor \u001b[38;5;241m=\u001b[39m EXECUTORS\u001b[38;5;241m.\u001b[39mget_executor(exe_id)\n\u001b[1;32m    284\u001b[0m \u001b[38;5;28;01mif\u001b[39;00m \u001b[38;5;129;01mnot\u001b[39;00m executor:\n\u001b[0;32m--> 285\u001b[0m     \u001b[38;5;28;01mreturn\u001b[39;00m \u001b[43msol\u001b[49m\u001b[38;5;241;43m.\u001b[39;49m\u001b[43m_evaluate_node\u001b[49m\u001b[43m(\u001b[49m\u001b[43margs\u001b[49m\u001b[43m,\u001b[49m\u001b[43m \u001b[49m\u001b[43mnode_attr\u001b[49m\u001b[43m,\u001b[49m\u001b[43m \u001b[49m\u001b[43mnode_id\u001b[49m\u001b[43m,\u001b[49m\u001b[43m \u001b[49m\u001b[38;5;241;43m*\u001b[39;49m\u001b[43ma\u001b[49m\u001b[43m,\u001b[49m\u001b[43m \u001b[49m\u001b[38;5;241;43m*\u001b[39;49m\u001b[38;5;241;43m*\u001b[39;49m\u001b[43mkw\u001b[49m\u001b[43m)\u001b[49m\n\u001b[1;32m    287\u001b[0m futures \u001b[38;5;241m=\u001b[39m args\n\u001b[1;32m    288\u001b[0m \u001b[38;5;28;01mif\u001b[39;00m node_attr[\u001b[38;5;124m'\u001b[39m\u001b[38;5;124mtype\u001b[39m\u001b[38;5;124m'\u001b[39m] \u001b[38;5;241m==\u001b[39m \u001b[38;5;124m'\u001b[39m\u001b[38;5;124mdata\u001b[39m\u001b[38;5;124m'\u001b[39m \u001b[38;5;129;01mand\u001b[39;00m (\n\u001b[1;32m    289\u001b[0m         node_attr[\u001b[38;5;124m'\u001b[39m\u001b[38;5;124mwait_inputs\u001b[39m\u001b[38;5;124m'\u001b[39m] \u001b[38;5;129;01mor\u001b[39;00m \u001b[38;5;124m'\u001b[39m\u001b[38;5;124mfunction\u001b[39m\u001b[38;5;124m'\u001b[39m \u001b[38;5;129;01min\u001b[39;00m node_attr):\n",
      "File \u001b[0;32m~/GitHub/speedsheet/excel-2-python/venv/lib/python3.11/site-packages/schedula/utils/sol.py:566\u001b[0m, in \u001b[0;36mSolution._evaluate_node\u001b[0;34m(self, args, node_attr, node_id, skip_func, **kw)\u001b[0m\n\u001b[1;32m    564\u001b[0m \u001b[38;5;66;03m# Some error occurs.\u001b[39;00m\n\u001b[1;32m    565\u001b[0m msg \u001b[38;5;241m=\u001b[39m \u001b[38;5;124m\"\u001b[39m\u001b[38;5;124mFailed DISPATCHING \u001b[39m\u001b[38;5;124m'\u001b[39m\u001b[38;5;132;01m%s\u001b[39;00m\u001b[38;5;124m'\u001b[39m\u001b[38;5;124m due to:\u001b[39m\u001b[38;5;130;01m\\n\u001b[39;00m\u001b[38;5;124m  \u001b[39m\u001b[38;5;132;01m%r\u001b[39;00m\u001b[38;5;124m\"\u001b[39m\n\u001b[0;32m--> 566\u001b[0m \u001b[38;5;28;43mself\u001b[39;49m\u001b[38;5;241;43m.\u001b[39;49m\u001b[43m_warning\u001b[49m\u001b[43m(\u001b[49m\u001b[43mmsg\u001b[49m\u001b[43m,\u001b[49m\u001b[43m \u001b[49m\u001b[43mnode_id\u001b[49m\u001b[43m,\u001b[49m\u001b[43m \u001b[49m\u001b[43mex\u001b[49m\u001b[43m)\u001b[49m\n\u001b[1;32m    567\u001b[0m \u001b[38;5;28;01mraise\u001b[39;00m SkipNode(ex\u001b[38;5;241m=\u001b[39mex)\n",
      "File \u001b[0;32m~/GitHub/speedsheet/excel-2-python/venv/lib/python3.11/site-packages/schedula/utils/sol.py:1170\u001b[0m, in \u001b[0;36mSolution._warning\u001b[0;34m(self, msg, node_id, ex, *args, **kwargs)\u001b[0m\n\u001b[1;32m   1167\u001b[0m node_id \u001b[38;5;241m=\u001b[39m \u001b[38;5;124m'\u001b[39m\u001b[38;5;124m/\u001b[39m\u001b[38;5;124m'\u001b[39m\u001b[38;5;241m.\u001b[39mjoin(\u001b[38;5;28mself\u001b[39m\u001b[38;5;241m.\u001b[39mfull_name \u001b[38;5;241m+\u001b[39m (node_id,))\n\u001b[1;32m   1169\u001b[0m \u001b[38;5;28;01mif\u001b[39;00m raises:\n\u001b[0;32m-> 1170\u001b[0m     \u001b[38;5;28;01mraise\u001b[39;00m DispatcherError(\n\u001b[1;32m   1171\u001b[0m         msg, node_id, ex, \u001b[38;5;241m*\u001b[39margs, sol\u001b[38;5;241m=\u001b[39m\u001b[38;5;28mself\u001b[39m, ex\u001b[38;5;241m=\u001b[39mex, \u001b[38;5;241m*\u001b[39m\u001b[38;5;241m*\u001b[39mkwargs\n\u001b[1;32m   1172\u001b[0m     )\n\u001b[1;32m   1173\u001b[0m \u001b[38;5;28;01melif\u001b[39;00m raises \u001b[38;5;241m!=\u001b[39m \u001b[38;5;124m'\u001b[39m\u001b[38;5;124m'\u001b[39m:\n\u001b[1;32m   1174\u001b[0m     kwargs[\u001b[38;5;124m'\u001b[39m\u001b[38;5;124mexc_info\u001b[39m\u001b[38;5;124m'\u001b[39m] \u001b[38;5;241m=\u001b[39m kwargs\u001b[38;5;241m.\u001b[39mget(\u001b[38;5;124m'\u001b[39m\u001b[38;5;124mexc_info\u001b[39m\u001b[38;5;124m'\u001b[39m, \u001b[38;5;241m1\u001b[39m)\n",
      "\u001b[0;31mDispatcherError\u001b[0m: (\"Failed DISPATCHING '%s' due to:\\n  %r\", 'COUNTIFS', NotImplementedError())"
     ]
    }
   ],
   "source": [
    "for series_id in sorted_dag:\n",
    "    formula_ast = generic_formula_dictionary.get(series_id)\n",
    "    \n",
    "    if formula_ast:    \n",
    "        series = SeriesMapper.get_series_from_series_id(series_id, series_dict)\n",
    "        values_length = len(series.values)\n",
    "        print(f\"Series ID: {series_id}\")\n",
    "        print(\"Formula Ast: \", formula_ast)\n",
    "        print(\"Values Length: \", values_length)\n",
    "        values = get_evaluated_results_from_formula_ast(formula_ast, series_values_dict, values_length)\n",
    "        series.values = values\n",
    "        series_list_new.append(series)"
   ]
  },
  {
   "cell_type": "code",
   "execution_count": null,
   "metadata": {},
   "outputs": [],
   "source": [
    "series_list_updated = series_list_new + series_list_with_values"
   ]
  },
  {
   "cell_type": "code",
   "execution_count": null,
   "metadata": {},
   "outputs": [],
   "source": [
    "ExcelBuilder.create_excel_from_series(series_list_updated, excel_reduced_clean_series_python_filepath, values_only=True)"
   ]
  },
  {
   "cell_type": "code",
   "execution_count": null,
   "metadata": {},
   "outputs": [
    {
     "data": {
      "text/plain": [
       "True"
      ]
     },
     "execution_count": 16,
     "metadata": {},
     "output_type": "execute_result"
    }
   ],
   "source": [
    "ExcelChecker.excels_are_equivalent(excel_reduced_clean_series_python_filepath, excel_reduced_clean_filepath)"
   ]
  },
  {
   "cell_type": "code",
   "execution_count": null,
   "metadata": {},
   "outputs": [],
   "source": [
    "formula_evaluator = FormulaEvaluator()\n",
    "result  = formula_evaluator.evaluate_formula('COUNTIF(ARRAY(ARRAYROW(0, 1)), \">1\")')"
   ]
  },
  {
   "cell_type": "code",
   "execution_count": null,
   "metadata": {},
   "outputs": [],
   "source": []
  }
 ],
 "metadata": {
  "kernelspec": {
   "display_name": "venv",
   "language": "python",
   "name": "python3"
  },
  "language_info": {
   "codemirror_mode": {
    "name": "ipython",
    "version": 3
   },
   "file_extension": ".py",
   "mimetype": "text/x-python",
   "name": "python",
   "nbconvert_exporter": "python",
   "pygments_lexer": "ipython3",
   "version": "3.11.5"
  }
 },
 "nbformat": 4,
 "nbformat_minor": 2
}
