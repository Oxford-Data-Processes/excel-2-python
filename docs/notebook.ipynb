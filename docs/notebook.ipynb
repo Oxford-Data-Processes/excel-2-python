{
 "cells": [
  {
   "cell_type": "code",
   "execution_count": 3,
   "metadata": {},
   "outputs": [
    {
     "name": "stdout",
     "output_type": "stream",
     "text": [
      "Processing section: series_extraction\n",
      "{'ExcelCleaner.clean_excel': ['TableFinder.find_tables',\n",
      "                              'SeriesExtractor.extract_series'],\n",
      " 'ExcelCompatibilityChecker.check_file': ['SeriesExtractor.extract_series'],\n",
      " 'ExcelLoader.load_file': ['ExcelCompatibilityChecker.check_file',\n",
      "                           'ExcelValidator.validate_excel',\n",
      "                           'ExcelCleaner.clean_excel'],\n",
      " 'ExcelValidator.validate_excel': ['ExcelCleaner.clean_excel'],\n",
      " 'SeriesExtractor.extract_series': ['SeriesIterator.iterate_series'],\n",
      " 'TableFinder.find_tables': ['SeriesExtractor.extract_series']}\n",
      "\n",
      "\n",
      "Processing section: ast_building\n",
      "{'FormulaParser.parse_formula': ['SeriesImplementer.implement_series',\n",
      "                                 'SeriesImplementer.implement_series']}\n",
      "\n",
      "\n",
      "Processing section: ast_transformation\n",
      "{'FormulaGenerator.get_ast_generator': ['FunctionReplacer.replace_functions'],\n",
      " 'FunctionReplacer.replace_functions': ['ASTGeneratorCollector.get_collection']}\n",
      "\n",
      "\n",
      "Processing section: pipeline_building\n",
      "{'DAGSorter.sort_dag': ['PipelineBuilder.build_pipeline'],\n",
      " 'SeriesDependenciesBuilder.build_dependencies': ['DAGSorter.sort_dag']}\n",
      "\n",
      "\n"
     ]
    }
   ],
   "source": [
    "import yaml\n",
    "from pprint import pprint\n",
    "from collections import defaultdict\n",
    "\n",
    "# Define the path to your YAML file\n",
    "yaml_file_path = 'pipeline_flow.yml'\n",
    "\n",
    "# Function to extract DAG from a section of the pipeline\n",
    "def extract_dag_for_section(section_data):\n",
    "    dag = defaultdict(list)  # Adjacency list representation of the DAG\n",
    "    \n",
    "    # Maps outputs to step names to identify dependencies\n",
    "    output_to_step = {}\n",
    "    \n",
    "    for step in section_data:\n",
    "        step_name = step.get('step')\n",
    "        inputs = step.get('inputs', [])\n",
    "        outputs = step.get('outputs', [])\n",
    "        \n",
    "        # Assume dependencies based on matching inputs to previously mapped outputs\n",
    "        for input_item in inputs:\n",
    "            for input_key, input_value in input_item.items():\n",
    "                if input_key in output_to_step:\n",
    "                    # Add dependency from output provider to current step\n",
    "                    dag[output_to_step[input_key]].append(step_name)\n",
    "        \n",
    "        # Map current step's outputs for future dependency checks\n",
    "        for output_item in outputs:\n",
    "            for output_key, output_value in output_item.items():\n",
    "                output_to_step[output_key] = step_name\n",
    "                \n",
    "    return dag\n",
    "\n",
    "# Open the YAML file and load its contents\n",
    "with open(yaml_file_path, 'r') as file:\n",
    "    config = yaml.safe_load(file)\n",
    "\n",
    "# Assuming the config has top-level keys corresponding to sections\n",
    "for section_name, section_data in config.items():\n",
    "    print(f\"Processing section: {section_name}\")\n",
    "    dag = extract_dag_for_section(section_data)\n",
    "    pprint(dict(dag))\n",
    "    print(\"\\n\")\n"
   ]
  },
  {
   "cell_type": "code",
   "execution_count": null,
   "metadata": {},
   "outputs": [],
   "source": []
  }
 ],
 "metadata": {
  "kernelspec": {
   "display_name": "venv",
   "language": "python",
   "name": "python3"
  },
  "language_info": {
   "codemirror_mode": {
    "name": "ipython",
    "version": 3
   },
   "file_extension": ".py",
   "mimetype": "text/x-python",
   "name": "python",
   "nbconvert_exporter": "python",
   "pygments_lexer": "ipython3",
   "version": "3.11.5"
  }
 },
 "nbformat": 4,
 "nbformat_minor": 2
}
