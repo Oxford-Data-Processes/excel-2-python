{
 "cells": [
  {
   "cell_type": "code",
   "execution_count": 1,
   "metadata": {},
   "outputs": [],
   "source": [
    "import os\n",
    "\n",
    "from series_extraction.excel_loader import ExcelLoader\n",
    "from series_extraction.excel_cleaner import ExcelCleaner\n",
    "from series_extraction.table_finder import TableFinder\n",
    "from series_extraction.series_extractor import SeriesExtractor\n",
    "from series_extraction.excel_compatibility_checker import ExcelCompatibilityChecker\n",
    "from series_extraction.series_iterator import SeriesIterator\n",
    "from series_extraction.series_mapper import SeriesMapper\n",
    "from series_extraction.excel_validator import ExcelValidator\n",
    "\n",
    "from ast_transformation.series_formula_generator import SeriesFormulaGenerator\n",
    "from ast_transformation.formula_generator import SeriesIdLoader\n",
    "\n",
    "from ast_building.formula_parser import FormulaParser\n",
    "from ast_building.series_implementer import SeriesImplementer\n",
    "\n",
    "from pipeline_building.series_dependencies_builder import SeriesDependenciesBuilder\n",
    "from pipeline_building.dag_sorter import DAGSorter\n",
    "\n",
    "from excel_builder import ExcelBuilder\n",
    "\n",
    "from excel_checker import ExcelChecker\n"
   ]
  },
  {
   "cell_type": "code",
   "execution_count": 2,
   "metadata": {},
   "outputs": [],
   "source": [
    "current_directory = os.getcwd()\n",
    "\n",
    "parent_directory = os.path.abspath(os.path.join(current_directory, os.pardir))\n",
    "data_directory = os.path.join(parent_directory, 'data')\n",
    "\n",
    "project_name = 'test_excel_2'\n",
    "\n",
    "excel_raw_file_path = os.path.join(data_directory, \"excel_files_raw\", f\"{project_name}_raw.xlsx\")\n",
    "excel_reduced_filepath = os.path.join(data_directory, \"excel_files_reduced\", f\"{project_name}_reduced.xlsx\")\n",
    "excel_reduced_clean_filepath = os.path.join(data_directory, \"excel_files_reduced_clean\", f\"{project_name}_reduced_clean.xlsx\")\n",
    "excel_reduced_clean_series_filepath = os.path.join(data_directory, \"excel_files_reduced_clean_series\", f\"{project_name}_reduced_clean_series.xlsx\")"
   ]
  },
  {
   "cell_type": "code",
   "execution_count": 3,
   "metadata": {},
   "outputs": [
    {
     "data": {
      "text/plain": [
       "True"
      ]
     },
     "execution_count": 3,
     "metadata": {},
     "output_type": "execute_result"
    }
   ],
   "source": [
    "excel_raw= ExcelLoader.load_file(excel_raw_file_path)\n",
    "excel_reduced = ExcelLoader.load_file(excel_reduced_filepath)\n",
    "is_valid = ExcelValidator.validate_excel(excel_reduced)\n",
    "if not is_valid:\n",
    "    raise Exception(\"Excel file is not valid\")\n",
    "\n",
    "excel_reduced_clean = ExcelCleaner.clean_excel(excel_reduced)\n",
    "ExcelBuilder.create_excel_from_workbook(excel_reduced_clean.workbook_with_formulas, excel_reduced_clean_filepath)\n",
    "\n",
    "extracted_tables, data = TableFinder.find_tables(excel_reduced_clean)\n",
    "is_compatible = ExcelCompatibilityChecker.check_file(excel_raw, excel_reduced, extracted_tables)\n",
    "if not is_compatible:\n",
    "    print(extracted_tables)\n",
    "    raise Exception(\"Excel file is not compatible\")\n",
    "\n",
    "series_dict = SeriesExtractor.extract_series(extracted_tables=extracted_tables, data=data)\n",
    "series_mapping = SeriesMapper.map_series(series_dict)\n",
    "series_iterator = SeriesIterator.iterate_series(series_dict)\n",
    "\n",
    "series_list = [series for series in series_iterator]\n",
    "\n",
    "series_list_with_formulas = [\n",
    "    series for series in series_list if series.formulas != [None, None]\n",
    "]\n",
    "series_list_with_values = [\n",
    "    series for series in series_list if series.formulas == [None, None]\n",
    "]\n",
    "\n",
    "series_list_new = []\n",
    "formula_1_ast_series_list = []\n",
    "\n",
    "for series in series_list_with_formulas:\n",
    "    formula_1, formula_2 = SeriesFormulaGenerator.adjust_formulas(\n",
    "        series.formulas\n",
    "    )\n",
    "    if formula_1 is not None and formula_2 is not None:\n",
    "\n",
    "        series_implementer = SeriesImplementer(\n",
    "            series_mapping, sheet_name=series.worksheet.sheet_name\n",
    "        )\n",
    "\n",
    "        formula_1_ast = FormulaParser.parse_formula(formula_1)\n",
    "        formula_1_ast_series = series_implementer.update_ast(formula_1_ast)\n",
    "        formula_1_ast_series_list.append((series.series_id, formula_1_ast_series))\n",
    "\n",
    "        formula_2_ast = FormulaParser.parse_formula(formula_2)\n",
    "        formula_2_ast_series = series_implementer.update_ast(formula_2_ast)\n",
    "\n",
    "        SeriesFormulaGenerator.process_series_formulas(\n",
    "            series,\n",
    "            formula_1_ast_series,\n",
    "            formula_2_ast_series,\n",
    "            series_mapping,\n",
    "            series_dict,\n",
    "            series_list_new,\n",
    "        )\n",
    "\n",
    "series_list_updated = series_list_new + series_list_with_values\n",
    "\n",
    "ExcelBuilder.create_excel_from_series(series_list_updated, excel_reduced_clean_series_filepath)\n",
    "ExcelChecker.excels_are_equivalent(excel_reduced_clean_filepath, excel_reduced_clean_series_filepath)"
   ]
  },
  {
   "cell_type": "code",
   "execution_count": 4,
   "metadata": {},
   "outputs": [],
   "source": [
    "series_dependencies = SeriesDependenciesBuilder.build_dependencies(formula_1_ast_series_list)\n",
    "sorted_dag = DAGSorter.sort_dag(series_dependencies)"
   ]
  },
  {
   "cell_type": "code",
   "execution_count": 5,
   "metadata": {},
   "outputs": [],
   "source": [
    "import xlcalculator\n",
    "\n",
    "def get_function_node(ast):\n",
    "    \"\"\"Recursively search for the first FunctionNode in the AST.\"\"\"\n",
    "    if isinstance(ast, xlcalculator.ast_nodes.FunctionNode):\n",
    "        return ast  # Return the function node immediately when found\n",
    "    else:\n",
    "        return process_node(ast)  # Handle other node types and capture return\n",
    "\n",
    "def process_node(node):\n",
    "    \"\"\"Recursively process each node based on its type.\"\"\"\n",
    "    if isinstance(node, xlcalculator.ast_nodes.RangeNode):\n",
    "        pass  # No action needed for RangeNode in this context\n",
    "    elif isinstance(node, xlcalculator.ast_nodes.FunctionNode):\n",
    "        return get_function_node(node)  # Directly return any found FunctionNode\n",
    "    elif isinstance(node, xlcalculator.ast_nodes.OperatorNode):\n",
    "        return handle_operator_node(node)  # Capture return from operator node handling\n",
    "\n",
    "def handle_function_node(node):\n",
    "    \"\"\"Process a FunctionNode by iterating over its arguments.\"\"\"\n",
    "    for arg in node.args:\n",
    "        result = get_function_node(arg)  # Look for FunctionNodes within the arguments\n",
    "        if result:\n",
    "            return result  # Return the first found FunctionNode up the call stack\n",
    "\n",
    "def handle_operator_node(node):\n",
    "    \"\"\"Process an OperatorNode by processing its left and right children.\"\"\"\n",
    "    if node.left:\n",
    "        result = get_function_node(node.left)\n",
    "        if result:\n",
    "            return result  # Return the first found FunctionNode up the call stack\n",
    "    if node.right:\n",
    "        result = get_function_node(node.right)\n",
    "        if result:\n",
    "            return result  # Return the first found FunctionNode up the call stack\n",
    "\n",
    "function_node = get_function_node(formula_1_ast_series_list[1][1])\n"
   ]
  },
  {
   "cell_type": "code",
   "execution_count": 6,
   "metadata": {},
   "outputs": [
    {
     "name": "stdout",
     "output_type": "stream",
     "text": [
      "- (SUMIF((('parking|Vehicle Reg|1|1',), (None, None)), (('summary|Vehicle Reg|1|3',), (0, 0)), (('parking|TGB parking cost|1|3',), (None, None))))\n"
     ]
    }
   ],
   "source": [
    "print(formula_1_ast_series_list[1][1])"
   ]
  },
  {
   "cell_type": "code",
   "execution_count": 7,
   "metadata": {},
   "outputs": [
    {
     "data": {
      "text/plain": [
       "'SUMIF'"
      ]
     },
     "execution_count": 7,
     "metadata": {},
     "output_type": "execute_result"
    }
   ],
   "source": [
    "function_node.tvalue"
   ]
  },
  {
   "cell_type": "code",
   "execution_count": 16,
   "metadata": {},
   "outputs": [],
   "source": [
    "def get_dataframe_from_series_id_string_list(series_id_string_list):\n",
    "    for series_id_string in series_id_string_list:\n",
    "        series_id = SeriesIdLoader.load_series_id_from_string(series_id_string)\n",
    "        sheet_name = series_id.sheet_name\n",
    "        for series in series_dict[sheet_name]:\n",
    "            if series.series_id == series_id:\n",
    "                print(series)\n",
    "        "
   ]
  },
  {
   "cell_type": "code",
   "execution_count": 17,
   "metadata": {},
   "outputs": [
    {
     "data": {
      "text/plain": [
       "{'summary': [Series(series_id=SeriesId(sheet_name='summary', series_header='Vehicle Reg', series_header_cell_row=1, series_header_cell_column=3), worksheet=Worksheet(sheet_name='summary', workbook_file_path=None, worksheet=None), series_header='Vehicle Reg', formulas=['=summary!A2', '=summary!A3'], values=['FG20VLN', 'FH19VRE'], header_location=<HeaderLocation.TOP: 'top'>, series_starting_cell=Cell(column=3, row=2, coordinate='C2', sheet_name=None, value=None, value_type=None), series_length=2, series_data_type=<SeriesDataType.STR: 'str'>),\n",
       "  Series(series_id=SeriesId(sheet_name='summary', series_header='TGB Cost (No VAT) ', series_header_cell_row=1, series_header_cell_column=4), worksheet=Worksheet(sheet_name='summary', workbook_file_path=None, worksheet=None), series_header='TGB Cost (No VAT) ', formulas=['=- (SUMIF(parking!A:A, summary!C2, parking!C:C))', '=- (SUMIF(parking!A:A, summary!C3, parking!C:C))'], values=[0, 0], header_location=<HeaderLocation.TOP: 'top'>, series_starting_cell=Cell(column=4, row=2, coordinate='D2', sheet_name=None, value=None, value_type=None), series_length=2, series_data_type=<SeriesDataType.INT: 'int'>),\n",
       "  Series(series_id=SeriesId(sheet_name='summary', series_header='Vehicle Reg ', series_header_cell_row=1, series_header_cell_column=1), worksheet=Worksheet(sheet_name='summary', workbook_file_path=None, worksheet=None), series_header='Vehicle Reg ', formulas=[None, None], values=['FG20VLN', 'FH19VRE'], header_location=<HeaderLocation.TOP: 'top'>, series_starting_cell=Cell(column=1, row=2, coordinate='A2', sheet_name=None, value=None, value_type=None), series_length=2, series_data_type=<SeriesDataType.STR: 'str'>),\n",
       "  Series(series_id=SeriesId(sheet_name='summary', series_header='Vehicle Reg', series_header_cell_row=1, series_header_cell_column=6), worksheet=Worksheet(sheet_name='summary', workbook_file_path=None, worksheet=None), series_header='Vehicle Reg', formulas=['=summary!A2', '=summary!A3'], values=['FG20VLN', 'FH19VRE'], header_location=<HeaderLocation.TOP: 'top'>, series_starting_cell=Cell(column=6, row=2, coordinate='F2', sheet_name=None, value=None, value_type=None), series_length=2, series_data_type=<SeriesDataType.STR: 'str'>),\n",
       "  Series(series_id=SeriesId(sheet_name='summary', series_header='VAT', series_header_cell_row=1, series_header_cell_column=7), worksheet=Worksheet(sheet_name='summary', workbook_file_path=None, worksheet=None), series_header='VAT', formulas=['=(summary!H2) - ((summary!H2) / (1.2))', '=(summary!H3) - ((summary!H3) / (1.2))'], values=[0, 0], header_location=<HeaderLocation.TOP: 'top'>, series_starting_cell=Cell(column=7, row=2, coordinate='G2', sheet_name=None, value=None, value_type=None), series_length=2, series_data_type=<SeriesDataType.INT: 'int'>),\n",
       "  Series(series_id=SeriesId(sheet_name='summary', series_header='TGB Cost (Inc VAT) ', series_header_cell_row=1, series_header_cell_column=8), worksheet=Worksheet(sheet_name='summary', workbook_file_path=None, worksheet=None), series_header='TGB Cost (Inc VAT) ', formulas=['=- (SUMIF(cleaning!A:A, summary!F2, cleaning!F:F))', '=- (SUMIF(cleaning!A:A, summary!F3, cleaning!F:F))'], values=[0, 0], header_location=<HeaderLocation.TOP: 'top'>, series_starting_cell=Cell(column=8, row=2, coordinate='H2', sheet_name=None, value=None, value_type=None), series_length=2, series_data_type=<SeriesDataType.INT: 'int'>),\n",
       "  Series(series_id=SeriesId(sheet_name='summary', series_header='Vehicle Reg', series_header_cell_row=1, series_header_cell_column=10), worksheet=Worksheet(sheet_name='summary', workbook_file_path=None, worksheet=None), series_header='Vehicle Reg', formulas=[None, None], values=['FG20VLN', 'FH19VRE'], header_location=<HeaderLocation.TOP: 'top'>, series_starting_cell=Cell(column=10, row=2, coordinate='J2', sheet_name=None, value=None, value_type=None), series_length=2, series_data_type=<SeriesDataType.STR: 'str'>),\n",
       "  Series(series_id=SeriesId(sheet_name='summary', series_header='Days offline', series_header_cell_row=1, series_header_cell_column=11), worksheet=Worksheet(sheet_name='summary', workbook_file_path=None, worksheet=None), series_header='Days offline', formulas=[None, None], values=[0, 2], header_location=<HeaderLocation.TOP: 'top'>, series_starting_cell=Cell(column=11, row=2, coordinate='K2', sheet_name=None, value=None, value_type=None), series_length=2, series_data_type=<SeriesDataType.INT: 'int'>)],\n",
       " 'xero': [Series(series_id=SeriesId(sheet_name='xero', series_header='Date', series_header_cell_row=1, series_header_cell_column=1), worksheet=Worksheet(sheet_name='xero', workbook_file_path=None, worksheet=None), series_header='Date', formulas=[None, None], values=[44681, 44681], header_location=<HeaderLocation.TOP: 'top'>, series_starting_cell=Cell(column=1, row=2, coordinate='A2', sheet_name=None, value=None, value_type=None), series_length=2, series_data_type=<SeriesDataType.INT: 'int'>),\n",
       "  Series(series_id=SeriesId(sheet_name='xero', series_header='Description', series_header_cell_row=1, series_header_cell_column=2), worksheet=Worksheet(sheet_name='xero', workbook_file_path=None, worksheet=None), series_header='Description', formulas=['=CONCATENATE(summary!A2, \" Parking Recharge\")', '=CONCATENATE(summary!A3, \" Parking Recharge\")'], values=['FG20VLN Parking Recharge', 'FH19VRE Parking Recharge'], header_location=<HeaderLocation.TOP: 'top'>, series_starting_cell=Cell(column=2, row=2, coordinate='B2', sheet_name=None, value=None, value_type=None), series_length=2, series_data_type=<SeriesDataType.STR: 'str'>),\n",
       "  Series(series_id=SeriesId(sheet_name='xero', series_header='Quantity', series_header_cell_row=1, series_header_cell_column=3), worksheet=Worksheet(sheet_name='xero', workbook_file_path=None, worksheet=None), series_header='Quantity', formulas=[None, None], values=[1, 1], header_location=<HeaderLocation.TOP: 'top'>, series_starting_cell=Cell(column=3, row=2, coordinate='C2', sheet_name=None, value=None, value_type=None), series_length=2, series_data_type=<SeriesDataType.INT: 'int'>),\n",
       "  Series(series_id=SeriesId(sheet_name='xero', series_header='UnitAmount', series_header_cell_row=1, series_header_cell_column=4), worksheet=Worksheet(sheet_name='xero', workbook_file_path=None, worksheet=None), series_header='UnitAmount', formulas=['=- (ROUND((summary!D2) * (1.2), 2))', '=- (ROUND((summary!D3) * (1.2), 2))'], values=[0, 0], header_location=<HeaderLocation.TOP: 'top'>, series_starting_cell=Cell(column=4, row=2, coordinate='D2', sheet_name=None, value=None, value_type=None), series_length=2, series_data_type=<SeriesDataType.INT: 'int'>),\n",
       "  Series(series_id=SeriesId(sheet_name='xero', series_header='TaxAmount', series_header_cell_row=1, series_header_cell_column=5), worksheet=Worksheet(sheet_name='xero', workbook_file_path=None, worksheet=None), series_header='TaxAmount', formulas=['=ROUND((xero!D2) / (6), 2)', '=ROUND((xero!D3) / (6), 2)'], values=[0, 0], header_location=<HeaderLocation.TOP: 'top'>, series_starting_cell=Cell(column=5, row=2, coordinate='E2', sheet_name=None, value=None, value_type=None), series_length=2, series_data_type=<SeriesDataType.INT: 'int'>),\n",
       "  Series(series_id=SeriesId(sheet_name='xero', series_header='AccountCode', series_header_cell_row=1, series_header_cell_column=6), worksheet=Worksheet(sheet_name='xero', workbook_file_path=None, worksheet=None), series_header='AccountCode', formulas=[None, None], values=[4010, 4010], header_location=<HeaderLocation.TOP: 'top'>, series_starting_cell=Cell(column=6, row=2, coordinate='F2', sheet_name=None, value=None, value_type=None), series_length=2, series_data_type=<SeriesDataType.INT: 'int'>),\n",
       "  Series(series_id=SeriesId(sheet_name='xero', series_header='Invoice', series_header_cell_row=1, series_header_cell_column=7), worksheet=Worksheet(sheet_name='xero', workbook_file_path=None, worksheet=None), series_header='Invoice', formulas=['=(xero!D2) > (0)', '=(xero!D3) > (0)'], values=[False, False], header_location=<HeaderLocation.TOP: 'top'>, series_starting_cell=Cell(column=7, row=2, coordinate='G2', sheet_name=None, value=None, value_type=None), series_length=2, series_data_type=<SeriesDataType.BOOL: 'bool'>),\n",
       "  Series(series_id=SeriesId(sheet_name='xero', series_header='MRG', series_header_cell_row=1, series_header_cell_column=8), worksheet=Worksheet(sheet_name='xero', workbook_file_path=None, worksheet=None), series_header='MRG', formulas=[None, None], values=[False, False], header_location=<HeaderLocation.TOP: 'top'>, series_starting_cell=Cell(column=8, row=2, coordinate='H2', sheet_name=None, value=None, value_type=None), series_length=2, series_data_type=<SeriesDataType.BOOL: 'bool'>)],\n",
       " 'bookings': [Series(series_id=SeriesId(sheet_name='bookings', series_header='ID', series_header_cell_row=1, series_header_cell_column=1), worksheet=Worksheet(sheet_name='bookings', workbook_file_path=None, worksheet=None), series_header='ID', formulas=[None, None], values=[1, 2], header_location=<HeaderLocation.TOP: 'top'>, series_starting_cell=Cell(column=1, row=2, coordinate='A2', sheet_name=None, value=None, value_type=None), series_length=2, series_data_type=<SeriesDataType.INT: 'int'>),\n",
       "  Series(series_id=SeriesId(sheet_name='bookings', series_header='Vehicle ID', series_header_cell_row=1, series_header_cell_column=2), worksheet=Worksheet(sheet_name='bookings', workbook_file_path=None, worksheet=None), series_header='Vehicle ID', formulas=[None, None], values=[14545, 14544], header_location=<HeaderLocation.TOP: 'top'>, series_starting_cell=Cell(column=2, row=2, coordinate='B2', sheet_name=None, value=None, value_type=None), series_length=2, series_data_type=<SeriesDataType.INT: 'int'>),\n",
       "  Series(series_id=SeriesId(sheet_name='bookings', series_header='Booking Reference', series_header_cell_row=1, series_header_cell_column=3), worksheet=Worksheet(sheet_name='bookings', workbook_file_path=None, worksheet=None), series_header='Booking Reference', formulas=[None, None], values=['FX59-QP36-MT73', 'HZ93-YU64-KR64'], header_location=<HeaderLocation.TOP: 'top'>, series_starting_cell=Cell(column=3, row=2, coordinate='C2', sheet_name=None, value=None, value_type=None), series_length=2, series_data_type=<SeriesDataType.STR: 'str'>),\n",
       "  Series(series_id=SeriesId(sheet_name='bookings', series_header='Vrm', series_header_cell_row=1, series_header_cell_column=4), worksheet=Worksheet(sheet_name='bookings', workbook_file_path=None, worksheet=None), series_header='Vrm', formulas=[None, None], values=['WV69OLC', 'WV69OLN'], header_location=<HeaderLocation.TOP: 'top'>, series_starting_cell=Cell(column=4, row=2, coordinate='D2', sheet_name=None, value=None, value_type=None), series_length=2, series_data_type=<SeriesDataType.STR: 'str'>),\n",
       "  Series(series_id=SeriesId(sheet_name='bookings', series_header='Nhs Discount', series_header_cell_row=1, series_header_cell_column=5), worksheet=Worksheet(sheet_name='bookings', workbook_file_path=None, worksheet=None), series_header='Nhs Discount', formulas=[None, None], values=[0, 0], header_location=<HeaderLocation.TOP: 'top'>, series_starting_cell=Cell(column=5, row=2, coordinate='E2', sheet_name=None, value=None, value_type=None), series_length=2, series_data_type=<SeriesDataType.INT: 'int'>),\n",
       "  Series(series_id=SeriesId(sheet_name='bookings', series_header='TGB earnings', series_header_cell_row=1, series_header_cell_column=6), worksheet=Worksheet(sheet_name='bookings', workbook_file_path=None, worksheet=None), series_header='TGB earnings', formulas=[None, None], values=[254.1, 231], header_location=<HeaderLocation.TOP: 'top'>, series_starting_cell=Cell(column=6, row=2, coordinate='F2', sheet_name=None, value=None, value_type=None), series_length=2, series_data_type=<SeriesDataType.FLOAT: 'float'>)],\n",
       " 'parking': [Series(series_id=SeriesId(sheet_name='parking', series_header='Vehicle Reg', series_header_cell_row=1, series_header_cell_column=1), worksheet=Worksheet(sheet_name='parking', workbook_file_path=None, worksheet=None), series_header='Vehicle Reg', formulas=[None, None], values=['FG20UGP', 'WV69OLC'], header_location=<HeaderLocation.TOP: 'top'>, series_starting_cell=Cell(column=1, row=2, coordinate='A2', sheet_name=None, value=None, value_type=None), series_length=2, series_data_type=<SeriesDataType.STR: 'str'>),\n",
       "  Series(series_id=SeriesId(sheet_name='parking', series_header='Total Parking Cost per month', series_header_cell_row=1, series_header_cell_column=2), worksheet=Worksheet(sheet_name='parking', workbook_file_path=None, worksheet=None), series_header='Total Parking Cost per month', formulas=[None, None], values=[148, 23], header_location=<HeaderLocation.TOP: 'top'>, series_starting_cell=Cell(column=2, row=2, coordinate='B2', sheet_name=None, value=None, value_type=None), series_length=2, series_data_type=<SeriesDataType.INT: 'int'>),\n",
       "  Series(series_id=SeriesId(sheet_name='parking', series_header='TGB parking cost', series_header_cell_row=1, series_header_cell_column=3), worksheet=Worksheet(sheet_name='parking', workbook_file_path=None, worksheet=None), series_header='TGB parking cost', formulas=['=(parking!B2) / (2)', '=(parking!B3) / (2)'], values=[74, 11.5], header_location=<HeaderLocation.TOP: 'top'>, series_starting_cell=Cell(column=3, row=2, coordinate='C2', sheet_name=None, value=None, value_type=None), series_length=2, series_data_type=<SeriesDataType.INT: 'int'>)],\n",
       " 'cleaning': [Series(series_id=SeriesId(sheet_name='cleaning', series_header='VRM', series_header_cell_row=1, series_header_cell_column=1), worksheet=Worksheet(sheet_name='cleaning', workbook_file_path=None, worksheet=None), series_header='VRM', formulas=[None, None], values=['FG20VLU', 'FG20VLK'], header_location=<HeaderLocation.TOP: 'top'>, series_starting_cell=Cell(column=1, row=2, coordinate='A2', sheet_name=None, value=None, value_type=None), series_length=2, series_data_type=<SeriesDataType.STR: 'str'>),\n",
       "  Series(series_id=SeriesId(sheet_name='cleaning', series_header='TGB Liability', series_header_cell_row=1, series_header_cell_column=2), worksheet=Worksheet(sheet_name='cleaning', workbook_file_path=None, worksheet=None), series_header='TGB Liability', formulas=[None, None], values=[0.5, 0.5], header_location=<HeaderLocation.TOP: 'top'>, series_starting_cell=Cell(column=2, row=2, coordinate='B2', sheet_name=None, value=None, value_type=None), series_length=2, series_data_type=<SeriesDataType.FLOAT: 'float'>),\n",
       "  Series(series_id=SeriesId(sheet_name='cleaning', series_header='Description ', series_header_cell_row=1, series_header_cell_column=3), worksheet=Worksheet(sheet_name='cleaning', workbook_file_path=None, worksheet=None), series_header='Description ', formulas=[None, None], values=['Inside & Out + Checks', 'Inside & Out + Checks'], header_location=<HeaderLocation.TOP: 'top'>, series_starting_cell=Cell(column=3, row=2, coordinate='C2', sheet_name=None, value=None, value_type=None), series_length=2, series_data_type=<SeriesDataType.STR: 'str'>),\n",
       "  Series(series_id=SeriesId(sheet_name='cleaning', series_header='Total Cost (Ex VAT)', series_header_cell_row=1, series_header_cell_column=4), worksheet=Worksheet(sheet_name='cleaning', workbook_file_path=None, worksheet=None), series_header='Total Cost (Ex VAT)', formulas=[None, None], values=[29, 29], header_location=<HeaderLocation.TOP: 'top'>, series_starting_cell=Cell(column=4, row=2, coordinate='D2', sheet_name=None, value=None, value_type=None), series_length=2, series_data_type=<SeriesDataType.INT: 'int'>),\n",
       "  Series(series_id=SeriesId(sheet_name='cleaning', series_header='Total Cost (inc VAT)', series_header_cell_row=1, series_header_cell_column=5), worksheet=Worksheet(sheet_name='cleaning', workbook_file_path=None, worksheet=None), series_header='Total Cost (inc VAT)', formulas=['=(cleaning!D2) * (1.2)', '=(cleaning!D3) * (1.2)'], values=[34.8, 34.8], header_location=<HeaderLocation.TOP: 'top'>, series_starting_cell=Cell(column=5, row=2, coordinate='E2', sheet_name=None, value=None, value_type=None), series_length=2, series_data_type=<SeriesDataType.FLOAT: 'float'>),\n",
       "  Series(series_id=SeriesId(sheet_name='cleaning', series_header='TGB Cost (Inc VAT)', series_header_cell_row=1, series_header_cell_column=6), worksheet=Worksheet(sheet_name='cleaning', workbook_file_path=None, worksheet=None), series_header='TGB Cost (Inc VAT)', formulas=['=(cleaning!E2) * (cleaning!B2)', '=(cleaning!E3) * (cleaning!B3)'], values=[17.4, 17.4], header_location=<HeaderLocation.TOP: 'top'>, series_starting_cell=Cell(column=6, row=2, coordinate='F2', sheet_name=None, value=None, value_type=None), series_length=2, series_data_type=<SeriesDataType.FLOAT: 'float'>)]}"
      ]
     },
     "execution_count": 17,
     "metadata": {},
     "output_type": "execute_result"
    }
   ],
   "source": [
    "series_dict"
   ]
  },
  {
   "cell_type": "code",
   "execution_count": 18,
   "metadata": {},
   "outputs": [
    {
     "name": "stdout",
     "output_type": "stream",
     "text": [
      "Series(series_id=SeriesId(sheet_name='parking', series_header='Vehicle Reg', series_header_cell_row=1, series_header_cell_column=1), worksheet=Worksheet(sheet_name='parking', workbook_file_path=None, worksheet=None), series_header='Vehicle Reg', formulas=[None, None], values=['FG20UGP', 'WV69OLC'], header_location=<HeaderLocation.TOP: 'top'>, series_starting_cell=Cell(column=1, row=2, coordinate='A2', sheet_name=None, value=None, value_type=None), series_length=2, series_data_type=<SeriesDataType.STR: 'str'>)\n"
     ]
    }
   ],
   "source": [
    "series_id_string_list = ('parking|Vehicle Reg|1|1',)\n",
    "get_dataframe_from_series_id_string_list(series_id_string_list)"
   ]
  },
  {
   "cell_type": "code",
   "execution_count": null,
   "metadata": {},
   "outputs": [],
   "source": [
    "# Create a python function that takes an AST and replaces RangeNodes with pandas dataframes, and FunctionNodes with Python functions"
   ]
  },
  {
   "cell_type": "code",
   "execution_count": null,
   "metadata": {},
   "outputs": [],
   "source": [
    "# Build a xlcalculator Function Node\n",
    "\n",
    "import xlcalculator\n",
    "\n",
    "\n",
    "token = xlcalculator.tokenizer.f_token(tvalue=\"SUMIF\", ttype=\"function\", tsubtype=\"\")\n",
    "\n",
    "function_node = xlcalculator.ast_nodes.FunctionNode(token)"
   ]
  },
  {
   "cell_type": "code",
   "execution_count": null,
   "metadata": {},
   "outputs": [
    {
     "data": {
      "text/plain": [
       "<FunctionNode tvalue: '', ttype: , tsubtype: >"
      ]
     },
     "execution_count": 9,
     "metadata": {},
     "output_type": "execute_result"
    }
   ],
   "source": [
    "function_node"
   ]
  },
  {
   "cell_type": "code",
   "execution_count": null,
   "metadata": {},
   "outputs": [],
   "source": []
  }
 ],
 "metadata": {
  "kernelspec": {
   "display_name": "venv",
   "language": "python",
   "name": "python3"
  },
  "language_info": {
   "codemirror_mode": {
    "name": "ipython",
    "version": 3
   },
   "file_extension": ".py",
   "mimetype": "text/x-python",
   "name": "python",
   "nbconvert_exporter": "python",
   "pygments_lexer": "ipython3",
   "version": "3.11.5"
  }
 },
 "nbformat": 4,
 "nbformat_minor": 2
}
