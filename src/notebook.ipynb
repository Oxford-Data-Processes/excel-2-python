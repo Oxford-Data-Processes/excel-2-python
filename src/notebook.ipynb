{
 "cells": [
  {
   "cell_type": "code",
   "execution_count": 1,
   "metadata": {},
   "outputs": [],
   "source": [
    "import os\n",
    "\n",
    "from series_extraction.excel_loader import ExcelLoader\n",
    "from series_extraction.excel_cleaner import ExcelCleaner\n",
    "from series_extraction.table_extractor import TableExtractor\n",
    "from series_extraction.series_extractor import SeriesExtractor\n",
    "from series_extraction.excel_compatibility_checker import ExcelCompatibilityChecker\n",
    "from series_extraction.series_iterator import SeriesIterator\n",
    "from series_extraction.series_mapper import SeriesMapper\n",
    "from series_extraction.excel_validator import ExcelValidator\n",
    "\n",
    "from ast_transformation.formula_generator import FormulaGenerator\n",
    "\n",
    "from ast_building.formula_parser import FormulaParser\n",
    "\n",
    "from excel_builder import ExcelBuilder"
   ]
  },
  {
   "cell_type": "code",
   "execution_count": 2,
   "metadata": {},
   "outputs": [],
   "source": [
    "data_directory = \"/Users/chrislittle/GitHub/speedsheet/excel-2-python/data\"\n",
    "\n",
    "project_name = 'test_excel_2'\n",
    "\n",
    "excel_raw_file_path = os.path.join(data_directory, \"excel_files_raw\", f\"{project_name}_raw.xlsx\")\n",
    "excel_reduced_filepath = os.path.join(data_directory, \"excel_files_reduced\", f\"{project_name}_reduced.xlsx\")\n",
    "excel_reduced_clean_filepath = os.path.join(data_directory, \"excel_files_reduced_clean\", f\"{project_name}_reduced_clean.xlsx\")\n",
    "excel_raw_clean_filepath = os.path.join(data_directory, \"excel_files_raw_clean\", f\"{project_name}_raw_clean.xlsx\")\n",
    "excel_reduced_clean_series_filepath = os.path.join(data_directory, \"excel_files_reduced_clean_series\", f\"{project_name}_reduced_clean_series.xlsx\")\n",
    "excel_reduced_clean_series_python_filepath = os.path.join(data_directory, \"excel_files_reduced_clean_series_python\", f\"{project_name}_reduced_clean_series_python.xlsx\")\n",
    "excel_raw_clean_series_python_filepath = os.path.join(data_directory, \"excel_files_raw_clean_series_python\", f\"{project_name}_raw_clean_series_python.xlsx\")"
   ]
  },
  {
   "cell_type": "code",
   "execution_count": 3,
   "metadata": {},
   "outputs": [],
   "source": [
    "excel_raw= ExcelLoader.load_file(excel_raw_file_path)\n",
    "excel_reduced = ExcelLoader.load_file(excel_reduced_filepath)\n",
    "is_valid = ExcelValidator.validate_excel(excel_reduced)\n",
    "if not is_valid:\n",
    "    raise Exception(\"Excel file is not valid\")\n",
    "\n",
    "excel_reduced_clean = ExcelCleaner.clean_excel(excel_reduced)\n",
    "excel_raw_clean = ExcelCleaner.clean_excel(excel_raw)\n",
    "ExcelBuilder.create_excel_from_workbook(excel_reduced_clean.workbook_with_formulas, excel_reduced_clean_filepath)\n",
    "ExcelBuilder.create_excel_from_workbook(excel_raw_clean.workbook_with_formulas,  excel_raw_clean_filepath)\n",
    "\n",
    "extracted_tables, workbook_data = TableExtractor.extract_tables(excel_reduced_clean)\n",
    "is_compatible = ExcelCompatibilityChecker.check_file(excel_raw, excel_reduced, extracted_tables)\n",
    "if not is_compatible:\n",
    "    raise Exception(\"Excel file is not compatible\")\n",
    "\n",
    "series_dict = SeriesExtractor.extract_series(extracted_tables=extracted_tables, workbook_data=workbook_data)\n",
    "series_mapping = SeriesMapper.map_series(series_dict)\n",
    "series_iterator = SeriesIterator.iterate_series(series_dict)\n",
    "\n",
    "series_list = [series for series in series_iterator]\n",
    "\n",
    "series_list_with_formulas = [\n",
    "    series for series in series_list if series.formulas != [None, None]\n",
    "]\n",
    "series_list_with_values = [\n",
    "    series for series in series_list if series.formulas == [None, None]\n",
    "]\n",
    "\n",
    "generic_formula_dictionary = {}\n",
    "\n",
    "for series in series_list_with_formulas:\n",
    "    formula_1, formula_2 = series.formulas\n",
    "    \n",
    "    if formula_1 is not None and formula_2 is not None:\n",
    "\n",
    "        formula_1_ast_elements, _ = FormulaParser.parse_formula(formula_1)\n",
    "        formula_2_ast_elements, _ = FormulaParser.parse_formula(formula_2)\n",
    "\n",
    "        generic_formula = FormulaGenerator.generate_generic_formula(formula_1_ast_elements, formula_2_ast_elements)\n",
    "\n",
    "        sheet_name = series.series_id.sheet_name\n",
    "\n",
    "        generic_formula_dictionary[series.series_id] = (formula_1_ast_elements, generic_formula)"
   ]
  },
  {
   "cell_type": "code",
   "execution_count": 4,
   "metadata": {},
   "outputs": [],
   "source": [
    "formula_1_ast_elements, generic_formula = list(generic_formula_dictionary.values())[5]"
   ]
  },
  {
   "cell_type": "code",
   "execution_count": 5,
   "metadata": {},
   "outputs": [
    {
     "data": {
      "text/plain": [
       "[CONCATENATE <Function>,\n",
       " ( <Parenthesis>,\n",
       " SUMMARY!A2 <Range>,\n",
       " , <Operator>,\n",
       "  Parking Recharge <String>,\n",
       " ) <Parenthesis>]"
      ]
     },
     "execution_count": 5,
     "metadata": {},
     "output_type": "execute_result"
    }
   ],
   "source": [
    "formula_1_ast_elements"
   ]
  },
  {
   "cell_type": "code",
   "execution_count": 6,
   "metadata": {},
   "outputs": [],
   "source": [
    "from excel_utils import ExcelUtils\n",
    "from formulas.tokens.operand import Range"
   ]
  },
  {
   "cell_type": "code",
   "execution_count": 7,
   "metadata": {},
   "outputs": [],
   "source": [
    "def get_sheet_name_from_range(range: Range):\n",
    "    \"\"\"Get sheet name from range\"\"\"\n",
    "    if \"!\" in range.name:\n",
    "        return range.name.split(\"!\")[0], range.name.split(\"!\")[1]\n",
    "    return None, range.name\n",
    "\n",
    "def apply_delta_to_range(range: Range, delta):\n",
    "    \"\"\"Apply delta to range\"\"\"\n",
    "\n",
    "    print(f\"range: {range}\")\n",
    "\n",
    "    sheet_name, range_string = get_sheet_name_from_range(range)\n",
    "\n",
    "    cell_start_column_delta, cell_start_row_delta, cell_end_column_delta, cell_end_row_delta = delta\n",
    "\n",
    "    cell_start_column, cell_start_row, cell_end_column, cell_end_row, is_column_range = ExcelUtils.get_coordinates_from_range(range_string)\n",
    "\n",
    "    if not is_column_range:\n",
    "        cell_start_column += cell_start_column_delta\n",
    "        cell_start_row += cell_start_row_delta\n",
    "        cell_end_column += cell_end_column_delta\n",
    "        cell_end_row += cell_end_row_delta\n",
    "\n",
    "        new_range_string = ExcelUtils.get_range_from_coordinates(cell_start_column, cell_start_row, cell_end_column, cell_end_row, is_column_range)\n",
    "        print(f\"new_range_string: {new_range_string}\")\n",
    "        if sheet_name:\n",
    "            return Range(f\"{sheet_name}!{new_range_string}\")\n",
    "        return Range(new_range_string)\n",
    "    return range\n"
   ]
  },
  {
   "cell_type": "code",
   "execution_count": 8,
   "metadata": {},
   "outputs": [
    {
     "data": {
      "text/plain": [
       "{2: (0, 1, 0, 1)}"
      ]
     },
     "execution_count": 8,
     "metadata": {},
     "output_type": "execute_result"
    }
   ],
   "source": [
    "generic_formula"
   ]
  },
  {
   "cell_type": "code",
   "execution_count": 9,
   "metadata": {},
   "outputs": [],
   "source": [
    "def generate_formula_list(formula_1_ast_elements, generic_formula):\n",
    "\n",
    "    list_length = 2\n",
    "\n",
    "    formula_list = []\n",
    "\n",
    "    for _ in range(list_length):\n",
    "        for index, element in enumerate(formula_1_ast_elements):\n",
    "            if isinstance(element, Range):\n",
    "                delta = generic_formula[index]\n",
    "                print(f\"delta: {delta}\")\n",
    "                new_element = apply_delta_to_range(element, delta)\n",
    "                print(f\"new_element: {new_element}\")\n",
    "                formula_1_ast_elements[index] = new_element\n",
    "                print(f\"formula_1_ast_elements: {formula_1_ast_elements}\")\n",
    "                formula_list.append(\"\".join(element.name for element in formula_1_ast_elements))\n",
    "\n",
    "    return formula_list"
   ]
  },
  {
   "cell_type": "code",
   "execution_count": 10,
   "metadata": {},
   "outputs": [
    {
     "name": "stdout",
     "output_type": "stream",
     "text": [
      "delta: (0, 1, 0, 1)\n",
      "range: SUMMARY!A2 <Range>\n",
      "new_range_string: A3:A3\n",
      "new_element: SUMMARY!A3 <Range>\n",
      "formula_1_ast_elements: [CONCATENATE <Function>, ( <Parenthesis>, SUMMARY!A3 <Range>, , <Operator>,  Parking Recharge <String>, ) <Parenthesis>]\n",
      "delta: (0, 1, 0, 1)\n",
      "range: SUMMARY!A3 <Range>\n",
      "new_range_string: A4:A4\n",
      "new_element: SUMMARY!A4 <Range>\n",
      "formula_1_ast_elements: [CONCATENATE <Function>, ( <Parenthesis>, SUMMARY!A4 <Range>, , <Operator>,  Parking Recharge <String>, ) <Parenthesis>]\n"
     ]
    },
    {
     "data": {
      "text/plain": [
       "['CONCATENATE(SUMMARY!A3, Parking Recharge)',\n",
       " 'CONCATENATE(SUMMARY!A4, Parking Recharge)']"
      ]
     },
     "execution_count": 10,
     "metadata": {},
     "output_type": "execute_result"
    }
   ],
   "source": [
    "generate_formula_list(formula_1_ast_elements, generic_formula)"
   ]
  },
  {
   "cell_type": "code",
   "execution_count": null,
   "metadata": {},
   "outputs": [],
   "source": []
  },
  {
   "cell_type": "code",
   "execution_count": null,
   "metadata": {},
   "outputs": [],
   "source": []
  }
 ],
 "metadata": {
  "kernelspec": {
   "display_name": "venv",
   "language": "python",
   "name": "python3"
  },
  "language_info": {
   "codemirror_mode": {
    "name": "ipython",
    "version": 3
   },
   "file_extension": ".py",
   "mimetype": "text/x-python",
   "name": "python",
   "nbconvert_exporter": "python",
   "pygments_lexer": "ipython3",
   "version": "3.11.5"
  }
 },
 "nbformat": 4,
 "nbformat_minor": 2
}
