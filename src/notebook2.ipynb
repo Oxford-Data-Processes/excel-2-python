{
 "cells": [
  {
   "cell_type": "code",
   "execution_count": 72,
   "metadata": {},
   "outputs": [],
   "source": [
    "import formulas\n",
    "\n",
    "from ast_building.formula_parser import FormulaParser"
   ]
  },
  {
   "cell_type": "code",
   "execution_count": 37,
   "metadata": {},
   "outputs": [],
   "source": [
    "ast = formulas.Parser().ast('=B2+SUM(A1:A3)')\n"
   ]
  },
  {
   "cell_type": "code",
   "execution_count": 69,
   "metadata": {},
   "outputs": [
    {
     "data": {
      "text/plain": [
       "formulas.builder.AstBuilder"
      ]
     },
     "execution_count": 69,
     "metadata": {},
     "output_type": "execute_result"
    }
   ],
   "source": [
    "type(ast[0][0])\n",
    "type(ast[1])"
   ]
  },
  {
   "cell_type": "code",
   "execution_count": 70,
   "metadata": {},
   "outputs": [
    {
     "data": {
      "text/plain": [
       "formulas.tokens.operand.Range"
      ]
     },
     "execution_count": 70,
     "metadata": {},
     "output_type": "execute_result"
    }
   ],
   "source": [
    "type(ast[0][0])\n"
   ]
  },
  {
   "cell_type": "code",
   "execution_count": 47,
   "metadata": {},
   "outputs": [],
   "source": [
    "pipe = ast[1].compile()"
   ]
  },
  {
   "cell_type": "code",
   "execution_count": 59,
   "metadata": {},
   "outputs": [
    {
     "data": {
      "text/plain": [
       "OrderedDict([('A1:A3', <Ranges>(A1:A3)), ('B2', <Ranges>(B2))])"
      ]
     },
     "execution_count": 59,
     "metadata": {},
     "output_type": "execute_result"
    }
   ],
   "source": [
    "pipe.inputs"
   ]
  },
  {
   "cell_type": "code",
   "execution_count": 57,
   "metadata": {},
   "outputs": [
    {
     "data": {
      "text/plain": [
       "Array(3.0, dtype=object)"
      ]
     },
     "execution_count": 57,
     "metadata": {},
     "output_type": "execute_result"
    }
   ],
   "source": [
    "pipe(1,2)"
   ]
  },
  {
   "cell_type": "markdown",
   "metadata": {},
   "source": [
    "Get inputs delta using the above method.\n",
    "\n",
    "Evaluate by passing in the inputs into the pipe() function\n",
    "\n",
    "\n",
    "SIMPLIFIES EVERYTHING SIGNIFICANTLY"
   ]
  },
  {
   "cell_type": "code",
   "execution_count": 78,
   "metadata": {},
   "outputs": [],
   "source": [
    "formula_1 = \"=SUM(A1:A3) + 5 - A2\"\n",
    "formula_2 = \"=SUM(A1:A3) + 5 - A3\""
   ]
  },
  {
   "cell_type": "code",
   "execution_count": 82,
   "metadata": {},
   "outputs": [],
   "source": [
    "formula_1_ast = FormulaParser.parse_formula(formula_1)\n",
    "formula_2_ast = FormulaParser.parse_formula(formula_2)"
   ]
  },
  {
   "cell_type": "code",
   "execution_count": 86,
   "metadata": {},
   "outputs": [],
   "source": [
    "formula_1_elements_list = formula_1_ast[0]"
   ]
  },
  {
   "cell_type": "code",
   "execution_count": 87,
   "metadata": {},
   "outputs": [],
   "source": [
    "formula_2_elements_list = formula_2_ast[0]"
   ]
  },
  {
   "cell_type": "code",
   "execution_count": 104,
   "metadata": {},
   "outputs": [
    {
     "data": {
      "text/plain": [
       "[SUM <Function>,\n",
       " ( <Parenthesis>,\n",
       " A1:A3 <Range>,\n",
       " ) <Parenthesis>,\n",
       " + <Operator>,\n",
       " 5 <Number>,\n",
       " - <Operator>,\n",
       " A2 <Range>]"
      ]
     },
     "execution_count": 104,
     "metadata": {},
     "output_type": "execute_result"
    }
   ],
   "source": [
    "formula_1_elements_list"
   ]
  },
  {
   "cell_type": "code",
   "execution_count": 116,
   "metadata": {},
   "outputs": [],
   "source": [
    "from formulas.tokens.operand import Range\n",
    "from excel_utils import ExcelUtils\n",
    "\n",
    "\n",
    "class FormulaGenerator:\n",
    "\n",
    "    @staticmethod\n",
    "    def get_delta_between_coordinates(coordinate1, coordinate2):\n",
    "        cell_start_column2, cell_start_row2, cell_end_column2, cell_end_row2, _ = ExcelUtils.get_coordinates_from_range(coordinate2)\n",
    "        cell_start_column1, cell_start_row1, cell_end_column1, cell_end_row1, _ = ExcelUtils.get_coordinates_from_range(coordinate1)\n",
    "\n",
    "        cell_start_column_delta = cell_start_column2 - cell_start_column1\n",
    "        cell_start_row_delta = cell_start_row2 - cell_start_row1\n",
    "        cell_end_column_delta = cell_end_column2 - cell_end_column1\n",
    "        cell_end_row_delta = cell_end_row2 - cell_end_row1\n",
    "\n",
    "        return cell_start_column_delta, cell_start_row_delta, cell_end_column_delta, cell_end_row_delta\n",
    "    \n",
    "    @staticmethod\n",
    "    def generate_generic_formula(formula_1_elements_list, formula_2_elements_list):\n",
    "                \n",
    "        delta_dictionary = {}\n",
    "\n",
    "        for index, (element1, element2) in enumerate(zip(formula_1_elements_list, formula_2_elements_list)):\n",
    "            \n",
    "            if isinstance(element1, Range) and isinstance(element2, Range):                            \n",
    "\n",
    "                delta = FormulaGenerator.get_delta_between_coordinates(element1.name, element2.name)\n",
    "                delta_dictionary[index] = delta\n",
    "\n",
    "        return delta_dictionary"
   ]
  },
  {
   "cell_type": "code",
   "execution_count": 115,
   "metadata": {},
   "outputs": [
    {
     "data": {
      "text/plain": [
       "{2: (0, 0, 0, 0), 7: (0, 1, 0, 1)}"
      ]
     },
     "execution_count": 115,
     "metadata": {},
     "output_type": "execute_result"
    }
   ],
   "source": [
    "delta_dictionary"
   ]
  },
  {
   "cell_type": "code",
   "execution_count": 101,
   "metadata": {},
   "outputs": [
    {
     "data": {
      "text/plain": [
       "formulas.tokens.operand.Range"
      ]
     },
     "execution_count": 101,
     "metadata": {},
     "output_type": "execute_result"
    }
   ],
   "source": [
    "type(formula_1_elements_list[2])"
   ]
  },
  {
   "cell_type": "code",
   "execution_count": 97,
   "metadata": {},
   "outputs": [
    {
     "data": {
      "text/plain": [
       "'A1:A3'"
      ]
     },
     "execution_count": 97,
     "metadata": {},
     "output_type": "execute_result"
    }
   ],
   "source": [
    "formula_1_elements_list[2].name"
   ]
  },
  {
   "cell_type": "code",
   "execution_count": 89,
   "metadata": {},
   "outputs": [
    {
     "data": {
      "text/plain": [
       "[SUM <Function>,\n",
       " ( <Parenthesis>,\n",
       " A1:A3 <Range>,\n",
       " ) <Parenthesis>,\n",
       " + <Operator>,\n",
       " 5 <Number>,\n",
       " - <Operator>,\n",
       " A3 <Range>]"
      ]
     },
     "execution_count": 89,
     "metadata": {},
     "output_type": "execute_result"
    }
   ],
   "source": [
    "formula_2_elements_list"
   ]
  },
  {
   "cell_type": "code",
   "execution_count": null,
   "metadata": {},
   "outputs": [],
   "source": []
  }
 ],
 "metadata": {
  "kernelspec": {
   "display_name": "venv",
   "language": "python",
   "name": "python3"
  },
  "language_info": {
   "codemirror_mode": {
    "name": "ipython",
    "version": 3
   },
   "file_extension": ".py",
   "mimetype": "text/x-python",
   "name": "python",
   "nbconvert_exporter": "python",
   "pygments_lexer": "ipython3",
   "version": "3.11.5"
  }
 },
 "nbformat": 4,
 "nbformat_minor": 2
}
