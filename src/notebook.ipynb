{
 "cells": [
  {
   "cell_type": "code",
   "execution_count": 1,
   "metadata": {},
   "outputs": [],
   "source": [
    "import os\n",
    "import xlcalculator\n",
    "\n",
    "\n",
    "from series_extraction.excel_loader import ExcelLoader\n",
    "from series_extraction.excel_validator import ExcelValidator\n",
    "from series_extraction.excel_cleaner import ExcelCleaner\n",
    "from series_extraction.table_finder import TableFinder\n",
    "from series_extraction.series_extractor import SeriesExtractor\n",
    "from series_extraction.excel_compatibility_checker import ExcelCompatibilityChecker\n",
    "from series_extraction.series_iterator import SeriesIterator\n",
    "from series_extraction.series_mapper import SeriesMapper\n",
    "\n",
    "from ast_building.formula_parser import FormulaParser\n",
    "from ast_building.series_implementer import SeriesImplementer\n",
    "\n",
    "from formula_visualiser import FormulaVisualiser\n"
   ]
  },
  {
   "cell_type": "code",
   "execution_count": 2,
   "metadata": {},
   "outputs": [],
   "source": [
    "current_directory = os.getcwd()\n",
    "\n",
    "parent_directory = os.path.abspath(os.path.join(current_directory, os.pardir))\n",
    "data_directory = os.path.join(parent_directory, 'data')\n",
    "\n",
    "project_name = 'test_excel_1'\n",
    "\n",
    "excel_raw_file_path = os.path.join(data_directory, \"excel_files_raw\", f\"{project_name}_raw.xlsx\")\n",
    "excel_reduced_filepath = os.path.join(data_directory, \"excel_files_reduced\", f\"{project_name}_reduced.xlsx\")"
   ]
  },
  {
   "cell_type": "code",
   "execution_count": 3,
   "metadata": {},
   "outputs": [],
   "source": [
    "excel_raw= ExcelLoader.load_file(excel_raw_file_path)\n",
    "excel_reduced = ExcelLoader.load_file(excel_reduced_filepath)"
   ]
  },
  {
   "cell_type": "code",
   "execution_count": 4,
   "metadata": {},
   "outputs": [],
   "source": [
    "is_valid = ExcelValidator.validate_excel(excel_reduced)"
   ]
  },
  {
   "cell_type": "code",
   "execution_count": 5,
   "metadata": {},
   "outputs": [],
   "source": [
    "if not is_valid:\n",
    "    raise Exception(\"Excel file is not valid\")"
   ]
  },
  {
   "cell_type": "code",
   "execution_count": 6,
   "metadata": {},
   "outputs": [],
   "source": [
    "excel_reduced_clean = ExcelCleaner.clean_excel(excel_reduced)"
   ]
  },
  {
   "cell_type": "code",
   "execution_count": 7,
   "metadata": {},
   "outputs": [],
   "source": [
    "extracted_tables, data = TableFinder.find_tables(excel_reduced_clean)"
   ]
  },
  {
   "cell_type": "code",
   "execution_count": 8,
   "metadata": {},
   "outputs": [],
   "source": [
    "series_data = SeriesExtractor.extract_table_details(extracted_tables, data)"
   ]
  },
  {
   "cell_type": "code",
   "execution_count": 9,
   "metadata": {},
   "outputs": [],
   "source": [
    "is_compatible = ExcelCompatibilityChecker.check_file(excel_raw, excel_reduced, extracted_tables)"
   ]
  },
  {
   "cell_type": "code",
   "execution_count": 10,
   "metadata": {},
   "outputs": [],
   "source": [
    "if not is_compatible:\n",
    "    raise Exception(\"Excel file is not compatible\")"
   ]
  },
  {
   "cell_type": "code",
   "execution_count": 11,
   "metadata": {},
   "outputs": [],
   "source": [
    "series_dict = SeriesExtractor.extract_series(extracted_tables=extracted_tables, data=data)"
   ]
  },
  {
   "cell_type": "code",
   "execution_count": 12,
   "metadata": {},
   "outputs": [
    {
     "data": {
      "text/plain": [
       "[Series(series_id=UUID('8280d017-7cfd-4f5f-a55a-4bb097f36764'), worksheet=Worksheet(sheet_name='Sheet2', workbook_file_path=None, worksheet=None), series_header='col1', formulas=['=B2', '=B3'], values=[1, 4], header_location=<HeaderLocation.TOP: 'top'>, series_starting_cell=Cell(column=1, row=11, coordinate='A11', value=None, value_type=None), series_length=2, series_data_type=<SeriesDataType.INT: 'int'>),\n",
       " Series(series_id=UUID('edd04b9e-379f-40f3-bc68-2d7a91803414'), worksheet=Worksheet(sheet_name='Sheet2', workbook_file_path=None, worksheet=None), series_header='col2', formulas=['=C2', '=C3'], values=[2, 5], header_location=<HeaderLocation.TOP: 'top'>, series_starting_cell=Cell(column=2, row=11, coordinate='B11', value=None, value_type=None), series_length=2, series_data_type=<SeriesDataType.INT: 'int'>),\n",
       " Series(series_id=UUID('c26e65c8-395d-4852-965e-11a2cc3c6e86'), worksheet=Worksheet(sheet_name='Sheet2', workbook_file_path=None, worksheet=None), series_header='horizontal_col_1', formulas=[None, None], values=[1, 2], header_location=<HeaderLocation.LEFT: 'left'>, series_starting_cell=Cell(column=2, row=2, coordinate='B2', value=None, value_type=None), series_length=2, series_data_type=<SeriesDataType.INT: 'int'>),\n",
       " Series(series_id=UUID('b2ac3b83-ed01-4955-8f39-230e5d1a6a50'), worksheet=Worksheet(sheet_name='Sheet2', workbook_file_path=None, worksheet=None), series_header='horizontal_col_2', formulas=[None, None], values=[4, 5], header_location=<HeaderLocation.LEFT: 'left'>, series_starting_cell=Cell(column=2, row=3, coordinate='B3', value=None, value_type=None), series_length=2, series_data_type=<SeriesDataType.INT: 'int'>),\n",
       " Series(series_id=UUID('ad52a0dc-2c0e-48a7-8b37-aa81c5d887aa'), worksheet=Worksheet(sheet_name='Sheet2', workbook_file_path=None, worksheet=None), series_header='horizontal_col_3', formulas=['=B2+B3', '=C2+C3'], values=[5, 7], header_location=<HeaderLocation.LEFT: 'left'>, series_starting_cell=Cell(column=2, row=4, coordinate='B4', value=None, value_type=None), series_length=2, series_data_type=<SeriesDataType.INT: 'int'>)]"
      ]
     },
     "execution_count": 12,
     "metadata": {},
     "output_type": "execute_result"
    }
   ],
   "source": [
    "series_dict[\"Sheet2\"]"
   ]
  },
  {
   "cell_type": "markdown",
   "metadata": {},
   "source": []
  },
  {
   "cell_type": "code",
   "execution_count": 13,
   "metadata": {},
   "outputs": [],
   "source": [
    "series_iterator = SeriesIterator.iterate_series(series_dict)"
   ]
  },
  {
   "cell_type": "code",
   "execution_count": 14,
   "metadata": {},
   "outputs": [],
   "source": [
    "series = None\n",
    "for item in series_iterator:\n",
    "    if item.formulas != [None, None]:\n",
    "        series = item\n",
    "        break\n"
   ]
  },
  {
   "cell_type": "code",
   "execution_count": 15,
   "metadata": {},
   "outputs": [
    {
     "data": {
      "text/plain": [
       "Series(series_id=UUID('337ff33f-3a83-49b8-8c3d-3b299c2a3995'), worksheet=Worksheet(sheet_name='Sheet1', workbook_file_path=None, worksheet=None), series_header='horizontal_column_1', formulas=['=B3', '=C3'], values=[1, 2], header_location=<HeaderLocation.LEFT: 'left'>, series_starting_cell=Cell(column=3, row=12, coordinate='C12', value=None, value_type=None), series_length=2, series_data_type=<SeriesDataType.INT: 'int'>)"
      ]
     },
     "execution_count": 15,
     "metadata": {},
     "output_type": "execute_result"
    }
   ],
   "source": [
    "series"
   ]
  },
  {
   "cell_type": "code",
   "execution_count": 16,
   "metadata": {},
   "outputs": [],
   "source": [
    "series_mapping = SeriesMapper.map_series(series_dict)"
   ]
  },
  {
   "cell_type": "code",
   "execution_count": 17,
   "metadata": {},
   "outputs": [
    {
     "data": {
      "text/plain": [
       "{Cell(column=1, row=11, coordinate=None, value=None, value_type=None): (0,\n",
       "  Series(series_id=UUID('8280d017-7cfd-4f5f-a55a-4bb097f36764'), worksheet=Worksheet(sheet_name='Sheet2', workbook_file_path=None, worksheet=None), series_header='col1', formulas=['=B2', '=B3'], values=[1, 4], header_location=<HeaderLocation.TOP: 'top'>, series_starting_cell=Cell(column=1, row=11, coordinate='A11', value=None, value_type=None), series_length=2, series_data_type=<SeriesDataType.INT: 'int'>)),\n",
       " Cell(column=1, row=12, coordinate=None, value=None, value_type=None): (1,\n",
       "  Series(series_id=UUID('8280d017-7cfd-4f5f-a55a-4bb097f36764'), worksheet=Worksheet(sheet_name='Sheet2', workbook_file_path=None, worksheet=None), series_header='col1', formulas=['=B2', '=B3'], values=[1, 4], header_location=<HeaderLocation.TOP: 'top'>, series_starting_cell=Cell(column=1, row=11, coordinate='A11', value=None, value_type=None), series_length=2, series_data_type=<SeriesDataType.INT: 'int'>)),\n",
       " Cell(column=2, row=11, coordinate=None, value=None, value_type=None): (0,\n",
       "  Series(series_id=UUID('edd04b9e-379f-40f3-bc68-2d7a91803414'), worksheet=Worksheet(sheet_name='Sheet2', workbook_file_path=None, worksheet=None), series_header='col2', formulas=['=C2', '=C3'], values=[2, 5], header_location=<HeaderLocation.TOP: 'top'>, series_starting_cell=Cell(column=2, row=11, coordinate='B11', value=None, value_type=None), series_length=2, series_data_type=<SeriesDataType.INT: 'int'>)),\n",
       " Cell(column=2, row=12, coordinate=None, value=None, value_type=None): (1,\n",
       "  Series(series_id=UUID('edd04b9e-379f-40f3-bc68-2d7a91803414'), worksheet=Worksheet(sheet_name='Sheet2', workbook_file_path=None, worksheet=None), series_header='col2', formulas=['=C2', '=C3'], values=[2, 5], header_location=<HeaderLocation.TOP: 'top'>, series_starting_cell=Cell(column=2, row=11, coordinate='B11', value=None, value_type=None), series_length=2, series_data_type=<SeriesDataType.INT: 'int'>)),\n",
       " Cell(column=2, row=2, coordinate=None, value=None, value_type=None): (0,\n",
       "  Series(series_id=UUID('c26e65c8-395d-4852-965e-11a2cc3c6e86'), worksheet=Worksheet(sheet_name='Sheet2', workbook_file_path=None, worksheet=None), series_header='horizontal_col_1', formulas=[None, None], values=[1, 2], header_location=<HeaderLocation.LEFT: 'left'>, series_starting_cell=Cell(column=2, row=2, coordinate='B2', value=None, value_type=None), series_length=2, series_data_type=<SeriesDataType.INT: 'int'>)),\n",
       " Cell(column=3, row=2, coordinate=None, value=None, value_type=None): (1,\n",
       "  Series(series_id=UUID('c26e65c8-395d-4852-965e-11a2cc3c6e86'), worksheet=Worksheet(sheet_name='Sheet2', workbook_file_path=None, worksheet=None), series_header='horizontal_col_1', formulas=[None, None], values=[1, 2], header_location=<HeaderLocation.LEFT: 'left'>, series_starting_cell=Cell(column=2, row=2, coordinate='B2', value=None, value_type=None), series_length=2, series_data_type=<SeriesDataType.INT: 'int'>)),\n",
       " Cell(column=2, row=3, coordinate=None, value=None, value_type=None): (0,\n",
       "  Series(series_id=UUID('b2ac3b83-ed01-4955-8f39-230e5d1a6a50'), worksheet=Worksheet(sheet_name='Sheet2', workbook_file_path=None, worksheet=None), series_header='horizontal_col_2', formulas=[None, None], values=[4, 5], header_location=<HeaderLocation.LEFT: 'left'>, series_starting_cell=Cell(column=2, row=3, coordinate='B3', value=None, value_type=None), series_length=2, series_data_type=<SeriesDataType.INT: 'int'>)),\n",
       " Cell(column=3, row=3, coordinate=None, value=None, value_type=None): (1,\n",
       "  Series(series_id=UUID('b2ac3b83-ed01-4955-8f39-230e5d1a6a50'), worksheet=Worksheet(sheet_name='Sheet2', workbook_file_path=None, worksheet=None), series_header='horizontal_col_2', formulas=[None, None], values=[4, 5], header_location=<HeaderLocation.LEFT: 'left'>, series_starting_cell=Cell(column=2, row=3, coordinate='B3', value=None, value_type=None), series_length=2, series_data_type=<SeriesDataType.INT: 'int'>)),\n",
       " Cell(column=2, row=4, coordinate=None, value=None, value_type=None): (0,\n",
       "  Series(series_id=UUID('ad52a0dc-2c0e-48a7-8b37-aa81c5d887aa'), worksheet=Worksheet(sheet_name='Sheet2', workbook_file_path=None, worksheet=None), series_header='horizontal_col_3', formulas=['=B2+B3', '=C2+C3'], values=[5, 7], header_location=<HeaderLocation.LEFT: 'left'>, series_starting_cell=Cell(column=2, row=4, coordinate='B4', value=None, value_type=None), series_length=2, series_data_type=<SeriesDataType.INT: 'int'>)),\n",
       " Cell(column=3, row=4, coordinate=None, value=None, value_type=None): (1,\n",
       "  Series(series_id=UUID('ad52a0dc-2c0e-48a7-8b37-aa81c5d887aa'), worksheet=Worksheet(sheet_name='Sheet2', workbook_file_path=None, worksheet=None), series_header='horizontal_col_3', formulas=['=B2+B3', '=C2+C3'], values=[5, 7], header_location=<HeaderLocation.LEFT: 'left'>, series_starting_cell=Cell(column=2, row=4, coordinate='B4', value=None, value_type=None), series_length=2, series_data_type=<SeriesDataType.INT: 'int'>))}"
      ]
     },
     "execution_count": 17,
     "metadata": {},
     "output_type": "execute_result"
    }
   ],
   "source": [
    "from objects import Worksheet\n",
    "series_mapping[Worksheet(sheet_name='Sheet2', workbook_file_path=None, worksheet=None)]"
   ]
  },
  {
   "cell_type": "code",
   "execution_count": 18,
   "metadata": {},
   "outputs": [],
   "source": [
    "formula_1 = series.formulas[0]\n",
    "formula_1_ast = FormulaParser.parse_formula(formula_1)"
   ]
  },
  {
   "cell_type": "code",
   "execution_count": 19,
   "metadata": {},
   "outputs": [
    {
     "name": "stdout",
     "output_type": "stream",
     "text": [
      "=B3\n"
     ]
    }
   ],
   "source": [
    "print(formula_1)"
   ]
  },
  {
   "cell_type": "code",
   "execution_count": 20,
   "metadata": {},
   "outputs": [
    {
     "name": "stdout",
     "output_type": "stream",
     "text": [
      "cell_range: B3\n",
      "worksheet: Worksheet(sheet_name='Sheet1', workbook_file_path=None, worksheet=None)\n",
      "cell: [Cell(column=2, row=3, coordinate=None, value=None, value_type=None)]\n"
     ]
    }
   ],
   "source": [
    "series_implementer = SeriesImplementer(series_mapping, sheet_name = series.worksheet.sheet_name)\n",
    "\n",
    "formula_1_ast_new = series_implementer.replace_range_nodes(formula_1_ast)"
   ]
  },
  {
   "cell_type": "code",
   "execution_count": 21,
   "metadata": {},
   "outputs": [],
   "source": [
    "formula_1_new = SeriesImplementer.serialise_ast_to_formula(formula_1_ast_new)"
   ]
  },
  {
   "cell_type": "code",
   "execution_count": 22,
   "metadata": {},
   "outputs": [
    {
     "data": {
      "text/plain": [
       "'45bd573e70954092ba5b8430f2efb61e_0_0'"
      ]
     },
     "execution_count": 22,
     "metadata": {},
     "output_type": "execute_result"
    }
   ],
   "source": [
    "formula_1_new"
   ]
  },
  {
   "cell_type": "code",
   "execution_count": 23,
   "metadata": {},
   "outputs": [],
   "source": [
    "formula_1_ast_new = FormulaParser.parse_formula(f'={formula_1_new}')"
   ]
  },
  {
   "cell_type": "code",
   "execution_count": 24,
   "metadata": {},
   "outputs": [
    {
     "data": {
      "text/plain": [
       "'formula_1_ast_new.png'"
      ]
     },
     "execution_count": 24,
     "metadata": {},
     "output_type": "execute_result"
    }
   ],
   "source": [
    "formula_visualiser = FormulaVisualiser()\n",
    "ast_graph = formula_visualiser.visualise(formula_1_ast_new)\n",
    "ast_graph.render('formula_1_ast_new')"
   ]
  },
  {
   "cell_type": "code",
   "execution_count": null,
   "metadata": {},
   "outputs": [],
   "source": []
  }
 ],
 "metadata": {
  "kernelspec": {
   "display_name": "venv",
   "language": "python",
   "name": "python3"
  },
  "language_info": {
   "codemirror_mode": {
    "name": "ipython",
    "version": 3
   },
   "file_extension": ".py",
   "mimetype": "text/x-python",
   "name": "python",
   "nbconvert_exporter": "python",
   "pygments_lexer": "ipython3",
   "version": "3.11.5"
  }
 },
 "nbformat": 4,
 "nbformat_minor": 2
}
