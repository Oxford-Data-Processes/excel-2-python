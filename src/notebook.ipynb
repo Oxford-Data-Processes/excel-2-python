{
 "cells": [
  {
   "cell_type": "code",
   "execution_count": 1,
   "metadata": {},
   "outputs": [],
   "source": [
    "import os\n",
    "\n",
    "from series_extraction.excel_loader import ExcelLoader\n",
    "from series_extraction.excel_cleaner import ExcelCleaner\n",
    "from series_extraction.table_extractor import TableExtractor\n",
    "from series_extraction.series_extractor import SeriesExtractor\n",
    "from series_extraction.excel_compatibility_checker import ExcelCompatibilityChecker\n",
    "from series_extraction.series_iterator import SeriesIterator\n",
    "from series_extraction.series_mapper import SeriesMapper\n",
    "from series_extraction.excel_validator import ExcelValidator\n",
    "\n",
    "from ast_transformation.series_formula_generator_old import SeriesFormulaGenerator\n",
    "from ast_transformation.formula_generator import FormulaGenerator\n",
    "from ast_transformation.formula_list_generator import FormulaListGenerator\n",
    "from ast_transformation.formula_evaluator import FormulaEvaluator\n",
    "\n",
    "from ast_building.formula_parser import FormulaParser\n",
    "from ast_building.series_implementer import SeriesImplementer\n",
    "\n",
    "from pipeline_building.series_dependencies_builder import SeriesDependenciesBuilder\n",
    "from pipeline_building.dag_sorter import DAGSorter\n",
    "\n",
    "from excel_builder import ExcelBuilder\n",
    "\n",
    "from excel_checker import ExcelChecker\n",
    "\n",
    "from excel_data_extractor import ExcelDataExtractor\n"
   ]
  },
  {
   "cell_type": "code",
   "execution_count": 2,
   "metadata": {},
   "outputs": [],
   "source": [
    "data_directory = \"/Users/chrislittle/GitHub/speedsheet/excel-2-python/data\"\n",
    "\n",
    "project_name = 'vehicle_data'\n",
    "\n",
    "excel_raw_file_path = os.path.join(data_directory, \"excel_files_raw\", f\"{project_name}_raw.xlsx\")\n",
    "excel_reduced_filepath = os.path.join(data_directory, \"excel_files_reduced\", f\"{project_name}_reduced.xlsx\")\n",
    "excel_reduced_clean_filepath = os.path.join(data_directory, \"excel_files_reduced_clean\", f\"{project_name}_reduced_clean.xlsx\")\n",
    "excel_raw_clean_filepath = os.path.join(data_directory, \"excel_files_raw_clean\", f\"{project_name}_raw_clean.xlsx\")\n",
    "excel_reduced_clean_series_filepath = os.path.join(data_directory, \"excel_files_reduced_clean_series\", f\"{project_name}_reduced_clean_series.xlsx\")\n",
    "excel_reduced_clean_series_python_filepath = os.path.join(data_directory, \"excel_files_reduced_clean_series_python\", f\"{project_name}_reduced_clean_series_python.xlsx\")\n",
    "excel_raw_clean_series_python_filepath = os.path.join(data_directory, \"excel_files_raw_clean_series_python\", f\"{project_name}_raw_clean_series_python.xlsx\")"
   ]
  },
  {
   "cell_type": "code",
   "execution_count": 3,
   "metadata": {},
   "outputs": [],
   "source": [
    "def get_evaluated_results_from_formula_ast(series_id, formula_ast, series_values_dict):\n",
    "    formula_list_generator = FormulaListGenerator(formula_ast, series_values_dict)\n",
    "    values_length = len(series_values_dict[str(series_id)])\n",
    "    formula_list = formula_list_generator.generate_formula_list(0, values_length-1)\n",
    "    formula_strings = [str(formula) for formula in formula_list]\n",
    "\n",
    "\n",
    "    formula_evaluator = FormulaEvaluator()\n",
    "\n",
    "    results = [formula_evaluator.evaluate_formula(f\"={formula_string}\") for formula_string in formula_strings]\n",
    "\n",
    "    return results"
   ]
  },
  {
   "cell_type": "code",
   "execution_count": 4,
   "metadata": {},
   "outputs": [],
   "source": [
    "excel_raw= ExcelLoader.load_file(excel_raw_file_path)\n",
    "excel_reduced = ExcelLoader.load_file(excel_reduced_filepath)\n",
    "is_valid = ExcelValidator.validate_excel(excel_reduced)\n",
    "if not is_valid:\n",
    "    raise Exception(\"Excel file is not valid\")\n",
    "\n",
    "excel_reduced_clean = ExcelCleaner.clean_excel(excel_reduced)\n",
    "excel_raw_clean = ExcelCleaner.clean_excel(excel_raw)\n",
    "ExcelBuilder.create_excel_from_workbook(excel_reduced_clean.workbook_with_formulas, excel_reduced_clean_filepath)\n",
    "ExcelBuilder.create_excel_from_workbook(excel_raw_clean.workbook_with_formulas,  excel_raw_clean_filepath)\n",
    "\n",
    "extracted_tables, workbook_data = TableExtractor.extract_tables(excel_reduced_clean)\n",
    "is_compatible = ExcelCompatibilityChecker.check_file(excel_raw, excel_reduced, extracted_tables)\n",
    "if not is_compatible:\n",
    "    raise Exception(\"Excel file is not compatible\")\n",
    "\n",
    "series_dict = SeriesExtractor.extract_series(extracted_tables=extracted_tables, workbook_data=workbook_data)\n",
    "series_mapping = SeriesMapper.map_series(series_dict)\n",
    "series_iterator = SeriesIterator.iterate_series(series_dict)\n",
    "\n",
    "series_list = [series for series in series_iterator]\n",
    "\n",
    "series_list_with_formulas = [\n",
    "    series for series in series_list if series.formulas != [None, None]\n",
    "]\n",
    "series_list_with_values = [\n",
    "    series for series in series_list if series.formulas == [None, None]\n",
    "]\n",
    "\n",
    "generic_formula_dictionary = {}\n",
    "\n",
    "for series in series_list_with_formulas:\n",
    "    formula_1, formula_2 = SeriesFormulaGenerator.adjust_formulas(\n",
    "        series.formulas\n",
    "    )\n",
    "    if formula_1 is not None and formula_2 is not None:\n",
    "\n",
    "        series_implementer = SeriesImplementer(\n",
    "            series_mapping, sheet_name=series.worksheet.sheet_name\n",
    "        )\n",
    "\n",
    "        formula_1_ast = FormulaParser.parse_formula(formula_1)\n",
    "        formula_1_ast_series = series_implementer.update_ast(formula_1_ast)\n",
    "\n",
    "        formula_2_ast = FormulaParser.parse_formula(formula_2)\n",
    "        formula_2_ast_series = series_implementer.update_ast(formula_2_ast)\n",
    "\n",
    "        generic_formula_ast = FormulaGenerator.traverse_and_replace(formula_1_ast_series, formula_2_ast_series)\n",
    "\n",
    "        generic_formula_dictionary[series.series_id] = generic_formula_ast\n",
    "\n"
   ]
  },
  {
   "cell_type": "code",
   "execution_count": 5,
   "metadata": {},
   "outputs": [],
   "source": [
    "series_values_dict = {str(series.series_id): series.values for series in series_list}"
   ]
  },
  {
   "cell_type": "code",
   "execution_count": 6,
   "metadata": {},
   "outputs": [],
   "source": [
    "series_values_dict_raw = ExcelDataExtractor.extract_series_data_from_excel(excel_raw.workbook_with_values, series_list)"
   ]
  },
  {
   "cell_type": "code",
   "execution_count": 7,
   "metadata": {},
   "outputs": [],
   "source": [
    "series_dependencies = SeriesDependenciesBuilder.build_dependencies(generic_formula_dictionary)"
   ]
  },
  {
   "cell_type": "code",
   "execution_count": 8,
   "metadata": {},
   "outputs": [],
   "source": [
    "sorted_dag = DAGSorter.sort_dag(series_dependencies)"
   ]
  },
  {
   "cell_type": "code",
   "execution_count": 9,
   "metadata": {},
   "outputs": [],
   "source": [
    "import copy\n",
    "\n",
    "def create_series_list_updated_raw(sorted_dag, generic_formula_dictionary, series_dict, series_values_dict_raw, series_list_with_values):\n",
    "\n",
    "    sorted_dag = copy.deepcopy(sorted_dag)\n",
    "    generic_formula_dictionary = copy.deepcopy(generic_formula_dictionary)\n",
    "    series_dict = copy.deepcopy(series_dict)\n",
    "    series_values_dict_raw = copy.deepcopy(series_values_dict_raw)\n",
    "    series_list_with_values = copy.deepcopy(series_list_with_values)\n",
    "\n",
    "    series_list_new_raw = []\n",
    "    for series_id in sorted_dag:\n",
    "        formula_ast = generic_formula_dictionary.get(series_id)\n",
    "\n",
    "        series = SeriesMapper.get_series_from_series_id(series_id, series_dict)\n",
    "        if formula_ast:    \n",
    "            values = get_evaluated_results_from_formula_ast(series_id, formula_ast, series_values_dict_raw)\n",
    "            series.values = values\n",
    "            series.series_length = len(values)\n",
    "            series_list_new_raw.append(series)\n",
    "\n",
    "    series_list_with_values_raw = []\n",
    "\n",
    "    for series in series_list_with_values:\n",
    "        series_id = series.series_id\n",
    "        values = series_values_dict_raw[str(series_id)]\n",
    "        series.values = values\n",
    "        series.series_length = len(values)\n",
    "        series_list_with_values_raw.append(series)\n",
    "\n",
    "    series_list_updated_raw = series_list_new_raw + series_list_with_values_raw\n",
    "\n",
    "    return series_list_updated_raw"
   ]
  },
  {
   "cell_type": "code",
   "execution_count": 10,
   "metadata": {},
   "outputs": [],
   "source": [
    "series_list_updated_raw = create_series_list_updated_raw(sorted_dag, generic_formula_dictionary, series_dict, series_values_dict_raw, series_list_with_values)"
   ]
  },
  {
   "cell_type": "code",
   "execution_count": 11,
   "metadata": {},
   "outputs": [],
   "source": [
    "series_list_updated_reduced = create_series_list_updated_raw(sorted_dag, generic_formula_dictionary, series_dict, series_values_dict, series_list_with_values)"
   ]
  },
  {
   "cell_type": "code",
   "execution_count": 12,
   "metadata": {},
   "outputs": [],
   "source": [
    "ExcelBuilder.create_excel_from_series(series_list_updated_reduced, excel_reduced_clean_series_python_filepath, values_only=True)"
   ]
  },
  {
   "cell_type": "code",
   "execution_count": 13,
   "metadata": {},
   "outputs": [],
   "source": [
    "ExcelBuilder.create_excel_from_series(series_list_updated_raw, excel_raw_clean_series_python_filepath, values_only=True)"
   ]
  },
  {
   "cell_type": "code",
   "execution_count": 14,
   "metadata": {},
   "outputs": [
    {
     "name": "stdout",
     "output_type": "stream",
     "text": [
      "Values in sheet 'VehicleData' are different\n",
      "wb1: Automatic\n",
      "wb2: None\n"
     ]
    },
    {
     "data": {
      "text/plain": [
       "False"
      ]
     },
     "execution_count": 14,
     "metadata": {},
     "output_type": "execute_result"
    }
   ],
   "source": [
    "ExcelChecker.excels_are_equivalent(excel_reduced_clean_series_python_filepath, excel_reduced_clean_filepath)"
   ]
  },
  {
   "cell_type": "code",
   "execution_count": 24,
   "metadata": {},
   "outputs": [
    {
     "data": {
      "text/plain": [
       "True"
      ]
     },
     "execution_count": 24,
     "metadata": {},
     "output_type": "execute_result"
    }
   ],
   "source": [
    "ExcelChecker.excels_are_equivalent(excel_raw_clean_series_python_filepath, excel_raw_clean_filepath)"
   ]
  },
  {
   "cell_type": "markdown",
   "metadata": {},
   "source": []
  }
 ],
 "metadata": {
  "kernelspec": {
   "display_name": "venv",
   "language": "python",
   "name": "python3"
  },
  "language_info": {
   "codemirror_mode": {
    "name": "ipython",
    "version": 3
   },
   "file_extension": ".py",
   "mimetype": "text/x-python",
   "name": "python",
   "nbconvert_exporter": "python",
   "pygments_lexer": "ipython3",
   "version": "3.11.5"
  }
 },
 "nbformat": 4,
 "nbformat_minor": 2
}
