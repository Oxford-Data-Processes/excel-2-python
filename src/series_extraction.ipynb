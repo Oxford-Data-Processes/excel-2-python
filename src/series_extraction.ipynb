{
 "cells": [
  {
   "cell_type": "code",
   "execution_count": 1,
   "metadata": {},
   "outputs": [],
   "source": [
    "from series_extraction.excel_loader import ExcelLoader\n",
    "from series_extraction.excel_validator import ExcelValidator\n",
    "from series_extraction.excel_cleaner import ExcelCleaner\n",
    "from series_extraction.table_finder import TableFinder"
   ]
  },
  {
   "cell_type": "code",
   "execution_count": 2,
   "metadata": {},
   "outputs": [],
   "source": [
    "import os\n",
    "current_directory = os.getcwd()\n",
    "\n",
    "parent_directory = os.path.abspath(os.path.join(current_directory, os.pardir))\n",
    "data_directory = os.path.join(parent_directory, 'data')\n",
    "\n",
    "project_name = 'test_excel_1'\n",
    "\n",
    "excel_raw_file_path = os.path.join(data_directory, \"excel_files_raw\", f\"{project_name}_raw.xlsx\")\n",
    "excel_reduced_filepath = os.path.join(data_directory, \"excel_files_reduced\", f\"{project_name}_reduced.xlsx\")"
   ]
  },
  {
   "cell_type": "code",
   "execution_count": 3,
   "metadata": {},
   "outputs": [],
   "source": [
    "excel_raw= ExcelLoader.load_file(excel_raw_file_path)\n",
    "excel_reduced = ExcelLoader.load_file(excel_reduced_filepath)"
   ]
  },
  {
   "cell_type": "code",
   "execution_count": 4,
   "metadata": {},
   "outputs": [],
   "source": [
    "is_valid = ExcelValidator.validate_excel(excel_reduced)"
   ]
  },
  {
   "cell_type": "code",
   "execution_count": 5,
   "metadata": {},
   "outputs": [],
   "source": [
    "if not is_valid:\n",
    "    raise Exception(\"Excel file is not valid\")"
   ]
  },
  {
   "cell_type": "code",
   "execution_count": 6,
   "metadata": {},
   "outputs": [],
   "source": [
    "excel_reduced_clean = ExcelCleaner.clean_excel(excel_reduced)"
   ]
  },
  {
   "cell_type": "code",
   "execution_count": 7,
   "metadata": {},
   "outputs": [
    {
     "data": {
      "text/plain": [
       "ExcelFile(file_path='/Users/chrislittle/GitHub/speedsheet/excel-2-python/data/excel_files_reduced/test_excel_1_reduced.xlsx', workbook_with_formulas=<openpyxl.workbook.workbook.Workbook object at 0x10b236b10>, workbook_with_values=<openpyxl.workbook.workbook.Workbook object at 0x10b1f3f50>)"
      ]
     },
     "execution_count": 7,
     "metadata": {},
     "output_type": "execute_result"
    }
   ],
   "source": [
    "excel_reduced_clean"
   ]
  },
  {
   "cell_type": "code",
   "execution_count": 8,
   "metadata": {},
   "outputs": [],
   "source": [
    "extracted_tables = TableFinder.find_tables(excel_reduced_clean)"
   ]
  },
  {
   "cell_type": "code",
   "execution_count": 12,
   "metadata": {},
   "outputs": [
    {
     "data": {
      "text/plain": [
       "{Worksheet(sheet_name='Sheet1', workbook_name='/Users/chrislittle/GitHub/speedsheet/excel-2-python/data/excel_files_reduced/test_excel_1_reduced.xlsx', worksheet=None): [Table(name='Sheet1_1', range=CellRange(start_cell=Cell(column=2, row=12, coordinate='B12'), end_cell=Cell(column=4, row=13, coordinate='D13')), header_location=<HeaderLocation.LEFT: 'left'>, header_values=['horizontal_column_1', 'horizontal_column_2']),\n",
       "  Table(name='Sheet1_2', range=CellRange(start_cell=Cell(column=2, row=2, coordinate='B2'), end_cell=Cell(column=5, row=4, coordinate='E4')), header_location=<HeaderLocation.TOP: 'top'>, header_values=['col_1', 'col_2', 'col_3', 'col_4']),\n",
       "  Table(name='Sheet1_3', range=CellRange(start_cell=Cell(column=7, row=13, coordinate='G13'), end_cell=Cell(column=10, row=15, coordinate='J15')), header_location=<HeaderLocation.TOP: 'top'>, header_values=['col_1', 'col_2', 'col_3', 'col_4'])],\n",
       " Worksheet(sheet_name='Sheet2', workbook_name='/Users/chrislittle/GitHub/speedsheet/excel-2-python/data/excel_files_reduced/test_excel_1_reduced.xlsx', worksheet=None): [Table(name='Sheet2_1', range=CellRange(start_cell=Cell(column=1, row=10, coordinate='A10'), end_cell=Cell(column=2, row=12, coordinate='B12')), header_location=<HeaderLocation.TOP: 'top'>, header_values=['col1', 'col2']),\n",
       "  Table(name='Sheet2_2', range=CellRange(start_cell=Cell(column=1, row=2, coordinate='A2'), end_cell=Cell(column=3, row=4, coordinate='C4')), header_location=<HeaderLocation.LEFT: 'left'>, header_values=['horizontal_col_1', 'horizontal_col_2', 'horizontal_col_3'])],\n",
       " Worksheet(sheet_name='Sheet3', workbook_name='/Users/chrislittle/GitHub/speedsheet/excel-2-python/data/excel_files_reduced/test_excel_1_reduced.xlsx', worksheet=None): [Table(name='Sheet3_1', range=CellRange(start_cell=Cell(column=1, row=1, coordinate='A1'), end_cell=Cell(column=5, row=3, coordinate='E3')), header_location=<HeaderLocation.TOP: 'top'>, header_values=['col_1', 'col_2', 'col_3', 'col_4', 'col_5'])]}"
      ]
     },
     "execution_count": 12,
     "metadata": {},
     "output_type": "execute_result"
    }
   ],
   "source": [
    "extracted_tables"
   ]
  },
  {
   "cell_type": "code",
   "execution_count": null,
   "metadata": {},
   "outputs": [],
   "source": []
  }
 ],
 "metadata": {
  "kernelspec": {
   "display_name": "venv",
   "language": "python",
   "name": "python3"
  },
  "language_info": {
   "codemirror_mode": {
    "name": "ipython",
    "version": 3
   },
   "file_extension": ".py",
   "mimetype": "text/x-python",
   "name": "python",
   "nbconvert_exporter": "python",
   "pygments_lexer": "ipython3",
   "version": "3.11.5"
  }
 },
 "nbformat": 4,
 "nbformat_minor": 2
}
