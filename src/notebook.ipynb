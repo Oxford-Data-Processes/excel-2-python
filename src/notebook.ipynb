{
 "cells": [
  {
   "cell_type": "code",
   "execution_count": 1,
   "metadata": {},
   "outputs": [],
   "source": [
    "import os\n",
    "import xlcalculator\n",
    "import re\n",
    "\n",
    "\n",
    "from series_extraction.excel_loader import ExcelLoader\n",
    "from series_extraction.excel_validator import ExcelValidator\n",
    "from series_extraction.excel_cleaner import ExcelCleaner\n",
    "from series_extraction.table_finder import TableFinder\n",
    "from series_extraction.series_extractor import SeriesExtractor\n",
    "from series_extraction.excel_compatibility_checker import ExcelCompatibilityChecker\n",
    "from series_extraction.series_iterator import SeriesIterator\n",
    "from series_extraction.series_mapper import SeriesMapper\n",
    "\n",
    "from ast_building.formula_parser import FormulaParser\n",
    "from ast_building.series_implementer import SeriesImplementer\n",
    "\n",
    "from formula_visualiser import FormulaVisualiser\n"
   ]
  },
  {
   "cell_type": "code",
   "execution_count": 2,
   "metadata": {},
   "outputs": [],
   "source": [
    "current_directory = os.getcwd()\n",
    "\n",
    "parent_directory = os.path.abspath(os.path.join(current_directory, os.pardir))\n",
    "data_directory = os.path.join(parent_directory, 'data')\n",
    "\n",
    "project_name = 'test_excel_1'\n",
    "\n",
    "excel_raw_file_path = os.path.join(data_directory, \"excel_files_raw\", f\"{project_name}_raw.xlsx\")\n",
    "excel_reduced_filepath = os.path.join(data_directory, \"excel_files_reduced\", f\"{project_name}_reduced.xlsx\")"
   ]
  },
  {
   "cell_type": "code",
   "execution_count": 3,
   "metadata": {},
   "outputs": [],
   "source": [
    "excel_raw= ExcelLoader.load_file(excel_raw_file_path)\n",
    "excel_reduced = ExcelLoader.load_file(excel_reduced_filepath)"
   ]
  },
  {
   "cell_type": "code",
   "execution_count": 4,
   "metadata": {},
   "outputs": [],
   "source": [
    "is_valid = ExcelValidator.validate_excel(excel_reduced)"
   ]
  },
  {
   "cell_type": "code",
   "execution_count": 5,
   "metadata": {},
   "outputs": [],
   "source": [
    "if not is_valid:\n",
    "    raise Exception(\"Excel file is not valid\")"
   ]
  },
  {
   "cell_type": "code",
   "execution_count": 6,
   "metadata": {},
   "outputs": [],
   "source": [
    "excel_reduced_clean = ExcelCleaner.clean_excel(excel_reduced)"
   ]
  },
  {
   "cell_type": "code",
   "execution_count": 7,
   "metadata": {},
   "outputs": [],
   "source": [
    "extracted_tables, data = TableFinder.find_tables(excel_reduced_clean)"
   ]
  },
  {
   "cell_type": "code",
   "execution_count": 8,
   "metadata": {},
   "outputs": [],
   "source": [
    "series_data = SeriesExtractor.extract_table_details(extracted_tables, data)"
   ]
  },
  {
   "cell_type": "code",
   "execution_count": 9,
   "metadata": {},
   "outputs": [],
   "source": [
    "is_compatible = ExcelCompatibilityChecker.check_file(excel_raw, excel_reduced, extracted_tables)"
   ]
  },
  {
   "cell_type": "code",
   "execution_count": 10,
   "metadata": {},
   "outputs": [],
   "source": [
    "if not is_compatible:\n",
    "    raise Exception(\"Excel file is not compatible\")"
   ]
  },
  {
   "cell_type": "code",
   "execution_count": 11,
   "metadata": {},
   "outputs": [],
   "source": [
    "series_dict = SeriesExtractor.extract_series(extracted_tables=extracted_tables, data=data)"
   ]
  },
  {
   "cell_type": "code",
   "execution_count": 12,
   "metadata": {},
   "outputs": [],
   "source": [
    "series_mapping = SeriesMapper.map_series(series_dict)"
   ]
  },
  {
   "cell_type": "code",
   "execution_count": 13,
   "metadata": {},
   "outputs": [],
   "source": [
    "series_iterator = SeriesIterator.iterate_series(series_dict)"
   ]
  },
  {
   "cell_type": "code",
   "execution_count": 14,
   "metadata": {},
   "outputs": [],
   "source": [
    "series_list = [series for series in series_iterator if series.formulas != [None, None]]"
   ]
  },
  {
   "cell_type": "code",
   "execution_count": 15,
   "metadata": {},
   "outputs": [],
   "source": [
    "for series in series_list:\n",
    "    formula_1 = series.formulas[0]\n",
    "    formula_1_ast = FormulaParser.parse_formula(formula_1)\n",
    "    series_implementer = SeriesImplementer(series_mapping, sheet_name = series.worksheet.sheet_name)\n",
    "    formula_1_ast_series = series_implementer.replace_range_nodes(formula_1_ast)\n",
    "\n",
    "    formula_2 = series.formulas[1]\n",
    "    formula_2_ast = FormulaParser.parse_formula(formula_2)\n",
    "    formula_2_ast_series = series_implementer.replace_range_nodes(formula_2_ast)"
   ]
  },
  {
   "cell_type": "code",
   "execution_count": 25,
   "metadata": {},
   "outputs": [],
   "source": [
    "class ASTGenerator:\n",
    "    def __init__(self, formula_1_ast_series: xlcalculator.ast_nodes.ASTNode, formula_2_ast_series: xlcalculator.ast_nodes.ASTNode):\n",
    "        self.formula_1_ast_series = formula_1_ast_series\n",
    "        self.formula_2_ast_series = formula_2_ast_series\n",
    "\n",
    "    @staticmethod\n",
    "    def get_delta_between_nodes(node1_value: str, node2_value: str):\n",
    "        def check_string(s):\n",
    "            pattern = r\"_\\d_\\d$\"\n",
    "            return bool(re.search(pattern, s))\n",
    "\n",
    "        if node1_value == node2_value:\n",
    "            return None\n",
    "        elif check_string(node1_value) and check_string(node2_value) and node1_value[:-4] == node2_value[:-4]:\n",
    "            node_1_start_index = int(node1_value[-3])\n",
    "            node_1_end_index = int(node1_value[-1])\n",
    "            node_2_start_index = int(node2_value[-3])\n",
    "            node_2_end_index = int(node2_value[-1])\n",
    "            if node_1_start_index != node_2_start_index or node_1_end_index != node_2_end_index:\n",
    "                start_index_delta = node_2_start_index - node_1_start_index\n",
    "                end_index_delta = node_2_end_index - node_1_end_index\n",
    "                return (start_index_delta, end_index_delta)\n",
    "\n",
    "    def apply_deltas_to_range_nodes(self, node1: xlcalculator.ast_nodes.ASTNode, node2: xlcalculator.ast_nodes.ASTNode):\n",
    "        if isinstance(node1, xlcalculator.ast_nodes.RangeNode) and isinstance(node2, xlcalculator.ast_nodes.RangeNode):\n",
    "            deltas = self.get_delta_between_nodes(node1.tvalue, node2.tvalue)\n",
    "            if deltas:\n",
    "                start_index_delta, end_index_delta = deltas\n",
    "                new_tvalue = f\"{node1.tvalue[:-4]}_{start_index_delta}_{end_index_delta}_{node1.tvalue[-3]}\"\n",
    "                return xlcalculator.ast_nodes.RangeNode(xlcalculator.tokenizer.f_token(tvalue=new_tvalue, ttype=\"operand\", tsubtype=\"range\"))\n",
    "            else:\n",
    "                return node1\n",
    "\n",
    "        elif hasattr(node1, 'args') and isinstance(node1, xlcalculator.ast_nodes.FunctionNode):\n",
    "            modified_args = [self.apply_deltas_to_range_nodes(arg, node2.args[i]) for i, arg in enumerate(node1.args)]\n",
    "            modified_node = xlcalculator.ast_nodes.FunctionNode(node1.token)\n",
    "            modified_node.args = modified_args\n",
    "            return modified_node\n",
    "\n",
    "        elif hasattr(node1, 'left') and isinstance(node1, xlcalculator.ast_nodes.OperatorNode):\n",
    "            modified_left = self.apply_deltas_to_range_nodes(node1.left, node2.left) if node1.left else None\n",
    "            modified_right = self.apply_deltas_to_range_nodes(node1.right, node2.right) if node1.right else None\n",
    "            modified_node = xlcalculator.ast_nodes.OperatorNode(node1.token)\n",
    "            modified_node.left = modified_left\n",
    "            modified_node.right = modified_right\n",
    "            return modified_node\n",
    "\n",
    "        else:\n",
    "            return node1\n",
    "\n",
    "    def get_ast_with_deltas(self):\n",
    "        return self.apply_deltas_to_range_nodes(self.formula_1_ast_series, self.formula_2_ast_series)\n",
    "\n",
    "\n",
    "\n",
    "class FormulaGenerator:\n",
    "    \"\"\"Creates instances of ASTGenerator given two formula_ast objects\"\"\"\n",
    "\n",
    "    @staticmethod\n",
    "    def get_ast_generator(\n",
    "        formula_1_ast_series: xlcalculator.ast_nodes.ASTNode, formula_2_ast_series: xlcalculator.ast_nodes.ASTNode\n",
    "    ) -> ASTGenerator:\n",
    "        \"\"\"Create an instance of ASTGenerator given two formula_ast objects\"\"\"\n",
    "        ast_generator = ASTGenerator(formula_1_ast_series, formula_2_ast_series)\n",
    "        return ast_generator\n",
    "        \n"
   ]
  },
  {
   "cell_type": "code",
   "execution_count": 26,
   "metadata": {},
   "outputs": [
    {
     "name": "stdout",
     "output_type": "stream",
     "text": [
      "(fd3cfc4496014015af0b9c339f29dc7c_0_0) * (9106ff7eb22146ab9b810c0aa0b81814_0_0)\n",
      "(fd3cfc4496014015af0b9c339f29dc7c_1_1) * (9106ff7eb22146ab9b810c0aa0b81814_1_1)\n"
     ]
    }
   ],
   "source": [
    "print(formula_1_ast_series)\n",
    "print(formula_2_ast_series)"
   ]
  },
  {
   "cell_type": "code",
   "execution_count": 27,
   "metadata": {},
   "outputs": [],
   "source": [
    "ast_generator = FormulaGenerator.get_ast_generator(formula_1_ast_series, formula_2_ast_series)"
   ]
  },
  {
   "cell_type": "code",
   "execution_count": 28,
   "metadata": {},
   "outputs": [],
   "source": [
    "ast_delta = ast_generator.get_ast_with_deltas()"
   ]
  },
  {
   "cell_type": "code",
   "execution_count": 30,
   "metadata": {},
   "outputs": [
    {
     "data": {
      "text/plain": [
       "'(fd3cfc4496014015af0b9c339f29dc7c_1_1_0 * 9106ff7eb22146ab9b810c0aa0b81814_1_1_0)'"
      ]
     },
     "execution_count": 30,
     "metadata": {},
     "output_type": "execute_result"
    }
   ],
   "source": [
    "SeriesImplementer.serialise_ast_to_formula(ast_delta)"
   ]
  },
  {
   "cell_type": "code",
   "execution_count": null,
   "metadata": {},
   "outputs": [],
   "source": []
  }
 ],
 "metadata": {
  "kernelspec": {
   "display_name": "venv",
   "language": "python",
   "name": "python3"
  },
  "language_info": {
   "codemirror_mode": {
    "name": "ipython",
    "version": 3
   },
   "file_extension": ".py",
   "mimetype": "text/x-python",
   "name": "python",
   "nbconvert_exporter": "python",
   "pygments_lexer": "ipython3",
   "version": "3.11.5"
  }
 },
 "nbformat": 4,
 "nbformat_minor": 2
}
