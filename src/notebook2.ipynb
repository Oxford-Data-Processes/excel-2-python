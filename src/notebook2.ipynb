{
 "cells": [
  {
   "cell_type": "code",
   "execution_count": 52,
   "metadata": {},
   "outputs": [],
   "source": [
    "# Build a formula evaluator"
   ]
  },
  {
   "cell_type": "code",
   "execution_count": 53,
   "metadata": {},
   "outputs": [],
   "source": [
    "import pickle\n",
    "\n",
    "def load_pickled_object(file_path):\n",
    "    with open(file_path, 'rb') as file:\n",
    "        obj = pickle.load(file)\n",
    "    return obj"
   ]
  },
  {
   "cell_type": "code",
   "execution_count": 54,
   "metadata": {},
   "outputs": [],
   "source": [
    "generic_formula_dictionary = load_pickled_object('generic_formula_dictionary.pkl')\n",
    "series_dict = load_pickled_object('series_dict.pkl')"
   ]
  },
  {
   "cell_type": "code",
   "execution_count": 55,
   "metadata": {},
   "outputs": [
    {
     "data": {
      "text/plain": [
       "[Series(series_id=SeriesId(sheet_name='Sheet1', series_header='col_1', series_header_cell_row=2, series_header_cell_column=2), worksheet=Worksheet(sheet_name='Sheet1', workbook_file_path=None, worksheet=None), series_header='col_1', formulas=[None, None], values=[1, 3], header_location=<HeaderLocation.TOP: 'top'>, series_starting_cell=Cell(column=2, row=3, coordinate='B3', sheet_name=None, value=None, value_type=None, formula=None), series_length=2, series_data_type=<SeriesDataType.INT: 'int'>),\n",
       " Series(series_id=SeriesId(sheet_name='Sheet1', series_header='col_2', series_header_cell_row=2, series_header_cell_column=3), worksheet=Worksheet(sheet_name='Sheet1', workbook_file_path=None, worksheet=None), series_header='col_2', formulas=[None, None], values=[2, 4], header_location=<HeaderLocation.TOP: 'top'>, series_starting_cell=Cell(column=3, row=3, coordinate='C3', sheet_name=None, value=None, value_type=None, formula=None), series_length=2, series_data_type=<SeriesDataType.INT: 'int'>),\n",
       " Series(series_id=SeriesId(sheet_name='Sheet1', series_header='col_3', series_header_cell_row=2, series_header_cell_column=4), worksheet=Worksheet(sheet_name='Sheet1', workbook_file_path=None, worksheet=None), series_header='col_3', formulas=['=Sheet1!B3+Sheet1!C3', '=Sheet1!B4+Sheet1!C4'], values=[3, 7], header_location=<HeaderLocation.TOP: 'top'>, series_starting_cell=Cell(column=4, row=3, coordinate='D3', sheet_name=None, value=None, value_type=None, formula=None), series_length=2, series_data_type=<SeriesDataType.INT: 'int'>),\n",
       " Series(series_id=SeriesId(sheet_name='Sheet1', series_header='col_4', series_header_cell_row=2, series_header_cell_column=5), worksheet=Worksheet(sheet_name='Sheet1', workbook_file_path=None, worksheet=None), series_header='col_4', formulas=['=SUM(Sheet1!B3:D3)', '=SUM(Sheet1!B4:D4)'], values=[6, 14], header_location=<HeaderLocation.TOP: 'top'>, series_starting_cell=Cell(column=5, row=3, coordinate='E3', sheet_name=None, value=None, value_type=None, formula=None), series_length=2, series_data_type=<SeriesDataType.INT: 'int'>),\n",
       " Series(series_id=SeriesId(sheet_name='Sheet1', series_header='col_1', series_header_cell_row=13, series_header_cell_column=7), worksheet=Worksheet(sheet_name='Sheet1', workbook_file_path=None, worksheet=None), series_header='col_1', formulas=[None, None], values=[1, 3], header_location=<HeaderLocation.TOP: 'top'>, series_starting_cell=Cell(column=7, row=14, coordinate='G14', sheet_name=None, value=None, value_type=None, formula=None), series_length=2, series_data_type=<SeriesDataType.INT: 'int'>),\n",
       " Series(series_id=SeriesId(sheet_name='Sheet1', series_header='col_2', series_header_cell_row=13, series_header_cell_column=8), worksheet=Worksheet(sheet_name='Sheet1', workbook_file_path=None, worksheet=None), series_header='col_2', formulas=[None, None], values=[2, 4], header_location=<HeaderLocation.TOP: 'top'>, series_starting_cell=Cell(column=8, row=14, coordinate='H14', sheet_name=None, value=None, value_type=None, formula=None), series_length=2, series_data_type=<SeriesDataType.INT: 'int'>),\n",
       " Series(series_id=SeriesId(sheet_name='Sheet1', series_header='col_3', series_header_cell_row=13, series_header_cell_column=9), worksheet=Worksheet(sheet_name='Sheet1', workbook_file_path=None, worksheet=None), series_header='col_3', formulas=['=Sheet1!G14+Sheet1!H14', '=Sheet1!G15+Sheet1!H15'], values=[3, 7], header_location=<HeaderLocation.TOP: 'top'>, series_starting_cell=Cell(column=9, row=14, coordinate='I14', sheet_name=None, value=None, value_type=None, formula=None), series_length=2, series_data_type=<SeriesDataType.INT: 'int'>),\n",
       " Series(series_id=SeriesId(sheet_name='Sheet1', series_header='col_4', series_header_cell_row=13, series_header_cell_column=10), worksheet=Worksheet(sheet_name='Sheet1', workbook_file_path=None, worksheet=None), series_header='col_4', formulas=['=SUM(Sheet1!G14:Sheet1!I14)', '=SUM(Sheet1!G15:Sheet1!I15)'], values=[6, 14], header_location=<HeaderLocation.TOP: 'top'>, series_starting_cell=Cell(column=10, row=14, coordinate='J14', sheet_name=None, value=None, value_type=None, formula=None), series_length=2, series_data_type=<SeriesDataType.INT: 'int'>),\n",
       " Series(series_id=SeriesId(sheet_name='Sheet1', series_header='horizontal_column_1', series_header_cell_row=12, series_header_cell_column=2), worksheet=Worksheet(sheet_name='Sheet1', workbook_file_path=None, worksheet=None), series_header='horizontal_column_1', formulas=[None, None], values=[1, 2], header_location=<HeaderLocation.LEFT: 'left'>, series_starting_cell=Cell(column=3, row=12, coordinate='C12', sheet_name=None, value=None, value_type=None, formula=None), series_length=2, series_data_type=<SeriesDataType.INT: 'int'>),\n",
       " Series(series_id=SeriesId(sheet_name='Sheet1', series_header='horizontal_column_2', series_header_cell_row=13, series_header_cell_column=2), worksheet=Worksheet(sheet_name='Sheet1', workbook_file_path=None, worksheet=None), series_header='horizontal_column_2', formulas=['=C12*2', '=D12*2'], values=[2, 4], header_location=<HeaderLocation.LEFT: 'left'>, series_starting_cell=Cell(column=3, row=13, coordinate='C13', sheet_name=None, value=None, value_type=None, formula=None), series_length=2, series_data_type=<SeriesDataType.INT: 'int'>)]"
      ]
     },
     "execution_count": 55,
     "metadata": {},
     "output_type": "execute_result"
    }
   ],
   "source": [
    "series_dict[\"Sheet1\"]"
   ]
  },
  {
   "cell_type": "code",
   "execution_count": 56,
   "metadata": {},
   "outputs": [],
   "source": [
    "import pandas as pd\n",
    "import xlcalculator\n",
    "import ast\n",
    "import copy\n",
    "import xlcalculator.ast_nodes as ast_nodes\n",
    "import xlcalculator.tokenizer as tokenizer\n",
    "\n",
    "\n",
    "\n",
    "class FormulaEvaluator:\n",
    "\n",
    "    def __init__(self, series_dict):\n",
    "        self.local_env = {\"SUM\": self.SUM}\n",
    "        self.series_dict = series_dict\n",
    "\n",
    "    def get_values_from_series(self, series_tuple):\n",
    "        series_ids, indexes, _ = series_tuple\n",
    "        series_values = self.series_dict[series_ids[0]]\n",
    "        start_index, end_index = indexes\n",
    "        return series_values[start_index:end_index]\n",
    "\n",
    "    def SUM(self, series_tuple_string: str):\n",
    "        series_tuple = ast.literal_eval(series_tuple_string)\n",
    "        return sum(self.get_values_from_series(series_tuple))\n",
    "\n",
    "    def evaluate_sum(self, sum_formula: str):\n",
    "        tree = ast.parse(sum_formula, mode=\"eval\")\n",
    "        compiled = compile(tree, filename=\"<ast>\", mode=\"eval\")\n",
    "        result = eval(compiled, {\"__builtins__\": {}}, self.local_env)\n",
    "        return result\n",
    "\n",
    "class FormulaListGenerator:\n",
    "    def __init__(self, formula_ast):\n",
    "        self.formula_ast = formula_ast\n",
    "\n",
    "    def adjust_indices(self, node, index_increment):\n",
    "        if isinstance(node, ast_nodes.FunctionNode):\n",
    "            self.adjust_function_node_indices(node, index_increment)\n",
    "        elif hasattr(node, 'left') and hasattr(node, 'right'):\n",
    "            self.adjust_indices(node.left, index_increment)\n",
    "            self.adjust_indices(node.right, index_increment)\n",
    "\n",
    "    def adjust_function_node_indices(self, node, index_increment):\n",
    "        new_args = []\n",
    "        for arg in node.args:\n",
    "            new_args.append(self.adjust_operand_node(arg, index_increment) if isinstance(arg, ast_nodes.OperandNode) else arg)\n",
    "        node.args = new_args\n",
    "\n",
    "    def adjust_operand_node(self, arg, index_increment):\n",
    "        parts = ast.literal_eval(arg.tvalue)\n",
    "        series_tuple, indexes, deltas = parts\n",
    "        updated_indexes = (indexes[0] + index_increment, indexes[1] + index_increment)\n",
    "        updated_tvalue = f\"(({repr(series_tuple[0])},), {updated_indexes}, {deltas})\"\n",
    "        return ast_nodes.OperandNode(tokenizer.f_token(tvalue=updated_tvalue, ttype=\"operand\", tsubtype=\"text\"))\n",
    "\n",
    "    def generate_formulas_list(self, start_index: int, end_index: int):\n",
    "        return [self.generate_single_formula(i) for i in range(start_index, end_index + 1)]\n",
    "\n",
    "    def generate_single_formula(self, index_increment):\n",
    "        new_ast = copy.deepcopy(self.formula_ast)\n",
    "        self.adjust_indices(new_ast, index_increment)\n",
    "        return new_ast\n"
   ]
  },
  {
   "cell_type": "code",
   "execution_count": 57,
   "metadata": {},
   "outputs": [],
   "source": [
    "import xlcalculator.ast_nodes as ast_nodes\n",
    "import xlcalculator.tokenizer as tokenizer\n",
    "\n",
    "# Define the formula\n",
    "formula = '(SUM(\"((\\'Sheet1|col_1|2|2\\',), (0, 1), (1, 1))\")) + (SUM(\"((\\'Sheet1|col_2|2|3\\',), (0, 1), (1, 1))\"))'\n",
    "\n",
    "formula_ast = ast_nodes.OperatorNode(tokenizer.f_token(\n",
    "    tvalue='+', ttype='operator-infix', tsubtype=''\n",
    "))\n",
    "\n",
    "formula_ast.left = ast_nodes.FunctionNode(tokenizer.f_token(\n",
    "    tvalue=\"SUM\", ttype=\"function\", tsubtype=\"\"\n",
    "))\n",
    "\n",
    "formula_ast.left.args = [\n",
    "    ast_nodes.OperandNode(tokenizer.f_token(\n",
    "        tvalue=\"(('Sheet1|col_1|2|2',), (0, 1), (1, 1))\", ttype=\"operand\", tsubtype=\"text\"\n",
    "    ))\n",
    "]\n",
    "\n",
    "formula_ast.right = ast_nodes.FunctionNode(tokenizer.f_token(\n",
    "    tvalue=\"SUM\", ttype=\"function\", tsubtype=\"\"\n",
    "))\n",
    "\n",
    "formula_ast.right.args = [\n",
    "    ast_nodes.OperandNode(tokenizer.f_token(\n",
    "        tvalue=\"(('Sheet1|col_2|2|3',), (0, 1), (1, 1))\", ttype=\"operand\", tsubtype=\"text\"\n",
    "    ))\n",
    "]"
   ]
  },
  {
   "cell_type": "code",
   "execution_count": 58,
   "metadata": {},
   "outputs": [],
   "source": [
    "# Instantiate the formula list generator with the created AST\n",
    "generator = FormulaListGenerator(formula_ast)\n",
    "\n",
    "# Generate a list of formulas adjusting indices from 0 to 2\n",
    "formula_list = generator.generate_formulas_list(0, 2)\n",
    "\n",
    "# The formula list now contains ASTs for SUM operation with adjusted indices\n"
   ]
  },
  {
   "cell_type": "code",
   "execution_count": 59,
   "metadata": {},
   "outputs": [],
   "source": [
    "# Instantiate the formula evaluator\n",
    "evaluator = FormulaEvaluator(# Series dictionary for example data\n",
    "series_dict = {\n",
    "    \"Sheet1|col_1|2|2\": pd.Series([1, 2, 3, 4, 5]),\n",
    "    \"Sheet1|col_2|2|3\": pd.Series([6, 7, 8, 9, 10])\n",
    "})\n",
    "\n",
    "\n",
    "result = evaluator.evaluate_sum(str(formula_list[0]))"
   ]
  },
  {
   "cell_type": "code",
   "execution_count": 60,
   "metadata": {},
   "outputs": [
    {
     "data": {
      "text/plain": [
       "7"
      ]
     },
     "execution_count": 60,
     "metadata": {},
     "output_type": "execute_result"
    }
   ],
   "source": [
    "result"
   ]
  },
  {
   "cell_type": "code",
   "execution_count": null,
   "metadata": {},
   "outputs": [],
   "source": []
  }
 ],
 "metadata": {
  "kernelspec": {
   "display_name": "venv",
   "language": "python",
   "name": "python3"
  },
  "language_info": {
   "codemirror_mode": {
    "name": "ipython",
    "version": 3
   },
   "file_extension": ".py",
   "mimetype": "text/x-python",
   "name": "python",
   "nbconvert_exporter": "python",
   "pygments_lexer": "ipython3",
   "version": "3.11.5"
  }
 },
 "nbformat": 4,
 "nbformat_minor": 2
}
