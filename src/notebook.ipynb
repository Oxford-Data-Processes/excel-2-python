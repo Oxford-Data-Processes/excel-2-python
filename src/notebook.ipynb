{
 "cells": [
  {
   "cell_type": "code",
   "execution_count": 1,
   "metadata": {},
   "outputs": [],
   "source": [
    "import os\n",
    "\n",
    "from series_extraction.excel_loader import ExcelLoader\n",
    "from series_extraction.excel_validator import ExcelValidator\n",
    "from series_extraction.excel_cleaner import ExcelCleaner\n",
    "from series_extraction.table_finder import TableFinder\n",
    "from series_extraction.series_extractor import SeriesExtractor\n",
    "from series_extraction.excel_compatibility_checker import ExcelCompatibilityChecker\n",
    "from series_extraction.series_iterator import SeriesIterator\n",
    "from series_extraction.series_mapper import SeriesMapper\n",
    "\n",
    "from ast_building.formula_parser import FormulaParser\n",
    "from ast_building.series_implementer import SeriesImplementer\n",
    "\n",
    "from ast_transformation.formula_generator import FormulaGenerator"
   ]
  },
  {
   "cell_type": "code",
   "execution_count": 2,
   "metadata": {},
   "outputs": [],
   "source": [
    "current_directory = os.getcwd()\n",
    "\n",
    "parent_directory = os.path.abspath(os.path.join(current_directory, os.pardir))\n",
    "data_directory = os.path.join(parent_directory, 'data')\n",
    "\n",
    "project_name = 'test_excel_2'\n",
    "\n",
    "excel_raw_file_path = os.path.join(data_directory, \"excel_files_raw\", f\"{project_name}_raw.xlsx\")\n",
    "excel_reduced_filepath = os.path.join(data_directory, \"excel_files_reduced\", f\"{project_name}_reduced.xlsx\")"
   ]
  },
  {
   "cell_type": "code",
   "execution_count": 3,
   "metadata": {},
   "outputs": [],
   "source": [
    "excel_raw= ExcelLoader.load_file(excel_raw_file_path)\n",
    "excel_reduced = ExcelLoader.load_file(excel_reduced_filepath)"
   ]
  },
  {
   "cell_type": "code",
   "execution_count": 4,
   "metadata": {},
   "outputs": [],
   "source": [
    "is_valid = ExcelValidator.validate_excel(excel_reduced)"
   ]
  },
  {
   "cell_type": "code",
   "execution_count": 5,
   "metadata": {},
   "outputs": [],
   "source": [
    "if not is_valid:\n",
    "    raise Exception(\"Excel file is not valid\")"
   ]
  },
  {
   "cell_type": "code",
   "execution_count": 6,
   "metadata": {},
   "outputs": [],
   "source": [
    "excel_reduced_clean = ExcelCleaner.clean_excel(excel_reduced)"
   ]
  },
  {
   "cell_type": "code",
   "execution_count": 7,
   "metadata": {},
   "outputs": [],
   "source": [
    "extracted_tables, data = TableFinder.find_tables(excel_reduced_clean)"
   ]
  },
  {
   "cell_type": "code",
   "execution_count": 8,
   "metadata": {},
   "outputs": [],
   "source": [
    "series_data = SeriesExtractor.extract_table_details(extracted_tables, data)"
   ]
  },
  {
   "cell_type": "code",
   "execution_count": 9,
   "metadata": {},
   "outputs": [],
   "source": [
    "is_compatible = ExcelCompatibilityChecker.check_file(excel_raw, excel_reduced, extracted_tables)"
   ]
  },
  {
   "cell_type": "code",
   "execution_count": 10,
   "metadata": {},
   "outputs": [],
   "source": [
    "if not is_compatible:\n",
    "    raise Exception(\"Excel file is not compatible\")"
   ]
  },
  {
   "cell_type": "code",
   "execution_count": 11,
   "metadata": {},
   "outputs": [],
   "source": [
    "series_dict = SeriesExtractor.extract_series(extracted_tables=extracted_tables, data=data)"
   ]
  },
  {
   "cell_type": "code",
   "execution_count": 12,
   "metadata": {},
   "outputs": [
    {
     "data": {
      "text/plain": [
       "{'summary': [Series(series_id='summary|Vehicle Reg|1|3', worksheet=Worksheet(sheet_name='summary', workbook_file_path=None, worksheet=None), series_header='Vehicle Reg', formulas=['=A2', '=A3'], values=['FG20VLN', 'FH19VRE'], header_location=<HeaderLocation.TOP: 'top'>, series_starting_cell=Cell(column=3, row=2, coordinate='C2', value=None, value_type=None), series_length=2, series_data_type=<SeriesDataType.STR: 'str'>),\n",
       "  Series(series_id='summary|TGB Cost (No VAT) |1|4', worksheet=Worksheet(sheet_name='summary', workbook_file_path=None, worksheet=None), series_header='TGB Cost (No VAT) ', formulas=['=-SUMIF(parking!A:A,C2,parking!C:C)', '=-SUMIF(parking!A:A,C3,parking!C:C)'], values=[0, 0], header_location=<HeaderLocation.TOP: 'top'>, series_starting_cell=Cell(column=4, row=2, coordinate='D2', value=None, value_type=None), series_length=2, series_data_type=<SeriesDataType.INT: 'int'>),\n",
       "  Series(series_id='summary|Vehicle Reg |1|1', worksheet=Worksheet(sheet_name='summary', workbook_file_path=None, worksheet=None), series_header='Vehicle Reg ', formulas=[None, None], values=['FG20VLN', 'FH19VRE'], header_location=<HeaderLocation.TOP: 'top'>, series_starting_cell=Cell(column=1, row=2, coordinate='A2', value=None, value_type=None), series_length=2, series_data_type=<SeriesDataType.STR: 'str'>),\n",
       "  Series(series_id='summary|Vehicle Reg|1|6', worksheet=Worksheet(sheet_name='summary', workbook_file_path=None, worksheet=None), series_header='Vehicle Reg', formulas=['=A2', '=A3'], values=['FG20VLN', 'FH19VRE'], header_location=<HeaderLocation.TOP: 'top'>, series_starting_cell=Cell(column=6, row=2, coordinate='F2', value=None, value_type=None), series_length=2, series_data_type=<SeriesDataType.STR: 'str'>),\n",
       "  Series(series_id='summary|VAT|1|7', worksheet=Worksheet(sheet_name='summary', workbook_file_path=None, worksheet=None), series_header='VAT', formulas=['=H2-(H2/1.2)', '=H3-(H3/1.2)'], values=[0, 0], header_location=<HeaderLocation.TOP: 'top'>, series_starting_cell=Cell(column=7, row=2, coordinate='G2', value=None, value_type=None), series_length=2, series_data_type=<SeriesDataType.INT: 'int'>),\n",
       "  Series(series_id='summary|TGB Cost (Inc VAT) |1|8', worksheet=Worksheet(sheet_name='summary', workbook_file_path=None, worksheet=None), series_header='TGB Cost (Inc VAT) ', formulas=['=-SUMIF(cleaning!A:A,F2,cleaning!F:F)', '=-SUMIF(cleaning!A:A,F3,cleaning!F:F)'], values=[0, 0], header_location=<HeaderLocation.TOP: 'top'>, series_starting_cell=Cell(column=8, row=2, coordinate='H2', value=None, value_type=None), series_length=2, series_data_type=<SeriesDataType.INT: 'int'>),\n",
       "  Series(series_id='summary|Vehicle Reg|1|10', worksheet=Worksheet(sheet_name='summary', workbook_file_path=None, worksheet=None), series_header='Vehicle Reg', formulas=[None, None], values=['FG20VLN', 'FH19VRE'], header_location=<HeaderLocation.TOP: 'top'>, series_starting_cell=Cell(column=10, row=2, coordinate='J2', value=None, value_type=None), series_length=2, series_data_type=<SeriesDataType.STR: 'str'>),\n",
       "  Series(series_id='summary|Days offline|1|11', worksheet=Worksheet(sheet_name='summary', workbook_file_path=None, worksheet=None), series_header='Days offline', formulas=[None, None], values=[0, 2], header_location=<HeaderLocation.TOP: 'top'>, series_starting_cell=Cell(column=11, row=2, coordinate='K2', value=None, value_type=None), series_length=2, series_data_type=<SeriesDataType.INT: 'int'>)],\n",
       " 'xero': [Series(series_id='xero|Date|1|1', worksheet=Worksheet(sheet_name='xero', workbook_file_path=None, worksheet=None), series_header='Date', formulas=[None, None], values=[44681, 44681], header_location=<HeaderLocation.TOP: 'top'>, series_starting_cell=Cell(column=1, row=2, coordinate='A2', value=None, value_type=None), series_length=2, series_data_type=<SeriesDataType.INT: 'int'>),\n",
       "  Series(series_id='xero|Description|1|2', worksheet=Worksheet(sheet_name='xero', workbook_file_path=None, worksheet=None), series_header='Description', formulas=['=CONCATENATE(summary!A2,\" Parking Recharge\")', '=CONCATENATE(summary!A3,\" Parking Recharge\")'], values=['FG20VLN Parking Recharge', 'FH19VRE Parking Recharge'], header_location=<HeaderLocation.TOP: 'top'>, series_starting_cell=Cell(column=2, row=2, coordinate='B2', value=None, value_type=None), series_length=2, series_data_type=<SeriesDataType.STR: 'str'>),\n",
       "  Series(series_id='xero|Quantity|1|3', worksheet=Worksheet(sheet_name='xero', workbook_file_path=None, worksheet=None), series_header='Quantity', formulas=[None, None], values=[1, 1], header_location=<HeaderLocation.TOP: 'top'>, series_starting_cell=Cell(column=3, row=2, coordinate='C2', value=None, value_type=None), series_length=2, series_data_type=<SeriesDataType.INT: 'int'>),\n",
       "  Series(series_id='xero|UnitAmount|1|4', worksheet=Worksheet(sheet_name='xero', workbook_file_path=None, worksheet=None), series_header='UnitAmount', formulas=['=-ROUND(summary!D2*1.2,2)', '=-ROUND(summary!D3*1.2,2)'], values=[0, 0], header_location=<HeaderLocation.TOP: 'top'>, series_starting_cell=Cell(column=4, row=2, coordinate='D2', value=None, value_type=None), series_length=2, series_data_type=<SeriesDataType.INT: 'int'>),\n",
       "  Series(series_id='xero|TaxAmount|1|5', worksheet=Worksheet(sheet_name='xero', workbook_file_path=None, worksheet=None), series_header='TaxAmount', formulas=['=ROUND(D2/6,2)', '=ROUND(D3/6,2)'], values=[0, 0], header_location=<HeaderLocation.TOP: 'top'>, series_starting_cell=Cell(column=5, row=2, coordinate='E2', value=None, value_type=None), series_length=2, series_data_type=<SeriesDataType.INT: 'int'>),\n",
       "  Series(series_id='xero|AccountCode|1|6', worksheet=Worksheet(sheet_name='xero', workbook_file_path=None, worksheet=None), series_header='AccountCode', formulas=[None, None], values=[4010, 4010], header_location=<HeaderLocation.TOP: 'top'>, series_starting_cell=Cell(column=6, row=2, coordinate='F2', value=None, value_type=None), series_length=2, series_data_type=<SeriesDataType.INT: 'int'>),\n",
       "  Series(series_id='xero|Invoice|1|7', worksheet=Worksheet(sheet_name='xero', workbook_file_path=None, worksheet=None), series_header='Invoice', formulas=['=D2>0', '=D3>0'], values=[False, False], header_location=<HeaderLocation.TOP: 'top'>, series_starting_cell=Cell(column=7, row=2, coordinate='G2', value=None, value_type=None), series_length=2, series_data_type=<SeriesDataType.BOOL: 'bool'>),\n",
       "  Series(series_id='xero|MRG|1|8', worksheet=Worksheet(sheet_name='xero', workbook_file_path=None, worksheet=None), series_header='MRG', formulas=[None, None], values=[False, False], header_location=<HeaderLocation.TOP: 'top'>, series_starting_cell=Cell(column=8, row=2, coordinate='H2', value=None, value_type=None), series_length=2, series_data_type=<SeriesDataType.BOOL: 'bool'>)],\n",
       " 'bookings': [Series(series_id='bookings|ID|1|1', worksheet=Worksheet(sheet_name='bookings', workbook_file_path=None, worksheet=None), series_header='ID', formulas=[None, None], values=[1, 2], header_location=<HeaderLocation.TOP: 'top'>, series_starting_cell=Cell(column=1, row=2, coordinate='A2', value=None, value_type=None), series_length=2, series_data_type=<SeriesDataType.INT: 'int'>),\n",
       "  Series(series_id='bookings|Vehicle ID|1|2', worksheet=Worksheet(sheet_name='bookings', workbook_file_path=None, worksheet=None), series_header='Vehicle ID', formulas=[None, None], values=[14545, 14544], header_location=<HeaderLocation.TOP: 'top'>, series_starting_cell=Cell(column=2, row=2, coordinate='B2', value=None, value_type=None), series_length=2, series_data_type=<SeriesDataType.INT: 'int'>),\n",
       "  Series(series_id='bookings|Booking Reference|1|3', worksheet=Worksheet(sheet_name='bookings', workbook_file_path=None, worksheet=None), series_header='Booking Reference', formulas=[None, None], values=['FX59-QP36-MT73', 'HZ93-YU64-KR64'], header_location=<HeaderLocation.TOP: 'top'>, series_starting_cell=Cell(column=3, row=2, coordinate='C2', value=None, value_type=None), series_length=2, series_data_type=<SeriesDataType.STR: 'str'>),\n",
       "  Series(series_id='bookings|Vrm|1|4', worksheet=Worksheet(sheet_name='bookings', workbook_file_path=None, worksheet=None), series_header='Vrm', formulas=[None, None], values=['WV69OLC', 'WV69OLN'], header_location=<HeaderLocation.TOP: 'top'>, series_starting_cell=Cell(column=4, row=2, coordinate='D2', value=None, value_type=None), series_length=2, series_data_type=<SeriesDataType.STR: 'str'>),\n",
       "  Series(series_id='bookings|Nhs Discount|1|5', worksheet=Worksheet(sheet_name='bookings', workbook_file_path=None, worksheet=None), series_header='Nhs Discount', formulas=[None, None], values=[0, 0], header_location=<HeaderLocation.TOP: 'top'>, series_starting_cell=Cell(column=5, row=2, coordinate='E2', value=None, value_type=None), series_length=2, series_data_type=<SeriesDataType.INT: 'int'>),\n",
       "  Series(series_id='bookings|TGB earnings|1|6', worksheet=Worksheet(sheet_name='bookings', workbook_file_path=None, worksheet=None), series_header='TGB earnings', formulas=[None, None], values=[254.1, 231], header_location=<HeaderLocation.TOP: 'top'>, series_starting_cell=Cell(column=6, row=2, coordinate='F2', value=None, value_type=None), series_length=2, series_data_type=<SeriesDataType.FLOAT: 'float'>)],\n",
       " 'parking': [Series(series_id='parking|Vehicle Reg|1|1', worksheet=Worksheet(sheet_name='parking', workbook_file_path=None, worksheet=None), series_header='Vehicle Reg', formulas=[None, None], values=['FG20UGP', 'WV69OLC'], header_location=<HeaderLocation.TOP: 'top'>, series_starting_cell=Cell(column=1, row=2, coordinate='A2', value=None, value_type=None), series_length=2, series_data_type=<SeriesDataType.STR: 'str'>),\n",
       "  Series(series_id='parking|Total Parking Cost per month|1|2', worksheet=Worksheet(sheet_name='parking', workbook_file_path=None, worksheet=None), series_header='Total Parking Cost per month', formulas=[None, None], values=[148, 23], header_location=<HeaderLocation.TOP: 'top'>, series_starting_cell=Cell(column=2, row=2, coordinate='B2', value=None, value_type=None), series_length=2, series_data_type=<SeriesDataType.INT: 'int'>),\n",
       "  Series(series_id='parking|TGB parking cost|1|3', worksheet=Worksheet(sheet_name='parking', workbook_file_path=None, worksheet=None), series_header='TGB parking cost', formulas=['=B2/2', '=B3/2'], values=[74, 11.5], header_location=<HeaderLocation.TOP: 'top'>, series_starting_cell=Cell(column=3, row=2, coordinate='C2', value=None, value_type=None), series_length=2, series_data_type=<SeriesDataType.INT: 'int'>)],\n",
       " 'cleaning': [Series(series_id='cleaning|VRM|1|1', worksheet=Worksheet(sheet_name='cleaning', workbook_file_path=None, worksheet=None), series_header='VRM', formulas=[None, None], values=['FG20VLU', 'FG20VLK'], header_location=<HeaderLocation.TOP: 'top'>, series_starting_cell=Cell(column=1, row=2, coordinate='A2', value=None, value_type=None), series_length=2, series_data_type=<SeriesDataType.STR: 'str'>),\n",
       "  Series(series_id='cleaning|TGB Liability|1|2', worksheet=Worksheet(sheet_name='cleaning', workbook_file_path=None, worksheet=None), series_header='TGB Liability', formulas=[None, None], values=[0.5, 0.5], header_location=<HeaderLocation.TOP: 'top'>, series_starting_cell=Cell(column=2, row=2, coordinate='B2', value=None, value_type=None), series_length=2, series_data_type=<SeriesDataType.FLOAT: 'float'>),\n",
       "  Series(series_id='cleaning|Description |1|3', worksheet=Worksheet(sheet_name='cleaning', workbook_file_path=None, worksheet=None), series_header='Description ', formulas=[None, None], values=['Inside & Out + Checks', 'Inside & Out + Checks'], header_location=<HeaderLocation.TOP: 'top'>, series_starting_cell=Cell(column=3, row=2, coordinate='C2', value=None, value_type=None), series_length=2, series_data_type=<SeriesDataType.STR: 'str'>),\n",
       "  Series(series_id='cleaning|Total Cost (Ex VAT)|1|4', worksheet=Worksheet(sheet_name='cleaning', workbook_file_path=None, worksheet=None), series_header='Total Cost (Ex VAT)', formulas=[None, None], values=[29, 29], header_location=<HeaderLocation.TOP: 'top'>, series_starting_cell=Cell(column=4, row=2, coordinate='D2', value=None, value_type=None), series_length=2, series_data_type=<SeriesDataType.INT: 'int'>),\n",
       "  Series(series_id='cleaning|Total Cost (inc VAT)|1|5', worksheet=Worksheet(sheet_name='cleaning', workbook_file_path=None, worksheet=None), series_header='Total Cost (inc VAT)', formulas=['=D2*1.2', '=D3*1.2'], values=[34.8, 34.8], header_location=<HeaderLocation.TOP: 'top'>, series_starting_cell=Cell(column=5, row=2, coordinate='E2', value=None, value_type=None), series_length=2, series_data_type=<SeriesDataType.FLOAT: 'float'>),\n",
       "  Series(series_id='cleaning|TGB Cost (Inc VAT)|1|6', worksheet=Worksheet(sheet_name='cleaning', workbook_file_path=None, worksheet=None), series_header='TGB Cost (Inc VAT)', formulas=['=E2*B2', '=E3*B3'], values=[17.4, 17.4], header_location=<HeaderLocation.TOP: 'top'>, series_starting_cell=Cell(column=6, row=2, coordinate='F2', value=None, value_type=None), series_length=2, series_data_type=<SeriesDataType.FLOAT: 'float'>)]}"
      ]
     },
     "execution_count": 12,
     "metadata": {},
     "output_type": "execute_result"
    }
   ],
   "source": [
    "series_dict"
   ]
  },
  {
   "cell_type": "code",
   "execution_count": 13,
   "metadata": {},
   "outputs": [],
   "source": [
    "series_mapping = SeriesMapper.map_series(series_dict)"
   ]
  },
  {
   "cell_type": "code",
   "execution_count": 14,
   "metadata": {},
   "outputs": [
    {
     "data": {
      "text/plain": [
       "{Worksheet(sheet_name='summary', workbook_file_path=None, worksheet=None): {Cell(column=3, row=2, coordinate=None, value=None, value_type=None): (0,\n",
       "   Series(series_id='summary|Vehicle Reg|1|3', worksheet=Worksheet(sheet_name='summary', workbook_file_path=None, worksheet=None), series_header='Vehicle Reg', formulas=['=A2', '=A3'], values=['FG20VLN', 'FH19VRE'], header_location=<HeaderLocation.TOP: 'top'>, series_starting_cell=Cell(column=3, row=2, coordinate='C2', value=None, value_type=None), series_length=2, series_data_type=<SeriesDataType.STR: 'str'>)),\n",
       "  Cell(column=3, row=3, coordinate=None, value=None, value_type=None): (1,\n",
       "   Series(series_id='summary|Vehicle Reg|1|3', worksheet=Worksheet(sheet_name='summary', workbook_file_path=None, worksheet=None), series_header='Vehicle Reg', formulas=['=A2', '=A3'], values=['FG20VLN', 'FH19VRE'], header_location=<HeaderLocation.TOP: 'top'>, series_starting_cell=Cell(column=3, row=2, coordinate='C2', value=None, value_type=None), series_length=2, series_data_type=<SeriesDataType.STR: 'str'>)),\n",
       "  Cell(column=4, row=2, coordinate=None, value=None, value_type=None): (0,\n",
       "   Series(series_id='summary|TGB Cost (No VAT) |1|4', worksheet=Worksheet(sheet_name='summary', workbook_file_path=None, worksheet=None), series_header='TGB Cost (No VAT) ', formulas=['=-SUMIF(parking!A:A,C2,parking!C:C)', '=-SUMIF(parking!A:A,C3,parking!C:C)'], values=[0, 0], header_location=<HeaderLocation.TOP: 'top'>, series_starting_cell=Cell(column=4, row=2, coordinate='D2', value=None, value_type=None), series_length=2, series_data_type=<SeriesDataType.INT: 'int'>)),\n",
       "  Cell(column=4, row=3, coordinate=None, value=None, value_type=None): (1,\n",
       "   Series(series_id='summary|TGB Cost (No VAT) |1|4', worksheet=Worksheet(sheet_name='summary', workbook_file_path=None, worksheet=None), series_header='TGB Cost (No VAT) ', formulas=['=-SUMIF(parking!A:A,C2,parking!C:C)', '=-SUMIF(parking!A:A,C3,parking!C:C)'], values=[0, 0], header_location=<HeaderLocation.TOP: 'top'>, series_starting_cell=Cell(column=4, row=2, coordinate='D2', value=None, value_type=None), series_length=2, series_data_type=<SeriesDataType.INT: 'int'>)),\n",
       "  Cell(column=1, row=2, coordinate=None, value=None, value_type=None): (0,\n",
       "   Series(series_id='summary|Vehicle Reg |1|1', worksheet=Worksheet(sheet_name='summary', workbook_file_path=None, worksheet=None), series_header='Vehicle Reg ', formulas=[None, None], values=['FG20VLN', 'FH19VRE'], header_location=<HeaderLocation.TOP: 'top'>, series_starting_cell=Cell(column=1, row=2, coordinate='A2', value=None, value_type=None), series_length=2, series_data_type=<SeriesDataType.STR: 'str'>)),\n",
       "  Cell(column=1, row=3, coordinate=None, value=None, value_type=None): (1,\n",
       "   Series(series_id='summary|Vehicle Reg |1|1', worksheet=Worksheet(sheet_name='summary', workbook_file_path=None, worksheet=None), series_header='Vehicle Reg ', formulas=[None, None], values=['FG20VLN', 'FH19VRE'], header_location=<HeaderLocation.TOP: 'top'>, series_starting_cell=Cell(column=1, row=2, coordinate='A2', value=None, value_type=None), series_length=2, series_data_type=<SeriesDataType.STR: 'str'>)),\n",
       "  Cell(column=6, row=2, coordinate=None, value=None, value_type=None): (0,\n",
       "   Series(series_id='summary|Vehicle Reg|1|6', worksheet=Worksheet(sheet_name='summary', workbook_file_path=None, worksheet=None), series_header='Vehicle Reg', formulas=['=A2', '=A3'], values=['FG20VLN', 'FH19VRE'], header_location=<HeaderLocation.TOP: 'top'>, series_starting_cell=Cell(column=6, row=2, coordinate='F2', value=None, value_type=None), series_length=2, series_data_type=<SeriesDataType.STR: 'str'>)),\n",
       "  Cell(column=6, row=3, coordinate=None, value=None, value_type=None): (1,\n",
       "   Series(series_id='summary|Vehicle Reg|1|6', worksheet=Worksheet(sheet_name='summary', workbook_file_path=None, worksheet=None), series_header='Vehicle Reg', formulas=['=A2', '=A3'], values=['FG20VLN', 'FH19VRE'], header_location=<HeaderLocation.TOP: 'top'>, series_starting_cell=Cell(column=6, row=2, coordinate='F2', value=None, value_type=None), series_length=2, series_data_type=<SeriesDataType.STR: 'str'>)),\n",
       "  Cell(column=7, row=2, coordinate=None, value=None, value_type=None): (0,\n",
       "   Series(series_id='summary|VAT|1|7', worksheet=Worksheet(sheet_name='summary', workbook_file_path=None, worksheet=None), series_header='VAT', formulas=['=H2-(H2/1.2)', '=H3-(H3/1.2)'], values=[0, 0], header_location=<HeaderLocation.TOP: 'top'>, series_starting_cell=Cell(column=7, row=2, coordinate='G2', value=None, value_type=None), series_length=2, series_data_type=<SeriesDataType.INT: 'int'>)),\n",
       "  Cell(column=7, row=3, coordinate=None, value=None, value_type=None): (1,\n",
       "   Series(series_id='summary|VAT|1|7', worksheet=Worksheet(sheet_name='summary', workbook_file_path=None, worksheet=None), series_header='VAT', formulas=['=H2-(H2/1.2)', '=H3-(H3/1.2)'], values=[0, 0], header_location=<HeaderLocation.TOP: 'top'>, series_starting_cell=Cell(column=7, row=2, coordinate='G2', value=None, value_type=None), series_length=2, series_data_type=<SeriesDataType.INT: 'int'>)),\n",
       "  Cell(column=8, row=2, coordinate=None, value=None, value_type=None): (0,\n",
       "   Series(series_id='summary|TGB Cost (Inc VAT) |1|8', worksheet=Worksheet(sheet_name='summary', workbook_file_path=None, worksheet=None), series_header='TGB Cost (Inc VAT) ', formulas=['=-SUMIF(cleaning!A:A,F2,cleaning!F:F)', '=-SUMIF(cleaning!A:A,F3,cleaning!F:F)'], values=[0, 0], header_location=<HeaderLocation.TOP: 'top'>, series_starting_cell=Cell(column=8, row=2, coordinate='H2', value=None, value_type=None), series_length=2, series_data_type=<SeriesDataType.INT: 'int'>)),\n",
       "  Cell(column=8, row=3, coordinate=None, value=None, value_type=None): (1,\n",
       "   Series(series_id='summary|TGB Cost (Inc VAT) |1|8', worksheet=Worksheet(sheet_name='summary', workbook_file_path=None, worksheet=None), series_header='TGB Cost (Inc VAT) ', formulas=['=-SUMIF(cleaning!A:A,F2,cleaning!F:F)', '=-SUMIF(cleaning!A:A,F3,cleaning!F:F)'], values=[0, 0], header_location=<HeaderLocation.TOP: 'top'>, series_starting_cell=Cell(column=8, row=2, coordinate='H2', value=None, value_type=None), series_length=2, series_data_type=<SeriesDataType.INT: 'int'>)),\n",
       "  Cell(column=10, row=2, coordinate=None, value=None, value_type=None): (0,\n",
       "   Series(series_id='summary|Vehicle Reg|1|10', worksheet=Worksheet(sheet_name='summary', workbook_file_path=None, worksheet=None), series_header='Vehicle Reg', formulas=[None, None], values=['FG20VLN', 'FH19VRE'], header_location=<HeaderLocation.TOP: 'top'>, series_starting_cell=Cell(column=10, row=2, coordinate='J2', value=None, value_type=None), series_length=2, series_data_type=<SeriesDataType.STR: 'str'>)),\n",
       "  Cell(column=10, row=3, coordinate=None, value=None, value_type=None): (1,\n",
       "   Series(series_id='summary|Vehicle Reg|1|10', worksheet=Worksheet(sheet_name='summary', workbook_file_path=None, worksheet=None), series_header='Vehicle Reg', formulas=[None, None], values=['FG20VLN', 'FH19VRE'], header_location=<HeaderLocation.TOP: 'top'>, series_starting_cell=Cell(column=10, row=2, coordinate='J2', value=None, value_type=None), series_length=2, series_data_type=<SeriesDataType.STR: 'str'>)),\n",
       "  Cell(column=11, row=2, coordinate=None, value=None, value_type=None): (0,\n",
       "   Series(series_id='summary|Days offline|1|11', worksheet=Worksheet(sheet_name='summary', workbook_file_path=None, worksheet=None), series_header='Days offline', formulas=[None, None], values=[0, 2], header_location=<HeaderLocation.TOP: 'top'>, series_starting_cell=Cell(column=11, row=2, coordinate='K2', value=None, value_type=None), series_length=2, series_data_type=<SeriesDataType.INT: 'int'>)),\n",
       "  Cell(column=11, row=3, coordinate=None, value=None, value_type=None): (1,\n",
       "   Series(series_id='summary|Days offline|1|11', worksheet=Worksheet(sheet_name='summary', workbook_file_path=None, worksheet=None), series_header='Days offline', formulas=[None, None], values=[0, 2], header_location=<HeaderLocation.TOP: 'top'>, series_starting_cell=Cell(column=11, row=2, coordinate='K2', value=None, value_type=None), series_length=2, series_data_type=<SeriesDataType.INT: 'int'>))},\n",
       " Worksheet(sheet_name='xero', workbook_file_path=None, worksheet=None): {Cell(column=1, row=2, coordinate=None, value=None, value_type=None): (0,\n",
       "   Series(series_id='xero|Date|1|1', worksheet=Worksheet(sheet_name='xero', workbook_file_path=None, worksheet=None), series_header='Date', formulas=[None, None], values=[44681, 44681], header_location=<HeaderLocation.TOP: 'top'>, series_starting_cell=Cell(column=1, row=2, coordinate='A2', value=None, value_type=None), series_length=2, series_data_type=<SeriesDataType.INT: 'int'>)),\n",
       "  Cell(column=1, row=3, coordinate=None, value=None, value_type=None): (1,\n",
       "   Series(series_id='xero|Date|1|1', worksheet=Worksheet(sheet_name='xero', workbook_file_path=None, worksheet=None), series_header='Date', formulas=[None, None], values=[44681, 44681], header_location=<HeaderLocation.TOP: 'top'>, series_starting_cell=Cell(column=1, row=2, coordinate='A2', value=None, value_type=None), series_length=2, series_data_type=<SeriesDataType.INT: 'int'>)),\n",
       "  Cell(column=2, row=2, coordinate=None, value=None, value_type=None): (0,\n",
       "   Series(series_id='xero|Description|1|2', worksheet=Worksheet(sheet_name='xero', workbook_file_path=None, worksheet=None), series_header='Description', formulas=['=CONCATENATE(summary!A2,\" Parking Recharge\")', '=CONCATENATE(summary!A3,\" Parking Recharge\")'], values=['FG20VLN Parking Recharge', 'FH19VRE Parking Recharge'], header_location=<HeaderLocation.TOP: 'top'>, series_starting_cell=Cell(column=2, row=2, coordinate='B2', value=None, value_type=None), series_length=2, series_data_type=<SeriesDataType.STR: 'str'>)),\n",
       "  Cell(column=2, row=3, coordinate=None, value=None, value_type=None): (1,\n",
       "   Series(series_id='xero|Description|1|2', worksheet=Worksheet(sheet_name='xero', workbook_file_path=None, worksheet=None), series_header='Description', formulas=['=CONCATENATE(summary!A2,\" Parking Recharge\")', '=CONCATENATE(summary!A3,\" Parking Recharge\")'], values=['FG20VLN Parking Recharge', 'FH19VRE Parking Recharge'], header_location=<HeaderLocation.TOP: 'top'>, series_starting_cell=Cell(column=2, row=2, coordinate='B2', value=None, value_type=None), series_length=2, series_data_type=<SeriesDataType.STR: 'str'>)),\n",
       "  Cell(column=3, row=2, coordinate=None, value=None, value_type=None): (0,\n",
       "   Series(series_id='xero|Quantity|1|3', worksheet=Worksheet(sheet_name='xero', workbook_file_path=None, worksheet=None), series_header='Quantity', formulas=[None, None], values=[1, 1], header_location=<HeaderLocation.TOP: 'top'>, series_starting_cell=Cell(column=3, row=2, coordinate='C2', value=None, value_type=None), series_length=2, series_data_type=<SeriesDataType.INT: 'int'>)),\n",
       "  Cell(column=3, row=3, coordinate=None, value=None, value_type=None): (1,\n",
       "   Series(series_id='xero|Quantity|1|3', worksheet=Worksheet(sheet_name='xero', workbook_file_path=None, worksheet=None), series_header='Quantity', formulas=[None, None], values=[1, 1], header_location=<HeaderLocation.TOP: 'top'>, series_starting_cell=Cell(column=3, row=2, coordinate='C2', value=None, value_type=None), series_length=2, series_data_type=<SeriesDataType.INT: 'int'>)),\n",
       "  Cell(column=4, row=2, coordinate=None, value=None, value_type=None): (0,\n",
       "   Series(series_id='xero|UnitAmount|1|4', worksheet=Worksheet(sheet_name='xero', workbook_file_path=None, worksheet=None), series_header='UnitAmount', formulas=['=-ROUND(summary!D2*1.2,2)', '=-ROUND(summary!D3*1.2,2)'], values=[0, 0], header_location=<HeaderLocation.TOP: 'top'>, series_starting_cell=Cell(column=4, row=2, coordinate='D2', value=None, value_type=None), series_length=2, series_data_type=<SeriesDataType.INT: 'int'>)),\n",
       "  Cell(column=4, row=3, coordinate=None, value=None, value_type=None): (1,\n",
       "   Series(series_id='xero|UnitAmount|1|4', worksheet=Worksheet(sheet_name='xero', workbook_file_path=None, worksheet=None), series_header='UnitAmount', formulas=['=-ROUND(summary!D2*1.2,2)', '=-ROUND(summary!D3*1.2,2)'], values=[0, 0], header_location=<HeaderLocation.TOP: 'top'>, series_starting_cell=Cell(column=4, row=2, coordinate='D2', value=None, value_type=None), series_length=2, series_data_type=<SeriesDataType.INT: 'int'>)),\n",
       "  Cell(column=5, row=2, coordinate=None, value=None, value_type=None): (0,\n",
       "   Series(series_id='xero|TaxAmount|1|5', worksheet=Worksheet(sheet_name='xero', workbook_file_path=None, worksheet=None), series_header='TaxAmount', formulas=['=ROUND(D2/6,2)', '=ROUND(D3/6,2)'], values=[0, 0], header_location=<HeaderLocation.TOP: 'top'>, series_starting_cell=Cell(column=5, row=2, coordinate='E2', value=None, value_type=None), series_length=2, series_data_type=<SeriesDataType.INT: 'int'>)),\n",
       "  Cell(column=5, row=3, coordinate=None, value=None, value_type=None): (1,\n",
       "   Series(series_id='xero|TaxAmount|1|5', worksheet=Worksheet(sheet_name='xero', workbook_file_path=None, worksheet=None), series_header='TaxAmount', formulas=['=ROUND(D2/6,2)', '=ROUND(D3/6,2)'], values=[0, 0], header_location=<HeaderLocation.TOP: 'top'>, series_starting_cell=Cell(column=5, row=2, coordinate='E2', value=None, value_type=None), series_length=2, series_data_type=<SeriesDataType.INT: 'int'>)),\n",
       "  Cell(column=6, row=2, coordinate=None, value=None, value_type=None): (0,\n",
       "   Series(series_id='xero|AccountCode|1|6', worksheet=Worksheet(sheet_name='xero', workbook_file_path=None, worksheet=None), series_header='AccountCode', formulas=[None, None], values=[4010, 4010], header_location=<HeaderLocation.TOP: 'top'>, series_starting_cell=Cell(column=6, row=2, coordinate='F2', value=None, value_type=None), series_length=2, series_data_type=<SeriesDataType.INT: 'int'>)),\n",
       "  Cell(column=6, row=3, coordinate=None, value=None, value_type=None): (1,\n",
       "   Series(series_id='xero|AccountCode|1|6', worksheet=Worksheet(sheet_name='xero', workbook_file_path=None, worksheet=None), series_header='AccountCode', formulas=[None, None], values=[4010, 4010], header_location=<HeaderLocation.TOP: 'top'>, series_starting_cell=Cell(column=6, row=2, coordinate='F2', value=None, value_type=None), series_length=2, series_data_type=<SeriesDataType.INT: 'int'>)),\n",
       "  Cell(column=7, row=2, coordinate=None, value=None, value_type=None): (0,\n",
       "   Series(series_id='xero|Invoice|1|7', worksheet=Worksheet(sheet_name='xero', workbook_file_path=None, worksheet=None), series_header='Invoice', formulas=['=D2>0', '=D3>0'], values=[False, False], header_location=<HeaderLocation.TOP: 'top'>, series_starting_cell=Cell(column=7, row=2, coordinate='G2', value=None, value_type=None), series_length=2, series_data_type=<SeriesDataType.BOOL: 'bool'>)),\n",
       "  Cell(column=7, row=3, coordinate=None, value=None, value_type=None): (1,\n",
       "   Series(series_id='xero|Invoice|1|7', worksheet=Worksheet(sheet_name='xero', workbook_file_path=None, worksheet=None), series_header='Invoice', formulas=['=D2>0', '=D3>0'], values=[False, False], header_location=<HeaderLocation.TOP: 'top'>, series_starting_cell=Cell(column=7, row=2, coordinate='G2', value=None, value_type=None), series_length=2, series_data_type=<SeriesDataType.BOOL: 'bool'>)),\n",
       "  Cell(column=8, row=2, coordinate=None, value=None, value_type=None): (0,\n",
       "   Series(series_id='xero|MRG|1|8', worksheet=Worksheet(sheet_name='xero', workbook_file_path=None, worksheet=None), series_header='MRG', formulas=[None, None], values=[False, False], header_location=<HeaderLocation.TOP: 'top'>, series_starting_cell=Cell(column=8, row=2, coordinate='H2', value=None, value_type=None), series_length=2, series_data_type=<SeriesDataType.BOOL: 'bool'>)),\n",
       "  Cell(column=8, row=3, coordinate=None, value=None, value_type=None): (1,\n",
       "   Series(series_id='xero|MRG|1|8', worksheet=Worksheet(sheet_name='xero', workbook_file_path=None, worksheet=None), series_header='MRG', formulas=[None, None], values=[False, False], header_location=<HeaderLocation.TOP: 'top'>, series_starting_cell=Cell(column=8, row=2, coordinate='H2', value=None, value_type=None), series_length=2, series_data_type=<SeriesDataType.BOOL: 'bool'>))},\n",
       " Worksheet(sheet_name='bookings', workbook_file_path=None, worksheet=None): {Cell(column=1, row=2, coordinate=None, value=None, value_type=None): (0,\n",
       "   Series(series_id='bookings|ID|1|1', worksheet=Worksheet(sheet_name='bookings', workbook_file_path=None, worksheet=None), series_header='ID', formulas=[None, None], values=[1, 2], header_location=<HeaderLocation.TOP: 'top'>, series_starting_cell=Cell(column=1, row=2, coordinate='A2', value=None, value_type=None), series_length=2, series_data_type=<SeriesDataType.INT: 'int'>)),\n",
       "  Cell(column=1, row=3, coordinate=None, value=None, value_type=None): (1,\n",
       "   Series(series_id='bookings|ID|1|1', worksheet=Worksheet(sheet_name='bookings', workbook_file_path=None, worksheet=None), series_header='ID', formulas=[None, None], values=[1, 2], header_location=<HeaderLocation.TOP: 'top'>, series_starting_cell=Cell(column=1, row=2, coordinate='A2', value=None, value_type=None), series_length=2, series_data_type=<SeriesDataType.INT: 'int'>)),\n",
       "  Cell(column=2, row=2, coordinate=None, value=None, value_type=None): (0,\n",
       "   Series(series_id='bookings|Vehicle ID|1|2', worksheet=Worksheet(sheet_name='bookings', workbook_file_path=None, worksheet=None), series_header='Vehicle ID', formulas=[None, None], values=[14545, 14544], header_location=<HeaderLocation.TOP: 'top'>, series_starting_cell=Cell(column=2, row=2, coordinate='B2', value=None, value_type=None), series_length=2, series_data_type=<SeriesDataType.INT: 'int'>)),\n",
       "  Cell(column=2, row=3, coordinate=None, value=None, value_type=None): (1,\n",
       "   Series(series_id='bookings|Vehicle ID|1|2', worksheet=Worksheet(sheet_name='bookings', workbook_file_path=None, worksheet=None), series_header='Vehicle ID', formulas=[None, None], values=[14545, 14544], header_location=<HeaderLocation.TOP: 'top'>, series_starting_cell=Cell(column=2, row=2, coordinate='B2', value=None, value_type=None), series_length=2, series_data_type=<SeriesDataType.INT: 'int'>)),\n",
       "  Cell(column=3, row=2, coordinate=None, value=None, value_type=None): (0,\n",
       "   Series(series_id='bookings|Booking Reference|1|3', worksheet=Worksheet(sheet_name='bookings', workbook_file_path=None, worksheet=None), series_header='Booking Reference', formulas=[None, None], values=['FX59-QP36-MT73', 'HZ93-YU64-KR64'], header_location=<HeaderLocation.TOP: 'top'>, series_starting_cell=Cell(column=3, row=2, coordinate='C2', value=None, value_type=None), series_length=2, series_data_type=<SeriesDataType.STR: 'str'>)),\n",
       "  Cell(column=3, row=3, coordinate=None, value=None, value_type=None): (1,\n",
       "   Series(series_id='bookings|Booking Reference|1|3', worksheet=Worksheet(sheet_name='bookings', workbook_file_path=None, worksheet=None), series_header='Booking Reference', formulas=[None, None], values=['FX59-QP36-MT73', 'HZ93-YU64-KR64'], header_location=<HeaderLocation.TOP: 'top'>, series_starting_cell=Cell(column=3, row=2, coordinate='C2', value=None, value_type=None), series_length=2, series_data_type=<SeriesDataType.STR: 'str'>)),\n",
       "  Cell(column=4, row=2, coordinate=None, value=None, value_type=None): (0,\n",
       "   Series(series_id='bookings|Vrm|1|4', worksheet=Worksheet(sheet_name='bookings', workbook_file_path=None, worksheet=None), series_header='Vrm', formulas=[None, None], values=['WV69OLC', 'WV69OLN'], header_location=<HeaderLocation.TOP: 'top'>, series_starting_cell=Cell(column=4, row=2, coordinate='D2', value=None, value_type=None), series_length=2, series_data_type=<SeriesDataType.STR: 'str'>)),\n",
       "  Cell(column=4, row=3, coordinate=None, value=None, value_type=None): (1,\n",
       "   Series(series_id='bookings|Vrm|1|4', worksheet=Worksheet(sheet_name='bookings', workbook_file_path=None, worksheet=None), series_header='Vrm', formulas=[None, None], values=['WV69OLC', 'WV69OLN'], header_location=<HeaderLocation.TOP: 'top'>, series_starting_cell=Cell(column=4, row=2, coordinate='D2', value=None, value_type=None), series_length=2, series_data_type=<SeriesDataType.STR: 'str'>)),\n",
       "  Cell(column=5, row=2, coordinate=None, value=None, value_type=None): (0,\n",
       "   Series(series_id='bookings|Nhs Discount|1|5', worksheet=Worksheet(sheet_name='bookings', workbook_file_path=None, worksheet=None), series_header='Nhs Discount', formulas=[None, None], values=[0, 0], header_location=<HeaderLocation.TOP: 'top'>, series_starting_cell=Cell(column=5, row=2, coordinate='E2', value=None, value_type=None), series_length=2, series_data_type=<SeriesDataType.INT: 'int'>)),\n",
       "  Cell(column=5, row=3, coordinate=None, value=None, value_type=None): (1,\n",
       "   Series(series_id='bookings|Nhs Discount|1|5', worksheet=Worksheet(sheet_name='bookings', workbook_file_path=None, worksheet=None), series_header='Nhs Discount', formulas=[None, None], values=[0, 0], header_location=<HeaderLocation.TOP: 'top'>, series_starting_cell=Cell(column=5, row=2, coordinate='E2', value=None, value_type=None), series_length=2, series_data_type=<SeriesDataType.INT: 'int'>)),\n",
       "  Cell(column=6, row=2, coordinate=None, value=None, value_type=None): (0,\n",
       "   Series(series_id='bookings|TGB earnings|1|6', worksheet=Worksheet(sheet_name='bookings', workbook_file_path=None, worksheet=None), series_header='TGB earnings', formulas=[None, None], values=[254.1, 231], header_location=<HeaderLocation.TOP: 'top'>, series_starting_cell=Cell(column=6, row=2, coordinate='F2', value=None, value_type=None), series_length=2, series_data_type=<SeriesDataType.FLOAT: 'float'>)),\n",
       "  Cell(column=6, row=3, coordinate=None, value=None, value_type=None): (1,\n",
       "   Series(series_id='bookings|TGB earnings|1|6', worksheet=Worksheet(sheet_name='bookings', workbook_file_path=None, worksheet=None), series_header='TGB earnings', formulas=[None, None], values=[254.1, 231], header_location=<HeaderLocation.TOP: 'top'>, series_starting_cell=Cell(column=6, row=2, coordinate='F2', value=None, value_type=None), series_length=2, series_data_type=<SeriesDataType.FLOAT: 'float'>))},\n",
       " Worksheet(sheet_name='parking', workbook_file_path=None, worksheet=None): {Cell(column=1, row=2, coordinate=None, value=None, value_type=None): (0,\n",
       "   Series(series_id='parking|Vehicle Reg|1|1', worksheet=Worksheet(sheet_name='parking', workbook_file_path=None, worksheet=None), series_header='Vehicle Reg', formulas=[None, None], values=['FG20UGP', 'WV69OLC'], header_location=<HeaderLocation.TOP: 'top'>, series_starting_cell=Cell(column=1, row=2, coordinate='A2', value=None, value_type=None), series_length=2, series_data_type=<SeriesDataType.STR: 'str'>)),\n",
       "  Cell(column=1, row=3, coordinate=None, value=None, value_type=None): (1,\n",
       "   Series(series_id='parking|Vehicle Reg|1|1', worksheet=Worksheet(sheet_name='parking', workbook_file_path=None, worksheet=None), series_header='Vehicle Reg', formulas=[None, None], values=['FG20UGP', 'WV69OLC'], header_location=<HeaderLocation.TOP: 'top'>, series_starting_cell=Cell(column=1, row=2, coordinate='A2', value=None, value_type=None), series_length=2, series_data_type=<SeriesDataType.STR: 'str'>)),\n",
       "  Cell(column=2, row=2, coordinate=None, value=None, value_type=None): (0,\n",
       "   Series(series_id='parking|Total Parking Cost per month|1|2', worksheet=Worksheet(sheet_name='parking', workbook_file_path=None, worksheet=None), series_header='Total Parking Cost per month', formulas=[None, None], values=[148, 23], header_location=<HeaderLocation.TOP: 'top'>, series_starting_cell=Cell(column=2, row=2, coordinate='B2', value=None, value_type=None), series_length=2, series_data_type=<SeriesDataType.INT: 'int'>)),\n",
       "  Cell(column=2, row=3, coordinate=None, value=None, value_type=None): (1,\n",
       "   Series(series_id='parking|Total Parking Cost per month|1|2', worksheet=Worksheet(sheet_name='parking', workbook_file_path=None, worksheet=None), series_header='Total Parking Cost per month', formulas=[None, None], values=[148, 23], header_location=<HeaderLocation.TOP: 'top'>, series_starting_cell=Cell(column=2, row=2, coordinate='B2', value=None, value_type=None), series_length=2, series_data_type=<SeriesDataType.INT: 'int'>)),\n",
       "  Cell(column=3, row=2, coordinate=None, value=None, value_type=None): (0,\n",
       "   Series(series_id='parking|TGB parking cost|1|3', worksheet=Worksheet(sheet_name='parking', workbook_file_path=None, worksheet=None), series_header='TGB parking cost', formulas=['=B2/2', '=B3/2'], values=[74, 11.5], header_location=<HeaderLocation.TOP: 'top'>, series_starting_cell=Cell(column=3, row=2, coordinate='C2', value=None, value_type=None), series_length=2, series_data_type=<SeriesDataType.INT: 'int'>)),\n",
       "  Cell(column=3, row=3, coordinate=None, value=None, value_type=None): (1,\n",
       "   Series(series_id='parking|TGB parking cost|1|3', worksheet=Worksheet(sheet_name='parking', workbook_file_path=None, worksheet=None), series_header='TGB parking cost', formulas=['=B2/2', '=B3/2'], values=[74, 11.5], header_location=<HeaderLocation.TOP: 'top'>, series_starting_cell=Cell(column=3, row=2, coordinate='C2', value=None, value_type=None), series_length=2, series_data_type=<SeriesDataType.INT: 'int'>))},\n",
       " Worksheet(sheet_name='cleaning', workbook_file_path=None, worksheet=None): {Cell(column=1, row=2, coordinate=None, value=None, value_type=None): (0,\n",
       "   Series(series_id='cleaning|VRM|1|1', worksheet=Worksheet(sheet_name='cleaning', workbook_file_path=None, worksheet=None), series_header='VRM', formulas=[None, None], values=['FG20VLU', 'FG20VLK'], header_location=<HeaderLocation.TOP: 'top'>, series_starting_cell=Cell(column=1, row=2, coordinate='A2', value=None, value_type=None), series_length=2, series_data_type=<SeriesDataType.STR: 'str'>)),\n",
       "  Cell(column=1, row=3, coordinate=None, value=None, value_type=None): (1,\n",
       "   Series(series_id='cleaning|VRM|1|1', worksheet=Worksheet(sheet_name='cleaning', workbook_file_path=None, worksheet=None), series_header='VRM', formulas=[None, None], values=['FG20VLU', 'FG20VLK'], header_location=<HeaderLocation.TOP: 'top'>, series_starting_cell=Cell(column=1, row=2, coordinate='A2', value=None, value_type=None), series_length=2, series_data_type=<SeriesDataType.STR: 'str'>)),\n",
       "  Cell(column=2, row=2, coordinate=None, value=None, value_type=None): (0,\n",
       "   Series(series_id='cleaning|TGB Liability|1|2', worksheet=Worksheet(sheet_name='cleaning', workbook_file_path=None, worksheet=None), series_header='TGB Liability', formulas=[None, None], values=[0.5, 0.5], header_location=<HeaderLocation.TOP: 'top'>, series_starting_cell=Cell(column=2, row=2, coordinate='B2', value=None, value_type=None), series_length=2, series_data_type=<SeriesDataType.FLOAT: 'float'>)),\n",
       "  Cell(column=2, row=3, coordinate=None, value=None, value_type=None): (1,\n",
       "   Series(series_id='cleaning|TGB Liability|1|2', worksheet=Worksheet(sheet_name='cleaning', workbook_file_path=None, worksheet=None), series_header='TGB Liability', formulas=[None, None], values=[0.5, 0.5], header_location=<HeaderLocation.TOP: 'top'>, series_starting_cell=Cell(column=2, row=2, coordinate='B2', value=None, value_type=None), series_length=2, series_data_type=<SeriesDataType.FLOAT: 'float'>)),\n",
       "  Cell(column=3, row=2, coordinate=None, value=None, value_type=None): (0,\n",
       "   Series(series_id='cleaning|Description |1|3', worksheet=Worksheet(sheet_name='cleaning', workbook_file_path=None, worksheet=None), series_header='Description ', formulas=[None, None], values=['Inside & Out + Checks', 'Inside & Out + Checks'], header_location=<HeaderLocation.TOP: 'top'>, series_starting_cell=Cell(column=3, row=2, coordinate='C2', value=None, value_type=None), series_length=2, series_data_type=<SeriesDataType.STR: 'str'>)),\n",
       "  Cell(column=3, row=3, coordinate=None, value=None, value_type=None): (1,\n",
       "   Series(series_id='cleaning|Description |1|3', worksheet=Worksheet(sheet_name='cleaning', workbook_file_path=None, worksheet=None), series_header='Description ', formulas=[None, None], values=['Inside & Out + Checks', 'Inside & Out + Checks'], header_location=<HeaderLocation.TOP: 'top'>, series_starting_cell=Cell(column=3, row=2, coordinate='C2', value=None, value_type=None), series_length=2, series_data_type=<SeriesDataType.STR: 'str'>)),\n",
       "  Cell(column=4, row=2, coordinate=None, value=None, value_type=None): (0,\n",
       "   Series(series_id='cleaning|Total Cost (Ex VAT)|1|4', worksheet=Worksheet(sheet_name='cleaning', workbook_file_path=None, worksheet=None), series_header='Total Cost (Ex VAT)', formulas=[None, None], values=[29, 29], header_location=<HeaderLocation.TOP: 'top'>, series_starting_cell=Cell(column=4, row=2, coordinate='D2', value=None, value_type=None), series_length=2, series_data_type=<SeriesDataType.INT: 'int'>)),\n",
       "  Cell(column=4, row=3, coordinate=None, value=None, value_type=None): (1,\n",
       "   Series(series_id='cleaning|Total Cost (Ex VAT)|1|4', worksheet=Worksheet(sheet_name='cleaning', workbook_file_path=None, worksheet=None), series_header='Total Cost (Ex VAT)', formulas=[None, None], values=[29, 29], header_location=<HeaderLocation.TOP: 'top'>, series_starting_cell=Cell(column=4, row=2, coordinate='D2', value=None, value_type=None), series_length=2, series_data_type=<SeriesDataType.INT: 'int'>)),\n",
       "  Cell(column=5, row=2, coordinate=None, value=None, value_type=None): (0,\n",
       "   Series(series_id='cleaning|Total Cost (inc VAT)|1|5', worksheet=Worksheet(sheet_name='cleaning', workbook_file_path=None, worksheet=None), series_header='Total Cost (inc VAT)', formulas=['=D2*1.2', '=D3*1.2'], values=[34.8, 34.8], header_location=<HeaderLocation.TOP: 'top'>, series_starting_cell=Cell(column=5, row=2, coordinate='E2', value=None, value_type=None), series_length=2, series_data_type=<SeriesDataType.FLOAT: 'float'>)),\n",
       "  Cell(column=5, row=3, coordinate=None, value=None, value_type=None): (1,\n",
       "   Series(series_id='cleaning|Total Cost (inc VAT)|1|5', worksheet=Worksheet(sheet_name='cleaning', workbook_file_path=None, worksheet=None), series_header='Total Cost (inc VAT)', formulas=['=D2*1.2', '=D3*1.2'], values=[34.8, 34.8], header_location=<HeaderLocation.TOP: 'top'>, series_starting_cell=Cell(column=5, row=2, coordinate='E2', value=None, value_type=None), series_length=2, series_data_type=<SeriesDataType.FLOAT: 'float'>)),\n",
       "  Cell(column=6, row=2, coordinate=None, value=None, value_type=None): (0,\n",
       "   Series(series_id='cleaning|TGB Cost (Inc VAT)|1|6', worksheet=Worksheet(sheet_name='cleaning', workbook_file_path=None, worksheet=None), series_header='TGB Cost (Inc VAT)', formulas=['=E2*B2', '=E3*B3'], values=[17.4, 17.4], header_location=<HeaderLocation.TOP: 'top'>, series_starting_cell=Cell(column=6, row=2, coordinate='F2', value=None, value_type=None), series_length=2, series_data_type=<SeriesDataType.FLOAT: 'float'>)),\n",
       "  Cell(column=6, row=3, coordinate=None, value=None, value_type=None): (1,\n",
       "   Series(series_id='cleaning|TGB Cost (Inc VAT)|1|6', worksheet=Worksheet(sheet_name='cleaning', workbook_file_path=None, worksheet=None), series_header='TGB Cost (Inc VAT)', formulas=['=E2*B2', '=E3*B3'], values=[17.4, 17.4], header_location=<HeaderLocation.TOP: 'top'>, series_starting_cell=Cell(column=6, row=2, coordinate='F2', value=None, value_type=None), series_length=2, series_data_type=<SeriesDataType.FLOAT: 'float'>))}}"
      ]
     },
     "execution_count": 14,
     "metadata": {},
     "output_type": "execute_result"
    }
   ],
   "source": [
    "series_mapping"
   ]
  },
  {
   "cell_type": "code",
   "execution_count": 15,
   "metadata": {},
   "outputs": [],
   "source": [
    "series_iterator = SeriesIterator.iterate_series(series_dict)"
   ]
  },
  {
   "cell_type": "code",
   "execution_count": 16,
   "metadata": {},
   "outputs": [],
   "source": [
    "series_list = [series for series in series_iterator if series.formulas != [None, None]]"
   ]
  },
  {
   "cell_type": "markdown",
   "metadata": {},
   "source": [
    "Series Id can be concatenation of sheet_name, header_name, header_column_index, header_row_index"
   ]
  },
  {
   "cell_type": "code",
   "execution_count": 17,
   "metadata": {},
   "outputs": [
    {
     "name": "stdout",
     "output_type": "stream",
     "text": [
      "=A2\n",
      "=A3\n",
      "('summary|Vehicle Reg |1|1',), (1, 1, 0, 0), 0\n",
      "=-SUMIF(parking!A:A,C2,parking!C:C)\n",
      "=-SUMIF(parking!A:A,C3,parking!C:C)\n"
     ]
    },
    {
     "ename": "TypeError",
     "evalue": "unsupported operand type(s) for -: 'NoneType' and 'NoneType'",
     "output_type": "error",
     "traceback": [
      "\u001b[0;31m---------------------------------------------------------------------------\u001b[0m",
      "\u001b[0;31mTypeError\u001b[0m                                 Traceback (most recent call last)",
      "Cell \u001b[0;32mIn[17], line 17\u001b[0m\n\u001b[1;32m     13\u001b[0m \u001b[38;5;28mprint\u001b[39m(formula_2)\n\u001b[1;32m     15\u001b[0m ast_generator \u001b[38;5;241m=\u001b[39m FormulaGenerator\u001b[38;5;241m.\u001b[39mget_ast_generator(formula_1_ast_series, formula_2_ast_series)\n\u001b[0;32m---> 17\u001b[0m ast_delta \u001b[38;5;241m=\u001b[39m \u001b[43mast_generator\u001b[49m\u001b[38;5;241;43m.\u001b[39;49m\u001b[43mget_ast_with_deltas\u001b[49m\u001b[43m(\u001b[49m\u001b[43m)\u001b[49m\n\u001b[1;32m     18\u001b[0m ast_delta_serialised \u001b[38;5;241m=\u001b[39m SeriesImplementer\u001b[38;5;241m.\u001b[39mserialise_ast_to_formula(ast_delta)\n\u001b[1;32m     19\u001b[0m \u001b[38;5;28mprint\u001b[39m(ast_delta_serialised)\n",
      "File \u001b[0;32m~/GitHub/speedsheet/excel-2-python/src/ast_transformation/formula_generator.py:131\u001b[0m, in \u001b[0;36mASTGenerator.get_ast_with_deltas\u001b[0;34m(self)\u001b[0m\n\u001b[1;32m    130\u001b[0m \u001b[38;5;28;01mdef\u001b[39;00m \u001b[38;5;21mget_ast_with_deltas\u001b[39m(\u001b[38;5;28mself\u001b[39m) \u001b[38;5;241m-\u001b[39m\u001b[38;5;241m>\u001b[39m xlcalculator\u001b[38;5;241m.\u001b[39mast_nodes\u001b[38;5;241m.\u001b[39mASTNode:\n\u001b[0;32m--> 131\u001b[0m     \u001b[38;5;28;01mreturn\u001b[39;00m \u001b[38;5;28;43mself\u001b[39;49m\u001b[38;5;241;43m.\u001b[39;49m\u001b[43mapply_deltas_to_range_nodes\u001b[49m\u001b[43m(\u001b[49m\n\u001b[1;32m    132\u001b[0m \u001b[43m        \u001b[49m\u001b[38;5;28;43mself\u001b[39;49m\u001b[38;5;241;43m.\u001b[39;49m\u001b[43mformula_1_ast_series\u001b[49m\u001b[43m,\u001b[49m\u001b[43m \u001b[49m\u001b[38;5;28;43mself\u001b[39;49m\u001b[38;5;241;43m.\u001b[39;49m\u001b[43mformula_2_ast_series\u001b[49m\n\u001b[1;32m    133\u001b[0m \u001b[43m    \u001b[49m\u001b[43m)\u001b[49m\n",
      "File \u001b[0;32m~/GitHub/speedsheet/excel-2-python/src/ast_transformation/formula_generator.py:118\u001b[0m, in \u001b[0;36mASTGenerator.apply_deltas_to_range_nodes\u001b[0;34m(self, node1, node2)\u001b[0m\n\u001b[1;32m    109\u001b[0m \u001b[38;5;28;01melif\u001b[39;00m \u001b[38;5;28mhasattr\u001b[39m(node1, \u001b[38;5;124m\"\u001b[39m\u001b[38;5;124mleft\u001b[39m\u001b[38;5;124m\"\u001b[39m) \u001b[38;5;129;01mand\u001b[39;00m \u001b[38;5;28misinstance\u001b[39m(\n\u001b[1;32m    110\u001b[0m     node1, xlcalculator\u001b[38;5;241m.\u001b[39mast_nodes\u001b[38;5;241m.\u001b[39mOperatorNode\n\u001b[1;32m    111\u001b[0m ):\n\u001b[1;32m    112\u001b[0m     modified_left \u001b[38;5;241m=\u001b[39m (\n\u001b[1;32m    113\u001b[0m         \u001b[38;5;28mself\u001b[39m\u001b[38;5;241m.\u001b[39mapply_deltas_to_range_nodes(node1\u001b[38;5;241m.\u001b[39mleft, node2\u001b[38;5;241m.\u001b[39mleft)\n\u001b[1;32m    114\u001b[0m         \u001b[38;5;28;01mif\u001b[39;00m node1\u001b[38;5;241m.\u001b[39mleft\n\u001b[1;32m    115\u001b[0m         \u001b[38;5;28;01melse\u001b[39;00m \u001b[38;5;28;01mNone\u001b[39;00m\n\u001b[1;32m    116\u001b[0m     )\n\u001b[1;32m    117\u001b[0m     modified_right \u001b[38;5;241m=\u001b[39m (\n\u001b[0;32m--> 118\u001b[0m         \u001b[38;5;28;43mself\u001b[39;49m\u001b[38;5;241;43m.\u001b[39;49m\u001b[43mapply_deltas_to_range_nodes\u001b[49m\u001b[43m(\u001b[49m\u001b[43mnode1\u001b[49m\u001b[38;5;241;43m.\u001b[39;49m\u001b[43mright\u001b[49m\u001b[43m,\u001b[49m\u001b[43m \u001b[49m\u001b[43mnode2\u001b[49m\u001b[38;5;241;43m.\u001b[39;49m\u001b[43mright\u001b[49m\u001b[43m)\u001b[49m\n\u001b[1;32m    119\u001b[0m         \u001b[38;5;28;01mif\u001b[39;00m node1\u001b[38;5;241m.\u001b[39mright\n\u001b[1;32m    120\u001b[0m         \u001b[38;5;28;01melse\u001b[39;00m \u001b[38;5;28;01mNone\u001b[39;00m\n\u001b[1;32m    121\u001b[0m     )\n\u001b[1;32m    122\u001b[0m     modified_node \u001b[38;5;241m=\u001b[39m xlcalculator\u001b[38;5;241m.\u001b[39mast_nodes\u001b[38;5;241m.\u001b[39mOperatorNode(node1\u001b[38;5;241m.\u001b[39mtoken)\n\u001b[1;32m    123\u001b[0m     modified_node\u001b[38;5;241m.\u001b[39mleft \u001b[38;5;241m=\u001b[39m modified_left\n",
      "File \u001b[0;32m~/GitHub/speedsheet/excel-2-python/src/ast_transformation/formula_generator.py:101\u001b[0m, in \u001b[0;36mASTGenerator.apply_deltas_to_range_nodes\u001b[0;34m(self, node1, node2)\u001b[0m\n\u001b[1;32m     96\u001b[0m         \u001b[38;5;28;01mreturn\u001b[39;00m node1\n\u001b[1;32m     98\u001b[0m \u001b[38;5;28;01melif\u001b[39;00m \u001b[38;5;28mhasattr\u001b[39m(node1, \u001b[38;5;124m\"\u001b[39m\u001b[38;5;124margs\u001b[39m\u001b[38;5;124m\"\u001b[39m) \u001b[38;5;129;01mand\u001b[39;00m \u001b[38;5;28misinstance\u001b[39m(\n\u001b[1;32m     99\u001b[0m     node1, xlcalculator\u001b[38;5;241m.\u001b[39mast_nodes\u001b[38;5;241m.\u001b[39mFunctionNode\n\u001b[1;32m    100\u001b[0m ):\n\u001b[0;32m--> 101\u001b[0m     modified_args \u001b[38;5;241m=\u001b[39m \u001b[43m[\u001b[49m\n\u001b[1;32m    102\u001b[0m \u001b[43m        \u001b[49m\u001b[38;5;28;43mself\u001b[39;49m\u001b[38;5;241;43m.\u001b[39;49m\u001b[43mapply_deltas_to_range_nodes\u001b[49m\u001b[43m(\u001b[49m\u001b[43marg\u001b[49m\u001b[43m,\u001b[49m\u001b[43m \u001b[49m\u001b[43mnode2\u001b[49m\u001b[38;5;241;43m.\u001b[39;49m\u001b[43margs\u001b[49m\u001b[43m[\u001b[49m\u001b[43mi\u001b[49m\u001b[43m]\u001b[49m\u001b[43m)\u001b[49m\n\u001b[1;32m    103\u001b[0m \u001b[43m        \u001b[49m\u001b[38;5;28;43;01mfor\u001b[39;49;00m\u001b[43m \u001b[49m\u001b[43mi\u001b[49m\u001b[43m,\u001b[49m\u001b[43m \u001b[49m\u001b[43marg\u001b[49m\u001b[43m \u001b[49m\u001b[38;5;129;43;01min\u001b[39;49;00m\u001b[43m \u001b[49m\u001b[38;5;28;43menumerate\u001b[39;49m\u001b[43m(\u001b[49m\u001b[43mnode1\u001b[49m\u001b[38;5;241;43m.\u001b[39;49m\u001b[43margs\u001b[49m\u001b[43m)\u001b[49m\n\u001b[1;32m    104\u001b[0m \u001b[43m    \u001b[49m\u001b[43m]\u001b[49m\n\u001b[1;32m    105\u001b[0m     modified_node \u001b[38;5;241m=\u001b[39m xlcalculator\u001b[38;5;241m.\u001b[39mast_nodes\u001b[38;5;241m.\u001b[39mFunctionNode(node1\u001b[38;5;241m.\u001b[39mtoken)\n\u001b[1;32m    106\u001b[0m     modified_node\u001b[38;5;241m.\u001b[39margs \u001b[38;5;241m=\u001b[39m modified_args\n",
      "File \u001b[0;32m~/GitHub/speedsheet/excel-2-python/src/ast_transformation/formula_generator.py:102\u001b[0m, in \u001b[0;36m<listcomp>\u001b[0;34m(.0)\u001b[0m\n\u001b[1;32m     96\u001b[0m         \u001b[38;5;28;01mreturn\u001b[39;00m node1\n\u001b[1;32m     98\u001b[0m \u001b[38;5;28;01melif\u001b[39;00m \u001b[38;5;28mhasattr\u001b[39m(node1, \u001b[38;5;124m\"\u001b[39m\u001b[38;5;124margs\u001b[39m\u001b[38;5;124m\"\u001b[39m) \u001b[38;5;129;01mand\u001b[39;00m \u001b[38;5;28misinstance\u001b[39m(\n\u001b[1;32m     99\u001b[0m     node1, xlcalculator\u001b[38;5;241m.\u001b[39mast_nodes\u001b[38;5;241m.\u001b[39mFunctionNode\n\u001b[1;32m    100\u001b[0m ):\n\u001b[1;32m    101\u001b[0m     modified_args \u001b[38;5;241m=\u001b[39m [\n\u001b[0;32m--> 102\u001b[0m         \u001b[38;5;28;43mself\u001b[39;49m\u001b[38;5;241;43m.\u001b[39;49m\u001b[43mapply_deltas_to_range_nodes\u001b[49m\u001b[43m(\u001b[49m\u001b[43marg\u001b[49m\u001b[43m,\u001b[49m\u001b[43m \u001b[49m\u001b[43mnode2\u001b[49m\u001b[38;5;241;43m.\u001b[39;49m\u001b[43margs\u001b[49m\u001b[43m[\u001b[49m\u001b[43mi\u001b[49m\u001b[43m]\u001b[49m\u001b[43m)\u001b[49m\n\u001b[1;32m    103\u001b[0m         \u001b[38;5;28;01mfor\u001b[39;00m i, arg \u001b[38;5;129;01min\u001b[39;00m \u001b[38;5;28menumerate\u001b[39m(node1\u001b[38;5;241m.\u001b[39margs)\n\u001b[1;32m    104\u001b[0m     ]\n\u001b[1;32m    105\u001b[0m     modified_node \u001b[38;5;241m=\u001b[39m xlcalculator\u001b[38;5;241m.\u001b[39mast_nodes\u001b[38;5;241m.\u001b[39mFunctionNode(node1\u001b[38;5;241m.\u001b[39mtoken)\n\u001b[1;32m    106\u001b[0m     modified_node\u001b[38;5;241m.\u001b[39margs \u001b[38;5;241m=\u001b[39m modified_args\n",
      "File \u001b[0;32m~/GitHub/speedsheet/excel-2-python/src/ast_transformation/formula_generator.py:65\u001b[0m, in \u001b[0;36mASTGenerator.apply_deltas_to_range_nodes\u001b[0;34m(self, node1, node2)\u001b[0m\n\u001b[1;32m     57\u001b[0m \u001b[38;5;28;01mdef\u001b[39;00m \u001b[38;5;21mapply_deltas_to_range_nodes\u001b[39m(\n\u001b[1;32m     58\u001b[0m     \u001b[38;5;28mself\u001b[39m,\n\u001b[1;32m     59\u001b[0m     node1: xlcalculator\u001b[38;5;241m.\u001b[39mast_nodes\u001b[38;5;241m.\u001b[39mASTNode,\n\u001b[1;32m     60\u001b[0m     node2: xlcalculator\u001b[38;5;241m.\u001b[39mast_nodes\u001b[38;5;241m.\u001b[39mASTNode,\n\u001b[1;32m     61\u001b[0m ):\n\u001b[1;32m     62\u001b[0m     \u001b[38;5;28;01mif\u001b[39;00m \u001b[38;5;28misinstance\u001b[39m(node1, xlcalculator\u001b[38;5;241m.\u001b[39mast_nodes\u001b[38;5;241m.\u001b[39mRangeNode) \u001b[38;5;129;01mand\u001b[39;00m \u001b[38;5;28misinstance\u001b[39m(\n\u001b[1;32m     63\u001b[0m         node2, xlcalculator\u001b[38;5;241m.\u001b[39mast_nodes\u001b[38;5;241m.\u001b[39mRangeNode\n\u001b[1;32m     64\u001b[0m     ):\n\u001b[0;32m---> 65\u001b[0m         deltas \u001b[38;5;241m=\u001b[39m \u001b[38;5;28;43mself\u001b[39;49m\u001b[38;5;241;43m.\u001b[39;49m\u001b[43mget_delta_between_nodes\u001b[49m\u001b[43m(\u001b[49m\u001b[43mnode1\u001b[49m\u001b[38;5;241;43m.\u001b[39;49m\u001b[43mtvalue\u001b[49m\u001b[43m,\u001b[49m\u001b[43m \u001b[49m\u001b[43mnode2\u001b[49m\u001b[38;5;241;43m.\u001b[39;49m\u001b[43mtvalue\u001b[49m\u001b[43m)\u001b[49m\n\u001b[1;32m     66\u001b[0m         \u001b[38;5;28;01mif\u001b[39;00m deltas:\n\u001b[1;32m     67\u001b[0m             (\n\u001b[1;32m     68\u001b[0m                 start_row_index_delta,\n\u001b[1;32m     69\u001b[0m                 end_row_index_delta,\n\u001b[1;32m     70\u001b[0m                 start_column_index_delta,\n\u001b[1;32m     71\u001b[0m                 end_column_index_delta,\n\u001b[1;32m     72\u001b[0m             ), start_index \u001b[38;5;241m=\u001b[39m deltas\n",
      "File \u001b[0;32m~/GitHub/speedsheet/excel-2-python/src/ast_transformation/formula_generator.py:37\u001b[0m, in \u001b[0;36mASTGenerator.get_delta_between_nodes\u001b[0;34m(node1_value, node2_value)\u001b[0m\n\u001b[1;32m     34\u001b[0m     node2_series_ids, node2_row_indexes \u001b[38;5;241m=\u001b[39m node2_tuple\n\u001b[1;32m     35\u001b[0m     node2_start_row_index, node2_end_row_index \u001b[38;5;241m=\u001b[39m node2_row_indexes\n\u001b[0;32m---> 37\u001b[0m start_row_index_delta \u001b[38;5;241m=\u001b[39m \u001b[43mnode2_start_row_index\u001b[49m\u001b[43m \u001b[49m\u001b[38;5;241;43m-\u001b[39;49m\u001b[43m \u001b[49m\u001b[43mnode1_start_row_index\u001b[49m\n\u001b[1;32m     38\u001b[0m end_row_index_delta \u001b[38;5;241m=\u001b[39m node2_end_row_index \u001b[38;5;241m-\u001b[39m node1_end_row_index\n\u001b[1;32m     40\u001b[0m \u001b[38;5;66;03m# Extract the column indexes from the series ids\u001b[39;00m\n",
      "\u001b[0;31mTypeError\u001b[0m: unsupported operand type(s) for -: 'NoneType' and 'NoneType'"
     ]
    }
   ],
   "source": [
    "for series in series_list:\n",
    "    formula_1 = series.formulas[0]\n",
    "    formula_1_ast = FormulaParser.parse_formula(formula_1)\n",
    "    series_implementer = SeriesImplementer(series_mapping, sheet_name = series.worksheet.sheet_name)\n",
    "    formula_1_ast_series = series_implementer.replace_range_nodes(formula_1_ast)\n",
    "\n",
    "    formula_2 = series.formulas[1]\n",
    "    formula_2_ast = FormulaParser.parse_formula(formula_2)\n",
    "    formula_2_ast_series = series_implementer.replace_range_nodes(formula_2_ast)\n",
    "\n",
    "\n",
    "    print(formula_1)\n",
    "    print(formula_2)\n",
    "\n",
    "    ast_generator = FormulaGenerator.get_ast_generator(formula_1_ast_series, formula_2_ast_series)\n",
    "    \n",
    "    ast_delta = ast_generator.get_ast_with_deltas()\n",
    "    ast_delta_serialised = SeriesImplementer.serialise_ast_to_formula(ast_delta)\n",
    "    print(ast_delta_serialised)\n",
    "    "
   ]
  },
  {
   "cell_type": "code",
   "execution_count": null,
   "metadata": {},
   "outputs": [],
   "source": []
  }
 ],
 "metadata": {
  "kernelspec": {
   "display_name": "venv",
   "language": "python",
   "name": "python3"
  },
  "language_info": {
   "codemirror_mode": {
    "name": "ipython",
    "version": 3
   },
   "file_extension": ".py",
   "mimetype": "text/x-python",
   "name": "python",
   "nbconvert_exporter": "python",
   "pygments_lexer": "ipython3",
   "version": "3.11.5"
  }
 },
 "nbformat": 4,
 "nbformat_minor": 2
}
