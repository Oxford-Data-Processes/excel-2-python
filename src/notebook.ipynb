{
 "cells": [
  {
   "cell_type": "code",
   "execution_count": 1,
   "metadata": {},
   "outputs": [],
   "source": [
    "import os\n",
    "import xlcalculator\n",
    "\n",
    "\n",
    "from series_extraction.excel_loader import ExcelLoader\n",
    "from series_extraction.excel_validator import ExcelValidator\n",
    "from series_extraction.excel_cleaner import ExcelCleaner\n",
    "from series_extraction.table_finder import TableFinder\n",
    "from series_extraction.series_extractor import SeriesExtractor\n",
    "from series_extraction.excel_compatibility_checker import ExcelCompatibilityChecker\n",
    "from series_extraction.series_iterator import SeriesIterator\n",
    "from series_extraction.series_mapper import SeriesMapper\n",
    "\n",
    "from ast_building.formula_parser import FormulaParser\n",
    "from ast_building.series_implementer import SeriesImplementer\n",
    "\n",
    "from formula_visualiser import FormulaVisualiser\n"
   ]
  },
  {
   "cell_type": "code",
   "execution_count": 2,
   "metadata": {},
   "outputs": [],
   "source": [
    "current_directory = os.getcwd()\n",
    "\n",
    "parent_directory = os.path.abspath(os.path.join(current_directory, os.pardir))\n",
    "data_directory = os.path.join(parent_directory, 'data')\n",
    "\n",
    "project_name = 'test_excel_8'\n",
    "\n",
    "excel_raw_file_path = os.path.join(data_directory, \"excel_files_raw\", f\"{project_name}_raw.xlsx\")\n",
    "excel_reduced_filepath = os.path.join(data_directory, \"excel_files_reduced\", f\"{project_name}_reduced.xlsx\")"
   ]
  },
  {
   "cell_type": "code",
   "execution_count": 3,
   "metadata": {},
   "outputs": [],
   "source": [
    "excel_raw= ExcelLoader.load_file(excel_raw_file_path)\n",
    "excel_reduced = ExcelLoader.load_file(excel_reduced_filepath)"
   ]
  },
  {
   "cell_type": "code",
   "execution_count": 4,
   "metadata": {},
   "outputs": [],
   "source": [
    "is_valid = ExcelValidator.validate_excel(excel_reduced)"
   ]
  },
  {
   "cell_type": "code",
   "execution_count": 5,
   "metadata": {},
   "outputs": [],
   "source": [
    "if not is_valid:\n",
    "    raise Exception(\"Excel file is not valid\")"
   ]
  },
  {
   "cell_type": "code",
   "execution_count": 6,
   "metadata": {},
   "outputs": [],
   "source": [
    "excel_reduced_clean = ExcelCleaner.clean_excel(excel_reduced)"
   ]
  },
  {
   "cell_type": "code",
   "execution_count": 7,
   "metadata": {},
   "outputs": [],
   "source": [
    "extracted_tables, data = TableFinder.find_tables(excel_reduced_clean)"
   ]
  },
  {
   "cell_type": "code",
   "execution_count": 8,
   "metadata": {},
   "outputs": [],
   "source": [
    "series_data = SeriesExtractor.extract_table_details(extracted_tables, data)"
   ]
  },
  {
   "cell_type": "code",
   "execution_count": 9,
   "metadata": {},
   "outputs": [],
   "source": [
    "is_compatible = ExcelCompatibilityChecker.check_file(excel_raw, excel_reduced, extracted_tables)"
   ]
  },
  {
   "cell_type": "code",
   "execution_count": 10,
   "metadata": {},
   "outputs": [],
   "source": [
    "if not is_compatible:\n",
    "    raise Exception(\"Excel file is not compatible\")"
   ]
  },
  {
   "cell_type": "code",
   "execution_count": 11,
   "metadata": {},
   "outputs": [],
   "source": [
    "series_dict = SeriesExtractor.extract_series(extracted_tables=extracted_tables, data=data)"
   ]
  },
  {
   "cell_type": "code",
   "execution_count": 12,
   "metadata": {},
   "outputs": [],
   "source": [
    "series_iterator = SeriesIterator.iterate_series(series_dict)"
   ]
  },
  {
   "cell_type": "code",
   "execution_count": 13,
   "metadata": {},
   "outputs": [],
   "source": [
    "series = None\n",
    "for item in series_iterator:\n",
    "    if item.formulas != [None, None]:\n",
    "        series = item\n",
    "        break\n"
   ]
  },
  {
   "cell_type": "code",
   "execution_count": 14,
   "metadata": {},
   "outputs": [
    {
     "data": {
      "text/plain": [
       "Series(series_id=UUID('68de738a-57f8-446c-a9d1-8512d97c49f7'), worksheet=Worksheet(sheet_name='Sheet1', workbook_file_path=None, worksheet=None), series_header='Index_Match_Size', formulas=['=INDEX(B:B,MATCH(A2,A:A,0))', '=INDEX(B:B,MATCH(A3,A:A,0))'], values=['male', 'female'], header_location=<HeaderLocation.TOP: 'top'>, series_starting_cell=Cell(column=13, row=2, coordinate='M2', value=None, value_type=None), series_length=2, series_data_type=<SeriesDataType.STR: 'str'>)"
      ]
     },
     "execution_count": 14,
     "metadata": {},
     "output_type": "execute_result"
    }
   ],
   "source": [
    "series"
   ]
  },
  {
   "cell_type": "code",
   "execution_count": 15,
   "metadata": {},
   "outputs": [],
   "source": [
    "series_mapping = SeriesMapper.map_series(series_dict)"
   ]
  },
  {
   "cell_type": "code",
   "execution_count": 16,
   "metadata": {},
   "outputs": [],
   "source": [
    "formula_1 = series.formulas[0]\n",
    "formula_1_ast = FormulaParser.parse_formula(formula_1)"
   ]
  },
  {
   "cell_type": "code",
   "execution_count": 17,
   "metadata": {},
   "outputs": [
    {
     "ename": "TypeError",
     "evalue": "unsupported operand type(s) for +: 'NoneType' and 'int'",
     "output_type": "error",
     "traceback": [
      "\u001b[0;31m---------------------------------------------------------------------------\u001b[0m",
      "\u001b[0;31mTypeError\u001b[0m                                 Traceback (most recent call last)",
      "Cell \u001b[0;32mIn[17], line 3\u001b[0m\n\u001b[1;32m      1\u001b[0m series_implementer \u001b[38;5;241m=\u001b[39m SeriesImplementer(series_mapping, sheet_name \u001b[38;5;241m=\u001b[39m series\u001b[38;5;241m.\u001b[39mworksheet\u001b[38;5;241m.\u001b[39msheet_name)\n\u001b[0;32m----> 3\u001b[0m formula_1_ast_new \u001b[38;5;241m=\u001b[39m \u001b[43mseries_implementer\u001b[49m\u001b[38;5;241;43m.\u001b[39;49m\u001b[43mreplace_range_nodes\u001b[49m\u001b[43m(\u001b[49m\u001b[43mformula_1_ast\u001b[49m\u001b[43m)\u001b[49m\n",
      "File \u001b[0;32m~/GitHub/speedsheet/excel-2-python/src/ast_building/series_implementer.py:177\u001b[0m, in \u001b[0;36mSeriesImplementer.replace_range_nodes\u001b[0;34m(self, ast)\u001b[0m\n\u001b[1;32m    171\u001b[0m     \u001b[38;5;28;01mreturn\u001b[39;00m xlcalculator\u001b[38;5;241m.\u001b[39mast_nodes\u001b[38;5;241m.\u001b[39mRangeNode(\n\u001b[1;32m    172\u001b[0m         xlcalculator\u001b[38;5;241m.\u001b[39mtokenizer\u001b[38;5;241m.\u001b[39mf_token(\n\u001b[1;32m    173\u001b[0m             tvalue\u001b[38;5;241m=\u001b[39mseries_uuids, ttype\u001b[38;5;241m=\u001b[39m\u001b[38;5;124m\"\u001b[39m\u001b[38;5;124moperand\u001b[39m\u001b[38;5;124m\"\u001b[39m, tsubtype\u001b[38;5;241m=\u001b[39m\u001b[38;5;124m\"\u001b[39m\u001b[38;5;124mrange\u001b[39m\u001b[38;5;124m\"\u001b[39m\n\u001b[1;32m    174\u001b[0m         )\n\u001b[1;32m    175\u001b[0m     )\n\u001b[1;32m    176\u001b[0m \u001b[38;5;28;01melif\u001b[39;00m \u001b[38;5;28misinstance\u001b[39m(ast, xlcalculator\u001b[38;5;241m.\u001b[39mast_nodes\u001b[38;5;241m.\u001b[39mFunctionNode):\n\u001b[0;32m--> 177\u001b[0m     modified_args \u001b[38;5;241m=\u001b[39m \u001b[43m[\u001b[49m\n\u001b[1;32m    178\u001b[0m \u001b[43m        \u001b[49m\u001b[38;5;28;43mself\u001b[39;49m\u001b[38;5;241;43m.\u001b[39;49m\u001b[43mreplace_range_nodes\u001b[49m\u001b[43m(\u001b[49m\u001b[43marg\u001b[49m\u001b[43m)\u001b[49m\n\u001b[1;32m    179\u001b[0m \u001b[43m        \u001b[49m\u001b[38;5;28;43;01mfor\u001b[39;49;00m\u001b[43m \u001b[49m\u001b[43marg\u001b[49m\u001b[43m \u001b[49m\u001b[38;5;129;43;01min\u001b[39;49;00m\u001b[43m \u001b[49m\u001b[43mast\u001b[49m\u001b[38;5;241;43m.\u001b[39;49m\u001b[43margs\u001b[49m\u001b[43m  \u001b[49m\u001b[38;5;66;43;03m# Corrected to use self for instance method call\u001b[39;49;00m\n\u001b[1;32m    180\u001b[0m \u001b[43m    \u001b[49m\u001b[43m]\u001b[49m\n\u001b[1;32m    181\u001b[0m     modified_function_node \u001b[38;5;241m=\u001b[39m xlcalculator\u001b[38;5;241m.\u001b[39mast_nodes\u001b[38;5;241m.\u001b[39mFunctionNode(ast\u001b[38;5;241m.\u001b[39mtoken)\n\u001b[1;32m    182\u001b[0m     modified_function_node\u001b[38;5;241m.\u001b[39margs \u001b[38;5;241m=\u001b[39m modified_args\n",
      "File \u001b[0;32m~/GitHub/speedsheet/excel-2-python/src/ast_building/series_implementer.py:178\u001b[0m, in \u001b[0;36m<listcomp>\u001b[0;34m(.0)\u001b[0m\n\u001b[1;32m    171\u001b[0m     \u001b[38;5;28;01mreturn\u001b[39;00m xlcalculator\u001b[38;5;241m.\u001b[39mast_nodes\u001b[38;5;241m.\u001b[39mRangeNode(\n\u001b[1;32m    172\u001b[0m         xlcalculator\u001b[38;5;241m.\u001b[39mtokenizer\u001b[38;5;241m.\u001b[39mf_token(\n\u001b[1;32m    173\u001b[0m             tvalue\u001b[38;5;241m=\u001b[39mseries_uuids, ttype\u001b[38;5;241m=\u001b[39m\u001b[38;5;124m\"\u001b[39m\u001b[38;5;124moperand\u001b[39m\u001b[38;5;124m\"\u001b[39m, tsubtype\u001b[38;5;241m=\u001b[39m\u001b[38;5;124m\"\u001b[39m\u001b[38;5;124mrange\u001b[39m\u001b[38;5;124m\"\u001b[39m\n\u001b[1;32m    174\u001b[0m         )\n\u001b[1;32m    175\u001b[0m     )\n\u001b[1;32m    176\u001b[0m \u001b[38;5;28;01melif\u001b[39;00m \u001b[38;5;28misinstance\u001b[39m(ast, xlcalculator\u001b[38;5;241m.\u001b[39mast_nodes\u001b[38;5;241m.\u001b[39mFunctionNode):\n\u001b[1;32m    177\u001b[0m     modified_args \u001b[38;5;241m=\u001b[39m [\n\u001b[0;32m--> 178\u001b[0m         \u001b[38;5;28;43mself\u001b[39;49m\u001b[38;5;241;43m.\u001b[39;49m\u001b[43mreplace_range_nodes\u001b[49m\u001b[43m(\u001b[49m\u001b[43marg\u001b[49m\u001b[43m)\u001b[49m\n\u001b[1;32m    179\u001b[0m         \u001b[38;5;28;01mfor\u001b[39;00m arg \u001b[38;5;129;01min\u001b[39;00m ast\u001b[38;5;241m.\u001b[39margs  \u001b[38;5;66;03m# Corrected to use self for instance method call\u001b[39;00m\n\u001b[1;32m    180\u001b[0m     ]\n\u001b[1;32m    181\u001b[0m     modified_function_node \u001b[38;5;241m=\u001b[39m xlcalculator\u001b[38;5;241m.\u001b[39mast_nodes\u001b[38;5;241m.\u001b[39mFunctionNode(ast\u001b[38;5;241m.\u001b[39mtoken)\n\u001b[1;32m    182\u001b[0m     modified_function_node\u001b[38;5;241m.\u001b[39margs \u001b[38;5;241m=\u001b[39m modified_args\n",
      "File \u001b[0;32m~/GitHub/speedsheet/excel-2-python/src/ast_building/series_implementer.py:165\u001b[0m, in \u001b[0;36mSeriesImplementer.replace_range_nodes\u001b[0;34m(self, ast)\u001b[0m\n\u001b[1;32m    162\u001b[0m \u001b[38;5;28;01mdef\u001b[39;00m \u001b[38;5;21mreplace_range_nodes\u001b[39m(\u001b[38;5;28mself\u001b[39m, ast):\n\u001b[1;32m    164\u001b[0m     \u001b[38;5;28;01mif\u001b[39;00m \u001b[38;5;28misinstance\u001b[39m(ast, xlcalculator\u001b[38;5;241m.\u001b[39mast_nodes\u001b[38;5;241m.\u001b[39mRangeNode):\n\u001b[0;32m--> 165\u001b[0m         series_range \u001b[38;5;241m=\u001b[39m \u001b[38;5;28;43mself\u001b[39;49m\u001b[38;5;241;43m.\u001b[39;49m\u001b[43mget_series_range_from_cell_range\u001b[49m\u001b[43m(\u001b[49m\n\u001b[1;32m    166\u001b[0m \u001b[43m            \u001b[49m\u001b[43mseries_mapping\u001b[49m\u001b[38;5;241;43m=\u001b[39;49m\u001b[38;5;28;43mself\u001b[39;49m\u001b[38;5;241;43m.\u001b[39;49m\u001b[43mseries_mapping\u001b[49m\u001b[43m,\u001b[49m\n\u001b[1;32m    167\u001b[0m \u001b[43m            \u001b[49m\u001b[43msheet_name\u001b[49m\u001b[38;5;241;43m=\u001b[39;49m\u001b[38;5;28;43mself\u001b[39;49m\u001b[38;5;241;43m.\u001b[39;49m\u001b[43msheet_name\u001b[49m\u001b[43m,\u001b[49m\n\u001b[1;32m    168\u001b[0m \u001b[43m            \u001b[49m\u001b[43mcell_range\u001b[49m\u001b[38;5;241;43m=\u001b[39;49m\u001b[43mast\u001b[49m\u001b[38;5;241;43m.\u001b[39;49m\u001b[43mtvalue\u001b[49m\u001b[43m,\u001b[49m\n\u001b[1;32m    169\u001b[0m \u001b[43m        \u001b[49m\u001b[43m)\u001b[49m\n\u001b[1;32m    170\u001b[0m         series_uuids \u001b[38;5;241m=\u001b[39m \u001b[38;5;28mself\u001b[39m\u001b[38;5;241m.\u001b[39mget_series_uuids_from_series_range(series_range)\n\u001b[1;32m    171\u001b[0m         \u001b[38;5;28;01mreturn\u001b[39;00m xlcalculator\u001b[38;5;241m.\u001b[39mast_nodes\u001b[38;5;241m.\u001b[39mRangeNode(\n\u001b[1;32m    172\u001b[0m             xlcalculator\u001b[38;5;241m.\u001b[39mtokenizer\u001b[38;5;241m.\u001b[39mf_token(\n\u001b[1;32m    173\u001b[0m                 tvalue\u001b[38;5;241m=\u001b[39mseries_uuids, ttype\u001b[38;5;241m=\u001b[39m\u001b[38;5;124m\"\u001b[39m\u001b[38;5;124moperand\u001b[39m\u001b[38;5;124m\"\u001b[39m, tsubtype\u001b[38;5;241m=\u001b[39m\u001b[38;5;124m\"\u001b[39m\u001b[38;5;124mrange\u001b[39m\u001b[38;5;124m\"\u001b[39m\n\u001b[1;32m    174\u001b[0m             )\n\u001b[1;32m    175\u001b[0m         )\n",
      "File \u001b[0;32m~/GitHub/speedsheet/excel-2-python/src/ast_building/series_implementer.py:102\u001b[0m, in \u001b[0;36mSeriesImplementer.get_series_range_from_cell_range\u001b[0;34m(series_mapping, sheet_name, cell_range)\u001b[0m\n\u001b[1;32m     87\u001b[0m cell_start \u001b[38;5;241m=\u001b[39m Cell(\n\u001b[1;32m     88\u001b[0m     column\u001b[38;5;241m=\u001b[39mcell_start_column,\n\u001b[1;32m     89\u001b[0m     row\u001b[38;5;241m=\u001b[39mcell_start_row,\n\u001b[0;32m   (...)\u001b[0m\n\u001b[1;32m     92\u001b[0m     value_type\u001b[38;5;241m=\u001b[39m\u001b[38;5;28;01mNone\u001b[39;00m,\n\u001b[1;32m     93\u001b[0m )\n\u001b[1;32m     94\u001b[0m cell_end \u001b[38;5;241m=\u001b[39m Cell(\n\u001b[1;32m     95\u001b[0m     column\u001b[38;5;241m=\u001b[39mcell_end_column,\n\u001b[1;32m     96\u001b[0m     row\u001b[38;5;241m=\u001b[39mcell_end_row,\n\u001b[0;32m   (...)\u001b[0m\n\u001b[1;32m     99\u001b[0m     value_type\u001b[38;5;241m=\u001b[39m\u001b[38;5;28;01mNone\u001b[39;00m,\n\u001b[1;32m    100\u001b[0m )\n\u001b[0;32m--> 102\u001b[0m cells_in_range \u001b[38;5;241m=\u001b[39m \u001b[43mSeriesImplementer\u001b[49m\u001b[38;5;241;43m.\u001b[39;49m\u001b[43mget_cells_between\u001b[49m\u001b[43m(\u001b[49m\u001b[43mcell_start\u001b[49m\u001b[43m,\u001b[49m\u001b[43m \u001b[49m\u001b[43mcell_end\u001b[49m\u001b[43m)\u001b[49m\n\u001b[1;32m    103\u001b[0m worksheet \u001b[38;5;241m=\u001b[39m Worksheet(\n\u001b[1;32m    104\u001b[0m     sheet_name\u001b[38;5;241m=\u001b[39msheet_name, workbook_file_path\u001b[38;5;241m=\u001b[39m\u001b[38;5;28;01mNone\u001b[39;00m, worksheet\u001b[38;5;241m=\u001b[39m\u001b[38;5;28;01mNone\u001b[39;00m\n\u001b[1;32m    105\u001b[0m )\n\u001b[1;32m    106\u001b[0m series_list \u001b[38;5;241m=\u001b[39m [\n\u001b[1;32m    107\u001b[0m     SeriesImplementer\u001b[38;5;241m.\u001b[39mget_series_from_cell_and_sheet_name(\n\u001b[1;32m    108\u001b[0m         series_mapping\u001b[38;5;241m=\u001b[39mseries_mapping, worksheet\u001b[38;5;241m=\u001b[39mworksheet, cell\u001b[38;5;241m=\u001b[39mcell\n\u001b[1;32m    109\u001b[0m     )\n\u001b[1;32m    110\u001b[0m     \u001b[38;5;28;01mfor\u001b[39;00m cell \u001b[38;5;129;01min\u001b[39;00m cells_in_range\n\u001b[1;32m    111\u001b[0m ]\n",
      "File \u001b[0;32m~/GitHub/speedsheet/excel-2-python/src/ast_building/series_implementer.py:25\u001b[0m, in \u001b[0;36mSeriesImplementer.get_cells_between\u001b[0;34m(cell_start, cell_end)\u001b[0m\n\u001b[1;32m     23\u001b[0m \u001b[38;5;250m\u001b[39m\u001b[38;5;124;03m\"\"\"cell_start and cell_end as inputs. Get a list of all cells between these two cells.\"\"\"\u001b[39;00m\n\u001b[1;32m     24\u001b[0m cells \u001b[38;5;241m=\u001b[39m []\n\u001b[0;32m---> 25\u001b[0m \u001b[38;5;28;01mfor\u001b[39;00m row \u001b[38;5;129;01min\u001b[39;00m \u001b[38;5;28mrange\u001b[39m(cell_start\u001b[38;5;241m.\u001b[39mrow, \u001b[43mcell_end\u001b[49m\u001b[38;5;241;43m.\u001b[39;49m\u001b[43mrow\u001b[49m\u001b[43m \u001b[49m\u001b[38;5;241;43m+\u001b[39;49m\u001b[43m \u001b[49m\u001b[38;5;241;43m1\u001b[39;49m):\n\u001b[1;32m     26\u001b[0m     \u001b[38;5;28;01mfor\u001b[39;00m column \u001b[38;5;129;01min\u001b[39;00m \u001b[38;5;28mrange\u001b[39m(cell_start\u001b[38;5;241m.\u001b[39mcolumn, cell_end\u001b[38;5;241m.\u001b[39mcolumn \u001b[38;5;241m+\u001b[39m \u001b[38;5;241m1\u001b[39m):\n\u001b[1;32m     27\u001b[0m         cells\u001b[38;5;241m.\u001b[39mappend(\n\u001b[1;32m     28\u001b[0m             Cell(\n\u001b[1;32m     29\u001b[0m                 row\u001b[38;5;241m=\u001b[39mrow,\n\u001b[0;32m   (...)\u001b[0m\n\u001b[1;32m     34\u001b[0m             )\n\u001b[1;32m     35\u001b[0m         )\n",
      "\u001b[0;31mTypeError\u001b[0m: unsupported operand type(s) for +: 'NoneType' and 'int'"
     ]
    }
   ],
   "source": [
    "series_implementer = SeriesImplementer(series_mapping, sheet_name = series.worksheet.sheet_name)\n",
    "\n",
    "formula_1_ast_new = series_implementer.replace_range_nodes(formula_1_ast)"
   ]
  },
  {
   "cell_type": "code",
   "execution_count": null,
   "metadata": {},
   "outputs": [],
   "source": [
    "formula_1_new = SeriesImplementer.serialise_ast_to_formula(formula_1_ast_new)"
   ]
  },
  {
   "cell_type": "code",
   "execution_count": null,
   "metadata": {},
   "outputs": [
    {
     "data": {
      "text/plain": [
       "'(SUM(88734fa4c9ea4b8f9548108b3e7bdde5_0_1) + SUM(88734fa4c9ea4b8f9548108b3e7bdde5_0_1))'"
      ]
     },
     "execution_count": 19,
     "metadata": {},
     "output_type": "execute_result"
    }
   ],
   "source": [
    "formula_1_new"
   ]
  },
  {
   "cell_type": "code",
   "execution_count": null,
   "metadata": {},
   "outputs": [],
   "source": [
    "formula_1_ast_new = FormulaParser.parse_formula(f'={formula_1_new}')"
   ]
  },
  {
   "cell_type": "code",
   "execution_count": null,
   "metadata": {},
   "outputs": [
    {
     "data": {
      "text/plain": [
       "'formula_1_ast_new.png'"
      ]
     },
     "execution_count": 21,
     "metadata": {},
     "output_type": "execute_result"
    }
   ],
   "source": [
    "formula_visualiser = FormulaVisualiser()\n",
    "ast_graph = formula_visualiser.visualise(formula_1_ast_new)\n",
    "ast_graph.render('formula_1_ast_new')"
   ]
  },
  {
   "cell_type": "code",
   "execution_count": null,
   "metadata": {},
   "outputs": [],
   "source": []
  }
 ],
 "metadata": {
  "kernelspec": {
   "display_name": "venv",
   "language": "python",
   "name": "python3"
  },
  "language_info": {
   "codemirror_mode": {
    "name": "ipython",
    "version": 3
   },
   "file_extension": ".py",
   "mimetype": "text/x-python",
   "name": "python",
   "nbconvert_exporter": "python",
   "pygments_lexer": "ipython3",
   "version": "3.11.5"
  }
 },
 "nbformat": 4,
 "nbformat_minor": 2
}
