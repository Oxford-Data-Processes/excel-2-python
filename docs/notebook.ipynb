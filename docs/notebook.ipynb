{
 "cells": [
  {
   "cell_type": "code",
   "execution_count": 16,
   "metadata": {},
   "outputs": [],
   "source": [
    "import yaml\n",
    "\n",
    "# Define the path to your YAML file\n",
    "yaml_file_path = 'pipeline_flow.yml'\n",
    "\n",
    "# Open the YAML file and load its contents\n",
    "with open(yaml_file_path, 'r') as file:\n",
    "    config = yaml.safe_load(file)\n",
    "\n",
    "\n"
   ]
  },
  {
   "cell_type": "code",
   "execution_count": 15,
   "metadata": {},
   "outputs": [
    {
     "data": {
      "text/plain": [
       "{'name': 'PythonPipelineBuilder',\n",
       " 'type': 'regular',\n",
       " 'description': 'Builds a Python pipeline',\n",
       " 'methods': [{'name': 'build_pipeline',\n",
       "   'type': 'static',\n",
       "   'inputs': [{'name': 'series_data', 'type': 'dict[UUID, list[Series]]'},\n",
       "    {'name': 'sorted_dag', 'type': 'list[UUID]'},\n",
       "    {'name': 'ast_generator_collection',\n",
       "     'type': 'dict[UUID, ASTGeneratorPython]'}],\n",
       "   'outputs': [{'name': 'python_pipeline', 'type': 'str'}]}]}"
      ]
     },
     "execution_count": 15,
     "metadata": {},
     "output_type": "execute_result"
    }
   ],
   "source": [
    "classes[-1]"
   ]
  },
  {
   "cell_type": "code",
   "execution_count": null,
   "metadata": {},
   "outputs": [],
   "source": []
  }
 ],
 "metadata": {
  "kernelspec": {
   "display_name": "venv",
   "language": "python",
   "name": "python3"
  },
  "language_info": {
   "codemirror_mode": {
    "name": "ipython",
    "version": 3
   },
   "file_extension": ".py",
   "mimetype": "text/x-python",
   "name": "python",
   "nbconvert_exporter": "python",
   "pygments_lexer": "ipython3",
   "version": "3.11.5"
  }
 },
 "nbformat": 4,
 "nbformat_minor": 2
}
