{
 "cells": [
  {
   "cell_type": "code",
   "execution_count": 1,
   "metadata": {},
   "outputs": [],
   "source": [
    "import os\n",
    "\n",
    "from series_extraction.excel_loader import ExcelLoader\n",
    "from series_extraction.excel_cleaner import ExcelCleaner\n",
    "from series_extraction.table_finder import TableFinder\n",
    "from series_extraction.series_extractor import SeriesExtractor\n",
    "from series_extraction.excel_compatibility_checker import ExcelCompatibilityChecker\n",
    "from series_extraction.series_iterator import SeriesIterator\n",
    "from series_extraction.series_mapper import SeriesMapper\n",
    "from series_extraction.excel_validator import ExcelValidator\n",
    "\n",
    "from ast_transformation.series_formula_generator import SeriesFormulaGenerator\n",
    "from ast_transformation.formula_generator import SeriesIdLoader\n",
    "from ast_transformation.formula_generator import FormulaGenerator\n",
    "\n",
    "from ast_building.formula_parser import FormulaParser\n",
    "from ast_building.series_implementer import SeriesImplementer\n",
    "\n",
    "from pipeline_building.series_dependencies_builder import SeriesDependenciesBuilder\n",
    "from pipeline_building.dag_sorter import DAGSorter\n",
    "\n",
    "from excel_builder import ExcelBuilder\n",
    "\n",
    "from excel_checker import ExcelChecker\n",
    "\n",
    "import pandas as pd\n",
    "import xlcalculator\n",
    "import ast\n",
    "import numpy as np\n"
   ]
  },
  {
   "cell_type": "code",
   "execution_count": 2,
   "metadata": {},
   "outputs": [],
   "source": [
    "current_directory = os.getcwd()\n",
    "\n",
    "parent_directory = os.path.abspath(os.path.join(current_directory, os.pardir))\n",
    "data_directory = os.path.join(parent_directory, 'data')\n",
    "\n",
    "project_name = 'average'\n",
    "\n",
    "excel_raw_file_path = os.path.join(data_directory, \"excel_files_raw\", f\"{project_name}_raw.xlsx\")\n",
    "excel_reduced_filepath = os.path.join(data_directory, \"excel_files_reduced\", f\"{project_name}_reduced.xlsx\")\n",
    "excel_reduced_clean_filepath = os.path.join(data_directory, \"excel_files_reduced_clean\", f\"{project_name}_reduced_clean.xlsx\")\n",
    "excel_reduced_clean_series_filepath = os.path.join(data_directory, \"excel_files_reduced_clean_series\", f\"{project_name}_reduced_clean_series.xlsx\")"
   ]
  },
  {
   "cell_type": "code",
   "execution_count": 3,
   "metadata": {},
   "outputs": [
    {
     "data": {
      "text/plain": [
       "True"
      ]
     },
     "execution_count": 3,
     "metadata": {},
     "output_type": "execute_result"
    }
   ],
   "source": [
    "excel_raw= ExcelLoader.load_file(excel_raw_file_path)\n",
    "excel_reduced = ExcelLoader.load_file(excel_reduced_filepath)\n",
    "is_valid = ExcelValidator.validate_excel(excel_reduced)\n",
    "if not is_valid:\n",
    "    raise Exception(\"Excel file is not valid\")\n",
    "\n",
    "excel_reduced_clean = ExcelCleaner.clean_excel(excel_reduced)\n",
    "ExcelBuilder.create_excel_from_workbook(excel_reduced_clean.workbook_with_formulas, excel_reduced_clean_filepath)\n",
    "\n",
    "extracted_tables, data = TableFinder.find_tables(excel_reduced_clean)\n",
    "is_compatible = ExcelCompatibilityChecker.check_file(excel_raw, excel_reduced, extracted_tables)\n",
    "if not is_compatible:\n",
    "    print(extracted_tables)\n",
    "    raise Exception(\"Excel file is not compatible\")\n",
    "\n",
    "series_dict = SeriesExtractor.extract_series(extracted_tables=extracted_tables, data=data)\n",
    "series_mapping = SeriesMapper.map_series(series_dict)\n",
    "series_iterator = SeriesIterator.iterate_series(series_dict)\n",
    "\n",
    "series_list = [series for series in series_iterator]\n",
    "\n",
    "series_list_with_formulas = [\n",
    "    series for series in series_list if series.formulas != [None, None]\n",
    "]\n",
    "series_list_with_values = [\n",
    "    series for series in series_list if series.formulas == [None, None]\n",
    "]\n",
    "\n",
    "series_list_new = []\n",
    "formula_1_ast_series_list = []\n",
    "ast_generator_dict = {}\n",
    "\n",
    "for series in series_list_with_formulas:\n",
    "    formula_1, formula_2 = SeriesFormulaGenerator.adjust_formulas(\n",
    "        series.formulas\n",
    "    )\n",
    "    if formula_1 is not None and formula_2 is not None:\n",
    "\n",
    "        series_implementer = SeriesImplementer(\n",
    "            series_mapping, sheet_name=series.worksheet.sheet_name\n",
    "        )\n",
    "\n",
    "        formula_1_ast = FormulaParser.parse_formula(formula_1)\n",
    "        formula_1_ast_series = series_implementer.update_ast(formula_1_ast)\n",
    "        formula_1_ast_series_list.append((series.series_id, formula_1_ast_series))\n",
    "\n",
    "        formula_2_ast = FormulaParser.parse_formula(formula_2)\n",
    "        formula_2_ast_series = series_implementer.update_ast(formula_2_ast)\n",
    "\n",
    "        SeriesFormulaGenerator.process_series_formulas(\n",
    "            series,\n",
    "            formula_1_ast_series,\n",
    "            formula_2_ast_series,\n",
    "            series_mapping,\n",
    "            series_dict,\n",
    "            series_list_new,\n",
    "        )\n",
    "\n",
    "        sheet_name = series.worksheet.sheet_name\n",
    "        series_list_within_sheet = series_dict.get(sheet_name)\n",
    "        ast_generator = FormulaGenerator.get_ast_generator(\n",
    "            formula_1_ast_series, formula_2_ast_series, series_list_within_sheet\n",
    "        )\n",
    "        ast_generator_dict[series.series_id] = ast_generator\n",
    "        \n",
    "\n",
    "series_list_updated = series_list_new + series_list_with_values\n",
    "\n",
    "ExcelBuilder.create_excel_from_series(series_list_updated, excel_reduced_clean_series_filepath)\n",
    "ExcelChecker.excels_are_equivalent(excel_reduced_clean_filepath, excel_reduced_clean_series_filepath)"
   ]
  },
  {
   "cell_type": "code",
   "execution_count": 4,
   "metadata": {},
   "outputs": [
    {
     "data": {
      "text/plain": [
       "dict_keys([SeriesId(sheet_name='Sheet1', series_header='average', series_header_cell_row=1, series_header_cell_column=3)])"
      ]
     },
     "execution_count": 4,
     "metadata": {},
     "output_type": "execute_result"
    }
   ],
   "source": [
    "ast_generator_dict.keys()"
   ]
  },
  {
   "cell_type": "code",
   "execution_count": 5,
   "metadata": {},
   "outputs": [],
   "source": [
    "series_dependencies = SeriesDependenciesBuilder.build_dependencies(formula_1_ast_series_list)\n",
    "sorted_dag = DAGSorter.sort_dag(series_dependencies)"
   ]
  },
  {
   "cell_type": "code",
   "execution_count": 6,
   "metadata": {},
   "outputs": [
    {
     "data": {
      "text/plain": [
       "[SeriesId(sheet_name='Sheet1', series_header='col_1', series_header_cell_row=1, series_header_cell_column=1),\n",
       " SeriesId(sheet_name='Sheet1', series_header='col_2', series_header_cell_row=1, series_header_cell_column=2),\n",
       " SeriesId(sheet_name='Sheet1', series_header='average', series_header_cell_row=1, series_header_cell_column=3)]"
      ]
     },
     "execution_count": 6,
     "metadata": {},
     "output_type": "execute_result"
    }
   ],
   "source": [
    "sorted_dag"
   ]
  },
  {
   "cell_type": "code",
   "execution_count": 7,
   "metadata": {},
   "outputs": [],
   "source": [
    "for series_id in sorted_dag:\n",
    "    if series_id in ast_generator_dict.keys():\n",
    "        ast_generator_dict[series_id]"
   ]
  },
  {
   "cell_type": "code",
   "execution_count": 8,
   "metadata": {},
   "outputs": [
    {
     "data": {
      "text/plain": [
       "<FunctionNode tvalue: 'AVERAGE', ttype: function, tsubtype: >"
      ]
     },
     "execution_count": 8,
     "metadata": {},
     "output_type": "execute_result"
    }
   ],
   "source": [
    "formula_1_ast_series"
   ]
  },
  {
   "cell_type": "code",
   "execution_count": 9,
   "metadata": {},
   "outputs": [],
   "source": [
    "import xlcalculator\n",
    "\n",
    "def extract_series_id_string_list(ast):\n",
    "    series_id_string_list = []\n",
    "\n",
    "    def replace_range_node(node):\n",
    "        return node\n",
    "\n",
    "    def replace_function_node(node):\n",
    "        modified_args = [traverse_ast(arg) for arg in node.args]\n",
    "        modified_function_node = xlcalculator.ast_nodes.FunctionNode(node.token)\n",
    "        modified_function_node.args = modified_args\n",
    "        return modified_function_node\n",
    "\n",
    "    def replace_operator_node(node):\n",
    "        modified_left = traverse_ast(node.left) if node.left else None\n",
    "        modified_right = traverse_ast(node.right) if node.right else None\n",
    "        modified_operator_node = xlcalculator.ast_nodes.OperatorNode(node.token)\n",
    "        modified_operator_node.left = modified_left\n",
    "        modified_operator_node.right = modified_right\n",
    "        return modified_operator_node\n",
    "\n",
    "    def traverse_ast(node):\n",
    "        if isinstance(node, xlcalculator.ast_nodes.RangeNode):\n",
    "            series_id_string_list.append(node.tvalue)\n",
    "            return replace_range_node(node)\n",
    "        elif isinstance(node, xlcalculator.ast_nodes.FunctionNode):\n",
    "            return replace_function_node(node)\n",
    "        elif isinstance(node, xlcalculator.ast_nodes.OperatorNode):\n",
    "            return replace_operator_node(node)\n",
    "        elif isinstance(node, list):\n",
    "            return [traverse_ast(item) for item in node]\n",
    "        elif hasattr(node, 'children'):\n",
    "            traverse_ast(node.children)\n",
    "        return node\n",
    "\n",
    "    traverse_ast(ast)\n",
    "    return series_id_string_list"
   ]
  },
  {
   "cell_type": "code",
   "execution_count": 10,
   "metadata": {},
   "outputs": [],
   "source": [
    "range_nodes_string_list = extract_series_id_string_list(formula_1_ast_series)"
   ]
  },
  {
   "cell_type": "code",
   "execution_count": 11,
   "metadata": {},
   "outputs": [
    {
     "data": {
      "text/plain": [
       "[\"(('Sheet1|col_1|1|1', 'Sheet1|col_2|1|2'), (0, 0))\"]"
      ]
     },
     "execution_count": 11,
     "metadata": {},
     "output_type": "execute_result"
    }
   ],
   "source": [
    "range_nodes_string_list"
   ]
  },
  {
   "cell_type": "code",
   "execution_count": 12,
   "metadata": {},
   "outputs": [
    {
     "name": "stdout",
     "output_type": "stream",
     "text": [
      "('Sheet1|col_1|1|1', 'Sheet1|col_2|1|2')\n"
     ]
    }
   ],
   "source": [
    "for range_nodes_string in range_nodes_string_list:\n",
    "    series_id_string_list, indexes = ast.literal_eval(range_nodes_string)\n",
    "    print(series_id_string_list)\n"
   ]
  },
  {
   "cell_type": "code",
   "execution_count": 13,
   "metadata": {},
   "outputs": [],
   "source": [
    "series_id_string_list = ('Sheet1|col_1|1|1', 'Sheet1|col_2|1|2')"
   ]
  },
  {
   "cell_type": "code",
   "execution_count": 14,
   "metadata": {},
   "outputs": [],
   "source": [
    "class FormulaEvaluator:\n",
    "    def __init__(self, series_id_string_list):\n",
    "        self.df_dict = {}\n",
    "        for series_id_string in series_id_string_list:\n",
    "            df = self.get_dataframe_from_series_id_string(series_id_string)\n",
    "            self.df_dict[series_id_string] = df\n",
    "\n",
    "    @staticmethod\n",
    "    def get_dataframe_from_series_id_string(series_id_string):\n",
    "        # Assume series_dict and SeriesIdLoader are predefined somewhere in the project\n",
    "        df_list = []\n",
    "        series_id = SeriesIdLoader.load_series_id_from_string(series_id_string)\n",
    "        sheet_name = series_id.sheet_name\n",
    "        for series in series_dict[sheet_name]:\n",
    "            if series.series_id == series_id:\n",
    "                df_list.append(pd.DataFrame(data=series.values, columns=[series.series_id.series_header]))\n",
    "        return pd.concat(df_list, axis=1)\n",
    "\n",
    "    def fetch_df(self, identifier, index_range):\n",
    "        df = self.df_dict[identifier]\n",
    "        start, end = index_range\n",
    "        return df.iloc[start:end+1]\n",
    "\n",
    "    def AVERAGE(self, args):\n",
    "        identifiers, index_range = args\n",
    "        series_list = [self.fetch_df(identifier, index_range) for identifier in identifiers]\n",
    "        numbers = [item for sublist in [series.select_dtypes(include=[np.number]).values.flatten() for series in series_list] for item in sublist]\n",
    "        return xlcalculator.xlfunctions.statistics.AVERAGE(numbers)\n",
    "\n",
    "    def eval_formula(self, formula):\n",
    "        tree = ast.parse(formula, mode='eval')\n",
    "        local_env = {\n",
    "            'AVERAGE': self.AVERAGE\n",
    "        }\n",
    "        compiled = compile(tree, filename=\"<ast>\", mode='eval')\n",
    "        result = eval(compiled, {'__builtins__': {}}, local_env)\n",
    "        return result\n"
   ]
  },
  {
   "cell_type": "code",
   "execution_count": 15,
   "metadata": {},
   "outputs": [],
   "source": [
    "evaluator = FormulaEvaluator(series_id_string_list)\n",
    "formula = \"AVERAGE((('Sheet1|col_1|1|1', 'Sheet1|col_2|1|2'), (0, 0)))\"\n",
    "result = evaluator.eval_formula(formula)\n",
    "assert result == 1.5  # Placeholder for actual result comparison\n"
   ]
  },
  {
   "cell_type": "code",
   "execution_count": null,
   "metadata": {},
   "outputs": [],
   "source": []
  },
  {
   "cell_type": "code",
   "execution_count": null,
   "metadata": {},
   "outputs": [],
   "source": []
  }
 ],
 "metadata": {
  "kernelspec": {
   "display_name": "venv",
   "language": "python",
   "name": "python3"
  },
  "language_info": {
   "codemirror_mode": {
    "name": "ipython",
    "version": 3
   },
   "file_extension": ".py",
   "mimetype": "text/x-python",
   "name": "python",
   "nbconvert_exporter": "python",
   "pygments_lexer": "ipython3",
   "version": "3.11.5"
  }
 },
 "nbformat": 4,
 "nbformat_minor": 2
}
