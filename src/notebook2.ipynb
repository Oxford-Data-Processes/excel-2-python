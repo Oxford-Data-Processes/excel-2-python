{
 "cells": [
  {
   "cell_type": "code",
   "execution_count": 1,
   "metadata": {},
   "outputs": [
    {
     "data": {
      "text/plain": [
       "Data_value    0.606741\n",
       "dtype: float64"
      ]
     },
     "execution_count": 1,
     "metadata": {},
     "output_type": "execute_result"
    }
   ],
   "source": [
    "import pandas as pd\n",
    "import numpy as np\n",
    "import ast\n",
    "\n",
    "def AVERAGE(series):\n",
    "    return np.mean(series.data.select_dtypes(include=[np.number]), axis=0)  # Compute mean of numeric data only\n",
    "\n",
    "class Series:\n",
    "    def __init__(self, series_header):\n",
    "        self.data = df[series_header]\n",
    "\n",
    "class SeriesRange:\n",
    "    def __init__(self, series, start_index, end_index):\n",
    "        # Concatenate the series and slice it to get the relevant data section\n",
    "        combined_series = pd.concat([s.data for s in series], axis=1)\n",
    "        self.data = combined_series.iloc[start_index:end_index + 1]  # Store the relevant data slice\n",
    "\n",
    "# Securely parse and evaluate the AST\n",
    "def eval_formula(formula):\n",
    "    tree = ast.parse(formula, mode='eval')\n",
    "    local_env = {\n",
    "        'AVERAGE': AVERAGE,\n",
    "        'SeriesRange': SeriesRange,\n",
    "        'Series': Series,\n",
    "        'np': np\n",
    "    }\n",
    "    compiled = compile(tree, filename=\"<ast>\", mode='eval')\n",
    "    result = eval(compiled, {'__builtins__': {}}, local_env)\n",
    "    return result\n",
    "\n",
    "# Example DataFrame\n",
    "df = pd.DataFrame({\n",
    "    'Period': pd.date_range(start='1/1/2020', periods=20),\n",
    "    'Data_value': np.random.rand(20)\n",
    "})\n",
    "\n",
    "# Example formula\n",
    "formula = \"AVERAGE(SeriesRange(series=[Series(series_header='Period'), Series(series_header='Data_value')], start_index=0, end_index=10))\"\n",
    "\n",
    "result = eval_formula(formula)\n",
    "result"
   ]
  },
  {
   "cell_type": "code",
   "execution_count": 6,
   "metadata": {},
   "outputs": [],
   "source": [
    "import pandas as pd\n",
    "import numpy as np\n",
    "import ast\n",
    "\n",
    "# Create a dictionary to store the DataFrame\n",
    "df_dict = {}\n",
    "df_dict[\"parking|Numerical Data|1|1\"] = pd.DataFrame({'Numerical Data': [2.0, 4.0]})\n",
    "\n",
    "# Helper function to fetch and slice DataFrame\n",
    "def fetch_df(identifier, index_range):\n",
    "    df = df_dict[identifier]\n",
    "    start, end = index_range\n",
    "    return df.iloc[start:end+1]\n",
    "\n",
    "def AVERAGE(args):\n",
    "    identifier, index_range = args\n",
    "    series = fetch_df(identifier, index_range)\n",
    "    # Compute mean of numeric data only and return as scalar\n",
    "    return np.mean(series.select_dtypes(include=[np.number])).item()\n",
    "\n",
    "# Securely parse and evaluate the AST\n",
    "def eval_formula(formula):\n",
    "    tree = ast.parse(formula, mode='eval')\n",
    "    local_env = {\n",
    "        'AVERAGE': AVERAGE\n",
    "    }\n",
    "    compiled = compile(tree, filename=\"<ast>\", mode='eval')\n",
    "    result = eval(compiled, {'__builtins__': {}}, local_env)\n",
    "    return result\n",
    "\n",
    "# Example formula, second tuple represents the start index and end index of the pandas dataframe\n",
    "formula = \"AVERAGE(('parking|Numerical Data|1|1', (0, 1)))\"\n",
    "\n",
    "# Evaluate the formula\n",
    "result = eval_formula(formula)\n",
    "assert result == 3.0  # This should pass if all is correct\n"
   ]
  },
  {
   "cell_type": "code",
   "execution_count": null,
   "metadata": {},
   "outputs": [],
   "source": []
  }
 ],
 "metadata": {
  "kernelspec": {
   "display_name": "venv",
   "language": "python",
   "name": "python3"
  },
  "language_info": {
   "codemirror_mode": {
    "name": "ipython",
    "version": 3
   },
   "file_extension": ".py",
   "mimetype": "text/x-python",
   "name": "python",
   "nbconvert_exporter": "python",
   "pygments_lexer": "ipython3",
   "version": "3.11.5"
  }
 },
 "nbformat": 4,
 "nbformat_minor": 2
}
