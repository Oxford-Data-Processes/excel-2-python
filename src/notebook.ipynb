{
 "cells": [
  {
   "cell_type": "code",
   "execution_count": 1,
   "metadata": {},
   "outputs": [],
   "source": [
    "import os\n",
    "\n",
    "from series_extraction.excel_loader import ExcelLoader\n",
    "from series_extraction.excel_cleaner import ExcelCleaner\n",
    "from series_extraction.table_extractor import TableExtractor\n",
    "from series_extraction.series_extractor import SeriesExtractor\n",
    "from series_extraction.excel_compatibility_checker import ExcelCompatibilityChecker\n",
    "from series_extraction.series_iterator import SeriesIterator\n",
    "from series_extraction.series_mapper import SeriesMapper\n",
    "from series_extraction.excel_validator import ExcelValidator\n",
    "\n",
    "from ast_transformation.series_formula_generator_old import SeriesFormulaGenerator\n",
    "from ast_transformation.formula_generator import FormulaGenerator\n",
    "from ast_transformation.formula_list_generator import FormulaListGenerator\n",
    "from ast_transformation.formula_evaluator import FormulaEvaluator\n",
    "\n",
    "from ast_building.formula_parser import FormulaParser\n",
    "from ast_building.series_implementer import SeriesImplementer\n",
    "\n",
    "from pipeline_building.series_dependencies_builder import SeriesDependenciesBuilder\n",
    "from pipeline_building.dag_sorter import DAGSorter\n",
    "\n",
    "from excel_builder import ExcelBuilder\n",
    "\n",
    "from excel_checker import ExcelChecker\n"
   ]
  },
  {
   "cell_type": "code",
   "execution_count": 2,
   "metadata": {},
   "outputs": [],
   "source": [
    "data_directory = \"/Users/chrislittle/GitHub/speedsheet/excel-2-python/data\"\n",
    "\n",
    "project_name = 'test_excel_3'\n",
    "\n",
    "excel_raw_file_path = os.path.join(data_directory, \"excel_files_raw\", f\"{project_name}_raw.xlsx\")\n",
    "excel_reduced_filepath = os.path.join(data_directory, \"excel_files_reduced\", f\"{project_name}_reduced.xlsx\")\n",
    "excel_reduced_clean_filepath = os.path.join(data_directory, \"excel_files_reduced_clean\", f\"{project_name}_reduced_clean.xlsx\")\n",
    "excel_reduced_clean_series_filepath = os.path.join(data_directory, \"excel_files_reduced_clean_series\", f\"{project_name}_reduced_clean_series.xlsx\")\n",
    "excel_reduced_clean_series_python_filepath = os.path.join(data_directory, \"excel_files_reduced_clean_series_python\", f\"{project_name}_reduced_clean_series_python.xlsx\")"
   ]
  },
  {
   "cell_type": "code",
   "execution_count": 3,
   "metadata": {},
   "outputs": [],
   "source": [
    "def get_evaluated_results_from_formula_ast(formula_ast, series_values_dict, values_length):\n",
    "    formula_list_generator = FormulaListGenerator(formula_ast, series_values_dict)\n",
    "    formula_list = formula_list_generator.generate_formula_list(0, values_length-1)\n",
    "    formula_strings = [str(formula) for formula in formula_list]\n",
    "\n",
    "    print(\"formula_strings: \", formula_strings)\n",
    "\n",
    "    formula_evaluator = FormulaEvaluator()\n",
    "\n",
    "    results = [formula_evaluator.evaluate_formula(f\"={formula_string}\") for formula_string in formula_strings]\n",
    "\n",
    "    return results"
   ]
  },
  {
   "cell_type": "code",
   "execution_count": 4,
   "metadata": {},
   "outputs": [],
   "source": [
    "excel_raw= ExcelLoader.load_file(excel_raw_file_path)\n",
    "excel_reduced = ExcelLoader.load_file(excel_reduced_filepath)\n",
    "is_valid = ExcelValidator.validate_excel(excel_reduced)\n",
    "if not is_valid:\n",
    "    raise Exception(\"Excel file is not valid\")\n",
    "\n",
    "excel_reduced_clean = ExcelCleaner.clean_excel(excel_reduced)\n",
    "ExcelBuilder.create_excel_from_workbook(excel_reduced_clean.workbook_with_formulas, excel_reduced_clean_filepath)\n",
    "\n",
    "extracted_tables, workbook_data = TableExtractor.extract_tables(excel_reduced_clean)\n",
    "is_compatible = ExcelCompatibilityChecker.check_file(excel_raw, excel_reduced, extracted_tables)\n",
    "if not is_compatible:\n",
    "    raise Exception(\"Excel file is not compatible\")\n",
    "\n",
    "series_dict = SeriesExtractor.extract_series(extracted_tables=extracted_tables, workbook_data=workbook_data)\n",
    "series_mapping = SeriesMapper.map_series(series_dict)\n",
    "series_iterator = SeriesIterator.iterate_series(series_dict)\n",
    "\n",
    "series_list = [series for series in series_iterator]\n",
    "\n",
    "series_list_with_formulas = [\n",
    "    series for series in series_list if series.formulas != [None, None]\n",
    "]\n",
    "series_list_with_values = [\n",
    "    series for series in series_list if series.formulas == [None, None]\n",
    "]\n",
    "\n",
    "series_list_new = []\n",
    "formula_1_ast_series_list = []\n",
    "generic_formula_dictionary = {}\n",
    "\n",
    "for series in series_list_with_formulas:\n",
    "    formula_1, formula_2 = SeriesFormulaGenerator.adjust_formulas(\n",
    "        series.formulas\n",
    "    )\n",
    "    if formula_1 is not None and formula_2 is not None:\n",
    "\n",
    "        series_implementer = SeriesImplementer(\n",
    "            series_mapping, sheet_name=series.worksheet.sheet_name\n",
    "        )\n",
    "\n",
    "        formula_1_ast = FormulaParser.parse_formula(formula_1)\n",
    "        formula_1_ast_series = series_implementer.update_ast(formula_1_ast)\n",
    "        formula_1_ast_series_list.append((series.series_id, formula_1_ast_series))\n",
    "\n",
    "        formula_2_ast = FormulaParser.parse_formula(formula_2)\n",
    "        formula_2_ast_series = series_implementer.update_ast(formula_2_ast)\n",
    "\n",
    "        generic_formula_ast = FormulaGenerator.traverse_and_replace(formula_1_ast_series, formula_2_ast_series)\n",
    "\n",
    "        generic_formula_dictionary[series.series_id] = generic_formula_ast\n",
    "\n"
   ]
  },
  {
   "cell_type": "code",
   "execution_count": 5,
   "metadata": {},
   "outputs": [],
   "source": [
    "series_values_dict = {str(series.series_id): series.values for series in series_list}"
   ]
  },
  {
   "cell_type": "code",
   "execution_count": 6,
   "metadata": {},
   "outputs": [
    {
     "data": {
      "text/plain": [
       "[(SeriesId(sheet_name='toyota_21_analysis', series_header='Payment to TGB minus costs', series_header_cell_row=1, series_header_cell_column=4),\n",
       "  \"SUM((('toyota_21_analysis|Toyota Revenue|1|3',), (0, 0), (1, 1)), (('toyota_21_analysis|50% of Parking Costs|1|5',), (0, 0), (1, 1)), (('toyota_21_analysis|50% of Ad-hoc|1|6',), (0, 0), (1, 1)))\"),\n",
       " (SeriesId(sheet_name='toyota_21_analysis', series_header='Total Costs (50%)', series_header_cell_row=1, series_header_cell_column=7),\n",
       "  \"(- ((('toyota_21_analysis|50% of Ad-hoc|1|6',), (0, 0), (1, 1)))) + (- ((('toyota_21_analysis|50% of Parking Costs|1|5',), (0, 0), (1, 1))))\"),\n",
       " (SeriesId(sheet_name='toyota_21_analysis', series_header='Hiyacar Net', series_header_cell_row=1, series_header_cell_column=8),\n",
       "  \"(((('toyota_21_analysis|Revenue after insurance & CDW|1|2',), (0, 0), (1, 1))) - ((('toyota_21_analysis|Payment to TGB minus costs|1|4',), (0, 0), (1, 1)))) - ((('toyota_21_analysis|Total Costs (50%)|1|7',), (0, 0), (1, 1)))\"),\n",
       " (SeriesId(sheet_name='toyota_21_analysis', series_header='net per car', series_header_cell_row=1, series_header_cell_column=9),\n",
       "  \"((('toyota_21_analysis|Hiyacar Net|1|8',), (0, 0), (1, 1))) / (51)\"),\n",
       " (SeriesId(sheet_name='analysis_by_vrm', series_header='Hiyacar Net Before', series_header_cell_row=1, series_header_cell_column=8),\n",
       "  \"IF((((('analysis_by_vrm|Net Revenue|1|2',), (0, 0), (1, 1))) * ((('analysis_by_vrm|Percentage|1|13',), (0, 0), (0, 0)))) > (((('analysis_by_vrm|Vehicles MRG|1|3',), (0, 0), (1, 1))) * (6)), ((('analysis_by_vrm|Net Revenue|1|2',), (0, 0), (1, 1))) - (((('analysis_by_vrm|Net Revenue|1|2',), (0, 0), (1, 1))) * ((('analysis_by_vrm|Percentage|1|13',), (0, 0), (0, 0)))), ((('analysis_by_vrm|Net Revenue|1|2',), (0, 0), (1, 1))) - (((('analysis_by_vrm|Vehicles MRG|1|3',), (0, 0), (1, 1))) * (6)))\"),\n",
       " (SeriesId(sheet_name='analysis_by_vrm', series_header='Col4', series_header_cell_row=1, series_header_cell_column=10),\n",
       "  \"((('analysis_by_vrm|Net Revenue|1|2',), (0, 0), (1, 1))) - (((('analysis_by_vrm|Col3|1|9',), (0, 0), (1, 1))) * (6))\"),\n",
       " (SeriesId(sheet_name='updated_mrgs', series_header='Equivelant MRG on AAM Contract', series_header_cell_row=1, series_header_cell_column=5),\n",
       "  \"(('updated_mrgs|Proposed (Scenario 1: Updated MRGs)|1|4',), (0, 0), (1, 1))\"),\n",
       " (SeriesId(sheet_name='updated_mrgs', series_header='Proposed (Scenario 1: Updated MRGs ex VAT)', series_header_cell_row=1, series_header_cell_column=6),\n",
       "  \"((('updated_mrgs|Proposed (Scenario 1: Updated MRGs)|1|4',), (0, 0), (1, 1))) / (1.2)\"),\n",
       " (SeriesId(sheet_name='updated_mrgs', series_header='Calculation', series_header_cell_row=1, series_header_cell_column=11),\n",
       "  \"((('updated_mrgs|Proposed (Scenario 1: Updated MRGs)|1|4',), (0, 0), (1, 1))) * ((('updated_mrgs|Vehicle Count|1|10',), (0, 0), (1, 1)))\")]"
      ]
     },
     "execution_count": 6,
     "metadata": {},
     "output_type": "execute_result"
    }
   ],
   "source": [
    "[(key, str(value)) for key,value in generic_formula_dictionary.items()]"
   ]
  },
  {
   "cell_type": "code",
   "execution_count": 7,
   "metadata": {},
   "outputs": [],
   "source": [
    "series_dependencies = SeriesDependenciesBuilder.build_dependencies(generic_formula_dictionary)"
   ]
  },
  {
   "cell_type": "code",
   "execution_count": 8,
   "metadata": {},
   "outputs": [
    {
     "data": {
      "text/plain": [
       "{SeriesId(sheet_name='toyota_21_analysis', series_header='Payment to TGB minus costs', series_header_cell_row=1, series_header_cell_column=4): [SeriesId(sheet_name='toyota_21_analysis', series_header='Toyota Revenue', series_header_cell_row=1, series_header_cell_column=3),\n",
       "  SeriesId(sheet_name='toyota_21_analysis', series_header='50% of Parking Costs', series_header_cell_row=1, series_header_cell_column=5),\n",
       "  SeriesId(sheet_name='toyota_21_analysis', series_header='50% of Ad-hoc', series_header_cell_row=1, series_header_cell_column=6)],\n",
       " SeriesId(sheet_name='toyota_21_analysis', series_header='Total Costs (50%)', series_header_cell_row=1, series_header_cell_column=7): [SeriesId(sheet_name='toyota_21_analysis', series_header='50% of Ad-hoc', series_header_cell_row=1, series_header_cell_column=6),\n",
       "  SeriesId(sheet_name='toyota_21_analysis', series_header='50% of Parking Costs', series_header_cell_row=1, series_header_cell_column=5)],\n",
       " SeriesId(sheet_name='toyota_21_analysis', series_header='Hiyacar Net', series_header_cell_row=1, series_header_cell_column=8): [SeriesId(sheet_name='toyota_21_analysis', series_header='Total Costs (50%)', series_header_cell_row=1, series_header_cell_column=7),\n",
       "  SeriesId(sheet_name='toyota_21_analysis', series_header='Payment to TGB minus costs', series_header_cell_row=1, series_header_cell_column=4),\n",
       "  SeriesId(sheet_name='toyota_21_analysis', series_header='Revenue after insurance & CDW', series_header_cell_row=1, series_header_cell_column=2)],\n",
       " SeriesId(sheet_name='toyota_21_analysis', series_header='net per car', series_header_cell_row=1, series_header_cell_column=9): [SeriesId(sheet_name='toyota_21_analysis', series_header='Hiyacar Net', series_header_cell_row=1, series_header_cell_column=8)],\n",
       " SeriesId(sheet_name='analysis_by_vrm', series_header='Hiyacar Net Before', series_header_cell_row=1, series_header_cell_column=8): [SeriesId(sheet_name='analysis_by_vrm', series_header='Vehicles MRG', series_header_cell_row=1, series_header_cell_column=3),\n",
       "  SeriesId(sheet_name='analysis_by_vrm', series_header='Percentage', series_header_cell_row=1, series_header_cell_column=13),\n",
       "  SeriesId(sheet_name='analysis_by_vrm', series_header='Net Revenue', series_header_cell_row=1, series_header_cell_column=2)],\n",
       " SeriesId(sheet_name='analysis_by_vrm', series_header='Col4', series_header_cell_row=1, series_header_cell_column=10): [SeriesId(sheet_name='analysis_by_vrm', series_header='Net Revenue', series_header_cell_row=1, series_header_cell_column=2),\n",
       "  SeriesId(sheet_name='analysis_by_vrm', series_header='Col3', series_header_cell_row=1, series_header_cell_column=9)],\n",
       " SeriesId(sheet_name='updated_mrgs', series_header='Equivelant MRG on AAM Contract', series_header_cell_row=1, series_header_cell_column=5): [SeriesId(sheet_name='updated_mrgs', series_header='Proposed (Scenario 1: Updated MRGs)', series_header_cell_row=1, series_header_cell_column=4)],\n",
       " SeriesId(sheet_name='updated_mrgs', series_header='Proposed (Scenario 1: Updated MRGs ex VAT)', series_header_cell_row=1, series_header_cell_column=6): [SeriesId(sheet_name='updated_mrgs', series_header='Proposed (Scenario 1: Updated MRGs)', series_header_cell_row=1, series_header_cell_column=4)],\n",
       " SeriesId(sheet_name='updated_mrgs', series_header='Calculation', series_header_cell_row=1, series_header_cell_column=11): [SeriesId(sheet_name='updated_mrgs', series_header='Proposed (Scenario 1: Updated MRGs)', series_header_cell_row=1, series_header_cell_column=4),\n",
       "  SeriesId(sheet_name='updated_mrgs', series_header='Vehicle Count', series_header_cell_row=1, series_header_cell_column=10)]}"
      ]
     },
     "execution_count": 8,
     "metadata": {},
     "output_type": "execute_result"
    }
   ],
   "source": [
    "series_dependencies"
   ]
  },
  {
   "cell_type": "code",
   "execution_count": 9,
   "metadata": {},
   "outputs": [],
   "source": [
    "sorted_dag = DAGSorter.sort_dag(series_dependencies)"
   ]
  },
  {
   "cell_type": "code",
   "execution_count": 10,
   "metadata": {},
   "outputs": [
    {
     "data": {
      "text/plain": [
       "[SeriesId(sheet_name='toyota_21_analysis', series_header='Toyota Revenue', series_header_cell_row=1, series_header_cell_column=3),\n",
       " SeriesId(sheet_name='toyota_21_analysis', series_header='50% of Parking Costs', series_header_cell_row=1, series_header_cell_column=5),\n",
       " SeriesId(sheet_name='toyota_21_analysis', series_header='50% of Ad-hoc', series_header_cell_row=1, series_header_cell_column=6),\n",
       " SeriesId(sheet_name='toyota_21_analysis', series_header='Payment to TGB minus costs', series_header_cell_row=1, series_header_cell_column=4),\n",
       " SeriesId(sheet_name='toyota_21_analysis', series_header='Total Costs (50%)', series_header_cell_row=1, series_header_cell_column=7),\n",
       " SeriesId(sheet_name='toyota_21_analysis', series_header='Revenue after insurance & CDW', series_header_cell_row=1, series_header_cell_column=2),\n",
       " SeriesId(sheet_name='toyota_21_analysis', series_header='Hiyacar Net', series_header_cell_row=1, series_header_cell_column=8),\n",
       " SeriesId(sheet_name='toyota_21_analysis', series_header='net per car', series_header_cell_row=1, series_header_cell_column=9),\n",
       " SeriesId(sheet_name='analysis_by_vrm', series_header='Vehicles MRG', series_header_cell_row=1, series_header_cell_column=3),\n",
       " SeriesId(sheet_name='analysis_by_vrm', series_header='Percentage', series_header_cell_row=1, series_header_cell_column=13),\n",
       " SeriesId(sheet_name='analysis_by_vrm', series_header='Net Revenue', series_header_cell_row=1, series_header_cell_column=2),\n",
       " SeriesId(sheet_name='analysis_by_vrm', series_header='Hiyacar Net Before', series_header_cell_row=1, series_header_cell_column=8),\n",
       " SeriesId(sheet_name='analysis_by_vrm', series_header='Col3', series_header_cell_row=1, series_header_cell_column=9),\n",
       " SeriesId(sheet_name='analysis_by_vrm', series_header='Col4', series_header_cell_row=1, series_header_cell_column=10),\n",
       " SeriesId(sheet_name='updated_mrgs', series_header='Proposed (Scenario 1: Updated MRGs)', series_header_cell_row=1, series_header_cell_column=4),\n",
       " SeriesId(sheet_name='updated_mrgs', series_header='Equivelant MRG on AAM Contract', series_header_cell_row=1, series_header_cell_column=5),\n",
       " SeriesId(sheet_name='updated_mrgs', series_header='Proposed (Scenario 1: Updated MRGs ex VAT)', series_header_cell_row=1, series_header_cell_column=6),\n",
       " SeriesId(sheet_name='updated_mrgs', series_header='Vehicle Count', series_header_cell_row=1, series_header_cell_column=10),\n",
       " SeriesId(sheet_name='updated_mrgs', series_header='Calculation', series_header_cell_row=1, series_header_cell_column=11)]"
      ]
     },
     "execution_count": 10,
     "metadata": {},
     "output_type": "execute_result"
    }
   ],
   "source": [
    "sorted_dag"
   ]
  },
  {
   "cell_type": "code",
   "execution_count": 11,
   "metadata": {},
   "outputs": [
    {
     "name": "stdout",
     "output_type": "stream",
     "text": [
      "Series ID: toyota_21_analysis|Payment to TGB minus costs|1|4\n",
      "Formula Ast:  SUM((('toyota_21_analysis|Toyota Revenue|1|3',), (0, 0), (1, 1)), (('toyota_21_analysis|50% of Parking Costs|1|5',), (0, 0), (1, 1)), (('toyota_21_analysis|50% of Ad-hoc|1|6',), (0, 0), (1, 1)))\n",
      "Values Length:  2\n",
      "Start new index 0\n",
      "End new index 0\n",
      "ARRAY VALUES:  [[11714.5]]\n",
      "Start new index 0\n",
      "End new index 0\n",
      "ARRAY VALUES:  [[-1681.94]]\n",
      "Start new index 0\n",
      "End new index 0\n",
      "ARRAY VALUES:  [[-1064.4]]\n",
      "Start new index 1\n",
      "End new index 1\n",
      "ARRAY VALUES:  [[12837.68]]\n",
      "Start new index 1\n",
      "End new index 1\n",
      "ARRAY VALUES:  [[-1681.94]]\n",
      "Start new index 1\n",
      "End new index 1\n",
      "ARRAY VALUES:  [[-1220.48]]\n",
      "formula_strings:  ['SUM(ARRAY(ARRAYROW(11714.5)), ARRAY(ARRAYROW(-1681.94)), ARRAY(ARRAYROW(-1064.4)))', 'SUM(ARRAY(ARRAYROW(12837.68)), ARRAY(ARRAYROW(-1681.94)), ARRAY(ARRAYROW(-1220.48)))']\n",
      "Series ID: toyota_21_analysis|Total Costs (50%)|1|7\n",
      "Formula Ast:  (- ((('toyota_21_analysis|50% of Ad-hoc|1|6',), (0, 0), (1, 1)))) + (- ((('toyota_21_analysis|50% of Parking Costs|1|5',), (0, 0), (1, 1))))\n",
      "Values Length:  2\n",
      "Start new index 0\n",
      "End new index 0\n",
      "ARRAY VALUES:  [[-1064.4]]\n",
      "Start new index 0\n",
      "End new index 0\n",
      "ARRAY VALUES:  [[-1681.94]]\n",
      "Start new index 1\n",
      "End new index 1\n",
      "ARRAY VALUES:  [[-1220.48]]\n",
      "Start new index 1\n",
      "End new index 1\n",
      "ARRAY VALUES:  [[-1681.94]]\n",
      "formula_strings:  ['(- (ARRAY(ARRAYROW(-1064.4)))) + (- (ARRAY(ARRAYROW(-1681.94))))', '(- (ARRAY(ARRAYROW(-1220.48)))) + (- (ARRAY(ARRAYROW(-1681.94))))']\n",
      "Series ID: toyota_21_analysis|Hiyacar Net|1|8\n",
      "Formula Ast:  (((('toyota_21_analysis|Revenue after insurance & CDW|1|2',), (0, 0), (1, 1))) - ((('toyota_21_analysis|Payment to TGB minus costs|1|4',), (0, 0), (1, 1)))) - ((('toyota_21_analysis|Total Costs (50%)|1|7',), (0, 0), (1, 1)))\n",
      "Values Length:  2\n",
      "Start new index 0\n",
      "End new index 0\n",
      "ARRAY VALUES:  [[18820.579999999998]]\n",
      "Start new index 0\n",
      "End new index 0\n",
      "ARRAY VALUES:  [[8968.16]]\n",
      "Start new index 0\n",
      "End new index 0\n",
      "ARRAY VALUES:  [[2746.34]]\n",
      "Start new index 1\n",
      "End new index 1\n",
      "ARRAY VALUES:  [[9567.82]]\n",
      "Start new index 1\n",
      "End new index 1\n",
      "ARRAY VALUES:  [[9935.26]]\n",
      "Start new index 1\n",
      "End new index 1\n",
      "ARRAY VALUES:  [[2902.42]]\n",
      "formula_strings:  ['((ARRAY(ARRAYROW(18820.579999999998))) - (ARRAY(ARRAYROW(8968.16)))) - (ARRAY(ARRAYROW(2746.34)))', '((ARRAY(ARRAYROW(9567.82))) - (ARRAY(ARRAYROW(9935.26)))) - (ARRAY(ARRAYROW(2902.42)))']\n",
      "Series ID: toyota_21_analysis|net per car|1|9\n",
      "Formula Ast:  ((('toyota_21_analysis|Hiyacar Net|1|8',), (0, 0), (1, 1))) / (51)\n",
      "Values Length:  2\n",
      "Start new index 0\n",
      "End new index 0\n",
      "ARRAY VALUES:  [[7106.079999999998]]\n",
      "Start new index 1\n",
      "End new index 1\n",
      "ARRAY VALUES:  [[-3269.8600000000006]]\n",
      "formula_strings:  ['(ARRAY(ARRAYROW(7106.079999999998))) / (51)', '(ARRAY(ARRAYROW(-3269.8600000000006))) / (51)']\n",
      "Series ID: analysis_by_vrm|Hiyacar Net Before|1|8\n",
      "Formula Ast:  IF((((('analysis_by_vrm|Net Revenue|1|2',), (0, 0), (1, 1))) * ((('analysis_by_vrm|Percentage|1|13',), (0, 0), (0, 0)))) > (((('analysis_by_vrm|Vehicles MRG|1|3',), (0, 0), (1, 1))) * (6)), ((('analysis_by_vrm|Net Revenue|1|2',), (0, 0), (1, 1))) - (((('analysis_by_vrm|Net Revenue|1|2',), (0, 0), (1, 1))) * ((('analysis_by_vrm|Percentage|1|13',), (0, 0), (0, 0)))), ((('analysis_by_vrm|Net Revenue|1|2',), (0, 0), (1, 1))) - (((('analysis_by_vrm|Vehicles MRG|1|3',), (0, 0), (1, 1))) * (6)))\n",
      "Values Length:  2\n",
      "Start new index 0\n",
      "End new index 0\n",
      "ARRAY VALUES:  [[3544.51]]\n",
      "Start new index 0\n",
      "End new index 0\n",
      "ARRAY VALUES:  [[0.5]]\n",
      "Start new index 0\n",
      "End new index 0\n",
      "ARRAY VALUES:  [[211.2]]\n",
      "Start new index 0\n",
      "End new index 0\n",
      "ARRAY VALUES:  [[3544.51]]\n",
      "Start new index 0\n",
      "End new index 0\n",
      "ARRAY VALUES:  [[3544.51]]\n",
      "Start new index 0\n",
      "End new index 0\n",
      "ARRAY VALUES:  [[0.5]]\n",
      "Start new index 0\n",
      "End new index 0\n",
      "ARRAY VALUES:  [[3544.51]]\n",
      "Start new index 0\n",
      "End new index 0\n",
      "ARRAY VALUES:  [[211.2]]\n",
      "Start new index 1\n",
      "End new index 1\n",
      "ARRAY VALUES:  [[3489.6]]\n",
      "Start new index 0\n",
      "End new index 0\n",
      "ARRAY VALUES:  [[0.5]]\n",
      "Start new index 1\n",
      "End new index 1\n",
      "ARRAY VALUES:  [[211.2]]\n",
      "Start new index 1\n",
      "End new index 1\n",
      "ARRAY VALUES:  [[3489.6]]\n",
      "Start new index 1\n",
      "End new index 1\n",
      "ARRAY VALUES:  [[3489.6]]\n",
      "Start new index 0\n",
      "End new index 0\n",
      "ARRAY VALUES:  [[0.5]]\n",
      "Start new index 1\n",
      "End new index 1\n",
      "ARRAY VALUES:  [[3489.6]]\n",
      "Start new index 1\n",
      "End new index 1\n",
      "ARRAY VALUES:  [[211.2]]\n",
      "formula_strings:  ['IF(((ARRAY(ARRAYROW(3544.51))) * (ARRAY(ARRAYROW(0.5)))) > ((ARRAY(ARRAYROW(211.2))) * (6)), (ARRAY(ARRAYROW(3544.51))) - ((ARRAY(ARRAYROW(3544.51))) * (ARRAY(ARRAYROW(0.5)))), (ARRAY(ARRAYROW(3544.51))) - ((ARRAY(ARRAYROW(211.2))) * (6)))', 'IF(((ARRAY(ARRAYROW(3489.6))) * (ARRAY(ARRAYROW(0.5)))) > ((ARRAY(ARRAYROW(211.2))) * (6)), (ARRAY(ARRAYROW(3489.6))) - ((ARRAY(ARRAYROW(3489.6))) * (ARRAY(ARRAYROW(0.5)))), (ARRAY(ARRAYROW(3489.6))) - ((ARRAY(ARRAYROW(211.2))) * (6)))']\n",
      "Series ID: analysis_by_vrm|Col4|1|10\n",
      "Formula Ast:  ((('analysis_by_vrm|Net Revenue|1|2',), (0, 0), (1, 1))) - (((('analysis_by_vrm|Col3|1|9',), (0, 0), (1, 1))) * (6))\n",
      "Values Length:  2\n",
      "Start new index 0\n",
      "End new index 0\n",
      "ARRAY VALUES:  [[3544.51]]\n",
      "Start new index 0\n",
      "End new index 0\n",
      "ARRAY VALUES:  [[0]]\n",
      "Start new index 1\n",
      "End new index 1\n",
      "ARRAY VALUES:  [[3489.6]]\n",
      "Start new index 1\n",
      "End new index 1\n",
      "ARRAY VALUES:  [[0]]\n",
      "formula_strings:  ['(ARRAY(ARRAYROW(3544.51))) - ((ARRAY(ARRAYROW(0))) * (6))', '(ARRAY(ARRAYROW(3489.6))) - ((ARRAY(ARRAYROW(0))) * (6))']\n",
      "Series ID: updated_mrgs|Equivelant MRG on AAM Contract|1|5\n",
      "Formula Ast:  (('updated_mrgs|Proposed (Scenario 1: Updated MRGs)|1|4',), (0, 0), (1, 1))\n",
      "Values Length:  2\n",
      "Start new index 0\n",
      "End new index 0\n",
      "ARRAY VALUES:  [[476.75]]\n",
      "Start new index 1\n",
      "End new index 1\n",
      "ARRAY VALUES:  [[428.75]]\n",
      "formula_strings:  ['ARRAY(ARRAYROW(476.75))', 'ARRAY(ARRAYROW(428.75))']\n",
      "Series ID: updated_mrgs|Proposed (Scenario 1: Updated MRGs ex VAT)|1|6\n",
      "Formula Ast:  ((('updated_mrgs|Proposed (Scenario 1: Updated MRGs)|1|4',), (0, 0), (1, 1))) / (1.2)\n",
      "Values Length:  2\n",
      "Start new index 0\n",
      "End new index 0\n",
      "ARRAY VALUES:  [[476.75]]\n",
      "Start new index 1\n",
      "End new index 1\n",
      "ARRAY VALUES:  [[428.75]]\n",
      "formula_strings:  ['(ARRAY(ARRAYROW(476.75))) / (1.2)', '(ARRAY(ARRAYROW(428.75))) / (1.2)']\n",
      "Series ID: updated_mrgs|Calculation|1|11\n",
      "Formula Ast:  ((('updated_mrgs|Proposed (Scenario 1: Updated MRGs)|1|4',), (0, 0), (1, 1))) * ((('updated_mrgs|Vehicle Count|1|10',), (0, 0), (1, 1)))\n",
      "Values Length:  2\n",
      "Start new index 0\n",
      "End new index 0\n",
      "ARRAY VALUES:  [[476.75]]\n",
      "Start new index 0\n",
      "End new index 0\n",
      "ARRAY VALUES:  [[1]]\n",
      "Start new index 1\n",
      "End new index 1\n",
      "ARRAY VALUES:  [[428.75]]\n",
      "Start new index 1\n",
      "End new index 1\n",
      "ARRAY VALUES:  [[1]]\n",
      "formula_strings:  ['(ARRAY(ARRAYROW(476.75))) * (ARRAY(ARRAYROW(1)))', '(ARRAY(ARRAYROW(428.75))) * (ARRAY(ARRAYROW(1)))']\n"
     ]
    }
   ],
   "source": [
    "for series_id in sorted_dag:\n",
    "    formula_ast = generic_formula_dictionary.get(series_id)\n",
    "    \n",
    "    if formula_ast:    \n",
    "        series = SeriesMapper.get_series_from_series_id(series_id, series_dict)\n",
    "        values_length = len(series.values)\n",
    "        print(f\"Series ID: {series_id}\")\n",
    "        print(\"Formula Ast: \", formula_ast)\n",
    "        print(\"Values Length: \", values_length)\n",
    "        values = get_evaluated_results_from_formula_ast(formula_ast, series_values_dict, values_length)\n",
    "        series.values = values\n",
    "        series_list_new.append(series)"
   ]
  },
  {
   "cell_type": "code",
   "execution_count": 12,
   "metadata": {},
   "outputs": [],
   "source": [
    "series_list_updated = series_list_new + series_list_with_values"
   ]
  },
  {
   "cell_type": "code",
   "execution_count": 13,
   "metadata": {},
   "outputs": [],
   "source": [
    "ExcelBuilder.create_excel_from_series(series_list_updated, excel_reduced_clean_series_python_filepath, values_only=True)"
   ]
  },
  {
   "cell_type": "code",
   "execution_count": 16,
   "metadata": {},
   "outputs": [
    {
     "data": {
      "text/plain": [
       "True"
      ]
     },
     "execution_count": 16,
     "metadata": {},
     "output_type": "execute_result"
    }
   ],
   "source": [
    "ExcelChecker.excels_are_equivalent(excel_reduced_clean_series_python_filepath, excel_reduced_clean_filepath)"
   ]
  },
  {
   "cell_type": "code",
   "execution_count": 15,
   "metadata": {},
   "outputs": [
    {
     "data": {
      "text/plain": [
       "17.4"
      ]
     },
     "execution_count": 15,
     "metadata": {},
     "output_type": "execute_result"
    }
   ],
   "source": [
    "formula_evaluator = FormulaEvaluator()\n",
    "formula_evaluator.evaluate_formula(\"=(ARRAY(ARRAYROW(34.8))) * (ARRAY(ARRAYROW(0.5)))\")"
   ]
  },
  {
   "cell_type": "code",
   "execution_count": null,
   "metadata": {},
   "outputs": [],
   "source": []
  }
 ],
 "metadata": {
  "kernelspec": {
   "display_name": "venv",
   "language": "python",
   "name": "python3"
  },
  "language_info": {
   "codemirror_mode": {
    "name": "ipython",
    "version": 3
   },
   "file_extension": ".py",
   "mimetype": "text/x-python",
   "name": "python",
   "nbconvert_exporter": "python",
   "pygments_lexer": "ipython3",
   "version": "3.11.5"
  }
 },
 "nbformat": 4,
 "nbformat_minor": 2
}
