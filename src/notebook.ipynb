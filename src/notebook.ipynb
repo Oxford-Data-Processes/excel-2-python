{
 "cells": [
  {
   "cell_type": "code",
   "execution_count": 11,
   "metadata": {},
   "outputs": [],
   "source": [
    "import os\n",
    "import xlcalculator\n",
    "\n",
    "\n",
    "from series_extraction.excel_loader import ExcelLoader\n",
    "from series_extraction.excel_validator import ExcelValidator\n",
    "from series_extraction.excel_cleaner import ExcelCleaner\n",
    "from series_extraction.table_finder import TableFinder\n",
    "from series_extraction.series_extractor import SeriesExtractor\n",
    "from series_extraction.excel_compatibility_checker import ExcelCompatibilityChecker\n",
    "from series_extraction.series_iterator import SeriesIterator\n",
    "from series_extraction.series_mapper import SeriesMapper\n",
    "\n",
    "from ast_building.formula_parser import FormulaParser\n",
    "from ast_building.series_implementer import SeriesImplementer\n",
    "\n",
    "from formula_visualiser import FormulaVisualiser\n"
   ]
  },
  {
   "cell_type": "code",
   "execution_count": 12,
   "metadata": {},
   "outputs": [],
   "source": [
    "current_directory = os.getcwd()\n",
    "\n",
    "parent_directory = os.path.abspath(os.path.join(current_directory, os.pardir))\n",
    "data_directory = os.path.join(parent_directory, 'data')\n",
    "\n",
    "project_name = 'test_excel_1'\n",
    "\n",
    "excel_raw_file_path = os.path.join(data_directory, \"excel_files_raw\", f\"{project_name}_raw.xlsx\")\n",
    "excel_reduced_filepath = os.path.join(data_directory, \"excel_files_reduced\", f\"{project_name}_reduced.xlsx\")"
   ]
  },
  {
   "cell_type": "code",
   "execution_count": 13,
   "metadata": {},
   "outputs": [],
   "source": [
    "excel_raw= ExcelLoader.load_file(excel_raw_file_path)\n",
    "excel_reduced = ExcelLoader.load_file(excel_reduced_filepath)"
   ]
  },
  {
   "cell_type": "code",
   "execution_count": 14,
   "metadata": {},
   "outputs": [],
   "source": [
    "is_valid = ExcelValidator.validate_excel(excel_reduced)"
   ]
  },
  {
   "cell_type": "code",
   "execution_count": 15,
   "metadata": {},
   "outputs": [],
   "source": [
    "if not is_valid:\n",
    "    raise Exception(\"Excel file is not valid\")"
   ]
  },
  {
   "cell_type": "code",
   "execution_count": 16,
   "metadata": {},
   "outputs": [],
   "source": [
    "excel_reduced_clean = ExcelCleaner.clean_excel(excel_reduced)"
   ]
  },
  {
   "cell_type": "code",
   "execution_count": 17,
   "metadata": {},
   "outputs": [],
   "source": [
    "extracted_tables, data = TableFinder.find_tables(excel_reduced_clean)"
   ]
  },
  {
   "cell_type": "code",
   "execution_count": 18,
   "metadata": {},
   "outputs": [],
   "source": [
    "series_data = SeriesExtractor.extract_table_details(extracted_tables, data)"
   ]
  },
  {
   "cell_type": "code",
   "execution_count": 19,
   "metadata": {},
   "outputs": [],
   "source": [
    "is_compatible = ExcelCompatibilityChecker.check_file(excel_raw, excel_reduced, extracted_tables)"
   ]
  },
  {
   "cell_type": "code",
   "execution_count": 20,
   "metadata": {},
   "outputs": [],
   "source": [
    "if not is_compatible:\n",
    "    raise Exception(\"Excel file is not compatible\")"
   ]
  },
  {
   "cell_type": "code",
   "execution_count": 21,
   "metadata": {},
   "outputs": [],
   "source": [
    "series_dict = SeriesExtractor.extract_series(extracted_tables=extracted_tables, data=data)"
   ]
  },
  {
   "cell_type": "code",
   "execution_count": 22,
   "metadata": {},
   "outputs": [],
   "source": [
    "series_mapping = SeriesMapper.map_series(series_dict)"
   ]
  },
  {
   "cell_type": "markdown",
   "metadata": {},
   "source": []
  },
  {
   "cell_type": "code",
   "execution_count": 23,
   "metadata": {},
   "outputs": [],
   "source": [
    "series_iterator = SeriesIterator.iterate_series(series_dict)"
   ]
  },
  {
   "cell_type": "code",
   "execution_count": 24,
   "metadata": {},
   "outputs": [],
   "source": [
    "series_list = [series for series in series_iterator if series.formulas != [None, None]]\n"
   ]
  },
  {
   "cell_type": "code",
   "execution_count": 25,
   "metadata": {},
   "outputs": [
    {
     "name": "stdout",
     "output_type": "stream",
     "text": [
      "=B3\n",
      "cell_range: B3\n",
      "worksheet: Worksheet(sheet_name='Sheet1', workbook_file_path=None, worksheet=None)\n",
      "cell: [Cell(column=2, row=3, coordinate=None, value=None, value_type=None)]\n",
      "=B4\n",
      "cell_range: B4\n",
      "worksheet: Worksheet(sheet_name='Sheet1', workbook_file_path=None, worksheet=None)\n",
      "cell: [Cell(column=2, row=4, coordinate=None, value=None, value_type=None)]\n",
      "=Sheet1!B3+Sheet1!C3\n",
      "Sheet1!B3\n",
      "cell_range: B3:B3\n",
      "worksheet: Worksheet(sheet_name='Sheet1', workbook_file_path=None, worksheet=None)\n",
      "cell: [Cell(column=2, row=3, coordinate=None, value=None, value_type=None)]\n",
      "Sheet1!C3\n",
      "cell_range: C3:C3\n",
      "worksheet: Worksheet(sheet_name='Sheet1', workbook_file_path=None, worksheet=None)\n",
      "cell: [Cell(column=3, row=3, coordinate=None, value=None, value_type=None)]\n",
      "=SUM(Sheet1!B3:D3)\n",
      "Sheet1!B3:D3\n",
      "cell_range: B3:D3\n",
      "worksheet: Worksheet(sheet_name='Sheet1', workbook_file_path=None, worksheet=None)\n",
      "cell: [Cell(column=2, row=3, coordinate=None, value=None, value_type=None), Cell(column=3, row=3, coordinate=None, value=None, value_type=None), Cell(column=4, row=3, coordinate=None, value=None, value_type=None)]\n",
      "=Sheet1!G14+Sheet1!H14\n",
      "Sheet1!G14\n",
      "cell_range: G14:G14\n",
      "worksheet: Worksheet(sheet_name='Sheet1', workbook_file_path=None, worksheet=None)\n",
      "cell: [Cell(column=7, row=14, coordinate=None, value=None, value_type=None)]\n",
      "Sheet1!H14\n",
      "cell_range: H14:H14\n",
      "worksheet: Worksheet(sheet_name='Sheet1', workbook_file_path=None, worksheet=None)\n",
      "cell: [Cell(column=8, row=14, coordinate=None, value=None, value_type=None)]\n",
      "=SUM(Sheet1!G14:Sheet1!I14)\n",
      "Sheet1!G14:Sheet1!I14\n",
      "cell_range: G14:I14\n",
      "worksheet: Worksheet(sheet_name='Sheet1', workbook_file_path=None, worksheet=None)\n",
      "cell: [Cell(column=7, row=14, coordinate=None, value=None, value_type=None), Cell(column=8, row=14, coordinate=None, value=None, value_type=None), Cell(column=9, row=14, coordinate=None, value=None, value_type=None)]\n",
      "=B2\n",
      "cell_range: B2\n",
      "worksheet: Worksheet(sheet_name='Sheet2', workbook_file_path=None, worksheet=None)\n",
      "cell: [Cell(column=2, row=2, coordinate=None, value=None, value_type=None)]\n",
      "=C2\n",
      "cell_range: C2\n",
      "worksheet: Worksheet(sheet_name='Sheet2', workbook_file_path=None, worksheet=None)\n",
      "cell: [Cell(column=3, row=2, coordinate=None, value=None, value_type=None)]\n",
      "=B2+B3\n",
      "cell_range: B2\n",
      "worksheet: Worksheet(sheet_name='Sheet2', workbook_file_path=None, worksheet=None)\n",
      "cell: [Cell(column=2, row=2, coordinate=None, value=None, value_type=None)]\n",
      "cell_range: B3\n",
      "worksheet: Worksheet(sheet_name='Sheet2', workbook_file_path=None, worksheet=None)\n",
      "cell: [Cell(column=2, row=3, coordinate=None, value=None, value_type=None)]\n",
      "=SUM(Sheet1!B2:B6)\n",
      "Sheet1!B2:B6\n",
      "cell_range: B2:B6\n",
      "worksheet: Worksheet(sheet_name='Sheet3', workbook_file_path=None, worksheet=None)\n",
      "cell: [Cell(column=2, row=2, coordinate=None, value=None, value_type=None), Cell(column=2, row=3, coordinate=None, value=None, value_type=None), Cell(column=2, row=4, coordinate=None, value=None, value_type=None), Cell(column=2, row=5, coordinate=None, value=None, value_type=None), Cell(column=2, row=6, coordinate=None, value=None, value_type=None)]\n",
      "=SUM(Sheet1!C2:C6)\n",
      "Sheet1!C2:C6\n",
      "cell_range: C2:C6\n",
      "worksheet: Worksheet(sheet_name='Sheet3', workbook_file_path=None, worksheet=None)\n",
      "cell: [Cell(column=3, row=2, coordinate=None, value=None, value_type=None), Cell(column=3, row=3, coordinate=None, value=None, value_type=None), Cell(column=3, row=4, coordinate=None, value=None, value_type=None), Cell(column=3, row=5, coordinate=None, value=None, value_type=None), Cell(column=3, row=6, coordinate=None, value=None, value_type=None)]\n",
      "=SUM(Sheet1!D2:D6)\n",
      "Sheet1!D2:D6\n",
      "cell_range: D2:D6\n",
      "worksheet: Worksheet(sheet_name='Sheet3', workbook_file_path=None, worksheet=None)\n",
      "cell: [Cell(column=4, row=2, coordinate=None, value=None, value_type=None), Cell(column=4, row=3, coordinate=None, value=None, value_type=None), Cell(column=4, row=4, coordinate=None, value=None, value_type=None), Cell(column=4, row=5, coordinate=None, value=None, value_type=None), Cell(column=4, row=6, coordinate=None, value=None, value_type=None)]\n",
      "=Sheet3!A2*Sheet3!B2\n",
      "Sheet3!A2\n",
      "cell_range: A2:A2\n",
      "worksheet: Worksheet(sheet_name='Sheet3', workbook_file_path=None, worksheet=None)\n",
      "cell: [Cell(column=1, row=2, coordinate=None, value=None, value_type=None)]\n",
      "Sheet3!B2\n",
      "cell_range: B2:B2\n",
      "worksheet: Worksheet(sheet_name='Sheet3', workbook_file_path=None, worksheet=None)\n",
      "cell: [Cell(column=2, row=2, coordinate=None, value=None, value_type=None)]\n"
     ]
    }
   ],
   "source": [
    "for series in series_list:\n",
    "    formula_1 = series.formulas[0]\n",
    "    print(formula_1)\n",
    "    formula_1_ast = FormulaParser.parse_formula(formula_1)\n",
    "    series_implementer = SeriesImplementer(series_mapping, sheet_name = series.worksheet.sheet_name)\n",
    "    formula_1_ast_new = series_implementer.replace_range_nodes(formula_1_ast)"
   ]
  },
  {
   "cell_type": "code",
   "execution_count": 26,
   "metadata": {},
   "outputs": [],
   "source": [
    "formula_1_new = SeriesImplementer.serialise_ast_to_formula(formula_1_ast_new)"
   ]
  },
  {
   "cell_type": "code",
   "execution_count": 27,
   "metadata": {},
   "outputs": [],
   "source": [
    "formula_1_ast_new = FormulaParser.parse_formula(f'={formula_1_new}')"
   ]
  },
  {
   "cell_type": "code",
   "execution_count": 28,
   "metadata": {},
   "outputs": [
    {
     "data": {
      "text/plain": [
       "'formula_1_ast_new.png'"
      ]
     },
     "execution_count": 28,
     "metadata": {},
     "output_type": "execute_result"
    }
   ],
   "source": [
    "formula_visualiser = FormulaVisualiser()\n",
    "ast_graph = formula_visualiser.visualise(formula_1_ast_new)\n",
    "ast_graph.render('formula_1_ast_new')"
   ]
  },
  {
   "cell_type": "code",
   "execution_count": null,
   "metadata": {},
   "outputs": [],
   "source": []
  }
 ],
 "metadata": {
  "kernelspec": {
   "display_name": "venv",
   "language": "python",
   "name": "python3"
  },
  "language_info": {
   "codemirror_mode": {
    "name": "ipython",
    "version": 3
   },
   "file_extension": ".py",
   "mimetype": "text/x-python",
   "name": "python",
   "nbconvert_exporter": "python",
   "pygments_lexer": "ipython3",
   "version": "3.11.5"
  }
 },
 "nbformat": 4,
 "nbformat_minor": 2
}
