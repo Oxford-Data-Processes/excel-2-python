{
 "cells": [
  {
   "cell_type": "code",
   "execution_count": 1,
   "metadata": {},
   "outputs": [],
   "source": [
    "from series_extraction.excel_loader import ExcelLoader\n",
    "from series_extraction.excel_validator import ExcelValidator\n",
    "from series_extraction.excel_cleaner import ExcelCleaner\n",
    "from series_extraction.table_finder import TableFinder\n",
    "from series_extraction.series_extractor import SeriesExtractor"
   ]
  },
  {
   "cell_type": "code",
   "execution_count": 2,
   "metadata": {},
   "outputs": [],
   "source": [
    "import os\n",
    "current_directory = os.getcwd()\n",
    "\n",
    "parent_directory = os.path.abspath(os.path.join(current_directory, os.pardir))\n",
    "data_directory = os.path.join(parent_directory, 'data')\n",
    "\n",
    "project_name = 'test_excel_2'\n",
    "\n",
    "excel_raw_file_path = os.path.join(data_directory, \"excel_files_raw\", f\"{project_name}_raw.xlsx\")\n",
    "excel_reduced_filepath = os.path.join(data_directory, \"excel_files_reduced\", f\"{project_name}_reduced.xlsx\")"
   ]
  },
  {
   "cell_type": "code",
   "execution_count": 3,
   "metadata": {},
   "outputs": [],
   "source": [
    "excel_raw= ExcelLoader.load_file(excel_raw_file_path)\n",
    "excel_reduced = ExcelLoader.load_file(excel_reduced_filepath)"
   ]
  },
  {
   "cell_type": "code",
   "execution_count": 4,
   "metadata": {},
   "outputs": [],
   "source": [
    "is_valid = ExcelValidator.validate_excel(excel_reduced)"
   ]
  },
  {
   "cell_type": "code",
   "execution_count": 5,
   "metadata": {},
   "outputs": [],
   "source": [
    "if not is_valid:\n",
    "    raise Exception(\"Excel file is not valid\")"
   ]
  },
  {
   "cell_type": "code",
   "execution_count": 6,
   "metadata": {},
   "outputs": [],
   "source": [
    "excel_reduced_clean = ExcelCleaner.clean_excel(excel_reduced)"
   ]
  },
  {
   "cell_type": "code",
   "execution_count": 7,
   "metadata": {},
   "outputs": [],
   "source": [
    "extracted_tables, data = TableFinder.find_tables(excel_reduced_clean)"
   ]
  },
  {
   "cell_type": "code",
   "execution_count": 8,
   "metadata": {},
   "outputs": [],
   "source": [
    "series_data = SeriesExtractor.extract_table_details(extracted_tables, data)"
   ]
  },
  {
   "cell_type": "code",
   "execution_count": 9,
   "metadata": {},
   "outputs": [],
   "source": [
    "series = SeriesExtractor.extract_series(extracted_tables=extracted_tables, data=data)"
   ]
  },
  {
   "cell_type": "code",
   "execution_count": 10,
   "metadata": {},
   "outputs": [
    {
     "data": {
      "text/plain": [
       "{'summary': [Series(series_id=UUID('dc863d33-181c-496a-981b-2171ecf166bc'), worksheet=Worksheet(sheet_name='summary', workbook_file_path=None, worksheet=None), series_header='Vehicle Reg', formulas=['=A2', '=A3'], values=['FG20VLN', 'FH19VRE'], header_location=<HeaderLocation.TOP: 'top'>, series_starting_cell=Cell(column=3, row=2, coordinate='C2', value=None, value_type=None), series_length=2, series_data_type=<SeriesDataType.STR: 'str'>),\n",
       "  Series(series_id=UUID('5d83f4a1-60c1-449f-a6e3-7e6162ab3cd1'), worksheet=Worksheet(sheet_name='summary', workbook_file_path=None, worksheet=None), series_header='TGB Cost (No VAT) ', formulas=['=-SUMIF(parking!A:A,C2,parking!C:C)', '=-SUMIF(parking!A:A,C3,parking!C:C)'], values=[0, 0], header_location=<HeaderLocation.TOP: 'top'>, series_starting_cell=Cell(column=4, row=2, coordinate='D2', value=None, value_type=None), series_length=2, series_data_type=<SeriesDataType.INT: 'int'>),\n",
       "  Series(series_id=UUID('4030efee-be70-4e5e-931b-d88fc2becb49'), worksheet=Worksheet(sheet_name='summary', workbook_file_path=None, worksheet=None), series_header='Vehicle Reg ', formulas=[None, None], values=['FG20VLN', 'FH19VRE'], header_location=<HeaderLocation.TOP: 'top'>, series_starting_cell=Cell(column=1, row=2, coordinate='A2', value=None, value_type=None), series_length=2, series_data_type=<SeriesDataType.STR: 'str'>),\n",
       "  Series(series_id=UUID('5c4a7b77-ebd5-4770-98de-62e69cb12467'), worksheet=Worksheet(sheet_name='summary', workbook_file_path=None, worksheet=None), series_header='Vehicle Reg', formulas=['=A2', '=A3'], values=['FG20VLN', 'FH19VRE'], header_location=<HeaderLocation.TOP: 'top'>, series_starting_cell=Cell(column=6, row=2, coordinate='F2', value=None, value_type=None), series_length=2, series_data_type=<SeriesDataType.STR: 'str'>),\n",
       "  Series(series_id=UUID('4166b381-083d-4182-97eb-46a7d3d693da'), worksheet=Worksheet(sheet_name='summary', workbook_file_path=None, worksheet=None), series_header='VAT', formulas=['=H2-(H2/1.2)', '=H3-(H3/1.2)'], values=[0, 0], header_location=<HeaderLocation.TOP: 'top'>, series_starting_cell=Cell(column=7, row=2, coordinate='G2', value=None, value_type=None), series_length=2, series_data_type=<SeriesDataType.INT: 'int'>),\n",
       "  Series(series_id=UUID('d849c626-adfc-4c73-874e-03ae5766afe9'), worksheet=Worksheet(sheet_name='summary', workbook_file_path=None, worksheet=None), series_header='TGB Cost (Inc VAT) ', formulas=['=-SUMIF(cleaning!A:A,F2,cleaning!F:F)', '=-SUMIF(cleaning!A:A,F3,cleaning!F:F)'], values=[0, 0], header_location=<HeaderLocation.TOP: 'top'>, series_starting_cell=Cell(column=8, row=2, coordinate='H2', value=None, value_type=None), series_length=2, series_data_type=<SeriesDataType.INT: 'int'>),\n",
       "  Series(series_id=UUID('6f17f342-7036-4830-9608-6e4bff44dc50'), worksheet=Worksheet(sheet_name='summary', workbook_file_path=None, worksheet=None), series_header='Vehicle Reg', formulas=[None, None], values=['FG20VLN', 'FH19VRE'], header_location=<HeaderLocation.TOP: 'top'>, series_starting_cell=Cell(column=10, row=2, coordinate='J2', value=None, value_type=None), series_length=2, series_data_type=<SeriesDataType.STR: 'str'>),\n",
       "  Series(series_id=UUID('4bf383c4-586d-4308-96f0-e7c3b4ec0a54'), worksheet=Worksheet(sheet_name='summary', workbook_file_path=None, worksheet=None), series_header='Days offline', formulas=[None, None], values=[0, 2], header_location=<HeaderLocation.TOP: 'top'>, series_starting_cell=Cell(column=11, row=2, coordinate='K2', value=None, value_type=None), series_length=2, series_data_type=<SeriesDataType.INT: 'int'>)],\n",
       " 'xero': [Series(series_id=UUID('be32fedd-c45c-4ee6-9b40-ecb0f3907658'), worksheet=Worksheet(sheet_name='xero', workbook_file_path=None, worksheet=None), series_header='Date', formulas=[None, None], values=[44681, 44681], header_location=<HeaderLocation.TOP: 'top'>, series_starting_cell=Cell(column=1, row=2, coordinate='A2', value=None, value_type=None), series_length=2, series_data_type=<SeriesDataType.INT: 'int'>),\n",
       "  Series(series_id=UUID('7ebb1ba6-ded7-4a9c-afa8-9956c7067426'), worksheet=Worksheet(sheet_name='xero', workbook_file_path=None, worksheet=None), series_header='Description', formulas=['=CONCATENATE(summary!A2,\" Parking Recharge\")', '=CONCATENATE(summary!A3,\" Parking Recharge\")'], values=['FG20VLN Parking Recharge', 'FH19VRE Parking Recharge'], header_location=<HeaderLocation.TOP: 'top'>, series_starting_cell=Cell(column=2, row=2, coordinate='B2', value=None, value_type=None), series_length=2, series_data_type=<SeriesDataType.STR: 'str'>),\n",
       "  Series(series_id=UUID('c1ca8aac-3611-4745-9030-290a71ec31f5'), worksheet=Worksheet(sheet_name='xero', workbook_file_path=None, worksheet=None), series_header='Quantity', formulas=[None, None], values=[1, 1], header_location=<HeaderLocation.TOP: 'top'>, series_starting_cell=Cell(column=3, row=2, coordinate='C2', value=None, value_type=None), series_length=2, series_data_type=<SeriesDataType.INT: 'int'>),\n",
       "  Series(series_id=UUID('d19330c8-53dc-4e82-b459-c7074a2344ff'), worksheet=Worksheet(sheet_name='xero', workbook_file_path=None, worksheet=None), series_header='UnitAmount', formulas=['=-ROUND(summary!D2*1.2,2)', '=-ROUND(summary!D3*1.2,2)'], values=[0, 0], header_location=<HeaderLocation.TOP: 'top'>, series_starting_cell=Cell(column=4, row=2, coordinate='D2', value=None, value_type=None), series_length=2, series_data_type=<SeriesDataType.INT: 'int'>),\n",
       "  Series(series_id=UUID('12dd4d7c-21ec-4c51-aa76-a6976bc66eb5'), worksheet=Worksheet(sheet_name='xero', workbook_file_path=None, worksheet=None), series_header='TaxAmount', formulas=['=ROUND(D2/6,2)', '=ROUND(D3/6,2)'], values=[0, 0], header_location=<HeaderLocation.TOP: 'top'>, series_starting_cell=Cell(column=5, row=2, coordinate='E2', value=None, value_type=None), series_length=2, series_data_type=<SeriesDataType.INT: 'int'>),\n",
       "  Series(series_id=UUID('fced339d-47af-490e-8d12-56e1550244c8'), worksheet=Worksheet(sheet_name='xero', workbook_file_path=None, worksheet=None), series_header='AccountCode', formulas=[None, None], values=[4010, 4010], header_location=<HeaderLocation.TOP: 'top'>, series_starting_cell=Cell(column=6, row=2, coordinate='F2', value=None, value_type=None), series_length=2, series_data_type=<SeriesDataType.INT: 'int'>),\n",
       "  Series(series_id=UUID('979efd7e-cff4-4b0e-9002-54dc71661426'), worksheet=Worksheet(sheet_name='xero', workbook_file_path=None, worksheet=None), series_header='Invoice', formulas=['=D2>0', '=D3>0'], values=[False, False], header_location=<HeaderLocation.TOP: 'top'>, series_starting_cell=Cell(column=7, row=2, coordinate='G2', value=None, value_type=None), series_length=2, series_data_type=<SeriesDataType.BOOL: 'bool'>),\n",
       "  Series(series_id=UUID('9fe033e8-b693-4480-8530-6f42a1bdb414'), worksheet=Worksheet(sheet_name='xero', workbook_file_path=None, worksheet=None), series_header='MRG', formulas=[None, None], values=[False, False], header_location=<HeaderLocation.TOP: 'top'>, series_starting_cell=Cell(column=8, row=2, coordinate='H2', value=None, value_type=None), series_length=2, series_data_type=<SeriesDataType.BOOL: 'bool'>)],\n",
       " 'bookings': [Series(series_id=UUID('0b74ff35-b70e-40ed-bc63-6f9a63437714'), worksheet=Worksheet(sheet_name='bookings', workbook_file_path=None, worksheet=None), series_header='ID', formulas=[None, None], values=[1, 2], header_location=<HeaderLocation.TOP: 'top'>, series_starting_cell=Cell(column=1, row=2, coordinate='A2', value=None, value_type=None), series_length=2, series_data_type=<SeriesDataType.INT: 'int'>),\n",
       "  Series(series_id=UUID('3980786e-d9ee-4960-81ee-d32dd2d7cc58'), worksheet=Worksheet(sheet_name='bookings', workbook_file_path=None, worksheet=None), series_header='Vehicle ID', formulas=[None, None], values=[14545, 14544], header_location=<HeaderLocation.TOP: 'top'>, series_starting_cell=Cell(column=2, row=2, coordinate='B2', value=None, value_type=None), series_length=2, series_data_type=<SeriesDataType.INT: 'int'>),\n",
       "  Series(series_id=UUID('cd6ac6f2-fad5-40b8-8265-8d47edbc937c'), worksheet=Worksheet(sheet_name='bookings', workbook_file_path=None, worksheet=None), series_header='Booking Reference', formulas=[None, None], values=['FX59-QP36-MT73', 'HZ93-YU64-KR64'], header_location=<HeaderLocation.TOP: 'top'>, series_starting_cell=Cell(column=3, row=2, coordinate='C2', value=None, value_type=None), series_length=2, series_data_type=<SeriesDataType.STR: 'str'>),\n",
       "  Series(series_id=UUID('a0499fe3-03f5-4e1a-a85f-dbc15363ea3a'), worksheet=Worksheet(sheet_name='bookings', workbook_file_path=None, worksheet=None), series_header='Vrm', formulas=[None, None], values=['WV69OLC', 'WV69OLN'], header_location=<HeaderLocation.TOP: 'top'>, series_starting_cell=Cell(column=4, row=2, coordinate='D2', value=None, value_type=None), series_length=2, series_data_type=<SeriesDataType.STR: 'str'>),\n",
       "  Series(series_id=UUID('c651d3d4-4d1d-4690-8637-803a34779bb2'), worksheet=Worksheet(sheet_name='bookings', workbook_file_path=None, worksheet=None), series_header='Nhs Discount', formulas=[None, None], values=[0, 0], header_location=<HeaderLocation.TOP: 'top'>, series_starting_cell=Cell(column=5, row=2, coordinate='E2', value=None, value_type=None), series_length=2, series_data_type=<SeriesDataType.INT: 'int'>),\n",
       "  Series(series_id=UUID('0894e89b-757a-474e-a911-78ff4a931c2a'), worksheet=Worksheet(sheet_name='bookings', workbook_file_path=None, worksheet=None), series_header='TGB earnings', formulas=[None, None], values=[254.1, 231], header_location=<HeaderLocation.TOP: 'top'>, series_starting_cell=Cell(column=6, row=2, coordinate='F2', value=None, value_type=None), series_length=2, series_data_type=<SeriesDataType.FLOAT: 'float'>)],\n",
       " 'parking': [Series(series_id=UUID('4a18ff92-9740-47e7-bd79-05b87ff4c8a4'), worksheet=Worksheet(sheet_name='parking', workbook_file_path=None, worksheet=None), series_header='Vehicle Reg', formulas=[None, None], values=['FG20UGP', 'WV69OLC'], header_location=<HeaderLocation.TOP: 'top'>, series_starting_cell=Cell(column=1, row=2, coordinate='A2', value=None, value_type=None), series_length=2, series_data_type=<SeriesDataType.STR: 'str'>),\n",
       "  Series(series_id=UUID('017db06c-3f68-4957-b5ca-d874f7ec1dbc'), worksheet=Worksheet(sheet_name='parking', workbook_file_path=None, worksheet=None), series_header='Total Parking Cost per month', formulas=[None, None], values=[148, 23], header_location=<HeaderLocation.TOP: 'top'>, series_starting_cell=Cell(column=2, row=2, coordinate='B2', value=None, value_type=None), series_length=2, series_data_type=<SeriesDataType.INT: 'int'>),\n",
       "  Series(series_id=UUID('56b07059-c8df-4be8-992c-bc556b83cde4'), worksheet=Worksheet(sheet_name='parking', workbook_file_path=None, worksheet=None), series_header='TGB parking cost', formulas=['=B2/2', '=B3/2'], values=[74, 11.5], header_location=<HeaderLocation.TOP: 'top'>, series_starting_cell=Cell(column=3, row=2, coordinate='C2', value=None, value_type=None), series_length=2, series_data_type=<SeriesDataType.INT: 'int'>)],\n",
       " 'cleaning': [Series(series_id=UUID('9add27fc-0639-4b43-baa3-6ab97a1ee8ba'), worksheet=Worksheet(sheet_name='cleaning', workbook_file_path=None, worksheet=None), series_header='VRM', formulas=[None, None], values=['FG20VLU', 'FG20VLK'], header_location=<HeaderLocation.TOP: 'top'>, series_starting_cell=Cell(column=1, row=2, coordinate='A2', value=None, value_type=None), series_length=2, series_data_type=<SeriesDataType.STR: 'str'>),\n",
       "  Series(series_id=UUID('32ef7b6e-13aa-47f6-a653-6badb9a1ab6e'), worksheet=Worksheet(sheet_name='cleaning', workbook_file_path=None, worksheet=None), series_header='TGB Liability', formulas=[None, None], values=[0.5, 0.5], header_location=<HeaderLocation.TOP: 'top'>, series_starting_cell=Cell(column=2, row=2, coordinate='B2', value=None, value_type=None), series_length=2, series_data_type=<SeriesDataType.FLOAT: 'float'>),\n",
       "  Series(series_id=UUID('dfd11b3e-7c0a-4d2f-bffc-688e2b8f0aa1'), worksheet=Worksheet(sheet_name='cleaning', workbook_file_path=None, worksheet=None), series_header='Description ', formulas=[None, None], values=['Inside & Out + Checks', 'Inside & Out + Checks'], header_location=<HeaderLocation.TOP: 'top'>, series_starting_cell=Cell(column=3, row=2, coordinate='C2', value=None, value_type=None), series_length=2, series_data_type=<SeriesDataType.STR: 'str'>),\n",
       "  Series(series_id=UUID('16737b4e-8ead-4705-ba0b-87fc1809f45c'), worksheet=Worksheet(sheet_name='cleaning', workbook_file_path=None, worksheet=None), series_header='Total Cost (Ex VAT)', formulas=[None, None], values=[29, 29], header_location=<HeaderLocation.TOP: 'top'>, series_starting_cell=Cell(column=4, row=2, coordinate='D2', value=None, value_type=None), series_length=2, series_data_type=<SeriesDataType.INT: 'int'>),\n",
       "  Series(series_id=UUID('05536eda-4a5c-4b6a-88b2-eeae6abaaafe'), worksheet=Worksheet(sheet_name='cleaning', workbook_file_path=None, worksheet=None), series_header='Total Cost (inc VAT)', formulas=['=D2*1.2', '=D3*1.2'], values=[34.8, 34.8], header_location=<HeaderLocation.TOP: 'top'>, series_starting_cell=Cell(column=5, row=2, coordinate='E2', value=None, value_type=None), series_length=2, series_data_type=<SeriesDataType.FLOAT: 'float'>),\n",
       "  Series(series_id=UUID('bf5b27c4-a9f9-41fc-9074-b45a54c8a2f7'), worksheet=Worksheet(sheet_name='cleaning', workbook_file_path=None, worksheet=None), series_header='TGB Cost (Inc VAT)', formulas=['=E2*B2', '=E3*B3'], values=[17.4, 17.4], header_location=<HeaderLocation.TOP: 'top'>, series_starting_cell=Cell(column=6, row=2, coordinate='F2', value=None, value_type=None), series_length=2, series_data_type=<SeriesDataType.FLOAT: 'float'>)]}"
      ]
     },
     "execution_count": 10,
     "metadata": {},
     "output_type": "execute_result"
    }
   ],
   "source": [
    "series"
   ]
  },
  {
   "cell_type": "code",
   "execution_count": null,
   "metadata": {},
   "outputs": [],
   "source": []
  }
 ],
 "metadata": {
  "kernelspec": {
   "display_name": "venv",
   "language": "python",
   "name": "python3"
  },
  "language_info": {
   "codemirror_mode": {
    "name": "ipython",
    "version": 3
   },
   "file_extension": ".py",
   "mimetype": "text/x-python",
   "name": "python",
   "nbconvert_exporter": "python",
   "pygments_lexer": "ipython3",
   "version": "3.11.5"
  }
 },
 "nbformat": 4,
 "nbformat_minor": 2
}
