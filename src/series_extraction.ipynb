{
 "cells": [
  {
   "cell_type": "code",
   "execution_count": 1,
   "metadata": {},
   "outputs": [],
   "source": [
    "from series_extraction.excel_loader import ExcelLoader\n",
    "from series_extraction.excel_validator import ExcelValidator\n",
    "from series_extraction.excel_cleaner import ExcelCleaner\n",
    "from series_extraction.table_finder import TableFinder\n",
    "from series_extraction.series_extractor import SeriesExtractor"
   ]
  },
  {
   "cell_type": "code",
   "execution_count": 2,
   "metadata": {},
   "outputs": [],
   "source": [
    "import os\n",
    "current_directory = os.getcwd()\n",
    "\n",
    "parent_directory = os.path.abspath(os.path.join(current_directory, os.pardir))\n",
    "data_directory = os.path.join(parent_directory, 'data')\n",
    "\n",
    "project_name = 'test_excel_8'\n",
    "\n",
    "excel_raw_file_path = os.path.join(data_directory, \"excel_files_raw\", f\"{project_name}_raw.xlsx\")\n",
    "excel_reduced_filepath = os.path.join(data_directory, \"excel_files_reduced\", f\"{project_name}_reduced.xlsx\")"
   ]
  },
  {
   "cell_type": "code",
   "execution_count": 3,
   "metadata": {},
   "outputs": [],
   "source": [
    "excel_raw= ExcelLoader.load_file(excel_raw_file_path)\n",
    "excel_reduced = ExcelLoader.load_file(excel_reduced_filepath)"
   ]
  },
  {
   "cell_type": "code",
   "execution_count": 4,
   "metadata": {},
   "outputs": [],
   "source": [
    "is_valid = ExcelValidator.validate_excel(excel_reduced)"
   ]
  },
  {
   "cell_type": "code",
   "execution_count": 5,
   "metadata": {},
   "outputs": [],
   "source": [
    "if not is_valid:\n",
    "    raise Exception(\"Excel file is not valid\")"
   ]
  },
  {
   "cell_type": "code",
   "execution_count": 6,
   "metadata": {},
   "outputs": [],
   "source": [
    "excel_reduced_clean = ExcelCleaner.clean_excel(excel_reduced)"
   ]
  },
  {
   "cell_type": "code",
   "execution_count": 7,
   "metadata": {},
   "outputs": [],
   "source": [
    "extracted_tables, data = TableFinder.find_tables(excel_reduced_clean)"
   ]
  },
  {
   "cell_type": "code",
   "execution_count": 8,
   "metadata": {},
   "outputs": [],
   "source": [
    "series_data = SeriesExtractor.extract_table_details(extracted_tables, data)"
   ]
  },
  {
   "cell_type": "code",
   "execution_count": 10,
   "metadata": {},
   "outputs": [],
   "source": [
    "series = SeriesExtractor.extract_series(extracted_tables=extracted_tables, data=data)"
   ]
  },
  {
   "cell_type": "code",
   "execution_count": 12,
   "metadata": {},
   "outputs": [
    {
     "data": {
      "text/plain": [
       "{'Sheet1': [Series(series_id=UUID('065c884f-f92b-4728-97ed-f6df325d9b58'), worksheet=Worksheet(sheet_name='Sheet1', workbook_file_path=None, worksheet=None), series_header='age', formulas=[None, None], values=[56, 46], header_location=<HeaderLocation.TOP: 'top'>, series_starting_cell=Cell(column=1, row=2, coordinate='A2', value=None, value_type=None), series_length=2, series_data_type=<SeriesDataType.INT: 'int'>),\n",
       "  Series(series_id=UUID('d68b9f09-18e4-44c9-b93d-1343269ea7bc'), worksheet=Worksheet(sheet_name='Sheet1', workbook_file_path=None, worksheet=None), series_header='gender', formulas=[None, None], values=['male', 'female'], header_location=<HeaderLocation.TOP: 'top'>, series_starting_cell=Cell(column=2, row=2, coordinate='B2', value=None, value_type=None), series_length=2, series_data_type=<SeriesDataType.STR: 'str'>),\n",
       "  Series(series_id=UUID('7f4f8eb0-e3f6-4427-ac9c-ce6a09d307eb'), worksheet=Worksheet(sheet_name='Sheet1', workbook_file_path=None, worksheet=None), series_header='time_spent', formulas=[None, None], values=[3, 2], header_location=<HeaderLocation.TOP: 'top'>, series_starting_cell=Cell(column=3, row=2, coordinate='C2', value=None, value_type=None), series_length=2, series_data_type=<SeriesDataType.INT: 'int'>),\n",
       "  Series(series_id=UUID('4b2c3a1b-a95e-4027-89a4-0b4ea9d38661'), worksheet=Worksheet(sheet_name='Sheet1', workbook_file_path=None, worksheet=None), series_header='platform', formulas=[None, None], values=['Instagram', 'Facebook'], header_location=<HeaderLocation.TOP: 'top'>, series_starting_cell=Cell(column=4, row=2, coordinate='D2', value=None, value_type=None), series_length=2, series_data_type=<SeriesDataType.STR: 'str'>),\n",
       "  Series(series_id=UUID('a64b22a4-a443-45c9-870d-859d44b8fa9d'), worksheet=Worksheet(sheet_name='Sheet1', workbook_file_path=None, worksheet=None), series_header='interests', formulas=[None, None], values=['Sports', 'Travel'], header_location=<HeaderLocation.TOP: 'top'>, series_starting_cell=Cell(column=5, row=2, coordinate='E2', value=None, value_type=None), series_length=2, series_data_type=<SeriesDataType.STR: 'str'>),\n",
       "  Series(series_id=UUID('913f4fc5-1036-40a6-aadc-0f73d67b5d51'), worksheet=Worksheet(sheet_name='Sheet1', workbook_file_path=None, worksheet=None), series_header='location', formulas=[None, None], values=['United Kingdom', 'United Kingdom'], header_location=<HeaderLocation.TOP: 'top'>, series_starting_cell=Cell(column=6, row=2, coordinate='F2', value=None, value_type=None), series_length=2, series_data_type=<SeriesDataType.STR: 'str'>),\n",
       "  Series(series_id=UUID('390ad6bd-b7e5-4e94-81a9-e1ec88d35ee2'), worksheet=Worksheet(sheet_name='Sheet1', workbook_file_path=None, worksheet=None), series_header='demographics', formulas=[None, None], values=['Urban', 'Urban'], header_location=<HeaderLocation.TOP: 'top'>, series_starting_cell=Cell(column=7, row=2, coordinate='G2', value=None, value_type=None), series_length=2, series_data_type=<SeriesDataType.STR: 'str'>),\n",
       "  Series(series_id=UUID('5ce24eeb-6294-4889-bcac-e471fd762b94'), worksheet=Worksheet(sheet_name='Sheet1', workbook_file_path=None, worksheet=None), series_header='profession', formulas=[None, None], values=['Software Engineer', 'Student'], header_location=<HeaderLocation.TOP: 'top'>, series_starting_cell=Cell(column=8, row=2, coordinate='H2', value=None, value_type=None), series_length=2, series_data_type=<SeriesDataType.STR: 'str'>),\n",
       "  Series(series_id=UUID('5e7df948-c46a-43de-ba77-8112b2517def'), worksheet=Worksheet(sheet_name='Sheet1', workbook_file_path=None, worksheet=None), series_header='income', formulas=[None, None], values=[19774, 10564], header_location=<HeaderLocation.TOP: 'top'>, series_starting_cell=Cell(column=9, row=2, coordinate='I2', value=None, value_type=None), series_length=2, series_data_type=<SeriesDataType.INT: 'int'>),\n",
       "  Series(series_id=UUID('95f584d7-ace0-4c2b-b40e-c1de959dd885'), worksheet=Worksheet(sheet_name='Sheet1', workbook_file_path=None, worksheet=None), series_header='indebt', formulas=[None, None], values=[True, True], header_location=<HeaderLocation.TOP: 'top'>, series_starting_cell=Cell(column=10, row=2, coordinate='J2', value=None, value_type=None), series_length=2, series_data_type=<SeriesDataType.BOOL: 'bool'>),\n",
       "  Series(series_id=UUID('1e1f9a8b-fc46-4886-962e-e17e77c77d92'), worksheet=Worksheet(sheet_name='Sheet1', workbook_file_path=None, worksheet=None), series_header='isHomeOwner', formulas=[None, None], values=[False, True], header_location=<HeaderLocation.TOP: 'top'>, series_starting_cell=Cell(column=11, row=2, coordinate='K2', value=None, value_type=None), series_length=2, series_data_type=<SeriesDataType.BOOL: 'bool'>),\n",
       "  Series(series_id=UUID('65b2ddbf-75f6-4b96-ae4a-7af3b95080b5'), worksheet=Worksheet(sheet_name='Sheet1', workbook_file_path=None, worksheet=None), series_header='Owns_Car', formulas=[None, None], values=[False, True], header_location=<HeaderLocation.TOP: 'top'>, series_starting_cell=Cell(column=12, row=2, coordinate='L2', value=None, value_type=None), series_length=2, series_data_type=<SeriesDataType.BOOL: 'bool'>),\n",
       "  Series(series_id=UUID('5d945d8e-37a7-43e5-bd84-9cb1427b6377'), worksheet=Worksheet(sheet_name='Sheet1', workbook_file_path=None, worksheet=None), series_header='Index_Match_Size', formulas=['=INDEX(B:B,MATCH(A2,A:A,0))', '=INDEX(B:B,MATCH(A3,A:A,0))'], values=['male', 'female'], header_location=<HeaderLocation.TOP: 'top'>, series_starting_cell=Cell(column=13, row=2, coordinate='M2', value=None, value_type=None), series_length=2, series_data_type=<SeriesDataType.STR: 'str'>),\n",
       "  Series(series_id=UUID('e5497f60-c1d2-464e-9aec-b9c376ba2618'), worksheet=Worksheet(sheet_name='Sheet1', workbook_file_path=None, worksheet=None), series_header='If_Weight_Or_Size', formulas=['=IF(OR(B2>0,C2>0),\"Acceptable\",\"Check\")', '=IF(OR(B3>0,C3>0),\"Acceptable\",\"Check\")'], values=['Acceptable', 'Acceptable'], header_location=<HeaderLocation.TOP: 'top'>, series_starting_cell=Cell(column=14, row=2, coordinate='N2', value=None, value_type=None), series_length=2, series_data_type=<SeriesDataType.STR: 'str'>),\n",
       "  Series(series_id=UUID('f3614a37-0f66-4cbe-9043-f79792e4d194'), worksheet=Worksheet(sheet_name='Sheet1', workbook_file_path=None, worksheet=None), series_header='Age Category', formulas=['=IF(A2<35,\"Young\",IF(AND(A2>=35,A2<50),\"Middle-Aged\",\"Older\"))', '=IF(A3<35,\"Young\",IF(AND(A3>=35,A3<50),\"Middle-Aged\",\"Older\"))'], values=['Older', 'Middle-Aged'], header_location=<HeaderLocation.TOP: 'top'>, series_starting_cell=Cell(column=15, row=2, coordinate='O2', value=None, value_type=None), series_length=2, series_data_type=<SeriesDataType.STR: 'str'>),\n",
       "  Series(series_id=UUID('037c65de-2440-4599-833b-90247b1ad880'), worksheet=Worksheet(sheet_name='Sheet1', workbook_file_path=None, worksheet=None), series_header='Average Time Spent for Gender', formulas=['=AVERAGEIF(B2:B100, B2, C2:C100)', '=AVERAGEIF(B2:B100, B3, C2:C100)'], values=[3, 2], header_location=<HeaderLocation.TOP: 'top'>, series_starting_cell=Cell(column=16, row=2, coordinate='P2', value=None, value_type=None), series_length=2, series_data_type=<SeriesDataType.INT: 'int'>),\n",
       "  Series(series_id=UUID('d93c637f-f265-4ae5-98dc-8be34ed8aef0'), worksheet=Worksheet(sheet_name='Sheet1', workbook_file_path=None, worksheet=None), series_header='Interest Count', formulas=['=COUNTIF(E2:E100, E2)', '=COUNTIF(E2:E100, E3)'], values=[1, 1], header_location=<HeaderLocation.TOP: 'top'>, series_starting_cell=Cell(column=17, row=2, coordinate='Q2', value=None, value_type=None), series_length=2, series_data_type=<SeriesDataType.INT: 'int'>),\n",
       "  Series(series_id=UUID('98128f99-b6bf-45ce-8d82-b8d2a5717fa5'), worksheet=Worksheet(sheet_name='Sheet1', workbook_file_path=None, worksheet=None), series_header='Platform Popularity', formulas=['=COUNTIFS(B2:B100, \"male\", D2:D100, \"Instagram\")', '=COUNTIFS(B2:B100, \"male\", D2:D100, \"Instagram\")'], values=[1, 1], header_location=<HeaderLocation.TOP: 'top'>, series_starting_cell=Cell(column=18, row=2, coordinate='R2', value=None, value_type=None), series_length=2, series_data_type=<SeriesDataType.INT: 'int'>),\n",
       "  Series(series_id=UUID('e3e23ede-2439-4710-a84f-84aac932b6fd'), worksheet=Worksheet(sheet_name='Sheet1', workbook_file_path=None, worksheet=None), series_header='Gender code', formulas=['=UPPER(IF(B2=\"non-binary\", \"NB\", LEFT(B2, 1)))', '=UPPER(IF(B3=\"non-binary\", \"NB\", LEFT(B3, 1)))'], values=['M', 'F'], header_location=<HeaderLocation.TOP: 'top'>, series_starting_cell=Cell(column=19, row=2, coordinate='S2', value=None, value_type=None), series_length=2, series_data_type=<SeriesDataType.STR: 'str'>),\n",
       "  Series(series_id=UUID('cedd854e-2b54-4ef7-b362-d023d069e0e2'), worksheet=Worksheet(sheet_name='Sheet1', workbook_file_path=None, worksheet=None), series_header='Sumifs', formulas=['=SUMIFS(C2:C100, D2:D100, \"Instagram\")', '=SUMIFS(C2:C100, D2:D100, \"Instagram\")'], values=[3, 3], header_location=<HeaderLocation.TOP: 'top'>, series_starting_cell=Cell(column=20, row=2, coordinate='T2', value=None, value_type=None), series_length=2, series_data_type=<SeriesDataType.INT: 'int'>)],\n",
       " 'Sheet2': [Series(series_id=UUID('6aecba9c-210a-426f-b8e5-0f960e6f8d9d'), worksheet=Worksheet(sheet_name='Sheet2', workbook_file_path=None, worksheet=None), series_header='Unnamed: 0', formulas=[None, None], values=[0, 1], header_location=<HeaderLocation.TOP: 'top'>, series_starting_cell=Cell(column=1, row=2, coordinate='A2', value=None, value_type=None), series_length=2, series_data_type=<SeriesDataType.INT: 'int'>),\n",
       "  Series(series_id=UUID('8e6ac4da-56e5-4f94-8b0e-fa65c7c1a7fe'), worksheet=Worksheet(sheet_name='Sheet2', workbook_file_path=None, worksheet=None), series_header='Movie Name', formulas=[None, None], values=['Jai Bhim', 'Soorarai Pottru'], header_location=<HeaderLocation.TOP: 'top'>, series_starting_cell=Cell(column=2, row=2, coordinate='B2', value=None, value_type=None), series_length=2, series_data_type=<SeriesDataType.STR: 'str'>),\n",
       "  Series(series_id=UUID('e2ca500f-7e24-4a0c-b549-6eb20e02f380'), worksheet=Worksheet(sheet_name='Sheet2', workbook_file_path=None, worksheet=None), series_header='Year of Release', formulas=[None, None], values=[2021, 2020], header_location=<HeaderLocation.TOP: 'top'>, series_starting_cell=Cell(column=3, row=2, coordinate='C2', value=None, value_type=None), series_length=2, series_data_type=<SeriesDataType.INT: 'int'>),\n",
       "  Series(series_id=UUID('15654218-89ef-47ad-9b77-92b15939c709'), worksheet=Worksheet(sheet_name='Sheet2', workbook_file_path=None, worksheet=None), series_header='Watch Time', formulas=[None, None], values=[164, 153], header_location=<HeaderLocation.TOP: 'top'>, series_starting_cell=Cell(column=4, row=2, coordinate='D2', value=None, value_type=None), series_length=2, series_data_type=<SeriesDataType.INT: 'int'>),\n",
       "  Series(series_id=UUID('ca6344f7-28fa-4a5e-9f72-d43457e66bb1'), worksheet=Worksheet(sheet_name='Sheet2', workbook_file_path=None, worksheet=None), series_header='Movie Rating', formulas=[None, None], values=[9.4, 9.3], header_location=<HeaderLocation.TOP: 'top'>, series_starting_cell=Cell(column=5, row=2, coordinate='E2', value=None, value_type=None), series_length=2, series_data_type=<SeriesDataType.FLOAT: 'float'>),\n",
       "  Series(series_id=UUID('61a05e9e-39c4-48e8-bd76-93d63219705f'), worksheet=Worksheet(sheet_name='Sheet2', workbook_file_path=None, worksheet=None), series_header='Meatscore of movie', formulas=[None, None], values=[81, 100], header_location=<HeaderLocation.TOP: 'top'>, series_starting_cell=Cell(column=6, row=2, coordinate='F2', value=None, value_type=None), series_length=2, series_data_type=<SeriesDataType.INT: 'int'>),\n",
       "  Series(series_id=UUID('07cd43d5-0906-4dbb-beb1-5b25afb6c6cc'), worksheet=Worksheet(sheet_name='Sheet2', workbook_file_path=None, worksheet=None), series_header='Votes', formulas=[None, None], values=[180702, 108490], header_location=<HeaderLocation.TOP: 'top'>, series_starting_cell=Cell(column=7, row=2, coordinate='G2', value=None, value_type=None), series_length=2, series_data_type=<SeriesDataType.INT: 'int'>),\n",
       "  Series(series_id=UUID('54a56722-e6a2-4e0d-9d13-cd15689a870d'), worksheet=Worksheet(sheet_name='Sheet2', workbook_file_path=None, worksheet=None), series_header='Gross', formulas=[None, None], values=[28.3, 144.5], header_location=<HeaderLocation.TOP: 'top'>, series_starting_cell=Cell(column=8, row=2, coordinate='H2', value=None, value_type=None), series_length=2, series_data_type=<SeriesDataType.FLOAT: 'float'>),\n",
       "  Series(series_id=UUID('372bd15f-d4af-4d81-a4f8-ef04a644bda5'), worksheet=Worksheet(sheet_name='Sheet2', workbook_file_path=None, worksheet=None), series_header='Description', formulas=[None, None], values=['When a tribal man is arrested for a case of alleged theft, his wife turns to a human-rights lawyer to help bring justice.', 'Nedumaaran Rajangam \"Maara\" sets out to make the common man fly and in the process takes on the world\\'s most capital intensive industry and several enemies who stand in his way.'], header_location=<HeaderLocation.TOP: 'top'>, series_starting_cell=Cell(column=9, row=2, coordinate='I2', value=None, value_type=None), series_length=2, series_data_type=<SeriesDataType.STR: 'str'>),\n",
       "  Series(series_id=UUID('a30bfd32-2bda-40d9-9062-03ce99155f6e'), worksheet=Worksheet(sheet_name='Sheet2', workbook_file_path=None, worksheet=None), series_header='Lookup from Sheet1', formulas=['=IF(VALUE(G2)>100000,Sheet1!B2,Sheet1!B3)', '=IF(VALUE(G3)>100000,Sheet1!B2,Sheet1!B3)'], values=['male', 'male'], header_location=<HeaderLocation.TOP: 'top'>, series_starting_cell=Cell(column=10, row=2, coordinate='J2', value=None, value_type=None), series_length=2, series_data_type=<SeriesDataType.STR: 'str'>)]}"
      ]
     },
     "execution_count": 12,
     "metadata": {},
     "output_type": "execute_result"
    }
   ],
   "source": [
    "series"
   ]
  },
  {
   "cell_type": "code",
   "execution_count": null,
   "metadata": {},
   "outputs": [],
   "source": []
  }
 ],
 "metadata": {
  "kernelspec": {
   "display_name": "venv",
   "language": "python",
   "name": "python3"
  },
  "language_info": {
   "codemirror_mode": {
    "name": "ipython",
    "version": 3
   },
   "file_extension": ".py",
   "mimetype": "text/x-python",
   "name": "python",
   "nbconvert_exporter": "python",
   "pygments_lexer": "ipython3",
   "version": "3.11.5"
  }
 },
 "nbformat": 4,
 "nbformat_minor": 2
}
