{
 "cells": [
  {
   "cell_type": "code",
   "execution_count": 1,
   "metadata": {},
   "outputs": [],
   "source": [
    "import os\n",
    "\n",
    "from series_extraction.excel_loader import ExcelLoader\n",
    "from series_extraction.excel_validator import ExcelValidator\n",
    "from series_extraction.excel_cleaner import ExcelCleaner\n",
    "from series_extraction.table_finder import TableFinder\n",
    "from series_extraction.series_extractor import SeriesExtractor\n",
    "from series_extraction.excel_compatibility_checker import ExcelCompatibilityChecker\n",
    "from series_extraction.series_iterator import SeriesIterator\n",
    "from series_extraction.series_mapper import SeriesMapper\n",
    "\n",
    "from ast_building.formula_parser import FormulaParser\n",
    "from ast_building.series_implementer import SeriesImplementer"
   ]
  },
  {
   "cell_type": "code",
   "execution_count": 2,
   "metadata": {},
   "outputs": [],
   "source": [
    "current_directory = os.getcwd()\n",
    "\n",
    "parent_directory = os.path.abspath(os.path.join(current_directory, os.pardir))\n",
    "data_directory = os.path.join(parent_directory, 'data')\n",
    "\n",
    "project_name = 'test_excel_1'\n",
    "\n",
    "excel_raw_file_path = os.path.join(data_directory, \"excel_files_raw\", f\"{project_name}_raw.xlsx\")\n",
    "excel_reduced_filepath = os.path.join(data_directory, \"excel_files_reduced\", f\"{project_name}_reduced.xlsx\")"
   ]
  },
  {
   "cell_type": "code",
   "execution_count": 3,
   "metadata": {},
   "outputs": [],
   "source": [
    "excel_raw= ExcelLoader.load_file(excel_raw_file_path)\n",
    "excel_reduced = ExcelLoader.load_file(excel_reduced_filepath)"
   ]
  },
  {
   "cell_type": "code",
   "execution_count": 4,
   "metadata": {},
   "outputs": [],
   "source": [
    "is_valid = ExcelValidator.validate_excel(excel_reduced)"
   ]
  },
  {
   "cell_type": "code",
   "execution_count": 5,
   "metadata": {},
   "outputs": [],
   "source": [
    "if not is_valid:\n",
    "    raise Exception(\"Excel file is not valid\")"
   ]
  },
  {
   "cell_type": "code",
   "execution_count": 6,
   "metadata": {},
   "outputs": [],
   "source": [
    "excel_reduced_clean = ExcelCleaner.clean_excel(excel_reduced)"
   ]
  },
  {
   "cell_type": "code",
   "execution_count": 7,
   "metadata": {},
   "outputs": [],
   "source": [
    "extracted_tables, data = TableFinder.find_tables(excel_reduced_clean)"
   ]
  },
  {
   "cell_type": "code",
   "execution_count": 8,
   "metadata": {},
   "outputs": [],
   "source": [
    "series_data = SeriesExtractor.extract_table_details(extracted_tables, data)"
   ]
  },
  {
   "cell_type": "code",
   "execution_count": 9,
   "metadata": {},
   "outputs": [],
   "source": [
    "is_compatible = ExcelCompatibilityChecker.check_file(excel_raw, excel_reduced, extracted_tables)"
   ]
  },
  {
   "cell_type": "code",
   "execution_count": 10,
   "metadata": {},
   "outputs": [],
   "source": [
    "if not is_compatible:\n",
    "    raise Exception(\"Excel file is not compatible\")"
   ]
  },
  {
   "cell_type": "code",
   "execution_count": 11,
   "metadata": {},
   "outputs": [],
   "source": [
    "series_dict = SeriesExtractor.extract_series(extracted_tables=extracted_tables, data=data)"
   ]
  },
  {
   "cell_type": "code",
   "execution_count": 12,
   "metadata": {},
   "outputs": [
    {
     "data": {
      "text/plain": [
       "{'Sheet1': [Series(series_id='Sheet1|horizontal_column_1|12|2', worksheet=Worksheet(sheet_name='Sheet1', workbook_file_path=None, worksheet=None), series_header='horizontal_column_1', formulas=['=B3', '=C3'], values=[1, 2], header_location=<HeaderLocation.LEFT: 'left'>, series_starting_cell=Cell(column=3, row=12, coordinate='C12', value=None, value_type=None), series_length=2, series_data_type=<SeriesDataType.INT: 'int'>),\n",
       "  Series(series_id='Sheet1|horizontal_column_2|13|2', worksheet=Worksheet(sheet_name='Sheet1', workbook_file_path=None, worksheet=None), series_header='horizontal_column_2', formulas=['=B4', '=C4'], values=[3, 4], header_location=<HeaderLocation.LEFT: 'left'>, series_starting_cell=Cell(column=3, row=13, coordinate='C13', value=None, value_type=None), series_length=2, series_data_type=<SeriesDataType.INT: 'int'>),\n",
       "  Series(series_id='Sheet1|col_1|2|2', worksheet=Worksheet(sheet_name='Sheet1', workbook_file_path=None, worksheet=None), series_header='col_1', formulas=[None, None], values=[1, 3], header_location=<HeaderLocation.TOP: 'top'>, series_starting_cell=Cell(column=2, row=3, coordinate='B3', value=None, value_type=None), series_length=2, series_data_type=<SeriesDataType.INT: 'int'>),\n",
       "  Series(series_id='Sheet1|col_2|2|3', worksheet=Worksheet(sheet_name='Sheet1', workbook_file_path=None, worksheet=None), series_header='col_2', formulas=[None, None], values=[2, 4], header_location=<HeaderLocation.TOP: 'top'>, series_starting_cell=Cell(column=3, row=3, coordinate='C3', value=None, value_type=None), series_length=2, series_data_type=<SeriesDataType.INT: 'int'>),\n",
       "  Series(series_id='Sheet1|col_3|2|4', worksheet=Worksheet(sheet_name='Sheet1', workbook_file_path=None, worksheet=None), series_header='col_3', formulas=['=Sheet1!B3+Sheet1!C3', '=Sheet1!B4+Sheet1!C4'], values=[3, 7], header_location=<HeaderLocation.TOP: 'top'>, series_starting_cell=Cell(column=4, row=3, coordinate='D3', value=None, value_type=None), series_length=2, series_data_type=<SeriesDataType.INT: 'int'>),\n",
       "  Series(series_id='Sheet1|col_4|2|5', worksheet=Worksheet(sheet_name='Sheet1', workbook_file_path=None, worksheet=None), series_header='col_4', formulas=['=SUM(Sheet1!B3:D3)', '=SUM(Sheet1!B4:D4)'], values=[6, 14], header_location=<HeaderLocation.TOP: 'top'>, series_starting_cell=Cell(column=5, row=3, coordinate='E3', value=None, value_type=None), series_length=2, series_data_type=<SeriesDataType.INT: 'int'>),\n",
       "  Series(series_id='Sheet1|col_1|13|7', worksheet=Worksheet(sheet_name='Sheet1', workbook_file_path=None, worksheet=None), series_header='col_1', formulas=[None, None], values=[1, 3], header_location=<HeaderLocation.TOP: 'top'>, series_starting_cell=Cell(column=7, row=14, coordinate='G14', value=None, value_type=None), series_length=2, series_data_type=<SeriesDataType.INT: 'int'>),\n",
       "  Series(series_id='Sheet1|col_2|13|8', worksheet=Worksheet(sheet_name='Sheet1', workbook_file_path=None, worksheet=None), series_header='col_2', formulas=[None, None], values=[2, 4], header_location=<HeaderLocation.TOP: 'top'>, series_starting_cell=Cell(column=8, row=14, coordinate='H14', value=None, value_type=None), series_length=2, series_data_type=<SeriesDataType.INT: 'int'>),\n",
       "  Series(series_id='Sheet1|col_3|13|9', worksheet=Worksheet(sheet_name='Sheet1', workbook_file_path=None, worksheet=None), series_header='col_3', formulas=['=Sheet1!G14+Sheet1!H14', '=Sheet1!G15+Sheet1!H15'], values=[3, 7], header_location=<HeaderLocation.TOP: 'top'>, series_starting_cell=Cell(column=9, row=14, coordinate='I14', value=None, value_type=None), series_length=2, series_data_type=<SeriesDataType.INT: 'int'>),\n",
       "  Series(series_id='Sheet1|col_4|13|10', worksheet=Worksheet(sheet_name='Sheet1', workbook_file_path=None, worksheet=None), series_header='col_4', formulas=['=SUM(Sheet1!G14:Sheet1!I14)', '=SUM(Sheet1!G15:Sheet1!I15)'], values=[6, 14], header_location=<HeaderLocation.TOP: 'top'>, series_starting_cell=Cell(column=10, row=14, coordinate='J14', value=None, value_type=None), series_length=2, series_data_type=<SeriesDataType.INT: 'int'>)],\n",
       " 'Sheet2': [Series(series_id='Sheet2|col1|10|1', worksheet=Worksheet(sheet_name='Sheet2', workbook_file_path=None, worksheet=None), series_header='col1', formulas=['=B2', '=B3'], values=[1, 4], header_location=<HeaderLocation.TOP: 'top'>, series_starting_cell=Cell(column=1, row=11, coordinate='A11', value=None, value_type=None), series_length=2, series_data_type=<SeriesDataType.INT: 'int'>),\n",
       "  Series(series_id='Sheet2|col2|10|2', worksheet=Worksheet(sheet_name='Sheet2', workbook_file_path=None, worksheet=None), series_header='col2', formulas=['=C2', '=C3'], values=[2, 5], header_location=<HeaderLocation.TOP: 'top'>, series_starting_cell=Cell(column=2, row=11, coordinate='B11', value=None, value_type=None), series_length=2, series_data_type=<SeriesDataType.INT: 'int'>),\n",
       "  Series(series_id='Sheet2|horizontal_col_1|2|1', worksheet=Worksheet(sheet_name='Sheet2', workbook_file_path=None, worksheet=None), series_header='horizontal_col_1', formulas=[None, None], values=[1, 2], header_location=<HeaderLocation.LEFT: 'left'>, series_starting_cell=Cell(column=2, row=2, coordinate='B2', value=None, value_type=None), series_length=2, series_data_type=<SeriesDataType.INT: 'int'>),\n",
       "  Series(series_id='Sheet2|horizontal_col_2|3|1', worksheet=Worksheet(sheet_name='Sheet2', workbook_file_path=None, worksheet=None), series_header='horizontal_col_2', formulas=[None, None], values=[4, 5], header_location=<HeaderLocation.LEFT: 'left'>, series_starting_cell=Cell(column=2, row=3, coordinate='B3', value=None, value_type=None), series_length=2, series_data_type=<SeriesDataType.INT: 'int'>),\n",
       "  Series(series_id='Sheet2|horizontal_col_3|4|1', worksheet=Worksheet(sheet_name='Sheet2', workbook_file_path=None, worksheet=None), series_header='horizontal_col_3', formulas=['=B2+B3', '=C2+C3'], values=[5, 7], header_location=<HeaderLocation.LEFT: 'left'>, series_starting_cell=Cell(column=2, row=4, coordinate='B4', value=None, value_type=None), series_length=2, series_data_type=<SeriesDataType.INT: 'int'>)],\n",
       " 'Sheet3': [Series(series_id='Sheet3|col_1|1|1', worksheet=Worksheet(sheet_name='Sheet3', workbook_file_path=None, worksheet=None), series_header='col_1', formulas=['=SUM(Sheet1!B2:B6)', '=SUM(Sheet1!B2:B6)'], values=[4, 4], header_location=<HeaderLocation.TOP: 'top'>, series_starting_cell=Cell(column=1, row=2, coordinate='A2', value=None, value_type=None), series_length=2, series_data_type=<SeriesDataType.INT: 'int'>),\n",
       "  Series(series_id='Sheet3|col_2|1|2', worksheet=Worksheet(sheet_name='Sheet3', workbook_file_path=None, worksheet=None), series_header='col_2', formulas=['=SUM(Sheet1!C2:C6)', '=SUM(Sheet1!C2:C6)'], values=[6, 6], header_location=<HeaderLocation.TOP: 'top'>, series_starting_cell=Cell(column=2, row=2, coordinate='B2', value=None, value_type=None), series_length=2, series_data_type=<SeriesDataType.INT: 'int'>),\n",
       "  Series(series_id='Sheet3|col_3|1|3', worksheet=Worksheet(sheet_name='Sheet3', workbook_file_path=None, worksheet=None), series_header='col_3', formulas=['=SUM(Sheet1!D2:D6)', '=SUM(Sheet1!D2:D6)'], values=[10, 10], header_location=<HeaderLocation.TOP: 'top'>, series_starting_cell=Cell(column=3, row=2, coordinate='C2', value=None, value_type=None), series_length=2, series_data_type=<SeriesDataType.INT: 'int'>),\n",
       "  Series(series_id='Sheet3|col_4|1|4', worksheet=Worksheet(sheet_name='Sheet3', workbook_file_path=None, worksheet=None), series_header='col_4', formulas=['=Sheet3!A2*Sheet3!B2', '=Sheet3!A3*Sheet3!B3'], values=[24, 24], header_location=<HeaderLocation.TOP: 'top'>, series_starting_cell=Cell(column=4, row=2, coordinate='D2', value=None, value_type=None), series_length=2, series_data_type=<SeriesDataType.INT: 'int'>)]}"
      ]
     },
     "execution_count": 12,
     "metadata": {},
     "output_type": "execute_result"
    }
   ],
   "source": [
    "series_dict"
   ]
  },
  {
   "cell_type": "code",
   "execution_count": 13,
   "metadata": {},
   "outputs": [],
   "source": [
    "series_mapping = SeriesMapper.map_series(series_dict)"
   ]
  },
  {
   "cell_type": "code",
   "execution_count": 14,
   "metadata": {},
   "outputs": [
    {
     "data": {
      "text/plain": [
       "{Worksheet(sheet_name='Sheet1', workbook_file_path=None, worksheet=None): {Cell(column=3, row=12, coordinate=None, value=None, value_type=None): (0,\n",
       "   Series(series_id='Sheet1|horizontal_column_1|12|2', worksheet=Worksheet(sheet_name='Sheet1', workbook_file_path=None, worksheet=None), series_header='horizontal_column_1', formulas=['=B3', '=C3'], values=[1, 2], header_location=<HeaderLocation.LEFT: 'left'>, series_starting_cell=Cell(column=3, row=12, coordinate='C12', value=None, value_type=None), series_length=2, series_data_type=<SeriesDataType.INT: 'int'>)),\n",
       "  Cell(column=4, row=12, coordinate=None, value=None, value_type=None): (1,\n",
       "   Series(series_id='Sheet1|horizontal_column_1|12|2', worksheet=Worksheet(sheet_name='Sheet1', workbook_file_path=None, worksheet=None), series_header='horizontal_column_1', formulas=['=B3', '=C3'], values=[1, 2], header_location=<HeaderLocation.LEFT: 'left'>, series_starting_cell=Cell(column=3, row=12, coordinate='C12', value=None, value_type=None), series_length=2, series_data_type=<SeriesDataType.INT: 'int'>)),\n",
       "  Cell(column=3, row=13, coordinate=None, value=None, value_type=None): (0,\n",
       "   Series(series_id='Sheet1|horizontal_column_2|13|2', worksheet=Worksheet(sheet_name='Sheet1', workbook_file_path=None, worksheet=None), series_header='horizontal_column_2', formulas=['=B4', '=C4'], values=[3, 4], header_location=<HeaderLocation.LEFT: 'left'>, series_starting_cell=Cell(column=3, row=13, coordinate='C13', value=None, value_type=None), series_length=2, series_data_type=<SeriesDataType.INT: 'int'>)),\n",
       "  Cell(column=4, row=13, coordinate=None, value=None, value_type=None): (1,\n",
       "   Series(series_id='Sheet1|horizontal_column_2|13|2', worksheet=Worksheet(sheet_name='Sheet1', workbook_file_path=None, worksheet=None), series_header='horizontal_column_2', formulas=['=B4', '=C4'], values=[3, 4], header_location=<HeaderLocation.LEFT: 'left'>, series_starting_cell=Cell(column=3, row=13, coordinate='C13', value=None, value_type=None), series_length=2, series_data_type=<SeriesDataType.INT: 'int'>)),\n",
       "  Cell(column=2, row=3, coordinate=None, value=None, value_type=None): (0,\n",
       "   Series(series_id='Sheet1|col_1|2|2', worksheet=Worksheet(sheet_name='Sheet1', workbook_file_path=None, worksheet=None), series_header='col_1', formulas=[None, None], values=[1, 3], header_location=<HeaderLocation.TOP: 'top'>, series_starting_cell=Cell(column=2, row=3, coordinate='B3', value=None, value_type=None), series_length=2, series_data_type=<SeriesDataType.INT: 'int'>)),\n",
       "  Cell(column=2, row=4, coordinate=None, value=None, value_type=None): (1,\n",
       "   Series(series_id='Sheet1|col_1|2|2', worksheet=Worksheet(sheet_name='Sheet1', workbook_file_path=None, worksheet=None), series_header='col_1', formulas=[None, None], values=[1, 3], header_location=<HeaderLocation.TOP: 'top'>, series_starting_cell=Cell(column=2, row=3, coordinate='B3', value=None, value_type=None), series_length=2, series_data_type=<SeriesDataType.INT: 'int'>)),\n",
       "  Cell(column=3, row=3, coordinate=None, value=None, value_type=None): (0,\n",
       "   Series(series_id='Sheet1|col_2|2|3', worksheet=Worksheet(sheet_name='Sheet1', workbook_file_path=None, worksheet=None), series_header='col_2', formulas=[None, None], values=[2, 4], header_location=<HeaderLocation.TOP: 'top'>, series_starting_cell=Cell(column=3, row=3, coordinate='C3', value=None, value_type=None), series_length=2, series_data_type=<SeriesDataType.INT: 'int'>)),\n",
       "  Cell(column=3, row=4, coordinate=None, value=None, value_type=None): (1,\n",
       "   Series(series_id='Sheet1|col_2|2|3', worksheet=Worksheet(sheet_name='Sheet1', workbook_file_path=None, worksheet=None), series_header='col_2', formulas=[None, None], values=[2, 4], header_location=<HeaderLocation.TOP: 'top'>, series_starting_cell=Cell(column=3, row=3, coordinate='C3', value=None, value_type=None), series_length=2, series_data_type=<SeriesDataType.INT: 'int'>)),\n",
       "  Cell(column=4, row=3, coordinate=None, value=None, value_type=None): (0,\n",
       "   Series(series_id='Sheet1|col_3|2|4', worksheet=Worksheet(sheet_name='Sheet1', workbook_file_path=None, worksheet=None), series_header='col_3', formulas=['=Sheet1!B3+Sheet1!C3', '=Sheet1!B4+Sheet1!C4'], values=[3, 7], header_location=<HeaderLocation.TOP: 'top'>, series_starting_cell=Cell(column=4, row=3, coordinate='D3', value=None, value_type=None), series_length=2, series_data_type=<SeriesDataType.INT: 'int'>)),\n",
       "  Cell(column=4, row=4, coordinate=None, value=None, value_type=None): (1,\n",
       "   Series(series_id='Sheet1|col_3|2|4', worksheet=Worksheet(sheet_name='Sheet1', workbook_file_path=None, worksheet=None), series_header='col_3', formulas=['=Sheet1!B3+Sheet1!C3', '=Sheet1!B4+Sheet1!C4'], values=[3, 7], header_location=<HeaderLocation.TOP: 'top'>, series_starting_cell=Cell(column=4, row=3, coordinate='D3', value=None, value_type=None), series_length=2, series_data_type=<SeriesDataType.INT: 'int'>)),\n",
       "  Cell(column=5, row=3, coordinate=None, value=None, value_type=None): (0,\n",
       "   Series(series_id='Sheet1|col_4|2|5', worksheet=Worksheet(sheet_name='Sheet1', workbook_file_path=None, worksheet=None), series_header='col_4', formulas=['=SUM(Sheet1!B3:D3)', '=SUM(Sheet1!B4:D4)'], values=[6, 14], header_location=<HeaderLocation.TOP: 'top'>, series_starting_cell=Cell(column=5, row=3, coordinate='E3', value=None, value_type=None), series_length=2, series_data_type=<SeriesDataType.INT: 'int'>)),\n",
       "  Cell(column=5, row=4, coordinate=None, value=None, value_type=None): (1,\n",
       "   Series(series_id='Sheet1|col_4|2|5', worksheet=Worksheet(sheet_name='Sheet1', workbook_file_path=None, worksheet=None), series_header='col_4', formulas=['=SUM(Sheet1!B3:D3)', '=SUM(Sheet1!B4:D4)'], values=[6, 14], header_location=<HeaderLocation.TOP: 'top'>, series_starting_cell=Cell(column=5, row=3, coordinate='E3', value=None, value_type=None), series_length=2, series_data_type=<SeriesDataType.INT: 'int'>)),\n",
       "  Cell(column=7, row=14, coordinate=None, value=None, value_type=None): (0,\n",
       "   Series(series_id='Sheet1|col_1|13|7', worksheet=Worksheet(sheet_name='Sheet1', workbook_file_path=None, worksheet=None), series_header='col_1', formulas=[None, None], values=[1, 3], header_location=<HeaderLocation.TOP: 'top'>, series_starting_cell=Cell(column=7, row=14, coordinate='G14', value=None, value_type=None), series_length=2, series_data_type=<SeriesDataType.INT: 'int'>)),\n",
       "  Cell(column=7, row=15, coordinate=None, value=None, value_type=None): (1,\n",
       "   Series(series_id='Sheet1|col_1|13|7', worksheet=Worksheet(sheet_name='Sheet1', workbook_file_path=None, worksheet=None), series_header='col_1', formulas=[None, None], values=[1, 3], header_location=<HeaderLocation.TOP: 'top'>, series_starting_cell=Cell(column=7, row=14, coordinate='G14', value=None, value_type=None), series_length=2, series_data_type=<SeriesDataType.INT: 'int'>)),\n",
       "  Cell(column=8, row=14, coordinate=None, value=None, value_type=None): (0,\n",
       "   Series(series_id='Sheet1|col_2|13|8', worksheet=Worksheet(sheet_name='Sheet1', workbook_file_path=None, worksheet=None), series_header='col_2', formulas=[None, None], values=[2, 4], header_location=<HeaderLocation.TOP: 'top'>, series_starting_cell=Cell(column=8, row=14, coordinate='H14', value=None, value_type=None), series_length=2, series_data_type=<SeriesDataType.INT: 'int'>)),\n",
       "  Cell(column=8, row=15, coordinate=None, value=None, value_type=None): (1,\n",
       "   Series(series_id='Sheet1|col_2|13|8', worksheet=Worksheet(sheet_name='Sheet1', workbook_file_path=None, worksheet=None), series_header='col_2', formulas=[None, None], values=[2, 4], header_location=<HeaderLocation.TOP: 'top'>, series_starting_cell=Cell(column=8, row=14, coordinate='H14', value=None, value_type=None), series_length=2, series_data_type=<SeriesDataType.INT: 'int'>)),\n",
       "  Cell(column=9, row=14, coordinate=None, value=None, value_type=None): (0,\n",
       "   Series(series_id='Sheet1|col_3|13|9', worksheet=Worksheet(sheet_name='Sheet1', workbook_file_path=None, worksheet=None), series_header='col_3', formulas=['=Sheet1!G14+Sheet1!H14', '=Sheet1!G15+Sheet1!H15'], values=[3, 7], header_location=<HeaderLocation.TOP: 'top'>, series_starting_cell=Cell(column=9, row=14, coordinate='I14', value=None, value_type=None), series_length=2, series_data_type=<SeriesDataType.INT: 'int'>)),\n",
       "  Cell(column=9, row=15, coordinate=None, value=None, value_type=None): (1,\n",
       "   Series(series_id='Sheet1|col_3|13|9', worksheet=Worksheet(sheet_name='Sheet1', workbook_file_path=None, worksheet=None), series_header='col_3', formulas=['=Sheet1!G14+Sheet1!H14', '=Sheet1!G15+Sheet1!H15'], values=[3, 7], header_location=<HeaderLocation.TOP: 'top'>, series_starting_cell=Cell(column=9, row=14, coordinate='I14', value=None, value_type=None), series_length=2, series_data_type=<SeriesDataType.INT: 'int'>)),\n",
       "  Cell(column=10, row=14, coordinate=None, value=None, value_type=None): (0,\n",
       "   Series(series_id='Sheet1|col_4|13|10', worksheet=Worksheet(sheet_name='Sheet1', workbook_file_path=None, worksheet=None), series_header='col_4', formulas=['=SUM(Sheet1!G14:Sheet1!I14)', '=SUM(Sheet1!G15:Sheet1!I15)'], values=[6, 14], header_location=<HeaderLocation.TOP: 'top'>, series_starting_cell=Cell(column=10, row=14, coordinate='J14', value=None, value_type=None), series_length=2, series_data_type=<SeriesDataType.INT: 'int'>)),\n",
       "  Cell(column=10, row=15, coordinate=None, value=None, value_type=None): (1,\n",
       "   Series(series_id='Sheet1|col_4|13|10', worksheet=Worksheet(sheet_name='Sheet1', workbook_file_path=None, worksheet=None), series_header='col_4', formulas=['=SUM(Sheet1!G14:Sheet1!I14)', '=SUM(Sheet1!G15:Sheet1!I15)'], values=[6, 14], header_location=<HeaderLocation.TOP: 'top'>, series_starting_cell=Cell(column=10, row=14, coordinate='J14', value=None, value_type=None), series_length=2, series_data_type=<SeriesDataType.INT: 'int'>))},\n",
       " Worksheet(sheet_name='Sheet2', workbook_file_path=None, worksheet=None): {Cell(column=1, row=11, coordinate=None, value=None, value_type=None): (0,\n",
       "   Series(series_id='Sheet2|col1|10|1', worksheet=Worksheet(sheet_name='Sheet2', workbook_file_path=None, worksheet=None), series_header='col1', formulas=['=B2', '=B3'], values=[1, 4], header_location=<HeaderLocation.TOP: 'top'>, series_starting_cell=Cell(column=1, row=11, coordinate='A11', value=None, value_type=None), series_length=2, series_data_type=<SeriesDataType.INT: 'int'>)),\n",
       "  Cell(column=1, row=12, coordinate=None, value=None, value_type=None): (1,\n",
       "   Series(series_id='Sheet2|col1|10|1', worksheet=Worksheet(sheet_name='Sheet2', workbook_file_path=None, worksheet=None), series_header='col1', formulas=['=B2', '=B3'], values=[1, 4], header_location=<HeaderLocation.TOP: 'top'>, series_starting_cell=Cell(column=1, row=11, coordinate='A11', value=None, value_type=None), series_length=2, series_data_type=<SeriesDataType.INT: 'int'>)),\n",
       "  Cell(column=2, row=11, coordinate=None, value=None, value_type=None): (0,\n",
       "   Series(series_id='Sheet2|col2|10|2', worksheet=Worksheet(sheet_name='Sheet2', workbook_file_path=None, worksheet=None), series_header='col2', formulas=['=C2', '=C3'], values=[2, 5], header_location=<HeaderLocation.TOP: 'top'>, series_starting_cell=Cell(column=2, row=11, coordinate='B11', value=None, value_type=None), series_length=2, series_data_type=<SeriesDataType.INT: 'int'>)),\n",
       "  Cell(column=2, row=12, coordinate=None, value=None, value_type=None): (1,\n",
       "   Series(series_id='Sheet2|col2|10|2', worksheet=Worksheet(sheet_name='Sheet2', workbook_file_path=None, worksheet=None), series_header='col2', formulas=['=C2', '=C3'], values=[2, 5], header_location=<HeaderLocation.TOP: 'top'>, series_starting_cell=Cell(column=2, row=11, coordinate='B11', value=None, value_type=None), series_length=2, series_data_type=<SeriesDataType.INT: 'int'>)),\n",
       "  Cell(column=2, row=2, coordinate=None, value=None, value_type=None): (0,\n",
       "   Series(series_id='Sheet2|horizontal_col_1|2|1', worksheet=Worksheet(sheet_name='Sheet2', workbook_file_path=None, worksheet=None), series_header='horizontal_col_1', formulas=[None, None], values=[1, 2], header_location=<HeaderLocation.LEFT: 'left'>, series_starting_cell=Cell(column=2, row=2, coordinate='B2', value=None, value_type=None), series_length=2, series_data_type=<SeriesDataType.INT: 'int'>)),\n",
       "  Cell(column=3, row=2, coordinate=None, value=None, value_type=None): (1,\n",
       "   Series(series_id='Sheet2|horizontal_col_1|2|1', worksheet=Worksheet(sheet_name='Sheet2', workbook_file_path=None, worksheet=None), series_header='horizontal_col_1', formulas=[None, None], values=[1, 2], header_location=<HeaderLocation.LEFT: 'left'>, series_starting_cell=Cell(column=2, row=2, coordinate='B2', value=None, value_type=None), series_length=2, series_data_type=<SeriesDataType.INT: 'int'>)),\n",
       "  Cell(column=2, row=3, coordinate=None, value=None, value_type=None): (0,\n",
       "   Series(series_id='Sheet2|horizontal_col_2|3|1', worksheet=Worksheet(sheet_name='Sheet2', workbook_file_path=None, worksheet=None), series_header='horizontal_col_2', formulas=[None, None], values=[4, 5], header_location=<HeaderLocation.LEFT: 'left'>, series_starting_cell=Cell(column=2, row=3, coordinate='B3', value=None, value_type=None), series_length=2, series_data_type=<SeriesDataType.INT: 'int'>)),\n",
       "  Cell(column=3, row=3, coordinate=None, value=None, value_type=None): (1,\n",
       "   Series(series_id='Sheet2|horizontal_col_2|3|1', worksheet=Worksheet(sheet_name='Sheet2', workbook_file_path=None, worksheet=None), series_header='horizontal_col_2', formulas=[None, None], values=[4, 5], header_location=<HeaderLocation.LEFT: 'left'>, series_starting_cell=Cell(column=2, row=3, coordinate='B3', value=None, value_type=None), series_length=2, series_data_type=<SeriesDataType.INT: 'int'>)),\n",
       "  Cell(column=2, row=4, coordinate=None, value=None, value_type=None): (0,\n",
       "   Series(series_id='Sheet2|horizontal_col_3|4|1', worksheet=Worksheet(sheet_name='Sheet2', workbook_file_path=None, worksheet=None), series_header='horizontal_col_3', formulas=['=B2+B3', '=C2+C3'], values=[5, 7], header_location=<HeaderLocation.LEFT: 'left'>, series_starting_cell=Cell(column=2, row=4, coordinate='B4', value=None, value_type=None), series_length=2, series_data_type=<SeriesDataType.INT: 'int'>)),\n",
       "  Cell(column=3, row=4, coordinate=None, value=None, value_type=None): (1,\n",
       "   Series(series_id='Sheet2|horizontal_col_3|4|1', worksheet=Worksheet(sheet_name='Sheet2', workbook_file_path=None, worksheet=None), series_header='horizontal_col_3', formulas=['=B2+B3', '=C2+C3'], values=[5, 7], header_location=<HeaderLocation.LEFT: 'left'>, series_starting_cell=Cell(column=2, row=4, coordinate='B4', value=None, value_type=None), series_length=2, series_data_type=<SeriesDataType.INT: 'int'>))},\n",
       " Worksheet(sheet_name='Sheet3', workbook_file_path=None, worksheet=None): {Cell(column=1, row=2, coordinate=None, value=None, value_type=None): (0,\n",
       "   Series(series_id='Sheet3|col_1|1|1', worksheet=Worksheet(sheet_name='Sheet3', workbook_file_path=None, worksheet=None), series_header='col_1', formulas=['=SUM(Sheet1!B2:B6)', '=SUM(Sheet1!B2:B6)'], values=[4, 4], header_location=<HeaderLocation.TOP: 'top'>, series_starting_cell=Cell(column=1, row=2, coordinate='A2', value=None, value_type=None), series_length=2, series_data_type=<SeriesDataType.INT: 'int'>)),\n",
       "  Cell(column=1, row=3, coordinate=None, value=None, value_type=None): (1,\n",
       "   Series(series_id='Sheet3|col_1|1|1', worksheet=Worksheet(sheet_name='Sheet3', workbook_file_path=None, worksheet=None), series_header='col_1', formulas=['=SUM(Sheet1!B2:B6)', '=SUM(Sheet1!B2:B6)'], values=[4, 4], header_location=<HeaderLocation.TOP: 'top'>, series_starting_cell=Cell(column=1, row=2, coordinate='A2', value=None, value_type=None), series_length=2, series_data_type=<SeriesDataType.INT: 'int'>)),\n",
       "  Cell(column=2, row=2, coordinate=None, value=None, value_type=None): (0,\n",
       "   Series(series_id='Sheet3|col_2|1|2', worksheet=Worksheet(sheet_name='Sheet3', workbook_file_path=None, worksheet=None), series_header='col_2', formulas=['=SUM(Sheet1!C2:C6)', '=SUM(Sheet1!C2:C6)'], values=[6, 6], header_location=<HeaderLocation.TOP: 'top'>, series_starting_cell=Cell(column=2, row=2, coordinate='B2', value=None, value_type=None), series_length=2, series_data_type=<SeriesDataType.INT: 'int'>)),\n",
       "  Cell(column=2, row=3, coordinate=None, value=None, value_type=None): (1,\n",
       "   Series(series_id='Sheet3|col_2|1|2', worksheet=Worksheet(sheet_name='Sheet3', workbook_file_path=None, worksheet=None), series_header='col_2', formulas=['=SUM(Sheet1!C2:C6)', '=SUM(Sheet1!C2:C6)'], values=[6, 6], header_location=<HeaderLocation.TOP: 'top'>, series_starting_cell=Cell(column=2, row=2, coordinate='B2', value=None, value_type=None), series_length=2, series_data_type=<SeriesDataType.INT: 'int'>)),\n",
       "  Cell(column=3, row=2, coordinate=None, value=None, value_type=None): (0,\n",
       "   Series(series_id='Sheet3|col_3|1|3', worksheet=Worksheet(sheet_name='Sheet3', workbook_file_path=None, worksheet=None), series_header='col_3', formulas=['=SUM(Sheet1!D2:D6)', '=SUM(Sheet1!D2:D6)'], values=[10, 10], header_location=<HeaderLocation.TOP: 'top'>, series_starting_cell=Cell(column=3, row=2, coordinate='C2', value=None, value_type=None), series_length=2, series_data_type=<SeriesDataType.INT: 'int'>)),\n",
       "  Cell(column=3, row=3, coordinate=None, value=None, value_type=None): (1,\n",
       "   Series(series_id='Sheet3|col_3|1|3', worksheet=Worksheet(sheet_name='Sheet3', workbook_file_path=None, worksheet=None), series_header='col_3', formulas=['=SUM(Sheet1!D2:D6)', '=SUM(Sheet1!D2:D6)'], values=[10, 10], header_location=<HeaderLocation.TOP: 'top'>, series_starting_cell=Cell(column=3, row=2, coordinate='C2', value=None, value_type=None), series_length=2, series_data_type=<SeriesDataType.INT: 'int'>)),\n",
       "  Cell(column=4, row=2, coordinate=None, value=None, value_type=None): (0,\n",
       "   Series(series_id='Sheet3|col_4|1|4', worksheet=Worksheet(sheet_name='Sheet3', workbook_file_path=None, worksheet=None), series_header='col_4', formulas=['=Sheet3!A2*Sheet3!B2', '=Sheet3!A3*Sheet3!B3'], values=[24, 24], header_location=<HeaderLocation.TOP: 'top'>, series_starting_cell=Cell(column=4, row=2, coordinate='D2', value=None, value_type=None), series_length=2, series_data_type=<SeriesDataType.INT: 'int'>)),\n",
       "  Cell(column=4, row=3, coordinate=None, value=None, value_type=None): (1,\n",
       "   Series(series_id='Sheet3|col_4|1|4', worksheet=Worksheet(sheet_name='Sheet3', workbook_file_path=None, worksheet=None), series_header='col_4', formulas=['=Sheet3!A2*Sheet3!B2', '=Sheet3!A3*Sheet3!B3'], values=[24, 24], header_location=<HeaderLocation.TOP: 'top'>, series_starting_cell=Cell(column=4, row=2, coordinate='D2', value=None, value_type=None), series_length=2, series_data_type=<SeriesDataType.INT: 'int'>))}}"
      ]
     },
     "execution_count": 14,
     "metadata": {},
     "output_type": "execute_result"
    }
   ],
   "source": [
    "series_mapping"
   ]
  },
  {
   "cell_type": "code",
   "execution_count": 15,
   "metadata": {},
   "outputs": [],
   "source": [
    "series_iterator = SeriesIterator.iterate_series(series_dict)"
   ]
  },
  {
   "cell_type": "code",
   "execution_count": 16,
   "metadata": {},
   "outputs": [],
   "source": [
    "series_list = [series for series in series_iterator if series.formulas != [None, None]]"
   ]
  },
  {
   "cell_type": "markdown",
   "metadata": {},
   "source": [
    "Series Id can be concatenation of sheet_name, header_name, header_column_index, header_row_index"
   ]
  },
  {
   "cell_type": "code",
   "execution_count": 17,
   "metadata": {},
   "outputs": [],
   "source": [
    "for series in series_list:\n",
    "    formula_1 = series.formulas[0]\n",
    "    formula_1_ast = FormulaParser.parse_formula(formula_1)\n",
    "    series_implementer = SeriesImplementer(series_mapping, sheet_name = series.worksheet.sheet_name)\n",
    "    formula_1_ast_series = series_implementer.replace_range_nodes(formula_1_ast)\n",
    "\n",
    "    formula_2 = series.formulas[1]\n",
    "    formula_2_ast = FormulaParser.parse_formula(formula_2)\n",
    "    formula_2_ast_series = series_implementer.replace_range_nodes(formula_2_ast)\n",
    "    \n",
    "    sheet_name = series.worksheet.sheet_name\n",
    "\n",
    "    series_list = series_dict.get(sheet_name)\n"
   ]
  },
  {
   "cell_type": "code",
   "execution_count": 18,
   "metadata": {},
   "outputs": [],
   "source": [
    "import xlcalculator\n",
    "import ast\n",
    "from typing import List\n",
    "from objects import Series\n",
    "\n",
    "\n",
    "class SeriesRangeDelta:\n",
    "    def __init__(\n",
    "        self,\n",
    "        start_row_index_delta,\n",
    "        end_row_index_delta,\n",
    "        start_column_index_delta,\n",
    "        end_column_index_delta,\n",
    "        start_row_index,\n",
    "        end_row_index,\n",
    "    ):\n",
    "        self.start_row_index_delta = start_row_index_delta\n",
    "        self.end_row_index_delta = end_row_index_delta\n",
    "        self.start_column_index_delta = start_column_index_delta\n",
    "        self.end_column_index__delta = end_column_index_delta\n",
    "        self.start_row_index = start_row_index\n",
    "        self.end_row_index = end_row_index\n",
    "\n",
    "\n",
    "class ASTGenerator:\n",
    "    def __init__(\n",
    "        self,\n",
    "        formula_1_ast_series: xlcalculator.ast_nodes.ASTNode,\n",
    "        formula_2_ast_series: xlcalculator.ast_nodes.ASTNode,\n",
    "        series_list: List[Series],\n",
    "    ):\n",
    "        self.formula_1_ast_series = formula_1_ast_series\n",
    "        self.formula_2_ast_series = formula_2_ast_series\n",
    "        self.series_list = series_list\n",
    "\n",
    "    @staticmethod\n",
    "    def extract_tuples(node_value: str):\n",
    "        return ast.literal_eval(node_value)\n",
    "\n",
    "    def get_delta_between_nodes(self, node1_value: str, node2_value: str):\n",
    "        node1_tuple = self.extract_tuples(node1_value)\n",
    "        node2_tuple = self.extract_tuples(node2_value)\n",
    "\n",
    "        if node1_tuple[1] == (None, None) or node2_tuple[1] == (None, None):\n",
    "            return None\n",
    "        else:\n",
    "            return self.calculate_deltas(node1_tuple, node2_tuple)\n",
    "\n",
    "    @staticmethod\n",
    "    def calculate_deltas(\n",
    "        node1_tuple: tuple[tuple[str], tuple[int, int]],\n",
    "        node2_tuple: tuple[tuple[str], tuple[int, int]],\n",
    "    ) -> SeriesRangeDelta:\n",
    "        node1_series_ids, node1_row_indexes = node1_tuple\n",
    "        node2_series_ids, node2_row_indexes = node2_tuple\n",
    "\n",
    "        start_row_index_delta = node2_row_indexes[0] - node1_row_indexes[0]\n",
    "        end_row_index_delta = node2_row_indexes[1] - node1_row_indexes[1]\n",
    "        start_column_index_delta = int(node2_series_ids[0].split(\"|\")[-1]) - int(\n",
    "            node1_series_ids[0].split(\"|\")[-1]\n",
    "        )\n",
    "        end_column_index_delta = int(node2_series_ids[-1].split(\"|\")[-1]) - int(\n",
    "            node1_series_ids[-1].split(\"|\")[-1]\n",
    "        )\n",
    "\n",
    "        return SeriesRangeDelta(\n",
    "            start_row_index_delta,\n",
    "            end_row_index_delta,\n",
    "            start_column_index_delta,\n",
    "            end_column_index_delta,\n",
    "            node1_row_indexes[0],\n",
    "            node1_row_indexes[-1],\n",
    "        )\n",
    "\n",
    "    def apply_delta_to_range_node(\n",
    "        self,\n",
    "        node1: xlcalculator.ast_nodes.ASTNode,\n",
    "        node2: xlcalculator.ast_nodes.ASTNode,\n",
    "        n: int,\n",
    "    ):\n",
    "        if isinstance(node1, xlcalculator.ast_nodes.RangeNode) and isinstance(\n",
    "            node2, xlcalculator.ast_nodes.RangeNode\n",
    "        ):\n",
    "            return self.process_range_node(node1, node2, n)\n",
    "        elif hasattr(node1, \"args\") and isinstance(\n",
    "            node1, xlcalculator.ast_nodes.FunctionNode\n",
    "        ):\n",
    "            return self.process_function_node(node1, node2, n)\n",
    "        elif hasattr(node1, \"left\") and isinstance(\n",
    "            node1, xlcalculator.ast_nodes.OperatorNode\n",
    "        ):\n",
    "            return self.process_operator_node(node1, node2, n)\n",
    "        else:\n",
    "            return node1\n",
    "\n",
    "    def process_range_node(self, node1, node2, n):\n",
    "        series_range_delta = self.get_delta_between_nodes(node1.tvalue, node2.tvalue)\n",
    "        if series_range_delta:\n",
    "\n",
    "            start_row_index_delta = series_range_delta.start_row_index_delta\n",
    "            end_row_index_delta = series_range_delta.end_row_index_delta\n",
    "            start_column_index_delta = series_range_delta.start_column_index_delta\n",
    "            end_column_index_delta = series_range_delta.end_column_index__delta\n",
    "            start_row_index = series_range_delta.start_row_index\n",
    "            end_row_index = series_range_delta.end_row_index\n",
    "            return self.update_range_node(\n",
    "                node1,\n",
    "                start_row_index_delta,\n",
    "                end_row_index_delta,\n",
    "                start_column_index_delta,\n",
    "                end_column_index_delta,\n",
    "                start_row_index,\n",
    "                end_row_index,\n",
    "                n,\n",
    "            )\n",
    "        return node1\n",
    "\n",
    "    def update_range_node(\n",
    "        self,\n",
    "        node1,\n",
    "        start_row_index_delta,\n",
    "        end_row_index_delta,\n",
    "        start_column_index_delta,\n",
    "        end_column_index_delta,\n",
    "        start_row_index,\n",
    "        end_row_index,\n",
    "        n,\n",
    "    ):\n",
    "\n",
    "        series_ids = self.extract_tuples(node1.tvalue)[0]\n",
    "        new_series_ids = [\n",
    "            self.add_column_delta_to_series_id(sid, start_column_index_delta * (n - 1))\n",
    "            for sid in series_ids\n",
    "        ]\n",
    "\n",
    "        new_tvalue = str(\n",
    "            (\n",
    "                tuple(new_series_ids),\n",
    "                (\n",
    "                    start_row_index + start_row_index_delta * (n - 1),\n",
    "                    end_row_index + end_row_index_delta * (n - 1),\n",
    "                ),\n",
    "            )\n",
    "        )\n",
    "        return xlcalculator.ast_nodes.RangeNode(\n",
    "            xlcalculator.tokenizer.f_token(\n",
    "                tvalue=new_tvalue, ttype=\"operand\", tsubtype=\"range\"\n",
    "            )\n",
    "        )\n",
    "\n",
    "    def add_column_delta_to_series_id(self, series_id: str, column_delta: int):\n",
    "            sheet_name, series_header, start_column_index, end_column_index = (\n",
    "                series_id.split(\"|\")\n",
    "            )\n",
    "            updated_index_end = str(int(end_column_index) + column_delta)\n",
    "            for series in self.series_list:\n",
    "                if (\n",
    "                    series.series_id.split(\"|\")[0] == sheet_name and\n",
    "                    series.series_id.split(\"|\")[2] == start_column_index and\n",
    "                    series.series_id.split(\"|\")[3] == updated_index_end\n",
    "                ):\n",
    "                    return series.series_id\n",
    "            return series_id\n",
    "\n",
    "    def process_function_node(self, node1, node2, n):\n",
    "        modified_args = [\n",
    "            self.apply_delta_to_range_node(arg, node2.args[i], n)\n",
    "            for i, arg in enumerate(node1.args)\n",
    "        ]\n",
    "        modified_node = xlcalculator.ast_nodes.FunctionNode(node1.token)\n",
    "        modified_node.args = modified_args\n",
    "        return modified_node\n",
    "\n",
    "    def process_operator_node(self, node1, node2, n):\n",
    "        modified_left = (\n",
    "            self.apply_delta_to_range_node(node1.left, node2.left, n)\n",
    "            if node1.left\n",
    "            else None\n",
    "        )\n",
    "        modified_right = (\n",
    "            self.apply_delta_to_range_node(node1.right, node2.right, n)\n",
    "            if node1.right\n",
    "            else None\n",
    "        )\n",
    "        modified_node = xlcalculator.ast_nodes.OperatorNode(node1.token)\n",
    "        modified_node.left = modified_left\n",
    "        modified_node.right = modified_right\n",
    "        return modified_node\n",
    "\n",
    "    def get_nth_formula(self, n: int) -> xlcalculator.ast_nodes.ASTNode:\n",
    "        return self.apply_delta_to_range_node(\n",
    "            self.formula_1_ast_series, self.formula_2_ast_series, n=n\n",
    "        )\n",
    "\n",
    "\n",
    "class FormulaGenerator:\n",
    "    \"\"\"Creates instances of ASTGenerator given two formula_ast objects\"\"\"\n",
    "\n",
    "    @staticmethod\n",
    "    def get_ast_generator(\n",
    "        formula_1_ast_series: xlcalculator.ast_nodes.ASTNode,\n",
    "        formula_2_ast_series: xlcalculator.ast_nodes.ASTNode,\n",
    "        series_list: List[Series],\n",
    "    ) -> ASTGenerator:\n",
    "        \"\"\"Create an instance of ASTGenerator given two formula_ast objects and a series_list\"\"\"\n",
    "        ast_generator = ASTGenerator(\n",
    "            formula_1_ast_series, formula_2_ast_series, series_list\n",
    "        )\n",
    "        return ast_generator\n"
   ]
  },
  {
   "cell_type": "code",
   "execution_count": 25,
   "metadata": {},
   "outputs": [
    {
     "data": {
      "text/plain": [
       "Series(series_id='Sheet3|col_4|1|4', worksheet=Worksheet(sheet_name='Sheet3', workbook_file_path=None, worksheet=None), series_header='col_4', formulas=['=Sheet3!A2*Sheet3!B2', '=Sheet3!A3*Sheet3!B3'], values=[24, 24], header_location=<HeaderLocation.TOP: 'top'>, series_starting_cell=Cell(column=4, row=2, coordinate='D2', value=None, value_type=None), series_length=2, series_data_type=<SeriesDataType.INT: 'int'>)"
      ]
     },
     "execution_count": 25,
     "metadata": {},
     "output_type": "execute_result"
    }
   ],
   "source": [
    "series"
   ]
  },
  {
   "cell_type": "code",
   "execution_count": 26,
   "metadata": {},
   "outputs": [],
   "source": [
    "formula_1 = \"=Sheet3!A2*Sheet3!B2\"\n",
    "formula_2 = \"=Sheet3!A3*Sheet3!B3\"\n",
    "\n",
    "formula_1_ast = FormulaParser.parse_formula(formula_1)\n",
    "series_implementer = SeriesImplementer(series_mapping, sheet_name = series.worksheet.sheet_name)\n",
    "formula_1_ast_series = series_implementer.replace_range_nodes(formula_1_ast)\n",
    "\n",
    "formula_2_ast = FormulaParser.parse_formula(formula_2)\n",
    "formula_2_ast_series = series_implementer.replace_range_nodes(formula_2_ast)\n",
    "\n",
    "sheet_name = series.worksheet.sheet_name\n",
    "\n",
    "series_list = series_dict.get(sheet_name)\n",
    "\n",
    "ast_generator = FormulaGenerator.get_ast_generator(formula_1_ast_series, formula_2_ast_series, series_list)\n",
    "\n",
    "formula_1_ast_new = ast_generator.get_nth_formula(n=1)\n",
    "formula_2_ast_new = ast_generator.get_nth_formula(n=2)"
   ]
  },
  {
   "cell_type": "code",
   "execution_count": 27,
   "metadata": {},
   "outputs": [
    {
     "name": "stdout",
     "output_type": "stream",
     "text": [
      "((('Sheet3|col_1|1|1',), (0, 0))) * ((('Sheet3|col_2|1|2',), (0, 0)))\n",
      "((('Sheet3|col_1|1|1',), (1, 1))) * ((('Sheet3|col_2|1|2',), (1, 1)))\n"
     ]
    }
   ],
   "source": [
    "print(formula_1_ast_new)\n",
    "print(formula_2_ast_new)"
   ]
  },
  {
   "cell_type": "code",
   "execution_count": null,
   "metadata": {},
   "outputs": [],
   "source": []
  }
 ],
 "metadata": {
  "kernelspec": {
   "display_name": "venv",
   "language": "python",
   "name": "python3"
  },
  "language_info": {
   "codemirror_mode": {
    "name": "ipython",
    "version": 3
   },
   "file_extension": ".py",
   "mimetype": "text/x-python",
   "name": "python",
   "nbconvert_exporter": "python",
   "pygments_lexer": "ipython3",
   "version": "3.11.5"
  }
 },
 "nbformat": 4,
 "nbformat_minor": 2
}
