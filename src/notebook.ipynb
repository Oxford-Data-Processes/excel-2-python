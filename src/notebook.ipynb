{
 "cells": [
  {
   "cell_type": "code",
   "execution_count": 40,
   "metadata": {},
   "outputs": [],
   "source": [
    "import os\n",
    "import xlcalculator\n",
    "import re\n",
    "\n",
    "\n",
    "from series_extraction.excel_loader import ExcelLoader\n",
    "from series_extraction.excel_validator import ExcelValidator\n",
    "from series_extraction.excel_cleaner import ExcelCleaner\n",
    "from series_extraction.table_finder import TableFinder\n",
    "from series_extraction.series_extractor import SeriesExtractor\n",
    "from series_extraction.excel_compatibility_checker import ExcelCompatibilityChecker\n",
    "from series_extraction.series_iterator import SeriesIterator\n",
    "from series_extraction.series_mapper import SeriesMapper\n",
    "\n",
    "from ast_building.formula_parser import FormulaParser\n",
    "from ast_building.series_implementer import SeriesImplementer\n",
    "\n",
    "from formula_visualiser import FormulaVisualiser\n"
   ]
  },
  {
   "cell_type": "code",
   "execution_count": 41,
   "metadata": {},
   "outputs": [],
   "source": [
    "current_directory = os.getcwd()\n",
    "\n",
    "parent_directory = os.path.abspath(os.path.join(current_directory, os.pardir))\n",
    "data_directory = os.path.join(parent_directory, 'data')\n",
    "\n",
    "project_name = 'test_excel_1'\n",
    "\n",
    "excel_raw_file_path = os.path.join(data_directory, \"excel_files_raw\", f\"{project_name}_raw.xlsx\")\n",
    "excel_reduced_filepath = os.path.join(data_directory, \"excel_files_reduced\", f\"{project_name}_reduced.xlsx\")"
   ]
  },
  {
   "cell_type": "code",
   "execution_count": 42,
   "metadata": {},
   "outputs": [],
   "source": [
    "excel_raw= ExcelLoader.load_file(excel_raw_file_path)\n",
    "excel_reduced = ExcelLoader.load_file(excel_reduced_filepath)"
   ]
  },
  {
   "cell_type": "code",
   "execution_count": 43,
   "metadata": {},
   "outputs": [],
   "source": [
    "is_valid = ExcelValidator.validate_excel(excel_reduced)"
   ]
  },
  {
   "cell_type": "code",
   "execution_count": 44,
   "metadata": {},
   "outputs": [],
   "source": [
    "if not is_valid:\n",
    "    raise Exception(\"Excel file is not valid\")"
   ]
  },
  {
   "cell_type": "code",
   "execution_count": 45,
   "metadata": {},
   "outputs": [],
   "source": [
    "excel_reduced_clean = ExcelCleaner.clean_excel(excel_reduced)"
   ]
  },
  {
   "cell_type": "code",
   "execution_count": 46,
   "metadata": {},
   "outputs": [],
   "source": [
    "extracted_tables, data = TableFinder.find_tables(excel_reduced_clean)"
   ]
  },
  {
   "cell_type": "code",
   "execution_count": 47,
   "metadata": {},
   "outputs": [],
   "source": [
    "series_data = SeriesExtractor.extract_table_details(extracted_tables, data)"
   ]
  },
  {
   "cell_type": "code",
   "execution_count": 48,
   "metadata": {},
   "outputs": [],
   "source": [
    "is_compatible = ExcelCompatibilityChecker.check_file(excel_raw, excel_reduced, extracted_tables)"
   ]
  },
  {
   "cell_type": "code",
   "execution_count": 49,
   "metadata": {},
   "outputs": [],
   "source": [
    "if not is_compatible:\n",
    "    raise Exception(\"Excel file is not compatible\")"
   ]
  },
  {
   "cell_type": "code",
   "execution_count": 50,
   "metadata": {},
   "outputs": [],
   "source": [
    "series_dict = SeriesExtractor.extract_series(extracted_tables=extracted_tables, data=data)"
   ]
  },
  {
   "cell_type": "code",
   "execution_count": 51,
   "metadata": {},
   "outputs": [],
   "source": [
    "series_mapping = SeriesMapper.map_series(series_dict)"
   ]
  },
  {
   "cell_type": "code",
   "execution_count": 52,
   "metadata": {},
   "outputs": [],
   "source": [
    "series_iterator = SeriesIterator.iterate_series(series_dict)"
   ]
  },
  {
   "cell_type": "code",
   "execution_count": 53,
   "metadata": {},
   "outputs": [],
   "source": [
    "series_list = [series for series in series_iterator if series.formulas != [None, None]]"
   ]
  },
  {
   "cell_type": "code",
   "execution_count": 54,
   "metadata": {},
   "outputs": [],
   "source": [
    "for series in series_list:\n",
    "    formula_1 = series.formulas[0]\n",
    "    formula_1_ast = FormulaParser.parse_formula(formula_1)\n",
    "    series_implementer = SeriesImplementer(series_mapping, sheet_name = series.worksheet.sheet_name)\n",
    "    formula_1_ast_series = series_implementer.replace_range_nodes(formula_1_ast)\n",
    "\n",
    "    formula_2 = series.formulas[1]\n",
    "    formula_2_ast = FormulaParser.parse_formula(formula_2)\n",
    "    formula_2_ast_series = series_implementer.replace_range_nodes(formula_2_ast)"
   ]
  },
  {
   "cell_type": "code",
   "execution_count": 55,
   "metadata": {},
   "outputs": [],
   "source": [
    "class ASTGenerator:\n",
    "    def __init__(self, formula_1_ast_series: xlcalculator.ast_nodes.ASTNode, formula_2_ast_series: xlcalculator.ast_nodes.ASTNode):\n",
    "        self.formula_1_ast_series = formula_1_ast_series\n",
    "        self.formula_2_ast_series = formula_2_ast_series\n",
    "\n",
    "    @staticmethod\n",
    "    def get_delta_between_nodes(node1_value: str, node2_value: str):\n",
    "\n",
    "        def check_string(s):\n",
    "            pattern = r\"_\\d_\\d$\"\n",
    "            return bool(re.search(pattern, s))\n",
    "\n",
    "        if node1_value == node2_value:\n",
    "            return None\n",
    "        elif check_string(node1_value) and check_string(node2_value) and node1_value[:-4] == node2_value[:-4]:\n",
    "            node_1_start_index = node1_value[-3]\n",
    "            node_1_end_index = node1_value[-1]\n",
    "            node_2_start_index = node2_value[-3]\n",
    "            node_2_end_index = node2_value[-1]\n",
    "            if node_1_start_index != node_2_start_index:\n",
    "                start_index_delta = int(node_2_start_index) - int(node_1_start_index)\n",
    "                end_index_delta = int(node_2_end_index) - int(node_1_end_index)\n",
    "                return (start_index_delta, end_index_delta)\n",
    "                \n",
    "\n",
    "\n",
    "    @staticmethod\n",
    "    def compare_range_nodes(node1, node2, differing_nodes):\n",
    "        \"\"\"\n",
    "        Recursively compare RangeNode objects in two AST nodes.\n",
    "        \n",
    "        Parameters:\n",
    "        - node1: The current node in the first AST.\n",
    "        - node2: The current node in the second AST.\n",
    "        - differing_nodes: A list to collect node IDs where RangeNode objects differ.\n",
    "        \"\"\"\n",
    "        if type(node1) != type(node2):\n",
    "            return\n",
    "\n",
    "        if isinstance(node1, xlcalculator.ast_nodes.RangeNode) and isinstance(node2, xlcalculator.ast_nodes.RangeNode):\n",
    "            print(ASTGenerator.get_delta_between_nodes(node1.tvalue, node2.tvalue))\n",
    "\n",
    "        if hasattr(node1, 'left') and hasattr(node2, 'left'):\n",
    "            ASTGenerator.compare_range_nodes(node1.left, node2.left, differing_nodes)\n",
    "        \n",
    "        if hasattr(node1, 'right') and hasattr(node2, 'right'):\n",
    "            ASTGenerator.compare_range_nodes(node1.right, node2.right, differing_nodes)\n",
    "        \n",
    "        if hasattr(node1, 'args') and hasattr(node2, 'args'):\n",
    "            for child1, child2 in zip(node1.args, node2.args):\n",
    "                ASTGenerator.compare_range_nodes(child1, child2, differing_nodes)\n",
    "\n",
    "    def generate_ast(self, n: int) -> xlcalculator.ast_nodes.ASTNode:\n",
    "        \"\"\"Generates the Nth AST from the two formula ASTs, where the first AST provided is N=1\"\"\"\n",
    "        differing_nodes = []\n",
    "        return ASTGenerator.compare_range_nodes(self.formula_1_ast_series, self.formula_2_ast_series, differing_nodes)\n",
    "        \n",
    "\n",
    "\n",
    "\n",
    "\n",
    "class FormulaGenerator:\n",
    "    \"\"\"Creates instances of ASTGenerator given two formula_ast objects\"\"\"\n",
    "\n",
    "    @staticmethod\n",
    "    def get_ast_generator(\n",
    "        formula_1_ast_series: xlcalculator.ast_nodes.ASTNode, formula_2_ast_series: xlcalculator.ast_nodes.ASTNode\n",
    "    ) -> ASTGenerator:\n",
    "        \"\"\"Create an instance of ASTGenerator given two formula_ast objects\"\"\"\n",
    "        ast_generator = ASTGenerator(formula_1_ast_series, formula_2_ast_series)\n",
    "        return ast_generator\n",
    "        \n"
   ]
  },
  {
   "cell_type": "code",
   "execution_count": 56,
   "metadata": {},
   "outputs": [
    {
     "name": "stdout",
     "output_type": "stream",
     "text": [
      "(c0a7fc24674646a48ffceca85c88dc3e_0_0) * (d53bfd7a798f4fa682b033cd9ade23b2_0_0)\n",
      "(c0a7fc24674646a48ffceca85c88dc3e_1_1) * (d53bfd7a798f4fa682b033cd9ade23b2_1_1)\n"
     ]
    }
   ],
   "source": [
    "print(formula_1_ast_series)\n",
    "print(formula_2_ast_series)"
   ]
  },
  {
   "cell_type": "code",
   "execution_count": 57,
   "metadata": {},
   "outputs": [],
   "source": [
    "ast_generator = FormulaGenerator.get_ast_generator(formula_1_ast_series, formula_2_ast_series)"
   ]
  },
  {
   "cell_type": "code",
   "execution_count": 58,
   "metadata": {},
   "outputs": [
    {
     "name": "stdout",
     "output_type": "stream",
     "text": [
      "(1, 1)\n",
      "(1, 1)\n"
     ]
    }
   ],
   "source": [
    "ast_generator.generate_ast(1)"
   ]
  },
  {
   "cell_type": "code",
   "execution_count": null,
   "metadata": {},
   "outputs": [],
   "source": []
  }
 ],
 "metadata": {
  "kernelspec": {
   "display_name": "venv",
   "language": "python",
   "name": "python3"
  },
  "language_info": {
   "codemirror_mode": {
    "name": "ipython",
    "version": 3
   },
   "file_extension": ".py",
   "mimetype": "text/x-python",
   "name": "python",
   "nbconvert_exporter": "python",
   "pygments_lexer": "ipython3",
   "version": "3.11.5"
  }
 },
 "nbformat": 4,
 "nbformat_minor": 2
}
