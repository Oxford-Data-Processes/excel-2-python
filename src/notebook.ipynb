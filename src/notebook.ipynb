{
 "cells": [
  {
   "cell_type": "code",
   "execution_count": 1,
   "metadata": {},
   "outputs": [],
   "source": [
    "import os\n",
    "\n",
    "from series_extraction.excel_loader import ExcelLoader\n",
    "from series_extraction.excel_cleaner import ExcelCleaner\n",
    "from series_extraction.table_extractor import TableExtractor\n",
    "from series_extraction.series_extractor import SeriesExtractor\n",
    "from series_extraction.excel_compatibility_checker import ExcelCompatibilityChecker\n",
    "from series_extraction.series_iterator import SeriesIterator\n",
    "from series_extraction.series_mapper import SeriesMapper\n",
    "from series_extraction.excel_validator import ExcelValidator\n",
    "\n",
    "from ast_transformation.series_formula_generator import SeriesFormulaGenerator\n",
    "from ast_transformation.formula_generator import FormulaGenerator\n",
    "from ast_transformation.formula_evaluator import FormulaEvaluator\n",
    "\n",
    "from ast_building.formula_parser import FormulaParser\n",
    "from ast_building.series_implementer import SeriesImplementer\n",
    "\n",
    "from pipeline_building.series_dependencies_builder import SeriesDependenciesBuilder\n",
    "from pipeline_building.dag_sorter import DAGSorter\n",
    "\n",
    "from excel_builder import ExcelBuilder\n",
    "\n",
    "from excel_checker import ExcelChecker\n"
   ]
  },
  {
   "cell_type": "code",
   "execution_count": 2,
   "metadata": {},
   "outputs": [],
   "source": [
    "data_directory = \"/Users/chrislittle/GitHub/speedsheet/excel-2-python/data\"\n",
    "\n",
    "project_name = 'test_excel_1'\n",
    "\n",
    "excel_raw_file_path = os.path.join(data_directory, \"excel_files_raw\", f\"{project_name}_raw.xlsx\")\n",
    "excel_reduced_filepath = os.path.join(data_directory, \"excel_files_reduced\", f\"{project_name}_reduced.xlsx\")\n",
    "excel_reduced_clean_filepath = os.path.join(data_directory, \"excel_files_reduced_clean\", f\"{project_name}_reduced_clean.xlsx\")\n",
    "excel_reduced_clean_series_filepath = os.path.join(data_directory, \"excel_files_reduced_clean_series\", f\"{project_name}_reduced_clean_series.xlsx\")\n",
    "excel_reduced_clean_series_python_filepath = os.path.join(data_directory, \"excel_files_reduced_clean_series_python\", f\"{project_name}_reduced_clean_series_python.xlsx\")"
   ]
  },
  {
   "cell_type": "code",
   "execution_count": 3,
   "metadata": {},
   "outputs": [
    {
     "data": {
      "text/plain": [
       "True"
      ]
     },
     "execution_count": 3,
     "metadata": {},
     "output_type": "execute_result"
    }
   ],
   "source": [
    "excel_raw= ExcelLoader.load_file(excel_raw_file_path)\n",
    "excel_reduced = ExcelLoader.load_file(excel_reduced_filepath)\n",
    "is_valid = ExcelValidator.validate_excel(excel_reduced)\n",
    "if not is_valid:\n",
    "    raise Exception(\"Excel file is not valid\")\n",
    "\n",
    "excel_reduced_clean = ExcelCleaner.clean_excel(excel_reduced)\n",
    "ExcelBuilder.create_excel_from_workbook(excel_reduced_clean.workbook_with_formulas, excel_reduced_clean_filepath)\n",
    "\n",
    "extracted_tables, workbook_data = TableExtractor.extract_tables(excel_reduced_clean)\n",
    "is_compatible = ExcelCompatibilityChecker.check_file(excel_raw, excel_reduced, extracted_tables)\n",
    "if not is_compatible:\n",
    "    print(extracted_tables)\n",
    "    raise Exception(\"Excel file is not compatible\")\n",
    "\n",
    "series_dict = SeriesExtractor.extract_series(extracted_tables=extracted_tables, workbook_data=workbook_data)\n",
    "series_mapping = SeriesMapper.map_series(series_dict)\n",
    "series_iterator = SeriesIterator.iterate_series(series_dict)\n",
    "\n",
    "series_list = [series for series in series_iterator]\n",
    "\n",
    "series_list_with_formulas = [\n",
    "    series for series in series_list if series.formulas != [None, None]\n",
    "]\n",
    "series_list_with_values = [\n",
    "    series for series in series_list if series.formulas == [None, None]\n",
    "]\n",
    "\n",
    "series_list_new = []\n",
    "formula_1_ast_series_list = []\n",
    "\n",
    "for series in series_list_with_formulas:\n",
    "    formula_1, formula_2 = SeriesFormulaGenerator.adjust_formulas(\n",
    "        series.formulas\n",
    "    )\n",
    "    if formula_1 is not None and formula_2 is not None:\n",
    "\n",
    "        series_implementer = SeriesImplementer(\n",
    "            series_mapping, sheet_name=series.worksheet.sheet_name\n",
    "        )\n",
    "\n",
    "        formula_1_ast = FormulaParser.parse_formula(formula_1)\n",
    "        formula_1_ast_series = series_implementer.update_ast(formula_1_ast)\n",
    "        formula_1_ast_series_list.append((series.series_id, formula_1_ast_series))\n",
    "\n",
    "        formula_2_ast = FormulaParser.parse_formula(formula_2)\n",
    "        formula_2_ast_series = series_implementer.update_ast(formula_2_ast)\n",
    "\n",
    "        SeriesFormulaGenerator.process_series_formulas(\n",
    "            series,\n",
    "            formula_1_ast_series,\n",
    "            formula_2_ast_series,\n",
    "            series_mapping,\n",
    "            series_dict,\n",
    "            series_list_new,\n",
    "        )\n",
    "        \n",
    "\n",
    "series_list_updated = series_list_new + series_list_with_values\n",
    "\n",
    "ExcelBuilder.create_excel_from_series(series_list_updated, excel_reduced_clean_series_filepath)\n",
    "ExcelChecker.excels_are_equivalent(excel_reduced_clean_filepath, excel_reduced_clean_series_filepath)"
   ]
  },
  {
   "cell_type": "code",
   "execution_count": 4,
   "metadata": {},
   "outputs": [],
   "source": [
    "import pickle\n",
    "\n",
    "def write_pickle(object_name: str, object):\n",
    "    pickle_data = pickle.dumps(object)\n",
    "    with open(f'{object_name}.pkl', 'wb') as file:\n",
    "        file.write(pickle_data)\n"
   ]
  },
  {
   "cell_type": "code",
   "execution_count": 5,
   "metadata": {},
   "outputs": [],
   "source": [
    "write_pickle(\"series_mapping\", series_mapping)\n",
    "write_pickle(\"series_list\", series_list)"
   ]
  },
  {
   "cell_type": "code",
   "execution_count": 6,
   "metadata": {},
   "outputs": [],
   "source": [
    "series_dependencies = SeriesDependenciesBuilder.build_dependencies(formula_1_ast_series_list)\n",
    "sorted_dag = DAGSorter.sort_dag(series_dependencies)"
   ]
  },
  {
   "cell_type": "code",
   "execution_count": 7,
   "metadata": {},
   "outputs": [],
   "source": [
    "# def build_excel_with_python_formulas(series_list_with_values, ast_generator_dict, evaluator, excel_reduced_clean_series_python_filepath):\n",
    "\n",
    "#     series_list_new_python = []\n",
    "#     for series_id in ast_generator_dict.keys():\n",
    "#         ast_generator = ast_generator_dict[series_id]  \n",
    "#         series = evaluator.get_series_from_id(series_id)  \n",
    "#         values = evaluator.calculate_series_values(ast_generator, 1, 2) \n",
    "#         series.values = values\n",
    "#         series_list_new_python.append(series)\n",
    "\n",
    "#     series_list_updated_python = series_list_new_python + series_list_with_values\n",
    "#     ExcelBuilder.create_excel_from_series(series_list_updated_python, excel_reduced_clean_series_python_filepath, values_only=True)\n",
    "    "
   ]
  },
  {
   "cell_type": "code",
   "execution_count": 8,
   "metadata": {},
   "outputs": [],
   "source": [
    "# evaluator = FormulaEvaluator(formula_ast=None, series_dict=series_dict)\n"
   ]
  },
  {
   "cell_type": "code",
   "execution_count": 9,
   "metadata": {},
   "outputs": [],
   "source": [
    "# build_excel_with_python_formulas(series_list_with_values, ast_generator_dict, evaluator, excel_reduced_clean_series_python_filepath)"
   ]
  },
  {
   "cell_type": "code",
   "execution_count": 10,
   "metadata": {},
   "outputs": [],
   "source": [
    "# ExcelChecker.excels_are_equivalent(excel_reduced_clean_filepath, excel_reduced_clean_series_python_filepath)"
   ]
  }
 ],
 "metadata": {
  "kernelspec": {
   "display_name": "venv",
   "language": "python",
   "name": "python3"
  },
  "language_info": {
   "codemirror_mode": {
    "name": "ipython",
    "version": 3
   },
   "file_extension": ".py",
   "mimetype": "text/x-python",
   "name": "python",
   "nbconvert_exporter": "python",
   "pygments_lexer": "ipython3",
   "version": "3.11.5"
  }
 },
 "nbformat": 4,
 "nbformat_minor": 2
}
