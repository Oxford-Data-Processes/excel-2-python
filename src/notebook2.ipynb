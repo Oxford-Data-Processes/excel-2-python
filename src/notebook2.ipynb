{
 "cells": [
  {
   "cell_type": "code",
   "execution_count": 1,
   "metadata": {},
   "outputs": [
    {
     "data": {
      "text/plain": [
       "Data_value    0.606741\n",
       "dtype: float64"
      ]
     },
     "execution_count": 1,
     "metadata": {},
     "output_type": "execute_result"
    }
   ],
   "source": [
    "import pandas as pd\n",
    "import numpy as np\n",
    "import ast\n",
    "\n",
    "def AVERAGE(series):\n",
    "    return np.mean(series.data.select_dtypes(include=[np.number]), axis=0)  # Compute mean of numeric data only\n",
    "\n",
    "class Series:\n",
    "    def __init__(self, series_header):\n",
    "        self.data = df[series_header]\n",
    "\n",
    "class SeriesRange:\n",
    "    def __init__(self, series, start_index, end_index):\n",
    "        # Concatenate the series and slice it to get the relevant data section\n",
    "        combined_series = pd.concat([s.data for s in series], axis=1)\n",
    "        self.data = combined_series.iloc[start_index:end_index + 1]  # Store the relevant data slice\n",
    "\n",
    "# Securely parse and evaluate the AST\n",
    "def eval_formula(formula):\n",
    "    tree = ast.parse(formula, mode='eval')\n",
    "    local_env = {\n",
    "        'AVERAGE': AVERAGE,\n",
    "        'SeriesRange': SeriesRange,\n",
    "        'Series': Series,\n",
    "        'np': np\n",
    "    }\n",
    "    compiled = compile(tree, filename=\"<ast>\", mode='eval')\n",
    "    result = eval(compiled, {'__builtins__': {}}, local_env)\n",
    "    return result\n",
    "\n",
    "# Example DataFrame\n",
    "df = pd.DataFrame({\n",
    "    'Period': pd.date_range(start='1/1/2020', periods=20),\n",
    "    'Data_value': np.random.rand(20)\n",
    "})\n",
    "\n",
    "# Example formula\n",
    "formula = \"AVERAGE(SeriesRange(series=[Series(series_header='Period'), Series(series_header='Data_value')], start_index=0, end_index=10))\"\n",
    "result = eval_formula(formula)\n",
    "result"
   ]
  },
  {
   "cell_type": "code",
   "execution_count": null,
   "metadata": {},
   "outputs": [],
   "source": []
  }
 ],
 "metadata": {
  "kernelspec": {
   "display_name": "venv",
   "language": "python",
   "name": "python3"
  },
  "language_info": {
   "codemirror_mode": {
    "name": "ipython",
    "version": 3
   },
   "file_extension": ".py",
   "mimetype": "text/x-python",
   "name": "python",
   "nbconvert_exporter": "python",
   "pygments_lexer": "ipython3",
   "version": "3.11.5"
  }
 },
 "nbformat": 4,
 "nbformat_minor": 2
}
