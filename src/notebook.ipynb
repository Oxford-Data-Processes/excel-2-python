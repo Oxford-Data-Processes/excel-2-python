{
 "cells": [
  {
   "cell_type": "code",
   "execution_count": 16,
   "metadata": {},
   "outputs": [],
   "source": [
    "import os\n",
    "\n",
    "from series_extraction.excel_loader import ExcelLoader\n",
    "from series_extraction.excel_cleaner import ExcelCleaner\n",
    "from series_extraction.table_finder import TableFinder\n",
    "from series_extraction.series_extractor import SeriesExtractor\n",
    "from series_extraction.excel_compatibility_checker import ExcelCompatibilityChecker\n",
    "from series_extraction.series_iterator import SeriesIterator\n",
    "from series_extraction.series_mapper import SeriesMapper\n",
    "from series_extraction.excel_validator import ExcelValidator\n",
    "\n",
    "from ast_transformation.series_formula_generator import SeriesFormulaGenerator\n",
    "from ast_transformation.formula_generator import SeriesIdLoader\n",
    "\n",
    "from ast_building.formula_parser import FormulaParser\n",
    "from ast_building.series_implementer import SeriesImplementer\n",
    "\n",
    "from pipeline_building.series_dependencies_builder import SeriesDependenciesBuilder\n",
    "\n",
    "from excel_builder import ExcelBuilder\n",
    "\n",
    "from excel_checker import ExcelChecker\n"
   ]
  },
  {
   "cell_type": "code",
   "execution_count": 17,
   "metadata": {},
   "outputs": [],
   "source": [
    "current_directory = os.getcwd()\n",
    "\n",
    "parent_directory = os.path.abspath(os.path.join(current_directory, os.pardir))\n",
    "data_directory = os.path.join(parent_directory, 'data')\n",
    "\n",
    "project_name = 'test_excel_2'\n",
    "\n",
    "excel_raw_file_path = os.path.join(data_directory, \"excel_files_raw\", f\"{project_name}_raw.xlsx\")\n",
    "excel_reduced_filepath = os.path.join(data_directory, \"excel_files_reduced\", f\"{project_name}_reduced.xlsx\")\n",
    "excel_reduced_clean_filepath = os.path.join(data_directory, \"excel_files_reduced_clean\", f\"{project_name}_reduced_clean.xlsx\")\n",
    "excel_reduced_clean_series_filepath = os.path.join(data_directory, \"excel_files_reduced_clean_series\", f\"{project_name}_reduced_clean_series.xlsx\")"
   ]
  },
  {
   "cell_type": "code",
   "execution_count": 18,
   "metadata": {},
   "outputs": [
    {
     "data": {
      "text/plain": [
       "True"
      ]
     },
     "execution_count": 18,
     "metadata": {},
     "output_type": "execute_result"
    }
   ],
   "source": [
    "excel_raw= ExcelLoader.load_file(excel_raw_file_path)\n",
    "excel_reduced = ExcelLoader.load_file(excel_reduced_filepath)\n",
    "is_valid = ExcelValidator.validate_excel(excel_reduced)\n",
    "if not is_valid:\n",
    "    raise Exception(\"Excel file is not valid\")\n",
    "\n",
    "excel_reduced_clean = ExcelCleaner.clean_excel(excel_reduced)\n",
    "ExcelBuilder.create_excel_from_workbook(excel_reduced_clean.workbook_with_formulas, excel_reduced_clean_filepath)\n",
    "\n",
    "extracted_tables, data = TableFinder.find_tables(excel_reduced_clean)\n",
    "is_compatible = ExcelCompatibilityChecker.check_file(excel_raw, excel_reduced, extracted_tables)\n",
    "if not is_compatible:\n",
    "    print(extracted_tables)\n",
    "    raise Exception(\"Excel file is not compatible\")\n",
    "\n",
    "series_dict = SeriesExtractor.extract_series(extracted_tables=extracted_tables, data=data)\n",
    "series_mapping = SeriesMapper.map_series(series_dict)\n",
    "series_iterator = SeriesIterator.iterate_series(series_dict)\n",
    "\n",
    "series_list = [series for series in series_iterator]\n",
    "\n",
    "series_list_with_formulas = [\n",
    "    series for series in series_list if series.formulas != [None, None]\n",
    "]\n",
    "series_list_with_values = [\n",
    "    series for series in series_list if series.formulas == [None, None]\n",
    "]\n",
    "\n",
    "series_list_new = []\n",
    "formula_1_ast_series_list = []\n",
    "\n",
    "for series in series_list_with_formulas:\n",
    "    formula_1, formula_2 = SeriesFormulaGenerator.adjust_formulas(\n",
    "        series.formulas\n",
    "    )\n",
    "    if formula_1 is not None and formula_2 is not None:\n",
    "\n",
    "        series_implementer = SeriesImplementer(\n",
    "            series_mapping, sheet_name=series.worksheet.sheet_name\n",
    "        )\n",
    "\n",
    "        formula_1_ast = FormulaParser.parse_formula(formula_1)\n",
    "        formula_1_ast_series = series_implementer.update_ast(formula_1_ast)\n",
    "        formula_1_ast_series_list.append(formula_1_ast_series)\n",
    "\n",
    "        formula_2_ast = FormulaParser.parse_formula(formula_2)\n",
    "        formula_2_ast_series = series_implementer.update_ast(formula_2_ast)\n",
    "\n",
    "        SeriesFormulaGenerator.process_series_formulas(\n",
    "            series,\n",
    "            formula_1_ast_series,\n",
    "            formula_2_ast_series,\n",
    "            series_mapping,\n",
    "            series_dict,\n",
    "            series_list_new,\n",
    "        )\n",
    "\n",
    "series_list_updated = series_list_new + series_list_with_values\n",
    "\n",
    "ExcelBuilder.create_excel_from_series(series_list_updated, excel_reduced_clean_series_filepath)\n",
    "ExcelChecker.excels_are_equivalent(excel_reduced_clean_filepath, excel_reduced_clean_series_filepath)"
   ]
  },
  {
   "cell_type": "code",
   "execution_count": 19,
   "metadata": {},
   "outputs": [
    {
     "data": {
      "text/plain": [
       "<OperatorNode tvalue: '*', ttype: operator-infix, tsubtype: math>"
      ]
     },
     "execution_count": 19,
     "metadata": {},
     "output_type": "execute_result"
    }
   ],
   "source": [
    "formula_1_ast_series"
   ]
  },
  {
   "cell_type": "code",
   "execution_count": 33,
   "metadata": {},
   "outputs": [],
   "source": [
    "series_range_strings = SeriesDependenciesBuilder.extract_range_values(formula_1_ast_series)"
   ]
  },
  {
   "cell_type": "code",
   "execution_count": 34,
   "metadata": {},
   "outputs": [],
   "source": [
    "import ast\n",
    "\n",
    "def get_series_ids(series_range_strings):\n",
    "    series_ids = []\n",
    "    for series_range_string in series_range_strings:\n",
    "        series_id_strings = ast.literal_eval(series_range_string)[0]\n",
    "        for series_id_string in series_id_strings:\n",
    "            series_id = SeriesIdLoader.load_series_id_from_string(series_id_string)\n",
    "            series_ids.append(series_id)\n",
    "    return series_ids"
   ]
  },
  {
   "cell_type": "code",
   "execution_count": 35,
   "metadata": {},
   "outputs": [],
   "source": [
    "series_ids = get_series_ids(series_range_strings)"
   ]
  },
  {
   "cell_type": "code",
   "execution_count": 36,
   "metadata": {},
   "outputs": [
    {
     "data": {
      "text/plain": [
       "[SeriesId(sheet_name='cleaning', series_header='Total Cost (inc VAT)', series_header_cell_row=1, series_header_cell_column=5),\n",
       " SeriesId(sheet_name='cleaning', series_header='TGB Liability', series_header_cell_row=1, series_header_cell_column=2)]"
      ]
     },
     "execution_count": 36,
     "metadata": {},
     "output_type": "execute_result"
    }
   ],
   "source": [
    "series_ids"
   ]
  },
  {
   "cell_type": "code",
   "execution_count": null,
   "metadata": {},
   "outputs": [],
   "source": []
  }
 ],
 "metadata": {
  "kernelspec": {
   "display_name": "venv",
   "language": "python",
   "name": "python3"
  },
  "language_info": {
   "codemirror_mode": {
    "name": "ipython",
    "version": 3
   },
   "file_extension": ".py",
   "mimetype": "text/x-python",
   "name": "python",
   "nbconvert_exporter": "python",
   "pygments_lexer": "ipython3",
   "version": "3.11.5"
  }
 },
 "nbformat": 4,
 "nbformat_minor": 2
}
