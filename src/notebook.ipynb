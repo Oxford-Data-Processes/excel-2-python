{
 "cells": [
  {
   "cell_type": "code",
   "execution_count": 1,
   "metadata": {},
   "outputs": [],
   "source": [
    "import os\n",
    "\n",
    "from series_extraction.excel_loader import ExcelLoader\n",
    "from series_extraction.excel_validator import ExcelValidator\n",
    "from series_extraction.excel_cleaner import ExcelCleaner\n",
    "from series_extraction.table_finder import TableFinder\n",
    "from series_extraction.series_extractor import SeriesExtractor\n",
    "from series_extraction.excel_compatibility_checker import ExcelCompatibilityChecker\n",
    "from series_extraction.series_iterator import SeriesIterator\n",
    "from series_extraction.series_mapper import SeriesMapper\n",
    "\n",
    "from ast_building.formula_parser import FormulaParser\n",
    "from ast_building.series_implementer import SeriesImplementer\n",
    "\n",
    "from ast_transformation.formula_generator import FormulaGenerator\n",
    "from ast_transformation.formula_checker import FormulaChecker\n",
    "\n",
    "from excel_utils import ExcelUtils"
   ]
  },
  {
   "cell_type": "code",
   "execution_count": 2,
   "metadata": {},
   "outputs": [],
   "source": [
    "current_directory = os.getcwd()\n",
    "\n",
    "parent_directory = os.path.abspath(os.path.join(current_directory, os.pardir))\n",
    "data_directory = os.path.join(parent_directory, 'data')\n",
    "\n",
    "project_name = 'test_excel_7'\n",
    "\n",
    "excel_raw_file_path = os.path.join(data_directory, \"excel_files_raw\", f\"{project_name}_raw.xlsx\")\n",
    "excel_reduced_filepath = os.path.join(data_directory, \"excel_files_reduced\", f\"{project_name}_reduced.xlsx\")"
   ]
  },
  {
   "cell_type": "code",
   "execution_count": 3,
   "metadata": {},
   "outputs": [],
   "source": [
    "excel_raw= ExcelLoader.load_file(excel_raw_file_path)\n",
    "excel_reduced = ExcelLoader.load_file(excel_reduced_filepath)"
   ]
  },
  {
   "cell_type": "code",
   "execution_count": 4,
   "metadata": {},
   "outputs": [],
   "source": [
    "is_valid = ExcelValidator.validate_excel(excel_reduced)"
   ]
  },
  {
   "cell_type": "code",
   "execution_count": 5,
   "metadata": {},
   "outputs": [],
   "source": [
    "if not is_valid:\n",
    "    raise Exception(\"Excel file is not valid\")"
   ]
  },
  {
   "cell_type": "code",
   "execution_count": 6,
   "metadata": {},
   "outputs": [],
   "source": [
    "excel_reduced_clean = ExcelCleaner.clean_excel(excel_reduced)"
   ]
  },
  {
   "cell_type": "code",
   "execution_count": 7,
   "metadata": {},
   "outputs": [],
   "source": [
    "extracted_tables, data = TableFinder.find_tables(excel_reduced_clean)"
   ]
  },
  {
   "cell_type": "code",
   "execution_count": 8,
   "metadata": {},
   "outputs": [],
   "source": [
    "series_data = SeriesExtractor.extract_table_details(extracted_tables, data)"
   ]
  },
  {
   "cell_type": "code",
   "execution_count": 9,
   "metadata": {},
   "outputs": [],
   "source": [
    "is_compatible = ExcelCompatibilityChecker.check_file(excel_raw, excel_reduced, extracted_tables)"
   ]
  },
  {
   "cell_type": "code",
   "execution_count": 10,
   "metadata": {},
   "outputs": [],
   "source": [
    "if not is_compatible:\n",
    "    raise Exception(\"Excel file is not compatible\")"
   ]
  },
  {
   "cell_type": "code",
   "execution_count": 11,
   "metadata": {},
   "outputs": [],
   "source": [
    "series_dict = SeriesExtractor.extract_series(extracted_tables=extracted_tables, data=data)"
   ]
  },
  {
   "cell_type": "code",
   "execution_count": 12,
   "metadata": {},
   "outputs": [
    {
     "data": {
      "text/plain": [
       "{'Sheet1': [Series(series_id=SeriesId(sheet_name='Sheet1', series_header='App', series_header_cell_row=1, series_header_cell_column=1), worksheet=Worksheet(sheet_name='Sheet1', workbook_file_path=None, worksheet=None), series_header='App', formulas=[None, None], values=['Photo Editor & Candy Camera & Grid & ScrapBook', 'Coloring book moana'], header_location=<HeaderLocation.TOP: 'top'>, series_starting_cell=Cell(column=1, row=2, coordinate='A2', value=None, value_type=None), series_length=2, series_data_type=<SeriesDataType.STR: 'str'>),\n",
       "  Series(series_id=SeriesId(sheet_name='Sheet1', series_header='Category', series_header_cell_row=1, series_header_cell_column=2), worksheet=Worksheet(sheet_name='Sheet1', workbook_file_path=None, worksheet=None), series_header='Category', formulas=[None, None], values=['ART_AND_DESIGN', 'ART_AND_DESIGN'], header_location=<HeaderLocation.TOP: 'top'>, series_starting_cell=Cell(column=2, row=2, coordinate='B2', value=None, value_type=None), series_length=2, series_data_type=<SeriesDataType.STR: 'str'>),\n",
       "  Series(series_id=SeriesId(sheet_name='Sheet1', series_header='Rating', series_header_cell_row=1, series_header_cell_column=3), worksheet=Worksheet(sheet_name='Sheet1', workbook_file_path=None, worksheet=None), series_header='Rating', formulas=[None, None], values=[4.1, 3.9], header_location=<HeaderLocation.TOP: 'top'>, series_starting_cell=Cell(column=3, row=2, coordinate='C2', value=None, value_type=None), series_length=2, series_data_type=<SeriesDataType.FLOAT: 'float'>),\n",
       "  Series(series_id=SeriesId(sheet_name='Sheet1', series_header='Reviews', series_header_cell_row=1, series_header_cell_column=4), worksheet=Worksheet(sheet_name='Sheet1', workbook_file_path=None, worksheet=None), series_header='Reviews', formulas=[None, None], values=[159, 967], header_location=<HeaderLocation.TOP: 'top'>, series_starting_cell=Cell(column=4, row=2, coordinate='D2', value=None, value_type=None), series_length=2, series_data_type=<SeriesDataType.INT: 'int'>),\n",
       "  Series(series_id=SeriesId(sheet_name='Sheet1', series_header='Size', series_header_cell_row=1, series_header_cell_column=5), worksheet=Worksheet(sheet_name='Sheet1', workbook_file_path=None, worksheet=None), series_header='Size', formulas=[None, None], values=['19M', '14M'], header_location=<HeaderLocation.TOP: 'top'>, series_starting_cell=Cell(column=5, row=2, coordinate='E2', value=None, value_type=None), series_length=2, series_data_type=<SeriesDataType.STR: 'str'>),\n",
       "  Series(series_id=SeriesId(sheet_name='Sheet1', series_header='Installs', series_header_cell_row=1, series_header_cell_column=6), worksheet=Worksheet(sheet_name='Sheet1', workbook_file_path=None, worksheet=None), series_header='Installs', formulas=[None, None], values=['10,000+', '500,000+'], header_location=<HeaderLocation.TOP: 'top'>, series_starting_cell=Cell(column=6, row=2, coordinate='F2', value=None, value_type=None), series_length=2, series_data_type=<SeriesDataType.STR: 'str'>),\n",
       "  Series(series_id=SeriesId(sheet_name='Sheet1', series_header='Type', series_header_cell_row=1, series_header_cell_column=7), worksheet=Worksheet(sheet_name='Sheet1', workbook_file_path=None, worksheet=None), series_header='Type', formulas=[None, None], values=['Free', 'Free'], header_location=<HeaderLocation.TOP: 'top'>, series_starting_cell=Cell(column=7, row=2, coordinate='G2', value=None, value_type=None), series_length=2, series_data_type=<SeriesDataType.STR: 'str'>),\n",
       "  Series(series_id=SeriesId(sheet_name='Sheet1', series_header='Price', series_header_cell_row=1, series_header_cell_column=8), worksheet=Worksheet(sheet_name='Sheet1', workbook_file_path=None, worksheet=None), series_header='Price', formulas=[None, None], values=[0, 0], header_location=<HeaderLocation.TOP: 'top'>, series_starting_cell=Cell(column=8, row=2, coordinate='H2', value=None, value_type=None), series_length=2, series_data_type=<SeriesDataType.INT: 'int'>),\n",
       "  Series(series_id=SeriesId(sheet_name='Sheet1', series_header='Content Rating', series_header_cell_row=1, series_header_cell_column=9), worksheet=Worksheet(sheet_name='Sheet1', workbook_file_path=None, worksheet=None), series_header='Content Rating', formulas=[None, None], values=['Everyone', 'Everyone'], header_location=<HeaderLocation.TOP: 'top'>, series_starting_cell=Cell(column=9, row=2, coordinate='I2', value=None, value_type=None), series_length=2, series_data_type=<SeriesDataType.STR: 'str'>),\n",
       "  Series(series_id=SeriesId(sheet_name='Sheet1', series_header='Genres', series_header_cell_row=1, series_header_cell_column=10), worksheet=Worksheet(sheet_name='Sheet1', workbook_file_path=None, worksheet=None), series_header='Genres', formulas=[None, None], values=['Art & Design', 'Art & Design;Pretend Play'], header_location=<HeaderLocation.TOP: 'top'>, series_starting_cell=Cell(column=10, row=2, coordinate='J2', value=None, value_type=None), series_length=2, series_data_type=<SeriesDataType.STR: 'str'>),\n",
       "  Series(series_id=SeriesId(sheet_name='Sheet1', series_header='Last Updated', series_header_cell_row=1, series_header_cell_column=11), worksheet=Worksheet(sheet_name='Sheet1', workbook_file_path=None, worksheet=None), series_header='Last Updated', formulas=[None, None], values=['7-Jan-18', '15-Jan-18'], header_location=<HeaderLocation.TOP: 'top'>, series_starting_cell=Cell(column=11, row=2, coordinate='K2', value=None, value_type=None), series_length=2, series_data_type=<SeriesDataType.STR: 'str'>),\n",
       "  Series(series_id=SeriesId(sheet_name='Sheet1', series_header='Current Ver', series_header_cell_row=1, series_header_cell_column=12), worksheet=Worksheet(sheet_name='Sheet1', workbook_file_path=None, worksheet=None), series_header='Current Ver', formulas=[None, None], values=['1.0.0', '2.0.0'], header_location=<HeaderLocation.TOP: 'top'>, series_starting_cell=Cell(column=12, row=2, coordinate='L2', value=None, value_type=None), series_length=2, series_data_type=<SeriesDataType.STR: 'str'>),\n",
       "  Series(series_id=SeriesId(sheet_name='Sheet1', series_header='Android Ver', series_header_cell_row=1, series_header_cell_column=13), worksheet=Worksheet(sheet_name='Sheet1', workbook_file_path=None, worksheet=None), series_header='Android Ver', formulas=[None, None], values=['4.0.3 and up', '4.0.3 and up'], header_location=<HeaderLocation.TOP: 'top'>, series_starting_cell=Cell(column=13, row=2, coordinate='M2', value=None, value_type=None), series_length=2, series_data_type=<SeriesDataType.STR: 'str'>),\n",
       "  Series(series_id=SeriesId(sheet_name='Sheet1', series_header='Sum_Size_Weight', series_header_cell_row=1, series_header_cell_column=14), worksheet=Worksheet(sheet_name='Sheet1', workbook_file_path=None, worksheet=None), series_header='Sum_Size_Weight', formulas=['=SUM(A2,B2)', '=SUM(A3,B3)'], values=[0, 0], header_location=<HeaderLocation.TOP: 'top'>, series_starting_cell=Cell(column=14, row=2, coordinate='N2', value=None, value_type=None), series_length=2, series_data_type=<SeriesDataType.INT: 'int'>),\n",
       "  Series(series_id=SeriesId(sheet_name='Sheet1', series_header='If_Good_Quality', series_header_cell_row=1, series_header_cell_column=15), worksheet=Worksheet(sheet_name='Sheet1', workbook_file_path=None, worksheet=None), series_header='If_Good_Quality', formulas=['=IF(E2=\"good\",\"Yes\",\"No\")', '=IF(E3=\"good\",\"Yes\",\"No\")'], values=['No', 'No'], header_location=<HeaderLocation.TOP: 'top'>, series_starting_cell=Cell(column=15, row=2, coordinate='O2', value=None, value_type=None), series_length=2, series_data_type=<SeriesDataType.STR: 'str'>),\n",
       "  Series(series_id=SeriesId(sheet_name='Sheet1', series_header='Count_Negative_Weight', series_header_cell_row=1, series_header_cell_column=16), worksheet=Worksheet(sheet_name='Sheet1', workbook_file_path=None, worksheet=None), series_header='Count_Negative_Weight', formulas=['=COUNTIF(B:B,\"<0\")', '=COUNTIF(B:B,\"<0\")'], values=[0, 0], header_location=<HeaderLocation.TOP: 'top'>, series_starting_cell=Cell(column=16, row=2, coordinate='P2', value=None, value_type=None), series_length=2, series_data_type=<SeriesDataType.INT: 'int'>),\n",
       "  Series(series_id=SeriesId(sheet_name='Sheet1', series_header='Sum_High_Acidity', series_header_cell_row=1, series_header_cell_column=17), worksheet=Worksheet(sheet_name='Sheet1', workbook_file_path=None, worksheet=None), series_header='Sum_High_Acidity', formulas=['=SUMIF(D:D,\">1000\")', '=SUMIF(D:D,\">1000\")'], values=[0, 0], header_location=<HeaderLocation.TOP: 'top'>, series_starting_cell=Cell(column=17, row=2, coordinate='Q2', value=None, value_type=None), series_length=2, series_data_type=<SeriesDataType.INT: 'int'>),\n",
       "  Series(series_id=SeriesId(sheet_name='Sheet1', series_header='Average_If_Ripe', series_header_cell_row=1, series_header_cell_column=18), worksheet=Worksheet(sheet_name='Sheet1', workbook_file_path=None, worksheet=None), series_header='Average_If_Ripe', formulas=['=AVERAGEIF(C:C,\">0\")', '=AVERAGEIF(C:C,\">0\")'], values=[4, 4], header_location=<HeaderLocation.TOP: 'top'>, series_starting_cell=Cell(column=18, row=2, coordinate='R2', value=None, value_type=None), series_length=2, series_data_type=<SeriesDataType.INT: 'int'>),\n",
       "  Series(series_id=SeriesId(sheet_name='Sheet1', series_header='If_Weight_Or_Size', series_header_cell_row=1, series_header_cell_column=19), worksheet=Worksheet(sheet_name='Sheet1', workbook_file_path=None, worksheet=None), series_header='If_Weight_Or_Size', formulas=['=IF(OR(A2>0,B2>0),\"Acceptable\",\"Check\")', '=IF(OR(A3>0,B3>0),\"Acceptable\",\"Check\")'], values=['Acceptable', 'Acceptable'], header_location=<HeaderLocation.TOP: 'top'>, series_starting_cell=Cell(column=19, row=2, coordinate='S2', value=None, value_type=None), series_length=2, series_data_type=<SeriesDataType.STR: 'str'>),\n",
       "  Series(series_id=SeriesId(sheet_name='Sheet1', series_header='Round up Decimal', series_header_cell_row=1, series_header_cell_column=20), worksheet=Worksheet(sheet_name='Sheet1', workbook_file_path=None, worksheet=None), series_header='Round up Decimal', formulas=['=ROUNDUP(C2,0)', '=ROUNDUP(C3,0)'], values=[5, 4], header_location=<HeaderLocation.TOP: 'top'>, series_starting_cell=Cell(column=20, row=2, coordinate='T2', value=None, value_type=None), series_length=2, series_data_type=<SeriesDataType.INT: 'int'>),\n",
       "  Series(series_id=SeriesId(sheet_name='Sheet1', series_header='Round down Decimal', series_header_cell_row=1, series_header_cell_column=21), worksheet=Worksheet(sheet_name='Sheet1', workbook_file_path=None, worksheet=None), series_header='Round down Decimal', formulas=['=ROUNDDOWN(C2,0)', '=ROUNDDOWN(C3,0)'], values=[4, 3], header_location=<HeaderLocation.TOP: 'top'>, series_starting_cell=Cell(column=21, row=2, coordinate='U2', value=None, value_type=None), series_length=2, series_data_type=<SeriesDataType.INT: 'int'>),\n",
       "  Series(series_id=SeriesId(sheet_name='Sheet1', series_header='Year', series_header_cell_row=1, series_header_cell_column=22), worksheet=Worksheet(sheet_name='Sheet1', workbook_file_path=None, worksheet=None), series_header='Year', formulas=['=RIGHT(K2,2)+2000', '=RIGHT(K3,2)+2000'], values=[2018, 2018], header_location=<HeaderLocation.TOP: 'top'>, series_starting_cell=Cell(column=22, row=2, coordinate='V2', value=None, value_type=None), series_length=2, series_data_type=<SeriesDataType.INT: 'int'>),\n",
       "  Series(series_id=SeriesId(sheet_name='Sheet1', series_header='Month', series_header_cell_row=1, series_header_cell_column=23), worksheet=Worksheet(sheet_name='Sheet1', workbook_file_path=None, worksheet=None), series_header='Month', formulas=['=INDEX(_xlfn.TEXTSPLIT(K2,\"-\"),1,2)', '=INDEX(_xlfn.TEXTSPLIT(K3,\"-\"),1,2)'], values=['Jan', 'Jan'], header_location=<HeaderLocation.TOP: 'top'>, series_starting_cell=Cell(column=23, row=2, coordinate='W2', value=None, value_type=None), series_length=2, series_data_type=<SeriesDataType.STR: 'str'>),\n",
       "  Series(series_id=SeriesId(sheet_name='Sheet1', series_header='Day', series_header_cell_row=1, series_header_cell_column=24), worksheet=Worksheet(sheet_name='Sheet1', workbook_file_path=None, worksheet=None), series_header='Day', formulas=['=INDEX(_xlfn.TEXTSPLIT(K2,\"-\"),1,1)', '=INDEX(_xlfn.TEXTSPLIT(K3,\"-\"),1,1)'], values=['7', '15'], header_location=<HeaderLocation.TOP: 'top'>, series_starting_cell=Cell(column=24, row=2, coordinate='X2', value=None, value_type=None), series_length=2, series_data_type=<SeriesDataType.STR: 'str'>),\n",
       "  Series(series_id=SeriesId(sheet_name='Sheet1', series_header='Month Number', series_header_cell_row=1, series_header_cell_column=25), worksheet=Worksheet(sheet_name='Sheet1', workbook_file_path=None, worksheet=None), series_header='Month Number', formulas=['=INDEX(months!B:B,MATCH(Sheet1!W2,months!A:A,0))', '=INDEX(months!B:B,MATCH(Sheet1!W3,months!A:A,0))'], values=[1, 1], header_location=<HeaderLocation.TOP: 'top'>, series_starting_cell=Cell(column=25, row=2, coordinate='Y2', value=None, value_type=None), series_length=2, series_data_type=<SeriesDataType.INT: 'int'>),\n",
       "  Series(series_id=SeriesId(sheet_name='Sheet1', series_header='Date', series_header_cell_row=1, series_header_cell_column=26), worksheet=Worksheet(sheet_name='Sheet1', workbook_file_path=None, worksheet=None), series_header='Date', formulas=['=DATE(V2,Y2,X2)', '=DATE(V3,Y3,X3)'], values=[43107, 43115], header_location=<HeaderLocation.TOP: 'top'>, series_starting_cell=Cell(column=26, row=2, coordinate='Z2', value=None, value_type=None), series_length=2, series_data_type=<SeriesDataType.INT: 'int'>)],\n",
       " 'months': [Series(series_id=SeriesId(sheet_name='months', series_header='Month', series_header_cell_row=1, series_header_cell_column=1), worksheet=Worksheet(sheet_name='months', workbook_file_path=None, worksheet=None), series_header='Month', formulas=[None, None], values=['Jan', 'Feb'], header_location=<HeaderLocation.TOP: 'top'>, series_starting_cell=Cell(column=1, row=2, coordinate='A2', value=None, value_type=None), series_length=12, series_data_type=<SeriesDataType.STR: 'str'>),\n",
       "  Series(series_id=SeriesId(sheet_name='months', series_header='Number', series_header_cell_row=1, series_header_cell_column=2), worksheet=Worksheet(sheet_name='months', workbook_file_path=None, worksheet=None), series_header='Number', formulas=[None, None], values=[1, 2], header_location=<HeaderLocation.TOP: 'top'>, series_starting_cell=Cell(column=2, row=2, coordinate='B2', value=None, value_type=None), series_length=12, series_data_type=<SeriesDataType.INT: 'int'>)]}"
      ]
     },
     "execution_count": 12,
     "metadata": {},
     "output_type": "execute_result"
    }
   ],
   "source": [
    "series_dict"
   ]
  },
  {
   "cell_type": "code",
   "execution_count": 13,
   "metadata": {},
   "outputs": [],
   "source": [
    "series_mapping = SeriesMapper.map_series(series_dict)"
   ]
  },
  {
   "cell_type": "code",
   "execution_count": 14,
   "metadata": {},
   "outputs": [
    {
     "data": {
      "text/plain": [
       "{Worksheet(sheet_name='Sheet1', workbook_file_path=None, worksheet=None): {Cell(column=1, row=2, coordinate=None, value=None, value_type=None): (0,\n",
       "   Series(series_id=SeriesId(sheet_name='Sheet1', series_header='App', series_header_cell_row=1, series_header_cell_column=1), worksheet=Worksheet(sheet_name='Sheet1', workbook_file_path=None, worksheet=None), series_header='App', formulas=[None, None], values=['Photo Editor & Candy Camera & Grid & ScrapBook', 'Coloring book moana'], header_location=<HeaderLocation.TOP: 'top'>, series_starting_cell=Cell(column=1, row=2, coordinate='A2', value=None, value_type=None), series_length=2, series_data_type=<SeriesDataType.STR: 'str'>)),\n",
       "  Cell(column=1, row=3, coordinate=None, value=None, value_type=None): (1,\n",
       "   Series(series_id=SeriesId(sheet_name='Sheet1', series_header='App', series_header_cell_row=1, series_header_cell_column=1), worksheet=Worksheet(sheet_name='Sheet1', workbook_file_path=None, worksheet=None), series_header='App', formulas=[None, None], values=['Photo Editor & Candy Camera & Grid & ScrapBook', 'Coloring book moana'], header_location=<HeaderLocation.TOP: 'top'>, series_starting_cell=Cell(column=1, row=2, coordinate='A2', value=None, value_type=None), series_length=2, series_data_type=<SeriesDataType.STR: 'str'>)),\n",
       "  Cell(column=2, row=2, coordinate=None, value=None, value_type=None): (0,\n",
       "   Series(series_id=SeriesId(sheet_name='Sheet1', series_header='Category', series_header_cell_row=1, series_header_cell_column=2), worksheet=Worksheet(sheet_name='Sheet1', workbook_file_path=None, worksheet=None), series_header='Category', formulas=[None, None], values=['ART_AND_DESIGN', 'ART_AND_DESIGN'], header_location=<HeaderLocation.TOP: 'top'>, series_starting_cell=Cell(column=2, row=2, coordinate='B2', value=None, value_type=None), series_length=2, series_data_type=<SeriesDataType.STR: 'str'>)),\n",
       "  Cell(column=2, row=3, coordinate=None, value=None, value_type=None): (1,\n",
       "   Series(series_id=SeriesId(sheet_name='Sheet1', series_header='Category', series_header_cell_row=1, series_header_cell_column=2), worksheet=Worksheet(sheet_name='Sheet1', workbook_file_path=None, worksheet=None), series_header='Category', formulas=[None, None], values=['ART_AND_DESIGN', 'ART_AND_DESIGN'], header_location=<HeaderLocation.TOP: 'top'>, series_starting_cell=Cell(column=2, row=2, coordinate='B2', value=None, value_type=None), series_length=2, series_data_type=<SeriesDataType.STR: 'str'>)),\n",
       "  Cell(column=3, row=2, coordinate=None, value=None, value_type=None): (0,\n",
       "   Series(series_id=SeriesId(sheet_name='Sheet1', series_header='Rating', series_header_cell_row=1, series_header_cell_column=3), worksheet=Worksheet(sheet_name='Sheet1', workbook_file_path=None, worksheet=None), series_header='Rating', formulas=[None, None], values=[4.1, 3.9], header_location=<HeaderLocation.TOP: 'top'>, series_starting_cell=Cell(column=3, row=2, coordinate='C2', value=None, value_type=None), series_length=2, series_data_type=<SeriesDataType.FLOAT: 'float'>)),\n",
       "  Cell(column=3, row=3, coordinate=None, value=None, value_type=None): (1,\n",
       "   Series(series_id=SeriesId(sheet_name='Sheet1', series_header='Rating', series_header_cell_row=1, series_header_cell_column=3), worksheet=Worksheet(sheet_name='Sheet1', workbook_file_path=None, worksheet=None), series_header='Rating', formulas=[None, None], values=[4.1, 3.9], header_location=<HeaderLocation.TOP: 'top'>, series_starting_cell=Cell(column=3, row=2, coordinate='C2', value=None, value_type=None), series_length=2, series_data_type=<SeriesDataType.FLOAT: 'float'>)),\n",
       "  Cell(column=4, row=2, coordinate=None, value=None, value_type=None): (0,\n",
       "   Series(series_id=SeriesId(sheet_name='Sheet1', series_header='Reviews', series_header_cell_row=1, series_header_cell_column=4), worksheet=Worksheet(sheet_name='Sheet1', workbook_file_path=None, worksheet=None), series_header='Reviews', formulas=[None, None], values=[159, 967], header_location=<HeaderLocation.TOP: 'top'>, series_starting_cell=Cell(column=4, row=2, coordinate='D2', value=None, value_type=None), series_length=2, series_data_type=<SeriesDataType.INT: 'int'>)),\n",
       "  Cell(column=4, row=3, coordinate=None, value=None, value_type=None): (1,\n",
       "   Series(series_id=SeriesId(sheet_name='Sheet1', series_header='Reviews', series_header_cell_row=1, series_header_cell_column=4), worksheet=Worksheet(sheet_name='Sheet1', workbook_file_path=None, worksheet=None), series_header='Reviews', formulas=[None, None], values=[159, 967], header_location=<HeaderLocation.TOP: 'top'>, series_starting_cell=Cell(column=4, row=2, coordinate='D2', value=None, value_type=None), series_length=2, series_data_type=<SeriesDataType.INT: 'int'>)),\n",
       "  Cell(column=5, row=2, coordinate=None, value=None, value_type=None): (0,\n",
       "   Series(series_id=SeriesId(sheet_name='Sheet1', series_header='Size', series_header_cell_row=1, series_header_cell_column=5), worksheet=Worksheet(sheet_name='Sheet1', workbook_file_path=None, worksheet=None), series_header='Size', formulas=[None, None], values=['19M', '14M'], header_location=<HeaderLocation.TOP: 'top'>, series_starting_cell=Cell(column=5, row=2, coordinate='E2', value=None, value_type=None), series_length=2, series_data_type=<SeriesDataType.STR: 'str'>)),\n",
       "  Cell(column=5, row=3, coordinate=None, value=None, value_type=None): (1,\n",
       "   Series(series_id=SeriesId(sheet_name='Sheet1', series_header='Size', series_header_cell_row=1, series_header_cell_column=5), worksheet=Worksheet(sheet_name='Sheet1', workbook_file_path=None, worksheet=None), series_header='Size', formulas=[None, None], values=['19M', '14M'], header_location=<HeaderLocation.TOP: 'top'>, series_starting_cell=Cell(column=5, row=2, coordinate='E2', value=None, value_type=None), series_length=2, series_data_type=<SeriesDataType.STR: 'str'>)),\n",
       "  Cell(column=6, row=2, coordinate=None, value=None, value_type=None): (0,\n",
       "   Series(series_id=SeriesId(sheet_name='Sheet1', series_header='Installs', series_header_cell_row=1, series_header_cell_column=6), worksheet=Worksheet(sheet_name='Sheet1', workbook_file_path=None, worksheet=None), series_header='Installs', formulas=[None, None], values=['10,000+', '500,000+'], header_location=<HeaderLocation.TOP: 'top'>, series_starting_cell=Cell(column=6, row=2, coordinate='F2', value=None, value_type=None), series_length=2, series_data_type=<SeriesDataType.STR: 'str'>)),\n",
       "  Cell(column=6, row=3, coordinate=None, value=None, value_type=None): (1,\n",
       "   Series(series_id=SeriesId(sheet_name='Sheet1', series_header='Installs', series_header_cell_row=1, series_header_cell_column=6), worksheet=Worksheet(sheet_name='Sheet1', workbook_file_path=None, worksheet=None), series_header='Installs', formulas=[None, None], values=['10,000+', '500,000+'], header_location=<HeaderLocation.TOP: 'top'>, series_starting_cell=Cell(column=6, row=2, coordinate='F2', value=None, value_type=None), series_length=2, series_data_type=<SeriesDataType.STR: 'str'>)),\n",
       "  Cell(column=7, row=2, coordinate=None, value=None, value_type=None): (0,\n",
       "   Series(series_id=SeriesId(sheet_name='Sheet1', series_header='Type', series_header_cell_row=1, series_header_cell_column=7), worksheet=Worksheet(sheet_name='Sheet1', workbook_file_path=None, worksheet=None), series_header='Type', formulas=[None, None], values=['Free', 'Free'], header_location=<HeaderLocation.TOP: 'top'>, series_starting_cell=Cell(column=7, row=2, coordinate='G2', value=None, value_type=None), series_length=2, series_data_type=<SeriesDataType.STR: 'str'>)),\n",
       "  Cell(column=7, row=3, coordinate=None, value=None, value_type=None): (1,\n",
       "   Series(series_id=SeriesId(sheet_name='Sheet1', series_header='Type', series_header_cell_row=1, series_header_cell_column=7), worksheet=Worksheet(sheet_name='Sheet1', workbook_file_path=None, worksheet=None), series_header='Type', formulas=[None, None], values=['Free', 'Free'], header_location=<HeaderLocation.TOP: 'top'>, series_starting_cell=Cell(column=7, row=2, coordinate='G2', value=None, value_type=None), series_length=2, series_data_type=<SeriesDataType.STR: 'str'>)),\n",
       "  Cell(column=8, row=2, coordinate=None, value=None, value_type=None): (0,\n",
       "   Series(series_id=SeriesId(sheet_name='Sheet1', series_header='Price', series_header_cell_row=1, series_header_cell_column=8), worksheet=Worksheet(sheet_name='Sheet1', workbook_file_path=None, worksheet=None), series_header='Price', formulas=[None, None], values=[0, 0], header_location=<HeaderLocation.TOP: 'top'>, series_starting_cell=Cell(column=8, row=2, coordinate='H2', value=None, value_type=None), series_length=2, series_data_type=<SeriesDataType.INT: 'int'>)),\n",
       "  Cell(column=8, row=3, coordinate=None, value=None, value_type=None): (1,\n",
       "   Series(series_id=SeriesId(sheet_name='Sheet1', series_header='Price', series_header_cell_row=1, series_header_cell_column=8), worksheet=Worksheet(sheet_name='Sheet1', workbook_file_path=None, worksheet=None), series_header='Price', formulas=[None, None], values=[0, 0], header_location=<HeaderLocation.TOP: 'top'>, series_starting_cell=Cell(column=8, row=2, coordinate='H2', value=None, value_type=None), series_length=2, series_data_type=<SeriesDataType.INT: 'int'>)),\n",
       "  Cell(column=9, row=2, coordinate=None, value=None, value_type=None): (0,\n",
       "   Series(series_id=SeriesId(sheet_name='Sheet1', series_header='Content Rating', series_header_cell_row=1, series_header_cell_column=9), worksheet=Worksheet(sheet_name='Sheet1', workbook_file_path=None, worksheet=None), series_header='Content Rating', formulas=[None, None], values=['Everyone', 'Everyone'], header_location=<HeaderLocation.TOP: 'top'>, series_starting_cell=Cell(column=9, row=2, coordinate='I2', value=None, value_type=None), series_length=2, series_data_type=<SeriesDataType.STR: 'str'>)),\n",
       "  Cell(column=9, row=3, coordinate=None, value=None, value_type=None): (1,\n",
       "   Series(series_id=SeriesId(sheet_name='Sheet1', series_header='Content Rating', series_header_cell_row=1, series_header_cell_column=9), worksheet=Worksheet(sheet_name='Sheet1', workbook_file_path=None, worksheet=None), series_header='Content Rating', formulas=[None, None], values=['Everyone', 'Everyone'], header_location=<HeaderLocation.TOP: 'top'>, series_starting_cell=Cell(column=9, row=2, coordinate='I2', value=None, value_type=None), series_length=2, series_data_type=<SeriesDataType.STR: 'str'>)),\n",
       "  Cell(column=10, row=2, coordinate=None, value=None, value_type=None): (0,\n",
       "   Series(series_id=SeriesId(sheet_name='Sheet1', series_header='Genres', series_header_cell_row=1, series_header_cell_column=10), worksheet=Worksheet(sheet_name='Sheet1', workbook_file_path=None, worksheet=None), series_header='Genres', formulas=[None, None], values=['Art & Design', 'Art & Design;Pretend Play'], header_location=<HeaderLocation.TOP: 'top'>, series_starting_cell=Cell(column=10, row=2, coordinate='J2', value=None, value_type=None), series_length=2, series_data_type=<SeriesDataType.STR: 'str'>)),\n",
       "  Cell(column=10, row=3, coordinate=None, value=None, value_type=None): (1,\n",
       "   Series(series_id=SeriesId(sheet_name='Sheet1', series_header='Genres', series_header_cell_row=1, series_header_cell_column=10), worksheet=Worksheet(sheet_name='Sheet1', workbook_file_path=None, worksheet=None), series_header='Genres', formulas=[None, None], values=['Art & Design', 'Art & Design;Pretend Play'], header_location=<HeaderLocation.TOP: 'top'>, series_starting_cell=Cell(column=10, row=2, coordinate='J2', value=None, value_type=None), series_length=2, series_data_type=<SeriesDataType.STR: 'str'>)),\n",
       "  Cell(column=11, row=2, coordinate=None, value=None, value_type=None): (0,\n",
       "   Series(series_id=SeriesId(sheet_name='Sheet1', series_header='Last Updated', series_header_cell_row=1, series_header_cell_column=11), worksheet=Worksheet(sheet_name='Sheet1', workbook_file_path=None, worksheet=None), series_header='Last Updated', formulas=[None, None], values=['7-Jan-18', '15-Jan-18'], header_location=<HeaderLocation.TOP: 'top'>, series_starting_cell=Cell(column=11, row=2, coordinate='K2', value=None, value_type=None), series_length=2, series_data_type=<SeriesDataType.STR: 'str'>)),\n",
       "  Cell(column=11, row=3, coordinate=None, value=None, value_type=None): (1,\n",
       "   Series(series_id=SeriesId(sheet_name='Sheet1', series_header='Last Updated', series_header_cell_row=1, series_header_cell_column=11), worksheet=Worksheet(sheet_name='Sheet1', workbook_file_path=None, worksheet=None), series_header='Last Updated', formulas=[None, None], values=['7-Jan-18', '15-Jan-18'], header_location=<HeaderLocation.TOP: 'top'>, series_starting_cell=Cell(column=11, row=2, coordinate='K2', value=None, value_type=None), series_length=2, series_data_type=<SeriesDataType.STR: 'str'>)),\n",
       "  Cell(column=12, row=2, coordinate=None, value=None, value_type=None): (0,\n",
       "   Series(series_id=SeriesId(sheet_name='Sheet1', series_header='Current Ver', series_header_cell_row=1, series_header_cell_column=12), worksheet=Worksheet(sheet_name='Sheet1', workbook_file_path=None, worksheet=None), series_header='Current Ver', formulas=[None, None], values=['1.0.0', '2.0.0'], header_location=<HeaderLocation.TOP: 'top'>, series_starting_cell=Cell(column=12, row=2, coordinate='L2', value=None, value_type=None), series_length=2, series_data_type=<SeriesDataType.STR: 'str'>)),\n",
       "  Cell(column=12, row=3, coordinate=None, value=None, value_type=None): (1,\n",
       "   Series(series_id=SeriesId(sheet_name='Sheet1', series_header='Current Ver', series_header_cell_row=1, series_header_cell_column=12), worksheet=Worksheet(sheet_name='Sheet1', workbook_file_path=None, worksheet=None), series_header='Current Ver', formulas=[None, None], values=['1.0.0', '2.0.0'], header_location=<HeaderLocation.TOP: 'top'>, series_starting_cell=Cell(column=12, row=2, coordinate='L2', value=None, value_type=None), series_length=2, series_data_type=<SeriesDataType.STR: 'str'>)),\n",
       "  Cell(column=13, row=2, coordinate=None, value=None, value_type=None): (0,\n",
       "   Series(series_id=SeriesId(sheet_name='Sheet1', series_header='Android Ver', series_header_cell_row=1, series_header_cell_column=13), worksheet=Worksheet(sheet_name='Sheet1', workbook_file_path=None, worksheet=None), series_header='Android Ver', formulas=[None, None], values=['4.0.3 and up', '4.0.3 and up'], header_location=<HeaderLocation.TOP: 'top'>, series_starting_cell=Cell(column=13, row=2, coordinate='M2', value=None, value_type=None), series_length=2, series_data_type=<SeriesDataType.STR: 'str'>)),\n",
       "  Cell(column=13, row=3, coordinate=None, value=None, value_type=None): (1,\n",
       "   Series(series_id=SeriesId(sheet_name='Sheet1', series_header='Android Ver', series_header_cell_row=1, series_header_cell_column=13), worksheet=Worksheet(sheet_name='Sheet1', workbook_file_path=None, worksheet=None), series_header='Android Ver', formulas=[None, None], values=['4.0.3 and up', '4.0.3 and up'], header_location=<HeaderLocation.TOP: 'top'>, series_starting_cell=Cell(column=13, row=2, coordinate='M2', value=None, value_type=None), series_length=2, series_data_type=<SeriesDataType.STR: 'str'>)),\n",
       "  Cell(column=14, row=2, coordinate=None, value=None, value_type=None): (0,\n",
       "   Series(series_id=SeriesId(sheet_name='Sheet1', series_header='Sum_Size_Weight', series_header_cell_row=1, series_header_cell_column=14), worksheet=Worksheet(sheet_name='Sheet1', workbook_file_path=None, worksheet=None), series_header='Sum_Size_Weight', formulas=['=SUM(A2,B2)', '=SUM(A3,B3)'], values=[0, 0], header_location=<HeaderLocation.TOP: 'top'>, series_starting_cell=Cell(column=14, row=2, coordinate='N2', value=None, value_type=None), series_length=2, series_data_type=<SeriesDataType.INT: 'int'>)),\n",
       "  Cell(column=14, row=3, coordinate=None, value=None, value_type=None): (1,\n",
       "   Series(series_id=SeriesId(sheet_name='Sheet1', series_header='Sum_Size_Weight', series_header_cell_row=1, series_header_cell_column=14), worksheet=Worksheet(sheet_name='Sheet1', workbook_file_path=None, worksheet=None), series_header='Sum_Size_Weight', formulas=['=SUM(A2,B2)', '=SUM(A3,B3)'], values=[0, 0], header_location=<HeaderLocation.TOP: 'top'>, series_starting_cell=Cell(column=14, row=2, coordinate='N2', value=None, value_type=None), series_length=2, series_data_type=<SeriesDataType.INT: 'int'>)),\n",
       "  Cell(column=15, row=2, coordinate=None, value=None, value_type=None): (0,\n",
       "   Series(series_id=SeriesId(sheet_name='Sheet1', series_header='If_Good_Quality', series_header_cell_row=1, series_header_cell_column=15), worksheet=Worksheet(sheet_name='Sheet1', workbook_file_path=None, worksheet=None), series_header='If_Good_Quality', formulas=['=IF(E2=\"good\",\"Yes\",\"No\")', '=IF(E3=\"good\",\"Yes\",\"No\")'], values=['No', 'No'], header_location=<HeaderLocation.TOP: 'top'>, series_starting_cell=Cell(column=15, row=2, coordinate='O2', value=None, value_type=None), series_length=2, series_data_type=<SeriesDataType.STR: 'str'>)),\n",
       "  Cell(column=15, row=3, coordinate=None, value=None, value_type=None): (1,\n",
       "   Series(series_id=SeriesId(sheet_name='Sheet1', series_header='If_Good_Quality', series_header_cell_row=1, series_header_cell_column=15), worksheet=Worksheet(sheet_name='Sheet1', workbook_file_path=None, worksheet=None), series_header='If_Good_Quality', formulas=['=IF(E2=\"good\",\"Yes\",\"No\")', '=IF(E3=\"good\",\"Yes\",\"No\")'], values=['No', 'No'], header_location=<HeaderLocation.TOP: 'top'>, series_starting_cell=Cell(column=15, row=2, coordinate='O2', value=None, value_type=None), series_length=2, series_data_type=<SeriesDataType.STR: 'str'>)),\n",
       "  Cell(column=16, row=2, coordinate=None, value=None, value_type=None): (0,\n",
       "   Series(series_id=SeriesId(sheet_name='Sheet1', series_header='Count_Negative_Weight', series_header_cell_row=1, series_header_cell_column=16), worksheet=Worksheet(sheet_name='Sheet1', workbook_file_path=None, worksheet=None), series_header='Count_Negative_Weight', formulas=['=COUNTIF(B:B,\"<0\")', '=COUNTIF(B:B,\"<0\")'], values=[0, 0], header_location=<HeaderLocation.TOP: 'top'>, series_starting_cell=Cell(column=16, row=2, coordinate='P2', value=None, value_type=None), series_length=2, series_data_type=<SeriesDataType.INT: 'int'>)),\n",
       "  Cell(column=16, row=3, coordinate=None, value=None, value_type=None): (1,\n",
       "   Series(series_id=SeriesId(sheet_name='Sheet1', series_header='Count_Negative_Weight', series_header_cell_row=1, series_header_cell_column=16), worksheet=Worksheet(sheet_name='Sheet1', workbook_file_path=None, worksheet=None), series_header='Count_Negative_Weight', formulas=['=COUNTIF(B:B,\"<0\")', '=COUNTIF(B:B,\"<0\")'], values=[0, 0], header_location=<HeaderLocation.TOP: 'top'>, series_starting_cell=Cell(column=16, row=2, coordinate='P2', value=None, value_type=None), series_length=2, series_data_type=<SeriesDataType.INT: 'int'>)),\n",
       "  Cell(column=17, row=2, coordinate=None, value=None, value_type=None): (0,\n",
       "   Series(series_id=SeriesId(sheet_name='Sheet1', series_header='Sum_High_Acidity', series_header_cell_row=1, series_header_cell_column=17), worksheet=Worksheet(sheet_name='Sheet1', workbook_file_path=None, worksheet=None), series_header='Sum_High_Acidity', formulas=['=SUMIF(D:D,\">1000\")', '=SUMIF(D:D,\">1000\")'], values=[0, 0], header_location=<HeaderLocation.TOP: 'top'>, series_starting_cell=Cell(column=17, row=2, coordinate='Q2', value=None, value_type=None), series_length=2, series_data_type=<SeriesDataType.INT: 'int'>)),\n",
       "  Cell(column=17, row=3, coordinate=None, value=None, value_type=None): (1,\n",
       "   Series(series_id=SeriesId(sheet_name='Sheet1', series_header='Sum_High_Acidity', series_header_cell_row=1, series_header_cell_column=17), worksheet=Worksheet(sheet_name='Sheet1', workbook_file_path=None, worksheet=None), series_header='Sum_High_Acidity', formulas=['=SUMIF(D:D,\">1000\")', '=SUMIF(D:D,\">1000\")'], values=[0, 0], header_location=<HeaderLocation.TOP: 'top'>, series_starting_cell=Cell(column=17, row=2, coordinate='Q2', value=None, value_type=None), series_length=2, series_data_type=<SeriesDataType.INT: 'int'>)),\n",
       "  Cell(column=18, row=2, coordinate=None, value=None, value_type=None): (0,\n",
       "   Series(series_id=SeriesId(sheet_name='Sheet1', series_header='Average_If_Ripe', series_header_cell_row=1, series_header_cell_column=18), worksheet=Worksheet(sheet_name='Sheet1', workbook_file_path=None, worksheet=None), series_header='Average_If_Ripe', formulas=['=AVERAGEIF(C:C,\">0\")', '=AVERAGEIF(C:C,\">0\")'], values=[4, 4], header_location=<HeaderLocation.TOP: 'top'>, series_starting_cell=Cell(column=18, row=2, coordinate='R2', value=None, value_type=None), series_length=2, series_data_type=<SeriesDataType.INT: 'int'>)),\n",
       "  Cell(column=18, row=3, coordinate=None, value=None, value_type=None): (1,\n",
       "   Series(series_id=SeriesId(sheet_name='Sheet1', series_header='Average_If_Ripe', series_header_cell_row=1, series_header_cell_column=18), worksheet=Worksheet(sheet_name='Sheet1', workbook_file_path=None, worksheet=None), series_header='Average_If_Ripe', formulas=['=AVERAGEIF(C:C,\">0\")', '=AVERAGEIF(C:C,\">0\")'], values=[4, 4], header_location=<HeaderLocation.TOP: 'top'>, series_starting_cell=Cell(column=18, row=2, coordinate='R2', value=None, value_type=None), series_length=2, series_data_type=<SeriesDataType.INT: 'int'>)),\n",
       "  Cell(column=19, row=2, coordinate=None, value=None, value_type=None): (0,\n",
       "   Series(series_id=SeriesId(sheet_name='Sheet1', series_header='If_Weight_Or_Size', series_header_cell_row=1, series_header_cell_column=19), worksheet=Worksheet(sheet_name='Sheet1', workbook_file_path=None, worksheet=None), series_header='If_Weight_Or_Size', formulas=['=IF(OR(A2>0,B2>0),\"Acceptable\",\"Check\")', '=IF(OR(A3>0,B3>0),\"Acceptable\",\"Check\")'], values=['Acceptable', 'Acceptable'], header_location=<HeaderLocation.TOP: 'top'>, series_starting_cell=Cell(column=19, row=2, coordinate='S2', value=None, value_type=None), series_length=2, series_data_type=<SeriesDataType.STR: 'str'>)),\n",
       "  Cell(column=19, row=3, coordinate=None, value=None, value_type=None): (1,\n",
       "   Series(series_id=SeriesId(sheet_name='Sheet1', series_header='If_Weight_Or_Size', series_header_cell_row=1, series_header_cell_column=19), worksheet=Worksheet(sheet_name='Sheet1', workbook_file_path=None, worksheet=None), series_header='If_Weight_Or_Size', formulas=['=IF(OR(A2>0,B2>0),\"Acceptable\",\"Check\")', '=IF(OR(A3>0,B3>0),\"Acceptable\",\"Check\")'], values=['Acceptable', 'Acceptable'], header_location=<HeaderLocation.TOP: 'top'>, series_starting_cell=Cell(column=19, row=2, coordinate='S2', value=None, value_type=None), series_length=2, series_data_type=<SeriesDataType.STR: 'str'>)),\n",
       "  Cell(column=20, row=2, coordinate=None, value=None, value_type=None): (0,\n",
       "   Series(series_id=SeriesId(sheet_name='Sheet1', series_header='Round up Decimal', series_header_cell_row=1, series_header_cell_column=20), worksheet=Worksheet(sheet_name='Sheet1', workbook_file_path=None, worksheet=None), series_header='Round up Decimal', formulas=['=ROUNDUP(C2,0)', '=ROUNDUP(C3,0)'], values=[5, 4], header_location=<HeaderLocation.TOP: 'top'>, series_starting_cell=Cell(column=20, row=2, coordinate='T2', value=None, value_type=None), series_length=2, series_data_type=<SeriesDataType.INT: 'int'>)),\n",
       "  Cell(column=20, row=3, coordinate=None, value=None, value_type=None): (1,\n",
       "   Series(series_id=SeriesId(sheet_name='Sheet1', series_header='Round up Decimal', series_header_cell_row=1, series_header_cell_column=20), worksheet=Worksheet(sheet_name='Sheet1', workbook_file_path=None, worksheet=None), series_header='Round up Decimal', formulas=['=ROUNDUP(C2,0)', '=ROUNDUP(C3,0)'], values=[5, 4], header_location=<HeaderLocation.TOP: 'top'>, series_starting_cell=Cell(column=20, row=2, coordinate='T2', value=None, value_type=None), series_length=2, series_data_type=<SeriesDataType.INT: 'int'>)),\n",
       "  Cell(column=21, row=2, coordinate=None, value=None, value_type=None): (0,\n",
       "   Series(series_id=SeriesId(sheet_name='Sheet1', series_header='Round down Decimal', series_header_cell_row=1, series_header_cell_column=21), worksheet=Worksheet(sheet_name='Sheet1', workbook_file_path=None, worksheet=None), series_header='Round down Decimal', formulas=['=ROUNDDOWN(C2,0)', '=ROUNDDOWN(C3,0)'], values=[4, 3], header_location=<HeaderLocation.TOP: 'top'>, series_starting_cell=Cell(column=21, row=2, coordinate='U2', value=None, value_type=None), series_length=2, series_data_type=<SeriesDataType.INT: 'int'>)),\n",
       "  Cell(column=21, row=3, coordinate=None, value=None, value_type=None): (1,\n",
       "   Series(series_id=SeriesId(sheet_name='Sheet1', series_header='Round down Decimal', series_header_cell_row=1, series_header_cell_column=21), worksheet=Worksheet(sheet_name='Sheet1', workbook_file_path=None, worksheet=None), series_header='Round down Decimal', formulas=['=ROUNDDOWN(C2,0)', '=ROUNDDOWN(C3,0)'], values=[4, 3], header_location=<HeaderLocation.TOP: 'top'>, series_starting_cell=Cell(column=21, row=2, coordinate='U2', value=None, value_type=None), series_length=2, series_data_type=<SeriesDataType.INT: 'int'>)),\n",
       "  Cell(column=22, row=2, coordinate=None, value=None, value_type=None): (0,\n",
       "   Series(series_id=SeriesId(sheet_name='Sheet1', series_header='Year', series_header_cell_row=1, series_header_cell_column=22), worksheet=Worksheet(sheet_name='Sheet1', workbook_file_path=None, worksheet=None), series_header='Year', formulas=['=RIGHT(K2,2)+2000', '=RIGHT(K3,2)+2000'], values=[2018, 2018], header_location=<HeaderLocation.TOP: 'top'>, series_starting_cell=Cell(column=22, row=2, coordinate='V2', value=None, value_type=None), series_length=2, series_data_type=<SeriesDataType.INT: 'int'>)),\n",
       "  Cell(column=22, row=3, coordinate=None, value=None, value_type=None): (1,\n",
       "   Series(series_id=SeriesId(sheet_name='Sheet1', series_header='Year', series_header_cell_row=1, series_header_cell_column=22), worksheet=Worksheet(sheet_name='Sheet1', workbook_file_path=None, worksheet=None), series_header='Year', formulas=['=RIGHT(K2,2)+2000', '=RIGHT(K3,2)+2000'], values=[2018, 2018], header_location=<HeaderLocation.TOP: 'top'>, series_starting_cell=Cell(column=22, row=2, coordinate='V2', value=None, value_type=None), series_length=2, series_data_type=<SeriesDataType.INT: 'int'>)),\n",
       "  Cell(column=23, row=2, coordinate=None, value=None, value_type=None): (0,\n",
       "   Series(series_id=SeriesId(sheet_name='Sheet1', series_header='Month', series_header_cell_row=1, series_header_cell_column=23), worksheet=Worksheet(sheet_name='Sheet1', workbook_file_path=None, worksheet=None), series_header='Month', formulas=['=INDEX(_xlfn.TEXTSPLIT(K2,\"-\"),1,2)', '=INDEX(_xlfn.TEXTSPLIT(K3,\"-\"),1,2)'], values=['Jan', 'Jan'], header_location=<HeaderLocation.TOP: 'top'>, series_starting_cell=Cell(column=23, row=2, coordinate='W2', value=None, value_type=None), series_length=2, series_data_type=<SeriesDataType.STR: 'str'>)),\n",
       "  Cell(column=23, row=3, coordinate=None, value=None, value_type=None): (1,\n",
       "   Series(series_id=SeriesId(sheet_name='Sheet1', series_header='Month', series_header_cell_row=1, series_header_cell_column=23), worksheet=Worksheet(sheet_name='Sheet1', workbook_file_path=None, worksheet=None), series_header='Month', formulas=['=INDEX(_xlfn.TEXTSPLIT(K2,\"-\"),1,2)', '=INDEX(_xlfn.TEXTSPLIT(K3,\"-\"),1,2)'], values=['Jan', 'Jan'], header_location=<HeaderLocation.TOP: 'top'>, series_starting_cell=Cell(column=23, row=2, coordinate='W2', value=None, value_type=None), series_length=2, series_data_type=<SeriesDataType.STR: 'str'>)),\n",
       "  Cell(column=24, row=2, coordinate=None, value=None, value_type=None): (0,\n",
       "   Series(series_id=SeriesId(sheet_name='Sheet1', series_header='Day', series_header_cell_row=1, series_header_cell_column=24), worksheet=Worksheet(sheet_name='Sheet1', workbook_file_path=None, worksheet=None), series_header='Day', formulas=['=INDEX(_xlfn.TEXTSPLIT(K2,\"-\"),1,1)', '=INDEX(_xlfn.TEXTSPLIT(K3,\"-\"),1,1)'], values=['7', '15'], header_location=<HeaderLocation.TOP: 'top'>, series_starting_cell=Cell(column=24, row=2, coordinate='X2', value=None, value_type=None), series_length=2, series_data_type=<SeriesDataType.STR: 'str'>)),\n",
       "  Cell(column=24, row=3, coordinate=None, value=None, value_type=None): (1,\n",
       "   Series(series_id=SeriesId(sheet_name='Sheet1', series_header='Day', series_header_cell_row=1, series_header_cell_column=24), worksheet=Worksheet(sheet_name='Sheet1', workbook_file_path=None, worksheet=None), series_header='Day', formulas=['=INDEX(_xlfn.TEXTSPLIT(K2,\"-\"),1,1)', '=INDEX(_xlfn.TEXTSPLIT(K3,\"-\"),1,1)'], values=['7', '15'], header_location=<HeaderLocation.TOP: 'top'>, series_starting_cell=Cell(column=24, row=2, coordinate='X2', value=None, value_type=None), series_length=2, series_data_type=<SeriesDataType.STR: 'str'>)),\n",
       "  Cell(column=25, row=2, coordinate=None, value=None, value_type=None): (0,\n",
       "   Series(series_id=SeriesId(sheet_name='Sheet1', series_header='Month Number', series_header_cell_row=1, series_header_cell_column=25), worksheet=Worksheet(sheet_name='Sheet1', workbook_file_path=None, worksheet=None), series_header='Month Number', formulas=['=INDEX(months!B:B,MATCH(Sheet1!W2,months!A:A,0))', '=INDEX(months!B:B,MATCH(Sheet1!W3,months!A:A,0))'], values=[1, 1], header_location=<HeaderLocation.TOP: 'top'>, series_starting_cell=Cell(column=25, row=2, coordinate='Y2', value=None, value_type=None), series_length=2, series_data_type=<SeriesDataType.INT: 'int'>)),\n",
       "  Cell(column=25, row=3, coordinate=None, value=None, value_type=None): (1,\n",
       "   Series(series_id=SeriesId(sheet_name='Sheet1', series_header='Month Number', series_header_cell_row=1, series_header_cell_column=25), worksheet=Worksheet(sheet_name='Sheet1', workbook_file_path=None, worksheet=None), series_header='Month Number', formulas=['=INDEX(months!B:B,MATCH(Sheet1!W2,months!A:A,0))', '=INDEX(months!B:B,MATCH(Sheet1!W3,months!A:A,0))'], values=[1, 1], header_location=<HeaderLocation.TOP: 'top'>, series_starting_cell=Cell(column=25, row=2, coordinate='Y2', value=None, value_type=None), series_length=2, series_data_type=<SeriesDataType.INT: 'int'>)),\n",
       "  Cell(column=26, row=2, coordinate=None, value=None, value_type=None): (0,\n",
       "   Series(series_id=SeriesId(sheet_name='Sheet1', series_header='Date', series_header_cell_row=1, series_header_cell_column=26), worksheet=Worksheet(sheet_name='Sheet1', workbook_file_path=None, worksheet=None), series_header='Date', formulas=['=DATE(V2,Y2,X2)', '=DATE(V3,Y3,X3)'], values=[43107, 43115], header_location=<HeaderLocation.TOP: 'top'>, series_starting_cell=Cell(column=26, row=2, coordinate='Z2', value=None, value_type=None), series_length=2, series_data_type=<SeriesDataType.INT: 'int'>)),\n",
       "  Cell(column=26, row=3, coordinate=None, value=None, value_type=None): (1,\n",
       "   Series(series_id=SeriesId(sheet_name='Sheet1', series_header='Date', series_header_cell_row=1, series_header_cell_column=26), worksheet=Worksheet(sheet_name='Sheet1', workbook_file_path=None, worksheet=None), series_header='Date', formulas=['=DATE(V2,Y2,X2)', '=DATE(V3,Y3,X3)'], values=[43107, 43115], header_location=<HeaderLocation.TOP: 'top'>, series_starting_cell=Cell(column=26, row=2, coordinate='Z2', value=None, value_type=None), series_length=2, series_data_type=<SeriesDataType.INT: 'int'>))},\n",
       " Worksheet(sheet_name='months', workbook_file_path=None, worksheet=None): {Cell(column=1, row=2, coordinate=None, value=None, value_type=None): (0,\n",
       "   Series(series_id=SeriesId(sheet_name='months', series_header='Month', series_header_cell_row=1, series_header_cell_column=1), worksheet=Worksheet(sheet_name='months', workbook_file_path=None, worksheet=None), series_header='Month', formulas=[None, None], values=['Jan', 'Feb'], header_location=<HeaderLocation.TOP: 'top'>, series_starting_cell=Cell(column=1, row=2, coordinate='A2', value=None, value_type=None), series_length=12, series_data_type=<SeriesDataType.STR: 'str'>)),\n",
       "  Cell(column=1, row=3, coordinate=None, value=None, value_type=None): (1,\n",
       "   Series(series_id=SeriesId(sheet_name='months', series_header='Month', series_header_cell_row=1, series_header_cell_column=1), worksheet=Worksheet(sheet_name='months', workbook_file_path=None, worksheet=None), series_header='Month', formulas=[None, None], values=['Jan', 'Feb'], header_location=<HeaderLocation.TOP: 'top'>, series_starting_cell=Cell(column=1, row=2, coordinate='A2', value=None, value_type=None), series_length=12, series_data_type=<SeriesDataType.STR: 'str'>)),\n",
       "  Cell(column=1, row=4, coordinate=None, value=None, value_type=None): (2,\n",
       "   Series(series_id=SeriesId(sheet_name='months', series_header='Month', series_header_cell_row=1, series_header_cell_column=1), worksheet=Worksheet(sheet_name='months', workbook_file_path=None, worksheet=None), series_header='Month', formulas=[None, None], values=['Jan', 'Feb'], header_location=<HeaderLocation.TOP: 'top'>, series_starting_cell=Cell(column=1, row=2, coordinate='A2', value=None, value_type=None), series_length=12, series_data_type=<SeriesDataType.STR: 'str'>)),\n",
       "  Cell(column=1, row=5, coordinate=None, value=None, value_type=None): (3,\n",
       "   Series(series_id=SeriesId(sheet_name='months', series_header='Month', series_header_cell_row=1, series_header_cell_column=1), worksheet=Worksheet(sheet_name='months', workbook_file_path=None, worksheet=None), series_header='Month', formulas=[None, None], values=['Jan', 'Feb'], header_location=<HeaderLocation.TOP: 'top'>, series_starting_cell=Cell(column=1, row=2, coordinate='A2', value=None, value_type=None), series_length=12, series_data_type=<SeriesDataType.STR: 'str'>)),\n",
       "  Cell(column=1, row=6, coordinate=None, value=None, value_type=None): (4,\n",
       "   Series(series_id=SeriesId(sheet_name='months', series_header='Month', series_header_cell_row=1, series_header_cell_column=1), worksheet=Worksheet(sheet_name='months', workbook_file_path=None, worksheet=None), series_header='Month', formulas=[None, None], values=['Jan', 'Feb'], header_location=<HeaderLocation.TOP: 'top'>, series_starting_cell=Cell(column=1, row=2, coordinate='A2', value=None, value_type=None), series_length=12, series_data_type=<SeriesDataType.STR: 'str'>)),\n",
       "  Cell(column=1, row=7, coordinate=None, value=None, value_type=None): (5,\n",
       "   Series(series_id=SeriesId(sheet_name='months', series_header='Month', series_header_cell_row=1, series_header_cell_column=1), worksheet=Worksheet(sheet_name='months', workbook_file_path=None, worksheet=None), series_header='Month', formulas=[None, None], values=['Jan', 'Feb'], header_location=<HeaderLocation.TOP: 'top'>, series_starting_cell=Cell(column=1, row=2, coordinate='A2', value=None, value_type=None), series_length=12, series_data_type=<SeriesDataType.STR: 'str'>)),\n",
       "  Cell(column=1, row=8, coordinate=None, value=None, value_type=None): (6,\n",
       "   Series(series_id=SeriesId(sheet_name='months', series_header='Month', series_header_cell_row=1, series_header_cell_column=1), worksheet=Worksheet(sheet_name='months', workbook_file_path=None, worksheet=None), series_header='Month', formulas=[None, None], values=['Jan', 'Feb'], header_location=<HeaderLocation.TOP: 'top'>, series_starting_cell=Cell(column=1, row=2, coordinate='A2', value=None, value_type=None), series_length=12, series_data_type=<SeriesDataType.STR: 'str'>)),\n",
       "  Cell(column=1, row=9, coordinate=None, value=None, value_type=None): (7,\n",
       "   Series(series_id=SeriesId(sheet_name='months', series_header='Month', series_header_cell_row=1, series_header_cell_column=1), worksheet=Worksheet(sheet_name='months', workbook_file_path=None, worksheet=None), series_header='Month', formulas=[None, None], values=['Jan', 'Feb'], header_location=<HeaderLocation.TOP: 'top'>, series_starting_cell=Cell(column=1, row=2, coordinate='A2', value=None, value_type=None), series_length=12, series_data_type=<SeriesDataType.STR: 'str'>)),\n",
       "  Cell(column=1, row=10, coordinate=None, value=None, value_type=None): (8,\n",
       "   Series(series_id=SeriesId(sheet_name='months', series_header='Month', series_header_cell_row=1, series_header_cell_column=1), worksheet=Worksheet(sheet_name='months', workbook_file_path=None, worksheet=None), series_header='Month', formulas=[None, None], values=['Jan', 'Feb'], header_location=<HeaderLocation.TOP: 'top'>, series_starting_cell=Cell(column=1, row=2, coordinate='A2', value=None, value_type=None), series_length=12, series_data_type=<SeriesDataType.STR: 'str'>)),\n",
       "  Cell(column=1, row=11, coordinate=None, value=None, value_type=None): (9,\n",
       "   Series(series_id=SeriesId(sheet_name='months', series_header='Month', series_header_cell_row=1, series_header_cell_column=1), worksheet=Worksheet(sheet_name='months', workbook_file_path=None, worksheet=None), series_header='Month', formulas=[None, None], values=['Jan', 'Feb'], header_location=<HeaderLocation.TOP: 'top'>, series_starting_cell=Cell(column=1, row=2, coordinate='A2', value=None, value_type=None), series_length=12, series_data_type=<SeriesDataType.STR: 'str'>)),\n",
       "  Cell(column=1, row=12, coordinate=None, value=None, value_type=None): (10,\n",
       "   Series(series_id=SeriesId(sheet_name='months', series_header='Month', series_header_cell_row=1, series_header_cell_column=1), worksheet=Worksheet(sheet_name='months', workbook_file_path=None, worksheet=None), series_header='Month', formulas=[None, None], values=['Jan', 'Feb'], header_location=<HeaderLocation.TOP: 'top'>, series_starting_cell=Cell(column=1, row=2, coordinate='A2', value=None, value_type=None), series_length=12, series_data_type=<SeriesDataType.STR: 'str'>)),\n",
       "  Cell(column=1, row=13, coordinate=None, value=None, value_type=None): (11,\n",
       "   Series(series_id=SeriesId(sheet_name='months', series_header='Month', series_header_cell_row=1, series_header_cell_column=1), worksheet=Worksheet(sheet_name='months', workbook_file_path=None, worksheet=None), series_header='Month', formulas=[None, None], values=['Jan', 'Feb'], header_location=<HeaderLocation.TOP: 'top'>, series_starting_cell=Cell(column=1, row=2, coordinate='A2', value=None, value_type=None), series_length=12, series_data_type=<SeriesDataType.STR: 'str'>)),\n",
       "  Cell(column=2, row=2, coordinate=None, value=None, value_type=None): (0,\n",
       "   Series(series_id=SeriesId(sheet_name='months', series_header='Number', series_header_cell_row=1, series_header_cell_column=2), worksheet=Worksheet(sheet_name='months', workbook_file_path=None, worksheet=None), series_header='Number', formulas=[None, None], values=[1, 2], header_location=<HeaderLocation.TOP: 'top'>, series_starting_cell=Cell(column=2, row=2, coordinate='B2', value=None, value_type=None), series_length=12, series_data_type=<SeriesDataType.INT: 'int'>)),\n",
       "  Cell(column=2, row=3, coordinate=None, value=None, value_type=None): (1,\n",
       "   Series(series_id=SeriesId(sheet_name='months', series_header='Number', series_header_cell_row=1, series_header_cell_column=2), worksheet=Worksheet(sheet_name='months', workbook_file_path=None, worksheet=None), series_header='Number', formulas=[None, None], values=[1, 2], header_location=<HeaderLocation.TOP: 'top'>, series_starting_cell=Cell(column=2, row=2, coordinate='B2', value=None, value_type=None), series_length=12, series_data_type=<SeriesDataType.INT: 'int'>)),\n",
       "  Cell(column=2, row=4, coordinate=None, value=None, value_type=None): (2,\n",
       "   Series(series_id=SeriesId(sheet_name='months', series_header='Number', series_header_cell_row=1, series_header_cell_column=2), worksheet=Worksheet(sheet_name='months', workbook_file_path=None, worksheet=None), series_header='Number', formulas=[None, None], values=[1, 2], header_location=<HeaderLocation.TOP: 'top'>, series_starting_cell=Cell(column=2, row=2, coordinate='B2', value=None, value_type=None), series_length=12, series_data_type=<SeriesDataType.INT: 'int'>)),\n",
       "  Cell(column=2, row=5, coordinate=None, value=None, value_type=None): (3,\n",
       "   Series(series_id=SeriesId(sheet_name='months', series_header='Number', series_header_cell_row=1, series_header_cell_column=2), worksheet=Worksheet(sheet_name='months', workbook_file_path=None, worksheet=None), series_header='Number', formulas=[None, None], values=[1, 2], header_location=<HeaderLocation.TOP: 'top'>, series_starting_cell=Cell(column=2, row=2, coordinate='B2', value=None, value_type=None), series_length=12, series_data_type=<SeriesDataType.INT: 'int'>)),\n",
       "  Cell(column=2, row=6, coordinate=None, value=None, value_type=None): (4,\n",
       "   Series(series_id=SeriesId(sheet_name='months', series_header='Number', series_header_cell_row=1, series_header_cell_column=2), worksheet=Worksheet(sheet_name='months', workbook_file_path=None, worksheet=None), series_header='Number', formulas=[None, None], values=[1, 2], header_location=<HeaderLocation.TOP: 'top'>, series_starting_cell=Cell(column=2, row=2, coordinate='B2', value=None, value_type=None), series_length=12, series_data_type=<SeriesDataType.INT: 'int'>)),\n",
       "  Cell(column=2, row=7, coordinate=None, value=None, value_type=None): (5,\n",
       "   Series(series_id=SeriesId(sheet_name='months', series_header='Number', series_header_cell_row=1, series_header_cell_column=2), worksheet=Worksheet(sheet_name='months', workbook_file_path=None, worksheet=None), series_header='Number', formulas=[None, None], values=[1, 2], header_location=<HeaderLocation.TOP: 'top'>, series_starting_cell=Cell(column=2, row=2, coordinate='B2', value=None, value_type=None), series_length=12, series_data_type=<SeriesDataType.INT: 'int'>)),\n",
       "  Cell(column=2, row=8, coordinate=None, value=None, value_type=None): (6,\n",
       "   Series(series_id=SeriesId(sheet_name='months', series_header='Number', series_header_cell_row=1, series_header_cell_column=2), worksheet=Worksheet(sheet_name='months', workbook_file_path=None, worksheet=None), series_header='Number', formulas=[None, None], values=[1, 2], header_location=<HeaderLocation.TOP: 'top'>, series_starting_cell=Cell(column=2, row=2, coordinate='B2', value=None, value_type=None), series_length=12, series_data_type=<SeriesDataType.INT: 'int'>)),\n",
       "  Cell(column=2, row=9, coordinate=None, value=None, value_type=None): (7,\n",
       "   Series(series_id=SeriesId(sheet_name='months', series_header='Number', series_header_cell_row=1, series_header_cell_column=2), worksheet=Worksheet(sheet_name='months', workbook_file_path=None, worksheet=None), series_header='Number', formulas=[None, None], values=[1, 2], header_location=<HeaderLocation.TOP: 'top'>, series_starting_cell=Cell(column=2, row=2, coordinate='B2', value=None, value_type=None), series_length=12, series_data_type=<SeriesDataType.INT: 'int'>)),\n",
       "  Cell(column=2, row=10, coordinate=None, value=None, value_type=None): (8,\n",
       "   Series(series_id=SeriesId(sheet_name='months', series_header='Number', series_header_cell_row=1, series_header_cell_column=2), worksheet=Worksheet(sheet_name='months', workbook_file_path=None, worksheet=None), series_header='Number', formulas=[None, None], values=[1, 2], header_location=<HeaderLocation.TOP: 'top'>, series_starting_cell=Cell(column=2, row=2, coordinate='B2', value=None, value_type=None), series_length=12, series_data_type=<SeriesDataType.INT: 'int'>)),\n",
       "  Cell(column=2, row=11, coordinate=None, value=None, value_type=None): (9,\n",
       "   Series(series_id=SeriesId(sheet_name='months', series_header='Number', series_header_cell_row=1, series_header_cell_column=2), worksheet=Worksheet(sheet_name='months', workbook_file_path=None, worksheet=None), series_header='Number', formulas=[None, None], values=[1, 2], header_location=<HeaderLocation.TOP: 'top'>, series_starting_cell=Cell(column=2, row=2, coordinate='B2', value=None, value_type=None), series_length=12, series_data_type=<SeriesDataType.INT: 'int'>)),\n",
       "  Cell(column=2, row=12, coordinate=None, value=None, value_type=None): (10,\n",
       "   Series(series_id=SeriesId(sheet_name='months', series_header='Number', series_header_cell_row=1, series_header_cell_column=2), worksheet=Worksheet(sheet_name='months', workbook_file_path=None, worksheet=None), series_header='Number', formulas=[None, None], values=[1, 2], header_location=<HeaderLocation.TOP: 'top'>, series_starting_cell=Cell(column=2, row=2, coordinate='B2', value=None, value_type=None), series_length=12, series_data_type=<SeriesDataType.INT: 'int'>)),\n",
       "  Cell(column=2, row=13, coordinate=None, value=None, value_type=None): (11,\n",
       "   Series(series_id=SeriesId(sheet_name='months', series_header='Number', series_header_cell_row=1, series_header_cell_column=2), worksheet=Worksheet(sheet_name='months', workbook_file_path=None, worksheet=None), series_header='Number', formulas=[None, None], values=[1, 2], header_location=<HeaderLocation.TOP: 'top'>, series_starting_cell=Cell(column=2, row=2, coordinate='B2', value=None, value_type=None), series_length=12, series_data_type=<SeriesDataType.INT: 'int'>))}}"
      ]
     },
     "execution_count": 14,
     "metadata": {},
     "output_type": "execute_result"
    }
   ],
   "source": [
    "series_mapping"
   ]
  },
  {
   "cell_type": "code",
   "execution_count": 15,
   "metadata": {},
   "outputs": [],
   "source": [
    "series_iterator = SeriesIterator.iterate_series(series_dict)"
   ]
  },
  {
   "cell_type": "code",
   "execution_count": 16,
   "metadata": {},
   "outputs": [],
   "source": [
    "series_list = [series for series in series_iterator if series.formulas != [None, None]]"
   ]
  },
  {
   "cell_type": "markdown",
   "metadata": {},
   "source": [
    "Series Id can be concatenation of sheet_name, header_name, header_column_index, header_row_index"
   ]
  },
  {
   "cell_type": "code",
   "execution_count": 17,
   "metadata": {},
   "outputs": [],
   "source": [
    "for series in series_list:\n",
    "    formula_1 = series.formulas[0]\n",
    "    formula_1_ast = FormulaParser.parse_formula(formula_1)\n",
    "    series_implementer = SeriesImplementer(series_mapping, sheet_name = series.worksheet.sheet_name)\n",
    "    formula_1_ast_series = series_implementer.update_ast(formula_1_ast)\n",
    "\n",
    "    formula_2 = series.formulas[1]\n",
    "    formula_2_ast = FormulaParser.parse_formula(formula_2)\n",
    "    formula_2_ast_series = series_implementer.update_ast(formula_2_ast)\n",
    "    \n",
    "    sheet_name = series.worksheet.sheet_name\n",
    "\n",
    "    series_list = series_dict.get(sheet_name)\n",
    "\n",
    "    ast_generator = FormulaGenerator.get_ast_generator(formula_1_ast_series, formula_2_ast_series, series_list)\n",
    "\n",
    "    formulas_are_correct, formula_1_ast_new, formula_2_ast_new = FormulaChecker.check_formulas(ast_generator)\n",
    "    if not formulas_are_correct:\n",
    "        print(\"formula_2_ast_series\")\n",
    "        print(formula_2_ast_series)\n",
    "        print(\"formula_2_ast_new\")\n",
    "        print(formula_2_ast_new)\n",
    "        raise Exception(\"Formulas are not correct\")"
   ]
  },
  {
   "cell_type": "code",
   "execution_count": 18,
   "metadata": {},
   "outputs": [],
   "source": [
    "from ast_transformation.formula_generator import SeriesIdLoader\n",
    "\n",
    "\n",
    "series_tuple = (('Sheet1|Year|1|22',), (0, 0))\n",
    "\n"
   ]
  },
  {
   "cell_type": "code",
   "execution_count": 19,
   "metadata": {},
   "outputs": [
    {
     "data": {
      "text/plain": [
       "<FunctionNode tvalue: 'DATE', ttype: function, tsubtype: >"
      ]
     },
     "execution_count": 19,
     "metadata": {},
     "output_type": "execute_result"
    }
   ],
   "source": [
    "formula_1_ast_new"
   ]
  },
  {
   "cell_type": "code",
   "execution_count": 20,
   "metadata": {},
   "outputs": [],
   "source": [
    "import xlcalculator\n",
    "import ast\n",
    "\n",
    "from objects import Cell, HeaderLocation, CellRange\n",
    "\n",
    "def merge_cell_ranges(cell_ranges):\n",
    "    min_row = min(cell_range.start_cell.row for cell_range in cell_ranges)\n",
    "    min_column = min(cell_range.start_cell.column for cell_range in cell_ranges)\n",
    "    max_row = max(cell_range.end_cell.row for cell_range in cell_ranges)\n",
    "    max_column = max(cell_range.end_cell.column for cell_range in cell_ranges)\n",
    "\n",
    "    start_cell = Cell(column=min_column, row=min_row, coordinate = ExcelUtils.get_coordinate_from_column_and_row(min_column, min_row))\n",
    "    end_cell = Cell(column=max_column, row=max_row, coordinate = ExcelUtils.get_coordinate_from_column_and_row(max_column, max_row))\n",
    "\n",
    "    return CellRange(start_cell=start_cell, end_cell=end_cell)\n",
    "\n",
    "def get_cell_range_from_series_tuple(series_tuple):\n",
    "    series_ids_string, indexes = series_tuple\n",
    "    series_start_index, series_end_index = indexes\n",
    "\n",
    "    cell_ranges = []\n",
    "\n",
    "    for series_id_string in series_ids_string:\n",
    "\n",
    "        series_id = SeriesIdLoader.load_series_id_from_string(series_id_string)\n",
    "        sheet_name = series_id.sheet_name\n",
    "\n",
    "        series_list = series_dict.get(sheet_name)\n",
    "\n",
    "        for series in series_list:\n",
    "            if series.series_id == series_id:\n",
    "                cell_value = series.series_starting_cell\n",
    "                cell_row = cell_value.row\n",
    "                cell_column = cell_value.column\n",
    "\n",
    "                if series.header_location == HeaderLocation.TOP:\n",
    "                    updated_start_cell_row = cell_row + series_start_index\n",
    "                    updated_end_cell_row = cell_row + series_end_index\n",
    "                    new_cell_range_value = CellRange(start_cell=Cell(row = updated_start_cell_row, column = cell_column, coordinate=ExcelUtils.get_coordinate_from_column_and_row( cell_column, updated_start_cell_row)),\n",
    "                                                     end_cell=Cell(row = updated_end_cell_row, column = cell_column + series_end_index, coordinate=ExcelUtils.get_coordinate_from_column_and_row( cell_column + series_end_index, updated_end_cell_row)))\n",
    "                elif series.header_location == HeaderLocation.LEFT:\n",
    "                    updated_start_cell_column = cell_column + series_start_index\n",
    "                    updated_end_cell_column = cell_column + series_end_index\n",
    "                    new_cell_range_value = CellRange(start_cell=Cell(row = cell_row, column = updated_start_cell_column, coordinate=ExcelUtils.get_coordinate_from_column_and_row( updated_start_cell_column, cell_row)),\n",
    "                                                     end_cell=Cell(row = cell_row + series_end_index, column = updated_end_cell_column, coordinate=ExcelUtils.get_coordinate_from_column_and_row( updated_end_cell_column, cell_row + series_end_index)))\n",
    "\n",
    "\n",
    "                else:\n",
    "                    raise Exception(\"Header location is not valid\")\n",
    "                cell_ranges.append(new_cell_range_value)\n",
    "                break\n",
    "\n",
    "    \n",
    "    cell_range =  merge_cell_ranges(cell_ranges)\n",
    "    return cell_range\n",
    "\n",
    "\n",
    "class CellRangeImplementer:\n",
    "    def __init__(self):\n",
    "        pass\n",
    "\n",
    "    def update_ast(self, ast):\n",
    "        if isinstance(ast, xlcalculator.ast_nodes.RangeNode):\n",
    "            return self.replace_range_node(ast)\n",
    "        elif isinstance(ast, xlcalculator.ast_nodes.FunctionNode):\n",
    "            return self.replace_function_node(ast)\n",
    "        elif isinstance(ast, xlcalculator.ast_nodes.OperatorNode):\n",
    "            return self.replace_operator_node(ast)\n",
    "        return ast\n",
    "\n",
    "    def replace_range_node(self, node):\n",
    "\n",
    "        series_tuple = ast.literal_eval(node.tvalue)\n",
    "        print(type(series_tuple))\n",
    "        print(series_tuple)\n",
    "\n",
    "        cell_range = get_cell_range_from_series_tuple(series_tuple)\n",
    "\n",
    "        return xlcalculator.ast_nodes.RangeNode(\n",
    "            xlcalculator.tokenizer.f_token(\n",
    "                tvalue=cell_range, ttype=\"operand\", tsubtype=\"range\"\n",
    "            ))\n",
    "        \n",
    "\n",
    "    def replace_function_node(self, node):\n",
    "        modified_args = [self.update_ast(arg) for arg in node.args]\n",
    "        modified_function_node = xlcalculator.ast_nodes.FunctionNode(node.token)\n",
    "        modified_function_node.args = modified_args\n",
    "        return modified_function_node\n",
    "\n",
    "    def replace_operator_node(self, node):\n",
    "        modified_left = self.update_ast(node.left) if node.left else None\n",
    "        modified_right = self.update_ast(node.right) if node.right else None\n",
    "        modified_operator_node = xlcalculator.ast_nodes.OperatorNode(node.token)\n",
    "        modified_operator_node.left = modified_left\n",
    "        modified_operator_node.right = modified_right\n",
    "        return modified_operator_node"
   ]
  },
  {
   "cell_type": "code",
   "execution_count": 21,
   "metadata": {},
   "outputs": [
    {
     "name": "stdout",
     "output_type": "stream",
     "text": [
      "<class 'tuple'>\n",
      "(('Sheet1|Year|1|22',), (0, 0))\n",
      "<class 'tuple'>\n",
      "(('Sheet1|Month Number|1|25',), (0, 0))\n",
      "<class 'tuple'>\n",
      "(('Sheet1|Day|1|24',), (0, 0))\n"
     ]
    }
   ],
   "source": [
    "cell_range_implementer = CellRangeImplementer()\n",
    "\n",
    "formula_1_ast_new = cell_range_implementer.update_ast(formula_1_ast_new)"
   ]
  },
  {
   "cell_type": "code",
   "execution_count": 22,
   "metadata": {},
   "outputs": [
    {
     "name": "stdout",
     "output_type": "stream",
     "text": [
      "DATE(V2:V2, Y2:Y2, X2:X2)\n"
     ]
    }
   ],
   "source": [
    "print(formula_1_ast_new)"
   ]
  },
  {
   "cell_type": "code",
   "execution_count": null,
   "metadata": {},
   "outputs": [],
   "source": [
    "\n"
   ]
  }
 ],
 "metadata": {
  "kernelspec": {
   "display_name": "venv",
   "language": "python",
   "name": "python3"
  },
  "language_info": {
   "codemirror_mode": {
    "name": "ipython",
    "version": 3
   },
   "file_extension": ".py",
   "mimetype": "text/x-python",
   "name": "python",
   "nbconvert_exporter": "python",
   "pygments_lexer": "ipython3",
   "version": "3.11.5"
  }
 },
 "nbformat": 4,
 "nbformat_minor": 2
}
