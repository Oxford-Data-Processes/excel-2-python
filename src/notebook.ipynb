{
 "cells": [
  {
   "cell_type": "code",
   "execution_count": 1,
   "metadata": {},
   "outputs": [],
   "source": [
    "import os\n",
    "\n",
    "from series_extraction.excel_loader import ExcelLoader\n",
    "from series_extraction.excel_cleaner import ExcelCleaner\n",
    "from series_extraction.table_extractor import TableExtractor\n",
    "from series_extraction.series_extractor import SeriesExtractor\n",
    "from series_extraction.excel_compatibility_checker import ExcelCompatibilityChecker\n",
    "from series_extraction.series_iterator import SeriesIterator\n",
    "from series_extraction.series_mapper import SeriesMapper\n",
    "from series_extraction.excel_validator import ExcelValidator\n",
    "\n",
    "from ast_transformation.series_formula_generator_old import SeriesFormulaGenerator\n",
    "from ast_transformation.formula_generator import FormulaGenerator\n",
    "from ast_transformation.formula_list_generator import FormulaListGenerator\n",
    "from ast_transformation.formula_evaluator import FormulaEvaluator\n",
    "\n",
    "from ast_building.formula_parser import FormulaParser\n",
    "from ast_building.series_implementer import SeriesImplementer\n",
    "\n",
    "from pipeline_building.series_dependencies_builder import SeriesDependenciesBuilder\n",
    "from pipeline_building.dag_sorter import DAGSorter\n",
    "\n",
    "from excel_builder import ExcelBuilder\n",
    "\n",
    "from excel_checker import ExcelChecker\n"
   ]
  },
  {
   "cell_type": "code",
   "execution_count": 2,
   "metadata": {},
   "outputs": [],
   "source": [
    "data_directory = \"/Users/chrislittle/GitHub/speedsheet/excel-2-python/data\"\n",
    "\n",
    "project_name = 'test_excel_4'\n",
    "\n",
    "excel_raw_file_path = os.path.join(data_directory, \"excel_files_raw\", f\"{project_name}_raw.xlsx\")\n",
    "excel_reduced_filepath = os.path.join(data_directory, \"excel_files_reduced\", f\"{project_name}_reduced.xlsx\")\n",
    "excel_reduced_clean_filepath = os.path.join(data_directory, \"excel_files_reduced_clean\", f\"{project_name}_reduced_clean.xlsx\")\n",
    "excel_reduced_clean_series_filepath = os.path.join(data_directory, \"excel_files_reduced_clean_series\", f\"{project_name}_reduced_clean_series.xlsx\")\n",
    "excel_reduced_clean_series_python_filepath = os.path.join(data_directory, \"excel_files_reduced_clean_series_python\", f\"{project_name}_reduced_clean_series_python.xlsx\")"
   ]
  },
  {
   "cell_type": "code",
   "execution_count": 3,
   "metadata": {},
   "outputs": [],
   "source": [
    "def get_evaluated_results_from_formula_ast(formula_ast, series_values_dict, values_length):\n",
    "    formula_list_generator = FormulaListGenerator(formula_ast, series_values_dict)\n",
    "    formula_list = formula_list_generator.generate_formula_list(0, values_length-1)\n",
    "    formula_strings = [str(formula) for formula in formula_list]\n",
    "\n",
    "    print(\"formula_strings: \", formula_strings)\n",
    "\n",
    "    formula_evaluator = FormulaEvaluator()\n",
    "\n",
    "    results = [formula_evaluator.evaluate_formula(f\"={formula_string}\") for formula_string in formula_strings]\n",
    "\n",
    "    return results"
   ]
  },
  {
   "cell_type": "code",
   "execution_count": 4,
   "metadata": {},
   "outputs": [],
   "source": [
    "excel_raw= ExcelLoader.load_file(excel_raw_file_path)\n",
    "excel_reduced = ExcelLoader.load_file(excel_reduced_filepath)\n",
    "is_valid = ExcelValidator.validate_excel(excel_reduced)\n",
    "if not is_valid:\n",
    "    raise Exception(\"Excel file is not valid\")\n",
    "\n",
    "excel_reduced_clean = ExcelCleaner.clean_excel(excel_reduced)\n",
    "ExcelBuilder.create_excel_from_workbook(excel_reduced_clean.workbook_with_formulas, excel_reduced_clean_filepath)\n",
    "\n",
    "extracted_tables, workbook_data = TableExtractor.extract_tables(excel_reduced_clean)\n",
    "is_compatible = ExcelCompatibilityChecker.check_file(excel_raw, excel_reduced, extracted_tables)\n",
    "if not is_compatible:\n",
    "    raise Exception(\"Excel file is not compatible\")\n",
    "\n",
    "series_dict = SeriesExtractor.extract_series(extracted_tables=extracted_tables, workbook_data=workbook_data)\n",
    "series_mapping = SeriesMapper.map_series(series_dict)\n",
    "series_iterator = SeriesIterator.iterate_series(series_dict)\n",
    "\n",
    "series_list = [series for series in series_iterator]\n",
    "\n",
    "series_list_with_formulas = [\n",
    "    series for series in series_list if series.formulas != [None, None]\n",
    "]\n",
    "series_list_with_values = [\n",
    "    series for series in series_list if series.formulas == [None, None]\n",
    "]\n",
    "\n",
    "series_list_new = []\n",
    "formula_1_ast_series_list = []\n",
    "generic_formula_dictionary = {}\n",
    "\n",
    "for series in series_list_with_formulas:\n",
    "    formula_1, formula_2 = SeriesFormulaGenerator.adjust_formulas(\n",
    "        series.formulas\n",
    "    )\n",
    "    if formula_1 is not None and formula_2 is not None:\n",
    "\n",
    "        series_implementer = SeriesImplementer(\n",
    "            series_mapping, sheet_name=series.worksheet.sheet_name\n",
    "        )\n",
    "\n",
    "        formula_1_ast = FormulaParser.parse_formula(formula_1)\n",
    "        formula_1_ast_series = series_implementer.update_ast(formula_1_ast)\n",
    "        formula_1_ast_series_list.append((series.series_id, formula_1_ast_series))\n",
    "\n",
    "        formula_2_ast = FormulaParser.parse_formula(formula_2)\n",
    "        formula_2_ast_series = series_implementer.update_ast(formula_2_ast)\n",
    "\n",
    "        generic_formula_ast = FormulaGenerator.traverse_and_replace(formula_1_ast_series, formula_2_ast_series)\n",
    "\n",
    "        generic_formula_dictionary[series.series_id] = generic_formula_ast\n",
    "\n"
   ]
  },
  {
   "cell_type": "code",
   "execution_count": 5,
   "metadata": {},
   "outputs": [],
   "source": [
    "series_values_dict = {str(series.series_id): series.values for series in series_list}"
   ]
  },
  {
   "cell_type": "code",
   "execution_count": 6,
   "metadata": {},
   "outputs": [
    {
     "data": {
      "text/plain": [
       "[(SeriesId(sheet_name='sheet_1', series_header='If_Column', series_header_cell_row=1, series_header_cell_column=12),\n",
       "  'IF((((\\'sheet_1|A_id|1|1\\',), (0, 0), (1, 1))) > (1), \"Above\", \"Below\")'),\n",
       " (SeriesId(sheet_name='sheet_1', series_header='Count_Column', series_header_cell_row=1, series_header_cell_column=13),\n",
       "  \"COUNT((('sheet_1|A_id|1|1',), (None, None), (None, None)))\"),\n",
       " (SeriesId(sheet_name='sheet_1', series_header='Countif_Column', series_header_cell_row=1, series_header_cell_column=14),\n",
       "  'COUNTIF(((\\'sheet_1|A_id|1|1\\',), (None, None), (None, None)), \">1\")'),\n",
       " (SeriesId(sheet_name='sheet_1', series_header='Sumif_Column', series_header_cell_row=1, series_header_cell_column=15),\n",
       "  'SUMIF(((\\'sheet_1|Size|1|2\\',), (None, None), (None, None)), \">1\")'),\n",
       " (SeriesId(sheet_name='sheet_1', series_header='Concatenate_Column', series_header_cell_row=1, series_header_cell_column=16),\n",
       "  \"CONCATENATE((('sheet_1|A_id|1|1',), (0, 0), (1, 1)), (('sheet_1|Size|1|2',), (0, 0), (1, 1)))\"),\n",
       " (SeriesId(sheet_name='sheet_1', series_header='Left_Column', series_header_cell_row=1, series_header_cell_column=17),\n",
       "  \"LEFT((('sheet_1|A_id|1|1',), (0, 0), (1, 1)), 2)\"),\n",
       " (SeriesId(sheet_name='sheet_1', series_header='Right_Column', series_header_cell_row=1, series_header_cell_column=18),\n",
       "  \"RIGHT((('sheet_1|Size|1|2',), (0, 0), (1, 1)), 2)\"),\n",
       " (SeriesId(sheet_name='sheet_1', series_header='Concatenate string', series_header_cell_row=1, series_header_cell_column=19),\n",
       "  \"CONCATENATE(LEFT((('sheet_1|Quality|1|9',), (0, 0), (1, 1)), 2), RIGHT((('sheet_1|Quality|1|9',), (0, 0), (1, 1)), 2))\"),\n",
       " (SeriesId(sheet_name='sheet_1', series_header='Trim quality', series_header_cell_row=1, series_header_cell_column=20),\n",
       "  \"TRIM((('sheet_1|Quality|1|9',), (0, 0), (1, 1)))\"),\n",
       " (SeriesId(sheet_name='sheet_1', series_header='Rounded Ripeness', series_header_cell_row=1, series_header_cell_column=21),\n",
       "  \"ROUND((('sheet_1|Ripeness|1|7',), (0, 0), (1, 1)), 6)\"),\n",
       " (SeriesId(sheet_name='sheet_1', series_header='Replace', series_header_cell_row=1, series_header_cell_column=22),\n",
       "  'REPLACE(((\\'sheet_1|Concatenate string|1|19\\',), (0, 0), (1, 1)), 4, 1, \"f\")'),\n",
       " (SeriesId(sheet_name='sheet_1', series_header='Count', series_header_cell_row=1, series_header_cell_column=25),\n",
       "  \"COUNTIF((('sheet_1|Quality|1|9',), (None, None), (None, None)), (('sheet_1|Quality|1|24',), (0, 0), (1, 1)))\"),\n",
       " (SeriesId(sheet_name='sheet_1', series_header='Index value', series_header_cell_row=1, series_header_cell_column=26),\n",
       "  \"INDEX((('sheet_1|Count|1|25',), (0, 1), (0, 0)), 1, 1)\")]"
      ]
     },
     "execution_count": 6,
     "metadata": {},
     "output_type": "execute_result"
    }
   ],
   "source": [
    "[(key, str(value)) for key,value in generic_formula_dictionary.items()]"
   ]
  },
  {
   "cell_type": "code",
   "execution_count": 7,
   "metadata": {},
   "outputs": [],
   "source": [
    "series_dependencies = SeriesDependenciesBuilder.build_dependencies(generic_formula_dictionary)"
   ]
  },
  {
   "cell_type": "code",
   "execution_count": 8,
   "metadata": {},
   "outputs": [
    {
     "data": {
      "text/plain": [
       "{SeriesId(sheet_name='sheet_1', series_header='If_Column', series_header_cell_row=1, series_header_cell_column=12): [SeriesId(sheet_name='sheet_1', series_header='A_id', series_header_cell_row=1, series_header_cell_column=1)],\n",
       " SeriesId(sheet_name='sheet_1', series_header='Count_Column', series_header_cell_row=1, series_header_cell_column=13): [SeriesId(sheet_name='sheet_1', series_header='A_id', series_header_cell_row=1, series_header_cell_column=1)],\n",
       " SeriesId(sheet_name='sheet_1', series_header='Countif_Column', series_header_cell_row=1, series_header_cell_column=14): [SeriesId(sheet_name='sheet_1', series_header='A_id', series_header_cell_row=1, series_header_cell_column=1)],\n",
       " SeriesId(sheet_name='sheet_1', series_header='Sumif_Column', series_header_cell_row=1, series_header_cell_column=15): [SeriesId(sheet_name='sheet_1', series_header='Size', series_header_cell_row=1, series_header_cell_column=2)],\n",
       " SeriesId(sheet_name='sheet_1', series_header='Concatenate_Column', series_header_cell_row=1, series_header_cell_column=16): [SeriesId(sheet_name='sheet_1', series_header='A_id', series_header_cell_row=1, series_header_cell_column=1),\n",
       "  SeriesId(sheet_name='sheet_1', series_header='Size', series_header_cell_row=1, series_header_cell_column=2)],\n",
       " SeriesId(sheet_name='sheet_1', series_header='Left_Column', series_header_cell_row=1, series_header_cell_column=17): [SeriesId(sheet_name='sheet_1', series_header='A_id', series_header_cell_row=1, series_header_cell_column=1)],\n",
       " SeriesId(sheet_name='sheet_1', series_header='Right_Column', series_header_cell_row=1, series_header_cell_column=18): [SeriesId(sheet_name='sheet_1', series_header='Size', series_header_cell_row=1, series_header_cell_column=2)],\n",
       " SeriesId(sheet_name='sheet_1', series_header='Concatenate string', series_header_cell_row=1, series_header_cell_column=19): [SeriesId(sheet_name='sheet_1', series_header='Quality', series_header_cell_row=1, series_header_cell_column=9)],\n",
       " SeriesId(sheet_name='sheet_1', series_header='Trim quality', series_header_cell_row=1, series_header_cell_column=20): [SeriesId(sheet_name='sheet_1', series_header='Quality', series_header_cell_row=1, series_header_cell_column=9)],\n",
       " SeriesId(sheet_name='sheet_1', series_header='Rounded Ripeness', series_header_cell_row=1, series_header_cell_column=21): [SeriesId(sheet_name='sheet_1', series_header='Ripeness', series_header_cell_row=1, series_header_cell_column=7)],\n",
       " SeriesId(sheet_name='sheet_1', series_header='Replace', series_header_cell_row=1, series_header_cell_column=22): [SeriesId(sheet_name='sheet_1', series_header='Concatenate string', series_header_cell_row=1, series_header_cell_column=19)],\n",
       " SeriesId(sheet_name='sheet_1', series_header='Count', series_header_cell_row=1, series_header_cell_column=25): [SeriesId(sheet_name='sheet_1', series_header='Quality', series_header_cell_row=1, series_header_cell_column=24),\n",
       "  SeriesId(sheet_name='sheet_1', series_header='Quality', series_header_cell_row=1, series_header_cell_column=9)],\n",
       " SeriesId(sheet_name='sheet_1', series_header='Index value', series_header_cell_row=1, series_header_cell_column=26): [SeriesId(sheet_name='sheet_1', series_header='Count', series_header_cell_row=1, series_header_cell_column=25)]}"
      ]
     },
     "execution_count": 8,
     "metadata": {},
     "output_type": "execute_result"
    }
   ],
   "source": [
    "series_dependencies"
   ]
  },
  {
   "cell_type": "code",
   "execution_count": 9,
   "metadata": {},
   "outputs": [],
   "source": [
    "sorted_dag = DAGSorter.sort_dag(series_dependencies)"
   ]
  },
  {
   "cell_type": "code",
   "execution_count": 10,
   "metadata": {},
   "outputs": [
    {
     "data": {
      "text/plain": [
       "[SeriesId(sheet_name='sheet_1', series_header='A_id', series_header_cell_row=1, series_header_cell_column=1),\n",
       " SeriesId(sheet_name='sheet_1', series_header='If_Column', series_header_cell_row=1, series_header_cell_column=12),\n",
       " SeriesId(sheet_name='sheet_1', series_header='Count_Column', series_header_cell_row=1, series_header_cell_column=13),\n",
       " SeriesId(sheet_name='sheet_1', series_header='Countif_Column', series_header_cell_row=1, series_header_cell_column=14),\n",
       " SeriesId(sheet_name='sheet_1', series_header='Size', series_header_cell_row=1, series_header_cell_column=2),\n",
       " SeriesId(sheet_name='sheet_1', series_header='Sumif_Column', series_header_cell_row=1, series_header_cell_column=15),\n",
       " SeriesId(sheet_name='sheet_1', series_header='Concatenate_Column', series_header_cell_row=1, series_header_cell_column=16),\n",
       " SeriesId(sheet_name='sheet_1', series_header='Left_Column', series_header_cell_row=1, series_header_cell_column=17),\n",
       " SeriesId(sheet_name='sheet_1', series_header='Right_Column', series_header_cell_row=1, series_header_cell_column=18),\n",
       " SeriesId(sheet_name='sheet_1', series_header='Quality', series_header_cell_row=1, series_header_cell_column=9),\n",
       " SeriesId(sheet_name='sheet_1', series_header='Concatenate string', series_header_cell_row=1, series_header_cell_column=19),\n",
       " SeriesId(sheet_name='sheet_1', series_header='Trim quality', series_header_cell_row=1, series_header_cell_column=20),\n",
       " SeriesId(sheet_name='sheet_1', series_header='Ripeness', series_header_cell_row=1, series_header_cell_column=7),\n",
       " SeriesId(sheet_name='sheet_1', series_header='Rounded Ripeness', series_header_cell_row=1, series_header_cell_column=21),\n",
       " SeriesId(sheet_name='sheet_1', series_header='Replace', series_header_cell_row=1, series_header_cell_column=22),\n",
       " SeriesId(sheet_name='sheet_1', series_header='Quality', series_header_cell_row=1, series_header_cell_column=24),\n",
       " SeriesId(sheet_name='sheet_1', series_header='Count', series_header_cell_row=1, series_header_cell_column=25),\n",
       " SeriesId(sheet_name='sheet_1', series_header='Index value', series_header_cell_row=1, series_header_cell_column=26)]"
      ]
     },
     "execution_count": 10,
     "metadata": {},
     "output_type": "execute_result"
    }
   ],
   "source": [
    "sorted_dag"
   ]
  },
  {
   "cell_type": "code",
   "execution_count": 11,
   "metadata": {},
   "outputs": [
    {
     "name": "stdout",
     "output_type": "stream",
     "text": [
      "Series ID: sheet_1|If_Column|1|12\n",
      "Formula Ast:  IF(((('sheet_1|A_id|1|1',), (0, 0), (1, 1))) > (1), \"Above\", \"Below\")\n",
      "Values Length:  2\n",
      "Start new index 0\n",
      "End new index 0\n",
      "ARRAY VALUES:  [[0]]\n",
      "Start new index 1\n",
      "End new index 1\n",
      "ARRAY VALUES:  [[1]]\n",
      "formula_strings:  ['IF((ARRAY(ARRAYROW(0))) > (1), \"Above\", \"Below\")', 'IF((ARRAY(ARRAYROW(1))) > (1), \"Above\", \"Below\")']\n",
      "Series ID: sheet_1|Count_Column|1|13\n",
      "Formula Ast:  COUNT((('sheet_1|A_id|1|1',), (None, None), (None, None)))\n",
      "Values Length:  2\n",
      "formula_strings:  ['COUNT(ARRAY(ARRAYROW(0, 1)))', 'COUNT(ARRAY(ARRAYROW(0, 1)))']\n",
      "Series ID: sheet_1|Countif_Column|1|14\n",
      "Formula Ast:  COUNTIF((('sheet_1|A_id|1|1',), (None, None), (None, None)), \">1\")\n",
      "Values Length:  2\n",
      "formula_strings:  ['COUNTIF(ARRAY(ARRAYROW(0, 1)), \">1\")', 'COUNTIF(ARRAY(ARRAYROW(0, 1)), \">1\")']\n",
      "Series ID: sheet_1|Sumif_Column|1|15\n",
      "Formula Ast:  SUMIF((('sheet_1|Size|1|2',), (None, None), (None, None)), \">1\")\n",
      "Values Length:  2\n",
      "formula_strings:  ['SUMIF(ARRAY(ARRAYROW(-3.970048523, -1.195217191)), \">1\")', 'SUMIF(ARRAY(ARRAYROW(-3.970048523, -1.195217191)), \">1\")']\n",
      "Series ID: sheet_1|Concatenate_Column|1|16\n",
      "Formula Ast:  CONCATENATE((('sheet_1|A_id|1|1',), (0, 0), (1, 1)), (('sheet_1|Size|1|2',), (0, 0), (1, 1)))\n",
      "Values Length:  2\n",
      "Start new index 0\n",
      "End new index 0\n",
      "ARRAY VALUES:  [[0]]\n",
      "Start new index 0\n",
      "End new index 0\n",
      "ARRAY VALUES:  [[-3.970048523]]\n",
      "Start new index 1\n",
      "End new index 1\n",
      "ARRAY VALUES:  [[1]]\n",
      "Start new index 1\n",
      "End new index 1\n",
      "ARRAY VALUES:  [[-1.195217191]]\n",
      "formula_strings:  ['CONCATENATE(ARRAY(ARRAYROW(0)), ARRAY(ARRAYROW(-3.970048523)))', 'CONCATENATE(ARRAY(ARRAYROW(1)), ARRAY(ARRAYROW(-1.195217191)))']\n",
      "Series ID: sheet_1|Left_Column|1|17\n",
      "Formula Ast:  LEFT((('sheet_1|A_id|1|1',), (0, 0), (1, 1)), 2)\n",
      "Values Length:  2\n",
      "Start new index 0\n",
      "End new index 0\n",
      "ARRAY VALUES:  [[0]]\n",
      "Start new index 1\n",
      "End new index 1\n",
      "ARRAY VALUES:  [[1]]\n",
      "formula_strings:  ['LEFT(ARRAY(ARRAYROW(0)), 2)', 'LEFT(ARRAY(ARRAYROW(1)), 2)']\n",
      "Series ID: sheet_1|Right_Column|1|18\n",
      "Formula Ast:  RIGHT((('sheet_1|Size|1|2',), (0, 0), (1, 1)), 2)\n",
      "Values Length:  2\n",
      "Start new index 0\n",
      "End new index 0\n",
      "ARRAY VALUES:  [[-3.970048523]]\n",
      "Start new index 1\n",
      "End new index 1\n",
      "ARRAY VALUES:  [[-1.195217191]]\n",
      "formula_strings:  ['RIGHT(ARRAY(ARRAYROW(-3.970048523)), 2)', 'RIGHT(ARRAY(ARRAYROW(-1.195217191)), 2)']\n",
      "Series ID: sheet_1|Concatenate string|1|19\n",
      "Formula Ast:  CONCATENATE(LEFT((('sheet_1|Quality|1|9',), (0, 0), (1, 1)), 2), RIGHT((('sheet_1|Quality|1|9',), (0, 0), (1, 1)), 2))\n",
      "Values Length:  2\n",
      "Start new index 0\n",
      "End new index 0\n",
      "ARRAY VALUES:  [['good']]\n",
      "Start new index 0\n",
      "End new index 0\n",
      "ARRAY VALUES:  [['good']]\n",
      "Start new index 1\n",
      "End new index 1\n",
      "ARRAY VALUES:  [['good']]\n",
      "Start new index 1\n",
      "End new index 1\n",
      "ARRAY VALUES:  [['good']]\n",
      "formula_strings:  ['CONCATENATE(LEFT(ARRAY(ARRAYROW(\"good\")), 2), RIGHT(ARRAY(ARRAYROW(\"good\")), 2))', 'CONCATENATE(LEFT(ARRAY(ARRAYROW(\"good\")), 2), RIGHT(ARRAY(ARRAYROW(\"good\")), 2))']\n",
      "Series ID: sheet_1|Trim quality|1|20\n",
      "Formula Ast:  TRIM((('sheet_1|Quality|1|9',), (0, 0), (1, 1)))\n",
      "Values Length:  2\n",
      "Start new index 0\n",
      "End new index 0\n",
      "ARRAY VALUES:  [['good']]\n",
      "Start new index 1\n",
      "End new index 1\n",
      "ARRAY VALUES:  [['good']]\n",
      "formula_strings:  ['TRIM(ARRAY(ARRAYROW(\"good\")))', 'TRIM(ARRAY(ARRAYROW(\"good\")))']\n",
      "Series ID: sheet_1|Rounded Ripeness|1|21\n",
      "Formula Ast:  ROUND((('sheet_1|Ripeness|1|7',), (0, 0), (1, 1)), 6)\n",
      "Values Length:  2\n",
      "Start new index 0\n",
      "End new index 0\n",
      "ARRAY VALUES:  [[0.329839797]]\n",
      "Start new index 1\n",
      "End new index 1\n",
      "ARRAY VALUES:  [[0.867530082]]\n",
      "formula_strings:  ['ROUND(ARRAY(ARRAYROW(0.329839797)), 6)', 'ROUND(ARRAY(ARRAYROW(0.867530082)), 6)']\n",
      "Series ID: sheet_1|Replace|1|22\n",
      "Formula Ast:  REPLACE((('sheet_1|Concatenate string|1|19',), (0, 0), (1, 1)), 4, 1, \"f\")\n",
      "Values Length:  2\n",
      "Start new index 0\n",
      "End new index 0\n",
      "ARRAY VALUES:  [['good']]\n",
      "Start new index 1\n",
      "End new index 1\n",
      "ARRAY VALUES:  [['good']]\n",
      "formula_strings:  ['REPLACE(ARRAY(ARRAYROW(\"good\")), 4, 1, \"f\")', 'REPLACE(ARRAY(ARRAYROW(\"good\")), 4, 1, \"f\")']\n",
      "Series ID: sheet_1|Count|1|25\n",
      "Formula Ast:  COUNTIF((('sheet_1|Quality|1|9',), (None, None), (None, None)), (('sheet_1|Quality|1|24',), (0, 0), (1, 1)))\n",
      "Values Length:  2\n",
      "Start new index 0\n",
      "End new index 0\n",
      "ARRAY VALUES:  [['good']]\n",
      "Start new index 1\n",
      "End new index 1\n",
      "ARRAY VALUES:  [['bad']]\n",
      "formula_strings:  ['COUNTIF(ARRAY(ARRAYROW(\"good\", \"good\")), ARRAY(ARRAYROW(\"good\")))', 'COUNTIF(ARRAY(ARRAYROW(\"good\", \"good\")), ARRAY(ARRAYROW(\"bad\")))']\n",
      "Series ID: sheet_1|Index value|1|26\n",
      "Formula Ast:  INDEX((('sheet_1|Count|1|25',), (0, 1), (0, 0)), 1, 1)\n",
      "Values Length:  2\n",
      "Start new index 0\n",
      "End new index 1\n",
      "ARRAY VALUES:  [[2, 0]]\n",
      "Start new index 0\n",
      "End new index 1\n",
      "ARRAY VALUES:  [[2, 0]]\n",
      "formula_strings:  ['INDEX(ARRAY(ARRAYROW(2, 0)), 1, 1)', 'INDEX(ARRAY(ARRAYROW(2, 0)), 1, 1)']\n"
     ]
    }
   ],
   "source": [
    "for series_id in sorted_dag:\n",
    "    formula_ast = generic_formula_dictionary.get(series_id)\n",
    "    \n",
    "    if formula_ast:    \n",
    "        series = SeriesMapper.get_series_from_series_id(series_id, series_dict)\n",
    "        values_length = len(series.values)\n",
    "        print(f\"Series ID: {series_id}\")\n",
    "        print(\"Formula Ast: \", formula_ast)\n",
    "        print(\"Values Length: \", values_length)\n",
    "        values = get_evaluated_results_from_formula_ast(formula_ast, series_values_dict, values_length)\n",
    "        series.values = values\n",
    "        series_list_new.append(series)"
   ]
  },
  {
   "cell_type": "code",
   "execution_count": 12,
   "metadata": {},
   "outputs": [],
   "source": [
    "series_list_updated = series_list_new + series_list_with_values"
   ]
  },
  {
   "cell_type": "code",
   "execution_count": 13,
   "metadata": {},
   "outputs": [],
   "source": [
    "ExcelBuilder.create_excel_from_series(series_list_updated, excel_reduced_clean_series_python_filepath, values_only=True)"
   ]
  },
  {
   "cell_type": "code",
   "execution_count": 17,
   "metadata": {},
   "outputs": [
    {
     "data": {
      "text/plain": [
       "True"
      ]
     },
     "execution_count": 17,
     "metadata": {},
     "output_type": "execute_result"
    }
   ],
   "source": [
    "ExcelChecker.excels_are_equivalent(excel_reduced_clean_series_python_filepath, excel_reduced_clean_filepath)"
   ]
  },
  {
   "cell_type": "code",
   "execution_count": 15,
   "metadata": {},
   "outputs": [],
   "source": [
    "formula_evaluator = FormulaEvaluator()\n",
    "result  = formula_evaluator.evaluate_formula('INDEX(ARRAY(ARRAYROW(2, 0)), 1, 2)')"
   ]
  },
  {
   "cell_type": "markdown",
   "metadata": {},
   "source": []
  },
  {
   "cell_type": "code",
   "execution_count": 16,
   "metadata": {},
   "outputs": [
    {
     "data": {
      "text/plain": [
       "0"
      ]
     },
     "execution_count": 16,
     "metadata": {},
     "output_type": "execute_result"
    }
   ],
   "source": [
    "result"
   ]
  },
  {
   "cell_type": "code",
   "execution_count": null,
   "metadata": {},
   "outputs": [],
   "source": []
  }
 ],
 "metadata": {
  "kernelspec": {
   "display_name": "venv",
   "language": "python",
   "name": "python3"
  },
  "language_info": {
   "codemirror_mode": {
    "name": "ipython",
    "version": 3
   },
   "file_extension": ".py",
   "mimetype": "text/x-python",
   "name": "python",
   "nbconvert_exporter": "python",
   "pygments_lexer": "ipython3",
   "version": "3.11.5"
  }
 },
 "nbformat": 4,
 "nbformat_minor": 2
}
