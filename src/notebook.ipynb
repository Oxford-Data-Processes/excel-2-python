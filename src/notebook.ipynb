{
 "cells": [
  {
   "cell_type": "code",
   "execution_count": 1,
   "metadata": {},
   "outputs": [],
   "source": [
    "import os\n",
    "\n",
    "from series_extraction.excel_loader import ExcelLoader\n",
    "from series_extraction.excel_validator import ExcelValidator\n",
    "from series_extraction.excel_cleaner import ExcelCleaner\n",
    "from series_extraction.table_finder import TableFinder\n",
    "from series_extraction.series_extractor import SeriesExtractor\n",
    "from series_extraction.excel_compatibility_checker import ExcelCompatibilityChecker\n",
    "from series_extraction.series_iterator import SeriesIterator\n",
    "from series_extraction.series_mapper import SeriesMapper\n",
    "\n",
    "from ast_building.formula_parser import FormulaParser\n",
    "from ast_building.series_implementer import SeriesImplementer\n",
    "\n",
    "from ast_transformation.formula_generator import FormulaGenerator\n",
    "from ast_transformation.formula_checker import FormulaChecker\n",
    "\n",
    "from excel_utils import ExcelUtils"
   ]
  },
  {
   "cell_type": "code",
   "execution_count": 2,
   "metadata": {},
   "outputs": [],
   "source": [
    "current_directory = os.getcwd()\n",
    "\n",
    "parent_directory = os.path.abspath(os.path.join(current_directory, os.pardir))\n",
    "data_directory = os.path.join(parent_directory, 'data')\n",
    "\n",
    "project_name = 'test_excel_1'\n",
    "\n",
    "excel_raw_file_path = os.path.join(data_directory, \"excel_files_raw\", f\"{project_name}_raw.xlsx\")\n",
    "excel_reduced_filepath = os.path.join(data_directory, \"excel_files_reduced\", f\"{project_name}_reduced.xlsx\")"
   ]
  },
  {
   "cell_type": "code",
   "execution_count": 3,
   "metadata": {},
   "outputs": [],
   "source": [
    "excel_raw= ExcelLoader.load_file(excel_raw_file_path)\n",
    "excel_reduced = ExcelLoader.load_file(excel_reduced_filepath)"
   ]
  },
  {
   "cell_type": "code",
   "execution_count": 4,
   "metadata": {},
   "outputs": [],
   "source": [
    "is_valid = ExcelValidator.validate_excel(excel_reduced)"
   ]
  },
  {
   "cell_type": "code",
   "execution_count": 5,
   "metadata": {},
   "outputs": [],
   "source": [
    "if not is_valid:\n",
    "    raise Exception(\"Excel file is not valid\")"
   ]
  },
  {
   "cell_type": "code",
   "execution_count": 6,
   "metadata": {},
   "outputs": [],
   "source": [
    "excel_reduced_clean = ExcelCleaner.clean_excel(excel_reduced)"
   ]
  },
  {
   "cell_type": "code",
   "execution_count": 7,
   "metadata": {},
   "outputs": [],
   "source": [
    "extracted_tables, data = TableFinder.find_tables(excel_reduced_clean)"
   ]
  },
  {
   "cell_type": "code",
   "execution_count": 8,
   "metadata": {},
   "outputs": [],
   "source": [
    "series_data = SeriesExtractor.extract_table_details(extracted_tables, data)"
   ]
  },
  {
   "cell_type": "code",
   "execution_count": 9,
   "metadata": {},
   "outputs": [],
   "source": [
    "is_compatible = ExcelCompatibilityChecker.check_file(excel_raw, excel_reduced, extracted_tables)"
   ]
  },
  {
   "cell_type": "code",
   "execution_count": 10,
   "metadata": {},
   "outputs": [],
   "source": [
    "if not is_compatible:\n",
    "    raise Exception(\"Excel file is not compatible\")"
   ]
  },
  {
   "cell_type": "code",
   "execution_count": 11,
   "metadata": {},
   "outputs": [],
   "source": [
    "series_dict = SeriesExtractor.extract_series(extracted_tables=extracted_tables, data=data)"
   ]
  },
  {
   "cell_type": "code",
   "execution_count": 12,
   "metadata": {},
   "outputs": [
    {
     "data": {
      "text/plain": [
       "{'Sheet1': [Series(series_id=SeriesId(sheet_name='Sheet1', series_header='horizontal_column_1', series_header_cell_row=12, series_header_cell_column=2), worksheet=Worksheet(sheet_name='Sheet1', workbook_file_path=None, worksheet=None), series_header='horizontal_column_1', formulas=['=B3', '=C3'], values=[1, 2], header_location=<HeaderLocation.LEFT: 'left'>, series_starting_cell=Cell(column=3, row=12, coordinate='C12', sheet_name=None, value=None, value_type=None), series_length=2, series_data_type=<SeriesDataType.INT: 'int'>),\n",
       "  Series(series_id=SeriesId(sheet_name='Sheet1', series_header='horizontal_column_2', series_header_cell_row=13, series_header_cell_column=2), worksheet=Worksheet(sheet_name='Sheet1', workbook_file_path=None, worksheet=None), series_header='horizontal_column_2', formulas=['=B4', '=C4'], values=[3, 4], header_location=<HeaderLocation.LEFT: 'left'>, series_starting_cell=Cell(column=3, row=13, coordinate='C13', sheet_name=None, value=None, value_type=None), series_length=2, series_data_type=<SeriesDataType.INT: 'int'>),\n",
       "  Series(series_id=SeriesId(sheet_name='Sheet1', series_header='col_1', series_header_cell_row=2, series_header_cell_column=2), worksheet=Worksheet(sheet_name='Sheet1', workbook_file_path=None, worksheet=None), series_header='col_1', formulas=[None, None], values=[1, 3], header_location=<HeaderLocation.TOP: 'top'>, series_starting_cell=Cell(column=2, row=3, coordinate='B3', sheet_name=None, value=None, value_type=None), series_length=2, series_data_type=<SeriesDataType.INT: 'int'>),\n",
       "  Series(series_id=SeriesId(sheet_name='Sheet1', series_header='col_2', series_header_cell_row=2, series_header_cell_column=3), worksheet=Worksheet(sheet_name='Sheet1', workbook_file_path=None, worksheet=None), series_header='col_2', formulas=[None, None], values=[2, 4], header_location=<HeaderLocation.TOP: 'top'>, series_starting_cell=Cell(column=3, row=3, coordinate='C3', sheet_name=None, value=None, value_type=None), series_length=2, series_data_type=<SeriesDataType.INT: 'int'>),\n",
       "  Series(series_id=SeriesId(sheet_name='Sheet1', series_header='col_3', series_header_cell_row=2, series_header_cell_column=4), worksheet=Worksheet(sheet_name='Sheet1', workbook_file_path=None, worksheet=None), series_header='col_3', formulas=['=Sheet1!B3+Sheet1!C3', '=Sheet1!B4+Sheet1!C4'], values=[3, 7], header_location=<HeaderLocation.TOP: 'top'>, series_starting_cell=Cell(column=4, row=3, coordinate='D3', sheet_name=None, value=None, value_type=None), series_length=2, series_data_type=<SeriesDataType.INT: 'int'>),\n",
       "  Series(series_id=SeriesId(sheet_name='Sheet1', series_header='col_4', series_header_cell_row=2, series_header_cell_column=5), worksheet=Worksheet(sheet_name='Sheet1', workbook_file_path=None, worksheet=None), series_header='col_4', formulas=['=SUM(Sheet1!B3:D3)', '=SUM(Sheet1!B4:D4)'], values=[6, 14], header_location=<HeaderLocation.TOP: 'top'>, series_starting_cell=Cell(column=5, row=3, coordinate='E3', sheet_name=None, value=None, value_type=None), series_length=2, series_data_type=<SeriesDataType.INT: 'int'>),\n",
       "  Series(series_id=SeriesId(sheet_name='Sheet1', series_header='col_1', series_header_cell_row=13, series_header_cell_column=7), worksheet=Worksheet(sheet_name='Sheet1', workbook_file_path=None, worksheet=None), series_header='col_1', formulas=[None, None], values=[1, 3], header_location=<HeaderLocation.TOP: 'top'>, series_starting_cell=Cell(column=7, row=14, coordinate='G14', sheet_name=None, value=None, value_type=None), series_length=2, series_data_type=<SeriesDataType.INT: 'int'>),\n",
       "  Series(series_id=SeriesId(sheet_name='Sheet1', series_header='col_2', series_header_cell_row=13, series_header_cell_column=8), worksheet=Worksheet(sheet_name='Sheet1', workbook_file_path=None, worksheet=None), series_header='col_2', formulas=[None, None], values=[2, 4], header_location=<HeaderLocation.TOP: 'top'>, series_starting_cell=Cell(column=8, row=14, coordinate='H14', sheet_name=None, value=None, value_type=None), series_length=2, series_data_type=<SeriesDataType.INT: 'int'>),\n",
       "  Series(series_id=SeriesId(sheet_name='Sheet1', series_header='col_3', series_header_cell_row=13, series_header_cell_column=9), worksheet=Worksheet(sheet_name='Sheet1', workbook_file_path=None, worksheet=None), series_header='col_3', formulas=['=Sheet1!G14+Sheet1!H14', '=Sheet1!G15+Sheet1!H15'], values=[3, 7], header_location=<HeaderLocation.TOP: 'top'>, series_starting_cell=Cell(column=9, row=14, coordinate='I14', sheet_name=None, value=None, value_type=None), series_length=2, series_data_type=<SeriesDataType.INT: 'int'>),\n",
       "  Series(series_id=SeriesId(sheet_name='Sheet1', series_header='col_4', series_header_cell_row=13, series_header_cell_column=10), worksheet=Worksheet(sheet_name='Sheet1', workbook_file_path=None, worksheet=None), series_header='col_4', formulas=['=SUM(Sheet1!G14:Sheet1!I14)', '=SUM(Sheet1!G15:Sheet1!I15)'], values=[6, 14], header_location=<HeaderLocation.TOP: 'top'>, series_starting_cell=Cell(column=10, row=14, coordinate='J14', sheet_name=None, value=None, value_type=None), series_length=2, series_data_type=<SeriesDataType.INT: 'int'>)],\n",
       " 'Sheet2': [Series(series_id=SeriesId(sheet_name='Sheet2', series_header='col1', series_header_cell_row=10, series_header_cell_column=1), worksheet=Worksheet(sheet_name='Sheet2', workbook_file_path=None, worksheet=None), series_header='col1', formulas=['=B2', '=B3'], values=[1, 4], header_location=<HeaderLocation.TOP: 'top'>, series_starting_cell=Cell(column=1, row=11, coordinate='A11', sheet_name=None, value=None, value_type=None), series_length=2, series_data_type=<SeriesDataType.INT: 'int'>),\n",
       "  Series(series_id=SeriesId(sheet_name='Sheet2', series_header='col2', series_header_cell_row=10, series_header_cell_column=2), worksheet=Worksheet(sheet_name='Sheet2', workbook_file_path=None, worksheet=None), series_header='col2', formulas=['=C2', '=C3'], values=[2, 5], header_location=<HeaderLocation.TOP: 'top'>, series_starting_cell=Cell(column=2, row=11, coordinate='B11', sheet_name=None, value=None, value_type=None), series_length=2, series_data_type=<SeriesDataType.INT: 'int'>),\n",
       "  Series(series_id=SeriesId(sheet_name='Sheet2', series_header='horizontal_col_1', series_header_cell_row=2, series_header_cell_column=1), worksheet=Worksheet(sheet_name='Sheet2', workbook_file_path=None, worksheet=None), series_header='horizontal_col_1', formulas=[None, None], values=[1, 2], header_location=<HeaderLocation.LEFT: 'left'>, series_starting_cell=Cell(column=2, row=2, coordinate='B2', sheet_name=None, value=None, value_type=None), series_length=2, series_data_type=<SeriesDataType.INT: 'int'>),\n",
       "  Series(series_id=SeriesId(sheet_name='Sheet2', series_header='horizontal_col_2', series_header_cell_row=3, series_header_cell_column=1), worksheet=Worksheet(sheet_name='Sheet2', workbook_file_path=None, worksheet=None), series_header='horizontal_col_2', formulas=[None, None], values=[4, 5], header_location=<HeaderLocation.LEFT: 'left'>, series_starting_cell=Cell(column=2, row=3, coordinate='B3', sheet_name=None, value=None, value_type=None), series_length=2, series_data_type=<SeriesDataType.INT: 'int'>),\n",
       "  Series(series_id=SeriesId(sheet_name='Sheet2', series_header='horizontal_col_3', series_header_cell_row=4, series_header_cell_column=1), worksheet=Worksheet(sheet_name='Sheet2', workbook_file_path=None, worksheet=None), series_header='horizontal_col_3', formulas=['=B2+B3', '=C2+C3'], values=[5, 7], header_location=<HeaderLocation.LEFT: 'left'>, series_starting_cell=Cell(column=2, row=4, coordinate='B4', sheet_name=None, value=None, value_type=None), series_length=2, series_data_type=<SeriesDataType.INT: 'int'>)],\n",
       " 'Sheet3': [Series(series_id=SeriesId(sheet_name='Sheet3', series_header='col_1', series_header_cell_row=1, series_header_cell_column=1), worksheet=Worksheet(sheet_name='Sheet3', workbook_file_path=None, worksheet=None), series_header='col_1', formulas=['=SUM(Sheet1!B2:B6)', '=SUM(Sheet1!B2:B6)'], values=[4, 4], header_location=<HeaderLocation.TOP: 'top'>, series_starting_cell=Cell(column=1, row=2, coordinate='A2', sheet_name=None, value=None, value_type=None), series_length=2, series_data_type=<SeriesDataType.INT: 'int'>),\n",
       "  Series(series_id=SeriesId(sheet_name='Sheet3', series_header='col_2', series_header_cell_row=1, series_header_cell_column=2), worksheet=Worksheet(sheet_name='Sheet3', workbook_file_path=None, worksheet=None), series_header='col_2', formulas=['=SUM(Sheet1!C2:C6)', '=SUM(Sheet1!C2:C6)'], values=[6, 6], header_location=<HeaderLocation.TOP: 'top'>, series_starting_cell=Cell(column=2, row=2, coordinate='B2', sheet_name=None, value=None, value_type=None), series_length=2, series_data_type=<SeriesDataType.INT: 'int'>),\n",
       "  Series(series_id=SeriesId(sheet_name='Sheet3', series_header='col_3', series_header_cell_row=1, series_header_cell_column=3), worksheet=Worksheet(sheet_name='Sheet3', workbook_file_path=None, worksheet=None), series_header='col_3', formulas=['=SUM(Sheet1!D2:D6)', '=SUM(Sheet1!D2:D6)'], values=[10, 10], header_location=<HeaderLocation.TOP: 'top'>, series_starting_cell=Cell(column=3, row=2, coordinate='C2', sheet_name=None, value=None, value_type=None), series_length=2, series_data_type=<SeriesDataType.INT: 'int'>),\n",
       "  Series(series_id=SeriesId(sheet_name='Sheet3', series_header='col_4', series_header_cell_row=1, series_header_cell_column=4), worksheet=Worksheet(sheet_name='Sheet3', workbook_file_path=None, worksheet=None), series_header='col_4', formulas=['=Sheet3!A2*Sheet3!B2', '=Sheet3!A3*Sheet3!B3'], values=[24, 24], header_location=<HeaderLocation.TOP: 'top'>, series_starting_cell=Cell(column=4, row=2, coordinate='D2', sheet_name=None, value=None, value_type=None), series_length=2, series_data_type=<SeriesDataType.INT: 'int'>)]}"
      ]
     },
     "execution_count": 12,
     "metadata": {},
     "output_type": "execute_result"
    }
   ],
   "source": [
    "series_dict"
   ]
  },
  {
   "cell_type": "code",
   "execution_count": 13,
   "metadata": {},
   "outputs": [],
   "source": [
    "series_mapping = SeriesMapper.map_series(series_dict)"
   ]
  },
  {
   "cell_type": "code",
   "execution_count": 14,
   "metadata": {},
   "outputs": [
    {
     "data": {
      "text/plain": [
       "{Worksheet(sheet_name='Sheet1', workbook_file_path=None, worksheet=None): {Cell(column=3, row=12, coordinate=None, sheet_name=None, value=None, value_type=None): (0,\n",
       "   Series(series_id=SeriesId(sheet_name='Sheet1', series_header='horizontal_column_1', series_header_cell_row=12, series_header_cell_column=2), worksheet=Worksheet(sheet_name='Sheet1', workbook_file_path=None, worksheet=None), series_header='horizontal_column_1', formulas=['=B3', '=C3'], values=[1, 2], header_location=<HeaderLocation.LEFT: 'left'>, series_starting_cell=Cell(column=3, row=12, coordinate='C12', sheet_name=None, value=None, value_type=None), series_length=2, series_data_type=<SeriesDataType.INT: 'int'>)),\n",
       "  Cell(column=4, row=12, coordinate=None, sheet_name=None, value=None, value_type=None): (1,\n",
       "   Series(series_id=SeriesId(sheet_name='Sheet1', series_header='horizontal_column_1', series_header_cell_row=12, series_header_cell_column=2), worksheet=Worksheet(sheet_name='Sheet1', workbook_file_path=None, worksheet=None), series_header='horizontal_column_1', formulas=['=B3', '=C3'], values=[1, 2], header_location=<HeaderLocation.LEFT: 'left'>, series_starting_cell=Cell(column=3, row=12, coordinate='C12', sheet_name=None, value=None, value_type=None), series_length=2, series_data_type=<SeriesDataType.INT: 'int'>)),\n",
       "  Cell(column=3, row=13, coordinate=None, sheet_name=None, value=None, value_type=None): (0,\n",
       "   Series(series_id=SeriesId(sheet_name='Sheet1', series_header='horizontal_column_2', series_header_cell_row=13, series_header_cell_column=2), worksheet=Worksheet(sheet_name='Sheet1', workbook_file_path=None, worksheet=None), series_header='horizontal_column_2', formulas=['=B4', '=C4'], values=[3, 4], header_location=<HeaderLocation.LEFT: 'left'>, series_starting_cell=Cell(column=3, row=13, coordinate='C13', sheet_name=None, value=None, value_type=None), series_length=2, series_data_type=<SeriesDataType.INT: 'int'>)),\n",
       "  Cell(column=4, row=13, coordinate=None, sheet_name=None, value=None, value_type=None): (1,\n",
       "   Series(series_id=SeriesId(sheet_name='Sheet1', series_header='horizontal_column_2', series_header_cell_row=13, series_header_cell_column=2), worksheet=Worksheet(sheet_name='Sheet1', workbook_file_path=None, worksheet=None), series_header='horizontal_column_2', formulas=['=B4', '=C4'], values=[3, 4], header_location=<HeaderLocation.LEFT: 'left'>, series_starting_cell=Cell(column=3, row=13, coordinate='C13', sheet_name=None, value=None, value_type=None), series_length=2, series_data_type=<SeriesDataType.INT: 'int'>)),\n",
       "  Cell(column=2, row=3, coordinate=None, sheet_name=None, value=None, value_type=None): (0,\n",
       "   Series(series_id=SeriesId(sheet_name='Sheet1', series_header='col_1', series_header_cell_row=2, series_header_cell_column=2), worksheet=Worksheet(sheet_name='Sheet1', workbook_file_path=None, worksheet=None), series_header='col_1', formulas=[None, None], values=[1, 3], header_location=<HeaderLocation.TOP: 'top'>, series_starting_cell=Cell(column=2, row=3, coordinate='B3', sheet_name=None, value=None, value_type=None), series_length=2, series_data_type=<SeriesDataType.INT: 'int'>)),\n",
       "  Cell(column=2, row=4, coordinate=None, sheet_name=None, value=None, value_type=None): (1,\n",
       "   Series(series_id=SeriesId(sheet_name='Sheet1', series_header='col_1', series_header_cell_row=2, series_header_cell_column=2), worksheet=Worksheet(sheet_name='Sheet1', workbook_file_path=None, worksheet=None), series_header='col_1', formulas=[None, None], values=[1, 3], header_location=<HeaderLocation.TOP: 'top'>, series_starting_cell=Cell(column=2, row=3, coordinate='B3', sheet_name=None, value=None, value_type=None), series_length=2, series_data_type=<SeriesDataType.INT: 'int'>)),\n",
       "  Cell(column=3, row=3, coordinate=None, sheet_name=None, value=None, value_type=None): (0,\n",
       "   Series(series_id=SeriesId(sheet_name='Sheet1', series_header='col_2', series_header_cell_row=2, series_header_cell_column=3), worksheet=Worksheet(sheet_name='Sheet1', workbook_file_path=None, worksheet=None), series_header='col_2', formulas=[None, None], values=[2, 4], header_location=<HeaderLocation.TOP: 'top'>, series_starting_cell=Cell(column=3, row=3, coordinate='C3', sheet_name=None, value=None, value_type=None), series_length=2, series_data_type=<SeriesDataType.INT: 'int'>)),\n",
       "  Cell(column=3, row=4, coordinate=None, sheet_name=None, value=None, value_type=None): (1,\n",
       "   Series(series_id=SeriesId(sheet_name='Sheet1', series_header='col_2', series_header_cell_row=2, series_header_cell_column=3), worksheet=Worksheet(sheet_name='Sheet1', workbook_file_path=None, worksheet=None), series_header='col_2', formulas=[None, None], values=[2, 4], header_location=<HeaderLocation.TOP: 'top'>, series_starting_cell=Cell(column=3, row=3, coordinate='C3', sheet_name=None, value=None, value_type=None), series_length=2, series_data_type=<SeriesDataType.INT: 'int'>)),\n",
       "  Cell(column=4, row=3, coordinate=None, sheet_name=None, value=None, value_type=None): (0,\n",
       "   Series(series_id=SeriesId(sheet_name='Sheet1', series_header='col_3', series_header_cell_row=2, series_header_cell_column=4), worksheet=Worksheet(sheet_name='Sheet1', workbook_file_path=None, worksheet=None), series_header='col_3', formulas=['=Sheet1!B3+Sheet1!C3', '=Sheet1!B4+Sheet1!C4'], values=[3, 7], header_location=<HeaderLocation.TOP: 'top'>, series_starting_cell=Cell(column=4, row=3, coordinate='D3', sheet_name=None, value=None, value_type=None), series_length=2, series_data_type=<SeriesDataType.INT: 'int'>)),\n",
       "  Cell(column=4, row=4, coordinate=None, sheet_name=None, value=None, value_type=None): (1,\n",
       "   Series(series_id=SeriesId(sheet_name='Sheet1', series_header='col_3', series_header_cell_row=2, series_header_cell_column=4), worksheet=Worksheet(sheet_name='Sheet1', workbook_file_path=None, worksheet=None), series_header='col_3', formulas=['=Sheet1!B3+Sheet1!C3', '=Sheet1!B4+Sheet1!C4'], values=[3, 7], header_location=<HeaderLocation.TOP: 'top'>, series_starting_cell=Cell(column=4, row=3, coordinate='D3', sheet_name=None, value=None, value_type=None), series_length=2, series_data_type=<SeriesDataType.INT: 'int'>)),\n",
       "  Cell(column=5, row=3, coordinate=None, sheet_name=None, value=None, value_type=None): (0,\n",
       "   Series(series_id=SeriesId(sheet_name='Sheet1', series_header='col_4', series_header_cell_row=2, series_header_cell_column=5), worksheet=Worksheet(sheet_name='Sheet1', workbook_file_path=None, worksheet=None), series_header='col_4', formulas=['=SUM(Sheet1!B3:D3)', '=SUM(Sheet1!B4:D4)'], values=[6, 14], header_location=<HeaderLocation.TOP: 'top'>, series_starting_cell=Cell(column=5, row=3, coordinate='E3', sheet_name=None, value=None, value_type=None), series_length=2, series_data_type=<SeriesDataType.INT: 'int'>)),\n",
       "  Cell(column=5, row=4, coordinate=None, sheet_name=None, value=None, value_type=None): (1,\n",
       "   Series(series_id=SeriesId(sheet_name='Sheet1', series_header='col_4', series_header_cell_row=2, series_header_cell_column=5), worksheet=Worksheet(sheet_name='Sheet1', workbook_file_path=None, worksheet=None), series_header='col_4', formulas=['=SUM(Sheet1!B3:D3)', '=SUM(Sheet1!B4:D4)'], values=[6, 14], header_location=<HeaderLocation.TOP: 'top'>, series_starting_cell=Cell(column=5, row=3, coordinate='E3', sheet_name=None, value=None, value_type=None), series_length=2, series_data_type=<SeriesDataType.INT: 'int'>)),\n",
       "  Cell(column=7, row=14, coordinate=None, sheet_name=None, value=None, value_type=None): (0,\n",
       "   Series(series_id=SeriesId(sheet_name='Sheet1', series_header='col_1', series_header_cell_row=13, series_header_cell_column=7), worksheet=Worksheet(sheet_name='Sheet1', workbook_file_path=None, worksheet=None), series_header='col_1', formulas=[None, None], values=[1, 3], header_location=<HeaderLocation.TOP: 'top'>, series_starting_cell=Cell(column=7, row=14, coordinate='G14', sheet_name=None, value=None, value_type=None), series_length=2, series_data_type=<SeriesDataType.INT: 'int'>)),\n",
       "  Cell(column=7, row=15, coordinate=None, sheet_name=None, value=None, value_type=None): (1,\n",
       "   Series(series_id=SeriesId(sheet_name='Sheet1', series_header='col_1', series_header_cell_row=13, series_header_cell_column=7), worksheet=Worksheet(sheet_name='Sheet1', workbook_file_path=None, worksheet=None), series_header='col_1', formulas=[None, None], values=[1, 3], header_location=<HeaderLocation.TOP: 'top'>, series_starting_cell=Cell(column=7, row=14, coordinate='G14', sheet_name=None, value=None, value_type=None), series_length=2, series_data_type=<SeriesDataType.INT: 'int'>)),\n",
       "  Cell(column=8, row=14, coordinate=None, sheet_name=None, value=None, value_type=None): (0,\n",
       "   Series(series_id=SeriesId(sheet_name='Sheet1', series_header='col_2', series_header_cell_row=13, series_header_cell_column=8), worksheet=Worksheet(sheet_name='Sheet1', workbook_file_path=None, worksheet=None), series_header='col_2', formulas=[None, None], values=[2, 4], header_location=<HeaderLocation.TOP: 'top'>, series_starting_cell=Cell(column=8, row=14, coordinate='H14', sheet_name=None, value=None, value_type=None), series_length=2, series_data_type=<SeriesDataType.INT: 'int'>)),\n",
       "  Cell(column=8, row=15, coordinate=None, sheet_name=None, value=None, value_type=None): (1,\n",
       "   Series(series_id=SeriesId(sheet_name='Sheet1', series_header='col_2', series_header_cell_row=13, series_header_cell_column=8), worksheet=Worksheet(sheet_name='Sheet1', workbook_file_path=None, worksheet=None), series_header='col_2', formulas=[None, None], values=[2, 4], header_location=<HeaderLocation.TOP: 'top'>, series_starting_cell=Cell(column=8, row=14, coordinate='H14', sheet_name=None, value=None, value_type=None), series_length=2, series_data_type=<SeriesDataType.INT: 'int'>)),\n",
       "  Cell(column=9, row=14, coordinate=None, sheet_name=None, value=None, value_type=None): (0,\n",
       "   Series(series_id=SeriesId(sheet_name='Sheet1', series_header='col_3', series_header_cell_row=13, series_header_cell_column=9), worksheet=Worksheet(sheet_name='Sheet1', workbook_file_path=None, worksheet=None), series_header='col_3', formulas=['=Sheet1!G14+Sheet1!H14', '=Sheet1!G15+Sheet1!H15'], values=[3, 7], header_location=<HeaderLocation.TOP: 'top'>, series_starting_cell=Cell(column=9, row=14, coordinate='I14', sheet_name=None, value=None, value_type=None), series_length=2, series_data_type=<SeriesDataType.INT: 'int'>)),\n",
       "  Cell(column=9, row=15, coordinate=None, sheet_name=None, value=None, value_type=None): (1,\n",
       "   Series(series_id=SeriesId(sheet_name='Sheet1', series_header='col_3', series_header_cell_row=13, series_header_cell_column=9), worksheet=Worksheet(sheet_name='Sheet1', workbook_file_path=None, worksheet=None), series_header='col_3', formulas=['=Sheet1!G14+Sheet1!H14', '=Sheet1!G15+Sheet1!H15'], values=[3, 7], header_location=<HeaderLocation.TOP: 'top'>, series_starting_cell=Cell(column=9, row=14, coordinate='I14', sheet_name=None, value=None, value_type=None), series_length=2, series_data_type=<SeriesDataType.INT: 'int'>)),\n",
       "  Cell(column=10, row=14, coordinate=None, sheet_name=None, value=None, value_type=None): (0,\n",
       "   Series(series_id=SeriesId(sheet_name='Sheet1', series_header='col_4', series_header_cell_row=13, series_header_cell_column=10), worksheet=Worksheet(sheet_name='Sheet1', workbook_file_path=None, worksheet=None), series_header='col_4', formulas=['=SUM(Sheet1!G14:Sheet1!I14)', '=SUM(Sheet1!G15:Sheet1!I15)'], values=[6, 14], header_location=<HeaderLocation.TOP: 'top'>, series_starting_cell=Cell(column=10, row=14, coordinate='J14', sheet_name=None, value=None, value_type=None), series_length=2, series_data_type=<SeriesDataType.INT: 'int'>)),\n",
       "  Cell(column=10, row=15, coordinate=None, sheet_name=None, value=None, value_type=None): (1,\n",
       "   Series(series_id=SeriesId(sheet_name='Sheet1', series_header='col_4', series_header_cell_row=13, series_header_cell_column=10), worksheet=Worksheet(sheet_name='Sheet1', workbook_file_path=None, worksheet=None), series_header='col_4', formulas=['=SUM(Sheet1!G14:Sheet1!I14)', '=SUM(Sheet1!G15:Sheet1!I15)'], values=[6, 14], header_location=<HeaderLocation.TOP: 'top'>, series_starting_cell=Cell(column=10, row=14, coordinate='J14', sheet_name=None, value=None, value_type=None), series_length=2, series_data_type=<SeriesDataType.INT: 'int'>))},\n",
       " Worksheet(sheet_name='Sheet2', workbook_file_path=None, worksheet=None): {Cell(column=1, row=11, coordinate=None, sheet_name=None, value=None, value_type=None): (0,\n",
       "   Series(series_id=SeriesId(sheet_name='Sheet2', series_header='col1', series_header_cell_row=10, series_header_cell_column=1), worksheet=Worksheet(sheet_name='Sheet2', workbook_file_path=None, worksheet=None), series_header='col1', formulas=['=B2', '=B3'], values=[1, 4], header_location=<HeaderLocation.TOP: 'top'>, series_starting_cell=Cell(column=1, row=11, coordinate='A11', sheet_name=None, value=None, value_type=None), series_length=2, series_data_type=<SeriesDataType.INT: 'int'>)),\n",
       "  Cell(column=1, row=12, coordinate=None, sheet_name=None, value=None, value_type=None): (1,\n",
       "   Series(series_id=SeriesId(sheet_name='Sheet2', series_header='col1', series_header_cell_row=10, series_header_cell_column=1), worksheet=Worksheet(sheet_name='Sheet2', workbook_file_path=None, worksheet=None), series_header='col1', formulas=['=B2', '=B3'], values=[1, 4], header_location=<HeaderLocation.TOP: 'top'>, series_starting_cell=Cell(column=1, row=11, coordinate='A11', sheet_name=None, value=None, value_type=None), series_length=2, series_data_type=<SeriesDataType.INT: 'int'>)),\n",
       "  Cell(column=2, row=11, coordinate=None, sheet_name=None, value=None, value_type=None): (0,\n",
       "   Series(series_id=SeriesId(sheet_name='Sheet2', series_header='col2', series_header_cell_row=10, series_header_cell_column=2), worksheet=Worksheet(sheet_name='Sheet2', workbook_file_path=None, worksheet=None), series_header='col2', formulas=['=C2', '=C3'], values=[2, 5], header_location=<HeaderLocation.TOP: 'top'>, series_starting_cell=Cell(column=2, row=11, coordinate='B11', sheet_name=None, value=None, value_type=None), series_length=2, series_data_type=<SeriesDataType.INT: 'int'>)),\n",
       "  Cell(column=2, row=12, coordinate=None, sheet_name=None, value=None, value_type=None): (1,\n",
       "   Series(series_id=SeriesId(sheet_name='Sheet2', series_header='col2', series_header_cell_row=10, series_header_cell_column=2), worksheet=Worksheet(sheet_name='Sheet2', workbook_file_path=None, worksheet=None), series_header='col2', formulas=['=C2', '=C3'], values=[2, 5], header_location=<HeaderLocation.TOP: 'top'>, series_starting_cell=Cell(column=2, row=11, coordinate='B11', sheet_name=None, value=None, value_type=None), series_length=2, series_data_type=<SeriesDataType.INT: 'int'>)),\n",
       "  Cell(column=2, row=2, coordinate=None, sheet_name=None, value=None, value_type=None): (0,\n",
       "   Series(series_id=SeriesId(sheet_name='Sheet2', series_header='horizontal_col_1', series_header_cell_row=2, series_header_cell_column=1), worksheet=Worksheet(sheet_name='Sheet2', workbook_file_path=None, worksheet=None), series_header='horizontal_col_1', formulas=[None, None], values=[1, 2], header_location=<HeaderLocation.LEFT: 'left'>, series_starting_cell=Cell(column=2, row=2, coordinate='B2', sheet_name=None, value=None, value_type=None), series_length=2, series_data_type=<SeriesDataType.INT: 'int'>)),\n",
       "  Cell(column=3, row=2, coordinate=None, sheet_name=None, value=None, value_type=None): (1,\n",
       "   Series(series_id=SeriesId(sheet_name='Sheet2', series_header='horizontal_col_1', series_header_cell_row=2, series_header_cell_column=1), worksheet=Worksheet(sheet_name='Sheet2', workbook_file_path=None, worksheet=None), series_header='horizontal_col_1', formulas=[None, None], values=[1, 2], header_location=<HeaderLocation.LEFT: 'left'>, series_starting_cell=Cell(column=2, row=2, coordinate='B2', sheet_name=None, value=None, value_type=None), series_length=2, series_data_type=<SeriesDataType.INT: 'int'>)),\n",
       "  Cell(column=2, row=3, coordinate=None, sheet_name=None, value=None, value_type=None): (0,\n",
       "   Series(series_id=SeriesId(sheet_name='Sheet2', series_header='horizontal_col_2', series_header_cell_row=3, series_header_cell_column=1), worksheet=Worksheet(sheet_name='Sheet2', workbook_file_path=None, worksheet=None), series_header='horizontal_col_2', formulas=[None, None], values=[4, 5], header_location=<HeaderLocation.LEFT: 'left'>, series_starting_cell=Cell(column=2, row=3, coordinate='B3', sheet_name=None, value=None, value_type=None), series_length=2, series_data_type=<SeriesDataType.INT: 'int'>)),\n",
       "  Cell(column=3, row=3, coordinate=None, sheet_name=None, value=None, value_type=None): (1,\n",
       "   Series(series_id=SeriesId(sheet_name='Sheet2', series_header='horizontal_col_2', series_header_cell_row=3, series_header_cell_column=1), worksheet=Worksheet(sheet_name='Sheet2', workbook_file_path=None, worksheet=None), series_header='horizontal_col_2', formulas=[None, None], values=[4, 5], header_location=<HeaderLocation.LEFT: 'left'>, series_starting_cell=Cell(column=2, row=3, coordinate='B3', sheet_name=None, value=None, value_type=None), series_length=2, series_data_type=<SeriesDataType.INT: 'int'>)),\n",
       "  Cell(column=2, row=4, coordinate=None, sheet_name=None, value=None, value_type=None): (0,\n",
       "   Series(series_id=SeriesId(sheet_name='Sheet2', series_header='horizontal_col_3', series_header_cell_row=4, series_header_cell_column=1), worksheet=Worksheet(sheet_name='Sheet2', workbook_file_path=None, worksheet=None), series_header='horizontal_col_3', formulas=['=B2+B3', '=C2+C3'], values=[5, 7], header_location=<HeaderLocation.LEFT: 'left'>, series_starting_cell=Cell(column=2, row=4, coordinate='B4', sheet_name=None, value=None, value_type=None), series_length=2, series_data_type=<SeriesDataType.INT: 'int'>)),\n",
       "  Cell(column=3, row=4, coordinate=None, sheet_name=None, value=None, value_type=None): (1,\n",
       "   Series(series_id=SeriesId(sheet_name='Sheet2', series_header='horizontal_col_3', series_header_cell_row=4, series_header_cell_column=1), worksheet=Worksheet(sheet_name='Sheet2', workbook_file_path=None, worksheet=None), series_header='horizontal_col_3', formulas=['=B2+B3', '=C2+C3'], values=[5, 7], header_location=<HeaderLocation.LEFT: 'left'>, series_starting_cell=Cell(column=2, row=4, coordinate='B4', sheet_name=None, value=None, value_type=None), series_length=2, series_data_type=<SeriesDataType.INT: 'int'>))},\n",
       " Worksheet(sheet_name='Sheet3', workbook_file_path=None, worksheet=None): {Cell(column=1, row=2, coordinate=None, sheet_name=None, value=None, value_type=None): (0,\n",
       "   Series(series_id=SeriesId(sheet_name='Sheet3', series_header='col_1', series_header_cell_row=1, series_header_cell_column=1), worksheet=Worksheet(sheet_name='Sheet3', workbook_file_path=None, worksheet=None), series_header='col_1', formulas=['=SUM(Sheet1!B2:B6)', '=SUM(Sheet1!B2:B6)'], values=[4, 4], header_location=<HeaderLocation.TOP: 'top'>, series_starting_cell=Cell(column=1, row=2, coordinate='A2', sheet_name=None, value=None, value_type=None), series_length=2, series_data_type=<SeriesDataType.INT: 'int'>)),\n",
       "  Cell(column=1, row=3, coordinate=None, sheet_name=None, value=None, value_type=None): (1,\n",
       "   Series(series_id=SeriesId(sheet_name='Sheet3', series_header='col_1', series_header_cell_row=1, series_header_cell_column=1), worksheet=Worksheet(sheet_name='Sheet3', workbook_file_path=None, worksheet=None), series_header='col_1', formulas=['=SUM(Sheet1!B2:B6)', '=SUM(Sheet1!B2:B6)'], values=[4, 4], header_location=<HeaderLocation.TOP: 'top'>, series_starting_cell=Cell(column=1, row=2, coordinate='A2', sheet_name=None, value=None, value_type=None), series_length=2, series_data_type=<SeriesDataType.INT: 'int'>)),\n",
       "  Cell(column=2, row=2, coordinate=None, sheet_name=None, value=None, value_type=None): (0,\n",
       "   Series(series_id=SeriesId(sheet_name='Sheet3', series_header='col_2', series_header_cell_row=1, series_header_cell_column=2), worksheet=Worksheet(sheet_name='Sheet3', workbook_file_path=None, worksheet=None), series_header='col_2', formulas=['=SUM(Sheet1!C2:C6)', '=SUM(Sheet1!C2:C6)'], values=[6, 6], header_location=<HeaderLocation.TOP: 'top'>, series_starting_cell=Cell(column=2, row=2, coordinate='B2', sheet_name=None, value=None, value_type=None), series_length=2, series_data_type=<SeriesDataType.INT: 'int'>)),\n",
       "  Cell(column=2, row=3, coordinate=None, sheet_name=None, value=None, value_type=None): (1,\n",
       "   Series(series_id=SeriesId(sheet_name='Sheet3', series_header='col_2', series_header_cell_row=1, series_header_cell_column=2), worksheet=Worksheet(sheet_name='Sheet3', workbook_file_path=None, worksheet=None), series_header='col_2', formulas=['=SUM(Sheet1!C2:C6)', '=SUM(Sheet1!C2:C6)'], values=[6, 6], header_location=<HeaderLocation.TOP: 'top'>, series_starting_cell=Cell(column=2, row=2, coordinate='B2', sheet_name=None, value=None, value_type=None), series_length=2, series_data_type=<SeriesDataType.INT: 'int'>)),\n",
       "  Cell(column=3, row=2, coordinate=None, sheet_name=None, value=None, value_type=None): (0,\n",
       "   Series(series_id=SeriesId(sheet_name='Sheet3', series_header='col_3', series_header_cell_row=1, series_header_cell_column=3), worksheet=Worksheet(sheet_name='Sheet3', workbook_file_path=None, worksheet=None), series_header='col_3', formulas=['=SUM(Sheet1!D2:D6)', '=SUM(Sheet1!D2:D6)'], values=[10, 10], header_location=<HeaderLocation.TOP: 'top'>, series_starting_cell=Cell(column=3, row=2, coordinate='C2', sheet_name=None, value=None, value_type=None), series_length=2, series_data_type=<SeriesDataType.INT: 'int'>)),\n",
       "  Cell(column=3, row=3, coordinate=None, sheet_name=None, value=None, value_type=None): (1,\n",
       "   Series(series_id=SeriesId(sheet_name='Sheet3', series_header='col_3', series_header_cell_row=1, series_header_cell_column=3), worksheet=Worksheet(sheet_name='Sheet3', workbook_file_path=None, worksheet=None), series_header='col_3', formulas=['=SUM(Sheet1!D2:D6)', '=SUM(Sheet1!D2:D6)'], values=[10, 10], header_location=<HeaderLocation.TOP: 'top'>, series_starting_cell=Cell(column=3, row=2, coordinate='C2', sheet_name=None, value=None, value_type=None), series_length=2, series_data_type=<SeriesDataType.INT: 'int'>)),\n",
       "  Cell(column=4, row=2, coordinate=None, sheet_name=None, value=None, value_type=None): (0,\n",
       "   Series(series_id=SeriesId(sheet_name='Sheet3', series_header='col_4', series_header_cell_row=1, series_header_cell_column=4), worksheet=Worksheet(sheet_name='Sheet3', workbook_file_path=None, worksheet=None), series_header='col_4', formulas=['=Sheet3!A2*Sheet3!B2', '=Sheet3!A3*Sheet3!B3'], values=[24, 24], header_location=<HeaderLocation.TOP: 'top'>, series_starting_cell=Cell(column=4, row=2, coordinate='D2', sheet_name=None, value=None, value_type=None), series_length=2, series_data_type=<SeriesDataType.INT: 'int'>)),\n",
       "  Cell(column=4, row=3, coordinate=None, sheet_name=None, value=None, value_type=None): (1,\n",
       "   Series(series_id=SeriesId(sheet_name='Sheet3', series_header='col_4', series_header_cell_row=1, series_header_cell_column=4), worksheet=Worksheet(sheet_name='Sheet3', workbook_file_path=None, worksheet=None), series_header='col_4', formulas=['=Sheet3!A2*Sheet3!B2', '=Sheet3!A3*Sheet3!B3'], values=[24, 24], header_location=<HeaderLocation.TOP: 'top'>, series_starting_cell=Cell(column=4, row=2, coordinate='D2', sheet_name=None, value=None, value_type=None), series_length=2, series_data_type=<SeriesDataType.INT: 'int'>))}}"
      ]
     },
     "execution_count": 14,
     "metadata": {},
     "output_type": "execute_result"
    }
   ],
   "source": [
    "series_mapping"
   ]
  },
  {
   "cell_type": "code",
   "execution_count": 15,
   "metadata": {},
   "outputs": [],
   "source": [
    "series_iterator = SeriesIterator.iterate_series(series_dict)"
   ]
  },
  {
   "cell_type": "code",
   "execution_count": 16,
   "metadata": {},
   "outputs": [],
   "source": [
    "series_list = [series for series in series_iterator if series.formulas != [None, None]]"
   ]
  },
  {
   "cell_type": "code",
   "execution_count": 17,
   "metadata": {},
   "outputs": [],
   "source": [
    "import xlcalculator\n",
    "import ast\n",
    "\n",
    "from objects import Cell, HeaderLocation, CellRange, Column, CellRangeColumn\n",
    "\n",
    "from excel_utils import ExcelUtils\n",
    "from ast_transformation.formula_generator import SeriesIdLoader\n",
    "\n",
    "class CellRangeImplementer:\n",
    "    def __init__(self, sheet_name: str):\n",
    "        self.sheet_name = sheet_name\n",
    "\n",
    "    def merge_cell_ranges(self, cell_ranges):\n",
    "        min_row = min(cell_range.start_cell.row for cell_range in cell_ranges)\n",
    "        min_column = min(cell_range.start_cell.column for cell_range in cell_ranges)\n",
    "        max_row = max(cell_range.end_cell.row for cell_range in cell_ranges)\n",
    "        max_column = max(cell_range.end_cell.column for cell_range in cell_ranges)\n",
    "\n",
    "        start_cell = Cell(column=min_column, row=min_row, coordinate = ExcelUtils.get_coordinate_from_column_and_row(min_column, min_row), sheet_name=self.sheet_name)\n",
    "        end_cell = Cell(column=max_column, row=max_row, coordinate = ExcelUtils.get_coordinate_from_column_and_row(max_column, max_row), sheet_name=self.sheet_name)\n",
    "\n",
    "        return CellRange(start_cell=start_cell, end_cell=end_cell)\n",
    "\n",
    "    @staticmethod\n",
    "    def create_cell_range_top_header(start_index, end_index, cell_row, cell_column):\n",
    "        updated_start_cell_row = cell_row + start_index\n",
    "        updated_end_cell_row = cell_row + end_index\n",
    "        return CellRange(\n",
    "            start_cell=Cell(row=updated_start_cell_row, column=cell_column, coordinate=ExcelUtils.get_coordinate_from_column_and_row(cell_column, updated_start_cell_row)),\n",
    "            end_cell=Cell(row=updated_end_cell_row, column=cell_column + end_index, coordinate=ExcelUtils.get_coordinate_from_column_and_row(cell_column + end_index, updated_end_cell_row))\n",
    "        )\n",
    "\n",
    "    @staticmethod\n",
    "    def create_cell_range_left_header(start_index, end_index, cell_row, cell_column, sheet_name):\n",
    "        updated_start_cell_column = cell_column + start_index\n",
    "        updated_end_cell_column = cell_column + end_index\n",
    "        return CellRange(\n",
    "            start_cell=Cell(row=cell_row, column=updated_start_cell_column, coordinate=ExcelUtils.get_coordinate_from_column_and_row(updated_start_cell_column, cell_row), sheet_name=sheet_name),\n",
    "            end_cell=Cell(row=cell_row + end_index, column=updated_end_cell_column, coordinate=ExcelUtils.get_coordinate_from_column_and_row(updated_end_cell_column, cell_row + end_index), sheet_name=sheet_name)\n",
    "        )\n",
    "    \n",
    "    @staticmethod\n",
    "    def get_cell_range_from_series_tuple(series_tuple):\n",
    "        series_ids_string, indexes = series_tuple\n",
    "        series_start_index, series_end_index = indexes\n",
    "\n",
    "        if series_start_index is None and series_end_index is None:\n",
    "            return CellRangeImplementer.process_series_columns(series_ids_string)\n",
    "        \n",
    "        return CellRangeImplementer.process_series_cells(series_ids_string, series_start_index, series_end_index)\n",
    "\n",
    "    @staticmethod\n",
    "    def process_series_columns(series_ids_string):\n",
    "        column_values = []\n",
    "        for series_id_string in series_ids_string:\n",
    "            column_value = CellRangeImplementer.get_column_from_series_id(series_id_string)\n",
    "            column_values.append(column_value)\n",
    "\n",
    "        sorted_column_values = sorted(column_values, key=lambda x: x.column_number)\n",
    "        return CellRangeColumn(start_column=sorted_column_values[0], end_column=sorted_column_values[-1])\n",
    "\n",
    "    @staticmethod\n",
    "    def get_column_from_series_id(series_id_string):\n",
    "        series_id = SeriesIdLoader.load_series_id_from_string(series_id_string)\n",
    "        sheet_name = series_id.sheet_name\n",
    "        series_list = series_dict.get(sheet_name)\n",
    "\n",
    "        for series in series_list:\n",
    "            if series.series_id == series_id:\n",
    "                column_value = series.series_starting_cell.column\n",
    "                return Column(column_number=column_value, column_letter=ExcelUtils.get_column_letter_from_number(column_value))\n",
    "\n",
    "    @staticmethod\n",
    "    def process_series_cells(series_ids_string, series_start_index, series_end_index):\n",
    "        cell_ranges = []\n",
    "        for series_id_string in series_ids_string:\n",
    "            cell_range = CellRangeImplementer.get_cell_range_for_series_id(series_id_string, series_start_index, series_end_index)\n",
    "            cell_ranges.append(cell_range)\n",
    "\n",
    "        return CellRangeImplementer.merge_cell_ranges(cell_ranges)\n",
    "\n",
    "    @staticmethod\n",
    "    def get_cell_range_for_series_id(series_id_string, series_start_index, series_end_index):\n",
    "        series_id = SeriesIdLoader.load_series_id_from_string(series_id_string)\n",
    "        sheet_name = series_id.sheet_name\n",
    "        series_list = series_dict.get(sheet_name)\n",
    "\n",
    "        for series in series_list:\n",
    "            if series.series_id == series_id:\n",
    "                return CellRangeImplementer.create_cell_range(series, series_start_index, series_end_index)\n",
    "\n",
    "    @staticmethod\n",
    "    def create_cell_range(series, series_start_index, series_end_index):\n",
    "        cell_value = series.series_starting_cell\n",
    "        cell_row = cell_value.row\n",
    "        cell_column = cell_value.column\n",
    "\n",
    "        if series.header_location == HeaderLocation.TOP:\n",
    "            return CellRangeImplementer.create_cell_range_top_header(series_start_index, series_end_index, cell_row, cell_column)\n",
    "        elif series.header_location == HeaderLocation.LEFT:\n",
    "            return CellRangeImplementer. create_cell_range_left_header(series_start_index, series_end_index, cell_row, cell_column)\n",
    "        else:\n",
    "            raise Exception(\"Header location is not valid\")\n",
    "\n",
    "    def update_ast(self, ast):\n",
    "        if isinstance(ast, xlcalculator.ast_nodes.RangeNode):\n",
    "            return self.replace_range_node(ast)\n",
    "        elif isinstance(ast, xlcalculator.ast_nodes.FunctionNode):\n",
    "            return self.replace_function_node(ast)\n",
    "        elif isinstance(ast, xlcalculator.ast_nodes.OperatorNode):\n",
    "            return self.replace_operator_node(ast)\n",
    "        return ast\n",
    "\n",
    "    def replace_range_node(self, node):\n",
    "\n",
    "        series_tuple = ast.literal_eval(node.tvalue)\n",
    "        cell_range = CellRangeImplementer.get_cell_range_from_series_tuple(series_tuple)\n",
    "\n",
    "        return xlcalculator.ast_nodes.RangeNode(\n",
    "            xlcalculator.tokenizer.f_token(\n",
    "                tvalue=cell_range, ttype=\"operand\", tsubtype=\"range\"\n",
    "            ))\n",
    "        \n",
    "\n",
    "    def replace_function_node(self, node):\n",
    "        modified_args = [self.update_ast(arg) for arg in node.args]\n",
    "        modified_function_node = xlcalculator.ast_nodes.FunctionNode(node.token)\n",
    "        modified_function_node.args = modified_args\n",
    "        return modified_function_node\n",
    "\n",
    "    def replace_operator_node(self, node):\n",
    "        modified_left = self.update_ast(node.left) if node.left else None\n",
    "        modified_right = self.update_ast(node.right) if node.right else None\n",
    "        modified_operator_node = xlcalculator.ast_nodes.OperatorNode(node.token)\n",
    "        modified_operator_node.left = modified_left\n",
    "        modified_operator_node.right = modified_right\n",
    "        return modified_operator_node"
   ]
  },
  {
   "cell_type": "code",
   "execution_count": 18,
   "metadata": {},
   "outputs": [
    {
     "name": "stdout",
     "output_type": "stream",
     "text": [
      "['=None!B3:B3', '=None!C3:C3']\n",
      "['=None!B4:C4', '=None!C4:D4']\n",
      "['=(None!B3:B3) + (None!C3:C3)', '=(None!B4:C4) + (None!C4:D4)']\n",
      "['=SUM(None!B3:D3)', '=SUM(None!B4:E4)']\n",
      "['=(None!G14:G14) + (None!H14:H14)', '=(None!G15:H15) + (None!H15:I15)']\n",
      "['=SUM(None!G14:I14)', '=SUM(None!G15:J15)']\n",
      "['=None!B2:B2', '=None!B3:B3']\n",
      "['=None!C2:C3', '=None!C3:C4']\n",
      "['=(None!B2:B2) + (None!B3:B3)', '=(None!C2:C3) + (None!C3:C4)']\n",
      "['=SUM(None!B2:C3)', '=SUM(None!B2:C3)']\n",
      "['=SUM(None!C2:D3)', '=SUM(None!C2:D3)']\n",
      "['=SUM(None!D2:E3)', '=SUM(None!D2:E3)']\n",
      "['=(None!A2:A2) * (None!B2:B2)', '=(None!A3:B3) * (None!B3:C3)']\n"
     ]
    }
   ],
   "source": [
    "for series in series_list:\n",
    "    formula_1 = series.formulas[0]\n",
    "    formula_1_ast = FormulaParser.parse_formula(formula_1)\n",
    "    series_implementer = SeriesImplementer(series_mapping, sheet_name = series.worksheet.sheet_name)\n",
    "    formula_1_ast_series = series_implementer.update_ast(formula_1_ast)\n",
    "\n",
    "    formula_2 = series.formulas[1]\n",
    "    formula_2_ast = FormulaParser.parse_formula(formula_2)\n",
    "    formula_2_ast_series = series_implementer.update_ast(formula_2_ast)\n",
    "    \n",
    "    sheet_name = series.worksheet.sheet_name\n",
    "\n",
    "    series_list = series_dict.get(sheet_name)\n",
    "\n",
    "    ast_generator = FormulaGenerator.get_ast_generator(formula_1_ast_series, formula_2_ast_series, series_list)\n",
    "\n",
    "    formulas_are_correct, formula_1_ast_new, formula_2_ast_new = FormulaChecker.check_formulas(ast_generator)\n",
    "\n",
    "    cell_range_implementer = CellRangeImplementer(sheet_name=sheet_name)\n",
    "\n",
    "    formula_1_ast_new_cell_ranges = cell_range_implementer.update_ast(formula_1_ast_new)\n",
    "    formula_2_ast_new_cell_ranges = cell_range_implementer.update_ast(formula_2_ast_new)\n",
    "    \n",
    "    series.formulas = [f\"={formula_1_ast_new_cell_ranges}\", f\"={formula_2_ast_new_cell_ranges}\"]\n",
    "    print(series.formulas)\n",
    "    \n",
    "    if not formulas_are_correct:\n",
    "        print(\"formula_2_ast_series\")\n",
    "        print(formula_2_ast_series)\n",
    "        print(\"formula_2_ast_new\")\n",
    "        print(formula_2_ast_new)\n",
    "        raise Exception(\"Formulas are not correct\")"
   ]
  },
  {
   "cell_type": "code",
   "execution_count": 19,
   "metadata": {},
   "outputs": [
    {
     "data": {
      "text/plain": [
       "[Series(series_id=SeriesId(sheet_name='Sheet3', series_header='col_1', series_header_cell_row=1, series_header_cell_column=1), worksheet=Worksheet(sheet_name='Sheet3', workbook_file_path=None, worksheet=None), series_header='col_1', formulas=['=SUM(None!B2:C3)', '=SUM(None!B2:C3)'], values=[4, 4], header_location=<HeaderLocation.TOP: 'top'>, series_starting_cell=Cell(column=1, row=2, coordinate='A2', sheet_name=None, value=None, value_type=None), series_length=2, series_data_type=<SeriesDataType.INT: 'int'>),\n",
       " Series(series_id=SeriesId(sheet_name='Sheet3', series_header='col_2', series_header_cell_row=1, series_header_cell_column=2), worksheet=Worksheet(sheet_name='Sheet3', workbook_file_path=None, worksheet=None), series_header='col_2', formulas=['=SUM(None!C2:D3)', '=SUM(None!C2:D3)'], values=[6, 6], header_location=<HeaderLocation.TOP: 'top'>, series_starting_cell=Cell(column=2, row=2, coordinate='B2', sheet_name=None, value=None, value_type=None), series_length=2, series_data_type=<SeriesDataType.INT: 'int'>),\n",
       " Series(series_id=SeriesId(sheet_name='Sheet3', series_header='col_3', series_header_cell_row=1, series_header_cell_column=3), worksheet=Worksheet(sheet_name='Sheet3', workbook_file_path=None, worksheet=None), series_header='col_3', formulas=['=SUM(None!D2:E3)', '=SUM(None!D2:E3)'], values=[10, 10], header_location=<HeaderLocation.TOP: 'top'>, series_starting_cell=Cell(column=3, row=2, coordinate='C2', sheet_name=None, value=None, value_type=None), series_length=2, series_data_type=<SeriesDataType.INT: 'int'>),\n",
       " Series(series_id=SeriesId(sheet_name='Sheet3', series_header='col_4', series_header_cell_row=1, series_header_cell_column=4), worksheet=Worksheet(sheet_name='Sheet3', workbook_file_path=None, worksheet=None), series_header='col_4', formulas=['=(None!A2:A2) * (None!B2:B2)', '=(None!A3:B3) * (None!B3:C3)'], values=[24, 24], header_location=<HeaderLocation.TOP: 'top'>, series_starting_cell=Cell(column=4, row=2, coordinate='D2', sheet_name=None, value=None, value_type=None), series_length=2, series_data_type=<SeriesDataType.INT: 'int'>)]"
      ]
     },
     "execution_count": 19,
     "metadata": {},
     "output_type": "execute_result"
    }
   ],
   "source": [
    "\n",
    "series_list"
   ]
  },
  {
   "cell_type": "code",
   "execution_count": null,
   "metadata": {},
   "outputs": [],
   "source": []
  }
 ],
 "metadata": {
  "kernelspec": {
   "display_name": "venv",
   "language": "python",
   "name": "python3"
  },
  "language_info": {
   "codemirror_mode": {
    "name": "ipython",
    "version": 3
   },
   "file_extension": ".py",
   "mimetype": "text/x-python",
   "name": "python",
   "nbconvert_exporter": "python",
   "pygments_lexer": "ipython3",
   "version": "3.11.5"
  }
 },
 "nbformat": 4,
 "nbformat_minor": 2
}
