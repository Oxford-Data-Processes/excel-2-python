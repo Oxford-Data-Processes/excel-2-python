{
 "cells": [
  {
   "cell_type": "code",
   "execution_count": 1,
   "metadata": {},
   "outputs": [],
   "source": [
    "from series_extraction.excel_loader import ExcelLoader\n",
    "from series_extraction.excel_validator import ExcelValidator\n",
    "from series_extraction.excel_cleaner import ExcelCleaner\n",
    "from series_extraction.table_finder import TableFinder\n",
    "from series_extraction.series_extractor import SeriesExtractor\n",
    "\n",
    "from objects import Worksheet"
   ]
  },
  {
   "cell_type": "code",
   "execution_count": 2,
   "metadata": {},
   "outputs": [],
   "source": [
    "import os\n",
    "current_directory = os.getcwd()\n",
    "\n",
    "parent_directory = os.path.abspath(os.path.join(current_directory, os.pardir))\n",
    "data_directory = os.path.join(parent_directory, 'data')\n",
    "\n",
    "project_name = 'test_excel_1'\n",
    "\n",
    "excel_raw_file_path = os.path.join(data_directory, \"excel_files_raw\", f\"{project_name}_raw.xlsx\")\n",
    "excel_reduced_filepath = os.path.join(data_directory, \"excel_files_reduced\", f\"{project_name}_reduced.xlsx\")"
   ]
  },
  {
   "cell_type": "code",
   "execution_count": 3,
   "metadata": {},
   "outputs": [],
   "source": [
    "excel_raw= ExcelLoader.load_file(excel_raw_file_path)\n",
    "excel_reduced = ExcelLoader.load_file(excel_reduced_filepath)"
   ]
  },
  {
   "cell_type": "code",
   "execution_count": 4,
   "metadata": {},
   "outputs": [],
   "source": [
    "is_valid = ExcelValidator.validate_excel(excel_reduced)"
   ]
  },
  {
   "cell_type": "code",
   "execution_count": 5,
   "metadata": {},
   "outputs": [],
   "source": [
    "if not is_valid:\n",
    "    raise Exception(\"Excel file is not valid\")"
   ]
  },
  {
   "cell_type": "code",
   "execution_count": 6,
   "metadata": {},
   "outputs": [],
   "source": [
    "excel_reduced_clean = ExcelCleaner.clean_excel(excel_reduced)"
   ]
  },
  {
   "cell_type": "code",
   "execution_count": 7,
   "metadata": {},
   "outputs": [],
   "source": [
    "extracted_tables, data = TableFinder.find_tables(excel_reduced_clean)"
   ]
  },
  {
   "cell_type": "code",
   "execution_count": 8,
   "metadata": {},
   "outputs": [
    {
     "data": {
      "text/plain": [
       "{Worksheet(sheet_name='Sheet1', workbook_file_path=None, worksheet=None): [Table(name='Sheet1_1', range=CellRange(start_cell=Cell(column=2, row=12, coordinate='B12', value=None, value_type=None), end_cell=Cell(column=4, row=13, coordinate='D13', value=None, value_type=None)), header_location=<HeaderLocation.LEFT: 'left'>, header_values=['horizontal_column_1', 'horizontal_column_2']),\n",
       "  Table(name='Sheet1_2', range=CellRange(start_cell=Cell(column=2, row=2, coordinate='B2', value=None, value_type=None), end_cell=Cell(column=5, row=4, coordinate='E4', value=None, value_type=None)), header_location=<HeaderLocation.TOP: 'top'>, header_values=['col_1', 'col_2', 'col_3', 'col_4']),\n",
       "  Table(name='Sheet1_3', range=CellRange(start_cell=Cell(column=7, row=13, coordinate='G13', value=None, value_type=None), end_cell=Cell(column=10, row=15, coordinate='J15', value=None, value_type=None)), header_location=<HeaderLocation.TOP: 'top'>, header_values=['col_1', 'col_2', 'col_3', 'col_4'])],\n",
       " Worksheet(sheet_name='Sheet2', workbook_file_path=None, worksheet=None): [Table(name='Sheet2_1', range=CellRange(start_cell=Cell(column=1, row=10, coordinate='A10', value=None, value_type=None), end_cell=Cell(column=2, row=12, coordinate='B12', value=None, value_type=None)), header_location=<HeaderLocation.TOP: 'top'>, header_values=['col1', 'col2']),\n",
       "  Table(name='Sheet2_2', range=CellRange(start_cell=Cell(column=1, row=2, coordinate='A2', value=None, value_type=None), end_cell=Cell(column=3, row=4, coordinate='C4', value=None, value_type=None)), header_location=<HeaderLocation.LEFT: 'left'>, header_values=['horizontal_col_1', 'horizontal_col_2', 'horizontal_col_3'])],\n",
       " Worksheet(sheet_name='Sheet3', workbook_file_path=None, worksheet=None): [Table(name='Sheet3_1', range=CellRange(start_cell=Cell(column=1, row=1, coordinate='A1', value=None, value_type=None), end_cell=Cell(column=5, row=3, coordinate='E3', value=None, value_type=None)), header_location=<HeaderLocation.TOP: 'top'>, header_values=['col_1', 'col_2', 'col_3', 'col_4', 'col_5'])]}"
      ]
     },
     "execution_count": 8,
     "metadata": {},
     "output_type": "execute_result"
    }
   ],
   "source": [
    "extracted_tables"
   ]
  },
  {
   "cell_type": "code",
   "execution_count": 9,
   "metadata": {},
   "outputs": [],
   "source": [
    "tables_data = SeriesExtractor.extract_table_details(extracted_tables, data)"
   ]
  },
  {
   "cell_type": "code",
   "execution_count": 10,
   "metadata": {},
   "outputs": [
    {
     "data": {
      "text/plain": [
       "{Worksheet(sheet_name='Sheet1', workbook_file_path=None, worksheet=None): {'C12:D12': {'series_header': 'horizontal_column_1',\n",
       "   'row_formulas': [None, None],\n",
       "   'row_values': [1, 2],\n",
       "   'header_location': 'left',\n",
       "   'series_starting_cell': {'row': 12, 'column': 3},\n",
       "   'series_length': '2',\n",
       "   'data_type': 'int'},\n",
       "  'C13:D13': {'series_header': 'horizontal_column_2',\n",
       "   'row_formulas': [None, None],\n",
       "   'row_values': [3, 4],\n",
       "   'header_location': 'left',\n",
       "   'series_starting_cell': {'row': 13, 'column': 3},\n",
       "   'series_length': '2',\n",
       "   'data_type': 'int'},\n",
       "  'B3:B4': {'series_header': 'col_1',\n",
       "   'row_formulas': [None, None],\n",
       "   'row_values': [1, 3],\n",
       "   'header_location': 'top',\n",
       "   'series_starting_cell': {'row': 3, 'column': 2},\n",
       "   'series_length': '2',\n",
       "   'data_type': 'int'},\n",
       "  'C3:C4': {'series_header': 'col_2',\n",
       "   'row_formulas': [None, None],\n",
       "   'row_values': [2, 4],\n",
       "   'header_location': 'top',\n",
       "   'series_starting_cell': {'row': 3, 'column': 3},\n",
       "   'series_length': '2',\n",
       "   'data_type': 'int'},\n",
       "  'D3:D4': {'series_header': 'col_3',\n",
       "   'row_formulas': [None, None],\n",
       "   'row_values': [3, 7],\n",
       "   'header_location': 'top',\n",
       "   'series_starting_cell': {'row': 3, 'column': 4},\n",
       "   'series_length': '2',\n",
       "   'data_type': 'int'},\n",
       "  'E3:E4': {'series_header': 'col_4',\n",
       "   'row_formulas': [None, None],\n",
       "   'row_values': [6, 14],\n",
       "   'header_location': 'top',\n",
       "   'series_starting_cell': {'row': 3, 'column': 5},\n",
       "   'series_length': '2',\n",
       "   'data_type': 'int'},\n",
       "  'G14:G15': {'series_header': 'col_1',\n",
       "   'row_formulas': [None, None],\n",
       "   'row_values': [1, 3],\n",
       "   'header_location': 'top',\n",
       "   'series_starting_cell': {'row': 14, 'column': 7},\n",
       "   'series_length': '2',\n",
       "   'data_type': 'int'},\n",
       "  'H14:H15': {'series_header': 'col_2',\n",
       "   'row_formulas': [None, None],\n",
       "   'row_values': [2, 4],\n",
       "   'header_location': 'top',\n",
       "   'series_starting_cell': {'row': 14, 'column': 8},\n",
       "   'series_length': '2',\n",
       "   'data_type': 'int'},\n",
       "  'I14:I15': {'series_header': 'col_3',\n",
       "   'row_formulas': [None, None],\n",
       "   'row_values': [3, 7],\n",
       "   'header_location': 'top',\n",
       "   'series_starting_cell': {'row': 14, 'column': 9},\n",
       "   'series_length': '2',\n",
       "   'data_type': 'int'},\n",
       "  'J14:J15': {'series_header': 'col_4',\n",
       "   'row_formulas': [None, None],\n",
       "   'row_values': [6, 14],\n",
       "   'header_location': 'top',\n",
       "   'series_starting_cell': {'row': 14, 'column': 10},\n",
       "   'series_length': '2',\n",
       "   'data_type': 'int'}},\n",
       " Worksheet(sheet_name='Sheet2', workbook_file_path=None, worksheet=None): {'A11:A12': {'series_header': 'col1',\n",
       "   'row_formulas': [None, None],\n",
       "   'row_values': [1, 4],\n",
       "   'header_location': 'top',\n",
       "   'series_starting_cell': {'row': 11, 'column': 1},\n",
       "   'series_length': '2',\n",
       "   'data_type': 'int'},\n",
       "  'B11:B12': {'series_header': 'col2',\n",
       "   'row_formulas': [None, None],\n",
       "   'row_values': [2, 5],\n",
       "   'header_location': 'top',\n",
       "   'series_starting_cell': {'row': 11, 'column': 2},\n",
       "   'series_length': '2',\n",
       "   'data_type': 'int'},\n",
       "  'B2:C2': {'series_header': 'horizontal_col_1',\n",
       "   'row_formulas': [None, None],\n",
       "   'row_values': [1, 2],\n",
       "   'header_location': 'left',\n",
       "   'series_starting_cell': {'row': 2, 'column': 2},\n",
       "   'series_length': '2',\n",
       "   'data_type': 'int'},\n",
       "  'B3:C3': {'series_header': 'horizontal_col_2',\n",
       "   'row_formulas': [None, None],\n",
       "   'row_values': [4, 5],\n",
       "   'header_location': 'left',\n",
       "   'series_starting_cell': {'row': 3, 'column': 2},\n",
       "   'series_length': '2',\n",
       "   'data_type': 'int'},\n",
       "  'B4:C4': {'series_header': 'horizontal_col_3',\n",
       "   'row_formulas': [None, None],\n",
       "   'row_values': [5, 7],\n",
       "   'header_location': 'left',\n",
       "   'series_starting_cell': {'row': 4, 'column': 2},\n",
       "   'series_length': '2',\n",
       "   'data_type': 'int'}},\n",
       " Worksheet(sheet_name='Sheet3', workbook_file_path=None, worksheet=None): {'A2:A3': {'series_header': 'col_1',\n",
       "   'row_formulas': [None, None],\n",
       "   'row_values': [4, 4],\n",
       "   'header_location': 'top',\n",
       "   'series_starting_cell': {'row': 2, 'column': 1},\n",
       "   'series_length': '2',\n",
       "   'data_type': 'int'},\n",
       "  'B2:B3': {'series_header': 'col_2',\n",
       "   'row_formulas': [None, None],\n",
       "   'row_values': [6, 6],\n",
       "   'header_location': 'top',\n",
       "   'series_starting_cell': {'row': 2, 'column': 2},\n",
       "   'series_length': '2',\n",
       "   'data_type': 'int'},\n",
       "  'C2:C3': {'series_header': 'col_3',\n",
       "   'row_formulas': [None, None],\n",
       "   'row_values': [10, 10],\n",
       "   'header_location': 'top',\n",
       "   'series_starting_cell': {'row': 2, 'column': 3},\n",
       "   'series_length': '2',\n",
       "   'data_type': 'int'},\n",
       "  'D2:D3': {'series_header': 'col_4',\n",
       "   'row_formulas': [None, None],\n",
       "   'row_values': ['col_4', 'col_4'],\n",
       "   'header_location': 'top',\n",
       "   'series_starting_cell': {'row': 2, 'column': 4},\n",
       "   'series_length': '2',\n",
       "   'data_type': 'str'},\n",
       "  'E2:E3': {'series_header': 'col_5',\n",
       "   'row_formulas': [None, None],\n",
       "   'row_values': [24, 24],\n",
       "   'header_location': 'top',\n",
       "   'series_starting_cell': {'row': 2, 'column': 5},\n",
       "   'series_length': '2',\n",
       "   'data_type': 'int'}}}"
      ]
     },
     "execution_count": 10,
     "metadata": {},
     "output_type": "execute_result"
    }
   ],
   "source": [
    "tables_data"
   ]
  },
  {
   "cell_type": "code",
   "execution_count": null,
   "metadata": {},
   "outputs": [],
   "source": []
  }
 ],
 "metadata": {
  "kernelspec": {
   "display_name": "venv",
   "language": "python",
   "name": "python3"
  },
  "language_info": {
   "codemirror_mode": {
    "name": "ipython",
    "version": 3
   },
   "file_extension": ".py",
   "mimetype": "text/x-python",
   "name": "python",
   "nbconvert_exporter": "python",
   "pygments_lexer": "ipython3",
   "version": "3.11.5"
  }
 },
 "nbformat": 4,
 "nbformat_minor": 2
}
