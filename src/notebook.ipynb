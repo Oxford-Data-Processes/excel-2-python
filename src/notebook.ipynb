{
 "cells": [
  {
   "cell_type": "code",
   "execution_count": 18,
   "metadata": {},
   "outputs": [],
   "source": [
    "import os\n",
    "import xlcalculator\n",
    "\n",
    "\n",
    "from series_extraction.excel_loader import ExcelLoader\n",
    "from series_extraction.excel_validator import ExcelValidator\n",
    "from series_extraction.excel_cleaner import ExcelCleaner\n",
    "from series_extraction.table_finder import TableFinder\n",
    "from series_extraction.series_extractor import SeriesExtractor\n",
    "from series_extraction.excel_compatibility_checker import ExcelCompatibilityChecker\n",
    "from series_extraction.series_iterator import SeriesIterator\n",
    "from series_extraction.series_mapper import SeriesMapper\n",
    "\n",
    "from ast_building.formula_parser import FormulaParser\n",
    "from ast_building.series_implementer import SeriesImplementer\n",
    "\n",
    "from formula_visualiser import FormulaVisualiser\n"
   ]
  },
  {
   "cell_type": "code",
   "execution_count": 19,
   "metadata": {},
   "outputs": [],
   "source": [
    "current_directory = os.getcwd()\n",
    "\n",
    "parent_directory = os.path.abspath(os.path.join(current_directory, os.pardir))\n",
    "data_directory = os.path.join(parent_directory, 'data')\n",
    "\n",
    "project_name = 'test_excel_8'\n",
    "\n",
    "excel_raw_file_path = os.path.join(data_directory, \"excel_files_raw\", f\"{project_name}_raw.xlsx\")\n",
    "excel_reduced_filepath = os.path.join(data_directory, \"excel_files_reduced\", f\"{project_name}_reduced.xlsx\")"
   ]
  },
  {
   "cell_type": "code",
   "execution_count": 20,
   "metadata": {},
   "outputs": [],
   "source": [
    "excel_raw= ExcelLoader.load_file(excel_raw_file_path)\n",
    "excel_reduced = ExcelLoader.load_file(excel_reduced_filepath)"
   ]
  },
  {
   "cell_type": "code",
   "execution_count": 21,
   "metadata": {},
   "outputs": [],
   "source": [
    "is_valid = ExcelValidator.validate_excel(excel_reduced)"
   ]
  },
  {
   "cell_type": "code",
   "execution_count": 22,
   "metadata": {},
   "outputs": [],
   "source": [
    "if not is_valid:\n",
    "    raise Exception(\"Excel file is not valid\")"
   ]
  },
  {
   "cell_type": "code",
   "execution_count": 23,
   "metadata": {},
   "outputs": [],
   "source": [
    "excel_reduced_clean = ExcelCleaner.clean_excel(excel_reduced)"
   ]
  },
  {
   "cell_type": "code",
   "execution_count": 24,
   "metadata": {},
   "outputs": [],
   "source": [
    "extracted_tables, data = TableFinder.find_tables(excel_reduced_clean)"
   ]
  },
  {
   "cell_type": "code",
   "execution_count": 25,
   "metadata": {},
   "outputs": [],
   "source": [
    "series_data = SeriesExtractor.extract_table_details(extracted_tables, data)"
   ]
  },
  {
   "cell_type": "code",
   "execution_count": 26,
   "metadata": {},
   "outputs": [],
   "source": [
    "is_compatible = ExcelCompatibilityChecker.check_file(excel_raw, excel_reduced, extracted_tables)"
   ]
  },
  {
   "cell_type": "code",
   "execution_count": 27,
   "metadata": {},
   "outputs": [],
   "source": [
    "if not is_compatible:\n",
    "    raise Exception(\"Excel file is not compatible\")"
   ]
  },
  {
   "cell_type": "code",
   "execution_count": 28,
   "metadata": {},
   "outputs": [],
   "source": [
    "series_dict = SeriesExtractor.extract_series(extracted_tables=extracted_tables, data=data)"
   ]
  },
  {
   "cell_type": "code",
   "execution_count": 29,
   "metadata": {},
   "outputs": [],
   "source": [
    "series_iterator = SeriesIterator.iterate_series(series_dict)"
   ]
  },
  {
   "cell_type": "code",
   "execution_count": 30,
   "metadata": {},
   "outputs": [],
   "source": [
    "series = None\n",
    "for item in series_iterator:\n",
    "    if item.formulas != [None, None]:\n",
    "        series = item\n",
    "        break\n"
   ]
  },
  {
   "cell_type": "code",
   "execution_count": 31,
   "metadata": {},
   "outputs": [
    {
     "data": {
      "text/plain": [
       "Series(series_id=UUID('f57cd5c3-c256-4f2a-9d28-6abc85980605'), worksheet=Worksheet(sheet_name='Sheet1', workbook_file_path=None, worksheet=None), series_header='Index_Match_Size', formulas=['=INDEX(B:B,MATCH(A2,A:A,0))', '=INDEX(B:B,MATCH(A3,A:A,0))'], values=['male', 'female'], header_location=<HeaderLocation.TOP: 'top'>, series_starting_cell=Cell(column=13, row=2, coordinate='M2', value=None, value_type=None), series_length=2, series_data_type=<SeriesDataType.STR: 'str'>)"
      ]
     },
     "execution_count": 31,
     "metadata": {},
     "output_type": "execute_result"
    }
   ],
   "source": [
    "series"
   ]
  },
  {
   "cell_type": "code",
   "execution_count": 32,
   "metadata": {},
   "outputs": [],
   "source": [
    "series_mapping = SeriesMapper.map_series(series_dict)"
   ]
  },
  {
   "cell_type": "code",
   "execution_count": 33,
   "metadata": {},
   "outputs": [],
   "source": [
    "formula_1 = series.formulas[0]\n",
    "formula_1_ast = FormulaParser.parse_formula(formula_1)"
   ]
  },
  {
   "cell_type": "code",
   "execution_count": 34,
   "metadata": {},
   "outputs": [
    {
     "ename": "KeyError",
     "evalue": "Cell(column=2, row=1, coordinate=None, value=None, value_type=None)",
     "output_type": "error",
     "traceback": [
      "\u001b[0;31m---------------------------------------------------------------------------\u001b[0m",
      "\u001b[0;31mKeyError\u001b[0m                                  Traceback (most recent call last)",
      "Cell \u001b[0;32mIn[34], line 3\u001b[0m\n\u001b[1;32m      1\u001b[0m series_implementer \u001b[38;5;241m=\u001b[39m SeriesImplementer(series_mapping, sheet_name \u001b[38;5;241m=\u001b[39m series\u001b[38;5;241m.\u001b[39mworksheet\u001b[38;5;241m.\u001b[39msheet_name)\n\u001b[0;32m----> 3\u001b[0m formula_1_ast_new \u001b[38;5;241m=\u001b[39m \u001b[43mseries_implementer\u001b[49m\u001b[38;5;241;43m.\u001b[39;49m\u001b[43mreplace_range_nodes\u001b[49m\u001b[43m(\u001b[49m\u001b[43mformula_1_ast\u001b[49m\u001b[43m)\u001b[49m\n",
      "File \u001b[0;32m~/GitHub/speedsheet/excel-2-python/src/ast_building/series_implementer.py:168\u001b[0m, in \u001b[0;36mSeriesImplementer.replace_range_nodes\u001b[0;34m(self, ast)\u001b[0m\n\u001b[1;32m    162\u001b[0m     \u001b[38;5;28;01mreturn\u001b[39;00m xlcalculator\u001b[38;5;241m.\u001b[39mast_nodes\u001b[38;5;241m.\u001b[39mRangeNode(\n\u001b[1;32m    163\u001b[0m         xlcalculator\u001b[38;5;241m.\u001b[39mtokenizer\u001b[38;5;241m.\u001b[39mf_token(\n\u001b[1;32m    164\u001b[0m             tvalue\u001b[38;5;241m=\u001b[39mseries_uuids, ttype\u001b[38;5;241m=\u001b[39m\u001b[38;5;124m\"\u001b[39m\u001b[38;5;124moperand\u001b[39m\u001b[38;5;124m\"\u001b[39m, tsubtype\u001b[38;5;241m=\u001b[39m\u001b[38;5;124m\"\u001b[39m\u001b[38;5;124mrange\u001b[39m\u001b[38;5;124m\"\u001b[39m\n\u001b[1;32m    165\u001b[0m         )\n\u001b[1;32m    166\u001b[0m     )\n\u001b[1;32m    167\u001b[0m \u001b[38;5;28;01melif\u001b[39;00m \u001b[38;5;28misinstance\u001b[39m(ast, xlcalculator\u001b[38;5;241m.\u001b[39mast_nodes\u001b[38;5;241m.\u001b[39mFunctionNode):\n\u001b[0;32m--> 168\u001b[0m     modified_args \u001b[38;5;241m=\u001b[39m \u001b[43m[\u001b[49m\n\u001b[1;32m    169\u001b[0m \u001b[43m        \u001b[49m\u001b[38;5;28;43mself\u001b[39;49m\u001b[38;5;241;43m.\u001b[39;49m\u001b[43mreplace_range_nodes\u001b[49m\u001b[43m(\u001b[49m\u001b[43marg\u001b[49m\u001b[43m)\u001b[49m\n\u001b[1;32m    170\u001b[0m \u001b[43m        \u001b[49m\u001b[38;5;28;43;01mfor\u001b[39;49;00m\u001b[43m \u001b[49m\u001b[43marg\u001b[49m\u001b[43m \u001b[49m\u001b[38;5;129;43;01min\u001b[39;49;00m\u001b[43m \u001b[49m\u001b[43mast\u001b[49m\u001b[38;5;241;43m.\u001b[39;49m\u001b[43margs\u001b[49m\u001b[43m  \u001b[49m\u001b[38;5;66;43;03m# Corrected to use self for instance method call\u001b[39;49;00m\n\u001b[1;32m    171\u001b[0m \u001b[43m    \u001b[49m\u001b[43m]\u001b[49m\n\u001b[1;32m    172\u001b[0m     modified_function_node \u001b[38;5;241m=\u001b[39m xlcalculator\u001b[38;5;241m.\u001b[39mast_nodes\u001b[38;5;241m.\u001b[39mFunctionNode(ast\u001b[38;5;241m.\u001b[39mtoken)\n\u001b[1;32m    173\u001b[0m     modified_function_node\u001b[38;5;241m.\u001b[39margs \u001b[38;5;241m=\u001b[39m modified_args\n",
      "File \u001b[0;32m~/GitHub/speedsheet/excel-2-python/src/ast_building/series_implementer.py:169\u001b[0m, in \u001b[0;36m<listcomp>\u001b[0;34m(.0)\u001b[0m\n\u001b[1;32m    162\u001b[0m     \u001b[38;5;28;01mreturn\u001b[39;00m xlcalculator\u001b[38;5;241m.\u001b[39mast_nodes\u001b[38;5;241m.\u001b[39mRangeNode(\n\u001b[1;32m    163\u001b[0m         xlcalculator\u001b[38;5;241m.\u001b[39mtokenizer\u001b[38;5;241m.\u001b[39mf_token(\n\u001b[1;32m    164\u001b[0m             tvalue\u001b[38;5;241m=\u001b[39mseries_uuids, ttype\u001b[38;5;241m=\u001b[39m\u001b[38;5;124m\"\u001b[39m\u001b[38;5;124moperand\u001b[39m\u001b[38;5;124m\"\u001b[39m, tsubtype\u001b[38;5;241m=\u001b[39m\u001b[38;5;124m\"\u001b[39m\u001b[38;5;124mrange\u001b[39m\u001b[38;5;124m\"\u001b[39m\n\u001b[1;32m    165\u001b[0m         )\n\u001b[1;32m    166\u001b[0m     )\n\u001b[1;32m    167\u001b[0m \u001b[38;5;28;01melif\u001b[39;00m \u001b[38;5;28misinstance\u001b[39m(ast, xlcalculator\u001b[38;5;241m.\u001b[39mast_nodes\u001b[38;5;241m.\u001b[39mFunctionNode):\n\u001b[1;32m    168\u001b[0m     modified_args \u001b[38;5;241m=\u001b[39m [\n\u001b[0;32m--> 169\u001b[0m         \u001b[38;5;28;43mself\u001b[39;49m\u001b[38;5;241;43m.\u001b[39;49m\u001b[43mreplace_range_nodes\u001b[49m\u001b[43m(\u001b[49m\u001b[43marg\u001b[49m\u001b[43m)\u001b[49m\n\u001b[1;32m    170\u001b[0m         \u001b[38;5;28;01mfor\u001b[39;00m arg \u001b[38;5;129;01min\u001b[39;00m ast\u001b[38;5;241m.\u001b[39margs  \u001b[38;5;66;03m# Corrected to use self for instance method call\u001b[39;00m\n\u001b[1;32m    171\u001b[0m     ]\n\u001b[1;32m    172\u001b[0m     modified_function_node \u001b[38;5;241m=\u001b[39m xlcalculator\u001b[38;5;241m.\u001b[39mast_nodes\u001b[38;5;241m.\u001b[39mFunctionNode(ast\u001b[38;5;241m.\u001b[39mtoken)\n\u001b[1;32m    173\u001b[0m     modified_function_node\u001b[38;5;241m.\u001b[39margs \u001b[38;5;241m=\u001b[39m modified_args\n",
      "File \u001b[0;32m~/GitHub/speedsheet/excel-2-python/src/ast_building/series_implementer.py:153\u001b[0m, in \u001b[0;36mSeriesImplementer.replace_range_nodes\u001b[0;34m(self, ast)\u001b[0m\n\u001b[1;32m    149\u001b[0m \u001b[38;5;28;01mdef\u001b[39;00m \u001b[38;5;21mreplace_range_nodes\u001b[39m(\u001b[38;5;28mself\u001b[39m, ast):\n\u001b[1;32m    151\u001b[0m     \u001b[38;5;28;01mif\u001b[39;00m \u001b[38;5;28misinstance\u001b[39m(ast, xlcalculator\u001b[38;5;241m.\u001b[39mast_nodes\u001b[38;5;241m.\u001b[39mRangeNode):\n\u001b[1;32m    152\u001b[0m         \u001b[38;5;66;03m# Accessing series_range from the instance method directly\u001b[39;00m\n\u001b[0;32m--> 153\u001b[0m         series_range \u001b[38;5;241m=\u001b[39m \u001b[38;5;28;43mself\u001b[39;49m\u001b[38;5;241;43m.\u001b[39;49m\u001b[43mget_series_range_from_cell_range\u001b[49m\u001b[43m(\u001b[49m\n\u001b[1;32m    154\u001b[0m \u001b[43m            \u001b[49m\u001b[43mseries_mapping\u001b[49m\u001b[38;5;241;43m=\u001b[39;49m\u001b[38;5;28;43mself\u001b[39;49m\u001b[38;5;241;43m.\u001b[39;49m\u001b[43mseries_mapping\u001b[49m\u001b[43m,\u001b[49m\u001b[43m  \u001b[49m\u001b[38;5;66;43;03m# Accessed via self\u001b[39;49;00m\n\u001b[1;32m    155\u001b[0m \u001b[43m            \u001b[49m\u001b[43msheet_name\u001b[49m\u001b[38;5;241;43m=\u001b[39;49m\u001b[38;5;28;43mself\u001b[39;49m\u001b[38;5;241;43m.\u001b[39;49m\u001b[43msheet_name\u001b[49m\u001b[43m,\u001b[49m\u001b[43m  \u001b[49m\u001b[38;5;66;43;03m# Assuming 'Sheet1' is intended or dynamically determined elsewhere\u001b[39;49;00m\n\u001b[1;32m    156\u001b[0m \u001b[43m            \u001b[49m\u001b[43mcell_range\u001b[49m\u001b[38;5;241;43m=\u001b[39;49m\u001b[43mast\u001b[49m\u001b[38;5;241;43m.\u001b[39;49m\u001b[43mtvalue\u001b[49m\u001b[43m,\u001b[49m\n\u001b[1;32m    157\u001b[0m \u001b[43m        \u001b[49m\u001b[43m)\u001b[49m\n\u001b[1;32m    158\u001b[0m         series_uuids \u001b[38;5;241m=\u001b[39m \u001b[38;5;28mself\u001b[39m\u001b[38;5;241m.\u001b[39mget_series_uuids_from_series_range(\n\u001b[1;32m    159\u001b[0m             series_range  \u001b[38;5;66;03m# Accessed via self\u001b[39;00m\n\u001b[1;32m    160\u001b[0m         )\n\u001b[1;32m    161\u001b[0m         \u001b[38;5;66;03m# Assuming xlcalculator.tokenizer.f_token exists and works as shown\u001b[39;00m\n",
      "File \u001b[0;32m~/GitHub/speedsheet/excel-2-python/src/ast_building/series_implementer.py:98\u001b[0m, in \u001b[0;36mSeriesImplementer.get_series_range_from_cell_range\u001b[0;34m(series_mapping, sheet_name, cell_range)\u001b[0m\n\u001b[1;32m     94\u001b[0m cells_in_range \u001b[38;5;241m=\u001b[39m SeriesImplementer\u001b[38;5;241m.\u001b[39mget_cells_between(cell_start, cell_end)\n\u001b[1;32m     95\u001b[0m worksheet \u001b[38;5;241m=\u001b[39m Worksheet(\n\u001b[1;32m     96\u001b[0m     sheet_name\u001b[38;5;241m=\u001b[39msheet_name, workbook_file_path\u001b[38;5;241m=\u001b[39m\u001b[38;5;28;01mNone\u001b[39;00m, worksheet\u001b[38;5;241m=\u001b[39m\u001b[38;5;28;01mNone\u001b[39;00m\n\u001b[1;32m     97\u001b[0m )\n\u001b[0;32m---> 98\u001b[0m series_list \u001b[38;5;241m=\u001b[39m \u001b[43m[\u001b[49m\n\u001b[1;32m     99\u001b[0m \u001b[43m    \u001b[49m\u001b[43mSeriesImplementer\u001b[49m\u001b[38;5;241;43m.\u001b[39;49m\u001b[43mget_series_from_cell_and_sheet_name\u001b[49m\u001b[43m(\u001b[49m\n\u001b[1;32m    100\u001b[0m \u001b[43m        \u001b[49m\u001b[43mseries_mapping\u001b[49m\u001b[38;5;241;43m=\u001b[39;49m\u001b[43mseries_mapping\u001b[49m\u001b[43m,\u001b[49m\u001b[43m \u001b[49m\u001b[43mworksheet\u001b[49m\u001b[38;5;241;43m=\u001b[39;49m\u001b[43mworksheet\u001b[49m\u001b[43m,\u001b[49m\u001b[43m \u001b[49m\u001b[43mcell\u001b[49m\u001b[38;5;241;43m=\u001b[39;49m\u001b[43mcell\u001b[49m\n\u001b[1;32m    101\u001b[0m \u001b[43m    \u001b[49m\u001b[43m)\u001b[49m\n\u001b[1;32m    102\u001b[0m \u001b[43m    \u001b[49m\u001b[38;5;28;43;01mfor\u001b[39;49;00m\u001b[43m \u001b[49m\u001b[43mcell\u001b[49m\u001b[43m \u001b[49m\u001b[38;5;129;43;01min\u001b[39;49;00m\u001b[43m \u001b[49m\u001b[43mcells_in_range\u001b[49m\n\u001b[1;32m    103\u001b[0m \u001b[43m\u001b[49m\u001b[43m]\u001b[49m\n\u001b[1;32m    105\u001b[0m series_range \u001b[38;5;241m=\u001b[39m SeriesRange(\n\u001b[1;32m    106\u001b[0m     series\u001b[38;5;241m=\u001b[39m[item[\u001b[38;5;241m1\u001b[39m] \u001b[38;5;28;01mfor\u001b[39;00m item \u001b[38;5;129;01min\u001b[39;00m series_list],\n\u001b[1;32m    107\u001b[0m     start_index\u001b[38;5;241m=\u001b[39mseries_list[\u001b[38;5;241m0\u001b[39m][\u001b[38;5;241m0\u001b[39m],\n\u001b[1;32m    108\u001b[0m     end_index\u001b[38;5;241m=\u001b[39mseries_list[\u001b[38;5;241m-\u001b[39m\u001b[38;5;241m1\u001b[39m][\u001b[38;5;241m0\u001b[39m],\n\u001b[1;32m    109\u001b[0m )\n\u001b[1;32m    111\u001b[0m \u001b[38;5;28;01mreturn\u001b[39;00m series_range\n",
      "File \u001b[0;32m~/GitHub/speedsheet/excel-2-python/src/ast_building/series_implementer.py:99\u001b[0m, in \u001b[0;36m<listcomp>\u001b[0;34m(.0)\u001b[0m\n\u001b[1;32m     94\u001b[0m cells_in_range \u001b[38;5;241m=\u001b[39m SeriesImplementer\u001b[38;5;241m.\u001b[39mget_cells_between(cell_start, cell_end)\n\u001b[1;32m     95\u001b[0m worksheet \u001b[38;5;241m=\u001b[39m Worksheet(\n\u001b[1;32m     96\u001b[0m     sheet_name\u001b[38;5;241m=\u001b[39msheet_name, workbook_file_path\u001b[38;5;241m=\u001b[39m\u001b[38;5;28;01mNone\u001b[39;00m, worksheet\u001b[38;5;241m=\u001b[39m\u001b[38;5;28;01mNone\u001b[39;00m\n\u001b[1;32m     97\u001b[0m )\n\u001b[1;32m     98\u001b[0m series_list \u001b[38;5;241m=\u001b[39m [\n\u001b[0;32m---> 99\u001b[0m     \u001b[43mSeriesImplementer\u001b[49m\u001b[38;5;241;43m.\u001b[39;49m\u001b[43mget_series_from_cell_and_sheet_name\u001b[49m\u001b[43m(\u001b[49m\n\u001b[1;32m    100\u001b[0m \u001b[43m        \u001b[49m\u001b[43mseries_mapping\u001b[49m\u001b[38;5;241;43m=\u001b[39;49m\u001b[43mseries_mapping\u001b[49m\u001b[43m,\u001b[49m\u001b[43m \u001b[49m\u001b[43mworksheet\u001b[49m\u001b[38;5;241;43m=\u001b[39;49m\u001b[43mworksheet\u001b[49m\u001b[43m,\u001b[49m\u001b[43m \u001b[49m\u001b[43mcell\u001b[49m\u001b[38;5;241;43m=\u001b[39;49m\u001b[43mcell\u001b[49m\n\u001b[1;32m    101\u001b[0m \u001b[43m    \u001b[49m\u001b[43m)\u001b[49m\n\u001b[1;32m    102\u001b[0m     \u001b[38;5;28;01mfor\u001b[39;00m cell \u001b[38;5;129;01min\u001b[39;00m cells_in_range\n\u001b[1;32m    103\u001b[0m ]\n\u001b[1;32m    105\u001b[0m series_range \u001b[38;5;241m=\u001b[39m SeriesRange(\n\u001b[1;32m    106\u001b[0m     series\u001b[38;5;241m=\u001b[39m[item[\u001b[38;5;241m1\u001b[39m] \u001b[38;5;28;01mfor\u001b[39;00m item \u001b[38;5;129;01min\u001b[39;00m series_list],\n\u001b[1;32m    107\u001b[0m     start_index\u001b[38;5;241m=\u001b[39mseries_list[\u001b[38;5;241m0\u001b[39m][\u001b[38;5;241m0\u001b[39m],\n\u001b[1;32m    108\u001b[0m     end_index\u001b[38;5;241m=\u001b[39mseries_list[\u001b[38;5;241m-\u001b[39m\u001b[38;5;241m1\u001b[39m][\u001b[38;5;241m0\u001b[39m],\n\u001b[1;32m    109\u001b[0m )\n\u001b[1;32m    111\u001b[0m \u001b[38;5;28;01mreturn\u001b[39;00m series_range\n",
      "File \u001b[0;32m~/GitHub/speedsheet/excel-2-python/src/ast_building/series_implementer.py:13\u001b[0m, in \u001b[0;36mSeriesImplementer.get_series_from_cell_and_sheet_name\u001b[0;34m(series_mapping, worksheet, cell)\u001b[0m\n\u001b[1;32m     11\u001b[0m \u001b[38;5;129m@staticmethod\u001b[39m\n\u001b[1;32m     12\u001b[0m \u001b[38;5;28;01mdef\u001b[39;00m \u001b[38;5;21mget_series_from_cell_and_sheet_name\u001b[39m(series_mapping, worksheet, cell):\n\u001b[0;32m---> 13\u001b[0m     \u001b[38;5;28;01mreturn\u001b[39;00m \u001b[43mseries_mapping\u001b[49m\u001b[43m[\u001b[49m\u001b[43mworksheet\u001b[49m\u001b[43m]\u001b[49m\u001b[43m[\u001b[49m\u001b[43mcell\u001b[49m\u001b[43m]\u001b[49m\n",
      "\u001b[0;31mKeyError\u001b[0m: Cell(column=2, row=1, coordinate=None, value=None, value_type=None)"
     ]
    }
   ],
   "source": [
    "series_implementer = SeriesImplementer(series_mapping, sheet_name = series.worksheet.sheet_name)\n",
    "\n",
    "formula_1_ast_new = series_implementer.replace_range_nodes(formula_1_ast)"
   ]
  },
  {
   "cell_type": "code",
   "execution_count": null,
   "metadata": {},
   "outputs": [],
   "source": [
    "formula_1_new = SeriesImplementer.serialise_ast_to_formula(formula_1_ast_new)"
   ]
  },
  {
   "cell_type": "code",
   "execution_count": null,
   "metadata": {},
   "outputs": [
    {
     "data": {
      "text/plain": [
       "'(SUM(88734fa4c9ea4b8f9548108b3e7bdde5_0_1) + SUM(88734fa4c9ea4b8f9548108b3e7bdde5_0_1))'"
      ]
     },
     "execution_count": 19,
     "metadata": {},
     "output_type": "execute_result"
    }
   ],
   "source": [
    "formula_1_new"
   ]
  },
  {
   "cell_type": "code",
   "execution_count": null,
   "metadata": {},
   "outputs": [],
   "source": [
    "formula_1_ast_new = FormulaParser.parse_formula(f'={formula_1_new}')"
   ]
  },
  {
   "cell_type": "code",
   "execution_count": null,
   "metadata": {},
   "outputs": [
    {
     "data": {
      "text/plain": [
       "'formula_1_ast_new.png'"
      ]
     },
     "execution_count": 21,
     "metadata": {},
     "output_type": "execute_result"
    }
   ],
   "source": [
    "formula_visualiser = FormulaVisualiser()\n",
    "ast_graph = formula_visualiser.visualise(formula_1_ast_new)\n",
    "ast_graph.render('formula_1_ast_new')"
   ]
  },
  {
   "cell_type": "code",
   "execution_count": null,
   "metadata": {},
   "outputs": [],
   "source": []
  }
 ],
 "metadata": {
  "kernelspec": {
   "display_name": "venv",
   "language": "python",
   "name": "python3"
  },
  "language_info": {
   "codemirror_mode": {
    "name": "ipython",
    "version": 3
   },
   "file_extension": ".py",
   "mimetype": "text/x-python",
   "name": "python",
   "nbconvert_exporter": "python",
   "pygments_lexer": "ipython3",
   "version": "3.11.5"
  }
 },
 "nbformat": 4,
 "nbformat_minor": 2
}
