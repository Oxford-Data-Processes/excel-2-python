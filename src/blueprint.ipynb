{
 "cells": [
  {
   "cell_type": "markdown",
   "metadata": {},
   "source": [
    "What kind of file format or config file can I use to provide a detailed description of a Python pipeline, ie. a blueprint? How can I build a build_pipeline method that translates from blueprint to pipeline?"
   ]
  },
  {
   "cell_type": "markdown",
   "metadata": {},
   "source": []
  }
 ],
 "metadata": {
  "language_info": {
   "name": "python"
  }
 },
 "nbformat": 4,
 "nbformat_minor": 2
}
