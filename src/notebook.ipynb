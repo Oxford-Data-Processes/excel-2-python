{
 "cells": [
  {
   "cell_type": "code",
   "execution_count": 1,
   "metadata": {},
   "outputs": [],
   "source": [
    "import os\n",
    "\n",
    "from series_extraction.excel_loader import ExcelLoader\n",
    "from series_extraction.excel_cleaner import ExcelCleaner\n",
    "from series_extraction.table_extractor import TableExtractor\n",
    "from series_extraction.series_extractor import SeriesExtractor\n",
    "from series_extraction.excel_compatibility_checker import ExcelCompatibilityChecker\n",
    "from series_extraction.series_iterator import SeriesIterator\n",
    "from series_extraction.series_mapper import SeriesMapper\n",
    "from series_extraction.excel_validator import ExcelValidator\n",
    "\n",
    "from ast_transformation.formula_generator import FormulaGenerator\n",
    "\n",
    "from ast_building.formula_parser import FormulaParser\n",
    "\n",
    "from excel_builder import ExcelBuilder"
   ]
  },
  {
   "cell_type": "code",
   "execution_count": 2,
   "metadata": {},
   "outputs": [],
   "source": [
    "data_directory = \"/Users/chrislittle/GitHub/speedsheet/excel-2-python/data\"\n",
    "\n",
    "project_name = 'test_excel_2'\n",
    "\n",
    "excel_raw_file_path = os.path.join(data_directory, \"excel_files_raw\", f\"{project_name}_raw.xlsx\")\n",
    "excel_reduced_filepath = os.path.join(data_directory, \"excel_files_reduced\", f\"{project_name}_reduced.xlsx\")\n",
    "excel_reduced_clean_filepath = os.path.join(data_directory, \"excel_files_reduced_clean\", f\"{project_name}_reduced_clean.xlsx\")\n",
    "excel_raw_clean_filepath = os.path.join(data_directory, \"excel_files_raw_clean\", f\"{project_name}_raw_clean.xlsx\")\n",
    "excel_reduced_clean_series_filepath = os.path.join(data_directory, \"excel_files_reduced_clean_series\", f\"{project_name}_reduced_clean_series.xlsx\")\n",
    "excel_reduced_clean_series_python_filepath = os.path.join(data_directory, \"excel_files_reduced_clean_series_python\", f\"{project_name}_reduced_clean_series_python.xlsx\")\n",
    "excel_raw_clean_series_python_filepath = os.path.join(data_directory, \"excel_files_raw_clean_series_python\", f\"{project_name}_raw_clean_series_python.xlsx\")"
   ]
  },
  {
   "cell_type": "code",
   "execution_count": 3,
   "metadata": {},
   "outputs": [],
   "source": [
    "from formulas.tokens.operand import Range\n",
    "from objects import Cell\n",
    "\n",
    "from excel_utils import ExcelUtils\n",
    "from typing import List\n",
    "\n",
    "\n",
    "class SeriesImplementer:\n",
    "        \n",
    "    @staticmethod\n",
    "    def implement_series(sheet_name, formula_ast_elements, series_mapping):\n",
    "        \"\"\"Implement series in formula AST\"\"\"\n",
    "        for index, element in enumerate(formula_ast_elements):\n",
    "            if isinstance(element, Range):\n",
    "                cell_range_string = element.name\n",
    "\n",
    "                _, cell_range = ExcelUtils.extract_cell_ranges_from_string(cell_range_string)\n",
    "                \n",
    "                cell_start_column, _, cell_end_column, _, _ = ExcelUtils.get_coordinates_from_range(cell_range)\n",
    "\n",
    "                columns_in_range = list(range(cell_start_column, cell_end_column + 1))\n",
    "\n",
    "                series_id_list = []\n",
    "                \n",
    "                for column in columns_in_range:\n",
    "                    print(f\"sheet_name: {sheet_name}, column: {column}\")\n",
    "        \n",
    "                    series = series_mapping.get((sheet_name, column))\n",
    "                    series_id_list.append(str(series.series_id))\n",
    "\n",
    "                formula_ast_elements[index] = series_id_list\n",
    "                \n",
    "        return formula_ast_elements\n"
   ]
  },
  {
   "cell_type": "code",
   "execution_count": 4,
   "metadata": {},
   "outputs": [],
   "source": [
    "excel_raw= ExcelLoader.load_file(excel_raw_file_path)\n",
    "excel_reduced = ExcelLoader.load_file(excel_reduced_filepath)\n",
    "is_valid = ExcelValidator.validate_excel(excel_reduced)\n",
    "if not is_valid:\n",
    "    raise Exception(\"Excel file is not valid\")\n",
    "\n",
    "excel_reduced_clean = ExcelCleaner.clean_excel(excel_reduced)\n",
    "excel_raw_clean = ExcelCleaner.clean_excel(excel_raw)\n",
    "ExcelBuilder.create_excel_from_workbook(excel_reduced_clean.workbook_with_formulas, excel_reduced_clean_filepath)\n",
    "ExcelBuilder.create_excel_from_workbook(excel_raw_clean.workbook_with_formulas,  excel_raw_clean_filepath)\n",
    "\n",
    "extracted_tables, workbook_data = TableExtractor.extract_tables(excel_reduced_clean)\n",
    "is_compatible = ExcelCompatibilityChecker.check_file(excel_raw, excel_reduced, extracted_tables)\n",
    "if not is_compatible:\n",
    "    raise Exception(\"Excel file is not compatible\")\n",
    "\n",
    "series_dict = SeriesExtractor.extract_series(extracted_tables=extracted_tables, workbook_data=workbook_data)\n",
    "series_mapping = SeriesMapper.map_series(series_dict)\n",
    "series_iterator = SeriesIterator.iterate_series(series_dict)\n",
    "\n",
    "series_list = [series for series in series_iterator]\n",
    "\n",
    "series_list_with_formulas = [\n",
    "    series for series in series_list if series.formulas != [None, None]\n",
    "]\n",
    "series_list_with_values = [\n",
    "    series for series in series_list if series.formulas == [None, None]\n",
    "]\n",
    "\n",
    "generic_formula_dictionary = {}\n",
    "\n",
    "for series in series_list_with_formulas:\n",
    "    formula_1, formula_2 = series.formulas\n",
    "    \n",
    "    if formula_1 is not None and formula_2 is not None:\n",
    "\n",
    "        formula_1_ast_elements, _ = FormulaParser.parse_formula(formula_1)\n",
    "        formula_2_ast_elements, _ = FormulaParser.parse_formula(formula_2)\n",
    "\n",
    "        generic_formula = FormulaGenerator.generate_generic_formula(formula_1_ast_elements, formula_2_ast_elements)\n",
    "\n",
    "        sheet_name = series.series_id.sheet_name\n",
    "\n",
    "        generic_formula_dictionary[series.series_id] = (formula_1_ast_elements, generic_formula)"
   ]
  },
  {
   "cell_type": "code",
   "execution_count": 21,
   "metadata": {},
   "outputs": [],
   "source": [
    "formula_1_ast_elements, generic_formula = list(generic_formula_dictionary.values())[3]"
   ]
  },
  {
   "cell_type": "code",
   "execution_count": 22,
   "metadata": {},
   "outputs": [
    {
     "data": {
      "text/plain": [
       "[H2 <Range>,\n",
       " - <Operator>,\n",
       " ( <Parenthesis>,\n",
       " H2 <Range>,\n",
       " / <Operator>,\n",
       " 1.2 <Number>,\n",
       " ) <Parenthesis>]"
      ]
     },
     "execution_count": 22,
     "metadata": {},
     "output_type": "execute_result"
    }
   ],
   "source": [
    "formula_1_ast_elements"
   ]
  },
  {
   "cell_type": "code",
   "execution_count": 23,
   "metadata": {},
   "outputs": [],
   "source": [
    "def apply_delta_to_range(range, delta):\n",
    "    \"\"\"Apply delta to range\"\"\"\n",
    "\n",
    "    cell_start_column_delta, cell_start_row_delta, cell_end_column_delta, cell_end_row_delta = delta\n",
    "    \n",
    "    \n",
    "    cell_start_column, cell_start_row, cell_end_column, cell_end_row, is_column_range = ExcelUtils.get_coordinates_from_range(range.name)\n",
    "    \n",
    "    cell_start_column += cell_start_column_delta\n",
    "    cell_start_row += cell_start_row_delta\n",
    "    cell_end_column += cell_end_column_delta\n",
    "    cell_end_row += cell_end_row_delta\n",
    "    \n",
    "    new_range = ExcelUtils.get_range_from_coordinates(cell_start_column, cell_start_row, cell_end_column, cell_end_row, is_column_range)\n",
    "    \n",
    "    return new_range"
   ]
  },
  {
   "cell_type": "code",
   "execution_count": 24,
   "metadata": {},
   "outputs": [
    {
     "data": {
      "text/plain": [
       "{0: (0, 1, 0, 1), 3: (0, 1, 0, 1)}"
      ]
     },
     "execution_count": 24,
     "metadata": {},
     "output_type": "execute_result"
    }
   ],
   "source": [
    "generic_formula"
   ]
  },
  {
   "cell_type": "code",
   "execution_count": 25,
   "metadata": {},
   "outputs": [],
   "source": [
    "def generate_formula_list(formula_1_ast_elements, generic_formula):\n",
    "\n",
    "    list_length = 2\n",
    "\n",
    "    formula_list = []\n",
    "\n",
    "    for _ in range(list_length):\n",
    "        for index, element in enumerate(formula_1_ast_elements):\n",
    "            if isinstance(element, Range):\n",
    "                delta = generic_formula[index]\n",
    "                print(f\"delta: {delta}\")\n",
    "                new_element = apply_delta_to_range(element, delta)\n",
    "                print(f\"new_element: {new_element}\")\n",
    "                formula_1_ast_elements[index] = new_element\n",
    "                print(f\"formula_1_ast_elements: {formula_1_ast_elements}\")\n",
    "                formula_list.append(formula_1_ast_elements)\n",
    "\n",
    "    return formula_list"
   ]
  },
  {
   "cell_type": "code",
   "execution_count": 26,
   "metadata": {},
   "outputs": [
    {
     "name": "stdout",
     "output_type": "stream",
     "text": [
      "delta: (0, 1, 0, 1)\n",
      "new_element: H3:H3\n",
      "formula_1_ast_elements: ['H3:H3', - <Operator>, ( <Parenthesis>, H2 <Range>, / <Operator>, 1.2 <Number>, ) <Parenthesis>]\n",
      "delta: (0, 1, 0, 1)\n",
      "new_element: H3:H3\n",
      "formula_1_ast_elements: ['H3:H3', - <Operator>, ( <Parenthesis>, 'H3:H3', / <Operator>, 1.2 <Number>, ) <Parenthesis>]\n"
     ]
    },
    {
     "data": {
      "text/plain": [
       "[['H3:H3',\n",
       "  - <Operator>,\n",
       "  ( <Parenthesis>,\n",
       "  'H3:H3',\n",
       "  / <Operator>,\n",
       "  1.2 <Number>,\n",
       "  ) <Parenthesis>],\n",
       " ['H3:H3',\n",
       "  - <Operator>,\n",
       "  ( <Parenthesis>,\n",
       "  'H3:H3',\n",
       "  / <Operator>,\n",
       "  1.2 <Number>,\n",
       "  ) <Parenthesis>]]"
      ]
     },
     "execution_count": 26,
     "metadata": {},
     "output_type": "execute_result"
    }
   ],
   "source": [
    "generate_formula_list(formula_1_ast_elements, generic_formula)"
   ]
  },
  {
   "cell_type": "code",
   "execution_count": null,
   "metadata": {},
   "outputs": [],
   "source": []
  },
  {
   "cell_type": "code",
   "execution_count": null,
   "metadata": {},
   "outputs": [],
   "source": []
  }
 ],
 "metadata": {
  "kernelspec": {
   "display_name": "venv",
   "language": "python",
   "name": "python3"
  },
  "language_info": {
   "codemirror_mode": {
    "name": "ipython",
    "version": 3
   },
   "file_extension": ".py",
   "mimetype": "text/x-python",
   "name": "python",
   "nbconvert_exporter": "python",
   "pygments_lexer": "ipython3",
   "version": "3.11.5"
  }
 },
 "nbformat": 4,
 "nbformat_minor": 2
}
