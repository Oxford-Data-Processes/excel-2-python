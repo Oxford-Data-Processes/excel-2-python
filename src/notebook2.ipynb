{
 "cells": [
  {
   "cell_type": "code",
   "execution_count": 1,
   "metadata": {},
   "outputs": [],
   "source": [
    "# Build a formula evaluator"
   ]
  },
  {
   "cell_type": "code",
   "execution_count": 2,
   "metadata": {},
   "outputs": [],
   "source": [
    "import pickle\n",
    "\n",
    "def load_pickled_object(file_path):\n",
    "    with open(file_path, 'rb') as file:\n",
    "        obj = pickle.load(file)\n",
    "    return obj"
   ]
  },
  {
   "cell_type": "code",
   "execution_count": 3,
   "metadata": {},
   "outputs": [],
   "source": [
    "generic_formula_dictionary = load_pickled_object('generic_formula_dictionary.pkl')\n",
    "series_dict = load_pickled_object('series_dict.pkl')"
   ]
  },
  {
   "cell_type": "code",
   "execution_count": 4,
   "metadata": {},
   "outputs": [
    {
     "data": {
      "text/plain": [
       "[Series(series_id=SeriesId(sheet_name='Sheet1', series_header='col_1', series_header_cell_row=2, series_header_cell_column=2), worksheet=Worksheet(sheet_name='Sheet1', workbook_file_path=None, worksheet=None), series_header='col_1', formulas=[None, None], values=[1, 3], header_location=<HeaderLocation.TOP: 'top'>, series_starting_cell=Cell(column=2, row=3, coordinate='B3', sheet_name=None, value=None, value_type=None, formula=None), series_length=2, series_data_type=<SeriesDataType.INT: 'int'>),\n",
       " Series(series_id=SeriesId(sheet_name='Sheet1', series_header='col_2', series_header_cell_row=2, series_header_cell_column=3), worksheet=Worksheet(sheet_name='Sheet1', workbook_file_path=None, worksheet=None), series_header='col_2', formulas=[None, None], values=[2, 4], header_location=<HeaderLocation.TOP: 'top'>, series_starting_cell=Cell(column=3, row=3, coordinate='C3', sheet_name=None, value=None, value_type=None, formula=None), series_length=2, series_data_type=<SeriesDataType.INT: 'int'>),\n",
       " Series(series_id=SeriesId(sheet_name='Sheet1', series_header='col_3', series_header_cell_row=2, series_header_cell_column=4), worksheet=Worksheet(sheet_name='Sheet1', workbook_file_path=None, worksheet=None), series_header='col_3', formulas=['=Sheet1!B3+Sheet1!C3', '=Sheet1!B4+Sheet1!C4'], values=[3, 7], header_location=<HeaderLocation.TOP: 'top'>, series_starting_cell=Cell(column=4, row=3, coordinate='D3', sheet_name=None, value=None, value_type=None, formula=None), series_length=2, series_data_type=<SeriesDataType.INT: 'int'>),\n",
       " Series(series_id=SeriesId(sheet_name='Sheet1', series_header='col_4', series_header_cell_row=2, series_header_cell_column=5), worksheet=Worksheet(sheet_name='Sheet1', workbook_file_path=None, worksheet=None), series_header='col_4', formulas=['=SUM(Sheet1!B3:D3)', '=SUM(Sheet1!B4:D4)'], values=[6, 14], header_location=<HeaderLocation.TOP: 'top'>, series_starting_cell=Cell(column=5, row=3, coordinate='E3', sheet_name=None, value=None, value_type=None, formula=None), series_length=2, series_data_type=<SeriesDataType.INT: 'int'>),\n",
       " Series(series_id=SeriesId(sheet_name='Sheet1', series_header='col_1', series_header_cell_row=13, series_header_cell_column=7), worksheet=Worksheet(sheet_name='Sheet1', workbook_file_path=None, worksheet=None), series_header='col_1', formulas=[None, None], values=[1, 3], header_location=<HeaderLocation.TOP: 'top'>, series_starting_cell=Cell(column=7, row=14, coordinate='G14', sheet_name=None, value=None, value_type=None, formula=None), series_length=2, series_data_type=<SeriesDataType.INT: 'int'>),\n",
       " Series(series_id=SeriesId(sheet_name='Sheet1', series_header='col_2', series_header_cell_row=13, series_header_cell_column=8), worksheet=Worksheet(sheet_name='Sheet1', workbook_file_path=None, worksheet=None), series_header='col_2', formulas=[None, None], values=[2, 4], header_location=<HeaderLocation.TOP: 'top'>, series_starting_cell=Cell(column=8, row=14, coordinate='H14', sheet_name=None, value=None, value_type=None, formula=None), series_length=2, series_data_type=<SeriesDataType.INT: 'int'>),\n",
       " Series(series_id=SeriesId(sheet_name='Sheet1', series_header='col_3', series_header_cell_row=13, series_header_cell_column=9), worksheet=Worksheet(sheet_name='Sheet1', workbook_file_path=None, worksheet=None), series_header='col_3', formulas=['=Sheet1!G14+Sheet1!H14', '=Sheet1!G15+Sheet1!H15'], values=[3, 7], header_location=<HeaderLocation.TOP: 'top'>, series_starting_cell=Cell(column=9, row=14, coordinate='I14', sheet_name=None, value=None, value_type=None, formula=None), series_length=2, series_data_type=<SeriesDataType.INT: 'int'>),\n",
       " Series(series_id=SeriesId(sheet_name='Sheet1', series_header='col_4', series_header_cell_row=13, series_header_cell_column=10), worksheet=Worksheet(sheet_name='Sheet1', workbook_file_path=None, worksheet=None), series_header='col_4', formulas=['=SUM(Sheet1!G14:Sheet1!I14)', '=SUM(Sheet1!G15:Sheet1!I15)'], values=[6, 14], header_location=<HeaderLocation.TOP: 'top'>, series_starting_cell=Cell(column=10, row=14, coordinate='J14', sheet_name=None, value=None, value_type=None, formula=None), series_length=2, series_data_type=<SeriesDataType.INT: 'int'>),\n",
       " Series(series_id=SeriesId(sheet_name='Sheet1', series_header='horizontal_column_1', series_header_cell_row=12, series_header_cell_column=2), worksheet=Worksheet(sheet_name='Sheet1', workbook_file_path=None, worksheet=None), series_header='horizontal_column_1', formulas=[None, None], values=[1, 2], header_location=<HeaderLocation.LEFT: 'left'>, series_starting_cell=Cell(column=3, row=12, coordinate='C12', sheet_name=None, value=None, value_type=None, formula=None), series_length=2, series_data_type=<SeriesDataType.INT: 'int'>),\n",
       " Series(series_id=SeriesId(sheet_name='Sheet1', series_header='horizontal_column_2', series_header_cell_row=13, series_header_cell_column=2), worksheet=Worksheet(sheet_name='Sheet1', workbook_file_path=None, worksheet=None), series_header='horizontal_column_2', formulas=['=C12*2', '=D12*2'], values=[2, 4], header_location=<HeaderLocation.LEFT: 'left'>, series_starting_cell=Cell(column=3, row=13, coordinate='C13', sheet_name=None, value=None, value_type=None, formula=None), series_length=2, series_data_type=<SeriesDataType.INT: 'int'>)]"
      ]
     },
     "execution_count": 4,
     "metadata": {},
     "output_type": "execute_result"
    }
   ],
   "source": [
    "series_dict[\"Sheet1\"]"
   ]
  },
  {
   "cell_type": "code",
   "execution_count": 5,
   "metadata": {},
   "outputs": [],
   "source": [
    "# import pandas as pd\n",
    "# import xlcalculator\n",
    "# import ast\n",
    "# import copy\n",
    "# import xlcalculator.ast_nodes as ast_nodes\n",
    "# import xlcalculator.tokenizer as tokenizer\n",
    "\n",
    "\n",
    "\n",
    "# class FormulaEvaluator:\n",
    "\n",
    "#     def __init__(self, series_dict):\n",
    "#         self.local_env = {\"SUM\": self.SUM}\n",
    "#         self.series_dict = series_dict\n",
    "\n",
    "#     def get_values_from_series(self, series_tuple):\n",
    "#         series_ids, indexes, _ = series_tuple\n",
    "#         series_values = self.series_dict[series_ids[0]]\n",
    "#         start_index, end_index = indexes\n",
    "#         return series_values[start_index:end_index]\n",
    "\n",
    "#     def SUM(self, series_tuple_string: str):\n",
    "#         series_tuple = ast.literal_eval(series_tuple_string)\n",
    "#         return sum(self.get_values_from_series(series_tuple))\n",
    "\n",
    "#     def evaluate_sum(self, sum_formula: str):\n",
    "#         tree = ast.parse(sum_formula, mode=\"eval\")\n",
    "#         compiled = compile(tree, filename=\"<ast>\", mode=\"eval\")\n",
    "#         result = eval(compiled, {\"__builtins__\": {}}, self.local_env)\n",
    "#         return result\n",
    "\n",
    "# class FormulaListGenerator:\n",
    "#     def __init__(self, formula_ast):\n",
    "#         self.formula_ast = formula_ast\n",
    "\n",
    "#     def adjust_indices(self, node, index_increment):\n",
    "#         if isinstance(node, ast_nodes.FunctionNode):\n",
    "#             self.adjust_function_node_indices(node, index_increment)\n",
    "#         elif hasattr(node, 'left') and hasattr(node, 'right'):\n",
    "#             self.adjust_indices(node.left, index_increment)\n",
    "#             self.adjust_indices(node.right, index_increment)\n",
    "\n",
    "#     def adjust_function_node_indices(self, node, index_increment):\n",
    "#         new_args = []\n",
    "#         for arg in node.args:\n",
    "#             new_args.append(self.adjust_operand_node(arg, index_increment) if isinstance(arg, ast_nodes.OperandNode) else arg)\n",
    "#         node.args = new_args\n",
    "\n",
    "#     def adjust_operand_node(self, arg, index_increment):\n",
    "#         parts = ast.literal_eval(arg.tvalue)\n",
    "#         series_tuple, indexes, deltas = parts\n",
    "#         updated_indexes = (indexes[0] + index_increment, indexes[1] + index_increment)\n",
    "#         updated_tvalue = f\"(({repr(series_tuple[0])},), {updated_indexes}, {deltas})\"\n",
    "#         return ast_nodes.OperandNode(tokenizer.f_token(tvalue=updated_tvalue, ttype=\"operand\", tsubtype=\"text\"))\n",
    "\n",
    "#     def generate_formulas_list(self, start_index: int, end_index: int):\n",
    "#         return [self.generate_single_formula(i) for i in range(start_index, end_index + 1)]\n",
    "\n",
    "#     def generate_single_formula(self, index_increment):\n",
    "#         new_ast = copy.deepcopy(self.formula_ast)\n",
    "#         self.adjust_indices(new_ast, index_increment)\n",
    "#         return new_ast\n"
   ]
  },
  {
   "cell_type": "code",
   "execution_count": 6,
   "metadata": {},
   "outputs": [],
   "source": [
    "# import xlcalculator\n",
    "\n",
    "# # Define the formula\n",
    "# formula = \"((('Sheet1|col_1|2|2',), (0, 0), (1, 1))) + ((('Sheet1|col_2|2|3',), (0, 0), (1, 1)))\"\n",
    "\n",
    "# formula_ast = xlcalculator.ast_nodes.OperatorNode(xlcalculator.tokenizer.f_token(\n",
    "#     tvalue='+', ttype='operator-infix', tsubtype=''\n",
    "# ))\n",
    "\n",
    "# formula_ast.left = xlcalculator.ast_nodes.FunctionNode(xlcalculator.tokenizer.f_token(\n",
    "#     tvalue=\"SUM\", ttype=\"function\", tsubtype=\"\"\n",
    "# ))\n",
    "\n",
    "# formula_ast.left.args = [\n",
    "#     xlcalculator.ast_nodes.OperandNode(xlcalculator.tokenizer.f_token(\n",
    "#         tvalue=\"(('Sheet1|col_1|2|2',), (0, 1), (1, 1))\", ttype=\"operand\", tsubtype=\"text\"\n",
    "#     ))\n",
    "# ]\n",
    "\n",
    "# formula_ast.right = xlcalculator.ast_nodes.FunctionNode(xlcalculator.tokenizer.f_token(\n",
    "#     tvalue=\"SUM\", ttype=\"function\", tsubtype=\"\"\n",
    "# ))\n",
    "\n",
    "# formula_ast.right.args = [\n",
    "#     xlcalculator.ast_nodes.OperandNode(xlcalculator.tokenizer.f_token(\n",
    "#         tvalue=\"(('Sheet1|col_2|2|3',), (0, 1), (1, 1))\", ttype=\"operand\", tsubtype=\"text\"\n",
    "#     ))\n",
    "# ]"
   ]
  },
  {
   "cell_type": "code",
   "execution_count": 7,
   "metadata": {},
   "outputs": [],
   "source": [
    "import xlcalculator\n",
    "from xlcalculator.ast_nodes import OperatorNode, RangeNode\n",
    "from xlcalculator.tokenizer import f_token\n",
    "\n",
    "# Define the formula\n",
    "formula = \"((('Sheet1|col_1|2|2',), (0, 0), (1, 1))) + ((('Sheet1|col_2|2|3',), (0, 0), (1, 1)))\"\n",
    "\n",
    "# Create the AST for the formula\n",
    "formula_ast = OperatorNode(f_token(\n",
    "    tvalue='+', ttype='operator-infix', tsubtype=''\n",
    "))\n",
    "\n",
    "formula_ast.left = RangeNode(f_token(\n",
    "        tvalue=\"(('Sheet1|col_1|2|2',), (0, 0), (1, 1))\", ttype=\"operand\", tsubtype=\"text\"\n",
    "    ))\n",
    "\n",
    "formula_ast.right = RangeNode(f_token(\n",
    "        tvalue=\"(('Sheet1|col_2|2|3',), (0, 0), (1, 1))\", ttype=\"operand\", tsubtype=\"text\"\n",
    "    ))"
   ]
  },
  {
   "cell_type": "code",
   "execution_count": 8,
   "metadata": {},
   "outputs": [
    {
     "data": {
      "text/plain": [
       "'(\"((\\'Sheet1|col_1|2|2\\',), (0, 0), (1, 1))\") + (\"((\\'Sheet1|col_2|2|3\\',), (0, 0), (1, 1))\")'"
      ]
     },
     "execution_count": 8,
     "metadata": {},
     "output_type": "execute_result"
    }
   ],
   "source": [
    "str(formula_ast)"
   ]
  },
  {
   "cell_type": "code",
   "execution_count": 9,
   "metadata": {},
   "outputs": [],
   "source": [
    "# import numpy as np\n",
    "# from numpy.typing import NDArray\n",
    "# from xlcalculator.ast_nodes import ASTNode  # Assuming ASTNode is the correct import\n",
    "\n",
    "# class FormulaEvaluator:\n",
    "#     def __init__(self, series_dict):\n",
    "#         self.local_env = {\"SUM\": self.SUM}\n",
    "#         self.series_dict = series_dict\n",
    "\n",
    "#     def get_values_from_series(self, series_tuple) -> NDArray[np.float64]:\n",
    "#         series_ids, indexes, _ = series_tuple\n",
    "#         values = np.array([], dtype=np.float64)  # Ensure the array is of type float64\n",
    "#         for series_id in series_ids:\n",
    "#             series_values = self.series_dict[series_id]\n",
    "#             start_index, end_index = indexes\n",
    "#             values = np.concatenate(\n",
    "#                 (values, series_values[start_index:end_index + 1])\n",
    "#             )\n",
    "#         return values\n",
    "\n",
    "#     def SUM(self, series_tuple: tuple):\n",
    "#         return np.sum(self.get_values_from_series(series_tuple))\n",
    "\n",
    "#     def evaluate_formula(self, formula: ASTNode):\n",
    "#         if not isinstance(formula, ASTNode):\n",
    "#             raise TypeError(\"Formula must be an instance of xlcalculator.ast_nodes.ASTNode.\")\n",
    "        \n",
    "#         result = eval(compile(formula.to_python_code(), filename=\"<ast>\", mode=\"eval\"), {}, self.local_env)\n",
    "#         return result"
   ]
  },
  {
   "cell_type": "code",
   "execution_count": 12,
   "metadata": {},
   "outputs": [],
   "source": [
    "from xlcalculator import ModelCompiler, Model, Evaluator\n",
    "\n",
    "# Create a model compiler and model instance\n",
    "compiler = ModelCompiler()\n",
    "model = Model()\n",
    "\n",
    "# Assume you've added data to the model, possibly like this:\n",
    "model.set_cell_value('Sheet1!A1', 10)\n",
    "model.set_cell_value('Sheet1!A2', 20)\n",
    "\n",
    "# Setup the evaluator\n",
    "evaluator = Evaluator(model)"
   ]
  },
  {
   "cell_type": "code",
   "execution_count": 15,
   "metadata": {},
   "outputs": [],
   "source": [
    "from xlcalculator.xltypes import XLCell, XLFormula\n",
    "\n",
    "# Let's say you have an AST object named `ast`\n",
    "# You might have created or received this AST from somewhere, or you're constructing it manually.\n",
    "# Your existing AST object\n",
    "\n",
    "# Attach this AST to a cell as a formula\n",
    "formula = XLFormula(formula=str(formula_ast))\n",
    "cell = XLCell(address='Sheet1!A3', value=None, formula=formula)\n",
    "model.cells['Sheet1!A3'] = cell\n"
   ]
  },
  {
   "cell_type": "code",
   "execution_count": 16,
   "metadata": {},
   "outputs": [
    {
     "data": {
      "text/plain": [
       "XLCell(address='Sheet1!A3', value=None, formula=XLFormula(formula='(\"((\\'Sheet1|col_1|2|2\\',), (0, 0), (1, 1))\") + (\"((\\'Sheet1|col_2|2|3\\',), (0, 0), (1, 1))\")', sheet_name=None, reference=None, evaluate=True, tokens=[<f_token tvalue:  ttype: subexpression tsubtype: start>, <f_token tvalue: (('Sheet1|col_1|2|2',), (0, 0), (1, 1)) ttype: operand tsubtype: text>, <f_token tvalue:  ttype: subexpression tsubtype: stop>, <f_token tvalue: + ttype: operator-infix tsubtype: math>, <f_token tvalue:  ttype: subexpression tsubtype: start>, <f_token tvalue: (('Sheet1|col_2|2|3',), (0, 0), (1, 1)) ttype: operand tsubtype: text>, <f_token tvalue:  ttype: subexpression tsubtype: stop>], terms=[], associated_cells=set(), ast=None), defined_names=[])"
      ]
     },
     "execution_count": 16,
     "metadata": {},
     "output_type": "execute_result"
    }
   ],
   "source": [
    "cell"
   ]
  },
  {
   "cell_type": "markdown",
   "metadata": {},
   "source": [
    "# NEW PLAN\n",
    "\n",
    "1. Update the get formula list function so that there are arrays in the new formula, they look like this:\n",
    "\n",
    "'(SUM(ARRAY(ARRAYROW(1, 2, 3)))) + (SUM(ARRAY(ARRAYROW(4, 5, 6), ARRAYROW(7, 8, 9))))'\n",
    "\n",
    "2. Create an evaluator class that can evaluate this Excel formula directly in Python using the ast library.\n",
    "\n",
    "OR\n",
    "\n",
    "Investigate whether I can use the xcalculator library to create an Excel formula evaluator.\n",
    "\n",
    "\n"
   ]
  },
  {
   "cell_type": "code",
   "execution_count": 18,
   "metadata": {},
   "outputs": [],
   "source": [
    "import pandas as pd\n",
    "from ast_transformation.formula_list_generator import FormulaListGenerator\n",
    "# from ast_transformation.formula_evaluator import FormulaEvaluator\n",
    "\n",
    "formula_list_generator = FormulaListGenerator(formula_ast)\n",
    "\n",
    "formula_list = formula_list_generator.generate_formula_list(0, 4)"
   ]
  },
  {
   "cell_type": "code",
   "execution_count": null,
   "metadata": {},
   "outputs": [],
   "source": [
    "evaluator = FormulaEvaluator(\n",
    "    series_dict={\n",
    "        \"Sheet1|col_1|2|2\": pd.Series([1, 2, 3, 4, 5]),\n",
    "        \"Sheet1|col_2|2|3\": pd.Series([6, 7, 8, 9, 10])\n",
    "    }\n",
    ")"
   ]
  },
  {
   "cell_type": "code",
   "execution_count": null,
   "metadata": {},
   "outputs": [
    {
     "ename": "AttributeError",
     "evalue": "'OperatorNode' object has no attribute 'to_python_code'",
     "output_type": "error",
     "traceback": [
      "\u001b[0;31m---------------------------------------------------------------------------\u001b[0m",
      "\u001b[0;31mAttributeError\u001b[0m                            Traceback (most recent call last)",
      "Cell \u001b[0;32mIn[23], line 1\u001b[0m\n\u001b[0;32m----> 1\u001b[0m \u001b[43mevaluator\u001b[49m\u001b[38;5;241;43m.\u001b[39;49m\u001b[43mevaluate_formula\u001b[49m\u001b[43m(\u001b[49m\u001b[43mformula_list\u001b[49m\u001b[43m[\u001b[49m\u001b[38;5;241;43m0\u001b[39;49m\u001b[43m]\u001b[49m\u001b[43m)\u001b[49m\n",
      "Cell \u001b[0;32mIn[20], line 30\u001b[0m, in \u001b[0;36mFormulaEvaluator.evaluate_formula\u001b[0;34m(self, formula)\u001b[0m\n\u001b[1;32m     26\u001b[0m     \u001b[38;5;28;01mraise\u001b[39;00m \u001b[38;5;167;01mTypeError\u001b[39;00m(\u001b[38;5;124m\"\u001b[39m\u001b[38;5;124mFormula must be an instance of xlcalculator.ast_nodes.ASTNode.\u001b[39m\u001b[38;5;124m\"\u001b[39m)\n\u001b[1;32m     28\u001b[0m \u001b[38;5;66;03m# Assuming ASTNode can be directly evaluated\u001b[39;00m\n\u001b[1;32m     29\u001b[0m \u001b[38;5;66;03m# The following line needs adaptation based on how ASTNode is supposed to be evaluated\u001b[39;00m\n\u001b[0;32m---> 30\u001b[0m result \u001b[38;5;241m=\u001b[39m \u001b[38;5;28meval\u001b[39m(\u001b[38;5;28mcompile\u001b[39m(\u001b[43mformula\u001b[49m\u001b[38;5;241;43m.\u001b[39;49m\u001b[43mto_python_code\u001b[49m(), filename\u001b[38;5;241m=\u001b[39m\u001b[38;5;124m\"\u001b[39m\u001b[38;5;124m<ast>\u001b[39m\u001b[38;5;124m\"\u001b[39m, mode\u001b[38;5;241m=\u001b[39m\u001b[38;5;124m\"\u001b[39m\u001b[38;5;124meval\u001b[39m\u001b[38;5;124m\"\u001b[39m), {}, \u001b[38;5;28mself\u001b[39m\u001b[38;5;241m.\u001b[39mlocal_env)\n\u001b[1;32m     31\u001b[0m \u001b[38;5;28;01mreturn\u001b[39;00m result\n",
      "\u001b[0;31mAttributeError\u001b[0m: 'OperatorNode' object has no attribute 'to_python_code'"
     ]
    }
   ],
   "source": [
    "evaluator.evaluate_formula(formula_list[0])"
   ]
  },
  {
   "cell_type": "code",
   "execution_count": null,
   "metadata": {},
   "outputs": [],
   "source": []
  }
 ],
 "metadata": {
  "kernelspec": {
   "display_name": "venv",
   "language": "python",
   "name": "python3"
  },
  "language_info": {
   "codemirror_mode": {
    "name": "ipython",
    "version": 3
   },
   "file_extension": ".py",
   "mimetype": "text/x-python",
   "name": "python",
   "nbconvert_exporter": "python",
   "pygments_lexer": "ipython3",
   "version": "3.11.5"
  }
 },
 "nbformat": 4,
 "nbformat_minor": 2
}
