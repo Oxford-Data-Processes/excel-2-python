{
 "cells": [
  {
   "cell_type": "code",
   "execution_count": 1,
   "metadata": {},
   "outputs": [],
   "source": [
    "import os\n",
    "\n",
    "from series_extraction.excel_loader import ExcelLoader\n",
    "from series_extraction.excel_cleaner import ExcelCleaner\n",
    "from series_extraction.table_extractor import TableExtractor\n",
    "from series_extraction.series_extractor import SeriesExtractor\n",
    "from series_extraction.excel_compatibility_checker import ExcelCompatibilityChecker\n",
    "from series_extraction.series_iterator import SeriesIterator\n",
    "from series_extraction.series_mapper import SeriesMapper\n",
    "from series_extraction.excel_validator import ExcelValidator\n",
    "\n",
    "from ast_transformation.series_formula_generator_old import SeriesFormulaGenerator\n",
    "from ast_transformation.formula_generator import FormulaGenerator\n",
    "from ast_transformation.formula_list_generator import FormulaListGenerator\n",
    "from ast_transformation.formula_evaluator import FormulaEvaluator\n",
    "\n",
    "from ast_building.formula_parser import FormulaParser\n",
    "from ast_building.series_implementer import SeriesImplementer\n",
    "\n",
    "from pipeline_building.series_dependencies_builder import SeriesDependenciesBuilder\n",
    "from pipeline_building.dag_sorter import DAGSorter\n",
    "\n",
    "from excel_builder import ExcelBuilder\n",
    "\n",
    "from excel_checker import ExcelChecker\n"
   ]
  },
  {
   "cell_type": "code",
   "execution_count": 2,
   "metadata": {},
   "outputs": [],
   "source": [
    "data_directory = \"/Users/chrislittle/GitHub/speedsheet/excel-2-python/data\"\n",
    "\n",
    "project_name = 'vehicle_data'\n",
    "\n",
    "excel_raw_file_path = os.path.join(data_directory, \"excel_files_raw\", f\"{project_name}_raw.xlsx\")\n",
    "excel_reduced_filepath = os.path.join(data_directory, \"excel_files_reduced\", f\"{project_name}_reduced.xlsx\")\n",
    "excel_reduced_clean_filepath = os.path.join(data_directory, \"excel_files_reduced_clean\", f\"{project_name}_reduced_clean.xlsx\")\n",
    "excel_reduced_clean_series_filepath = os.path.join(data_directory, \"excel_files_reduced_clean_series\", f\"{project_name}_reduced_clean_series.xlsx\")\n",
    "excel_reduced_clean_series_python_filepath = os.path.join(data_directory, \"excel_files_reduced_clean_series_python\", f\"{project_name}_reduced_clean_series_python.xlsx\")"
   ]
  },
  {
   "cell_type": "code",
   "execution_count": 3,
   "metadata": {},
   "outputs": [],
   "source": [
    "def get_evaluated_results_from_formula_ast(formula_ast, series_values_dict, values_length):\n",
    "    formula_list_generator = FormulaListGenerator(formula_ast, series_values_dict)\n",
    "    formula_list = formula_list_generator.generate_formula_list(0, values_length-1)\n",
    "    formula_strings = [str(formula) for formula in formula_list]\n",
    "\n",
    "    print(\"formula_strings: \", formula_strings)\n",
    "\n",
    "    formula_evaluator = FormulaEvaluator()\n",
    "\n",
    "    results = [formula_evaluator.evaluate_formula(f\"={formula_string}\") for formula_string in formula_strings]\n",
    "\n",
    "    return results"
   ]
  },
  {
   "cell_type": "code",
   "execution_count": 4,
   "metadata": {},
   "outputs": [],
   "source": [
    "excel_raw= ExcelLoader.load_file(excel_raw_file_path)\n",
    "excel_reduced = ExcelLoader.load_file(excel_reduced_filepath)\n",
    "is_valid = ExcelValidator.validate_excel(excel_reduced)\n",
    "if not is_valid:\n",
    "    raise Exception(\"Excel file is not valid\")\n",
    "\n",
    "excel_reduced_clean = ExcelCleaner.clean_excel(excel_reduced)\n",
    "ExcelBuilder.create_excel_from_workbook(excel_reduced_clean.workbook_with_formulas, excel_reduced_clean_filepath)\n",
    "\n",
    "extracted_tables, workbook_data = TableExtractor.extract_tables(excel_reduced_clean)\n",
    "is_compatible = ExcelCompatibilityChecker.check_file(excel_raw, excel_reduced, extracted_tables)\n",
    "if not is_compatible:\n",
    "    raise Exception(\"Excel file is not compatible\")\n",
    "\n",
    "series_dict = SeriesExtractor.extract_series(extracted_tables=extracted_tables, workbook_data=workbook_data)\n",
    "series_mapping = SeriesMapper.map_series(series_dict)\n",
    "series_iterator = SeriesIterator.iterate_series(series_dict)\n",
    "\n",
    "series_list = [series for series in series_iterator]\n",
    "\n",
    "series_list_with_formulas = [\n",
    "    series for series in series_list if series.formulas != [None, None]\n",
    "]\n",
    "series_list_with_values = [\n",
    "    series for series in series_list if series.formulas == [None, None]\n",
    "]\n",
    "\n",
    "series_list_new = []\n",
    "formula_1_ast_series_list = []\n",
    "generic_formula_dictionary = {}\n",
    "\n",
    "for series in series_list_with_formulas:\n",
    "    formula_1, formula_2 = SeriesFormulaGenerator.adjust_formulas(\n",
    "        series.formulas\n",
    "    )\n",
    "    if formula_1 is not None and formula_2 is not None:\n",
    "\n",
    "        series_implementer = SeriesImplementer(\n",
    "            series_mapping, sheet_name=series.worksheet.sheet_name\n",
    "        )\n",
    "\n",
    "        formula_1_ast = FormulaParser.parse_formula(formula_1)\n",
    "        formula_1_ast_series = series_implementer.update_ast(formula_1_ast)\n",
    "        formula_1_ast_series_list.append((series.series_id, formula_1_ast_series))\n",
    "\n",
    "        formula_2_ast = FormulaParser.parse_formula(formula_2)\n",
    "        formula_2_ast_series = series_implementer.update_ast(formula_2_ast)\n",
    "\n",
    "        generic_formula_ast = FormulaGenerator.traverse_and_replace(formula_1_ast_series, formula_2_ast_series)\n",
    "\n",
    "        generic_formula_dictionary[series.series_id] = generic_formula_ast\n",
    "\n"
   ]
  },
  {
   "cell_type": "code",
   "execution_count": 5,
   "metadata": {},
   "outputs": [],
   "source": [
    "series_values_dict = {str(series.series_id): series.values for series in series_list}"
   ]
  },
  {
   "cell_type": "code",
   "execution_count": 6,
   "metadata": {},
   "outputs": [],
   "source": [
    "series_dependencies = SeriesDependenciesBuilder.build_dependencies(generic_formula_dictionary)"
   ]
  },
  {
   "cell_type": "code",
   "execution_count": 7,
   "metadata": {},
   "outputs": [],
   "source": [
    "sorted_dag = DAGSorter.sort_dag(series_dependencies)"
   ]
  },
  {
   "cell_type": "code",
   "execution_count": 8,
   "metadata": {},
   "outputs": [
    {
     "name": "stdout",
     "output_type": "stream",
     "text": [
      "Series ID: VehicleData|Transmission Mapped|1|21\n",
      "Formula Ast:  IF((AVERAGE((('VehicleData|transmission|1|5',), (0, 0), (1, 1)))) = (2), \"Automatic\", \"Manual\")\n",
      "Values Length:  2\n",
      "Start new index 0\n",
      "End new index 0\n",
      "ARRAY VALUES:  [[2]]\n",
      "Start new index 1\n",
      "End new index 1\n",
      "ARRAY VALUES:  [[1]]\n",
      "formula_strings:  ['IF((AVERAGE(ARRAY(ARRAYROW(2)))) = (2), \"Automatic\", \"Manual\")', 'IF((AVERAGE(ARRAY(ARRAYROW(1)))) = (2), \"Automatic\", \"Manual\")']\n",
      "Series ID: VehicleData|Value Rounded to Nearest 5000|1|22\n",
      "Formula Ast:  (ROUNDDOWN((AVERAGE((('VehicleData|value|1|3',), (0, 0), (1, 1)))) / (5000), 0)) * (5000)\n",
      "Values Length:  2\n",
      "Start new index 0\n",
      "End new index 0\n",
      "ARRAY VALUES:  [[14945]]\n",
      "Start new index 1\n",
      "End new index 1\n",
      "ARRAY VALUES:  [[4836]]\n",
      "formula_strings:  ['(ROUNDDOWN((AVERAGE(ARRAY(ARRAYROW(14945)))) / (5000), 0)) * (5000)', '(ROUNDDOWN((AVERAGE(ARRAY(ARRAYROW(4836)))) / (5000), 0)) * (5000)']\n",
      "Series ID: VehicleData|Mileage Rounded to Nearest 50,000|1|23\n",
      "Formula Ast:  (ROUNDDOWN((AVERAGE((('VehicleData|mileage|1|7',), (0, 0), (1, 1)))) / (50000), 0)) * (50000)\n",
      "Values Length:  2\n",
      "Start new index 0\n",
      "End new index 0\n",
      "ARRAY VALUES:  [[2552]]\n",
      "Start new index 1\n",
      "End new index 1\n",
      "ARRAY VALUES:  [[39166]]\n",
      "formula_strings:  ['(ROUNDDOWN((AVERAGE(ARRAY(ARRAYROW(2552)))) / (50000), 0)) * (50000)', '(ROUNDDOWN((AVERAGE(ARRAY(ARRAYROW(39166)))) / (50000), 0)) * (50000)']\n",
      "Series ID: VehicleData|Engine Size Rounded|1|24\n",
      "Formula Ast:  ROUND((AVERAGE((('VehicleData|engine_cc|1|16',), (0, 0), (1, 1)))) / (1000), 1)\n",
      "Values Length:  2\n",
      "Start new index 0\n",
      "End new index 0\n",
      "ARRAY VALUES:  [[1580]]\n",
      "Start new index 1\n",
      "End new index 1\n",
      "ARRAY VALUES:  [[999]]\n",
      "formula_strings:  ['ROUND((AVERAGE(ARRAY(ARRAYROW(1580)))) / (1000), 1)', 'ROUND((AVERAGE(ARRAY(ARRAYROW(999)))) / (1000), 1)']\n",
      "Series ID: VehicleData|Price Filter|1|25\n",
      "Formula Ast:  IF((AVERAGE((('VehicleData|Value Rounded to Nearest 5000|1|22',), (0, 0), (1, 1)))) = (30000), 0, 1)\n",
      "Values Length:  2\n",
      "Start new index 0\n",
      "End new index 0\n",
      "ARRAY VALUES:  [[10000]]\n",
      "Start new index 1\n",
      "End new index 1\n",
      "ARRAY VALUES:  [[0]]\n",
      "formula_strings:  ['IF((AVERAGE(ARRAY(ARRAYROW(10000)))) = (30000), 0, 1)', 'IF((AVERAGE(ARRAY(ARRAYROW(0)))) = (30000), 0, 1)']\n",
      "Series ID: VehicleData|Mileage Filter|1|26\n",
      "Formula Ast:  IF((AVERAGE((('VehicleData|Mileage Rounded to Nearest 50,000|1|23',), (0, 0), (1, 1)))) > (50000), 0, 1)\n",
      "Values Length:  2\n",
      "Start new index 0\n",
      "End new index 0\n",
      "ARRAY VALUES:  [[0]]\n",
      "Start new index 1\n",
      "End new index 1\n",
      "ARRAY VALUES:  [[0]]\n",
      "formula_strings:  ['IF((AVERAGE(ARRAY(ARRAYROW(0)))) > (50000), 0, 1)', 'IF((AVERAGE(ARRAY(ARRAYROW(0)))) > (50000), 0, 1)']\n",
      "Series ID: VehicleData|Engine Size Filter|1|27\n",
      "Formula Ast:  IF((AVERAGE((('VehicleData|Engine Size Rounded|1|24',), (0, 0), (1, 1)))) > (2.5), 0, 1)\n",
      "Values Length:  2\n",
      "Start new index 0\n",
      "End new index 0\n",
      "ARRAY VALUES:  [[1.6]]\n",
      "Start new index 1\n",
      "End new index 1\n",
      "ARRAY VALUES:  [[1]]\n",
      "formula_strings:  ['IF((AVERAGE(ARRAY(ARRAYROW(1.6)))) > (2.5), 0, 1)', 'IF((AVERAGE(ARRAY(ARRAYROW(1)))) > (2.5), 0, 1)']\n",
      "Series ID: VehicleData|MPG Filter|1|28\n",
      "Formula Ast:  IF((AVERAGE((('VehicleData|mpg|1|17',), (0, 0), (1, 1)))) < (30), 0, 1)\n",
      "Values Length:  2\n",
      "Start new index 0\n",
      "End new index 0\n",
      "ARRAY VALUES:  [[74.3]]\n",
      "Start new index 1\n",
      "End new index 1\n",
      "ARRAY VALUES:  [[57.7]]\n",
      "formula_strings:  ['IF((AVERAGE(ARRAY(ARRAYROW(74.3)))) < (30), 0, 1)', 'IF((AVERAGE(ARRAY(ARRAYROW(57.7)))) < (30), 0, 1)']\n",
      "Series ID: VehicleData|Master Filter|1|29\n",
      "Formula Ast:  IF((SUM((('VehicleData|Price Filter|1|25', 'VehicleData|Mileage Filter|1|26', 'VehicleData|Engine Size Filter|1|27', 'VehicleData|MPG Filter|1|28'), (0, 0), (1, 1)))) = (4), 1, 0)\n",
      "Values Length:  2\n",
      "Start new index 0\n",
      "End new index 0\n",
      "ARRAY VALUES:  [[1], [1], [1], [1]]\n",
      "Start new index 1\n",
      "End new index 1\n",
      "ARRAY VALUES:  [[1], [1], [1], [1]]\n",
      "formula_strings:  ['IF((SUM(ARRAY(ARRAYROW(1), ARRAYROW(1), ARRAYROW(1), ARRAYROW(1)))) = (4), 1, 0)', 'IF((SUM(ARRAY(ARRAYROW(1), ARRAYROW(1), ARRAYROW(1), ARRAYROW(1)))) = (4), 1, 0)']\n"
     ]
    }
   ],
   "source": [
    "for series_id in sorted_dag:\n",
    "    formula_ast = generic_formula_dictionary.get(series_id)\n",
    "    \n",
    "    if formula_ast:    \n",
    "        series = SeriesMapper.get_series_from_series_id(series_id, series_dict)\n",
    "        values_length = len(series.values)\n",
    "        print(f\"Series ID: {series_id}\")\n",
    "        print(\"Formula Ast: \", formula_ast)\n",
    "        print(\"Values Length: \", values_length)\n",
    "        values = get_evaluated_results_from_formula_ast(formula_ast, series_values_dict, values_length)\n",
    "        series.values = values\n",
    "        series_list_new.append(series)"
   ]
  },
  {
   "cell_type": "code",
   "execution_count": 9,
   "metadata": {},
   "outputs": [],
   "source": [
    "series_list_updated = series_list_new + series_list_with_values"
   ]
  },
  {
   "cell_type": "code",
   "execution_count": 10,
   "metadata": {},
   "outputs": [],
   "source": [
    "ExcelBuilder.create_excel_from_series(series_list_updated, excel_reduced_clean_series_python_filepath, values_only=True)"
   ]
  },
  {
   "cell_type": "code",
   "execution_count": 14,
   "metadata": {},
   "outputs": [
    {
     "data": {
      "text/plain": [
       "True"
      ]
     },
     "execution_count": 14,
     "metadata": {},
     "output_type": "execute_result"
    }
   ],
   "source": [
    "ExcelChecker.excels_are_equivalent(excel_reduced_clean_series_python_filepath, excel_reduced_clean_filepath)"
   ]
  }
 ],
 "metadata": {
  "kernelspec": {
   "display_name": "venv",
   "language": "python",
   "name": "python3"
  },
  "language_info": {
   "codemirror_mode": {
    "name": "ipython",
    "version": 3
   },
   "file_extension": ".py",
   "mimetype": "text/x-python",
   "name": "python",
   "nbconvert_exporter": "python",
   "pygments_lexer": "ipython3",
   "version": "3.11.5"
  }
 },
 "nbformat": 4,
 "nbformat_minor": 2
}
