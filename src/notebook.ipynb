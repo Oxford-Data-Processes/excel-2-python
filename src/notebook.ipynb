{
 "cells": [
  {
   "cell_type": "code",
   "execution_count": 19,
   "metadata": {},
   "outputs": [],
   "source": [
    "import os\n",
    "\n",
    "from series_extraction.excel_loader import ExcelLoader\n",
    "from series_extraction.excel_validator import ExcelValidator\n",
    "from series_extraction.excel_cleaner import ExcelCleaner\n",
    "from series_extraction.table_finder import TableFinder\n",
    "from series_extraction.series_extractor import SeriesExtractor\n",
    "from series_extraction.excel_compatibility_checker import ExcelCompatibilityChecker\n",
    "from series_extraction.series_iterator import SeriesIterator\n",
    "from series_extraction.series_mapper import SeriesMapper\n",
    "\n",
    "from ast_building.formula_parser import FormulaParser\n",
    "from ast_building.series_implementer import SeriesImplementer\n",
    "\n",
    "from ast_transformation.formula_generator import FormulaGenerator"
   ]
  },
  {
   "cell_type": "code",
   "execution_count": 20,
   "metadata": {},
   "outputs": [],
   "source": [
    "current_directory = os.getcwd()\n",
    "\n",
    "parent_directory = os.path.abspath(os.path.join(current_directory, os.pardir))\n",
    "data_directory = os.path.join(parent_directory, 'data')\n",
    "\n",
    "project_name = 'test_excel_1'\n",
    "\n",
    "excel_raw_file_path = os.path.join(data_directory, \"excel_files_raw\", f\"{project_name}_raw.xlsx\")\n",
    "excel_reduced_filepath = os.path.join(data_directory, \"excel_files_reduced\", f\"{project_name}_reduced.xlsx\")"
   ]
  },
  {
   "cell_type": "code",
   "execution_count": 21,
   "metadata": {},
   "outputs": [],
   "source": [
    "excel_raw= ExcelLoader.load_file(excel_raw_file_path)\n",
    "excel_reduced = ExcelLoader.load_file(excel_reduced_filepath)"
   ]
  },
  {
   "cell_type": "code",
   "execution_count": 22,
   "metadata": {},
   "outputs": [],
   "source": [
    "is_valid = ExcelValidator.validate_excel(excel_reduced)"
   ]
  },
  {
   "cell_type": "code",
   "execution_count": 23,
   "metadata": {},
   "outputs": [],
   "source": [
    "if not is_valid:\n",
    "    raise Exception(\"Excel file is not valid\")"
   ]
  },
  {
   "cell_type": "code",
   "execution_count": 24,
   "metadata": {},
   "outputs": [],
   "source": [
    "excel_reduced_clean = ExcelCleaner.clean_excel(excel_reduced)"
   ]
  },
  {
   "cell_type": "code",
   "execution_count": 25,
   "metadata": {},
   "outputs": [],
   "source": [
    "extracted_tables, data = TableFinder.find_tables(excel_reduced_clean)"
   ]
  },
  {
   "cell_type": "code",
   "execution_count": 26,
   "metadata": {},
   "outputs": [],
   "source": [
    "series_data = SeriesExtractor.extract_table_details(extracted_tables, data)"
   ]
  },
  {
   "cell_type": "code",
   "execution_count": 27,
   "metadata": {},
   "outputs": [],
   "source": [
    "is_compatible = ExcelCompatibilityChecker.check_file(excel_raw, excel_reduced, extracted_tables)"
   ]
  },
  {
   "cell_type": "code",
   "execution_count": 28,
   "metadata": {},
   "outputs": [],
   "source": [
    "if not is_compatible:\n",
    "    raise Exception(\"Excel file is not compatible\")"
   ]
  },
  {
   "cell_type": "code",
   "execution_count": 29,
   "metadata": {},
   "outputs": [],
   "source": [
    "series_dict = SeriesExtractor.extract_series(extracted_tables=extracted_tables, data=data)"
   ]
  },
  {
   "cell_type": "code",
   "execution_count": 30,
   "metadata": {},
   "outputs": [
    {
     "data": {
      "text/plain": [
       "{'Sheet1': [Series(series_id='Sheet1|horizontal_column_1|12|2', worksheet=Worksheet(sheet_name='Sheet1', workbook_file_path=None, worksheet=None), series_header='horizontal_column_1', formulas=['=B3', '=C3'], values=[1, 2], header_location=<HeaderLocation.LEFT: 'left'>, series_starting_cell=Cell(column=3, row=12, coordinate='C12', value=None, value_type=None), series_length=2, series_data_type=<SeriesDataType.INT: 'int'>),\n",
       "  Series(series_id='Sheet1|horizontal_column_2|13|2', worksheet=Worksheet(sheet_name='Sheet1', workbook_file_path=None, worksheet=None), series_header='horizontal_column_2', formulas=['=B4', '=C4'], values=[3, 4], header_location=<HeaderLocation.LEFT: 'left'>, series_starting_cell=Cell(column=3, row=13, coordinate='C13', value=None, value_type=None), series_length=2, series_data_type=<SeriesDataType.INT: 'int'>),\n",
       "  Series(series_id='Sheet1|col_1|2|2', worksheet=Worksheet(sheet_name='Sheet1', workbook_file_path=None, worksheet=None), series_header='col_1', formulas=[None, None], values=[1, 3], header_location=<HeaderLocation.TOP: 'top'>, series_starting_cell=Cell(column=2, row=3, coordinate='B3', value=None, value_type=None), series_length=2, series_data_type=<SeriesDataType.INT: 'int'>),\n",
       "  Series(series_id='Sheet1|col_2|2|3', worksheet=Worksheet(sheet_name='Sheet1', workbook_file_path=None, worksheet=None), series_header='col_2', formulas=[None, None], values=[2, 4], header_location=<HeaderLocation.TOP: 'top'>, series_starting_cell=Cell(column=3, row=3, coordinate='C3', value=None, value_type=None), series_length=2, series_data_type=<SeriesDataType.INT: 'int'>),\n",
       "  Series(series_id='Sheet1|col_3|2|4', worksheet=Worksheet(sheet_name='Sheet1', workbook_file_path=None, worksheet=None), series_header='col_3', formulas=['=Sheet1!B3+Sheet1!C3', '=Sheet1!B4+Sheet1!C4'], values=[3, 7], header_location=<HeaderLocation.TOP: 'top'>, series_starting_cell=Cell(column=4, row=3, coordinate='D3', value=None, value_type=None), series_length=2, series_data_type=<SeriesDataType.INT: 'int'>),\n",
       "  Series(series_id='Sheet1|col_4|2|5', worksheet=Worksheet(sheet_name='Sheet1', workbook_file_path=None, worksheet=None), series_header='col_4', formulas=['=SUM(Sheet1!B3:D3)', '=SUM(Sheet1!B4:D4)'], values=[6, 14], header_location=<HeaderLocation.TOP: 'top'>, series_starting_cell=Cell(column=5, row=3, coordinate='E3', value=None, value_type=None), series_length=2, series_data_type=<SeriesDataType.INT: 'int'>),\n",
       "  Series(series_id='Sheet1|col_1|13|7', worksheet=Worksheet(sheet_name='Sheet1', workbook_file_path=None, worksheet=None), series_header='col_1', formulas=[None, None], values=[1, 3], header_location=<HeaderLocation.TOP: 'top'>, series_starting_cell=Cell(column=7, row=14, coordinate='G14', value=None, value_type=None), series_length=2, series_data_type=<SeriesDataType.INT: 'int'>),\n",
       "  Series(series_id='Sheet1|col_2|13|8', worksheet=Worksheet(sheet_name='Sheet1', workbook_file_path=None, worksheet=None), series_header='col_2', formulas=[None, None], values=[2, 4], header_location=<HeaderLocation.TOP: 'top'>, series_starting_cell=Cell(column=8, row=14, coordinate='H14', value=None, value_type=None), series_length=2, series_data_type=<SeriesDataType.INT: 'int'>),\n",
       "  Series(series_id='Sheet1|col_3|13|9', worksheet=Worksheet(sheet_name='Sheet1', workbook_file_path=None, worksheet=None), series_header='col_3', formulas=['=Sheet1!G14+Sheet1!H14', '=Sheet1!G15+Sheet1!H15'], values=[3, 7], header_location=<HeaderLocation.TOP: 'top'>, series_starting_cell=Cell(column=9, row=14, coordinate='I14', value=None, value_type=None), series_length=2, series_data_type=<SeriesDataType.INT: 'int'>),\n",
       "  Series(series_id='Sheet1|col_4|13|10', worksheet=Worksheet(sheet_name='Sheet1', workbook_file_path=None, worksheet=None), series_header='col_4', formulas=['=SUM(Sheet1!G14:Sheet1!I14)', '=SUM(Sheet1!G15:Sheet1!I15)'], values=[6, 14], header_location=<HeaderLocation.TOP: 'top'>, series_starting_cell=Cell(column=10, row=14, coordinate='J14', value=None, value_type=None), series_length=2, series_data_type=<SeriesDataType.INT: 'int'>)],\n",
       " 'Sheet2': [Series(series_id='Sheet2|col1|10|1', worksheet=Worksheet(sheet_name='Sheet2', workbook_file_path=None, worksheet=None), series_header='col1', formulas=['=B2', '=B3'], values=[1, 4], header_location=<HeaderLocation.TOP: 'top'>, series_starting_cell=Cell(column=1, row=11, coordinate='A11', value=None, value_type=None), series_length=2, series_data_type=<SeriesDataType.INT: 'int'>),\n",
       "  Series(series_id='Sheet2|col2|10|2', worksheet=Worksheet(sheet_name='Sheet2', workbook_file_path=None, worksheet=None), series_header='col2', formulas=['=C2', '=C3'], values=[2, 5], header_location=<HeaderLocation.TOP: 'top'>, series_starting_cell=Cell(column=2, row=11, coordinate='B11', value=None, value_type=None), series_length=2, series_data_type=<SeriesDataType.INT: 'int'>),\n",
       "  Series(series_id='Sheet2|horizontal_col_1|2|1', worksheet=Worksheet(sheet_name='Sheet2', workbook_file_path=None, worksheet=None), series_header='horizontal_col_1', formulas=[None, None], values=[1, 2], header_location=<HeaderLocation.LEFT: 'left'>, series_starting_cell=Cell(column=2, row=2, coordinate='B2', value=None, value_type=None), series_length=2, series_data_type=<SeriesDataType.INT: 'int'>),\n",
       "  Series(series_id='Sheet2|horizontal_col_2|3|1', worksheet=Worksheet(sheet_name='Sheet2', workbook_file_path=None, worksheet=None), series_header='horizontal_col_2', formulas=[None, None], values=[4, 5], header_location=<HeaderLocation.LEFT: 'left'>, series_starting_cell=Cell(column=2, row=3, coordinate='B3', value=None, value_type=None), series_length=2, series_data_type=<SeriesDataType.INT: 'int'>),\n",
       "  Series(series_id='Sheet2|horizontal_col_3|4|1', worksheet=Worksheet(sheet_name='Sheet2', workbook_file_path=None, worksheet=None), series_header='horizontal_col_3', formulas=['=B2+B3', '=C2+C3'], values=[5, 7], header_location=<HeaderLocation.LEFT: 'left'>, series_starting_cell=Cell(column=2, row=4, coordinate='B4', value=None, value_type=None), series_length=2, series_data_type=<SeriesDataType.INT: 'int'>)],\n",
       " 'Sheet3': [Series(series_id='Sheet3|col_1|1|1', worksheet=Worksheet(sheet_name='Sheet3', workbook_file_path=None, worksheet=None), series_header='col_1', formulas=['=SUM(Sheet1!B2:B6)', '=SUM(Sheet1!B2:B6)'], values=[4, 4], header_location=<HeaderLocation.TOP: 'top'>, series_starting_cell=Cell(column=1, row=2, coordinate='A2', value=None, value_type=None), series_length=2, series_data_type=<SeriesDataType.INT: 'int'>),\n",
       "  Series(series_id='Sheet3|col_2|1|2', worksheet=Worksheet(sheet_name='Sheet3', workbook_file_path=None, worksheet=None), series_header='col_2', formulas=['=SUM(Sheet1!C2:C6)', '=SUM(Sheet1!C2:C6)'], values=[6, 6], header_location=<HeaderLocation.TOP: 'top'>, series_starting_cell=Cell(column=2, row=2, coordinate='B2', value=None, value_type=None), series_length=2, series_data_type=<SeriesDataType.INT: 'int'>),\n",
       "  Series(series_id='Sheet3|col_3|1|3', worksheet=Worksheet(sheet_name='Sheet3', workbook_file_path=None, worksheet=None), series_header='col_3', formulas=['=SUM(Sheet1!D2:D6)', '=SUM(Sheet1!D2:D6)'], values=[10, 10], header_location=<HeaderLocation.TOP: 'top'>, series_starting_cell=Cell(column=3, row=2, coordinate='C2', value=None, value_type=None), series_length=2, series_data_type=<SeriesDataType.INT: 'int'>),\n",
       "  Series(series_id='Sheet3|col_4|1|4', worksheet=Worksheet(sheet_name='Sheet3', workbook_file_path=None, worksheet=None), series_header='col_4', formulas=['=Sheet3!A2*Sheet3!B2', '=Sheet3!A3*Sheet3!B3'], values=[24, 24], header_location=<HeaderLocation.TOP: 'top'>, series_starting_cell=Cell(column=4, row=2, coordinate='D2', value=None, value_type=None), series_length=2, series_data_type=<SeriesDataType.INT: 'int'>)]}"
      ]
     },
     "execution_count": 30,
     "metadata": {},
     "output_type": "execute_result"
    }
   ],
   "source": [
    "series_dict"
   ]
  },
  {
   "cell_type": "code",
   "execution_count": 31,
   "metadata": {},
   "outputs": [],
   "source": [
    "series_mapping = SeriesMapper.map_series(series_dict)"
   ]
  },
  {
   "cell_type": "code",
   "execution_count": 32,
   "metadata": {},
   "outputs": [
    {
     "data": {
      "text/plain": [
       "{Worksheet(sheet_name='Sheet1', workbook_file_path=None, worksheet=None): {Cell(column=3, row=12, coordinate=None, value=None, value_type=None): (0,\n",
       "   Series(series_id='Sheet1|horizontal_column_1|12|2', worksheet=Worksheet(sheet_name='Sheet1', workbook_file_path=None, worksheet=None), series_header='horizontal_column_1', formulas=['=B3', '=C3'], values=[1, 2], header_location=<HeaderLocation.LEFT: 'left'>, series_starting_cell=Cell(column=3, row=12, coordinate='C12', value=None, value_type=None), series_length=2, series_data_type=<SeriesDataType.INT: 'int'>)),\n",
       "  Cell(column=4, row=12, coordinate=None, value=None, value_type=None): (1,\n",
       "   Series(series_id='Sheet1|horizontal_column_1|12|2', worksheet=Worksheet(sheet_name='Sheet1', workbook_file_path=None, worksheet=None), series_header='horizontal_column_1', formulas=['=B3', '=C3'], values=[1, 2], header_location=<HeaderLocation.LEFT: 'left'>, series_starting_cell=Cell(column=3, row=12, coordinate='C12', value=None, value_type=None), series_length=2, series_data_type=<SeriesDataType.INT: 'int'>)),\n",
       "  Cell(column=3, row=13, coordinate=None, value=None, value_type=None): (0,\n",
       "   Series(series_id='Sheet1|horizontal_column_2|13|2', worksheet=Worksheet(sheet_name='Sheet1', workbook_file_path=None, worksheet=None), series_header='horizontal_column_2', formulas=['=B4', '=C4'], values=[3, 4], header_location=<HeaderLocation.LEFT: 'left'>, series_starting_cell=Cell(column=3, row=13, coordinate='C13', value=None, value_type=None), series_length=2, series_data_type=<SeriesDataType.INT: 'int'>)),\n",
       "  Cell(column=4, row=13, coordinate=None, value=None, value_type=None): (1,\n",
       "   Series(series_id='Sheet1|horizontal_column_2|13|2', worksheet=Worksheet(sheet_name='Sheet1', workbook_file_path=None, worksheet=None), series_header='horizontal_column_2', formulas=['=B4', '=C4'], values=[3, 4], header_location=<HeaderLocation.LEFT: 'left'>, series_starting_cell=Cell(column=3, row=13, coordinate='C13', value=None, value_type=None), series_length=2, series_data_type=<SeriesDataType.INT: 'int'>)),\n",
       "  Cell(column=2, row=3, coordinate=None, value=None, value_type=None): (0,\n",
       "   Series(series_id='Sheet1|col_1|2|2', worksheet=Worksheet(sheet_name='Sheet1', workbook_file_path=None, worksheet=None), series_header='col_1', formulas=[None, None], values=[1, 3], header_location=<HeaderLocation.TOP: 'top'>, series_starting_cell=Cell(column=2, row=3, coordinate='B3', value=None, value_type=None), series_length=2, series_data_type=<SeriesDataType.INT: 'int'>)),\n",
       "  Cell(column=2, row=4, coordinate=None, value=None, value_type=None): (1,\n",
       "   Series(series_id='Sheet1|col_1|2|2', worksheet=Worksheet(sheet_name='Sheet1', workbook_file_path=None, worksheet=None), series_header='col_1', formulas=[None, None], values=[1, 3], header_location=<HeaderLocation.TOP: 'top'>, series_starting_cell=Cell(column=2, row=3, coordinate='B3', value=None, value_type=None), series_length=2, series_data_type=<SeriesDataType.INT: 'int'>)),\n",
       "  Cell(column=3, row=3, coordinate=None, value=None, value_type=None): (0,\n",
       "   Series(series_id='Sheet1|col_2|2|3', worksheet=Worksheet(sheet_name='Sheet1', workbook_file_path=None, worksheet=None), series_header='col_2', formulas=[None, None], values=[2, 4], header_location=<HeaderLocation.TOP: 'top'>, series_starting_cell=Cell(column=3, row=3, coordinate='C3', value=None, value_type=None), series_length=2, series_data_type=<SeriesDataType.INT: 'int'>)),\n",
       "  Cell(column=3, row=4, coordinate=None, value=None, value_type=None): (1,\n",
       "   Series(series_id='Sheet1|col_2|2|3', worksheet=Worksheet(sheet_name='Sheet1', workbook_file_path=None, worksheet=None), series_header='col_2', formulas=[None, None], values=[2, 4], header_location=<HeaderLocation.TOP: 'top'>, series_starting_cell=Cell(column=3, row=3, coordinate='C3', value=None, value_type=None), series_length=2, series_data_type=<SeriesDataType.INT: 'int'>)),\n",
       "  Cell(column=4, row=3, coordinate=None, value=None, value_type=None): (0,\n",
       "   Series(series_id='Sheet1|col_3|2|4', worksheet=Worksheet(sheet_name='Sheet1', workbook_file_path=None, worksheet=None), series_header='col_3', formulas=['=Sheet1!B3+Sheet1!C3', '=Sheet1!B4+Sheet1!C4'], values=[3, 7], header_location=<HeaderLocation.TOP: 'top'>, series_starting_cell=Cell(column=4, row=3, coordinate='D3', value=None, value_type=None), series_length=2, series_data_type=<SeriesDataType.INT: 'int'>)),\n",
       "  Cell(column=4, row=4, coordinate=None, value=None, value_type=None): (1,\n",
       "   Series(series_id='Sheet1|col_3|2|4', worksheet=Worksheet(sheet_name='Sheet1', workbook_file_path=None, worksheet=None), series_header='col_3', formulas=['=Sheet1!B3+Sheet1!C3', '=Sheet1!B4+Sheet1!C4'], values=[3, 7], header_location=<HeaderLocation.TOP: 'top'>, series_starting_cell=Cell(column=4, row=3, coordinate='D3', value=None, value_type=None), series_length=2, series_data_type=<SeriesDataType.INT: 'int'>)),\n",
       "  Cell(column=5, row=3, coordinate=None, value=None, value_type=None): (0,\n",
       "   Series(series_id='Sheet1|col_4|2|5', worksheet=Worksheet(sheet_name='Sheet1', workbook_file_path=None, worksheet=None), series_header='col_4', formulas=['=SUM(Sheet1!B3:D3)', '=SUM(Sheet1!B4:D4)'], values=[6, 14], header_location=<HeaderLocation.TOP: 'top'>, series_starting_cell=Cell(column=5, row=3, coordinate='E3', value=None, value_type=None), series_length=2, series_data_type=<SeriesDataType.INT: 'int'>)),\n",
       "  Cell(column=5, row=4, coordinate=None, value=None, value_type=None): (1,\n",
       "   Series(series_id='Sheet1|col_4|2|5', worksheet=Worksheet(sheet_name='Sheet1', workbook_file_path=None, worksheet=None), series_header='col_4', formulas=['=SUM(Sheet1!B3:D3)', '=SUM(Sheet1!B4:D4)'], values=[6, 14], header_location=<HeaderLocation.TOP: 'top'>, series_starting_cell=Cell(column=5, row=3, coordinate='E3', value=None, value_type=None), series_length=2, series_data_type=<SeriesDataType.INT: 'int'>)),\n",
       "  Cell(column=7, row=14, coordinate=None, value=None, value_type=None): (0,\n",
       "   Series(series_id='Sheet1|col_1|13|7', worksheet=Worksheet(sheet_name='Sheet1', workbook_file_path=None, worksheet=None), series_header='col_1', formulas=[None, None], values=[1, 3], header_location=<HeaderLocation.TOP: 'top'>, series_starting_cell=Cell(column=7, row=14, coordinate='G14', value=None, value_type=None), series_length=2, series_data_type=<SeriesDataType.INT: 'int'>)),\n",
       "  Cell(column=7, row=15, coordinate=None, value=None, value_type=None): (1,\n",
       "   Series(series_id='Sheet1|col_1|13|7', worksheet=Worksheet(sheet_name='Sheet1', workbook_file_path=None, worksheet=None), series_header='col_1', formulas=[None, None], values=[1, 3], header_location=<HeaderLocation.TOP: 'top'>, series_starting_cell=Cell(column=7, row=14, coordinate='G14', value=None, value_type=None), series_length=2, series_data_type=<SeriesDataType.INT: 'int'>)),\n",
       "  Cell(column=8, row=14, coordinate=None, value=None, value_type=None): (0,\n",
       "   Series(series_id='Sheet1|col_2|13|8', worksheet=Worksheet(sheet_name='Sheet1', workbook_file_path=None, worksheet=None), series_header='col_2', formulas=[None, None], values=[2, 4], header_location=<HeaderLocation.TOP: 'top'>, series_starting_cell=Cell(column=8, row=14, coordinate='H14', value=None, value_type=None), series_length=2, series_data_type=<SeriesDataType.INT: 'int'>)),\n",
       "  Cell(column=8, row=15, coordinate=None, value=None, value_type=None): (1,\n",
       "   Series(series_id='Sheet1|col_2|13|8', worksheet=Worksheet(sheet_name='Sheet1', workbook_file_path=None, worksheet=None), series_header='col_2', formulas=[None, None], values=[2, 4], header_location=<HeaderLocation.TOP: 'top'>, series_starting_cell=Cell(column=8, row=14, coordinate='H14', value=None, value_type=None), series_length=2, series_data_type=<SeriesDataType.INT: 'int'>)),\n",
       "  Cell(column=9, row=14, coordinate=None, value=None, value_type=None): (0,\n",
       "   Series(series_id='Sheet1|col_3|13|9', worksheet=Worksheet(sheet_name='Sheet1', workbook_file_path=None, worksheet=None), series_header='col_3', formulas=['=Sheet1!G14+Sheet1!H14', '=Sheet1!G15+Sheet1!H15'], values=[3, 7], header_location=<HeaderLocation.TOP: 'top'>, series_starting_cell=Cell(column=9, row=14, coordinate='I14', value=None, value_type=None), series_length=2, series_data_type=<SeriesDataType.INT: 'int'>)),\n",
       "  Cell(column=9, row=15, coordinate=None, value=None, value_type=None): (1,\n",
       "   Series(series_id='Sheet1|col_3|13|9', worksheet=Worksheet(sheet_name='Sheet1', workbook_file_path=None, worksheet=None), series_header='col_3', formulas=['=Sheet1!G14+Sheet1!H14', '=Sheet1!G15+Sheet1!H15'], values=[3, 7], header_location=<HeaderLocation.TOP: 'top'>, series_starting_cell=Cell(column=9, row=14, coordinate='I14', value=None, value_type=None), series_length=2, series_data_type=<SeriesDataType.INT: 'int'>)),\n",
       "  Cell(column=10, row=14, coordinate=None, value=None, value_type=None): (0,\n",
       "   Series(series_id='Sheet1|col_4|13|10', worksheet=Worksheet(sheet_name='Sheet1', workbook_file_path=None, worksheet=None), series_header='col_4', formulas=['=SUM(Sheet1!G14:Sheet1!I14)', '=SUM(Sheet1!G15:Sheet1!I15)'], values=[6, 14], header_location=<HeaderLocation.TOP: 'top'>, series_starting_cell=Cell(column=10, row=14, coordinate='J14', value=None, value_type=None), series_length=2, series_data_type=<SeriesDataType.INT: 'int'>)),\n",
       "  Cell(column=10, row=15, coordinate=None, value=None, value_type=None): (1,\n",
       "   Series(series_id='Sheet1|col_4|13|10', worksheet=Worksheet(sheet_name='Sheet1', workbook_file_path=None, worksheet=None), series_header='col_4', formulas=['=SUM(Sheet1!G14:Sheet1!I14)', '=SUM(Sheet1!G15:Sheet1!I15)'], values=[6, 14], header_location=<HeaderLocation.TOP: 'top'>, series_starting_cell=Cell(column=10, row=14, coordinate='J14', value=None, value_type=None), series_length=2, series_data_type=<SeriesDataType.INT: 'int'>))},\n",
       " Worksheet(sheet_name='Sheet2', workbook_file_path=None, worksheet=None): {Cell(column=1, row=11, coordinate=None, value=None, value_type=None): (0,\n",
       "   Series(series_id='Sheet2|col1|10|1', worksheet=Worksheet(sheet_name='Sheet2', workbook_file_path=None, worksheet=None), series_header='col1', formulas=['=B2', '=B3'], values=[1, 4], header_location=<HeaderLocation.TOP: 'top'>, series_starting_cell=Cell(column=1, row=11, coordinate='A11', value=None, value_type=None), series_length=2, series_data_type=<SeriesDataType.INT: 'int'>)),\n",
       "  Cell(column=1, row=12, coordinate=None, value=None, value_type=None): (1,\n",
       "   Series(series_id='Sheet2|col1|10|1', worksheet=Worksheet(sheet_name='Sheet2', workbook_file_path=None, worksheet=None), series_header='col1', formulas=['=B2', '=B3'], values=[1, 4], header_location=<HeaderLocation.TOP: 'top'>, series_starting_cell=Cell(column=1, row=11, coordinate='A11', value=None, value_type=None), series_length=2, series_data_type=<SeriesDataType.INT: 'int'>)),\n",
       "  Cell(column=2, row=11, coordinate=None, value=None, value_type=None): (0,\n",
       "   Series(series_id='Sheet2|col2|10|2', worksheet=Worksheet(sheet_name='Sheet2', workbook_file_path=None, worksheet=None), series_header='col2', formulas=['=C2', '=C3'], values=[2, 5], header_location=<HeaderLocation.TOP: 'top'>, series_starting_cell=Cell(column=2, row=11, coordinate='B11', value=None, value_type=None), series_length=2, series_data_type=<SeriesDataType.INT: 'int'>)),\n",
       "  Cell(column=2, row=12, coordinate=None, value=None, value_type=None): (1,\n",
       "   Series(series_id='Sheet2|col2|10|2', worksheet=Worksheet(sheet_name='Sheet2', workbook_file_path=None, worksheet=None), series_header='col2', formulas=['=C2', '=C3'], values=[2, 5], header_location=<HeaderLocation.TOP: 'top'>, series_starting_cell=Cell(column=2, row=11, coordinate='B11', value=None, value_type=None), series_length=2, series_data_type=<SeriesDataType.INT: 'int'>)),\n",
       "  Cell(column=2, row=2, coordinate=None, value=None, value_type=None): (0,\n",
       "   Series(series_id='Sheet2|horizontal_col_1|2|1', worksheet=Worksheet(sheet_name='Sheet2', workbook_file_path=None, worksheet=None), series_header='horizontal_col_1', formulas=[None, None], values=[1, 2], header_location=<HeaderLocation.LEFT: 'left'>, series_starting_cell=Cell(column=2, row=2, coordinate='B2', value=None, value_type=None), series_length=2, series_data_type=<SeriesDataType.INT: 'int'>)),\n",
       "  Cell(column=3, row=2, coordinate=None, value=None, value_type=None): (1,\n",
       "   Series(series_id='Sheet2|horizontal_col_1|2|1', worksheet=Worksheet(sheet_name='Sheet2', workbook_file_path=None, worksheet=None), series_header='horizontal_col_1', formulas=[None, None], values=[1, 2], header_location=<HeaderLocation.LEFT: 'left'>, series_starting_cell=Cell(column=2, row=2, coordinate='B2', value=None, value_type=None), series_length=2, series_data_type=<SeriesDataType.INT: 'int'>)),\n",
       "  Cell(column=2, row=3, coordinate=None, value=None, value_type=None): (0,\n",
       "   Series(series_id='Sheet2|horizontal_col_2|3|1', worksheet=Worksheet(sheet_name='Sheet2', workbook_file_path=None, worksheet=None), series_header='horizontal_col_2', formulas=[None, None], values=[4, 5], header_location=<HeaderLocation.LEFT: 'left'>, series_starting_cell=Cell(column=2, row=3, coordinate='B3', value=None, value_type=None), series_length=2, series_data_type=<SeriesDataType.INT: 'int'>)),\n",
       "  Cell(column=3, row=3, coordinate=None, value=None, value_type=None): (1,\n",
       "   Series(series_id='Sheet2|horizontal_col_2|3|1', worksheet=Worksheet(sheet_name='Sheet2', workbook_file_path=None, worksheet=None), series_header='horizontal_col_2', formulas=[None, None], values=[4, 5], header_location=<HeaderLocation.LEFT: 'left'>, series_starting_cell=Cell(column=2, row=3, coordinate='B3', value=None, value_type=None), series_length=2, series_data_type=<SeriesDataType.INT: 'int'>)),\n",
       "  Cell(column=2, row=4, coordinate=None, value=None, value_type=None): (0,\n",
       "   Series(series_id='Sheet2|horizontal_col_3|4|1', worksheet=Worksheet(sheet_name='Sheet2', workbook_file_path=None, worksheet=None), series_header='horizontal_col_3', formulas=['=B2+B3', '=C2+C3'], values=[5, 7], header_location=<HeaderLocation.LEFT: 'left'>, series_starting_cell=Cell(column=2, row=4, coordinate='B4', value=None, value_type=None), series_length=2, series_data_type=<SeriesDataType.INT: 'int'>)),\n",
       "  Cell(column=3, row=4, coordinate=None, value=None, value_type=None): (1,\n",
       "   Series(series_id='Sheet2|horizontal_col_3|4|1', worksheet=Worksheet(sheet_name='Sheet2', workbook_file_path=None, worksheet=None), series_header='horizontal_col_3', formulas=['=B2+B3', '=C2+C3'], values=[5, 7], header_location=<HeaderLocation.LEFT: 'left'>, series_starting_cell=Cell(column=2, row=4, coordinate='B4', value=None, value_type=None), series_length=2, series_data_type=<SeriesDataType.INT: 'int'>))},\n",
       " Worksheet(sheet_name='Sheet3', workbook_file_path=None, worksheet=None): {Cell(column=1, row=2, coordinate=None, value=None, value_type=None): (0,\n",
       "   Series(series_id='Sheet3|col_1|1|1', worksheet=Worksheet(sheet_name='Sheet3', workbook_file_path=None, worksheet=None), series_header='col_1', formulas=['=SUM(Sheet1!B2:B6)', '=SUM(Sheet1!B2:B6)'], values=[4, 4], header_location=<HeaderLocation.TOP: 'top'>, series_starting_cell=Cell(column=1, row=2, coordinate='A2', value=None, value_type=None), series_length=2, series_data_type=<SeriesDataType.INT: 'int'>)),\n",
       "  Cell(column=1, row=3, coordinate=None, value=None, value_type=None): (1,\n",
       "   Series(series_id='Sheet3|col_1|1|1', worksheet=Worksheet(sheet_name='Sheet3', workbook_file_path=None, worksheet=None), series_header='col_1', formulas=['=SUM(Sheet1!B2:B6)', '=SUM(Sheet1!B2:B6)'], values=[4, 4], header_location=<HeaderLocation.TOP: 'top'>, series_starting_cell=Cell(column=1, row=2, coordinate='A2', value=None, value_type=None), series_length=2, series_data_type=<SeriesDataType.INT: 'int'>)),\n",
       "  Cell(column=2, row=2, coordinate=None, value=None, value_type=None): (0,\n",
       "   Series(series_id='Sheet3|col_2|1|2', worksheet=Worksheet(sheet_name='Sheet3', workbook_file_path=None, worksheet=None), series_header='col_2', formulas=['=SUM(Sheet1!C2:C6)', '=SUM(Sheet1!C2:C6)'], values=[6, 6], header_location=<HeaderLocation.TOP: 'top'>, series_starting_cell=Cell(column=2, row=2, coordinate='B2', value=None, value_type=None), series_length=2, series_data_type=<SeriesDataType.INT: 'int'>)),\n",
       "  Cell(column=2, row=3, coordinate=None, value=None, value_type=None): (1,\n",
       "   Series(series_id='Sheet3|col_2|1|2', worksheet=Worksheet(sheet_name='Sheet3', workbook_file_path=None, worksheet=None), series_header='col_2', formulas=['=SUM(Sheet1!C2:C6)', '=SUM(Sheet1!C2:C6)'], values=[6, 6], header_location=<HeaderLocation.TOP: 'top'>, series_starting_cell=Cell(column=2, row=2, coordinate='B2', value=None, value_type=None), series_length=2, series_data_type=<SeriesDataType.INT: 'int'>)),\n",
       "  Cell(column=3, row=2, coordinate=None, value=None, value_type=None): (0,\n",
       "   Series(series_id='Sheet3|col_3|1|3', worksheet=Worksheet(sheet_name='Sheet3', workbook_file_path=None, worksheet=None), series_header='col_3', formulas=['=SUM(Sheet1!D2:D6)', '=SUM(Sheet1!D2:D6)'], values=[10, 10], header_location=<HeaderLocation.TOP: 'top'>, series_starting_cell=Cell(column=3, row=2, coordinate='C2', value=None, value_type=None), series_length=2, series_data_type=<SeriesDataType.INT: 'int'>)),\n",
       "  Cell(column=3, row=3, coordinate=None, value=None, value_type=None): (1,\n",
       "   Series(series_id='Sheet3|col_3|1|3', worksheet=Worksheet(sheet_name='Sheet3', workbook_file_path=None, worksheet=None), series_header='col_3', formulas=['=SUM(Sheet1!D2:D6)', '=SUM(Sheet1!D2:D6)'], values=[10, 10], header_location=<HeaderLocation.TOP: 'top'>, series_starting_cell=Cell(column=3, row=2, coordinate='C2', value=None, value_type=None), series_length=2, series_data_type=<SeriesDataType.INT: 'int'>)),\n",
       "  Cell(column=4, row=2, coordinate=None, value=None, value_type=None): (0,\n",
       "   Series(series_id='Sheet3|col_4|1|4', worksheet=Worksheet(sheet_name='Sheet3', workbook_file_path=None, worksheet=None), series_header='col_4', formulas=['=Sheet3!A2*Sheet3!B2', '=Sheet3!A3*Sheet3!B3'], values=[24, 24], header_location=<HeaderLocation.TOP: 'top'>, series_starting_cell=Cell(column=4, row=2, coordinate='D2', value=None, value_type=None), series_length=2, series_data_type=<SeriesDataType.INT: 'int'>)),\n",
       "  Cell(column=4, row=3, coordinate=None, value=None, value_type=None): (1,\n",
       "   Series(series_id='Sheet3|col_4|1|4', worksheet=Worksheet(sheet_name='Sheet3', workbook_file_path=None, worksheet=None), series_header='col_4', formulas=['=Sheet3!A2*Sheet3!B2', '=Sheet3!A3*Sheet3!B3'], values=[24, 24], header_location=<HeaderLocation.TOP: 'top'>, series_starting_cell=Cell(column=4, row=2, coordinate='D2', value=None, value_type=None), series_length=2, series_data_type=<SeriesDataType.INT: 'int'>))}}"
      ]
     },
     "execution_count": 32,
     "metadata": {},
     "output_type": "execute_result"
    }
   ],
   "source": [
    "series_mapping"
   ]
  },
  {
   "cell_type": "code",
   "execution_count": 33,
   "metadata": {},
   "outputs": [],
   "source": [
    "series_iterator = SeriesIterator.iterate_series(series_dict)"
   ]
  },
  {
   "cell_type": "code",
   "execution_count": 34,
   "metadata": {},
   "outputs": [],
   "source": [
    "series_list = [series for series in series_iterator if series.formulas != [None, None]]"
   ]
  },
  {
   "cell_type": "markdown",
   "metadata": {},
   "source": [
    "Series Id can be concatenation of sheet_name, header_name, header_column_index, header_row_index"
   ]
  },
  {
   "cell_type": "code",
   "execution_count": 40,
   "metadata": {},
   "outputs": [
    {
     "name": "stdout",
     "output_type": "stream",
     "text": [
      "formula_ast_series\n",
      "(('Sheet1|col_1|2|2',), (0, 0))\n",
      "(('Sheet1|col_2|2|3',), (0, 0))\n",
      "formula_ast_new\n",
      "(('Sheet1|col_1|2|2',), (0, 0))\n",
      "(('Sheet1|col_1|2|2',), (0, 0))\n",
      "formula_ast_series\n",
      "(('Sheet1|col_1|2|2',), (1, 1))\n",
      "(('Sheet1|col_2|2|3',), (1, 1))\n",
      "formula_ast_new\n",
      "(('Sheet1|col_1|2|2',), (1, 1))\n",
      "(('Sheet1|col_1|2|2',), (1, 1))\n",
      "formula_ast_series\n",
      "((('Sheet1|col_1|2|2',), (0, 0))) + ((('Sheet1|col_2|2|3',), (0, 0)))\n",
      "((('Sheet1|col_1|2|2',), (1, 1))) + ((('Sheet1|col_2|2|3',), (1, 1)))\n",
      "formula_ast_new\n",
      "((('Sheet1|col_1|2|2',), (0, 0))) + ((('Sheet1|col_2|2|3',), (0, 0)))\n",
      "((('Sheet1|col_1|2|2',), (1, 1))) + ((('Sheet1|col_2|2|3',), (1, 1)))\n",
      "formula_ast_series\n",
      "SUM((('Sheet1|col_1|2|2', 'Sheet1|col_2|2|3', 'Sheet1|col_3|2|4'), (0, 0)))\n",
      "SUM((('Sheet1|col_1|2|2', 'Sheet1|col_2|2|3', 'Sheet1|col_3|2|4'), (1, 1)))\n",
      "formula_ast_new\n",
      "SUM((('Sheet1|col_1|2|2', 'Sheet1|col_2|2|3', 'Sheet1|col_3|2|4'), (0, 0)))\n",
      "SUM((('Sheet1|col_1|2|2', 'Sheet1|col_2|2|3', 'Sheet1|col_3|2|4'), (1, 1)))\n",
      "formula_ast_series\n",
      "((('Sheet1|col_1|13|7',), (0, 0))) + ((('Sheet1|col_2|13|8',), (0, 0)))\n",
      "((('Sheet1|col_1|13|7',), (1, 1))) + ((('Sheet1|col_2|13|8',), (1, 1)))\n",
      "formula_ast_new\n",
      "((('Sheet1|col_1|13|7',), (0, 0))) + ((('Sheet1|col_2|13|8',), (0, 0)))\n",
      "((('Sheet1|col_1|13|7',), (1, 1))) + ((('Sheet1|col_2|13|8',), (1, 1)))\n",
      "formula_ast_series\n",
      "SUM((('Sheet1|col_1|13|7', 'Sheet1|col_2|13|8', 'Sheet1|col_3|13|9'), (0, 0)))\n",
      "SUM((('Sheet1|col_1|13|7', 'Sheet1|col_2|13|8', 'Sheet1|col_3|13|9'), (1, 1)))\n",
      "formula_ast_new\n",
      "SUM((('Sheet1|col_1|13|7', 'Sheet1|col_2|13|8', 'Sheet1|col_3|13|9'), (0, 0)))\n",
      "SUM((('Sheet1|col_1|13|7', 'Sheet1|col_2|13|8', 'Sheet1|col_3|13|9'), (1, 1)))\n",
      "formula_ast_series\n",
      "(('Sheet2|horizontal_col_1|2|1',), (0, 0))\n",
      "(('Sheet2|horizontal_col_2|3|1',), (0, 0))\n",
      "formula_ast_new\n",
      "(('Sheet2|horizontal_col_1|2|1',), (0, 0))\n",
      "(('Sheet2|horizontal_col_1|2|1',), (0, 0))\n",
      "formula_ast_series\n",
      "(('Sheet2|horizontal_col_1|2|1',), (1, 1))\n",
      "(('Sheet2|horizontal_col_2|3|1',), (1, 1))\n",
      "formula_ast_new\n",
      "(('Sheet2|horizontal_col_1|2|1',), (1, 1))\n",
      "(('Sheet2|horizontal_col_1|2|1',), (1, 1))\n",
      "formula_ast_series\n",
      "((('Sheet2|horizontal_col_1|2|1',), (0, 0))) + ((('Sheet2|horizontal_col_2|3|1',), (0, 0)))\n",
      "((('Sheet2|horizontal_col_1|2|1',), (1, 1))) + ((('Sheet2|horizontal_col_2|3|1',), (1, 1)))\n",
      "formula_ast_new\n",
      "((('Sheet2|horizontal_col_1|2|1',), (0, 0))) + ((('Sheet2|horizontal_col_2|3|1',), (0, 0)))\n",
      "((('Sheet2|horizontal_col_1|2|1',), (1, 1))) + ((('Sheet2|horizontal_col_2|3|1',), (1, 1)))\n",
      "formula_ast_series\n",
      "SUM((('Sheet3|col_2|1|2',), (0, 1)))\n",
      "SUM((('Sheet3|col_2|1|2',), (0, 1)))\n",
      "formula_ast_new\n",
      "SUM((('Sheet3|col_2|1|2',), (0, 1)))\n",
      "SUM((('Sheet3|col_2|1|2',), (0, 1)))\n",
      "formula_ast_series\n",
      "SUM((('Sheet3|col_3|1|3',), (0, 1)))\n",
      "SUM((('Sheet3|col_3|1|3',), (0, 1)))\n",
      "formula_ast_new\n",
      "SUM((('Sheet3|col_3|1|3',), (0, 1)))\n",
      "SUM((('Sheet3|col_3|1|3',), (0, 1)))\n",
      "formula_ast_series\n",
      "SUM((('Sheet3|col_4|1|4',), (0, 1)))\n",
      "SUM((('Sheet3|col_4|1|4',), (0, 1)))\n",
      "formula_ast_new\n",
      "SUM((('Sheet3|col_4|1|4',), (0, 1)))\n",
      "SUM((('Sheet3|col_4|1|4',), (0, 1)))\n",
      "formula_ast_series\n",
      "((('Sheet3|col_1|1|1',), (0, 0))) * ((('Sheet3|col_2|1|2',), (0, 0)))\n",
      "((('Sheet3|col_1|1|1',), (1, 1))) * ((('Sheet3|col_2|1|2',), (1, 1)))\n",
      "formula_ast_new\n",
      "((('Sheet3|col_1|1|1',), (0, 0))) * ((('Sheet3|col_2|1|2',), (0, 0)))\n",
      "((('Sheet3|col_1|1|1',), (1, 1))) * ((('Sheet3|col_2|1|2',), (1, 1)))\n"
     ]
    }
   ],
   "source": [
    "for series in series_list:\n",
    "    formula_1 = series.formulas[0]\n",
    "    formula_1_ast = FormulaParser.parse_formula(formula_1)\n",
    "    series_implementer = SeriesImplementer(series_mapping, sheet_name = series.worksheet.sheet_name)\n",
    "    formula_1_ast_series = series_implementer.replace_range_nodes(formula_1_ast)\n",
    "\n",
    "    formula_2 = series.formulas[1]\n",
    "    formula_2_ast = FormulaParser.parse_formula(formula_2)\n",
    "    formula_2_ast_series = series_implementer.replace_range_nodes(formula_2_ast)\n",
    "\n",
    "    ast_generator = FormulaGenerator.get_ast_generator(formula_1_ast_series, formula_2_ast_series)\n",
    "    \n",
    "    formula_1_ast_new = ast_generator.get_nth_formula(n=1)\n",
    "    formula_2_ast_new = ast_generator.get_nth_formula(n=2)\n",
    "\n",
    "\n",
    "    print(\"formula_ast_series\")\n",
    "    print(formula_1_ast_series)\n",
    "    print(formula_2_ast_series)\n",
    "    print(\"formula_ast_new\")\n",
    "    print(formula_1_ast_new)\n",
    "    print(formula_2_ast_new)"
   ]
  },
  {
   "cell_type": "code",
   "execution_count": 36,
   "metadata": {},
   "outputs": [],
   "source": [
    "series_id = 'cleaning|Total Cost (inc VAT)|1|5'\n",
    "\n",
    "def get_series_from_id(series_id, series_dict):\n",
    "    series_value = None\n",
    "\n",
    "    for series in series_dict[\"cleaning\"]:\n",
    "        if series.series_id == series_id:\n",
    "            series_value = series\n",
    "            break\n",
    "\n",
    "    return series_value\n"
   ]
  },
  {
   "cell_type": "code",
   "execution_count": null,
   "metadata": {},
   "outputs": [],
   "source": []
  }
 ],
 "metadata": {
  "kernelspec": {
   "display_name": "venv",
   "language": "python",
   "name": "python3"
  },
  "language_info": {
   "codemirror_mode": {
    "name": "ipython",
    "version": 3
   },
   "file_extension": ".py",
   "mimetype": "text/x-python",
   "name": "python",
   "nbconvert_exporter": "python",
   "pygments_lexer": "ipython3",
   "version": "3.11.5"
  }
 },
 "nbformat": 4,
 "nbformat_minor": 2
}
