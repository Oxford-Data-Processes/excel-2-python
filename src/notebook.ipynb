{
 "cells": [
  {
   "cell_type": "code",
   "execution_count": 120,
   "metadata": {},
   "outputs": [],
   "source": [
    "import os\n",
    "\n",
    "from series_extraction.excel_loader import ExcelLoader\n",
    "from series_extraction.excel_validator import ExcelValidator\n",
    "from series_extraction.excel_cleaner import ExcelCleaner\n",
    "from series_extraction.table_finder import TableFinder\n",
    "from series_extraction.series_extractor import SeriesExtractor\n",
    "from series_extraction.excel_compatibility_checker import ExcelCompatibilityChecker\n",
    "from series_extraction.series_iterator import SeriesIterator\n",
    "from series_extraction.series_mapper import SeriesMapper\n",
    "\n",
    "from ast_building.formula_parser import FormulaParser\n",
    "from ast_building.series_implementer import SeriesImplementer\n",
    "\n",
    "from ast_transformation.formula_generator import FormulaGenerator"
   ]
  },
  {
   "cell_type": "code",
   "execution_count": 121,
   "metadata": {},
   "outputs": [],
   "source": [
    "current_directory = os.getcwd()\n",
    "\n",
    "parent_directory = os.path.abspath(os.path.join(current_directory, os.pardir))\n",
    "data_directory = os.path.join(parent_directory, 'data')\n",
    "\n",
    "project_name = 'test_excel_7'\n",
    "\n",
    "excel_raw_file_path = os.path.join(data_directory, \"excel_files_raw\", f\"{project_name}_raw.xlsx\")\n",
    "excel_reduced_filepath = os.path.join(data_directory, \"excel_files_reduced\", f\"{project_name}_reduced.xlsx\")"
   ]
  },
  {
   "cell_type": "code",
   "execution_count": 122,
   "metadata": {},
   "outputs": [],
   "source": [
    "excel_raw= ExcelLoader.load_file(excel_raw_file_path)\n",
    "excel_reduced = ExcelLoader.load_file(excel_reduced_filepath)"
   ]
  },
  {
   "cell_type": "code",
   "execution_count": 123,
   "metadata": {},
   "outputs": [],
   "source": [
    "is_valid = ExcelValidator.validate_excel(excel_reduced)"
   ]
  },
  {
   "cell_type": "code",
   "execution_count": 124,
   "metadata": {},
   "outputs": [],
   "source": [
    "if not is_valid:\n",
    "    raise Exception(\"Excel file is not valid\")"
   ]
  },
  {
   "cell_type": "code",
   "execution_count": 125,
   "metadata": {},
   "outputs": [],
   "source": [
    "excel_reduced_clean = ExcelCleaner.clean_excel(excel_reduced)"
   ]
  },
  {
   "cell_type": "code",
   "execution_count": 126,
   "metadata": {},
   "outputs": [],
   "source": [
    "extracted_tables, data = TableFinder.find_tables(excel_reduced_clean)"
   ]
  },
  {
   "cell_type": "code",
   "execution_count": 127,
   "metadata": {},
   "outputs": [],
   "source": [
    "series_data = SeriesExtractor.extract_table_details(extracted_tables, data)"
   ]
  },
  {
   "cell_type": "code",
   "execution_count": 128,
   "metadata": {},
   "outputs": [],
   "source": [
    "is_compatible = ExcelCompatibilityChecker.check_file(excel_raw, excel_reduced, extracted_tables)"
   ]
  },
  {
   "cell_type": "code",
   "execution_count": 129,
   "metadata": {},
   "outputs": [],
   "source": [
    "if not is_compatible:\n",
    "    raise Exception(\"Excel file is not compatible\")"
   ]
  },
  {
   "cell_type": "code",
   "execution_count": 130,
   "metadata": {},
   "outputs": [],
   "source": [
    "series_dict = SeriesExtractor.extract_series(extracted_tables=extracted_tables, data=data)"
   ]
  },
  {
   "cell_type": "code",
   "execution_count": 131,
   "metadata": {},
   "outputs": [
    {
     "data": {
      "text/plain": [
       "{'Sheet1': [Series(series_id='Sheet1|App|1|1', worksheet=Worksheet(sheet_name='Sheet1', workbook_file_path=None, worksheet=None), series_header='App', formulas=[None, None], values=['Photo Editor & Candy Camera & Grid & ScrapBook', 'Coloring book moana'], header_location=<HeaderLocation.TOP: 'top'>, series_starting_cell=Cell(column=1, row=2, coordinate='A2', value=None, value_type=None), series_length=2, series_data_type=<SeriesDataType.STR: 'str'>),\n",
       "  Series(series_id='Sheet1|Category|1|2', worksheet=Worksheet(sheet_name='Sheet1', workbook_file_path=None, worksheet=None), series_header='Category', formulas=[None, None], values=['ART_AND_DESIGN', 'ART_AND_DESIGN'], header_location=<HeaderLocation.TOP: 'top'>, series_starting_cell=Cell(column=2, row=2, coordinate='B2', value=None, value_type=None), series_length=2, series_data_type=<SeriesDataType.STR: 'str'>),\n",
       "  Series(series_id='Sheet1|Rating|1|3', worksheet=Worksheet(sheet_name='Sheet1', workbook_file_path=None, worksheet=None), series_header='Rating', formulas=[None, None], values=[4.1, 3.9], header_location=<HeaderLocation.TOP: 'top'>, series_starting_cell=Cell(column=3, row=2, coordinate='C2', value=None, value_type=None), series_length=2, series_data_type=<SeriesDataType.FLOAT: 'float'>),\n",
       "  Series(series_id='Sheet1|Reviews|1|4', worksheet=Worksheet(sheet_name='Sheet1', workbook_file_path=None, worksheet=None), series_header='Reviews', formulas=[None, None], values=[159, 967], header_location=<HeaderLocation.TOP: 'top'>, series_starting_cell=Cell(column=4, row=2, coordinate='D2', value=None, value_type=None), series_length=2, series_data_type=<SeriesDataType.INT: 'int'>),\n",
       "  Series(series_id='Sheet1|Size|1|5', worksheet=Worksheet(sheet_name='Sheet1', workbook_file_path=None, worksheet=None), series_header='Size', formulas=[None, None], values=['19M', '14M'], header_location=<HeaderLocation.TOP: 'top'>, series_starting_cell=Cell(column=5, row=2, coordinate='E2', value=None, value_type=None), series_length=2, series_data_type=<SeriesDataType.STR: 'str'>),\n",
       "  Series(series_id='Sheet1|Installs|1|6', worksheet=Worksheet(sheet_name='Sheet1', workbook_file_path=None, worksheet=None), series_header='Installs', formulas=[None, None], values=['10,000+', '500,000+'], header_location=<HeaderLocation.TOP: 'top'>, series_starting_cell=Cell(column=6, row=2, coordinate='F2', value=None, value_type=None), series_length=2, series_data_type=<SeriesDataType.STR: 'str'>),\n",
       "  Series(series_id='Sheet1|Type|1|7', worksheet=Worksheet(sheet_name='Sheet1', workbook_file_path=None, worksheet=None), series_header='Type', formulas=[None, None], values=['Free', 'Free'], header_location=<HeaderLocation.TOP: 'top'>, series_starting_cell=Cell(column=7, row=2, coordinate='G2', value=None, value_type=None), series_length=2, series_data_type=<SeriesDataType.STR: 'str'>),\n",
       "  Series(series_id='Sheet1|Price|1|8', worksheet=Worksheet(sheet_name='Sheet1', workbook_file_path=None, worksheet=None), series_header='Price', formulas=[None, None], values=[0, 0], header_location=<HeaderLocation.TOP: 'top'>, series_starting_cell=Cell(column=8, row=2, coordinate='H2', value=None, value_type=None), series_length=2, series_data_type=<SeriesDataType.INT: 'int'>),\n",
       "  Series(series_id='Sheet1|Content Rating|1|9', worksheet=Worksheet(sheet_name='Sheet1', workbook_file_path=None, worksheet=None), series_header='Content Rating', formulas=[None, None], values=['Everyone', 'Everyone'], header_location=<HeaderLocation.TOP: 'top'>, series_starting_cell=Cell(column=9, row=2, coordinate='I2', value=None, value_type=None), series_length=2, series_data_type=<SeriesDataType.STR: 'str'>),\n",
       "  Series(series_id='Sheet1|Genres|1|10', worksheet=Worksheet(sheet_name='Sheet1', workbook_file_path=None, worksheet=None), series_header='Genres', formulas=[None, None], values=['Art & Design', 'Art & Design;Pretend Play'], header_location=<HeaderLocation.TOP: 'top'>, series_starting_cell=Cell(column=10, row=2, coordinate='J2', value=None, value_type=None), series_length=2, series_data_type=<SeriesDataType.STR: 'str'>),\n",
       "  Series(series_id='Sheet1|Last Updated|1|11', worksheet=Worksheet(sheet_name='Sheet1', workbook_file_path=None, worksheet=None), series_header='Last Updated', formulas=[None, None], values=['7-Jan-18', '15-Jan-18'], header_location=<HeaderLocation.TOP: 'top'>, series_starting_cell=Cell(column=11, row=2, coordinate='K2', value=None, value_type=None), series_length=2, series_data_type=<SeriesDataType.STR: 'str'>),\n",
       "  Series(series_id='Sheet1|Current Ver|1|12', worksheet=Worksheet(sheet_name='Sheet1', workbook_file_path=None, worksheet=None), series_header='Current Ver', formulas=[None, None], values=['1.0.0', '2.0.0'], header_location=<HeaderLocation.TOP: 'top'>, series_starting_cell=Cell(column=12, row=2, coordinate='L2', value=None, value_type=None), series_length=2, series_data_type=<SeriesDataType.STR: 'str'>),\n",
       "  Series(series_id='Sheet1|Android Ver|1|13', worksheet=Worksheet(sheet_name='Sheet1', workbook_file_path=None, worksheet=None), series_header='Android Ver', formulas=[None, None], values=['4.0.3 and up', '4.0.3 and up'], header_location=<HeaderLocation.TOP: 'top'>, series_starting_cell=Cell(column=13, row=2, coordinate='M2', value=None, value_type=None), series_length=2, series_data_type=<SeriesDataType.STR: 'str'>),\n",
       "  Series(series_id='Sheet1|Sum_Size_Weight|1|14', worksheet=Worksheet(sheet_name='Sheet1', workbook_file_path=None, worksheet=None), series_header='Sum_Size_Weight', formulas=['=SUM(A2,B2)', '=SUM(A3,B3)'], values=[0, 0], header_location=<HeaderLocation.TOP: 'top'>, series_starting_cell=Cell(column=14, row=2, coordinate='N2', value=None, value_type=None), series_length=2, series_data_type=<SeriesDataType.INT: 'int'>),\n",
       "  Series(series_id='Sheet1|If_Good_Quality|1|15', worksheet=Worksheet(sheet_name='Sheet1', workbook_file_path=None, worksheet=None), series_header='If_Good_Quality', formulas=['=IF(E2=\"good\",\"Yes\",\"No\")', '=IF(E3=\"good\",\"Yes\",\"No\")'], values=['No', 'No'], header_location=<HeaderLocation.TOP: 'top'>, series_starting_cell=Cell(column=15, row=2, coordinate='O2', value=None, value_type=None), series_length=2, series_data_type=<SeriesDataType.STR: 'str'>),\n",
       "  Series(series_id='Sheet1|Count_Negative_Weight|1|16', worksheet=Worksheet(sheet_name='Sheet1', workbook_file_path=None, worksheet=None), series_header='Count_Negative_Weight', formulas=['=COUNTIF(B:B,\"<0\")', '=COUNTIF(B:B,\"<0\")'], values=[0, 0], header_location=<HeaderLocation.TOP: 'top'>, series_starting_cell=Cell(column=16, row=2, coordinate='P2', value=None, value_type=None), series_length=2, series_data_type=<SeriesDataType.INT: 'int'>),\n",
       "  Series(series_id='Sheet1|Sum_High_Acidity|1|17', worksheet=Worksheet(sheet_name='Sheet1', workbook_file_path=None, worksheet=None), series_header='Sum_High_Acidity', formulas=['=SUMIF(D:D,\">1000\")', '=SUMIF(D:D,\">1000\")'], values=[0, 0], header_location=<HeaderLocation.TOP: 'top'>, series_starting_cell=Cell(column=17, row=2, coordinate='Q2', value=None, value_type=None), series_length=2, series_data_type=<SeriesDataType.INT: 'int'>),\n",
       "  Series(series_id='Sheet1|Average_If_Ripe|1|18', worksheet=Worksheet(sheet_name='Sheet1', workbook_file_path=None, worksheet=None), series_header='Average_If_Ripe', formulas=['=AVERAGEIF(C:C,\">0\")', '=AVERAGEIF(C:C,\">0\")'], values=[4, 4], header_location=<HeaderLocation.TOP: 'top'>, series_starting_cell=Cell(column=18, row=2, coordinate='R2', value=None, value_type=None), series_length=2, series_data_type=<SeriesDataType.INT: 'int'>),\n",
       "  Series(series_id='Sheet1|If_Weight_Or_Size|1|19', worksheet=Worksheet(sheet_name='Sheet1', workbook_file_path=None, worksheet=None), series_header='If_Weight_Or_Size', formulas=['=IF(OR(A2>0,B2>0),\"Acceptable\",\"Check\")', '=IF(OR(A3>0,B3>0),\"Acceptable\",\"Check\")'], values=['Acceptable', 'Acceptable'], header_location=<HeaderLocation.TOP: 'top'>, series_starting_cell=Cell(column=19, row=2, coordinate='S2', value=None, value_type=None), series_length=2, series_data_type=<SeriesDataType.STR: 'str'>),\n",
       "  Series(series_id='Sheet1|Sorted List|1|20', worksheet=Worksheet(sheet_name='Sheet1', workbook_file_path=None, worksheet=None), series_header='Sorted List', formulas=['=_xlfn._xlws.SORT(C2:C3)', None], values=[3.9, 4.1], header_location=<HeaderLocation.TOP: 'top'>, series_starting_cell=Cell(column=20, row=2, coordinate='T2', value=None, value_type=None), series_length=2, series_data_type=<SeriesDataType.FLOAT: 'float'>),\n",
       "  Series(series_id='Sheet1|Round up Decimal|1|21', worksheet=Worksheet(sheet_name='Sheet1', workbook_file_path=None, worksheet=None), series_header='Round up Decimal', formulas=['=ROUNDUP(C2,0)', '=ROUNDUP(C3,0)'], values=[5, 4], header_location=<HeaderLocation.TOP: 'top'>, series_starting_cell=Cell(column=21, row=2, coordinate='U2', value=None, value_type=None), series_length=2, series_data_type=<SeriesDataType.INT: 'int'>),\n",
       "  Series(series_id='Sheet1|Round down Decimal|1|22', worksheet=Worksheet(sheet_name='Sheet1', workbook_file_path=None, worksheet=None), series_header='Round down Decimal', formulas=['=ROUNDDOWN(C2,0)', '=ROUNDDOWN(C3,0)'], values=[4, 3], header_location=<HeaderLocation.TOP: 'top'>, series_starting_cell=Cell(column=22, row=2, coordinate='V2', value=None, value_type=None), series_length=2, series_data_type=<SeriesDataType.INT: 'int'>),\n",
       "  Series(series_id='Sheet1|Year|1|23', worksheet=Worksheet(sheet_name='Sheet1', workbook_file_path=None, worksheet=None), series_header='Year', formulas=['=RIGHT(K2,2)+2000', '=RIGHT(K3,2)+2000'], values=[2018, 2018], header_location=<HeaderLocation.TOP: 'top'>, series_starting_cell=Cell(column=23, row=2, coordinate='W2', value=None, value_type=None), series_length=2, series_data_type=<SeriesDataType.INT: 'int'>),\n",
       "  Series(series_id='Sheet1|Month|1|24', worksheet=Worksheet(sheet_name='Sheet1', workbook_file_path=None, worksheet=None), series_header='Month', formulas=['=INDEX(_xlfn.TEXTSPLIT(K2,\"-\"),1,2)', '=INDEX(_xlfn.TEXTSPLIT(K3,\"-\"),1,2)'], values=['Jan', 'Jan'], header_location=<HeaderLocation.TOP: 'top'>, series_starting_cell=Cell(column=24, row=2, coordinate='X2', value=None, value_type=None), series_length=2, series_data_type=<SeriesDataType.STR: 'str'>),\n",
       "  Series(series_id='Sheet1|Day|1|25', worksheet=Worksheet(sheet_name='Sheet1', workbook_file_path=None, worksheet=None), series_header='Day', formulas=['=INDEX(_xlfn.TEXTSPLIT(K2,\"-\"),1,1)', '=INDEX(_xlfn.TEXTSPLIT(K3,\"-\"),1,1)'], values=['7', '15'], header_location=<HeaderLocation.TOP: 'top'>, series_starting_cell=Cell(column=25, row=2, coordinate='Y2', value=None, value_type=None), series_length=2, series_data_type=<SeriesDataType.STR: 'str'>),\n",
       "  Series(series_id='Sheet1|Month Number|1|26', worksheet=Worksheet(sheet_name='Sheet1', workbook_file_path=None, worksheet=None), series_header='Month Number', formulas=['=INDEX(months!B:B,MATCH(Sheet1!X2,months!A:A,0))', '=INDEX(months!B:B,MATCH(Sheet1!X3,months!A:A,0))'], values=[1, 1], header_location=<HeaderLocation.TOP: 'top'>, series_starting_cell=Cell(column=26, row=2, coordinate='Z2', value=None, value_type=None), series_length=2, series_data_type=<SeriesDataType.INT: 'int'>),\n",
       "  Series(series_id='Sheet1|Date|1|27', worksheet=Worksheet(sheet_name='Sheet1', workbook_file_path=None, worksheet=None), series_header='Date', formulas=['=DATE(W2,Z2,Y2)', '=DATE(W3,Z3,Y3)'], values=[43107, 43115], header_location=<HeaderLocation.TOP: 'top'>, series_starting_cell=Cell(column=27, row=2, coordinate='AA2', value=None, value_type=None), series_length=2, series_data_type=<SeriesDataType.INT: 'int'>)],\n",
       " 'months': [Series(series_id='months|Month|1|1', worksheet=Worksheet(sheet_name='months', workbook_file_path=None, worksheet=None), series_header='Month', formulas=[None, None], values=['Jan', 'Feb'], header_location=<HeaderLocation.TOP: 'top'>, series_starting_cell=Cell(column=1, row=2, coordinate='A2', value=None, value_type=None), series_length=12, series_data_type=<SeriesDataType.STR: 'str'>),\n",
       "  Series(series_id='months|Number|1|2', worksheet=Worksheet(sheet_name='months', workbook_file_path=None, worksheet=None), series_header='Number', formulas=[None, None], values=[1, 2], header_location=<HeaderLocation.TOP: 'top'>, series_starting_cell=Cell(column=2, row=2, coordinate='B2', value=None, value_type=None), series_length=12, series_data_type=<SeriesDataType.INT: 'int'>)]}"
      ]
     },
     "execution_count": 131,
     "metadata": {},
     "output_type": "execute_result"
    }
   ],
   "source": [
    "series_dict"
   ]
  },
  {
   "cell_type": "code",
   "execution_count": 132,
   "metadata": {},
   "outputs": [],
   "source": [
    "series_mapping = SeriesMapper.map_series(series_dict)"
   ]
  },
  {
   "cell_type": "code",
   "execution_count": 133,
   "metadata": {},
   "outputs": [
    {
     "data": {
      "text/plain": [
       "{Worksheet(sheet_name='Sheet1', workbook_file_path=None, worksheet=None): {Cell(column=1, row=2, coordinate=None, value=None, value_type=None): (0,\n",
       "   Series(series_id='Sheet1|App|1|1', worksheet=Worksheet(sheet_name='Sheet1', workbook_file_path=None, worksheet=None), series_header='App', formulas=[None, None], values=['Photo Editor & Candy Camera & Grid & ScrapBook', 'Coloring book moana'], header_location=<HeaderLocation.TOP: 'top'>, series_starting_cell=Cell(column=1, row=2, coordinate='A2', value=None, value_type=None), series_length=2, series_data_type=<SeriesDataType.STR: 'str'>)),\n",
       "  Cell(column=1, row=3, coordinate=None, value=None, value_type=None): (1,\n",
       "   Series(series_id='Sheet1|App|1|1', worksheet=Worksheet(sheet_name='Sheet1', workbook_file_path=None, worksheet=None), series_header='App', formulas=[None, None], values=['Photo Editor & Candy Camera & Grid & ScrapBook', 'Coloring book moana'], header_location=<HeaderLocation.TOP: 'top'>, series_starting_cell=Cell(column=1, row=2, coordinate='A2', value=None, value_type=None), series_length=2, series_data_type=<SeriesDataType.STR: 'str'>)),\n",
       "  Cell(column=2, row=2, coordinate=None, value=None, value_type=None): (0,\n",
       "   Series(series_id='Sheet1|Category|1|2', worksheet=Worksheet(sheet_name='Sheet1', workbook_file_path=None, worksheet=None), series_header='Category', formulas=[None, None], values=['ART_AND_DESIGN', 'ART_AND_DESIGN'], header_location=<HeaderLocation.TOP: 'top'>, series_starting_cell=Cell(column=2, row=2, coordinate='B2', value=None, value_type=None), series_length=2, series_data_type=<SeriesDataType.STR: 'str'>)),\n",
       "  Cell(column=2, row=3, coordinate=None, value=None, value_type=None): (1,\n",
       "   Series(series_id='Sheet1|Category|1|2', worksheet=Worksheet(sheet_name='Sheet1', workbook_file_path=None, worksheet=None), series_header='Category', formulas=[None, None], values=['ART_AND_DESIGN', 'ART_AND_DESIGN'], header_location=<HeaderLocation.TOP: 'top'>, series_starting_cell=Cell(column=2, row=2, coordinate='B2', value=None, value_type=None), series_length=2, series_data_type=<SeriesDataType.STR: 'str'>)),\n",
       "  Cell(column=3, row=2, coordinate=None, value=None, value_type=None): (0,\n",
       "   Series(series_id='Sheet1|Rating|1|3', worksheet=Worksheet(sheet_name='Sheet1', workbook_file_path=None, worksheet=None), series_header='Rating', formulas=[None, None], values=[4.1, 3.9], header_location=<HeaderLocation.TOP: 'top'>, series_starting_cell=Cell(column=3, row=2, coordinate='C2', value=None, value_type=None), series_length=2, series_data_type=<SeriesDataType.FLOAT: 'float'>)),\n",
       "  Cell(column=3, row=3, coordinate=None, value=None, value_type=None): (1,\n",
       "   Series(series_id='Sheet1|Rating|1|3', worksheet=Worksheet(sheet_name='Sheet1', workbook_file_path=None, worksheet=None), series_header='Rating', formulas=[None, None], values=[4.1, 3.9], header_location=<HeaderLocation.TOP: 'top'>, series_starting_cell=Cell(column=3, row=2, coordinate='C2', value=None, value_type=None), series_length=2, series_data_type=<SeriesDataType.FLOAT: 'float'>)),\n",
       "  Cell(column=4, row=2, coordinate=None, value=None, value_type=None): (0,\n",
       "   Series(series_id='Sheet1|Reviews|1|4', worksheet=Worksheet(sheet_name='Sheet1', workbook_file_path=None, worksheet=None), series_header='Reviews', formulas=[None, None], values=[159, 967], header_location=<HeaderLocation.TOP: 'top'>, series_starting_cell=Cell(column=4, row=2, coordinate='D2', value=None, value_type=None), series_length=2, series_data_type=<SeriesDataType.INT: 'int'>)),\n",
       "  Cell(column=4, row=3, coordinate=None, value=None, value_type=None): (1,\n",
       "   Series(series_id='Sheet1|Reviews|1|4', worksheet=Worksheet(sheet_name='Sheet1', workbook_file_path=None, worksheet=None), series_header='Reviews', formulas=[None, None], values=[159, 967], header_location=<HeaderLocation.TOP: 'top'>, series_starting_cell=Cell(column=4, row=2, coordinate='D2', value=None, value_type=None), series_length=2, series_data_type=<SeriesDataType.INT: 'int'>)),\n",
       "  Cell(column=5, row=2, coordinate=None, value=None, value_type=None): (0,\n",
       "   Series(series_id='Sheet1|Size|1|5', worksheet=Worksheet(sheet_name='Sheet1', workbook_file_path=None, worksheet=None), series_header='Size', formulas=[None, None], values=['19M', '14M'], header_location=<HeaderLocation.TOP: 'top'>, series_starting_cell=Cell(column=5, row=2, coordinate='E2', value=None, value_type=None), series_length=2, series_data_type=<SeriesDataType.STR: 'str'>)),\n",
       "  Cell(column=5, row=3, coordinate=None, value=None, value_type=None): (1,\n",
       "   Series(series_id='Sheet1|Size|1|5', worksheet=Worksheet(sheet_name='Sheet1', workbook_file_path=None, worksheet=None), series_header='Size', formulas=[None, None], values=['19M', '14M'], header_location=<HeaderLocation.TOP: 'top'>, series_starting_cell=Cell(column=5, row=2, coordinate='E2', value=None, value_type=None), series_length=2, series_data_type=<SeriesDataType.STR: 'str'>)),\n",
       "  Cell(column=6, row=2, coordinate=None, value=None, value_type=None): (0,\n",
       "   Series(series_id='Sheet1|Installs|1|6', worksheet=Worksheet(sheet_name='Sheet1', workbook_file_path=None, worksheet=None), series_header='Installs', formulas=[None, None], values=['10,000+', '500,000+'], header_location=<HeaderLocation.TOP: 'top'>, series_starting_cell=Cell(column=6, row=2, coordinate='F2', value=None, value_type=None), series_length=2, series_data_type=<SeriesDataType.STR: 'str'>)),\n",
       "  Cell(column=6, row=3, coordinate=None, value=None, value_type=None): (1,\n",
       "   Series(series_id='Sheet1|Installs|1|6', worksheet=Worksheet(sheet_name='Sheet1', workbook_file_path=None, worksheet=None), series_header='Installs', formulas=[None, None], values=['10,000+', '500,000+'], header_location=<HeaderLocation.TOP: 'top'>, series_starting_cell=Cell(column=6, row=2, coordinate='F2', value=None, value_type=None), series_length=2, series_data_type=<SeriesDataType.STR: 'str'>)),\n",
       "  Cell(column=7, row=2, coordinate=None, value=None, value_type=None): (0,\n",
       "   Series(series_id='Sheet1|Type|1|7', worksheet=Worksheet(sheet_name='Sheet1', workbook_file_path=None, worksheet=None), series_header='Type', formulas=[None, None], values=['Free', 'Free'], header_location=<HeaderLocation.TOP: 'top'>, series_starting_cell=Cell(column=7, row=2, coordinate='G2', value=None, value_type=None), series_length=2, series_data_type=<SeriesDataType.STR: 'str'>)),\n",
       "  Cell(column=7, row=3, coordinate=None, value=None, value_type=None): (1,\n",
       "   Series(series_id='Sheet1|Type|1|7', worksheet=Worksheet(sheet_name='Sheet1', workbook_file_path=None, worksheet=None), series_header='Type', formulas=[None, None], values=['Free', 'Free'], header_location=<HeaderLocation.TOP: 'top'>, series_starting_cell=Cell(column=7, row=2, coordinate='G2', value=None, value_type=None), series_length=2, series_data_type=<SeriesDataType.STR: 'str'>)),\n",
       "  Cell(column=8, row=2, coordinate=None, value=None, value_type=None): (0,\n",
       "   Series(series_id='Sheet1|Price|1|8', worksheet=Worksheet(sheet_name='Sheet1', workbook_file_path=None, worksheet=None), series_header='Price', formulas=[None, None], values=[0, 0], header_location=<HeaderLocation.TOP: 'top'>, series_starting_cell=Cell(column=8, row=2, coordinate='H2', value=None, value_type=None), series_length=2, series_data_type=<SeriesDataType.INT: 'int'>)),\n",
       "  Cell(column=8, row=3, coordinate=None, value=None, value_type=None): (1,\n",
       "   Series(series_id='Sheet1|Price|1|8', worksheet=Worksheet(sheet_name='Sheet1', workbook_file_path=None, worksheet=None), series_header='Price', formulas=[None, None], values=[0, 0], header_location=<HeaderLocation.TOP: 'top'>, series_starting_cell=Cell(column=8, row=2, coordinate='H2', value=None, value_type=None), series_length=2, series_data_type=<SeriesDataType.INT: 'int'>)),\n",
       "  Cell(column=9, row=2, coordinate=None, value=None, value_type=None): (0,\n",
       "   Series(series_id='Sheet1|Content Rating|1|9', worksheet=Worksheet(sheet_name='Sheet1', workbook_file_path=None, worksheet=None), series_header='Content Rating', formulas=[None, None], values=['Everyone', 'Everyone'], header_location=<HeaderLocation.TOP: 'top'>, series_starting_cell=Cell(column=9, row=2, coordinate='I2', value=None, value_type=None), series_length=2, series_data_type=<SeriesDataType.STR: 'str'>)),\n",
       "  Cell(column=9, row=3, coordinate=None, value=None, value_type=None): (1,\n",
       "   Series(series_id='Sheet1|Content Rating|1|9', worksheet=Worksheet(sheet_name='Sheet1', workbook_file_path=None, worksheet=None), series_header='Content Rating', formulas=[None, None], values=['Everyone', 'Everyone'], header_location=<HeaderLocation.TOP: 'top'>, series_starting_cell=Cell(column=9, row=2, coordinate='I2', value=None, value_type=None), series_length=2, series_data_type=<SeriesDataType.STR: 'str'>)),\n",
       "  Cell(column=10, row=2, coordinate=None, value=None, value_type=None): (0,\n",
       "   Series(series_id='Sheet1|Genres|1|10', worksheet=Worksheet(sheet_name='Sheet1', workbook_file_path=None, worksheet=None), series_header='Genres', formulas=[None, None], values=['Art & Design', 'Art & Design;Pretend Play'], header_location=<HeaderLocation.TOP: 'top'>, series_starting_cell=Cell(column=10, row=2, coordinate='J2', value=None, value_type=None), series_length=2, series_data_type=<SeriesDataType.STR: 'str'>)),\n",
       "  Cell(column=10, row=3, coordinate=None, value=None, value_type=None): (1,\n",
       "   Series(series_id='Sheet1|Genres|1|10', worksheet=Worksheet(sheet_name='Sheet1', workbook_file_path=None, worksheet=None), series_header='Genres', formulas=[None, None], values=['Art & Design', 'Art & Design;Pretend Play'], header_location=<HeaderLocation.TOP: 'top'>, series_starting_cell=Cell(column=10, row=2, coordinate='J2', value=None, value_type=None), series_length=2, series_data_type=<SeriesDataType.STR: 'str'>)),\n",
       "  Cell(column=11, row=2, coordinate=None, value=None, value_type=None): (0,\n",
       "   Series(series_id='Sheet1|Last Updated|1|11', worksheet=Worksheet(sheet_name='Sheet1', workbook_file_path=None, worksheet=None), series_header='Last Updated', formulas=[None, None], values=['7-Jan-18', '15-Jan-18'], header_location=<HeaderLocation.TOP: 'top'>, series_starting_cell=Cell(column=11, row=2, coordinate='K2', value=None, value_type=None), series_length=2, series_data_type=<SeriesDataType.STR: 'str'>)),\n",
       "  Cell(column=11, row=3, coordinate=None, value=None, value_type=None): (1,\n",
       "   Series(series_id='Sheet1|Last Updated|1|11', worksheet=Worksheet(sheet_name='Sheet1', workbook_file_path=None, worksheet=None), series_header='Last Updated', formulas=[None, None], values=['7-Jan-18', '15-Jan-18'], header_location=<HeaderLocation.TOP: 'top'>, series_starting_cell=Cell(column=11, row=2, coordinate='K2', value=None, value_type=None), series_length=2, series_data_type=<SeriesDataType.STR: 'str'>)),\n",
       "  Cell(column=12, row=2, coordinate=None, value=None, value_type=None): (0,\n",
       "   Series(series_id='Sheet1|Current Ver|1|12', worksheet=Worksheet(sheet_name='Sheet1', workbook_file_path=None, worksheet=None), series_header='Current Ver', formulas=[None, None], values=['1.0.0', '2.0.0'], header_location=<HeaderLocation.TOP: 'top'>, series_starting_cell=Cell(column=12, row=2, coordinate='L2', value=None, value_type=None), series_length=2, series_data_type=<SeriesDataType.STR: 'str'>)),\n",
       "  Cell(column=12, row=3, coordinate=None, value=None, value_type=None): (1,\n",
       "   Series(series_id='Sheet1|Current Ver|1|12', worksheet=Worksheet(sheet_name='Sheet1', workbook_file_path=None, worksheet=None), series_header='Current Ver', formulas=[None, None], values=['1.0.0', '2.0.0'], header_location=<HeaderLocation.TOP: 'top'>, series_starting_cell=Cell(column=12, row=2, coordinate='L2', value=None, value_type=None), series_length=2, series_data_type=<SeriesDataType.STR: 'str'>)),\n",
       "  Cell(column=13, row=2, coordinate=None, value=None, value_type=None): (0,\n",
       "   Series(series_id='Sheet1|Android Ver|1|13', worksheet=Worksheet(sheet_name='Sheet1', workbook_file_path=None, worksheet=None), series_header='Android Ver', formulas=[None, None], values=['4.0.3 and up', '4.0.3 and up'], header_location=<HeaderLocation.TOP: 'top'>, series_starting_cell=Cell(column=13, row=2, coordinate='M2', value=None, value_type=None), series_length=2, series_data_type=<SeriesDataType.STR: 'str'>)),\n",
       "  Cell(column=13, row=3, coordinate=None, value=None, value_type=None): (1,\n",
       "   Series(series_id='Sheet1|Android Ver|1|13', worksheet=Worksheet(sheet_name='Sheet1', workbook_file_path=None, worksheet=None), series_header='Android Ver', formulas=[None, None], values=['4.0.3 and up', '4.0.3 and up'], header_location=<HeaderLocation.TOP: 'top'>, series_starting_cell=Cell(column=13, row=2, coordinate='M2', value=None, value_type=None), series_length=2, series_data_type=<SeriesDataType.STR: 'str'>)),\n",
       "  Cell(column=14, row=2, coordinate=None, value=None, value_type=None): (0,\n",
       "   Series(series_id='Sheet1|Sum_Size_Weight|1|14', worksheet=Worksheet(sheet_name='Sheet1', workbook_file_path=None, worksheet=None), series_header='Sum_Size_Weight', formulas=['=SUM(A2,B2)', '=SUM(A3,B3)'], values=[0, 0], header_location=<HeaderLocation.TOP: 'top'>, series_starting_cell=Cell(column=14, row=2, coordinate='N2', value=None, value_type=None), series_length=2, series_data_type=<SeriesDataType.INT: 'int'>)),\n",
       "  Cell(column=14, row=3, coordinate=None, value=None, value_type=None): (1,\n",
       "   Series(series_id='Sheet1|Sum_Size_Weight|1|14', worksheet=Worksheet(sheet_name='Sheet1', workbook_file_path=None, worksheet=None), series_header='Sum_Size_Weight', formulas=['=SUM(A2,B2)', '=SUM(A3,B3)'], values=[0, 0], header_location=<HeaderLocation.TOP: 'top'>, series_starting_cell=Cell(column=14, row=2, coordinate='N2', value=None, value_type=None), series_length=2, series_data_type=<SeriesDataType.INT: 'int'>)),\n",
       "  Cell(column=15, row=2, coordinate=None, value=None, value_type=None): (0,\n",
       "   Series(series_id='Sheet1|If_Good_Quality|1|15', worksheet=Worksheet(sheet_name='Sheet1', workbook_file_path=None, worksheet=None), series_header='If_Good_Quality', formulas=['=IF(E2=\"good\",\"Yes\",\"No\")', '=IF(E3=\"good\",\"Yes\",\"No\")'], values=['No', 'No'], header_location=<HeaderLocation.TOP: 'top'>, series_starting_cell=Cell(column=15, row=2, coordinate='O2', value=None, value_type=None), series_length=2, series_data_type=<SeriesDataType.STR: 'str'>)),\n",
       "  Cell(column=15, row=3, coordinate=None, value=None, value_type=None): (1,\n",
       "   Series(series_id='Sheet1|If_Good_Quality|1|15', worksheet=Worksheet(sheet_name='Sheet1', workbook_file_path=None, worksheet=None), series_header='If_Good_Quality', formulas=['=IF(E2=\"good\",\"Yes\",\"No\")', '=IF(E3=\"good\",\"Yes\",\"No\")'], values=['No', 'No'], header_location=<HeaderLocation.TOP: 'top'>, series_starting_cell=Cell(column=15, row=2, coordinate='O2', value=None, value_type=None), series_length=2, series_data_type=<SeriesDataType.STR: 'str'>)),\n",
       "  Cell(column=16, row=2, coordinate=None, value=None, value_type=None): (0,\n",
       "   Series(series_id='Sheet1|Count_Negative_Weight|1|16', worksheet=Worksheet(sheet_name='Sheet1', workbook_file_path=None, worksheet=None), series_header='Count_Negative_Weight', formulas=['=COUNTIF(B:B,\"<0\")', '=COUNTIF(B:B,\"<0\")'], values=[0, 0], header_location=<HeaderLocation.TOP: 'top'>, series_starting_cell=Cell(column=16, row=2, coordinate='P2', value=None, value_type=None), series_length=2, series_data_type=<SeriesDataType.INT: 'int'>)),\n",
       "  Cell(column=16, row=3, coordinate=None, value=None, value_type=None): (1,\n",
       "   Series(series_id='Sheet1|Count_Negative_Weight|1|16', worksheet=Worksheet(sheet_name='Sheet1', workbook_file_path=None, worksheet=None), series_header='Count_Negative_Weight', formulas=['=COUNTIF(B:B,\"<0\")', '=COUNTIF(B:B,\"<0\")'], values=[0, 0], header_location=<HeaderLocation.TOP: 'top'>, series_starting_cell=Cell(column=16, row=2, coordinate='P2', value=None, value_type=None), series_length=2, series_data_type=<SeriesDataType.INT: 'int'>)),\n",
       "  Cell(column=17, row=2, coordinate=None, value=None, value_type=None): (0,\n",
       "   Series(series_id='Sheet1|Sum_High_Acidity|1|17', worksheet=Worksheet(sheet_name='Sheet1', workbook_file_path=None, worksheet=None), series_header='Sum_High_Acidity', formulas=['=SUMIF(D:D,\">1000\")', '=SUMIF(D:D,\">1000\")'], values=[0, 0], header_location=<HeaderLocation.TOP: 'top'>, series_starting_cell=Cell(column=17, row=2, coordinate='Q2', value=None, value_type=None), series_length=2, series_data_type=<SeriesDataType.INT: 'int'>)),\n",
       "  Cell(column=17, row=3, coordinate=None, value=None, value_type=None): (1,\n",
       "   Series(series_id='Sheet1|Sum_High_Acidity|1|17', worksheet=Worksheet(sheet_name='Sheet1', workbook_file_path=None, worksheet=None), series_header='Sum_High_Acidity', formulas=['=SUMIF(D:D,\">1000\")', '=SUMIF(D:D,\">1000\")'], values=[0, 0], header_location=<HeaderLocation.TOP: 'top'>, series_starting_cell=Cell(column=17, row=2, coordinate='Q2', value=None, value_type=None), series_length=2, series_data_type=<SeriesDataType.INT: 'int'>)),\n",
       "  Cell(column=18, row=2, coordinate=None, value=None, value_type=None): (0,\n",
       "   Series(series_id='Sheet1|Average_If_Ripe|1|18', worksheet=Worksheet(sheet_name='Sheet1', workbook_file_path=None, worksheet=None), series_header='Average_If_Ripe', formulas=['=AVERAGEIF(C:C,\">0\")', '=AVERAGEIF(C:C,\">0\")'], values=[4, 4], header_location=<HeaderLocation.TOP: 'top'>, series_starting_cell=Cell(column=18, row=2, coordinate='R2', value=None, value_type=None), series_length=2, series_data_type=<SeriesDataType.INT: 'int'>)),\n",
       "  Cell(column=18, row=3, coordinate=None, value=None, value_type=None): (1,\n",
       "   Series(series_id='Sheet1|Average_If_Ripe|1|18', worksheet=Worksheet(sheet_name='Sheet1', workbook_file_path=None, worksheet=None), series_header='Average_If_Ripe', formulas=['=AVERAGEIF(C:C,\">0\")', '=AVERAGEIF(C:C,\">0\")'], values=[4, 4], header_location=<HeaderLocation.TOP: 'top'>, series_starting_cell=Cell(column=18, row=2, coordinate='R2', value=None, value_type=None), series_length=2, series_data_type=<SeriesDataType.INT: 'int'>)),\n",
       "  Cell(column=19, row=2, coordinate=None, value=None, value_type=None): (0,\n",
       "   Series(series_id='Sheet1|If_Weight_Or_Size|1|19', worksheet=Worksheet(sheet_name='Sheet1', workbook_file_path=None, worksheet=None), series_header='If_Weight_Or_Size', formulas=['=IF(OR(A2>0,B2>0),\"Acceptable\",\"Check\")', '=IF(OR(A3>0,B3>0),\"Acceptable\",\"Check\")'], values=['Acceptable', 'Acceptable'], header_location=<HeaderLocation.TOP: 'top'>, series_starting_cell=Cell(column=19, row=2, coordinate='S2', value=None, value_type=None), series_length=2, series_data_type=<SeriesDataType.STR: 'str'>)),\n",
       "  Cell(column=19, row=3, coordinate=None, value=None, value_type=None): (1,\n",
       "   Series(series_id='Sheet1|If_Weight_Or_Size|1|19', worksheet=Worksheet(sheet_name='Sheet1', workbook_file_path=None, worksheet=None), series_header='If_Weight_Or_Size', formulas=['=IF(OR(A2>0,B2>0),\"Acceptable\",\"Check\")', '=IF(OR(A3>0,B3>0),\"Acceptable\",\"Check\")'], values=['Acceptable', 'Acceptable'], header_location=<HeaderLocation.TOP: 'top'>, series_starting_cell=Cell(column=19, row=2, coordinate='S2', value=None, value_type=None), series_length=2, series_data_type=<SeriesDataType.STR: 'str'>)),\n",
       "  Cell(column=20, row=2, coordinate=None, value=None, value_type=None): (0,\n",
       "   Series(series_id='Sheet1|Sorted List|1|20', worksheet=Worksheet(sheet_name='Sheet1', workbook_file_path=None, worksheet=None), series_header='Sorted List', formulas=['=_xlfn._xlws.SORT(C2:C3)', None], values=[3.9, 4.1], header_location=<HeaderLocation.TOP: 'top'>, series_starting_cell=Cell(column=20, row=2, coordinate='T2', value=None, value_type=None), series_length=2, series_data_type=<SeriesDataType.FLOAT: 'float'>)),\n",
       "  Cell(column=20, row=3, coordinate=None, value=None, value_type=None): (1,\n",
       "   Series(series_id='Sheet1|Sorted List|1|20', worksheet=Worksheet(sheet_name='Sheet1', workbook_file_path=None, worksheet=None), series_header='Sorted List', formulas=['=_xlfn._xlws.SORT(C2:C3)', None], values=[3.9, 4.1], header_location=<HeaderLocation.TOP: 'top'>, series_starting_cell=Cell(column=20, row=2, coordinate='T2', value=None, value_type=None), series_length=2, series_data_type=<SeriesDataType.FLOAT: 'float'>)),\n",
       "  Cell(column=21, row=2, coordinate=None, value=None, value_type=None): (0,\n",
       "   Series(series_id='Sheet1|Round up Decimal|1|21', worksheet=Worksheet(sheet_name='Sheet1', workbook_file_path=None, worksheet=None), series_header='Round up Decimal', formulas=['=ROUNDUP(C2,0)', '=ROUNDUP(C3,0)'], values=[5, 4], header_location=<HeaderLocation.TOP: 'top'>, series_starting_cell=Cell(column=21, row=2, coordinate='U2', value=None, value_type=None), series_length=2, series_data_type=<SeriesDataType.INT: 'int'>)),\n",
       "  Cell(column=21, row=3, coordinate=None, value=None, value_type=None): (1,\n",
       "   Series(series_id='Sheet1|Round up Decimal|1|21', worksheet=Worksheet(sheet_name='Sheet1', workbook_file_path=None, worksheet=None), series_header='Round up Decimal', formulas=['=ROUNDUP(C2,0)', '=ROUNDUP(C3,0)'], values=[5, 4], header_location=<HeaderLocation.TOP: 'top'>, series_starting_cell=Cell(column=21, row=2, coordinate='U2', value=None, value_type=None), series_length=2, series_data_type=<SeriesDataType.INT: 'int'>)),\n",
       "  Cell(column=22, row=2, coordinate=None, value=None, value_type=None): (0,\n",
       "   Series(series_id='Sheet1|Round down Decimal|1|22', worksheet=Worksheet(sheet_name='Sheet1', workbook_file_path=None, worksheet=None), series_header='Round down Decimal', formulas=['=ROUNDDOWN(C2,0)', '=ROUNDDOWN(C3,0)'], values=[4, 3], header_location=<HeaderLocation.TOP: 'top'>, series_starting_cell=Cell(column=22, row=2, coordinate='V2', value=None, value_type=None), series_length=2, series_data_type=<SeriesDataType.INT: 'int'>)),\n",
       "  Cell(column=22, row=3, coordinate=None, value=None, value_type=None): (1,\n",
       "   Series(series_id='Sheet1|Round down Decimal|1|22', worksheet=Worksheet(sheet_name='Sheet1', workbook_file_path=None, worksheet=None), series_header='Round down Decimal', formulas=['=ROUNDDOWN(C2,0)', '=ROUNDDOWN(C3,0)'], values=[4, 3], header_location=<HeaderLocation.TOP: 'top'>, series_starting_cell=Cell(column=22, row=2, coordinate='V2', value=None, value_type=None), series_length=2, series_data_type=<SeriesDataType.INT: 'int'>)),\n",
       "  Cell(column=23, row=2, coordinate=None, value=None, value_type=None): (0,\n",
       "   Series(series_id='Sheet1|Year|1|23', worksheet=Worksheet(sheet_name='Sheet1', workbook_file_path=None, worksheet=None), series_header='Year', formulas=['=RIGHT(K2,2)+2000', '=RIGHT(K3,2)+2000'], values=[2018, 2018], header_location=<HeaderLocation.TOP: 'top'>, series_starting_cell=Cell(column=23, row=2, coordinate='W2', value=None, value_type=None), series_length=2, series_data_type=<SeriesDataType.INT: 'int'>)),\n",
       "  Cell(column=23, row=3, coordinate=None, value=None, value_type=None): (1,\n",
       "   Series(series_id='Sheet1|Year|1|23', worksheet=Worksheet(sheet_name='Sheet1', workbook_file_path=None, worksheet=None), series_header='Year', formulas=['=RIGHT(K2,2)+2000', '=RIGHT(K3,2)+2000'], values=[2018, 2018], header_location=<HeaderLocation.TOP: 'top'>, series_starting_cell=Cell(column=23, row=2, coordinate='W2', value=None, value_type=None), series_length=2, series_data_type=<SeriesDataType.INT: 'int'>)),\n",
       "  Cell(column=24, row=2, coordinate=None, value=None, value_type=None): (0,\n",
       "   Series(series_id='Sheet1|Month|1|24', worksheet=Worksheet(sheet_name='Sheet1', workbook_file_path=None, worksheet=None), series_header='Month', formulas=['=INDEX(_xlfn.TEXTSPLIT(K2,\"-\"),1,2)', '=INDEX(_xlfn.TEXTSPLIT(K3,\"-\"),1,2)'], values=['Jan', 'Jan'], header_location=<HeaderLocation.TOP: 'top'>, series_starting_cell=Cell(column=24, row=2, coordinate='X2', value=None, value_type=None), series_length=2, series_data_type=<SeriesDataType.STR: 'str'>)),\n",
       "  Cell(column=24, row=3, coordinate=None, value=None, value_type=None): (1,\n",
       "   Series(series_id='Sheet1|Month|1|24', worksheet=Worksheet(sheet_name='Sheet1', workbook_file_path=None, worksheet=None), series_header='Month', formulas=['=INDEX(_xlfn.TEXTSPLIT(K2,\"-\"),1,2)', '=INDEX(_xlfn.TEXTSPLIT(K3,\"-\"),1,2)'], values=['Jan', 'Jan'], header_location=<HeaderLocation.TOP: 'top'>, series_starting_cell=Cell(column=24, row=2, coordinate='X2', value=None, value_type=None), series_length=2, series_data_type=<SeriesDataType.STR: 'str'>)),\n",
       "  Cell(column=25, row=2, coordinate=None, value=None, value_type=None): (0,\n",
       "   Series(series_id='Sheet1|Day|1|25', worksheet=Worksheet(sheet_name='Sheet1', workbook_file_path=None, worksheet=None), series_header='Day', formulas=['=INDEX(_xlfn.TEXTSPLIT(K2,\"-\"),1,1)', '=INDEX(_xlfn.TEXTSPLIT(K3,\"-\"),1,1)'], values=['7', '15'], header_location=<HeaderLocation.TOP: 'top'>, series_starting_cell=Cell(column=25, row=2, coordinate='Y2', value=None, value_type=None), series_length=2, series_data_type=<SeriesDataType.STR: 'str'>)),\n",
       "  Cell(column=25, row=3, coordinate=None, value=None, value_type=None): (1,\n",
       "   Series(series_id='Sheet1|Day|1|25', worksheet=Worksheet(sheet_name='Sheet1', workbook_file_path=None, worksheet=None), series_header='Day', formulas=['=INDEX(_xlfn.TEXTSPLIT(K2,\"-\"),1,1)', '=INDEX(_xlfn.TEXTSPLIT(K3,\"-\"),1,1)'], values=['7', '15'], header_location=<HeaderLocation.TOP: 'top'>, series_starting_cell=Cell(column=25, row=2, coordinate='Y2', value=None, value_type=None), series_length=2, series_data_type=<SeriesDataType.STR: 'str'>)),\n",
       "  Cell(column=26, row=2, coordinate=None, value=None, value_type=None): (0,\n",
       "   Series(series_id='Sheet1|Month Number|1|26', worksheet=Worksheet(sheet_name='Sheet1', workbook_file_path=None, worksheet=None), series_header='Month Number', formulas=['=INDEX(months!B:B,MATCH(Sheet1!X2,months!A:A,0))', '=INDEX(months!B:B,MATCH(Sheet1!X3,months!A:A,0))'], values=[1, 1], header_location=<HeaderLocation.TOP: 'top'>, series_starting_cell=Cell(column=26, row=2, coordinate='Z2', value=None, value_type=None), series_length=2, series_data_type=<SeriesDataType.INT: 'int'>)),\n",
       "  Cell(column=26, row=3, coordinate=None, value=None, value_type=None): (1,\n",
       "   Series(series_id='Sheet1|Month Number|1|26', worksheet=Worksheet(sheet_name='Sheet1', workbook_file_path=None, worksheet=None), series_header='Month Number', formulas=['=INDEX(months!B:B,MATCH(Sheet1!X2,months!A:A,0))', '=INDEX(months!B:B,MATCH(Sheet1!X3,months!A:A,0))'], values=[1, 1], header_location=<HeaderLocation.TOP: 'top'>, series_starting_cell=Cell(column=26, row=2, coordinate='Z2', value=None, value_type=None), series_length=2, series_data_type=<SeriesDataType.INT: 'int'>)),\n",
       "  Cell(column=27, row=2, coordinate=None, value=None, value_type=None): (0,\n",
       "   Series(series_id='Sheet1|Date|1|27', worksheet=Worksheet(sheet_name='Sheet1', workbook_file_path=None, worksheet=None), series_header='Date', formulas=['=DATE(W2,Z2,Y2)', '=DATE(W3,Z3,Y3)'], values=[43107, 43115], header_location=<HeaderLocation.TOP: 'top'>, series_starting_cell=Cell(column=27, row=2, coordinate='AA2', value=None, value_type=None), series_length=2, series_data_type=<SeriesDataType.INT: 'int'>)),\n",
       "  Cell(column=27, row=3, coordinate=None, value=None, value_type=None): (1,\n",
       "   Series(series_id='Sheet1|Date|1|27', worksheet=Worksheet(sheet_name='Sheet1', workbook_file_path=None, worksheet=None), series_header='Date', formulas=['=DATE(W2,Z2,Y2)', '=DATE(W3,Z3,Y3)'], values=[43107, 43115], header_location=<HeaderLocation.TOP: 'top'>, series_starting_cell=Cell(column=27, row=2, coordinate='AA2', value=None, value_type=None), series_length=2, series_data_type=<SeriesDataType.INT: 'int'>))},\n",
       " Worksheet(sheet_name='months', workbook_file_path=None, worksheet=None): {Cell(column=1, row=2, coordinate=None, value=None, value_type=None): (0,\n",
       "   Series(series_id='months|Month|1|1', worksheet=Worksheet(sheet_name='months', workbook_file_path=None, worksheet=None), series_header='Month', formulas=[None, None], values=['Jan', 'Feb'], header_location=<HeaderLocation.TOP: 'top'>, series_starting_cell=Cell(column=1, row=2, coordinate='A2', value=None, value_type=None), series_length=12, series_data_type=<SeriesDataType.STR: 'str'>)),\n",
       "  Cell(column=1, row=3, coordinate=None, value=None, value_type=None): (1,\n",
       "   Series(series_id='months|Month|1|1', worksheet=Worksheet(sheet_name='months', workbook_file_path=None, worksheet=None), series_header='Month', formulas=[None, None], values=['Jan', 'Feb'], header_location=<HeaderLocation.TOP: 'top'>, series_starting_cell=Cell(column=1, row=2, coordinate='A2', value=None, value_type=None), series_length=12, series_data_type=<SeriesDataType.STR: 'str'>)),\n",
       "  Cell(column=1, row=4, coordinate=None, value=None, value_type=None): (2,\n",
       "   Series(series_id='months|Month|1|1', worksheet=Worksheet(sheet_name='months', workbook_file_path=None, worksheet=None), series_header='Month', formulas=[None, None], values=['Jan', 'Feb'], header_location=<HeaderLocation.TOP: 'top'>, series_starting_cell=Cell(column=1, row=2, coordinate='A2', value=None, value_type=None), series_length=12, series_data_type=<SeriesDataType.STR: 'str'>)),\n",
       "  Cell(column=1, row=5, coordinate=None, value=None, value_type=None): (3,\n",
       "   Series(series_id='months|Month|1|1', worksheet=Worksheet(sheet_name='months', workbook_file_path=None, worksheet=None), series_header='Month', formulas=[None, None], values=['Jan', 'Feb'], header_location=<HeaderLocation.TOP: 'top'>, series_starting_cell=Cell(column=1, row=2, coordinate='A2', value=None, value_type=None), series_length=12, series_data_type=<SeriesDataType.STR: 'str'>)),\n",
       "  Cell(column=1, row=6, coordinate=None, value=None, value_type=None): (4,\n",
       "   Series(series_id='months|Month|1|1', worksheet=Worksheet(sheet_name='months', workbook_file_path=None, worksheet=None), series_header='Month', formulas=[None, None], values=['Jan', 'Feb'], header_location=<HeaderLocation.TOP: 'top'>, series_starting_cell=Cell(column=1, row=2, coordinate='A2', value=None, value_type=None), series_length=12, series_data_type=<SeriesDataType.STR: 'str'>)),\n",
       "  Cell(column=1, row=7, coordinate=None, value=None, value_type=None): (5,\n",
       "   Series(series_id='months|Month|1|1', worksheet=Worksheet(sheet_name='months', workbook_file_path=None, worksheet=None), series_header='Month', formulas=[None, None], values=['Jan', 'Feb'], header_location=<HeaderLocation.TOP: 'top'>, series_starting_cell=Cell(column=1, row=2, coordinate='A2', value=None, value_type=None), series_length=12, series_data_type=<SeriesDataType.STR: 'str'>)),\n",
       "  Cell(column=1, row=8, coordinate=None, value=None, value_type=None): (6,\n",
       "   Series(series_id='months|Month|1|1', worksheet=Worksheet(sheet_name='months', workbook_file_path=None, worksheet=None), series_header='Month', formulas=[None, None], values=['Jan', 'Feb'], header_location=<HeaderLocation.TOP: 'top'>, series_starting_cell=Cell(column=1, row=2, coordinate='A2', value=None, value_type=None), series_length=12, series_data_type=<SeriesDataType.STR: 'str'>)),\n",
       "  Cell(column=1, row=9, coordinate=None, value=None, value_type=None): (7,\n",
       "   Series(series_id='months|Month|1|1', worksheet=Worksheet(sheet_name='months', workbook_file_path=None, worksheet=None), series_header='Month', formulas=[None, None], values=['Jan', 'Feb'], header_location=<HeaderLocation.TOP: 'top'>, series_starting_cell=Cell(column=1, row=2, coordinate='A2', value=None, value_type=None), series_length=12, series_data_type=<SeriesDataType.STR: 'str'>)),\n",
       "  Cell(column=1, row=10, coordinate=None, value=None, value_type=None): (8,\n",
       "   Series(series_id='months|Month|1|1', worksheet=Worksheet(sheet_name='months', workbook_file_path=None, worksheet=None), series_header='Month', formulas=[None, None], values=['Jan', 'Feb'], header_location=<HeaderLocation.TOP: 'top'>, series_starting_cell=Cell(column=1, row=2, coordinate='A2', value=None, value_type=None), series_length=12, series_data_type=<SeriesDataType.STR: 'str'>)),\n",
       "  Cell(column=1, row=11, coordinate=None, value=None, value_type=None): (9,\n",
       "   Series(series_id='months|Month|1|1', worksheet=Worksheet(sheet_name='months', workbook_file_path=None, worksheet=None), series_header='Month', formulas=[None, None], values=['Jan', 'Feb'], header_location=<HeaderLocation.TOP: 'top'>, series_starting_cell=Cell(column=1, row=2, coordinate='A2', value=None, value_type=None), series_length=12, series_data_type=<SeriesDataType.STR: 'str'>)),\n",
       "  Cell(column=1, row=12, coordinate=None, value=None, value_type=None): (10,\n",
       "   Series(series_id='months|Month|1|1', worksheet=Worksheet(sheet_name='months', workbook_file_path=None, worksheet=None), series_header='Month', formulas=[None, None], values=['Jan', 'Feb'], header_location=<HeaderLocation.TOP: 'top'>, series_starting_cell=Cell(column=1, row=2, coordinate='A2', value=None, value_type=None), series_length=12, series_data_type=<SeriesDataType.STR: 'str'>)),\n",
       "  Cell(column=1, row=13, coordinate=None, value=None, value_type=None): (11,\n",
       "   Series(series_id='months|Month|1|1', worksheet=Worksheet(sheet_name='months', workbook_file_path=None, worksheet=None), series_header='Month', formulas=[None, None], values=['Jan', 'Feb'], header_location=<HeaderLocation.TOP: 'top'>, series_starting_cell=Cell(column=1, row=2, coordinate='A2', value=None, value_type=None), series_length=12, series_data_type=<SeriesDataType.STR: 'str'>)),\n",
       "  Cell(column=2, row=2, coordinate=None, value=None, value_type=None): (0,\n",
       "   Series(series_id='months|Number|1|2', worksheet=Worksheet(sheet_name='months', workbook_file_path=None, worksheet=None), series_header='Number', formulas=[None, None], values=[1, 2], header_location=<HeaderLocation.TOP: 'top'>, series_starting_cell=Cell(column=2, row=2, coordinate='B2', value=None, value_type=None), series_length=12, series_data_type=<SeriesDataType.INT: 'int'>)),\n",
       "  Cell(column=2, row=3, coordinate=None, value=None, value_type=None): (1,\n",
       "   Series(series_id='months|Number|1|2', worksheet=Worksheet(sheet_name='months', workbook_file_path=None, worksheet=None), series_header='Number', formulas=[None, None], values=[1, 2], header_location=<HeaderLocation.TOP: 'top'>, series_starting_cell=Cell(column=2, row=2, coordinate='B2', value=None, value_type=None), series_length=12, series_data_type=<SeriesDataType.INT: 'int'>)),\n",
       "  Cell(column=2, row=4, coordinate=None, value=None, value_type=None): (2,\n",
       "   Series(series_id='months|Number|1|2', worksheet=Worksheet(sheet_name='months', workbook_file_path=None, worksheet=None), series_header='Number', formulas=[None, None], values=[1, 2], header_location=<HeaderLocation.TOP: 'top'>, series_starting_cell=Cell(column=2, row=2, coordinate='B2', value=None, value_type=None), series_length=12, series_data_type=<SeriesDataType.INT: 'int'>)),\n",
       "  Cell(column=2, row=5, coordinate=None, value=None, value_type=None): (3,\n",
       "   Series(series_id='months|Number|1|2', worksheet=Worksheet(sheet_name='months', workbook_file_path=None, worksheet=None), series_header='Number', formulas=[None, None], values=[1, 2], header_location=<HeaderLocation.TOP: 'top'>, series_starting_cell=Cell(column=2, row=2, coordinate='B2', value=None, value_type=None), series_length=12, series_data_type=<SeriesDataType.INT: 'int'>)),\n",
       "  Cell(column=2, row=6, coordinate=None, value=None, value_type=None): (4,\n",
       "   Series(series_id='months|Number|1|2', worksheet=Worksheet(sheet_name='months', workbook_file_path=None, worksheet=None), series_header='Number', formulas=[None, None], values=[1, 2], header_location=<HeaderLocation.TOP: 'top'>, series_starting_cell=Cell(column=2, row=2, coordinate='B2', value=None, value_type=None), series_length=12, series_data_type=<SeriesDataType.INT: 'int'>)),\n",
       "  Cell(column=2, row=7, coordinate=None, value=None, value_type=None): (5,\n",
       "   Series(series_id='months|Number|1|2', worksheet=Worksheet(sheet_name='months', workbook_file_path=None, worksheet=None), series_header='Number', formulas=[None, None], values=[1, 2], header_location=<HeaderLocation.TOP: 'top'>, series_starting_cell=Cell(column=2, row=2, coordinate='B2', value=None, value_type=None), series_length=12, series_data_type=<SeriesDataType.INT: 'int'>)),\n",
       "  Cell(column=2, row=8, coordinate=None, value=None, value_type=None): (6,\n",
       "   Series(series_id='months|Number|1|2', worksheet=Worksheet(sheet_name='months', workbook_file_path=None, worksheet=None), series_header='Number', formulas=[None, None], values=[1, 2], header_location=<HeaderLocation.TOP: 'top'>, series_starting_cell=Cell(column=2, row=2, coordinate='B2', value=None, value_type=None), series_length=12, series_data_type=<SeriesDataType.INT: 'int'>)),\n",
       "  Cell(column=2, row=9, coordinate=None, value=None, value_type=None): (7,\n",
       "   Series(series_id='months|Number|1|2', worksheet=Worksheet(sheet_name='months', workbook_file_path=None, worksheet=None), series_header='Number', formulas=[None, None], values=[1, 2], header_location=<HeaderLocation.TOP: 'top'>, series_starting_cell=Cell(column=2, row=2, coordinate='B2', value=None, value_type=None), series_length=12, series_data_type=<SeriesDataType.INT: 'int'>)),\n",
       "  Cell(column=2, row=10, coordinate=None, value=None, value_type=None): (8,\n",
       "   Series(series_id='months|Number|1|2', worksheet=Worksheet(sheet_name='months', workbook_file_path=None, worksheet=None), series_header='Number', formulas=[None, None], values=[1, 2], header_location=<HeaderLocation.TOP: 'top'>, series_starting_cell=Cell(column=2, row=2, coordinate='B2', value=None, value_type=None), series_length=12, series_data_type=<SeriesDataType.INT: 'int'>)),\n",
       "  Cell(column=2, row=11, coordinate=None, value=None, value_type=None): (9,\n",
       "   Series(series_id='months|Number|1|2', worksheet=Worksheet(sheet_name='months', workbook_file_path=None, worksheet=None), series_header='Number', formulas=[None, None], values=[1, 2], header_location=<HeaderLocation.TOP: 'top'>, series_starting_cell=Cell(column=2, row=2, coordinate='B2', value=None, value_type=None), series_length=12, series_data_type=<SeriesDataType.INT: 'int'>)),\n",
       "  Cell(column=2, row=12, coordinate=None, value=None, value_type=None): (10,\n",
       "   Series(series_id='months|Number|1|2', worksheet=Worksheet(sheet_name='months', workbook_file_path=None, worksheet=None), series_header='Number', formulas=[None, None], values=[1, 2], header_location=<HeaderLocation.TOP: 'top'>, series_starting_cell=Cell(column=2, row=2, coordinate='B2', value=None, value_type=None), series_length=12, series_data_type=<SeriesDataType.INT: 'int'>)),\n",
       "  Cell(column=2, row=13, coordinate=None, value=None, value_type=None): (11,\n",
       "   Series(series_id='months|Number|1|2', worksheet=Worksheet(sheet_name='months', workbook_file_path=None, worksheet=None), series_header='Number', formulas=[None, None], values=[1, 2], header_location=<HeaderLocation.TOP: 'top'>, series_starting_cell=Cell(column=2, row=2, coordinate='B2', value=None, value_type=None), series_length=12, series_data_type=<SeriesDataType.INT: 'int'>))}}"
      ]
     },
     "execution_count": 133,
     "metadata": {},
     "output_type": "execute_result"
    }
   ],
   "source": [
    "series_mapping"
   ]
  },
  {
   "cell_type": "code",
   "execution_count": 134,
   "metadata": {},
   "outputs": [],
   "source": [
    "series_iterator = SeriesIterator.iterate_series(series_dict)"
   ]
  },
  {
   "cell_type": "code",
   "execution_count": 135,
   "metadata": {},
   "outputs": [],
   "source": [
    "series_list = [series for series in series_iterator if series.formulas != [None, None]]"
   ]
  },
  {
   "cell_type": "markdown",
   "metadata": {},
   "source": [
    "Series Id can be concatenation of sheet_name, header_name, header_column_index, header_row_index"
   ]
  },
  {
   "cell_type": "code",
   "execution_count": 136,
   "metadata": {},
   "outputs": [
    {
     "name": "stdout",
     "output_type": "stream",
     "text": [
      "=SUM(A2,B2)\n",
      "=SUM(A3,B3)\n",
      "node and length\n",
      "(('Sheet1|App|1|1',), (0, 0))\n",
      "2\n",
      "node and length\n",
      "(('Sheet1|Category|1|2',), (0, 0))\n",
      "2\n",
      "SUM(('Sheet1|App|1|1',), (1, 1, 0, 0), 0, ('Sheet1|Category|1|2',), (1, 1, 0, 0), 0)\n",
      "=IF(E2=\"good\",\"Yes\",\"No\")\n",
      "=IF(E3=\"good\",\"Yes\",\"No\")\n",
      "node and length\n",
      "(('Sheet1|Size|1|5',), (0, 0))\n",
      "2\n",
      "IF((('Sheet1|Size|1|5',), (1, 1, 0, 0), 0 = \"good\"), \"Yes\", \"No\")\n",
      "=COUNTIF(B:B,\"<0\")\n",
      "=COUNTIF(B:B,\"<0\")\n",
      "COUNTIF((('Sheet1|Category|1|2',), (None, None)), \"<0\")\n",
      "=SUMIF(D:D,\">1000\")\n",
      "=SUMIF(D:D,\">1000\")\n",
      "SUMIF((('Sheet1|Reviews|1|4',), (None, None)), \">1000\")\n",
      "=AVERAGEIF(C:C,\">0\")\n",
      "=AVERAGEIF(C:C,\">0\")\n",
      "AVERAGEIF((('Sheet1|Rating|1|3',), (None, None)), \">0\")\n",
      "=IF(OR(A2>0,B2>0),\"Acceptable\",\"Check\")\n",
      "=IF(OR(A3>0,B3>0),\"Acceptable\",\"Check\")\n",
      "node and length\n",
      "(('Sheet1|App|1|1',), (0, 0))\n",
      "2\n",
      "node and length\n",
      "(('Sheet1|Category|1|2',), (0, 0))\n",
      "2\n",
      "IF(OR((('Sheet1|App|1|1',), (1, 1, 0, 0), 0 > 0), (('Sheet1|Category|1|2',), (1, 1, 0, 0), 0 > 0)), \"Acceptable\", \"Check\")\n"
     ]
    },
    {
     "ename": "AttributeError",
     "evalue": "'NoneType' object has no attribute 'startswith'",
     "output_type": "error",
     "traceback": [
      "\u001b[0;31m---------------------------------------------------------------------------\u001b[0m",
      "\u001b[0;31mAttributeError\u001b[0m                            Traceback (most recent call last)",
      "Cell \u001b[0;32mIn[136], line 8\u001b[0m\n\u001b[1;32m      5\u001b[0m formula_1_ast_series \u001b[38;5;241m=\u001b[39m series_implementer\u001b[38;5;241m.\u001b[39mreplace_range_nodes(formula_1_ast)\n\u001b[1;32m      7\u001b[0m formula_2 \u001b[38;5;241m=\u001b[39m series\u001b[38;5;241m.\u001b[39mformulas[\u001b[38;5;241m1\u001b[39m]\n\u001b[0;32m----> 8\u001b[0m formula_2_ast \u001b[38;5;241m=\u001b[39m \u001b[43mFormulaParser\u001b[49m\u001b[38;5;241;43m.\u001b[39;49m\u001b[43mparse_formula\u001b[49m\u001b[43m(\u001b[49m\u001b[43mformula_2\u001b[49m\u001b[43m)\u001b[49m\n\u001b[1;32m      9\u001b[0m formula_2_ast_series \u001b[38;5;241m=\u001b[39m series_implementer\u001b[38;5;241m.\u001b[39mreplace_range_nodes(formula_2_ast)\n\u001b[1;32m     12\u001b[0m \u001b[38;5;28mprint\u001b[39m(formula_1)\n",
      "File \u001b[0;32m~/GitHub/speedsheet/excel-2-python/src/ast_building/formula_parser.py:9\u001b[0m, in \u001b[0;36mFormulaParser.parse_formula\u001b[0;34m(formula)\u001b[0m\n\u001b[1;32m      6\u001b[0m \u001b[38;5;129m@staticmethod\u001b[39m\n\u001b[1;32m      7\u001b[0m \u001b[38;5;28;01mdef\u001b[39;00m \u001b[38;5;21mparse_formula\u001b[39m(formula: \u001b[38;5;28mstr\u001b[39m) \u001b[38;5;241m-\u001b[39m\u001b[38;5;241m>\u001b[39m xlcalculator\u001b[38;5;241m.\u001b[39mast_nodes\u001b[38;5;241m.\u001b[39mASTNode:\n\u001b[1;32m      8\u001b[0m     parser \u001b[38;5;241m=\u001b[39m xlcalculator\u001b[38;5;241m.\u001b[39mparser\u001b[38;5;241m.\u001b[39mFormulaParser()\n\u001b[0;32m----> 9\u001b[0m     ast \u001b[38;5;241m=\u001b[39m \u001b[43mparser\u001b[49m\u001b[38;5;241;43m.\u001b[39;49m\u001b[43mparse\u001b[49m\u001b[43m(\u001b[49m\u001b[43mformula\u001b[49m\u001b[38;5;241;43m=\u001b[39;49m\u001b[43mformula\u001b[49m\u001b[43m,\u001b[49m\u001b[43m \u001b[49m\u001b[43mnamed_ranges\u001b[49m\u001b[38;5;241;43m=\u001b[39;49m\u001b[43m{\u001b[49m\u001b[43m}\u001b[49m\u001b[43m)\u001b[49m\n\u001b[1;32m     10\u001b[0m     \u001b[38;5;28;01mreturn\u001b[39;00m ast\n",
      "File \u001b[0;32m~/GitHub/speedsheet/excel-2-python/venv/lib/python3.11/site-packages/xlcalculator/parser.py:43\u001b[0m, in \u001b[0;36mFormulaParser.parse\u001b[0;34m(self, formula, named_ranges, tokenize_range)\u001b[0m\n\u001b[1;32m     40\u001b[0m \u001b[38;5;250m\u001b[39m\u001b[38;5;124;03m\"\"\"Parse formula into evaluable AST.\u001b[39;00m\n\u001b[1;32m     41\u001b[0m \u001b[38;5;124;03m\"\"\"\u001b[39;00m\n\u001b[1;32m     42\u001b[0m \u001b[38;5;66;03m# 1. Parse the formula into syntactic tokens.\u001b[39;00m\n\u001b[0;32m---> 43\u001b[0m tokens \u001b[38;5;241m=\u001b[39m \u001b[38;5;28;43mself\u001b[39;49m\u001b[38;5;241;43m.\u001b[39;49m\u001b[43mtokenize\u001b[49m\u001b[43m(\u001b[49m\u001b[43mformula\u001b[49m\u001b[43m)\u001b[49m\n\u001b[1;32m     44\u001b[0m \u001b[38;5;66;03m# 2. Organize tokens into reverse polish notation.\u001b[39;00m\n\u001b[1;32m     45\u001b[0m nodes \u001b[38;5;241m=\u001b[39m \u001b[38;5;28mself\u001b[39m\u001b[38;5;241m.\u001b[39mshunting_yard(tokens, named_ranges)\n",
      "File \u001b[0;32m~/GitHub/speedsheet/excel-2-python/venv/lib/python3.11/site-packages/xlcalculator/parser.py:52\u001b[0m, in \u001b[0;36mFormulaParser.tokenize\u001b[0;34m(self, formula, tokenize_range)\u001b[0m\n\u001b[1;32m     50\u001b[0m \u001b[38;5;28;01mdef\u001b[39;00m \u001b[38;5;21mtokenize\u001b[39m(\u001b[38;5;28mself\u001b[39m, formula, tokenize_range\u001b[38;5;241m=\u001b[39m\u001b[38;5;28;01mFalse\u001b[39;00m):\n\u001b[1;32m     51\u001b[0m     \u001b[38;5;66;03m# Remove leading \"=\" sign.\u001b[39;00m\n\u001b[0;32m---> 52\u001b[0m     \u001b[38;5;28;01mif\u001b[39;00m \u001b[43mformula\u001b[49m\u001b[38;5;241;43m.\u001b[39;49m\u001b[43mstartswith\u001b[49m(\u001b[38;5;124m'\u001b[39m\u001b[38;5;124m=\u001b[39m\u001b[38;5;124m'\u001b[39m):\n\u001b[1;32m     53\u001b[0m         formula \u001b[38;5;241m=\u001b[39m formula[\u001b[38;5;241m1\u001b[39m:]\n\u001b[1;32m     55\u001b[0m     excel_parser \u001b[38;5;241m=\u001b[39m tokenizer\u001b[38;5;241m.\u001b[39mExcelParser(tokenize_range\u001b[38;5;241m=\u001b[39mtokenize_range)\n",
      "\u001b[0;31mAttributeError\u001b[0m: 'NoneType' object has no attribute 'startswith'"
     ]
    }
   ],
   "source": [
    "for series in series_list:\n",
    "    formula_1 = series.formulas[0]\n",
    "    formula_1_ast = FormulaParser.parse_formula(formula_1)\n",
    "    series_implementer = SeriesImplementer(series_mapping, sheet_name = series.worksheet.sheet_name)\n",
    "    formula_1_ast_series = series_implementer.replace_range_nodes(formula_1_ast)\n",
    "\n",
    "    formula_2 = series.formulas[1]\n",
    "    formula_2_ast = FormulaParser.parse_formula(formula_2)\n",
    "    formula_2_ast_series = series_implementer.replace_range_nodes(formula_2_ast)\n",
    "\n",
    "\n",
    "    print(formula_1)\n",
    "    print(formula_2)\n",
    "\n",
    "    ast_generator = FormulaGenerator.get_ast_generator(formula_1_ast_series, formula_2_ast_series)\n",
    "    \n",
    "    ast_delta = ast_generator.get_ast_with_deltas()\n",
    "    ast_delta_serialised = SeriesImplementer.serialise_ast_to_formula(ast_delta)\n",
    "    print(ast_delta_serialised)\n",
    "    "
   ]
  },
  {
   "cell_type": "code",
   "execution_count": null,
   "metadata": {},
   "outputs": [],
   "source": []
  }
 ],
 "metadata": {
  "kernelspec": {
   "display_name": "venv",
   "language": "python",
   "name": "python3"
  },
  "language_info": {
   "codemirror_mode": {
    "name": "ipython",
    "version": 3
   },
   "file_extension": ".py",
   "mimetype": "text/x-python",
   "name": "python",
   "nbconvert_exporter": "python",
   "pygments_lexer": "ipython3",
   "version": "3.11.5"
  }
 },
 "nbformat": 4,
 "nbformat_minor": 2
}
